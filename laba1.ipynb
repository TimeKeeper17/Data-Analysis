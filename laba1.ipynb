{
 "cells": [
  {
   "cell_type": "code",
   "execution_count": 9,
   "metadata": {
    "collapsed": true,
    "pycharm": {
     "name": "#%%\n"
    }
   },
   "outputs": [],
   "source": [
    "from urllib.request import urlopen\n",
    "from urllib.parse import urlparse, urldefrag, urljoin\n",
    "from bs4 import BeautifulSoup\n",
    "import requests\n",
    "import pandas as pd\n",
    "import re\n",
    "import json"
   ]
  },
  {
   "cell_type": "code",
   "execution_count": 10,
   "outputs": [
    {
     "name": "stderr",
     "output_type": "stream",
     "text": [
      "C:\\Users\\Василий\\PycharmProjects\\pythonProject5\\venv\\lib\\site-packages\\openpyxl\\styles\\stylesheet.py:237: UserWarning: Workbook contains no default style, apply openpyxl's default\n",
      "  warn(\"Workbook contains no default style, apply openpyxl's default\")\n"
     ]
    }
   ],
   "source": [
    "data = pd.read_excel('rsmp_24.07.2025.xlsx', header=2)"
   ],
   "metadata": {
    "collapsed": false,
    "pycharm": {
     "name": "#%%\n"
    }
   }
  },
  {
   "cell_type": "code",
   "execution_count": 11,
   "outputs": [
    {
     "data": {
      "text/plain": "   № п/п                                 Наименование / ФИО      Тип субъекта  \\\n0      1  \"КОРПОРАЦИЯ ВИТ\" (ОБЩЕСТВО С ОГРАНИЧЕННОЙ ОТВЕ...  Юридическое лицо   \n1      2  \"ЛАВИНА\" ОБЩЕСТВО С ОГРАНИЧЕННОЙ ОТВЕТСТВЕННОСТЬЮ  Юридическое лицо   \n2      3  \"САНТОЛ\" ОБЩЕСТВО С ОГРАНИЧЕННОЙ ОТВЕТСТВЕННОСТЬЮ  Юридическое лицо   \n3      4  \"ХОЗРАСЧЕТНАЯ СТРОИТЕЛЬНО-ТЕХНОЛОГИЧЕСКАЯ ФИРМ...  Юридическое лицо   \n4      5      АКЦИОНЕРНОЕ ОБЩЕСТВО \"2МЕН ГРУПП ДЕВЕЛОПМЕНТ\"  Юридическое лицо   \n\n             Категория           ОГРН         ИНН  \\\n0    Малое предприятие  1025004907080  5038038838   \n1    Малое предприятие  1035010952624  5027064258   \n2    Малое предприятие  1025204409152  5263038483   \n3  Среднее предприятие  1025007270551  5027006369   \n4    Малое предприятие  1067746424899  7701651356   \n\n                    Основной вид деятельности                      Регион  \\\n0  41.20 Строительство жилых и нежилых зданий     50 - Московская область   \n1   41.2 Строительство жилых и нежилых зданий     50 - Московская область   \n2  41.20 Строительство жилых и нежилых зданий  52 - Нижегородская область   \n3  41.20 Строительство жилых и нежилых зданий     50 - Московская область   \n4   41.2 Строительство жилых и нежилых зданий      72 - Тюменская область   \n\n       Район              Город  ... Дата включения в реестр  \\\n0  Пушкино г                NaN  ...              01.08.2016   \n1  Люберцы г                NaN  ...              01.08.2016   \n2        NaN  г Нижний Новгород  ...              10.07.2024   \n3  Люберцы г     г. Дзержинский  ...              01.08.2016   \n4        NaN           г Тюмень  ...              10.08.2017   \n\n  Дата исключения из реестра Телефон  E-mail  WWW Наличие лицензий  \\\n0                        NaN     NaN     NaN  NaN              Нет   \n1                        NaN     NaN     NaN  NaN               Да   \n2                        NaN     NaN     NaN  NaN              Нет   \n3                        NaN     NaN     NaN  NaN               Да   \n4                        NaN     NaN     NaN  NaN               Да   \n\n  Производство инновационной, высокотехнологичной продукции  \\\n0                                                Нет          \n1                                                Нет          \n2                                                Нет          \n3                                                Нет          \n4                                                Нет          \n\n  Участие в программах партнерства Является социальным предприятием  \\\n0                              Нет                              Нет   \n1                              Нет                              Нет   \n2                              Нет                              Нет   \n3                              Нет                              Нет   \n4                              Нет                              Нет   \n\n  Среднесписочная численность работников за предшествующий календарный год  \n0                                               30.0                        \n1                                               40.0                        \n2                                                2.0                        \n3                                              128.0                        \n4                                               14.0                        \n\n[5 rows x 22 columns]",
      "text/html": "<div>\n<style scoped>\n    .dataframe tbody tr th:only-of-type {\n        vertical-align: middle;\n    }\n\n    .dataframe tbody tr th {\n        vertical-align: top;\n    }\n\n    .dataframe thead th {\n        text-align: right;\n    }\n</style>\n<table border=\"1\" class=\"dataframe\">\n  <thead>\n    <tr style=\"text-align: right;\">\n      <th></th>\n      <th>№ п/п</th>\n      <th>Наименование / ФИО</th>\n      <th>Тип субъекта</th>\n      <th>Категория</th>\n      <th>ОГРН</th>\n      <th>ИНН</th>\n      <th>Основной вид деятельности</th>\n      <th>Регион</th>\n      <th>Район</th>\n      <th>Город</th>\n      <th>...</th>\n      <th>Дата включения в реестр</th>\n      <th>Дата исключения из реестра</th>\n      <th>Телефон</th>\n      <th>E-mail</th>\n      <th>WWW</th>\n      <th>Наличие лицензий</th>\n      <th>Производство инновационной, высокотехнологичной продукции</th>\n      <th>Участие в программах партнерства</th>\n      <th>Является социальным предприятием</th>\n      <th>Среднесписочная численность работников за предшествующий календарный год</th>\n    </tr>\n  </thead>\n  <tbody>\n    <tr>\n      <th>0</th>\n      <td>1</td>\n      <td>\"КОРПОРАЦИЯ ВИТ\" (ОБЩЕСТВО С ОГРАНИЧЕННОЙ ОТВЕ...</td>\n      <td>Юридическое лицо</td>\n      <td>Малое предприятие</td>\n      <td>1025004907080</td>\n      <td>5038038838</td>\n      <td>41.20 Строительство жилых и нежилых зданий</td>\n      <td>50 - Московская область</td>\n      <td>Пушкино г</td>\n      <td>NaN</td>\n      <td>...</td>\n      <td>01.08.2016</td>\n      <td>NaN</td>\n      <td>NaN</td>\n      <td>NaN</td>\n      <td>NaN</td>\n      <td>Нет</td>\n      <td>Нет</td>\n      <td>Нет</td>\n      <td>Нет</td>\n      <td>30.0</td>\n    </tr>\n    <tr>\n      <th>1</th>\n      <td>2</td>\n      <td>\"ЛАВИНА\" ОБЩЕСТВО С ОГРАНИЧЕННОЙ ОТВЕТСТВЕННОСТЬЮ</td>\n      <td>Юридическое лицо</td>\n      <td>Малое предприятие</td>\n      <td>1035010952624</td>\n      <td>5027064258</td>\n      <td>41.2 Строительство жилых и нежилых зданий</td>\n      <td>50 - Московская область</td>\n      <td>Люберцы г</td>\n      <td>NaN</td>\n      <td>...</td>\n      <td>01.08.2016</td>\n      <td>NaN</td>\n      <td>NaN</td>\n      <td>NaN</td>\n      <td>NaN</td>\n      <td>Да</td>\n      <td>Нет</td>\n      <td>Нет</td>\n      <td>Нет</td>\n      <td>40.0</td>\n    </tr>\n    <tr>\n      <th>2</th>\n      <td>3</td>\n      <td>\"САНТОЛ\" ОБЩЕСТВО С ОГРАНИЧЕННОЙ ОТВЕТСТВЕННОСТЬЮ</td>\n      <td>Юридическое лицо</td>\n      <td>Малое предприятие</td>\n      <td>1025204409152</td>\n      <td>5263038483</td>\n      <td>41.20 Строительство жилых и нежилых зданий</td>\n      <td>52 - Нижегородская область</td>\n      <td>NaN</td>\n      <td>г Нижний Новгород</td>\n      <td>...</td>\n      <td>10.07.2024</td>\n      <td>NaN</td>\n      <td>NaN</td>\n      <td>NaN</td>\n      <td>NaN</td>\n      <td>Нет</td>\n      <td>Нет</td>\n      <td>Нет</td>\n      <td>Нет</td>\n      <td>2.0</td>\n    </tr>\n    <tr>\n      <th>3</th>\n      <td>4</td>\n      <td>\"ХОЗРАСЧЕТНАЯ СТРОИТЕЛЬНО-ТЕХНОЛОГИЧЕСКАЯ ФИРМ...</td>\n      <td>Юридическое лицо</td>\n      <td>Среднее предприятие</td>\n      <td>1025007270551</td>\n      <td>5027006369</td>\n      <td>41.20 Строительство жилых и нежилых зданий</td>\n      <td>50 - Московская область</td>\n      <td>Люберцы г</td>\n      <td>г. Дзержинский</td>\n      <td>...</td>\n      <td>01.08.2016</td>\n      <td>NaN</td>\n      <td>NaN</td>\n      <td>NaN</td>\n      <td>NaN</td>\n      <td>Да</td>\n      <td>Нет</td>\n      <td>Нет</td>\n      <td>Нет</td>\n      <td>128.0</td>\n    </tr>\n    <tr>\n      <th>4</th>\n      <td>5</td>\n      <td>АКЦИОНЕРНОЕ ОБЩЕСТВО \"2МЕН ГРУПП ДЕВЕЛОПМЕНТ\"</td>\n      <td>Юридическое лицо</td>\n      <td>Малое предприятие</td>\n      <td>1067746424899</td>\n      <td>7701651356</td>\n      <td>41.2 Строительство жилых и нежилых зданий</td>\n      <td>72 - Тюменская область</td>\n      <td>NaN</td>\n      <td>г Тюмень</td>\n      <td>...</td>\n      <td>10.08.2017</td>\n      <td>NaN</td>\n      <td>NaN</td>\n      <td>NaN</td>\n      <td>NaN</td>\n      <td>Да</td>\n      <td>Нет</td>\n      <td>Нет</td>\n      <td>Нет</td>\n      <td>14.0</td>\n    </tr>\n  </tbody>\n</table>\n<p>5 rows × 22 columns</p>\n</div>"
     },
     "execution_count": 11,
     "metadata": {},
     "output_type": "execute_result"
    }
   ],
   "source": [
    "data.head()"
   ],
   "metadata": {
    "collapsed": false,
    "pycharm": {
     "name": "#%%\n"
    }
   }
  },
  {
   "cell_type": "code",
   "execution_count": 12,
   "outputs": [
    {
     "name": "stdout",
     "output_type": "stream",
     "text": [
      "<class 'pandas.core.frame.DataFrame'>\n",
      "RangeIndex: 11795 entries, 0 to 11794\n",
      "Data columns (total 22 columns):\n",
      " #   Column                                                                    Non-Null Count  Dtype  \n",
      "---  ------                                                                    --------------  -----  \n",
      " 0   № п/п                                                                     11795 non-null  int64  \n",
      " 1   Наименование / ФИО                                                        11795 non-null  object \n",
      " 2   Тип субъекта                                                              11795 non-null  object \n",
      " 3   Категория                                                                 11795 non-null  object \n",
      " 4   ОГРН                                                                      11795 non-null  int64  \n",
      " 5   ИНН                                                                       11795 non-null  int64  \n",
      " 6   Основной вид деятельности                                                 11795 non-null  object \n",
      " 7   Регион                                                                    11795 non-null  object \n",
      " 8   Район                                                                     1472 non-null   object \n",
      " 9   Город                                                                     7339 non-null   object \n",
      " 10  Населенный пункт                                                          890 non-null    object \n",
      " 11  Вновь созданный                                                           11795 non-null  object \n",
      " 12  Дата включения в реестр                                                   11795 non-null  object \n",
      " 13  Дата исключения из реестра                                                0 non-null      float64\n",
      " 14  Телефон                                                                   110 non-null    object \n",
      " 15  E-mail                                                                    110 non-null    object \n",
      " 16  WWW                                                                       28 non-null     object \n",
      " 17  Наличие лицензий                                                          11795 non-null  object \n",
      " 18  Производство инновационной, высокотехнологичной продукции                 11795 non-null  object \n",
      " 19  Участие в программах партнерства                                          11795 non-null  object \n",
      " 20  Является социальным предприятием                                          11795 non-null  object \n",
      " 21  Среднесписочная численность работников за предшествующий календарный год  11702 non-null  float64\n",
      "dtypes: float64(2), int64(3), object(17)\n",
      "memory usage: 2.0+ MB\n"
     ]
    }
   ],
   "source": [
    "data.info()"
   ],
   "metadata": {
    "collapsed": false,
    "pycharm": {
     "name": "#%%\n"
    }
   }
  },
  {
   "cell_type": "code",
   "execution_count": 19,
   "outputs": [
    {
     "name": "stdout",
     "output_type": "stream",
     "text": [
      "                                            fullName         inn  \\\n",
      "0  ОБЩЕСТВО С ОГРАНИЧЕННОЙ ОТВЕТСТВЕННОСТЬЮ \"КОРП...  5038038838   \n",
      "0  Общество с ограниченной ответственностью \"ЛАВИНА\"  5027064258   \n",
      "0  Общество с ограниченной ответственностью \"Сант...  5263038483   \n",
      "0  Общество с Ограниченной Ответственностью Хозра...  5027006369   \n",
      "0                                    АО \"2МЕН ГРУПП\"  7701651356   \n",
      "0                         Акционерное общество \"777\"  1414006922   \n",
      "0              Акционерное общество \"АВАНГАРД-СТРОЙ\"  7728738572   \n",
      "0                  АКЦИОНЕРНОЕ ОБЩЕСТВО \"АВТОБЫТДОР\"  5018196032   \n",
      "0               Акционерное Общество \"Агротехимпорт\"  3327332190   \n",
      "0                         Акционерное общество \"АКС\"  7816061297   \n",
      "\n",
      "                                             address  \\\n",
      "0    141206, Московская обл, ул Чехова, 12, офис 901   \n",
      "0  140015, Московская обл, Люберцы г, Инициативна...   \n",
      "0  603037, Нижегородская обл, г.Нижний Новгород, ...   \n",
      "0  140093, Московская обл, Дзержинский г, Угрешск...   \n",
      "0  625002, Тюменская обл, г Тюмень, ул Комсомольс...   \n",
      "0  678144, Саха /Якутия/ респ, Ленский у, Ленск г...   \n",
      "0  109147, Москва г, Воронцовская ул, д. № 19Б, о...   \n",
      "0   141070, Московская обл, г Королёв, ул Ленина, 2А   \n",
      "0     Владимир г, Александра Матросова ул, 1, 600005   \n",
      "0   192102, Санкт-Петербург, ул.Фучика, д. № 4 лит.К   \n",
      "\n",
      "   correction.financialResult.current2210  \\\n",
      "0                                  2692.0   \n",
      "0                                     NaN   \n",
      "0                                 46874.0   \n",
      "0                                     NaN   \n",
      "0                                     NaN   \n",
      "0                                     NaN   \n",
      "0                                     NaN   \n",
      "0                                     0.0   \n",
      "0                                 18238.0   \n",
      "0                                     NaN   \n",
      "\n",
      "   correction.financialResult.current2220  \\\n",
      "0                                 37142.0   \n",
      "0                                 43333.0   \n",
      "0                                164850.0   \n",
      "0                                     NaN   \n",
      "0                                     NaN   \n",
      "0                                  7667.0   \n",
      "0                                     NaN   \n",
      "0                                 16588.0   \n",
      "0                                 17318.0   \n",
      "0                                  8644.0   \n",
      "\n",
      "   correction.financialResult.current2200  \\\n",
      "0                                 -5813.0   \n",
      "0                                 10707.0   \n",
      "0                                134885.0   \n",
      "0                                 30016.0   \n",
      "0                                 25228.0   \n",
      "0                                 18855.0   \n",
      "0                                     NaN   \n",
      "0                                -11655.0   \n",
      "0                                 26802.0   \n",
      "0                                  1891.0   \n",
      "\n",
      "   correction.financialResult.current2320  \\\n",
      "0                                  7971.0   \n",
      "0                                    41.0   \n",
      "0                                  1102.0   \n",
      "0                                  2547.0   \n",
      "0                                     NaN   \n",
      "0                                     NaN   \n",
      "0                                     NaN   \n",
      "0                                   692.0   \n",
      "0                                     NaN   \n",
      "0                                     NaN   \n",
      "\n",
      "   correction.financialResult.current2330  \\\n",
      "0                                  5601.0   \n",
      "0                                     NaN   \n",
      "0                                  1644.0   \n",
      "0                                     NaN   \n",
      "0                                 21172.0   \n",
      "0                                     0.0   \n",
      "0                                     NaN   \n",
      "0                                   429.0   \n",
      "0                                     NaN   \n",
      "0                                     0.0   \n",
      "\n",
      "   correction.financialResult.current2340  \\\n",
      "0                                366626.0   \n",
      "0                                  1370.0   \n",
      "0                                 48808.0   \n",
      "0                                  2747.0   \n",
      "0                                  1983.0   \n",
      "0                                   149.0   \n",
      "0                                     NaN   \n",
      "0                                134799.0   \n",
      "0                                  2725.0   \n",
      "0                                    91.0   \n",
      "\n",
      "   correction.financialResult.current2350  ...  \\\n",
      "0                                359753.0  ...   \n",
      "0                                  7397.0  ...   \n",
      "0                                159348.0  ...   \n",
      "0                                  9471.0  ...   \n",
      "0                                  7103.0  ...   \n",
      "0                                 11064.0  ...   \n",
      "0                                   119.0  ...   \n",
      "0                                103369.0  ...   \n",
      "0                                  3402.0  ...   \n",
      "0                                   597.0  ...   \n",
      "\n",
      "   correction.financialResult.current2110  \\\n",
      "0                                184044.0   \n",
      "0                                249375.0   \n",
      "0                               2225965.0   \n",
      "0                                584219.0   \n",
      "0                                 64999.0   \n",
      "0                                685315.0   \n",
      "0                                 47750.0   \n",
      "0                               1891501.0   \n",
      "0                                584483.0   \n",
      "0                                179874.0   \n",
      "\n",
      "   correction.financialResult.current2120  \\\n",
      "0                                150023.0   \n",
      "0                                195335.0   \n",
      "0                               1879356.0   \n",
      "0                                554203.0   \n",
      "0                                 39771.0   \n",
      "0                                658793.0   \n",
      "0                                 47246.0   \n",
      "0                               1886568.0   \n",
      "0                                522125.0   \n",
      "0                                169339.0   \n",
      "\n",
      "   correction.financialResult.current2100  \\\n",
      "0                                 34021.0   \n",
      "0                                 54040.0   \n",
      "0                                346609.0   \n",
      "0                                 30016.0   \n",
      "0                                 25228.0   \n",
      "0                                 26522.0   \n",
      "0                                     NaN   \n",
      "0                                  4933.0   \n",
      "0                                 62358.0   \n",
      "0                                 10535.0   \n",
      "\n",
      "   correction.financialResult.current2412  \\\n",
      "0                                     NaN   \n",
      "0                                     NaN   \n",
      "0                                     NaN   \n",
      "0                                     NaN   \n",
      "0                                  1068.0   \n",
      "0                                 -3315.0   \n",
      "0                                     NaN   \n",
      "0                                   689.0   \n",
      "0                                     NaN   \n",
      "0                                     NaN   \n",
      "\n",
      "   correction.financialResult.current2310  \\\n",
      "0                                     NaN   \n",
      "0                                     NaN   \n",
      "0                                     NaN   \n",
      "0                                     NaN   \n",
      "0                                     NaN   \n",
      "0                                     NaN   \n",
      "0                                     NaN   \n",
      "0                                     NaN   \n",
      "0                                     NaN   \n",
      "0                                     NaN   \n",
      "\n",
      "   correction.financialResult.current2900  \\\n",
      "0                                     NaN   \n",
      "0                                     NaN   \n",
      "0                                     NaN   \n",
      "0                                     NaN   \n",
      "0                                     NaN   \n",
      "0                                     NaN   \n",
      "0                                     NaN   \n",
      "0                                     NaN   \n",
      "0                                     NaN   \n",
      "0                                     NaN   \n",
      "\n",
      "   correction.financialResult.current2520  \\\n",
      "0                                     NaN   \n",
      "0                                     NaN   \n",
      "0                                     NaN   \n",
      "0                                     NaN   \n",
      "0                                     NaN   \n",
      "0                                     NaN   \n",
      "0                                     NaN   \n",
      "0                                     NaN   \n",
      "0                                     NaN   \n",
      "0                                     NaN   \n",
      "\n",
      "   correction.financialResult.current2510  \\\n",
      "0                                     NaN   \n",
      "0                                     NaN   \n",
      "0                                     NaN   \n",
      "0                                     NaN   \n",
      "0                                     NaN   \n",
      "0                                     NaN   \n",
      "0                                     NaN   \n",
      "0                                     NaN   \n",
      "0                                     NaN   \n",
      "0                                     NaN   \n",
      "\n",
      "   correction.financialResult.current2530  \\\n",
      "0                                     NaN   \n",
      "0                                     NaN   \n",
      "0                                     NaN   \n",
      "0                                     NaN   \n",
      "0                                     NaN   \n",
      "0                                     NaN   \n",
      "0                                     NaN   \n",
      "0                                     NaN   \n",
      "0                                     NaN   \n",
      "0                                     NaN   \n",
      "\n",
      "   correction.financialResult.current2910  \n",
      "0                                     NaN  \n",
      "0                                     NaN  \n",
      "0                                     NaN  \n",
      "0                                     NaN  \n",
      "0                                     NaN  \n",
      "0                                     NaN  \n",
      "0                                     NaN  \n",
      "0                                     NaN  \n",
      "0                                     NaN  \n",
      "0                                     NaN  \n",
      "\n",
      "[10 rows x 26 columns]\n"
     ]
    }
   ],
   "source": [
    "from requests.adapters import HTTPAdapter\n",
    "from urllib3.util.retry import Retry\n",
    "\n",
    "list_df = [pd.DataFrame() for _ in range(5)]\n",
    "\n",
    "\n",
    "retry = Retry(total=3, backoff_factor=1)\n",
    "session = requests.Session()\n",
    "session.mount(\"https://\", HTTPAdapter(max_retries=retry))\n",
    "headers = {\n",
    "    \"User-Agent\": \"Mozilla/5.0 (Windows NT 10.0; Win64; x64) AppleWebKit/537.36 (KHTML, like Gecko) Chrome/112.0.0.0 Safari/537.36\",\n",
    "    \"Accept\": \"application/json, text/plain, */*\",\n",
    "    \"X-Requested-With\": \"XMLHttpRequest\"\n",
    "}\n",
    "for i in data.loc[:, 'ИНН']:\n",
    "    url = f\"https://bo.nalog.gov.ru/advanced-search/organizations/search?query={int(i)}&page=0&size=20\"\n",
    "    #res = session.get(url, headers=headers)\n",
    "\n",
    "    res = session.get(url, timeout=15, headers=headers).json()\n",
    "    try:\n",
    "        org_id = res[\"content\"][0][\"id\"]\n",
    "    except IndexError:\n",
    "        continue\n",
    "    response = session.get(f\"https://bo.nalog.gov.ru/nbo/organizations/{org_id}/bfo/\", timeout=15, headers=headers).json()\n",
    "\n",
    "    for year in range(5):\n",
    "        try:\n",
    "            try:\n",
    "                df_corr = pd.json_normalize(response[year]['typeCorrections'])\n",
    "                df_info = pd.json_normalize(response[year]['organizationInfo'])\n",
    "            except NotImplementedError:\n",
    "                continue\n",
    "            df_col = [j for j in df_corr.columns if j.startswith('correction.financialResult.current')]\n",
    "            df = pd.concat([df_info[['fullName', 'inn', 'address']], df_corr[df_col]], axis=1)\n",
    "            list_df[year] = pd.concat([list_df[year],df])\n",
    "        except IndexError:\n",
    "            break\n",
    "print(list_df[3].head(10))"
   ],
   "metadata": {
    "collapsed": false,
    "pycharm": {
     "name": "#%%\n"
    }
   }
  },
  {
   "cell_type": "code",
   "execution_count": 20,
   "outputs": [],
   "source": [
    "with pd.ExcelWriter('fin_pars.xlsx') as writer:\n",
    "    list_df[0].to_excel(writer, sheet_name='2024')\n",
    "    list_df[1].to_excel(writer, sheet_name='2023')\n",
    "    list_df[2].to_excel(writer, sheet_name='2022')\n",
    "    list_df[3].to_excel(writer, sheet_name='2021')\n",
    "    list_df[4].to_excel(writer, sheet_name='2020')"
   ],
   "metadata": {
    "collapsed": false,
    "pycharm": {
     "name": "#%%\n"
    }
   }
  },
  {
   "cell_type": "code",
   "execution_count": 21,
   "outputs": [],
   "source": [
    "list_df_copy = list_df.copy()"
   ],
   "metadata": {
    "collapsed": false,
    "pycharm": {
     "name": "#%%\n"
    }
   }
  },
  {
   "cell_type": "code",
   "execution_count": 22,
   "outputs": [
    {
     "name": "stdout",
     "output_type": "stream",
     "text": [
      "11658\n",
      "11236\n",
      "10902\n",
      "10594\n",
      "9990\n"
     ]
    }
   ],
   "source": [
    "for i in list_df_copy:\n",
    "    print(len(i))"
   ],
   "metadata": {
    "collapsed": false,
    "pycharm": {
     "name": "#%%\n"
    }
   }
  },
  {
   "cell_type": "code",
   "execution_count": 25,
   "outputs": [],
   "source": [
    "col = ['fullName', 'inn', 'address','correction.financialResult.current2210', 'correction.financialResult.current2220', 'correction.financialResult.current2200', 'correction.financialResult.current2310', 'correction.financialResult.current2320', 'correction.financialResult.current2330', 'correction.financialResult.current2340', 'correction.financialResult.current2350', 'correction.financialResult.current2300', 'correction.financialResult.current2410', 'correction.financialResult.current2400', 'correction.financialResult.current2110', 'correction.financialResult.current2120', 'correction.financialResult.current2100']\n",
    "for i in range(5):\n",
    "    list_df_copy[i] = list_df_copy[i][col]\n"
   ],
   "metadata": {
    "collapsed": false,
    "pycharm": {
     "name": "#%%\n"
    }
   }
  },
  {
   "cell_type": "code",
   "execution_count": 28,
   "outputs": [
    {
     "name": "stderr",
     "output_type": "stream",
     "text": [
      "C:\\Users\\Василий\\AppData\\Local\\Temp\\ipykernel_5216\\3390833488.py:2: SettingWithCopyWarning: \n",
      "A value is trying to be set on a copy of a slice from a DataFrame.\n",
      "Try using .loc[row_indexer,col_indexer] = value instead\n",
      "\n",
      "See the caveats in the documentation: https://pandas.pydata.org/pandas-docs/stable/user_guide/indexing.html#returning-a-view-versus-a-copy\n",
      "  list_df_copy[i]['EBIT'] = list_df_copy[i]['correction.financialResult.current2400'] + list_df_copy[i]['correction.financialResult.current2410'] + list_df_copy[i]['correction.financialResult.current2330'] - list_df_copy[i]['correction.financialResult.current2320']\n"
     ]
    },
    {
     "data": {
      "text/plain": "                                            fullName         inn  \\\n0  \"Корпорация ВИТ\" (общество с ограниченной отве...  5038038838   \n0  Общество с ограниченной ответственностью \"ЛАВИНА\"  5027064258   \n0                                         ООО САНТОЛ  5263038483   \n0  Общество с Ограниченной Ответственностью Хозра...  5027006369   \n0                                    АО \"2МЕН ГРУПП\"  7701651356   \n\n                                             address  \\\n0  141207, Московская обл, г Пушкино, ул Чехова, ...   \n0  140015, Московская обл, город Люберцы, Инициат...   \n0  603003, Нижегородская область, г. о. город Ниж...   \n0  140093, Московская обл, Дзержинский г, Угрешск...   \n0  625000, Тюменская обл, г Тюмень, ул Грибоедова...   \n\n   correction.financialResult.current2210  \\\n0                                     0.0   \n0                                     NaN   \n0                                     0.0   \n0                                     NaN   \n0                                     NaN   \n\n   correction.financialResult.current2220  \\\n0                                 25710.0   \n0                                 78912.0   \n0                                     NaN   \n0                                     NaN   \n0                                     NaN   \n\n   correction.financialResult.current2200  \\\n0                                 -8789.0   \n0                                 15204.0   \n0                                  1153.0   \n0                                 10148.0   \n0                                233178.0   \n\n   correction.financialResult.current2310  \\\n0                                     NaN   \n0                                     NaN   \n0                                     NaN   \n0                                     NaN   \n0                                     NaN   \n\n   correction.financialResult.current2320  \\\n0                                 10211.0   \n0                                   347.0   \n0                                     0.0   \n0                                 34755.0   \n0                                     8.0   \n\n   correction.financialResult.current2330  \\\n0                                  1521.0   \n0                                     NaN   \n0                                     NaN   \n0                                   705.0   \n0                                210634.0   \n\n   correction.financialResult.current2340  \\\n0                                 61039.0   \n0                                  7403.0   \n0                                     0.0   \n0                                 32372.0   \n0                                  4893.0   \n\n   correction.financialResult.current2350  \\\n0                                 80878.0   \n0                                 16659.0   \n0                                     0.0   \n0                                 39388.0   \n0                                 27426.0   \n\n   correction.financialResult.current2300  \\\n0                                -19938.0   \n0                                  6295.0   \n0                                  1153.0   \n0                                 37182.0   \n0                                    19.0   \n\n   correction.financialResult.current2410  \\\n0                                  -191.0   \n0                                 -2629.0   \n0                                  -230.0   \n0                                 -8184.0   \n0                                    94.0   \n\n   correction.financialResult.current2400  \\\n0                                -20129.0   \n0                                  3594.0   \n0                                   923.0   \n0                                 28998.0   \n0                                   113.0   \n\n   correction.financialResult.current2110  \\\n0                                112540.0   \n0                                930280.0   \n0                                 16238.0   \n0                                429496.0   \n0                                255230.0   \n\n   correction.financialResult.current2120  \\\n0                                 95619.0   \n0                                836164.0   \n0                                 15085.0   \n0                                419348.0   \n0                                 22052.0   \n\n   correction.financialResult.current2100      EBIT  \n0                                 16921.0  -29010.0  \n0                                 94116.0       NaN  \n0                                  1153.0       NaN  \n0                                 10148.0  -13236.0  \n0                                233178.0  210833.0  ",
      "text/html": "<div>\n<style scoped>\n    .dataframe tbody tr th:only-of-type {\n        vertical-align: middle;\n    }\n\n    .dataframe tbody tr th {\n        vertical-align: top;\n    }\n\n    .dataframe thead th {\n        text-align: right;\n    }\n</style>\n<table border=\"1\" class=\"dataframe\">\n  <thead>\n    <tr style=\"text-align: right;\">\n      <th></th>\n      <th>fullName</th>\n      <th>inn</th>\n      <th>address</th>\n      <th>correction.financialResult.current2210</th>\n      <th>correction.financialResult.current2220</th>\n      <th>correction.financialResult.current2200</th>\n      <th>correction.financialResult.current2310</th>\n      <th>correction.financialResult.current2320</th>\n      <th>correction.financialResult.current2330</th>\n      <th>correction.financialResult.current2340</th>\n      <th>correction.financialResult.current2350</th>\n      <th>correction.financialResult.current2300</th>\n      <th>correction.financialResult.current2410</th>\n      <th>correction.financialResult.current2400</th>\n      <th>correction.financialResult.current2110</th>\n      <th>correction.financialResult.current2120</th>\n      <th>correction.financialResult.current2100</th>\n      <th>EBIT</th>\n    </tr>\n  </thead>\n  <tbody>\n    <tr>\n      <th>0</th>\n      <td>\"Корпорация ВИТ\" (общество с ограниченной отве...</td>\n      <td>5038038838</td>\n      <td>141207, Московская обл, г Пушкино, ул Чехова, ...</td>\n      <td>0.0</td>\n      <td>25710.0</td>\n      <td>-8789.0</td>\n      <td>NaN</td>\n      <td>10211.0</td>\n      <td>1521.0</td>\n      <td>61039.0</td>\n      <td>80878.0</td>\n      <td>-19938.0</td>\n      <td>-191.0</td>\n      <td>-20129.0</td>\n      <td>112540.0</td>\n      <td>95619.0</td>\n      <td>16921.0</td>\n      <td>-29010.0</td>\n    </tr>\n    <tr>\n      <th>0</th>\n      <td>Общество с ограниченной ответственностью \"ЛАВИНА\"</td>\n      <td>5027064258</td>\n      <td>140015, Московская обл, город Люберцы, Инициат...</td>\n      <td>NaN</td>\n      <td>78912.0</td>\n      <td>15204.0</td>\n      <td>NaN</td>\n      <td>347.0</td>\n      <td>NaN</td>\n      <td>7403.0</td>\n      <td>16659.0</td>\n      <td>6295.0</td>\n      <td>-2629.0</td>\n      <td>3594.0</td>\n      <td>930280.0</td>\n      <td>836164.0</td>\n      <td>94116.0</td>\n      <td>NaN</td>\n    </tr>\n    <tr>\n      <th>0</th>\n      <td>ООО САНТОЛ</td>\n      <td>5263038483</td>\n      <td>603003, Нижегородская область, г. о. город Ниж...</td>\n      <td>0.0</td>\n      <td>NaN</td>\n      <td>1153.0</td>\n      <td>NaN</td>\n      <td>0.0</td>\n      <td>NaN</td>\n      <td>0.0</td>\n      <td>0.0</td>\n      <td>1153.0</td>\n      <td>-230.0</td>\n      <td>923.0</td>\n      <td>16238.0</td>\n      <td>15085.0</td>\n      <td>1153.0</td>\n      <td>NaN</td>\n    </tr>\n    <tr>\n      <th>0</th>\n      <td>Общество с Ограниченной Ответственностью Хозра...</td>\n      <td>5027006369</td>\n      <td>140093, Московская обл, Дзержинский г, Угрешск...</td>\n      <td>NaN</td>\n      <td>NaN</td>\n      <td>10148.0</td>\n      <td>NaN</td>\n      <td>34755.0</td>\n      <td>705.0</td>\n      <td>32372.0</td>\n      <td>39388.0</td>\n      <td>37182.0</td>\n      <td>-8184.0</td>\n      <td>28998.0</td>\n      <td>429496.0</td>\n      <td>419348.0</td>\n      <td>10148.0</td>\n      <td>-13236.0</td>\n    </tr>\n    <tr>\n      <th>0</th>\n      <td>АО \"2МЕН ГРУПП\"</td>\n      <td>7701651356</td>\n      <td>625000, Тюменская обл, г Тюмень, ул Грибоедова...</td>\n      <td>NaN</td>\n      <td>NaN</td>\n      <td>233178.0</td>\n      <td>NaN</td>\n      <td>8.0</td>\n      <td>210634.0</td>\n      <td>4893.0</td>\n      <td>27426.0</td>\n      <td>19.0</td>\n      <td>94.0</td>\n      <td>113.0</td>\n      <td>255230.0</td>\n      <td>22052.0</td>\n      <td>233178.0</td>\n      <td>210833.0</td>\n    </tr>\n  </tbody>\n</table>\n</div>"
     },
     "execution_count": 28,
     "metadata": {},
     "output_type": "execute_result"
    }
   ],
   "source": [
    "for i in range(5):\n",
    "    list_df_copy[i]['EBIT'] = list_df_copy[i]['correction.financialResult.current2400'] + list_df_copy[i]['correction.financialResult.current2410'] + list_df_copy[i]['correction.financialResult.current2330'] - list_df_copy[i]['correction.financialResult.current2320']\n",
    "list_df_copy[0].head()"
   ],
   "metadata": {
    "collapsed": false,
    "pycharm": {
     "name": "#%%\n"
    }
   }
  },
  {
   "cell_type": "code",
   "execution_count": null,
   "outputs": [],
   "source": [
    "mean_EBIT = []\n",
    "for i in list_df_copy:\n",
    "    mean_EBIT.append(i['EBIT'].mean())"
   ],
   "metadata": {
    "collapsed": false,
    "pycharm": {
     "name": "#%%\n",
     "is_executing": true
    }
   }
  },
  {
   "cell_type": "code",
   "execution_count": 34,
   "outputs": [
    {
     "name": "stdout",
     "output_type": "stream",
     "text": [
      "2024 2023 2022 2021 2020\n",
      "14998.668458040513 4011.607554122524 20257.813169984685 23179.88663282572 19281.695249845776\n"
     ]
    }
   ],
   "source": [
    "print(*[2024, 2023, 2022, 2021, 2020])\n",
    "print(*mean_EBIT)"
   ],
   "metadata": {
    "collapsed": false,
    "pycharm": {
     "name": "#%%\n"
    }
   }
  },
  {
   "cell_type": "markdown",
   "source": [
    "Средний EBIT по всем годам\n",
    "EBIT = Чистая прибыль + Налог на прибыль + Процентные расходы – Процентные доходы\n",
    "Посчитан без учета пропусков в данных\n",
    "Видим, что средний EBIT не имеет какой-то тенденции\n",
    "В 2023г. был резкий упадок по значению"
   ],
   "metadata": {
    "collapsed": false,
    "pycharm": {
     "name": "#%% md\n"
    }
   }
  },
  {
   "cell_type": "code",
   "execution_count": null,
   "outputs": [],
   "source": [
    "for i in range(5):\n",
    "    temp = list_df_copy[i][['correction.financialResult.current2330','correction.financialResult.current2320']]\n",
    "    temp = temp.fillna(0)\n",
    "    list_df_copy[i]['EBIT_2'] = list_df_copy[i]['correction.financialResult.current2400'] + list_df_copy[i]['correction.financialResult.current2410'] + temp['correction.financialResult.current2330'] - temp['correction.financialResult.current2320']\n",
    "mean_EBIT_2 = []\n",
    "for i in list_df_copy:\n",
    "    mean_EBIT_2.append(i['EBIT_2'].mean())\n"
   ],
   "metadata": {
    "collapsed": false,
    "pycharm": {
     "name": "#%%\n",
     "is_executing": true
    }
   }
  },
  {
   "cell_type": "code",
   "execution_count": 35,
   "outputs": [
    {
     "name": "stdout",
     "output_type": "stream",
     "text": [
      "2024 2023 2022 2021 2020\n",
      "12265.378442458508 10475.15418003397 13358.589135946948 11151.090104749313 9633.900088319717\n"
     ]
    }
   ],
   "source": [
    "print(*[2024, 2023, 2022, 2021, 2020])\n",
    "print(*mean_EBIT_2)"
   ],
   "metadata": {
    "collapsed": false,
    "pycharm": {
     "name": "#%%\n"
    }
   }
  },
  {
   "cell_type": "markdown",
   "source": [
    "Средний EBIT по всем годам\n",
    "EBIT = Чистая прибыль + Налог на прибыль + Процентные расходы – Процентные доходы\n",
    "Посчитан без с учетом пропусков в данных: все пропуски были заменены на 0\n",
    "В этом случае средний EBIT имеет меньший разброс\n",
    "В 2023г. также имеет спад после роста, но менее выраженный"
   ],
   "metadata": {
    "collapsed": false,
    "pycharm": {
     "name": "#%% md\n"
    }
   }
  },
  {
   "cell_type": "code",
   "execution_count": 163,
   "outputs": [
    {
     "name": "stdout",
     "output_type": "stream",
     "text": [
      "                                            fullName         inn  \\\n",
      "0  \"Корпорация ВИТ\" (общество с ограниченной отве...  5038038838   \n",
      "0  Общество с ограниченной ответственностью \"ЛАВИНА\"  5027064258   \n",
      "0                                         ООО САНТОЛ  5263038483   \n",
      "0  Общество с Ограниченной Ответственностью Хозра...  5027006369   \n",
      "0                                    АО \"2МЕН ГРУПП\"  7701651356   \n",
      "\n",
      "                                             address  \\\n",
      "0  141207, Московская обл, г Пушкино, ул Чехова, ...   \n",
      "0  140015, Московская обл, город Люберцы, Инициат...   \n",
      "0  603003, Нижегородская область, г. о. город Ниж...   \n",
      "0  140093, Московская обл, Дзержинский г, Угрешск...   \n",
      "0  625000, Тюменская обл, г Тюмень, ул Грибоедова...   \n",
      "\n",
      "   correction.financialResult.current2210  \\\n",
      "0                                     0.0   \n",
      "0                                     NaN   \n",
      "0                                     0.0   \n",
      "0                                     NaN   \n",
      "0                                     NaN   \n",
      "\n",
      "   correction.financialResult.current2220  \\\n",
      "0                                 25710.0   \n",
      "0                                 78912.0   \n",
      "0                                     NaN   \n",
      "0                                     NaN   \n",
      "0                                     NaN   \n",
      "\n",
      "   correction.financialResult.current2200  \\\n",
      "0                                 -8789.0   \n",
      "0                                 15204.0   \n",
      "0                                  1153.0   \n",
      "0                                 10148.0   \n",
      "0                                233178.0   \n",
      "\n",
      "   correction.financialResult.current2310  \\\n",
      "0                                     NaN   \n",
      "0                                     NaN   \n",
      "0                                     NaN   \n",
      "0                                     NaN   \n",
      "0                                     NaN   \n",
      "\n",
      "   correction.financialResult.current2320  \\\n",
      "0                                 10211.0   \n",
      "0                                   347.0   \n",
      "0                                     0.0   \n",
      "0                                 34755.0   \n",
      "0                                     8.0   \n",
      "\n",
      "   correction.financialResult.current2330  \\\n",
      "0                                  1521.0   \n",
      "0                                     NaN   \n",
      "0                                     NaN   \n",
      "0                                   705.0   \n",
      "0                                210634.0   \n",
      "\n",
      "   correction.financialResult.current2340  ...  \\\n",
      "0                                 61039.0  ...   \n",
      "0                                  7403.0  ...   \n",
      "0                                     0.0  ...   \n",
      "0                                 32372.0  ...   \n",
      "0                                  4893.0  ...   \n",
      "\n",
      "   correction.financialResult.current2300  \\\n",
      "0                                -19938.0   \n",
      "0                                  6295.0   \n",
      "0                                  1153.0   \n",
      "0                                 37182.0   \n",
      "0                                    19.0   \n",
      "\n",
      "   correction.financialResult.current2410  \\\n",
      "0                                  -191.0   \n",
      "0                                 -2629.0   \n",
      "0                                  -230.0   \n",
      "0                                 -8184.0   \n",
      "0                                    94.0   \n",
      "\n",
      "   correction.financialResult.current2400  \\\n",
      "0                                -20129.0   \n",
      "0                                  3594.0   \n",
      "0                                   923.0   \n",
      "0                                 28998.0   \n",
      "0                                   113.0   \n",
      "\n",
      "   correction.financialResult.current2110  \\\n",
      "0                                112540.0   \n",
      "0                                930280.0   \n",
      "0                                 16238.0   \n",
      "0                                429496.0   \n",
      "0                                255230.0   \n",
      "\n",
      "   correction.financialResult.current2120  \\\n",
      "0                                 95619.0   \n",
      "0                                836164.0   \n",
      "0                                 15085.0   \n",
      "0                                419348.0   \n",
      "0                                 22052.0   \n",
      "\n",
      "   correction.financialResult.current2100      EBIT    EBIT_2  gross_margin  \\\n",
      "0                                 16921.0  -29010.0  -29010.0     15.035543   \n",
      "0                                 94116.0       NaN     618.0     10.116954   \n",
      "0                                  1153.0       NaN     693.0      7.100628   \n",
      "0                                 10148.0  -13236.0  -13236.0      2.362769   \n",
      "0                                233178.0  210833.0  210833.0     91.359950   \n",
      "\n",
      "   net_margin  \n",
      "0  -17.886085  \n",
      "0    0.386335  \n",
      "0    5.684198  \n",
      "0    6.751634  \n",
      "0    0.044274  \n",
      "\n",
      "[5 rows x 21 columns]\n"
     ]
    },
    {
     "name": "stderr",
     "output_type": "stream",
     "text": [
      "C:\\Users\\Василий\\AppData\\Local\\Temp\\ipykernel_5216\\727716644.py:2: SettingWithCopyWarning:\n",
      "\n",
      "\n",
      "A value is trying to be set on a copy of a slice from a DataFrame.\n",
      "Try using .loc[row_indexer,col_indexer] = value instead\n",
      "\n",
      "See the caveats in the documentation: https://pandas.pydata.org/pandas-docs/stable/user_guide/indexing.html#returning-a-view-versus-a-copy\n",
      "\n",
      "C:\\Users\\Василий\\AppData\\Local\\Temp\\ipykernel_5216\\727716644.py:3: SettingWithCopyWarning:\n",
      "\n",
      "\n",
      "A value is trying to be set on a copy of a slice from a DataFrame.\n",
      "Try using .loc[row_indexer,col_indexer] = value instead\n",
      "\n",
      "See the caveats in the documentation: https://pandas.pydata.org/pandas-docs/stable/user_guide/indexing.html#returning-a-view-versus-a-copy\n",
      "\n"
     ]
    }
   ],
   "source": [
    "for i in range(5):\n",
    "    list_df_copy[i]['gross_margin'] = list_df_copy[i]['correction.financialResult.current2100']/list_df_copy[i]['correction.financialResult.current2110']*100 #Валовая рентабельность\n",
    "    list_df_copy[i]['net_margin'] = list_df_copy[i]['correction.financialResult.current2400']/list_df_copy[i]['correction.financialResult.current2110']*100 #Чистая рентабельность\n",
    "print(list_df_copy[0].head())\n"
   ],
   "metadata": {
    "collapsed": false,
    "pycharm": {
     "name": "#%%\n"
    }
   }
  },
  {
   "cell_type": "code",
   "execution_count": 225,
   "outputs": [],
   "source": [
    "import seaborn as sns\n",
    "import matplotlib.pyplot as plt\n",
    "data_rev = list_df_copy[0].copy()\n",
    "data_rev = data_rev.dropna(subset = ['gross_margin', 'net_margin', 'correction.financialResult.current2110'])\n",
    "data_rev = data_rev.rename(columns={'correction.financialResult.current2400': 'revenue'})"
   ],
   "metadata": {
    "collapsed": false,
    "pycharm": {
     "name": "#%%\n"
    }
   }
  },
  {
   "cell_type": "code",
   "execution_count": 224,
   "outputs": [
    {
     "data": {
      "text/plain": "<Axes: xlabel='revenue', ylabel='gross_margin'>"
     },
     "execution_count": 224,
     "metadata": {},
     "output_type": "execute_result"
    },
    {
     "data": {
      "text/plain": "<Figure size 640x480 with 1 Axes>",
      "image/png": "[encoded data removed]"
     },
     "metadata": {},
     "output_type": "display_data"
    }
   ],
   "source": [
    "data_rev = data_rev[data_rev['gross_margin'] > 0.2]\n",
    "data_rev = data_rev.reset_index()\n",
    "sns.scatterplot(data=data_rev, x=\"revenue\", y=\"gross_margin\")\n",
    "# График зависимости валовой рентабельности от выручки"
   ],
   "metadata": {
    "collapsed": false,
    "pycharm": {
     "name": "#%%\n"
    }
   }
  },
  {
   "cell_type": "code",
   "execution_count": 226,
   "outputs": [
    {
     "data": {
      "text/plain": "<Axes: xlabel='revenue', ylabel='net_margin'>"
     },
     "execution_count": 226,
     "metadata": {},
     "output_type": "execute_result"
    },
    {
     "data": {
      "text/plain": "<Figure size 640x480 with 1 Axes>",
      "image/png": "[encoded data removed]"
     },
     "metadata": {},
     "output_type": "display_data"
    }
   ],
   "source": [
    "data_rev = data_rev[data_rev['net_margin'].between(-100, 100)]\n",
    "data_rev = data_rev.reset_index()\n",
    "sns.scatterplot(data=data_rev, x=\"revenue\", y=\"net_margin\")\n",
    "# График зависимости чистой рентабельности от выручки"
   ],
   "metadata": {
    "collapsed": false,
    "pycharm": {
     "name": "#%%\n"
    }
   }
  },
  {
   "cell_type": "markdown",
   "source": [
    "Оценка перспективностии отрасли\n",
    "По снижению EBIT в 2023 и 2024г. относительно предыдущих лет можно предположить, что данная отрасль сейчас переживает свои не самые лучшие времена. Определенно свою роль сыграли санкции, введенные в 2022г., увеличение цен на стройматериалы и технику. Из-за увеличения ключевой ставки в 2023 и 2024г. снижается покупательская способность.\n"
   ],
   "metadata": {
    "collapsed": false,
    "pycharm": {
     "name": "#%% md\n"
    }
   }
  },
  {
   "cell_type": "code",
   "execution_count": 76,
   "outputs": [],
   "source": [
    "net_profit_df = list_df_copy[0][['inn','correction.financialResult.current2400']].merge(list_df_copy[1][['inn','correction.financialResult.current2400']], how='inner', on='inn')\n",
    "net_profit_df['diff_n'] = round((net_profit_df['correction.financialResult.current2400_x']/(net_profit_df['correction.financialResult.current2400_y']+10**(-7)) - 1) * 100)\n",
    "net_profit_df_1 = net_profit_df.dropna(subset=['diff_n'])"
   ],
   "metadata": {
    "collapsed": false,
    "pycharm": {
     "name": "#%%\n"
    }
   }
  },
  {
   "cell_type": "code",
   "execution_count": 158,
   "outputs": [
    {
     "data": {
      "text/plain": "<Figure size 1000x600 with 1 Axes>",
      "image/png": "[encoded data removed]"
     },
     "metadata": {},
     "output_type": "display_data"
    }
   ],
   "source": [
    "plt.figure(figsize=(10, 6))\n",
    "data_p = net_profit_df_1[(net_profit_df_1.diff_n < 1000) & (net_profit_df_1.diff_n > -1000)]\n",
    "sns.histplot(data_p.diff_n, kde=False, color=\"skyblue\", edgecolor=\"black\")\n",
    "plt.title(\"Процент роста чистой прибыли компании относительно 1-летней давности\")\n",
    "plt.xlabel(\"Процент роста чистой прибыли\")\n",
    "plt.ylabel(\"Количество компаний\")\n",
    "plt.grid(axis='y', linestyle='--', alpha=0.7)\n",
    "plt.show()"
   ],
   "metadata": {
    "collapsed": false,
    "pycharm": {
     "name": "#%%\n"
    }
   }
  },
  {
   "cell_type": "code",
   "execution_count": 81,
   "outputs": [],
   "source": [
    "net_profit_df = list_df_copy[0][['inn','correction.financialResult.current2400']].merge(list_df_copy[2][['inn','correction.financialResult.current2400']], how='inner', on='inn')\n",
    "net_profit_df['diff_n'] = round((net_profit_df['correction.financialResult.current2400_x']/(net_profit_df['correction.financialResult.current2400_y']+10**(-7)) - 1) * 100)\n",
    "net_profit_df_2 = net_profit_df.dropna(subset=['diff_n'])"
   ],
   "metadata": {
    "collapsed": false,
    "pycharm": {
     "name": "#%%\n"
    }
   }
  },
  {
   "cell_type": "code",
   "execution_count": 159,
   "outputs": [
    {
     "data": {
      "text/plain": "<Figure size 1000x600 with 1 Axes>",
      "image/png": "[encoded data removed]"
     },
     "metadata": {},
     "output_type": "display_data"
    }
   ],
   "source": [
    "plt.figure(figsize=(10, 6))\n",
    "data_p = net_profit_df_2[(net_profit_df_2.diff_n < 1000) & (net_profit_df_2.diff_n > -1000)]\n",
    "sns.histplot(data_p.diff_n, kde=False, color=\"skyblue\", edgecolor=\"black\")\n",
    "plt.title(\"Процент роста чистой прибыли компании относительно 2-летней давности\")\n",
    "plt.xlabel(\"Процент роста чистой прибыли\")\n",
    "plt.ylabel(\"Количество компаний\")\n",
    "plt.grid(axis='y', linestyle='--', alpha=0.7)\n",
    "plt.show()"
   ],
   "metadata": {
    "collapsed": false,
    "pycharm": {
     "name": "#%%\n"
    }
   }
  },
  {
   "cell_type": "code",
   "execution_count": 83,
   "outputs": [],
   "source": [
    "net_profit_df = list_df_copy[0][['inn','correction.financialResult.current2400']].merge(list_df_copy[3][['inn','correction.financialResult.current2400']], how='inner', on='inn')\n",
    "net_profit_df['diff_n'] = round((net_profit_df['correction.financialResult.current2400_x']/(net_profit_df['correction.financialResult.current2400_y']+10**(-7)) - 1) * 100)\n",
    "net_profit_df_3 = net_profit_df.dropna(subset=['diff_n'])"
   ],
   "metadata": {
    "collapsed": false,
    "pycharm": {
     "name": "#%%\n"
    }
   }
  },
  {
   "cell_type": "code",
   "execution_count": 160,
   "outputs": [
    {
     "data": {
      "text/plain": "<Figure size 1000x600 with 1 Axes>",
      "image/png": "[encoded data removed]"
     },
     "metadata": {},
     "output_type": "display_data"
    }
   ],
   "source": [
    "plt.figure(figsize=(10, 6))\n",
    "data_p = net_profit_df_3[(net_profit_df_3.diff_n < 1000) & (net_profit_df_3.diff_n > -1000)]\n",
    "sns.histplot(data_p.diff_n, kde=False, color=\"skyblue\", edgecolor=\"black\")\n",
    "plt.title(\"Процент роста чистой прибыли компании относительно 3-летней давности\")\n",
    "plt.xlabel(\"Процент роста чистой прибыли\")\n",
    "plt.ylabel(\"Количество компаний\")\n",
    "plt.grid(axis='y', linestyle='--', alpha=0.7)\n",
    "plt.show()S"
   ],
   "metadata": {
    "collapsed": false,
    "pycharm": {
     "name": "#%%\n"
    }
   }
  },
  {
   "cell_type": "code",
   "execution_count": 85,
   "outputs": [],
   "source": [
    "net_profit_df = list_df_copy[0][['inn','correction.financialResult.current2400']].merge(list_df_copy[4][['inn','correction.financialResult.current2400']], how='inner', on='inn')\n",
    "net_profit_df['diff_n'] = round((net_profit_df['correction.financialResult.current2400_x']/(net_profit_df['correction.financialResult.current2400_y']+10**(-7)) - 1) * 100)\n",
    "net_profit_df_4 = net_profit_df.dropna(subset=['diff_n'])"
   ],
   "metadata": {
    "collapsed": false,
    "pycharm": {
     "name": "#%%\n"
    }
   }
  },
  {
   "cell_type": "code",
   "execution_count": 161,
   "outputs": [
    {
     "data": {
      "text/plain": "<Figure size 1000x600 with 1 Axes>",
      "image/png": "[encoded data removed]"
     },
     "metadata": {},
     "output_type": "display_data"
    }
   ],
   "source": [
    "plt.figure(figsize=(10, 6))\n",
    "data_p = net_profit_df_4[(net_profit_df_4.diff_n < 1000) & (net_profit_df_4.diff_n > -1000)]\n",
    "sns.histplot(data_p.diff_n, kde=False, color=\"skyblue\", edgecolor=\"black\")\n",
    "plt.title(\"Процент роста чистой прибыли компании относительно 4-летней давности\")\n",
    "plt.xlabel(\"Процент роста чистой прибыли\")\n",
    "plt.ylabel(\"Количество компаний\")\n",
    "plt.grid(axis='y', linestyle='--', alpha=0.7)\n",
    "plt.show()"
   ],
   "metadata": {
    "collapsed": false,
    "pycharm": {
     "name": "#%%\n"
    }
   }
  },
  {
   "cell_type": "markdown",
   "source": [
    "Анализ графиков роста процента чистой прибыли компании относительно N-летней давности:\n",
    "1. Все графики схожи между собой, не нормальны, имеют левостороннюю ассиметрию.\n",
    "2. Количество компаний с отрицательным процентом роста чистой прибыли уменьшается с увеличением N, можно предположить, что многие компание с течением времени становятся все более устойчивыми и на длинном этапе получают положительную чистую прибыль. А новые компании, в силу своей \"неопытности\", еще не успевают выйти на положительную чистую прибыль.\n",
    "3. Большинство компаний остаются в диапазоне от -150% до 150%\n",
    "4. На всех графиках правый хвост толще, чем левый. Это значит, что намного больше тех компаний, которые имеют значительный прирост в чистой прибыли, нежели те компании, который имеют значительный упадок чистой прибыли."
   ],
   "metadata": {
    "collapsed": false,
    "pycharm": {
     "name": "#%% md\n"
    }
   }
  },
  {
   "cell_type": "code",
   "execution_count": null,
   "outputs": [],
   "source": [
    "import plotly.express as px\n",
    "import pandas as pd\n",
    "\n",
    "us_cities = pd.read_csv(\n",
    "    \"https://raw.githubusercontent.com/plotly/datasets/master/us-cities-top-1k.csv\"\n",
    ")\n",
    "\n",
    "fig = px.scatter_map(\n",
    "    us_cities,\n",
    "    lat=\"lat\",\n",
    "    lon=\"lon\",\n",
    "    hover_name=\"City\",\n",
    "    hover_data=[\"State\", \"Population\"],\n",
    "    color_discrete_sequence=[\"fuchsia\"],\n",
    "    zoom=3,\n",
    "    height=300,\n",
    ")\n",
    "fig.update_layout(map_style=\"open-street-map\")\n",
    "fig.update_layout(margin={\"r\": 0, \"t\": 0, \"l\": 0, \"b\": 0})\n",
    "fig.update_layout(map_bounds={\"west\": -180, \"east\": -50, \"south\": 20, \"north\": 90})\n",
    "fig.show()\n",
    "fig.write_html(\"test_plot.html\")"
   ],
   "metadata": {
    "collapsed": false,
    "pycharm": {
     "name": "#%%\n",
     "is_executing": true
    }
   }
  },
  {
   "cell_type": "code",
   "execution_count": 112,
   "outputs": [
    {
     "name": "stdout",
     "output_type": "stream",
     "text": [
      "0    197375, Санкт-Петербург г, ул 2-я Алексеевская...\n",
      "0    400138, Волгоградская обл, г Волгоград, ул им....\n",
      "0    143403, Московская обл, г Красногорск, ул Речн...\n",
      "0    125373, Москва г, Походный пр-д, дом 4, корпус...\n",
      "0    400005, Волгоградская обл, Волгоград г, Советс...\n",
      "0    119017, Москва г, наб Кадашёвская, д 6/1/2 стр...\n",
      "0    197198, Санкт-Петербург г, пр-кт Добролюбова, ...\n",
      "0    428020, Чувашская Республика - Чувашия, Чебокс...\n",
      "0    620014, Свердловская обл, г Екатеринбург, ул Ч...\n",
      "0    144002, Московская обл, г. Электросталь, ул. К...\n",
      "0    123112, Город Москва, вн.тер. г. Муниципальный...\n",
      "0    142001, Московская обл, Домодедово г, Каширско...\n",
      "0    г. Москва, муниципальный округ Академический в...\n",
      "0    г. Москва, муниципальный округ Тверской вн.тер...\n",
      "0    360024, Кабардино-Балкарская Респ,  Нальчик г,...\n",
      "0    105118, Москва г, ш Энтузиастов, д 34, помещ 4А/4\n",
      "0     115230, Москва г, проезд Электролитный, 1, 3, 1Б\n",
      "0    620149, Свердловская обл, г Екатеринбург, ул Н...\n",
      "0    194214, Город Санкт-Петербург, вн.тер.г. муниц...\n",
      "0    117463, Москва г, пр-кт Новоясеневский, д 32, ...\n",
      "0     г. Кызыл, ул. Энергетиков, Д. 6, Литер Г, 667010\n",
      "0    625015, Тюменская обл, Тюмень г, Малиновского ...\n",
      "0    123007, Москва г, проезд 2-й Хорошёвский, д 7,...\n",
      "0    170008, Тверская обл, Тверь г, 15 лет Октября ...\n",
      "0        127473, Москва г, пер 1-й Волконский, 15, 1/3\n",
      "0    398005, Липецкая обл, Липецк г, Алмазная ул, в...\n",
      "0    123317, Москва г, ул Литвина-Седого, д. 2/13, ...\n",
      "0    143960, Московская область, г.о.Реутов, г Реут...\n",
      "0    398032, Липецкая область, г.о. город Липецк, г...\n",
      "0    142030, Московская обл, Домодедово г, Домодедо...\n",
      "0    672027, Забайкальский край, Чита г, Бутина ул,...\n",
      "0    675004, Амурская область, г Благовещенск, ул З...\n",
      "0    620142, Свердловская обл, г.о. город Екатеринб...\n",
      "0    298609, Крым Респ, г.о. Ялта, г Ялта, ул Щорса...\n",
      "0    620010, Свердловская обл, г Екатеринбург, ул А...\n",
      "0    125252, Москва г, вн.тер.г. муниципальный окру...\n",
      "0    198516, Санкт-Петербург г, Петергоф г, Санкт-П...\n",
      "0    618417, Пермский край, г Березники, ул Карла М...\n",
      "0       105082, Москва г, ул Малая Почтовая, д 8 стр 1\n",
      "0    344082, Ростовская обл, г.о. город Ростов-на-Д...\n",
      "0                      г. Уфа, ул. Правды, д. 39, к. 1\n",
      "0    101000, Москва г, пер Армянский, 9, 1, 207/40 ...\n",
      "0    196006, город Санкт-Петербург, ул Цветочная, д...\n",
      "0    629851, Ямало-Ненецкий АО, м.о. Пуровский райо...\n",
      "0    420012, Татарстан Респ, Казань г, Муштари ул, ...\n",
      "0    420021, Татарстан Респ, Казань г, Парижской Ко...\n",
      "0    197341, Санкт-Петербург г, ул Афонская, д. 2, ...\n",
      "0    655017, Хакасия Респ, г Абакан, кв-л Молодежны...\n",
      "0    633142, Новосибирская обл, р-н Мошковский, п О...\n",
      "0    127566, Москва г, ш Алтуфьевское, 48, 1, Эт 9 ...\n",
      "Name: address, dtype: object\n"
     ]
    }
   ],
   "source": [
    "data_top500 = list_df_copy[0].copy()\n",
    "data_top500 = data_top500.sort_values(by=['correction.financialResult.current2110'], ascending=False).head(500)\n",
    "print(data_top500.address.head(50))"
   ],
   "metadata": {
    "collapsed": false,
    "pycharm": {
     "name": "#%%\n"
    }
   }
  },
  {
   "cell_type": "code",
   "execution_count": null,
   "outputs": [],
   "source": [
    "import re\n",
    "\n",
    "def find_6_digits(s):\n",
    "    matches = re.findall(r'\\d{6}', str(s))\n",
    "    return int(matches[0]) if matches else None\n",
    "\n",
    "data_top500['company_postal_code'] = data_top500['address'].apply(find_6_digits)"
   ],
   "metadata": {
    "collapsed": false,
    "pycharm": {
     "name": "#%%\n",
     "is_executing": true
    }
   }
  },
  {
   "cell_type": "code",
   "execution_count": 146,
   "outputs": [],
   "source": [
    "import numpy as np\n",
    "\n",
    "cities_ru = pd.read_csv(\n",
    "    \"https://github.com/hflabs/city/blob/master/city.csv?raw=true\"\n",
    ")\n",
    "cities_ru = cities_ru.dropna(subset=['postal_code'])\n",
    "\n",
    "def find_nearest(array, value):\n",
    "    diff = np.abs(array - value)\n",
    "    idx = diff.argmin()\n",
    "    return array[idx]\n",
    "\n",
    "data_top500['nearest_postal_code'] = data_top500['company_postal_code'].apply(lambda x: find_nearest(cities_ru['postal_code'].values, x))\n",
    "data_top500['lat'] = data_top500['nearest_postal_code'].apply(lambda x: cities_ru.loc[cities_ru['postal_code'] == x, 'geo_lat'].values[0])\n",
    "data_top500['lng'] = data_top500['nearest_postal_code'].apply(lambda x: cities_ru.loc[cities_ru['postal_code'] == x, 'geo_lon'].values[0])\n"
   ],
   "metadata": {
    "collapsed": false,
    "pycharm": {
     "name": "#%%\n"
    }
   }
  },
  {
   "cell_type": "code",
   "execution_count": 147,
   "outputs": [
    {
     "name": "stdout",
     "output_type": "stream",
     "text": [
      "                                            fullName         inn  \\\n",
      "0  Общество с ограниченной ответственностью \"АВАН...  7804403002   \n",
      "0  ОБЩЕСТВО С ОГРАНИЧЕННОЙ ОТВЕТСТВЕННОСТЬЮ \"СПЕЦ...  7325124442   \n",
      "0  ОБЩЕСТВО С ОГРАНИЧЕННОЙ ОТВЕТСТВЕННОСТЬЮ \"СТРО...  7733757980   \n",
      "0  Общество с ограниченной ответственностью \"СГМ ...  7719645547   \n",
      "0  Общество с ограниченной ответственностью \"А\" С...  3444259931   \n",
      "0  Общество с ограниченной ответственностью \"Спец...  7703430017   \n",
      "0  Общество с ограниченной ответственностью \"РСТИ...  7813617113   \n",
      "0  Открытое акционерное общество Инвестиционно-ст...  2126003691   \n",
      "0                                      ООО \"ИНЖЕНЕР\"  6661069066   \n",
      "0  Общество с ограниченной ответственностью \"СТРО...  5053056969   \n",
      "\n",
      "                                             address  \\\n",
      "0  197375, Санкт-Петербург г, ул 2-я Алексеевская...   \n",
      "0  400138, Волгоградская обл, г Волгоград, ул им....   \n",
      "0  143403, Московская обл, г Красногорск, ул Речн...   \n",
      "0  125373, Москва г, Походный пр-д, дом 4, корпус...   \n",
      "0  400005, Волгоградская обл, Волгоград г, Советс...   \n",
      "0  119017, Москва г, наб Кадашёвская, д 6/1/2 стр...   \n",
      "0  197198, Санкт-Петербург г, пр-кт Добролюбова, ...   \n",
      "0  428020, Чувашская Республика - Чувашия, Чебокс...   \n",
      "0  620014, Свердловская обл, г Екатеринбург, ул Ч...   \n",
      "0  144002, Московская обл, г. Электросталь, ул. К...   \n",
      "\n",
      "   correction.financialResult.current2210  \\\n",
      "0                                     NaN   \n",
      "0                                     0.0   \n",
      "0                                     NaN   \n",
      "0                                 42124.0   \n",
      "0                                 21560.0   \n",
      "0                                     0.0   \n",
      "0                                     NaN   \n",
      "0                                 54632.0   \n",
      "0                                     NaN   \n",
      "0                                     NaN   \n",
      "\n",
      "   correction.financialResult.current2220  \\\n",
      "0                                     NaN   \n",
      "0                                     0.0   \n",
      "0                                144706.0   \n",
      "0                                114198.0   \n",
      "0                                 28606.0   \n",
      "0                                152300.0   \n",
      "0                                145290.0   \n",
      "0                                 64587.0   \n",
      "0                                -13510.0   \n",
      "0                                155854.0   \n",
      "\n",
      "   correction.financialResult.current2200  \\\n",
      "0                                136605.0   \n",
      "0                                532838.0   \n",
      "0                               -187545.0   \n",
      "0                                 11404.0   \n",
      "0                                274798.0   \n",
      "0                               1530136.0   \n",
      "0                               1112635.0   \n",
      "0                                 20918.0   \n",
      "0                                 90997.0   \n",
      "0                                 65033.0   \n",
      "\n",
      "   correction.financialResult.current2310  \\\n",
      "0                                     NaN   \n",
      "0                                     NaN   \n",
      "0                                     NaN   \n",
      "0                                     NaN   \n",
      "0                                     NaN   \n",
      "0                                     NaN   \n",
      "0                                     NaN   \n",
      "0                                  5100.0   \n",
      "0                                     NaN   \n",
      "0                                     NaN   \n",
      "\n",
      "   correction.financialResult.current2320  \\\n",
      "0                                     1.0   \n",
      "0                                 13072.0   \n",
      "0                                  2005.0   \n",
      "0                                     NaN   \n",
      "0                                 54493.0   \n",
      "0                               1021632.0   \n",
      "0                                 27948.0   \n",
      "0                                 21536.0   \n",
      "0                                     NaN   \n",
      "0                                  2844.0   \n",
      "\n",
      "   correction.financialResult.current2330  \\\n",
      "0                                     NaN   \n",
      "0                                     0.0   \n",
      "0                                 91433.0   \n",
      "0                                     NaN   \n",
      "0                                     0.0   \n",
      "0                               1246157.0   \n",
      "0                                125304.0   \n",
      "0                                 17702.0   \n",
      "0                                     NaN   \n",
      "0                                   986.0   \n",
      "\n",
      "   correction.financialResult.current2340  ...  \\\n",
      "0                                   513.0  ...   \n",
      "0                                  9012.0  ...   \n",
      "0                                330465.0  ...   \n",
      "0                                 88950.0  ...   \n",
      "0                                   533.0  ...   \n",
      "0                                 10611.0  ...   \n",
      "0                                   484.0  ...   \n",
      "0                                173865.0  ...   \n",
      "0                                  3321.0  ...   \n",
      "0                                  1839.0  ...   \n",
      "\n",
      "   correction.financialResult.current2400  \\\n",
      "0                                136891.0   \n",
      "0                                 98689.0   \n",
      "0                               -187622.0   \n",
      "0                                -16947.0   \n",
      "0                                176478.0   \n",
      "0                                928297.0   \n",
      "0                                754849.0   \n",
      "0                                  4746.0   \n",
      "0                                 56287.0   \n",
      "0                                 48486.0   \n",
      "\n",
      "   correction.financialResult.current2110  \\\n",
      "0                              82305408.0   \n",
      "0                               6214546.0   \n",
      "0                               4603387.0   \n",
      "0                               4069586.0   \n",
      "0                               3381306.0   \n",
      "0                               3298747.0   \n",
      "0                               2817162.0   \n",
      "0                               2630461.0   \n",
      "0                               2467221.0   \n",
      "0                               2164721.0   \n",
      "\n",
      "   correction.financialResult.current2120  \\\n",
      "0                              82168803.0   \n",
      "0                               5681708.0   \n",
      "0                               4646226.0   \n",
      "0                               3901860.0   \n",
      "0                               3056342.0   \n",
      "0                               1616311.0   \n",
      "0                               1559237.0   \n",
      "0                               2490324.0   \n",
      "0                               2362714.0   \n",
      "0                               1943834.0   \n",
      "\n",
      "   correction.financialResult.current2100      EBIT    EBIT_2  \\\n",
      "0                                136605.0       NaN       NaN   \n",
      "0                                532838.0   57916.0   57916.0   \n",
      "0                                -42839.0  -98194.0  -98194.0   \n",
      "0                                167726.0       NaN  -17024.0   \n",
      "0                                324964.0   74173.0   74173.0   \n",
      "0                               1682436.0  841294.0  841294.0   \n",
      "0                               1257925.0  593557.0  593557.0   \n",
      "0                                140137.0   -6737.0   -6737.0   \n",
      "0                                104507.0       NaN   41400.0   \n",
      "0                                220887.0   34111.0   34111.0   \n",
      "\n",
      "   company_postal_code  nearest_postal_code        lat        lng  \n",
      "0             197375.0             190000.0  59.939131  30.315900  \n",
      "0             400138.0             400000.0  48.707004  44.517034  \n",
      "0             143403.0             143401.0  55.831720  37.329527  \n",
      "0             125373.0             140000.0  55.676499  37.898125  \n",
      "0             400005.0             400000.0  48.707004  44.517034  \n",
      "0             119017.0             101000.0  55.754047  37.620405  \n",
      "0             197198.0             190000.0  59.939131  30.315900  \n",
      "0             428020.0             428000.0  56.143830  47.248978  \n",
      "0             620014.0             620000.0  56.838522  60.605491  \n",
      "0             144002.0             144000.0  55.784729  38.444705  \n",
      "\n",
      "[10 rows x 23 columns]\n"
     ]
    }
   ],
   "source": [
    "print(data_top500.head(10))"
   ],
   "metadata": {
    "collapsed": false,
    "pycharm": {
     "name": "#%%\n"
    }
   }
  },
  {
   "cell_type": "code",
   "execution_count": 156,
   "outputs": [
    {
     "data": {
      "application/vnd.plotly.v1+json": {
       "data": [
        {
         "customdata": [
          [
           "197375, Санкт-Петербург г, ул 2-я Алексеевская, д. 7, литера А, помещ. 9Н",
           "7804403002",
           136891.0
          ],
          [
           "400138, Волгоградская обл, г Волгоград, ул им. Солнечникова, д 11, кв 1",
           "7325124442",
           98689.0
          ],
          [
           "143403, Московская обл, г Красногорск, ул Речная, 25а",
           "7733757980",
           -187622.0
          ],
          [
           "125373, Москва г, Походный пр-д, дом 4, корпус 1, помещение XII, офис 713",
           "7719645547",
           -16947.0
          ],
          [
           "400005, Волгоградская обл, Волгоград г, Советская ул, дом № 28, цоколь 1",
           "3444259931",
           176478.0
          ],
          [
           "119017, Москва г, наб Кадашёвская, д 6/1/2 стр 1, помещ 3/1",
           "7703430017",
           928297.0
          ],
          [
           "197198, Санкт-Петербург г, пр-кт Добролюбова, 17, С, Пом 12-Н Часть 3",
           "7813617113",
           754849.0
          ],
          [
           "428020, Чувашская Республика - Чувашия, Чебоксары г, Петрова ул, дом № 6, помещение 1, офис 3",
           "2126003691",
           4746.0
          ],
          [
           "620014, Свердловская обл, г Екатеринбург, ул Чернышевского, 7, 409",
           "6661069066",
           56287.0
          ],
          [
           "144002, Московская обл, г. Электросталь, ул. Красная, дом 84, помещение 02",
           "5053056969",
           48486.0
          ],
          [
           "123112, Город Москва, вн.тер. г. Муниципальный Округ Пресненский, наб Пресненская, дом 12, этаж 55, помещение IV",
           "7706417617",
           55522.0
          ],
          [
           "142001, Московская обл, Домодедово г, Каширское Шоссе (северный Мкр.) ул, дом 4, корпус 1, офис 212/6, помещение . 1",
           "5009110208",
           73380.0
          ],
          [
           "г. Москва, муниципальный округ Академический вн.тер.г., ул. Вавилова, Д. 79, К. 1, ПОМЕЩ. 6А/4/2, 117335",
           "7736348030",
           230141.0
          ],
          [
           "г. Москва, муниципальный округ Тверской вн.тер.г., ул. 2-я Брестская, д. 8, ПОМЕЩ. 4/1, 125047",
           "7730298897",
           0.0
          ],
          [
           "360024, Кабардино-Балкарская Респ,  Нальчик г,  Промышленный проезд 3-й ул, д. Б.Н, ",
           "0711021079",
           16440.0
          ],
          [
           "105118, Москва г, ш Энтузиастов, д 34, помещ 4А/4",
           "5007075244",
           4670.0
          ],
          [
           "115230, Москва г, проезд Электролитный, 1, 3, 1Б",
           "7733732294",
           135687.0
          ],
          [
           "620149, Свердловская обл, г Екатеринбург, ул Начдива Онуфриева, 10, 5",
           "6658399875",
           187984.0
          ],
          [
           "194214, Город Санкт-Петербург, вн.тер.г. муниципальный округ Светлановское, ул Лиственная, д. 20, к. 2, стр. 1, офис 50Н",
           "7802707358",
           51228.0
          ],
          [
           "117463, Москва г, пр-кт Новоясеневский, д 32, к 1, Э 1 Пом VI К 2 оф 44",
           "7728843150",
           9101.0
          ],
          [
           "г. Кызыл, ул. Энергетиков, Д. 6, Литер Г, 667010",
           "1717009383",
           80107.0
          ],
          [
           "625015, Тюменская обл, Тюмень г, Малиновского ул, дом № 6/4В",
           "7203433757",
           38190.0
          ],
          [
           "123007, Москва г, проезд 2-й Хорошёвский, д 7, к 1",
           "7714967999",
           37372.0
          ],
          [
           "170008, Тверская обл, Тверь г, 15 лет Октября ул, дом № 10, помещение IV",
           "6950210102",
           2323.0
          ],
          [
           "127473, Москва г, пер 1-й Волконский, 15, 1/3",
           "9731014414",
           16493.0
          ],
          [
           "398005, Липецкая обл, Липецк г, Алмазная ул, владение 12",
           "4824060340",
           12069.0
          ],
          [
           "123317, Москва г, ул Литвина-Седого, д. 2/13, кор. В, стр. 1, кв. 1ц, ",
           "5029251415",
           -1677.0
          ],
          [
           "143960, Московская область, г.о.Реутов, г Реутов, проезд Северный, д.7, помещ.1",
           "5018196032",
           96468.0
          ],
          [
           "398032, Липецкая область, г.о. город Липецк, г Липецк, проезд Поперечный, влд. 15",
           "4825067331",
           7150.0
          ],
          [
           "142030, Московская обл, Домодедово г, Домодедово с, Творчества ул, строение 12, этаж 2, помещение 1, комн.16",
           "5009113921",
           -31891.0
          ],
          [
           "672027, Забайкальский край, Чита г, Бутина ул, дом № 72, оф.411",
           "7536167389",
           104453.0
          ],
          [
           "675004, Амурская область, г Благовещенск, ул Зейская, д. 134, кв. 601",
           "2801255484",
           737547.0
          ],
          [
           "620142, Свердловская обл, г.о. город Екатеринбург, г Екатеринбург, ул Чайковского, д. 15, кв. 32, ",
           "6671069996",
           50075.0
          ],
          [
           "298609, Крым Респ, г.о. Ялта, г Ялта, ул Щорса, д. 47, кв. 1",
           "9103071553",
           108602.0
          ],
          [
           "620010, Свердловская обл, г Екатеринбург, ул Альпинистов, стр 73, пом.1",
           "6670167528",
           3243.0
          ],
          [
           "125252, Москва г, вн.тер.г. муниципальный округ Хорошевский, проезд Берёзовой Рощи, д. 4, кв. пом. 1/3, ",
           "7743266444",
           22789.0
          ],
          [
           "198516, Санкт-Петербург г, Петергоф г, Санкт-Петербургский пр-кт, дом 60, литер Ф, офис 214",
           "7841500188",
           7155.0
          ],
          [
           "618417, Пермский край, г Березники, ул Карла Маркса, 60, 8",
           "5911038512",
           88325.0
          ],
          [
           "105082, Москва г, ул Малая Почтовая, д 8 стр 1",
           "5032333259",
           49848.0
          ],
          [
           "344082, Ростовская обл, г.о. город Ростов-на-Дону, г Ростов-на-Дону, ул Береговая, зд. 8, помещение 1405, ",
           "6165160790",
           2321.0
          ],
          [
           "г. Уфа, ул. Правды, д. 39, к. 1",
           "0278937149",
           3057.0
          ],
          [
           "101000, Москва г, пер Армянский, 9, 1, 207/40 ЭТАЖ 2",
           "5024192205",
           36413.0
          ],
          [
           "196006, город Санкт-Петербург, ул Цветочная, дом 16, литера В",
           "7810466811",
           19301.0
          ],
          [
           "629851, Ямало-Ненецкий АО, м.о. Пуровский район, г Тарко-Сале, зона Промышленная, зд. 2, ",
           "8911018470",
           314311.0
          ],
          [
           "420012, Татарстан Респ, Казань г, Муштари ул, дом № 11А",
           "1655248928",
           60642.0
          ],
          [
           "420021, Татарстан Респ, Казань г, Парижской Коммуны ул, дом № 8, офис 25",
           "1657124526",
           128165.0
          ],
          [
           "197341, Санкт-Петербург г, ул Афонская, д. 2, литера А, офис 3-222",
           "7816600799",
           3067.0
          ],
          [
           "655017, Хакасия Респ, г Абакан, кв-л Молодежный, 7а",
           "1901076374",
           349870.0
          ],
          [
           "633142, Новосибирская обл, р-н Мошковский, п Октябрьский, ул Локтинская, д. 1, офис 3",
           "5432003142",
           111172.0
          ],
          [
           "127566, Москва г, ш Алтуфьевское, 48, 1, Эт 9 Пом I оф 901",
           "7724745755",
           89807.0
          ],
          [
           "420088, Татарстан Респ, г Казань, ул Зур Урам, д. 42, помещ. 49-52,54-58",
           "1658231048",
           45341.0
          ],
          [
           "196191, Город Санкт-Петербург, вн.тер. г. Муниципальный Округ Новоизмайловское, пр-кт Ленинский, дом 168, литера А, помещение 7Н, офис 60 И 61",
           "7810589845",
           1189.0
          ],
          [
           "248021, Калужская обл, Калуга г, Билибина ул, дом 6",
           "4028060536",
           347681.0
          ],
          [
           "354340, Краснодарский край, г Сочи,  Авиационная ул (Адлерский р-н), 3А",
           "2317075778",
           33814.0
          ],
          [
           "214000, Смоленская обл, г Смоленск, пер Чуриловский, д. 7/19, офис 4",
           "6732106408",
           217149.0
          ],
          [
           "г. Санкт-Петербург, Невский пр-кт, д. 117, к. Б, кв. 6-Н, 191024",
           "7825483746",
           160346.0
          ],
          [
           "308006, Белгородская область, г Белгород, ул Корочанская, д. 132а, офис 5",
           "3123397954",
           33750.0
          ],
          [
           "192102, Санкт-Петербург г, ул Бухарестская, д. 24, кор. 1, литера А, кв. Пом. 19-Н Пом. 42, ",
           "7816752400",
           15889.0
          ],
          [
           "г. Белгород, Народный б-р, д. 111, кв. 508, 308000",
           "3123228160",
           264903.0
          ],
          [
           "125373, Москва г, вн.тер.г. муниципальный округ Южное Тушино, пр-д Походный, д. 4, кор. 1, кв. IX, ",
           "7716922376",
           58245.0
          ],
          [
           "123242, Город Москва, вн.тер.г. муниципальный округ Пресненский, ул Зоологическая, д. 10, помещ. 2/5",
           "7720714650",
           109480.0
          ],
          [
           "105120, Москва г, ул Сыромятническая Ниж, 10, 2, Пом1Эт7",
           "7709759231",
           347257.0
          ],
          [
           "630024, Новосибирская обл, г Новосибирск, ул Бетонная, д. 10",
           "5405442616",
           127631.0
          ],
          [
           "236004, Калининградская обл, Калининград г, Водная ул, дом № 10 этаж 3",
           "3917022667",
           11665.0
          ],
          [
           "163045, Архангельская обл, Архангельск г, Талажское ш, дом № 5, строение 6",
           "2901285115",
           29095.0
          ],
          [
           "241020, Брянская обл, Брянск г, Уральская ул, дом № 109, оф.1",
           "3245500285",
           10483.0
          ],
          [
           "Башкортостан Респ, р-н Уфимский, с Михайловка, ул Дмитриевская, 9",
           "0275075025",
           52504.0
          ],
          [
           "630099, Новосибирская область, г.о. город Новосибирск, г Новосибирск, ул Военная, д. 4",
           "5406825393",
           13636.0
          ],
          [
           "Красноярский край, г Красноярск, ул Кирова, д. 2, помещ. 80, комн.9, 10, 660049",
           "2461024536",
           2359.0
          ],
          [
           "198095, Санкт-Петербург г, Митрофаньевское ш, дом 5, корпус 2, литера Б",
           "7802148357",
           55578.0
          ],
          [
           "426039, г. Ижевск, ул. Новосмирновская, д. 10",
           "1834050040",
           170.0
          ],
          [
           "194100, Санкт-Петербург г, ул Литовская, д 4 литера А",
           "7841301016",
           147929.0
          ],
          [
           "197198, Санкт-Петербург г, пр-кт Добролюбова, 17, С, Помещение 14-Н",
           "7813619985",
           976794.0
          ],
          [
           "420094, Республика Татарстан (Татарстан), г Казань, ул Короленко, д. 115, офис 47",
           "1661034120",
           30344.0
          ],
          [
           "125371, Москва г, ш Волоколамское, д. 116, стр. 1, помещ. 329, этаж 3",
           "6901081976",
           15222.0
          ],
          [
           "г. Москва, ул. Электрозаводская, д. 24, стр. 1, 107023",
           "1327022163",
           14920.0
          ],
          [
           "191124, Санкт-Петербург г, Смольный пр-кт, дом № 11, литера А, помещение 8Н",
           "7806368219",
           25096.0
          ],
          [
           "603107, Нижегородская обл, Нижний Новгород г, Заовражная ул, дом № 6",
           "5261026323",
           86286.0
          ],
          [
           "119602, Москва г, ул Никулинская, д 19, помещ 1/1",
           "7730122318",
           88262.0
          ],
          [
           "423462, Республика Татарстан, Альметьевск, Советская, дом 186 Б, офис 2",
           "1644070256",
           279852.0
          ],
          [
           "643,366034,20,,Грозный г,,Дэги Имрановича Багаева (Ахматовский р-н ул,17,,03/02",
           "9706004003",
           42213.0
          ],
          [
           "140104, Московская обл, Раменское г, Высоковольтная ул, дом 21, помещение 4",
           "5040155680",
           344492.0
          ],
          [
           "664007, Иркутская область, г.о. Город Иркутск, г Иркутск, ул Фридриха Энгельса, дом 17, офис 9",
           "3808284310",
           12889.0
          ],
          [
           "125315, Москва г, вн.тер.г. муниципальный округ Аэропорт, пр-кт Ленинградский, д. 72, к. 1",
           "9705140532",
           50476.0
          ],
          [
           "450018, Башкортостан Респ, г.о. город Уфа, Уфа г, Даяна Мурзина ул, дом 9/1, офис 2А",
           "0274925865",
           80427.0
          ],
          [
           "197022, Санкт-Петербург г, вн.тер.г. муниципальный округ Аптекарский остров, ул Профессора Попова, д. 23, литера Д, помещ. 36-Н, ком. 46",
           "7811421411",
           11210.0
          ],
          [
           "101000, Г.Москва, Москва, УЛ ПОКРОВКА, Д. 43, СТР. 2, ПОМЕЩ. VIII ЭТАЖ 3, КОМ. 5",
           "9702009850",
           18960.0
          ],
          [
           "450015, Республика Башкортостан, г Уфа, ул Карла Маркса, д. 35а, этаж 2, помещ. 1",
           "0278978339",
           3126.0
          ],
          [
           "660050, Красноярский край, г Красноярск, ул Кутузова, зд 1 стр 37, 1-16",
           "2461042084",
           246.0
          ],
          [
           "295014, Республика Крым, г.о. Симферополь, г Симферополь, ул Мраморная, д. 3/6, офис 3.3",
           "9103002856",
           73999.0
          ],
          [
           "129090, Москва г, вн.тер.г. муниципальный округ Мещанский, пр-кт Мира, д. 19, стр. 1, кв. этаж/помещ.2/1,ком.37",
           "7703592360",
           14983.0
          ],
          [
           "690091, Приморский край, г. Владивосток, ул. Пушкинская, д. 17А, кв. 1",
           "2539054320",
           322131.0
          ],
          [
           "143405, Московская обл, г Красногорск, ш Ильинское, д. 1А, этаж 9, помещ. 9Б/1",
           "5024223037",
           14376.0
          ],
          [
           "111141, Москва г, ул. Перовская, дом 21, Э 2 ПОМ III К 25 ОФ 20",
           "7720644805",
           16691.0
          ],
          [
           "364063, Чеченская Респ, г Грозный, ул им Мирзоева, двлд. 25",
           "2014259624",
           2155.0
          ],
          [
           "140411, Московская область, г Коломна, пр-кт Кирова, Дом 62, ком. 3",
           "5022055355",
           5421.0
          ],
          [
           "443105, Самарская обл, Самара г, Юных Пионеров пр-кт, дом № 150, кв. 20",
           "6312038353",
           180352.0
          ],
          [
           "420087, Татарстан Респ, Казань г, Гвардейская ул, дом № 54, офис 404",
           "1660322976",
           57735.0
          ],
          [
           "197198, Санкт-Петербург г, пр-кт Большой П.С., д. 14, литера А, помещ. 5Н",
           "7814398182",
           6254.0
          ],
          [
           "299029, Севастополь г, ул Соловьева, 4, 6/Б",
           "9204563512",
           -8070.0
          ],
          [
           "129075, Город Москва, вн.тер.г. муниципальный округ Останкинский, ул 2-я Новоостанкинская, д. 12, помещ. 6/1",
           "7704592660",
           83809.0
          ],
          [
           "142718, Московская обл, г.о. Ленинский, ЖК Бутово-Парк, д. 14, к. 1, помещ. 9",
           "5040146189",
           102223.0
          ],
          [
           "400105, Волгоградская обл, г Волгоград, ул Богунская, 12а",
           "3442098118",
           119325.0
          ],
          [
           "105005, Москва г, ул Бауманская, 43/1",
           "9725122242",
           24039.0
          ],
          [
           "127521, Москва г, ул Анненская, 17, 1",
           "5016017305",
           14078.0
          ],
          [
           "123290, Москва г, 1-й Магистральный туп, дом 5А, этаж 6, комната 22",
           "5079011585",
           43779.0
          ],
          [
           "690911, Приморский край, г Владивосток, ул Анны Щетининой, д. 39, кв. 1, ",
           "2543121643",
           112499.0
          ],
          [
           "432012, Ульяновская обл, Ульяновск г, Луначарского ул, дом № 23В",
           "7321316785",
           55737.0
          ],
          [
           "420087, Татарстан Респ, г Казань, ул Родины, зд. 7Е, офис 67, помещ. 1000",
           "1650074636",
           5091.0
          ],
          [
           "355028, Ставропольский край, г Ставрополь, ул Павла Буравцева, д 42, к 1, кв 12",
           "2635222257",
           18289.0
          ],
          [
           "160028, Вологодская обл, городской округ город Вологда, Вологда г, Окружное ш, дом 1",
           "3525115173",
           12178.0
          ],
          [
           "442761, Пензенская область, р-н Бессоновский, с Чемодановка, ул Дорожная, двлд. 1",
           "7716825630",
           7227.0
          ],
          [
           "630083, Новосибирская обл, городской округ город Новосибирск, Новосибирск г, Водопроводная ул, дом 1А, офис 207",
           "5407486094",
           8583.0
          ],
          [
           "141006, Московская область, г.о. Мытищи, г Мытищи, пр-кт Олимпийский, стр. 13А",
           "5029259365",
           10261.0
          ],
          [
           "г. Ульяновск, Московское ш., д. 92, стр. 44, пом. 2, 432034",
           "7328076959",
           52367.0
          ],
          [
           "140053, Московская обл, г. Котельники, Угрешский проезд, дом 3А, помещение 11",
           "5027231773",
           124623.0
          ],
          [
           "424007, Марий Эл респ, г Йошкар-Ола, ул Машиностроителей, д. 74в",
           "1215234064",
           5724.0
          ],
          [
           "423570, Республика Татарстан (Татарстан), м.р-н Нижнекамский, г.п. город Нижнекамск, г Нижнекамск, ул Чистопольская, д. 29",
           "1651052642",
           64028.0
          ],
          [
           "690002, Приморский край, г Владивосток, пр-кт Красного Знамени, д. 59, офис 29",
           "2543151197",
           -40624.0
          ],
          [
           "123290, Москва г, Магистральный 1-Й проезд, дом 11, строение 1, помещение 1, этаж 3, комната 86",
           "7731457187",
           1402.0
          ],
          [
           "155251, Ивановская область, м.р-н Родниковский, г.п. Родниковское, г Родники, проезд Малышевский, д. 3",
           "4401152985",
           405496.0
          ],
          [
           "646970, Омская обл, р-н Кормиловский, рп Кормиловка, ул Первомайская, 54",
           "5517201320",
           609916.0
          ],
          [
           "420030, Татарстан Респ, Казань г, Архангельский пер, дом № 7",
           "1656050350",
           1635.0
          ],
          [
           "г. Москва, Чечёрский пр-д, д. 120, пом. 1/1, 117042",
           "7716980530",
           25.0
          ],
          [
           "191186, Санкт-Петербург г, Канала Грибоедова наб, дом 6/2, литера А, помещение 25-Н, офис 41, рабочее место 4",
           "7802651514",
           9081.0
          ],
          [
           "350000, Краснодарский край, г Краснодар, ул Красных Партизан, 222, Помещение 1",
           "2311179474",
           67292.0
          ],
          [
           "196233, Санкт-Петербург г, ул Орджоникидзе, 52, лит. А, 92-Н",
           "7810244569",
           1611.0
          ],
          [
           "160009, Вологодская область, г Вологда, ул Челюскинцев, д. 47, помещ. 8А",
           "3525334182",
           101804.0
          ],
          [
           "191014, Санкт-Петербург г, ул Рылеева, 11, А, Пом. 7-Н",
           "7841088133",
           300279.0
          ],
          [
           "677000, Республика Саха (Якутия), г. Якутск, ул. Песчаная, дом 74",
           "1435138983",
           119511.0
          ],
          [
           "187021, Ленинградская область, м.р-н Тосненский, г.п. Фёдоровское, гп Фёдоровское, ул Почтовая, д. 44а",
           "7816629935",
           31288.0
          ],
          [
           "105118, Город Москва, вн.тер. г. Муниципальный Округ Перово, ш Энтузиастов, дом 34, помещение 10П",
           "7724403783",
           117198.0
          ],
          [
           "107014, Город Москва, вн.тер. г. Муниципальный Округ Сокольники, ул 1-Я Боевская, дом 6",
           "9718162011",
           16343.0
          ],
          [
           "123308, Город Москва, пр-д Новохорошевский, дом 18, офис 24; 25",
           "7733712788",
           76793.0
          ],
          [
           "121609, Москва г, ш Рублёвское, 28",
           "7710491300",
           94855.0
          ],
          [
           "141441, Московская область, г.о. Химки, д Елино, ул Летняя, стр. 8с",
           "5047068564",
           39856.0
          ],
          [
           "108811, Москва г, р-н Коммунарка, д Саларьево, влд 7 стр 5",
           "9729336573",
           227696.0
          ],
          [
           "460525, Оренбургская обл, р-н Оренбургский, с Благословенка, ул Кооперативная, д 43",
           "5638050428",
           282356.0
          ],
          [
           "107014, г. Москва, вн.тер.г.муниципальный округ Сокольники, ул 1-я Боевская, д. 2/12, стр 4, пом 1/1",
           "3241006974",
           28903.0
          ],
          [
           "101000, Город Москва, вн.тер.г. муниципальный округ Басманный, пер Армянский, д. 9, стр. 1, помещ. 10/1",
           "7716834257",
           3559.0
          ],
          [
           "108814, Город Москва, р-н Коммунарка, п Коммунарка, ул Александры Монаховой, дом 30, строение 1, офис 516",
           "7733661420",
           112296.0
          ],
          [
           "115114, Москва г, Дербеневская ул, дом 24, строение 3, комната 22",
           "6330032139",
           137775.0
          ],
          [
           "301836, Тульская обл, р-н Богородицкий, г Богородицк, ул Коммунаров, д 76",
           "7112500727",
           41783.0
          ],
          [
           "660012, Красноярский край, г. Красноярск, ул. Карамзина, дом 28А, офис 201",
           "2464122130",
           21862.0
          ],
          [
           "350080, Краснодарский край, г Краснодар, ул Красноармейская, 40, Помещения 5/1",
           "2311084448",
           7021.0
          ],
          [
           "420061, Республика Татарстан (Татарстан), г. Казань, ул. Николая Ершова, дом 1А, помещение 975",
           "1655317280",
           74314.0
          ],
          [
           "364020, Чеченская Респ, г Грозный, ул Н.А.Назарбаева, 87/9, 1/34",
           "2004011141",
           1839.0
          ],
          [
           "236043, Калининградская обл, г Калининград, ул В.Денисова, д 24, офис 1",
           "3907000135",
           26914.0
          ],
          [
           "398017, Липецкая обл, г Липецк, ул 9-го Мая, 14",
           "4823038399",
           42969.0
          ],
          [
           "143403, Московская обл, Красногорск г, Лесная ул, дом 10",
           "5024161253",
           41622.0
          ],
          [
           "353440, Краснодарский край, р-н Анапский, г Анапа, пр-кт Революции, 3, 1",
           "2301093108",
           -247.0
          ],
          [
           "690078, Приморский край, г Владивосток, пр-кт Острякова, д 49",
           "2540277265",
           243361.0
          ],
          [
           "115419, Москва г, Орджоникидзе ул, дом 11, строение 44, этаж 9, помещение 1, комната 3",
           "7731513145",
           843.0
          ],
          [
           "119421, Город Москва, пр-кт Ленинский, дом 111, корпус 1, офис 201",
           "7723568486",
           60033.0
          ],
          [
           "117342, Москва г, Бутлерова ул, д.17Б, помещение XI, комната 139",
           "7728896297",
           15367.0
          ],
          [
           "117556, Москва г, ул Фруктовая, д 14, 5",
           "7710568658",
           -13972.0
          ],
          [
           "620000, Свердловская область, г Екатеринбург, ул Горького, стр. 45, офис 30",
           "6670417055",
           -5041.0
          ],
          [
           "111524, Москва г, вн.тер.г. муниципальный округ Перово, ул Электродная, д. 12, стр. 1, этаж 5, кабинет 1Б",
           "9725028948",
           4749.0
          ],
          [
           "115184, Москва г, Новокузнецкий 1-Й пер, дом № 10А, офис 26 Этаж 2 Подъезд 1",
           "5904243246",
           145218.0
          ],
          [
           "625033, Тюменская обл, г Тюмень, ул Монтажников, д 61, оф.3",
           "7202206536",
           24402.0
          ],
          [
           "660135, Красноярский край, г Красноярск, ул Взлетная, зд. 7, кв. 13, ком. 21-23",
           "2464222670",
           3056.0
          ],
          [
           "170043, Тверская обл, г Тверь, ул Левитана, д. 48, к. 2, помещ. 21, офис 32024",
           "6950126034",
           33756.0
          ],
          [
           "115054, Город Москва, вн.тер. г. Муниципальный Округ Замоскворечье, пер Большой Строченовский, дом 7, этаж/помещ. 3/Х, комната 6,7,8",
           "9710084499",
           1008.0
          ],
          [
           "295021, Республика Крым, г.о. Симферополь, г Симферополь, ул Данилова, зд. 55, офис 312,313",
           "9102021253",
           85969.0
          ],
          [
           "197183, Санкт-Петербург г, Приморский пр-кт, дом 6, литер А, помещение 22Н",
           "7810358654",
           39867.0
          ],
          [
           "108818, Москва г, р-н Троицк, ул 1-я Ватутинская, д 12 стр 4",
           "5003066337",
           -168216.0
          ],
          [
           "423730, Татарстан Респ, Актанышский р-н, Аняково д, Ш.Шаймиева ул, дом № 8А",
           "1604010540",
           4770.0
          ],
          [
           "Курская обл, г Курск, ул Дзержинского, д. 9а, кв. 508, ",
           "4632297547",
           65081.0
          ],
          [
           "404133, Волгоградская обл, г Волжский, 353А",
           "3435052585",
           11765.0
          ],
          [
           "101000, Москва г, ул Мясницкая, 24/7, 3, IV",
           "5024208198",
           16569.0
          ],
          [
           "107553, Город Москва, ул. Большая Черкизовская, дом 20, комната П4",
           "7718300162",
           78470.0
          ],
          [
           "620089, Свердловская обл, г Екатеринбург, пер Базовый, стр. 39",
           "6673227920",
           32417.0
          ],
          [
           "309511, Белгородская область, г. Старый Оскол, мкр Олимпийский, дом 62",
           "3128001437",
           477669.0
          ],
          [
           "236029, Калининградская область, м.о. Гурьевский, п Невское, зд. 6, офис 1",
           "3906314996",
           107766.0
          ],
          [
           "191036, Санкт-Петербург г, вн.тер. г. муниципальный округ Смольнинское, ул Жуковского, д. 63, литера А, офис 116, помещ. 3-Н",
           "5503081397",
           14587.0
          ],
          [
           "123592, Город Москва, вн.тер.г. муниципальный округ Строгино, ул Кулакова, д. 20, стр. 1А",
           "7743744940",
           118729.0
          ],
          [
           "420087, Республика Татарстан (Татарстан), г.о. Город Казань, г Казань, ул Аделя Кутуя, здание 86, корпус 3, офис 1",
           "1660339627",
           27401.0
          ],
          [
           "620000, Свердловская обл, г.о. город Екатеринбург, г Екатеринбург, ул Горького, стр. 57, офис 3.13",
           "6672174619",
           83714.0
          ],
          [
           "690091, Приморский край, г Владивосток, ул Светланская, 51А",
           "2543051851",
           28317.0
          ],
          [
           "644015, Омская обл, г Омск, ул Граничная, 244А",
           "5507254386",
           2367.0
          ],
          [
           "398007, Липецкая обл, Липецк г, Ушинского ул, дом № 56",
           "4826071443",
           100092.0
          ],
          [
           "450073, Республика Башкортостан, г.о. Город Уфа, г Уфа, ул Баязита Бикбая, дом 44А, помещение 302",
           "0276156728",
           10119.0
          ],
          [
           "129110, Москва г, ул Средняя Переяславская, 27, 1, 16п",
           "9702057283",
           1724.0
          ],
          [
           "109028, Москва г, вн.тер.г. муниципальный округ Басманный, б-р Покровский, д. 8, стр. 2А, помещение 2/5, ",
           "7105019604",
           18341.0
          ],
          [
           "125047, Москва г, Миусская пл, дом № 2,  эт/ком 2/1",
           "7733043569",
           5488.0
          ],
          [
           "117461, Город Москва, ул Каховка, д. 22, к. 4, кв. 1",
           "2465218282",
           63877.0
          ],
          [
           "625013, Тюменская обл, г Тюмень, ул Пермякова, 1, 1004",
           "7202100988",
           117963.0
          ],
          [
           "117105, Москва г, Варшавское ш, дом № 26, строение 11, помещение 13",
           "7726386318",
           29671.0
          ],
          [
           "620026, Свердловская обл, г Екатеринбург, ул Тверитина, д 34, кв 8",
           "6673210179",
           103588.0
          ],
          [
           "623702, Свердловская обл, г Березовский, пр-кт Александровский, 3, 1",
           "6678068222",
           236921.0
          ],
          [
           "101000, Город Москва, пер Большой Спасоглинищевский, д. 3, стр. 8, этаж 4",
           "7751023149",
           10984.0
          ],
          [
           "694350, Сахалинская область, р-н Смирныховский, пгт Смирных, ул Пирогова, зд. 4В",
           "6514009098",
           550775.0
          ],
          [
           "Московская обл., г. Одинцово, с. Дубки, Можайское ш., д. 34, ЭТ./ПОМ. 1/8, 143081",
           "7727622688",
           6098.0
          ],
          [
           "117420, Москва г., Намёткина ул., дом 8, строение 1, этаж 4, офис 423",
           "7715465840",
           76421.0
          ],
          [
           "199106, Город Санкт-Петербург, вн.тер. г. Муниципальный Округ № 7, линия 22-Я В.О., дом 3, корпус 1, литера М, помещение 1Н ОФИС 543",
           "7801629900",
           1441.0
          ],
          [
           "300041, Тульская, г. Тула, ул. Советская, д. 54, помещ 14-36",
           "7105055881",
           453.0
          ],
          [
           "111024, Москва г, вн.тер.г. муниципальный округ Лефортово, Авиамоторная ул, дом 50, строение 2, этаж 2, помещ. XI ком.25 офис А98",
           "7704676969",
           135869.0
          ],
          [
           "188544, Ленинградская обл, г Сосновый Бор, ул Петра Великого, д. 9, кв. 226, ",
           "4726003778",
           66332.0
          ],
          [
           "198216, город Санкт-Петербург, пр-кт Народного Ополчения, дом 22, литер П, помещение 26Н",
           "7805134779",
           114741.0
          ],
          [
           "Московская обл, г.о. Чехов, г Чехов, ул Ильича, д. 39б, помещ. 15",
           "7707836392",
           12401.0
          ],
          [
           "423893, Татарстан Респ, Тукаевский р-н, Старосармановская ул, дом № 19/6, этаж 3, офис 1",
           "1650237640",
           26625.0
          ],
          [
           "191015, город Санкт-Петербург, ул. 9-Я Советская, дом 4-6, литер А, офис 309",
           "7802621171",
           36.0
          ],
          [
           "607635, Нижегородская обл, Нижний Новгород г, д. Кусаковка, Полевая ул, дом № 58, помещение П1",
           "5261090174",
           356465.0
          ],
          [
           "191186, Город Санкт-Петербург, вн.тер.г. муниципальный округ Дворцовый округ, пр-кт Невский, д. 30, литера А, помещ. 15-Н",
           "7811225375",
           21652.0
          ],
          [
           "105082, Город Москва, вн.тер.г. муниципальный округ Басманный, наб Рубцовская, д. 4, к. 3, помещ. 3/1",
           "9701239097",
           2918.0
          ],
          [
           "660099, Красноярский край, г.о. Город Красноярск, г Красноярск, ул Железнодорожников, дом 22Д, помещение 77, кабинет 2",
           "3811122894",
           -29593.0
          ],
          [
           "454138, Челябинская область, г Челябинск, пр-кт Победы, д. 288, офис 402",
           "7448146076",
           27730.0
          ],
          [
           "624130, Свердловская обл, г.о. Новоуральский, г Новоуральск, ул Серова, д. 4, ",
           "6629003208",
           122426.0
          ],
          [
           "684090, Камчатский край, г Вилючинск, ул Победы, д. 6, кв. 60, ",
           "4102009176",
           8131.0
          ],
          [
           "196191, Санкт-Петербург г, Конституции пл, дом 7, литер А, помещение 18Н, офис 711",
           "7811372267",
           -44359.0
          ],
          [
           "119270, город Москва, наб Лужнецкая, д. 6, стр. 1 офис 307",
           "7725316011",
           26575.0
          ],
          [
           "644027, Омская обл., г. Омск, ул. Индустриальная 1-я, 7",
           "5506004658",
           238905.0
          ],
          [
           "196006, Город Санкт-Петербург, ул Ташкентская, д. 1, литера А, помещ. 16Н",
           "7813184156",
           1355.0
          ],
          [
           "628011, Ханты-Мансийский Автономный округ - Югра АО, г.о. Ханты-Мансийск, г Ханты-Мансийск, ул Солнечная, зд. 20, ",
           "8601038701",
           9083.0
          ],
          [
           "143405, Московская область, г.о. Красногорск, г Красногорск, ул Строительная, дом 6, строение 3",
           "5024242897",
           7750.0
          ],
          [
           "117105, Город Москва, вн.тер. г. Муниципальный Округ Донской, ш Варшавское, дом 1А, помещение 3К/1П",
           "7810453925",
           8075.0
          ],
          [
           "119285, Город Москва, вн.тер.г. муниципальный округ Раменки, км МЖД Киевское 5-й, д. 1, стр. 1, помещ. 7/6",
           "7730682729",
           -508508.0
          ],
          [
           "115230, Город Москва, вн.тер.г. муниципальный округ Нагатино-Садовники, проезд Хлебозаводский, д. 7, стр. 9, помещ. 31б/10",
           "3257048962",
           12556.0
          ],
          [
           "350049, Краснодарский край, г Краснодар, ул им. Воровского, 172",
           "2311170457",
           3542.0
          ],
          [
           "111250, Москва г, Завода Серп и Молот проезд, дом 6, офис под 1, эт 3, оф 310",
           "7722412888",
           -46700.0
          ],
          [
           "640021, Курганская обл, г Курган, ул Куйбышева, 36, 3",
           "4501090108",
           23797.0
          ],
          [
           "423556, Татарстан респ, Нижнекамский р-н, Нижнекамск г, Чистопольская ул, дом 35Б, офис 3",
           "1651080671",
           37497.0
          ],
          [
           "г. Краснодар, ул. им. Митрофана Седина, д. 109, кв. 34, 350000",
           "2310223730",
           105404.0
          ],
          [
           "660049, Красноярский край, Красноярск, Дубровинского, д. 1, помещ. 2",
           "2465170633",
           7608.0
          ],
          [
           "214038, Смоленская обл, г.о. город Смоленск, г Смоленск, ул Кловская, д. 19А, офис 2",
           "6732202670",
           107321.0
          ],
          [
           "394007, Воронежская обл, Воронеж г, Ленинский пр-кт, дом 96А, помещение XII",
           "3663145334",
           186287.0
          ],
          [
           "119121, Москва г, пер 1-й Неопалимовский, 15/7, помещ. 1/3",
           "9731020633",
           2408.0
          ],
          [
           "620144, Свердловская обл, г Екатеринбург, ул Сурикова, д 53, 102",
           "6670160730",
           13271.0
          ],
          [
           "398041, Липецкая обл, Липецк г, Зои Космодемьянской ул, владение № 224, помещение 7",
           "4823058324",
           23.0
          ],
          [
           "366816, Чеченская Республика, р-н Надтеречный, с. Братское, ул. Мира, дом 22",
           "2007007150",
           1512.0
          ],
          [
           "143002, Московская обл, ул Акуловская, 2А , 101",
           "5032234040",
           19531.0
          ],
          [
           "300001, Тульская обл, г Тула, ул К.Маркса, д 5, 107а",
           "7106047347",
           208408.0
          ],
          [
           "107031, Москва г, вн.тер.г. муниципальный округ Мещанский, ул Кузнецкий Мост, д. 21/5,  Эт 5 Пом VI Ком 7, ",
           "7702804069",
           -6619.0
          ],
          [
           "366206, Чеченская Республика, р-н Гудермесский, г Гудермес, ул Грозненская, д. 33",
           "2020001447",
           37093.0
          ],
          [
           "308019, Белгородская обл, Белгород г, Горького ул, дом 54Б, помещение 1",
           "3123378447",
           47132.0
          ],
          [
           "390011, Рязанская область, г. Рязань, ш. Ряжское, дом 14, корпус ПОМЕЩЕНИЕ Н1, ЛИТЕРА А",
           "6230101830",
           29440.0
          ],
          [
           "г. Пермь, ул. 3-я Теплопроводная, д. 3А, 614065",
           "5905952421",
           13640.0
          ],
          [
           "396420, Воронежская обл., г.Павловск, Северный мкр., д.7, оф.9",
           "3620012805",
           19675.0
          ],
          [
           "111675, Г.МОСКВА, ВН.ТЕР.Г. МУНИЦИПАЛЬНЫЙ ОКРУГ КОСИНО-УХТОМСКИЙ, УЛ ДМИТРИЕВСКОГО, д. 17, помещ. 10/01",
           "7731264516",
           137078.0
          ],
          [
           "197229, Город Санкт-Петербург, вн.тер. г. Муниципальный Округ Лахта-Ольгино, пр-кт Лахтинский, дом 129, литера Б, помещение 19",
           "7802479711",
           109312.0
          ],
          [
           "150001, Ярославская обл, Ярославль г, Московский пр-кт, дом № 31",
           "7604259048",
           10115.0
          ],
          [
           "623110, Свердловская обл, Первоуральск г, Белинского ул, дом № 98",
           "6684027070",
           19385.0
          ],
          [
           "443524, Самарская обл, Волжский р-н, Подъем-Михайловка с, Советская ул, дом 1А, комната 11",
           "6316119677",
           57336.0
          ],
          [
           "121601, Москва г, б-р Филёвский, 40, пом. 5/1",
           "5040095110",
           2293.0
          ],
          [
           "420085, Татарстан Респ, г Казань, ул Обнорского, д. 208, к. 1, офис 3",
           "1661057880",
           23504.0
          ],
          [
           "425200, Марий Эл Респ, Медведево пгт, Чехова ул, дом № 24",
           "1207008978",
           23213.0
          ],
          [
           "620902, Свердловская обл, г Екатеринбург, с Горный Щит, ул Свердлова, стр 48",
           "6658473007",
           137149.0
          ],
          [
           "628126, Ханты-Мансийский Автономный округ - Югра АО, р-н Октябрьский, пгт Приобье, ул 50 лет Победы, д 6",
           "8610017257",
           91341.0
          ],
          [
           "170040, Тверская обл, г Тверь, ш Старицкое, д 18 стр 1, Офис Помещение",
           "7722762089",
           36053.0
          ],
          [
           "115201, Москва г, вн.тер.г. муниципальный округ Москворечье-Сабурово, пер 1-й Котляковский, д. 4А, ",
           "5902888746",
           10581.0
          ],
          [
           "141402, Московская обл, г.о. Химки, г Химки, ул Ленинградская, д. 29, кв. 915/3, ",
           "5047241949",
           48768.0
          ],
          [
           "125212, Москва г, ул Адмирала Макарова, д 6 стр 13",
           "7743862535",
           205882.0
          ],
          [
           "115054, Город Москва, вн.тер.г. муниципальный округ Замоскворечье, ул Большая Пионерская, д. 15, стр. 1, помещ. 1/1",
           "5074036642",
           1200.0
          ],
          [
           "443125, Самарская обл, Самара г, Губанова ул, дом № 20А, офис 40",
           "6316121027",
           30315.0
          ],
          [
           "690091, Приморский край, г Владивосток, ул Аксаковская, зд. 3в, пом. 4",
           "2538148230",
           14957.0
          ],
          [
           "191119, Санкт-Петербург г, Лиговский пр-кт, дом 94, корпус 2, лит. А, помещение 8Н",
           "7842400362",
           577.0
          ],
          [
           "173021, Новгородская обл, р-н Новгородский, д Новая Мельница, 102Б, 32",
           "5310013513",
           17477.0
          ],
          [
           "620078, Свердловская обл, г Екатеринбург, ул Библиотечная, стр 41а, 206",
           "6670390653",
           3343.0
          ],
          [
           "664035, Иркутская обл, г Иркутск, ул Сурнова, 56",
           "3849057370",
           6579.0
          ],
          [
           "107150, Москва г, ул Бойцовая, 27, Помещ. 55 офис 316",
           "9718074439",
           179.0
          ],
          [
           "630005, Новосибирская область, г Новосибирск, ул Крылова, здание 36, офис 419",
           "5406377430",
           101998.0
          ],
          [
           "607233, Нижегородская обл, г.Арзамас, ул.Ленина, д.116",
           "5243019316",
           25480.0
          ],
          [
           "626151, Тюменская обл, Тобольск г, Кондинская ул, дом № 10/2, офис 1",
           "7206047284",
           36472.0
          ],
          [
           "429965, Чувашская Республика - Чувашия, г Новочебоксарск, ул Промышленная, влд 73",
           "2124000409",
           88849.0
          ],
          [
           "Челябинский г.о., Челябинск г, Конституции ул, 4, 454087",
           "7736274564",
           29290.0
          ],
          [
           "115172, Москва г, ул Большие Каменщики, д. 1, этаж 5 ПОМ I К 6",
           "7734589946",
           58382.0
          ],
          [
           " ",
           "2543154857",
           -54620.0
          ],
          [
           "194017, Санкт-Петербург г, пр-кт Удельный, д 5 литера А, Пом 16-Н/2-8",
           "7802856889",
           43871.0
          ],
          [
           "199178, Санкт-Петербург г, Реки Смоленки наб, дом № 5-7, литер Д, пом.3Н, офис 339",
           "7810006934",
           16001.0
          ],
          [
           "141006, Московская область, г.о. Мытищи, г Мытищи, проезд Шараповский, влд. 2, помещ. 82",
           "5029283311",
           1733.0
          ],
          [
           "160026, Вологодская обл, Вологда г, Панкратова ул, дом № 40, помещение 60",
           "3525319233",
           32539.0
          ],
          [
           "117042, город Москва, Чечёрский проезд, д. 122 к. 1, помещ. 9н ",
           "7743379254",
           108.0
          ],
          [
           "198320, город Санкт-Петербург, вн.тер. г. Город Красное Село, ул Свободы, дом 48А, литера А, помещение 7",
           "7807369007",
           335203.0
          ],
          [
           "603093, Нижегородская область, г. Нижний Новгород, ул. Яблоневая, дом 28, литер П, комната 102/4",
           "5257145631",
           379579.0
          ],
          [
           "650023, Кемеровская область - Кузбасс, Кемерово г, Октябрьский пр-кт, дом 38",
           "4206024725",
           168566.0
          ],
          [
           "610010, Кировская обл, Киров г, Радужный мкр, Производственная ул, дом № 9, оф. 5",
           "4345490508",
           308359.0
          ],
          [
           "693022, Сахалинская область, г Южно-Сахалинск, п/р Ново-Александровск, ул 2-я Красносельская, д. 1/4",
           "6501272341",
           32719.0
          ],
          [
           "117452, Город Москва, вн.тер.г. муниципальный округ Зюзино, пр-кт Балаклавский, д. 24, к. 1, помещ. 1/1",
           "9727026960",
           26211.0
          ],
          [
           "386107, Республика Ингушетия, г.о. город Назрань, тер Центральный округ, ул Тангиева А-Г.Д., д. 45",
           "0608040896",
           54592.0
          ],
          [
           "143581, Московская область, г.о. Истра, с Павловская Слобода, ул Комсомольская, д. 3Б",
           "5012075539",
           -60879.0
          ],
          [
           "125130, Москва г, Зои И Александра Космодемьянских ул, дом 27, квартира 9",
           "7743307059",
           141534.0
          ],
          [
           "115191, Город Москва, вн.тер. г. Муниципальный Округ Донской, пер Духовской, дом 17, строение 15, помещение 12Н/2",
           "7726643974",
           19137.0
          ],
          [
           "445043, Самарская обл, г Тольятти, ш Южное, зд. 103А, офис 4, помещ. 6",
           "6324081498",
           2701.0
          ],
          [
           "398501, Липецкая обл, м.р-н Липецкий, с.п. Кузьмино-Отвержский сельсовет, тер. Комплекс Рудничный, зд. 5",
           "4825086937",
           133520.0
          ],
          [
           "603000, Нижегородская обл, г Нижний Новгород, ул Белинского, д 32, П110",
           "5260489255",
           -1606.0
          ],
          [
           "195279, Город Санкт-Петербург, вн.тер.г. муниципальный округ Ржевка, ш Революции, Дом 69, Литера А, помещ. 12Н ЧАСТЬ ПИБ 92",
           "7805316137",
           9160.0
          ],
          [
           "620000, Свердловская обл, г Екатеринбург, ул Бориса Ельцина, 1а, 10.10",
           "6679071411",
           126658.0
          ],
          [
           "633010, Новосибирская обл, Бердск г, Ленина ул, дом № 69",
           "5445005958",
           182117.0
          ],
          [
           "426072, Удмуртская респ, г Ижевск, ул Молодежная, д. 46, помещ. 63",
           "1840068380",
           6488.0
          ],
          [
           "192007, Санкт-Петербург г, пр-кт Лиговский, д. 200а, литера А, помещ. 7Н",
           "7816131635",
           159967.0
          ],
          [
           "355000, Ставропольский край, городской округ город Ставрополь, Ставрополь г, Кулакова пр-кт, дом 10д, офис 207А",
           "2636036951",
           21697.0
          ],
          [
           "141201, Московская обл, Пушкинский р-н, Пушкино г, Ярославское ш, дом 2В, помещение 41",
           "5038135020",
           19077.0
          ],
          [
           "309560, Белгородская область, р-н Чернянский, п. Чернянка, пл. Октябрьская, дом 13",
           "3119005058",
           112271.0
          ],
          [
           "197110, Санкт-Петербург г, Вязовая ул, дом 10, литер А, помещение 9Н, офис 432",
           "7801606205",
           3788.0
          ],
          [
           "424004, Марий Эл Респ, Йошкар-Ола г, Льва Толстого ул, дом 62",
           "1215078778",
           175584.0
          ],
          [
           "119019, Город Москва, вн.тер.г. муниципальный округ Хамовники, ул Волхонка, д. 5/6, стр. 9, помещ. 7/1",
           "5038096300",
           972.0
          ],
          [
           "143441, Московская обл, Красногорск г, Гаврилково д, ЭЖК Эдем тер., 20 кв-л, дом 5, квартира 7",
           "6164108822",
           8997.0
          ],
          [
           "350090, Краснодарский край, Краснодар г, им. Митрофана Седина ул, дом 6/1, комната 3",
           "2310088087",
           2058.0
          ],
          [
           "170100, Тверская обл, г Тверь, пер Свободный, д 9",
           "6950108726",
           251422.0
          ],
          [
           "693007, Сахалинская обл, г Южно-Сахалинск, пр-кт Победы, 62, Б",
           "6501152990",
           166443.0
          ],
          [
           "119034, Москва г, вн.тер.г. Хамовники, пер Турчанинов, д. 6, стр. 2, этаж пом./комн. III/53-66",
           "9721115759",
           12597.0
          ],
          [
           "160001, Вологодская обл, Вологда г, Челюскинцев ул, дом 15, офис 6",
           "3525115712",
           13197.0
          ],
          [
           "460000, Оренбургская обл, г Оренбург, ул Центральная, зд. 29Б, офис 1",
           "5610165193",
           127385.0
          ],
          [
           "410040, Саратовская обл, г Саратов, туп Деловой, зд 9 стр 1",
           "6453009098",
           1134716.0
          ],
          [
           "420054, Татарстан Респ, г Казань, ул Техническая, 9",
           "1659077600",
           431729.0
          ],
          [
           "620024, Свердловская обл, г Екатеринбург, ш Елизаветинское, стр 39, 405",
           "6658408181",
           37851.0
          ],
          [
           "117218, Город Москва, вн.тер.г. муниципальный округ Академический, ул Большая Черёмушкинская, Дом 34, помещ. 2/1Н/2",
           "8602107193",
           118540.0
          ],
          [
           "420129, Татарстан респ, г Казань, ул Кул Гали, д. 27, помещ. 1",
           "1659210883",
           16163.0
          ],
          [
           "119048, Город Москва, вн.тер.г. муниципальный округ Хамовники, пр-кт Комсомольский, д. 42, стр. 3",
           "9710027483",
           3555.0
          ],
          [
           "115230, Москва г, Варшавское ш, дом № 42",
           "7719694625",
           116625.0
          ],
          [
           "620000, Свердловская область, г.о. Город Екатеринбург, г Екатеринбург, ул Шейнкмана, строение 9, офис 91",
           "9102216164",
           4211.0
          ],
          [
           "119330, Москва г, пр-кт Ломоносовский, 38, Подвал/II/19",
           "7731477962",
           59788.0
          ],
          [
           "121165, Москва г, ул Студенческая, д 38, помещ 2Н",
           "6167041823",
           55839.0
          ],
          [
           "119192, Москва г, пр-кт Мичуринский, 11, 3, Э 1",
           "7706429877",
           7417.0
          ],
          [
           "354340, Краснодарский край, Сочи г, Гастелло ул, дом № 28, офис 3/3",
           "2317057426",
           33231.0
          ],
          [
           "198097, Город Санкт-Петербург, вн.тер. г. Муниципальный Округ Нарвский Округ, ул Баррикадная, дом 36, литера А, помещение 6Н, ОФИС 4А",
           "7805781254",
           38746.0
          ],
          [
           "443099, Самарская обл, Самара г, Водников ул, дом № 28-30, корпус 24, оф. 305а",
           "6312155064",
           837451.0
          ],
          [
           "Респ. Татарстан, Сабинский р-н, с. Шемордан, ул. Железнодорожная, д. 10Б, к. 1, 422050",
           "8620015724",
           2802.0
          ],
          [
           "295000, Крым Респ, Симферополь г, Петропавловская ул, дом № 3, офис 315",
           "9102047340",
           -16921.0
          ],
          [
           "677007, Саха /Якутия/ Респ, Якутск г, Чернышевского ул, дом № 115/1",
           "1435131360",
           223.0
          ],
          [
           "454100, Челябинская обл, г Челябинск, пр-кт Комсомольский, 107а, 23",
           "7448051385",
           3976.0
          ],
          [
           "420029, Республика Татарстан (Татарстан), г.о. Город Казань, г Казань, ул Заря, дом 16, офис 3",
           "1659074662",
           11444.0
          ],
          [
           "420080, Татарстан Респ, Казань г, Тунакова ул, дом № 56а, оф.1007\\2",
           "1658225950",
           14341.0
          ],
          [
           "192007, Санкт-Петербург г, Днепропетровская ул, дом 14, литер Б, кабинет 32",
           "7816401296",
           11378.0
          ],
          [
           "123098, Москва г, Рогова ул, дом 12, помещение II, комната 5, офис 7",
           "7734429406",
           306091.0
          ],
          [
           "192012, Санкт-Петербург г, пр-кт Обуховской Обороны, д. 112, к. 2, литера И, помещ. 620",
           "7807337510",
           307.0
          ],
          [
           "125167, г.Москва, вн.тер. г. Муниципальный Округ Аэропорт, аллея Нарышкинская, Дом 5, Строение 2, Помещение 1/1",
           "9725049232",
           2798.0
          ],
          [
           "298609, Крым Респ, г Ялта, ул Халтурина, д. 49Б, офис 204",
           "9103095360",
           3319.0
          ],
          [
           "620027, Свердловская область, г Екатеринбург, ул Шевченко, соор. 9",
           "6670476678",
           83976.0
          ],
          [
           "610004, Кировская обл, Киров г, Профсоюзная ул, дом № 1, оф. 907",
           "4345489492",
           320132.0
          ],
          [
           "107078, Москва г, вн.тер.г. муниципальный округ Красносельский, пер Орликов, д. 5, стр. 1, ",
           "7704795525",
           49869.0
          ],
          [
           ",,,,,,,,,",
           "9718037677",
           638.0
          ],
          [
           "428022, Чувашская Республика - Чувашия, Чебоксары г, Марпосадское ш, дом № 38",
           "2130010780",
           2095.0
          ],
          [
           "115093, Москва г, 1-Й Щипковский пер, дом 1, офис ПОДВАЛ ПОМ/КОМ I/16",
           "7733333719",
           1215.0
          ],
          [
           "119285, Город Москва, вн.тер. г. Муниципальный Округ Раменки, пр-кт Генерала Дорохова, дом 39, корпус 1, квартира 78Г",
           "3234040815",
           200947.0
          ],
          [
           "620141, Свердловская обл, г Екатеринбург, ул Армавирская, 20, 8",
           "6674158098",
           90117.0
          ],
          [
           "117630, Москва г, ул Академика Челомея, 3, 2, Этаж 2",
           "9701004970",
           -13213.0
          ],
          [
           "127521, Город Москва, вн.тер. г. Муниципальный Округ Марьина Роща, проезд 12-Й Марьиной Рощи, дом 9, строение 1",
           "7713468958",
           25117.0
          ],
          [
           "629003, Ямало-Ненецкий АО, г Салехард, ул Авиационная",
           "8901016434",
           315969.0
          ],
          [
           "123308, Москва г, ул Мнёвники, 3, 1",
           "7714299854",
           3709.0
          ],
          [
           "625026, Тюменская обл, г Тюмень, ул 50 лет ВЛКСМ, д. 51, офис 33",
           "7203330254",
           136596.0
          ],
          [
           "141013, Московская обл, г.о. Мытищи, г Мытищи, ул Стрелковая, д. 8, к. этаж/, помещ.  1/007 офис 2",
           "9729000728",
           36064.0
          ],
          [
           "199106, Санкт-Петербург г, Морской Славы пл, дом 1, литер А, помещение 3-Н, №502 (№5007)",
           "7841441380",
           5704.0
          ],
          [
           "440045, Пензенская обл, г Пенза, ул Ладожская, 155, 115",
           "5835142156",
           18593.0
          ],
          [
           "117437, Москва г, ул Миклухо-Маклая, 18, 3",
           "7717728371",
           968.0
          ],
          [
           "363124, Северная Осетия - Алания Респ, р-н Пригородный, с Нижняя Саниба, ул Агузарова, 4, 1",
           "1512015210",
           94794.0
          ],
          [
           "350056, Краснодарский край, г.о. город Краснодар, п Индустриальный, пер Дорожный, д. 7, офис 1",
           "2311194948",
           112239.0
          ],
          [
           "679000, Еврейская автономная область, г Биробиджан, ул Биршоссе 2 Км, д. 10, к. Б",
           "7901542812",
           58679.0
          ],
          [
           "197198, Санкт-Петербург г,  Петровская коса, д 6 стр 1, к 1, пом. 44Н",
           "7810791610",
           173768.0
          ],
          [
           "109518, Город Москва, вн.тер.г. муниципальный округ Текстильщики, ул Грайвороновская, д. 4, стр. 1, помещ. 6/1П",
           "1657112351",
           17955.0
          ],
          [
           "117623, Москва г, Железногорская 2-я ул, дом № 25",
           "7727813770",
           83995.0
          ],
          [
           "450104, Республика Башкортостан, г Уфа, ул Воинов-Интернационалистов, д. 7, офис 536",
           "0274176422",
           1586.0
          ],
          [
           "454028, Челябинская обл, г Челябинск, ул Кузнецова, д. 37Б, кв. 77, ",
           "7451434116",
           87154.0
          ],
          [
           "141270, Московская область, г.о. Пушкинский, рп Софрино, мкр Западный, д. 3, помещ. 11",
           "7716576574",
           13855.0
          ],
          [
           "350042, Краснодарский край, г.о. город Краснодар, г Краснодар, ул Колхозная, д. 3, кв. 14, ",
           "2308114879",
           88652.0
          ],
          [
           "450112, Башкортостан Респ, г Уфа, ул Первомайская, 32/1, Этаж 2 Помещ. 43",
           "0276092746",
           52170.0
          ],
          [
           "191167, Санкт-Петербург г, наб Синопская, д. 26, литера А, помещ. 5-Н, офис 6-1",
           "7842127970",
           1285.0
          ],
          [
           "115114, Москва г, наб Шлюзовая, 8, 1, 12",
           "7706800259",
           34151.0
          ],
          [
           "109387, Москва г, Люблинская ул, дом № 42, офис 229",
           "7723427686",
           26733.0
          ],
          [
           "628186, Ханты-Мансийский Автономный округ - Югра АО, г. Нягань, ул Сибирская, д 14, к 1",
           "8610005188",
           89629.0
          ],
          [
           "630024, Новосибирская обл, г Новосибирск, ул Ватутина, д 40",
           "5403112891",
           114602.0
          ],
          [
           "150044, Ярославская область, г.о. Город Ярославль, г Ярославль, ул Промышленная, дом 2, помещение 71, 72, 74",
           "7604178889",
           48946.0
          ],
          [
           "630132, Новосибирская обл,  Новосибирск г,  Салтыкова-Щедрина ул, д. 128, кор. ЭТАЖ 1, кв. ПОМЕЩЕНИЯ 1-6, ",
           "5403190900",
           60874.0
          ],
          [
           "443035, Самарская обл, г. Самара, ул. Мирная, дом 162",
           "6312040240",
           -52053.0
          ],
          [
           "109428, Москва г, вн.тер.г. муниципальный округ Рязанский, ул Зарайская, д. 21",
           "9721197543",
           -469.0
          ],
          [
           "656037, Алтайский край, г Барнаул, ул Северо-Западная, 2в, 3/15",
           "2224183393",
           5220.0
          ],
          [
           "613154, Кировская обл, Слободской р-н, Слободской г, Набережная ул, дом № 13, помещение 1001",
           "4345020340",
           25127.0
          ],
          [
           "Новосибирская обл, г Новосибирск, ул Семьи Шамшиных, 24, 43",
           "5407025216",
           927097.0
          ],
          [
           "197375, Санкт-Петербург г, вн.тер.г. муниципальный округ Юнтолово, ул Автобусная, д. 5, литера А,  220, ",
           "7814351579",
           18446.0
          ],
          [
           "643,117105,77,,,,Нагатинский 1-й проезд,6,1,102Б ",
           "7703598443",
           11520.0
          ],
          [
           "693008, Сахалинская обл, г Южно-Сахалинск, ул Вокзальная, д. 56, офис 409",
           "6501217693",
           74508.0
          ],
          [
           "123308, Москва г,  2-й Силикатный пр-д, д 14 стр 14, к 2",
           "9702015741",
           -57940.0
          ],
          [
           "192012, Санкт-Петербург г, пр-кт Обуховской Обороны, 112, 2",
           "7814494383",
           208854.0
          ],
          [
           "693004, Сахалинская обл, г Южно-Сахалинск, ул Воздушная, д 15",
           "6501117716",
           23765.0
          ],
          [
           "127006, Москва г, Воротниковский пер, дом № 8, строение 1, офис 1 РМ2/3",
           "7721506798",
           224678.0
          ],
          [
           "г. Москва, вн.тер.г. муниципальный округ Арбат, ул. Арбат, д. 54/2, стр. 1, ПОМЕЩ. 1/П, 119002",
           "2465182389",
           43735.0
          ],
          [
           "197110, Санкт-Петербург г, пр-кт Левашовский, д 12 литера А, Помещ. 1н офис 521",
           "7811515797",
           1037.0
          ],
          [
           "105082, Город Москва, вн.тер.г. муниципальный округ Басманный, наб Рубцовская, д. 4, к. 3, помещ. 4/1",
           "7723896423",
           944.0
          ],
          [
           "117105, Москва г, муниципальный округ Нагатино-Садовники, Нагатинский 1-й проезд, дом 6, строение 1, этаж 4 Комната 402А",
           "9724008917",
           33293.0
          ],
          [
           "386101, Ингушетия респ, г. Назрань, тер Центральный Округ, ул. Заводская, дом 16А",
           "0608039298",
           47552.0
          ],
          [
           "123060, Город Москва, вн.тер. г. Муниципальный Округ Щукино, ул Расплетина, дом 12, корпус 2, помещение 6П",
           "7733356089",
           414.0
          ],
          [
           "199106, Санкт-Петербург г, Большой П.С. пр-кт, дом 87, литера А, помещение 5-Н,оф.1",
           "7814231666",
           32050.0
          ],
          [
           "198328, Город Санкт-Петербург, Брестский б-р, д. 8, литера А, помещ. 8-Н, офис 415",
           "7805512935",
           57767.0
          ],
          [
           "123376, Москва г, ул Красная Пресня, 28, Помещ. IV Ком. 11",
           "9728049939",
           -127148.0
          ],
          [
           "117133, Москва г, вн.тер.г. муниципальный округ Теплый Стан, ул Академика Варги, д. 8, кор. 1, кв. Этаж/офис 4/440/1/Wp, ",
           "7733826697",
           4496.0
          ],
          [
           "190020, Санкт-Петербург г, наб Обводного канала, 150, 1, помещ.248.01",
           "7839469188",
           93486.0
          ],
          [
           "143003, Московская область, г Одинцово, ул Маршала Жукова, д. 2, офис 3",
           "5032297579",
           15447.0
          ],
          [
           "248000, Калужская обл, Калуга г, Ленина ул, дом 105, корпус 1, кабинет 12",
           "9718001751",
           11911.0
          ],
          [
           "428022, Чувашская Республика - Чувашия, Чебоксары г, Марпосадское ш, дом № 38",
           "2129003280",
           568000.0
          ],
          [
           "142403, Московская область, г.о. Богородский, г Ногинск, ул Советской Конституции, д. 2А, помещ. II- 4.5.1",
           "5007047254",
           80884.0
          ],
          [
           "107497, Москва г, ул Монтажная, д. 9, стр. 1, ЭТАЖ/ПОМЕЩ. 3/IV КОМ./ОФИС 13/152",
           "9718179093",
           26674.0
          ],
          [
           "143421, Московская область, г.о. Красногорск, тер. автодорога Балтия, км 26-й, д. 5, стр. 6, помещ. 13 (секция 1) , ком. 3",
           "5024154009",
           160490.0
          ],
          [
           "400075, Волгоградская обл, г Волгоград, проезд Дорожников, влд 10",
           "3443922835",
           18593.0
          ],
          [
           "347371, Ростовская обл, г Волгодонск, б-р Великой Победы, д. 13",
           "6118008728",
           24117.0
          ],
          [
           "г. Москва, вн.тер.г. муниципальный округ Аэропорт, Ленинградский пр-кт, д. 66, ПОМЕЩ. 1Н, 125315",
           "9731058806",
           8854.0
          ],
          [
           "364025, г. Грозный, б-р им. М.А. Эсамбаева, д. 7/84, Этаж 2, ОФИС 5",
           "2013007991",
           107159.0
          ],
          [
           "107023, Москва г, Семёновская М. ул, дом 3А, строение 1, этаж  8 , помещение XXI , комната 7",
           "7727235230",
           4956.0
          ],
          [
           "603105, Нижегородская область, г.о. Город Нижний Новгород, г Нижний Новгород, ул Ванеева, дом 15/34, помещение П2, ОФ. 6/1",
           "5262390124",
           42910.0
          ],
          [
           "614506, Пермский край, р-н Пермский, д Кондратово, ул Водопроводная, 8, 34",
           "5903113300",
           39236.0
          ],
          [
           "618417, Пермский край, г Березники, пл Советская, 5",
           "5020074955",
           230102.0
          ],
          [
           "141506, Московская обл, г Солнечногорск, ул Красная, кор. 23, кв. 26, ",
           "5044093594",
           347489.0
          ],
          [
           "115054, Город Москва, вн.тер. г. Муниципальный Округ Замоскворечье, ул Большая Пионерская, дом 15, строение 1, помещение 1/1",
           "9705094854",
           132089.0
          ],
          [
           "192019, Город Санкт-Петербург, вн.тер. г. Муниципальный Округ Невская Застава, ул Бехтерева, дом 2, литера Ш, офис № Ш-219",
           "7811785095",
           6533.0
          ],
          [
           "105082, Москва г, ул Фридриха Энгельса, д 75 стр 10, 8",
           "7709900396",
           937.0
          ],
          [
           "629000, Ямало-Ненецкий АО, г Новый Уренгой, проезд Производственный, д 20",
           "8904071232",
           254566.0
          ],
          [
           "199178, Санкт-Петербург г, 18-я В.О. линия, дом 45, литера А, помещение 4Н",
           "7801311307",
           1895.0
          ],
          [
           "129085, Москва г, пр-кт Мира, д. 101, стр. 1, этаж 3, помещ. I, ком. 16",
           "2373003784",
           6393.0
          ],
          [
           "678995, Республика Саха (Якутия), р-н Нерюнгринский, п Серебряный Бор, зона А, стр. 24А",
           "1434000485",
           6100.0
          ],
          [
           "660049, Красноярский край, г Красноярск, ул Карла Маркса, д. 93, помещ. 1, офис 525",
           "2453012311",
           34100.0
          ],
          [
           "127051, Город Москва, вн.тер.г. муниципальный округ Мещанский, б-р Цветной, д. 26, стр. 1",
           "2636809256",
           11012.0
          ],
          [
           "Владимир г, Александра Матросова ул, 1, 600005",
           "3327332190",
           47723.0
          ],
          [
           "117342, Город Москва, вн.тер. г. Муниципальный Округ Коньково, ул Бутлерова, дом 17Б, этаж/помещение 3/XII, комната/офис 86/5/110",
           "7720363508",
           5254.0
          ],
          [
           "196135, Город Санкт-Петербург, ул Типанова, д. 23, к. 2, стр. 1, помещ. 10Н ч.п.6",
           "7805655443",
           30539.0
          ],
          [
           "680038, Хабаровский край, Хабаровск г, Истомина ул, дом 73, квартира 8",
           "2722015440",
           21527.0
          ],
          [
           "394011, Воронежская область, г.о. Город Воронеж, г Воронеж, ул Сосновая, дом 23, офис 2",
           "3665070740",
           173.0
          ],
          [
           "150043, Ярославская обл, г Ярославль, ул Карла Либкнехта, д. 14Б, помещ. 8",
           "7604208068",
           117528.0
          ],
          [
           "129626, Москва г, ул 2-я Мытищинская, 2, 1, 2",
           "5047127450",
           28734.0
          ],
          [
           "394068, Воронежская область, г Воронеж, ул Шишкова, д. 75Б, помещ. 5",
           "3662149086",
           153816.0
          ],
          [
           "354003, Краснодарский край, г.о. город-курорт Сочи, г Сочи, ул Абрикосовая, д. 23А, помещ. 67",
           "2320177385",
           -40934.0
          ],
          [
           "650025, Кемеровская обл, Кемерово г, Кузнецкий пр-кт, дом № 73, корпус а, офис 211",
           "4205347900",
           165090.0
          ],
          [
           "295493, Крым респ, Симферополь г, Лавандовый пер, дом 2, литера А, офис 9",
           "9102021944",
           24202.0
          ],
          [
           "190000, Санкт-Петербург г, Варшавская ул, дом № 5А, корпус 16 литер АВ, помещение 2Н  комн. 2",
           "7810802206",
           7334.0
          ],
          [
           "249030, Калужская обл, Обнинск г, Славского ул, дом № 2",
           "4025442488",
           258514.0
          ],
          [
           "141400, Московская обл, г Химки, ул Академика Глушко, д 2, II",
           "5047129496",
           60887.0
          ],
          [
           "450096, Башкортостан Респ, г Уфа, ул Энтузиастов, 16, 15",
           "0276978622",
           36660.0
          ],
          [
           "443008, Самарская область, г.о. Самара, вн.р-н Промышленный, г Самара, туп Томашевский, д. 16, помещ. Н1",
           "6312205614",
           416428.0
          ],
          [
           "295017, Крым Респ, г Симферополь, ул Тургенева, 22",
           "9102216968",
           245482.0
          ],
          [
           "115093, Москва г, ул Люсиновская, д 12А, помещение 1/2",
           "7705514738",
           3202.0
          ],
          [
           "115409, Москва г, Каширское ш, дом 66, корпус 2, офис 35",
           "7708336000",
           35257.0
          ],
          [
           "344002, Ростовская область, Ростов-на-дону г., ул. Социалистическая, зд. 74, пом. 205",
           "6164132455",
           18865.0
          ],
          [
           "143325, Московская область, г. Наро-Фоминск, п. Новая Ольховка, дом ЗД. УЧЕБНЫЙ КОМБИНАТ, кабинет 17",
           "5030083927",
           31498.0
          ],
          [
           "236000, Калининградская обл, г Калининград, ул Мусоргского, 10",
           "3906954146",
           14459.0
          ],
          [
           "308024, Белгородская обл, Белгород г, Мокроусова ул, дом 23 А, офис 209",
           "3123465837",
           27288.0
          ],
          [
           "692918, Приморский край, г Находка, ул Минская, д. 3, ",
           "2508055910",
           78816.0
          ],
          [
           "630096, Новосибирская область, г.о. город Новосибирск, г Новосибирск, ул Станционная, зд. 60/12",
           "4205243072",
           29005.0
          ],
          [
           "129515, Москва г, ул Академика Королева, 8А, помещение I, комната 35",
           "5074029726",
           128268.0
          ],
          [
           "656037, Алтайский край, г Барнаул, пр-кт Калинина, 116/2",
           "2222022619",
           32537.0
          ],
          [
           "625001, Тюменская область, г Тюмень, ул Луначарского, д. 20, офис 403",
           "7204200191",
           60685.0
          ],
          [
           "633009, Новосибирская обл, г.Бердск, ул.Зеленая Роща, д.5/13",
           "5408172453",
           245407.0
          ],
          [
           "142155, Московская обл, г Подольск,  Пролетарская ул (Львовский мкр.), 6а",
           "5074045598",
           21344.0
          ],
          [
           "357602, Ставропольский край, Ессентуки г, Никольская ул, дом № 15А, офис 45",
           "2626047418",
           14572.0
          ],
          [
           "690017, Приморский край, Владивосток г, Героев Тихоокеанцев ул, дом 5А, офис 213",
           "2537100395",
           729.0
          ],
          [
           "123376, Москва г, ул Красная Пресня, д 24",
           "5406989257",
           83729.0
          ],
          [
           "117628, Город Москва, вн.тер.г. муниципальный округ Северное Бутово, ул Старобитцевская, д. 21, к. 2, помещ. 1А/Н",
           "7726471919",
           5703.0
          ],
          [
           "620078, Свердловская обл, Екатеринбург г, Студенческая ул, дом № 53, офис 1",
           "6686013756",
           2480.0
          ],
          [
           "г. Москва, вн.тер.г. муниципальный округ Замоскворечье, ул. Дубининская, д. 11/17, стр. 3, ПОМЕЩ. 66А/Ч, 115054",
           "9705226740",
           18.0
          ],
          [
           "191014, Санкт-Петербург г, Рылеева ул, дом 3, литера А, помещение 7Н, офис 12",
           "3528206654",
           -11430.0
          ],
          [
           "Москва г, ул 1812 года, д 10, к 2, кв 1",
           "7730181560",
           447474.0
          ],
          [
           "115093, Город Москва, пер Серпуховский, д. 1-3-5, стр. 3, помещ. 1",
           "5029170815",
           14552.0
          ],
          [
           "142121, Московская обл, Подольск г, Кузнечики мкр., Академика Доллежаля ул, дом № 24, помещение 1",
           "7720189754",
           41616.0
          ],
          [
           "191040, Санкт-Петербург г, вн.тер. г. муниципальный округ Лиговка-Ямская, пр-кт Лиговский, д. 60-62, литера М, этаж 4, помещ. 410-417",
           "7816319041",
           5849.0
          ],
          [
           "423604, Татарстан Респ, м.р-н Елабужский, г.п. город Елабуга, г Елабуга, ш Набережно-Челнинское, д. 19, офис 1",
           "1646047157",
           1252.0
          ],
          [
           "129226, Москва г, ул Сельскохозяйственная, д 11, к 3, 2/1",
           "5029177289",
           1000.0
          ],
          [
           "125167, Москва г, пр-кт Ленинградский, д. 45, к. 2, помещ. 1/3 подвал",
           "7723788971",
           128252.0
          ],
          [
           "628249, Ханты-Мансийский Автономный округ - Югра АО, Советский р-н, Советский г, Строительная ул, дом № 14, квартира 2",
           "6673149728",
           152363.0
          ],
          [
           "101000, Москва г, пер Большой Спасоглинищевский, 9/1, 16,  1Н/2",
           "7735176275",
           389.0
          ],
          [
           "г. Санкт-Петербург, ул. Предпортовая, д. 6, лит. АВ, оф 6, 196240",
           "7801329632",
           2069.0
          ],
          [
           "400080, Волгоградская обл, г Волгоград, проезд Автодорожный, д. 14, офис 1",
           "3448043965",
           16944.0
          ],
          [
           "г. Москва, вн.тер.г. муниципальный округ Зюзино, Черноморский б-р, д. 17, к. 1, ПОМЕЩ. 4/2/5, 117452",
           "5035019996",
           203.0
          ],
          [
           "117393, Москва г, ул Архитектора Власова, 55",
           "7708290500",
           4480.0
          ],
          [
           "129164, Москва г, ул Ярославская, д 8, к 2, 213",
           "7727600130",
           -413853.0
          ],
          [
           "117042, Москва г, ул Бартеневская, 23, 2, 42",
           "3528228376",
           127643.0
          ],
          [
           "385001, Адыгея Респ, г Майкоп, ул Подгорная, д. 405",
           "0105018340",
           75902.0
          ],
          [
           "357637, Ставропольский край, г Ессентуки, ул Буачидзе, д. 1, к. 3, помещ. 1",
           "2626041832",
           282469.0
          ],
          [
           "140053, Московская обл, Котельники г, Силикат мкр, строение 12, оф.1/Б2 этаж1,промзона",
           "5027256182",
           119376.0
          ],
          [
           " ",
           "8905039369",
           140870.0
          ],
          [
           "115088, Город Москва, ул Шарикоподшипниковская, дом 38, строение 1, помещение 29",
           "9723078140",
           50635.0
          ],
          [
           "115432, Москва г, проезд Проектируемый 4062-й, 6, 2, 1/1",
           "7203408895",
           4945.0
          ],
          [
           "117405, Москва г, ш Варшавское, д 158, к 1, 1/1",
           "7727414254",
           26361.0
          ],
          [
           "Респ. Мордовия, г.о. Саранск, г. Саранск, ул. Васенко, д. 38А, 430030",
           "1326219505",
           6135.0
          ],
          [
           "249000, Калужская обл",
           "4003036203",
           10650.0
          ],
          [
           "686110, Магаданская область, м.о. Хасынский, пгт Палатка, ул Юбилейная, дом 8, квартира 40",
           "4907000867",
           18399.0
          ],
          [
           "г. Уфа, ул. 50 лет СССР, д. 34, пом. 43, 450071",
           "0276921810",
           610.0
          ],
          [
           "г. Воронеж, ул. Владимира Невского, д. 19, 394088",
           "3662047623",
           4113.0
          ],
          [
           "665821, Иркутская обл, г Ангарск, пр-кт Карла Маркса, д 74а, 204",
           "3801993892",
           30802.0
          ],
          [
           "188660, Ленинградская обл., Всеволожский р-н, с.п. Бугровское, г. Бугры, Английская ул., дом 6, помещение 17Н, офис 1",
           "7841385672",
           546798.0
          ],
          [
           "119435, Москва г, пер Большой Саввинский, д 16, Э 1 П I К 1 о 3",
           "7734362776",
           10438.0
          ],
          [
           "г. Улан-Удэ, ул. Таганская, зд. 18Г, 670009",
           "0323087908",
           39206.0
          ],
          [
           "344101, Ростовская обл, Ростов-на-Дону г, 1-я Баррикадная ул, дом № 1, комната 1",
           "6166047082",
           17064.0
          ],
          [
           "115191, Г.Москва, вн.тер. г. Муниципальный Округ Даниловский, ул Большая Тульская, дом 11, помещение Х, комната 21/2Л",
           "9705078860",
           3950.0
          ],
          [
           "364015, Чеченская Республика, г.о. город Грозный, г Грозный, р-н Ахматовский, ул А.Шерипова, д. 99",
           "2005005454",
           -184577.0
          ],
          [
           "125319, Город Москва, вн.тер.г. муниципальный округ Аэропорт, ул Черняховского, д. 16",
           "7710442630",
           5016.0
          ],
          [
           "196626, Город Санкт-Петербург, п. Шушары, ш. Московское, дом 231, литер Х, СТРОЕНИЕ 1 ПОМЕЩЕНИЕ 1Н",
           "7839462986",
           12678.0
          ],
          [
           "629305, Ямало-Ненецкий АО, г Новый Уренгой, ул Таежная, д 25А, кв 21",
           "2311159774",
           77046.0
          ],
          [
           "614039, Пермский край, г Пермь, ул Сибирская, д 47а, 302",
           "5903110050",
           162342.0
          ],
          [
           "142410, Московская область, г.о. Богородский, г Ногинск, ул Бетонная, д. 2А",
           "5031108596",
           35180.0
          ],
          [
           "654006, Кемеровская область - Кузбасс обл, г Новокузнецк, ул Черноморская, 1, 606",
           "4217148761",
           294719.0
          ],
          [
           "108813, Москва г, Московский п, Московский г, Радужная ул, дом 10, этаж 01, помещение 4",
           "5034033420",
           26464.0
          ],
          [
           "Краснодарский край, г.о. город Краснодар, г. Краснодар, ул. им. Вишняковой, д. 4, ОФИС 26, 350001",
           "2309095442",
           84178.0
          ],
          [
           "443035, Самарская область, г. Самара, пр-кт Кирова, дом 201, комната 1,2,3,4,5,8,9,10",
           "6311111473",
           61208.0
          ],
          [
           "643,443099,63,,Самара г,,Степана Разина ул,91,,8",
           "6381030027",
           75958.0
          ],
          [
           "127434, Москва г, ш Дмитровское, д 21, к 1",
           "7713008284",
           90590.0
          ],
          [
           "199034, Санкт-Петербург г, вн.тер.г. муниципальный округ № 7, линия 16-я В.О., д. 7, литер Б, часть/помещение 12/16-Н, помещ. 6203",
           "7801648847",
           -180476.0
          ],
          [
           "420051, Татарстан Респ, г Казань, ул Автосервисная, д 6, 4",
           "1658151554",
           -10112.0
          ],
          [
           "420021, Татарстан Респ, Казань г, Михаила Худякова ул, здание 10",
           "1655318220",
           17091.0
          ],
          [
           "620130, Свердловская обл, г Екатеринбург, ул Юлиуса Фучика, д 5, кв 159",
           "6674336209",
           30758.0
          ],
          [
           "141401, Московская обл, Химки г, Рабочая ул, дом № 2А, корпус 26, офис 301",
           "7714687920",
           585.0
          ],
          [
           "630005, Новосибирская область, г Новосибирск, ул Фрунзе, д. 96/1, 7 этаж",
           "5401329507",
           -120876.0
          ],
          [
           "298612, Крым Респ, Ялта г, Московская ул, дом 33а, квартира 2",
           "9103075830",
           21461.0
          ],
          [
           "117335, Город Москва, вн.тер.г. муниципальный округ Ломоносовский, ул Вавилова, д. 69/75",
           "2312198180",
           15492.0
          ]
         ],
         "hovertemplate": "<b>%{hovertext}</b><br><br>lat=%{lat}<br>lng=%{lon}<br>address=%{customdata[0]}<br>inn=%{customdata[1]}<br>revenue=%{customdata[2]}<extra></extra>",
         "hovertext": [
          "Общество с ограниченной ответственностью \"АВАНГАРД\"",
          "ОБЩЕСТВО С ОГРАНИЧЕННОЙ ОТВЕТСТВЕННОСТЬЮ \"СПЕЦИАЛИЗИРОВАННЫЙ ЗАСТРОЙЩИК РЕНТ-СЕРВИС\"",
          "ОБЩЕСТВО С ОГРАНИЧЕННОЙ ОТВЕТСТВЕННОСТЬЮ \"СТРОИТЕЛЬНАЯ КОМПАНИЯ \"АНТРОМ\"",
          "Общество с ограниченной ответственностью \"СГМ Груп\"",
          "Общество с ограниченной ответственностью \"А\" Специализированный застройщик",
          "Общество с ограниченной ответственностью \"Специализированный застройщик \"Смайнэкс Тишинский Бульвар\"",
          "Общество с ограниченной ответственностью \"РСТИ-Фамилия\"",
          "Открытое акционерное общество Инвестиционно-строительная компания \"Честр-Групп\"",
          "ООО \"ИНЖЕНЕР\"",
          "Общество с ограниченной ответственностью \"СТРОЙСЕРВИС\"",
          "Общество с ограниченной ответственностью \"МДК\"",
          "Общество с ограниченной ответственностью \"ТИВОЛИОН\"",
          "ОБЩЕСТВО С ОГРАНИЧЕННОЙ ОТВЕТСТВЕННОСТЬЮ \"АРМАДА\"",
          "ОБЩЕСТВО С ОГРАНИЧЕННОЙ ОТВЕТСТВЕННОСТЬЮ \"КЕФЕЙ\"",
          "ОБЩЕСТВО С ОГРАНИЧЕННОЙ ОТВЕТСТВЕННОСТЬЮ \"АССО\"",
          "ОБЩЕСТВО С ОГРАНИЧЕННОЙ ОТВЕТСТВЕННОСТЬЮ \"СК ПРЕМИУМ\"",
          "ОБЩЕСТВО С ОГРАНИЧЕННОЙ ОТВЕТСТВЕННОСТЬЮ \"БИЭФ\"",
          "ОБЩЕСТВО С ОГРАНИЧЕННОЙ ОТВЕТСТВЕННОСТЬЮ \"ПРОМГРАЖДАНСТРОЙ\"",
          "Общество с ограниченной ответственностью \"СК ВЕКТОР\"",
          "ОБЩЕСТВО С ОГРАНИЧЕННОЙ ОТВЕТСТВЕННОСТЬЮ \"СТРОИТЕЛЬНАЯ КОМПАНИЯ СПЕЦСТРОЙ\"",
          "ООО \"СПЕЦИАЛИЗИРОВАННЫЙ ЗАСТРОЙЩИК \"ОЛЧЕЙ\"",
          "Общество с ограниченной ответсвенностью \" СИМ-Строй-Групп\"",
          "ОБЩЕСТВО С ОГРАНИЧЕННОЙ ОТВЕТСТВЕННОСТЬЮ \"ЭНТЕЛЕХИЯ\"",
          "Общество с ограниченной ответственностью СК \"Восток\"",
          "Общество с ограниченной ответственностью \"Связьэнергострой\"",
          "Общество с ограниченной ответственностью \"Инфинити Групп\"",
          "Общество с ограниченной ответственностью \"Автомолот Строй\"",
          "АКЦИОНЕРНОЕ ОБЩЕСТВО \"АВТОБЫТДОР\"",
          "Общество с ограниченной ответственностью \"СТРОЙОТДЕЛ\"",
          "Общество с ограниченной ответственностью \"Специализированный застройщик \"Град Домодедово\"",
          "ООО \"СПЕЦТРАНС\"",
          "Общество с ограниченной ответственностью \"Специализированный застройщик МЕГАТЕК-СТРОЙ\"",
          "ОБЩЕСТВО С ОГРАНИЧЕННОЙ ОТВЕТСТВЕННОСТЬЮ \"РЕКОНСТРУКЦИЯ ЕКБ\"",
          "ОБЩЕСТВО С ОГРАНИЧЕННОЙ ОТВЕТСТВЕННОСТЬЮ \"АЛЬФАСТРОЙКОНТРАКТ\"",
          "ОБЩЕСТВО С ОГРАНИЧЕННОЙ ОТВЕСТВЕННОСТЬЮ \"ЕКАТЕРИНБУРГСКАЯ ГРАДОСТРОИТЕЛЬНАЯ КОМПАНИЯ\"",
          "ОБЩЕСТВО С ОГРАНИЧЕННОЙ ОТВЕТСТВЕННОСТЬЮ \"ПАНТЕОН\"",
          "Общество с ограниченной ответственностью  \"ТЕХНОСТРОЙ\"",
          "ООО \"УРАЛСТРОЙСЕРВИС\"",
          "ОБЩЕСТВО С ОГРАНИЧЕННОЙ ОТВЕТСТВЕННОСТЬЮ \"ВЕГА\"",
          "ОБЩЕСТВО С ОГРАНИЧЕННОЙ ОТВЕТСТВЕННОСТЬЮ \"ЭСКАДА\"",
          "Общество с ограниченной ответственностью \"СПЕЦИАЛИЗИРОВАННЫЙ ЗАСТРОЙЩИК \"ГАРАНТСТРОЙИНВЕСТ\"\"",
          "ОБЩЕСТВО С ОГРАНИЧЕННОЙ ОТВЕТСТВЕННОСТЬЮ \"АЗИМУТ\"",
          "Общество с ограниченной ответственностью \"ГАРАНТ СТРОЙ СЕРВИС\"",
          "ОБЩЕСТВО С ОГРАНИЧЕННОЙ ОТВЕТСТВЕННОСТЬЮ \"ПУРОВСКИЙ ЦЕНТР НЕДВИЖИМОСТИ\"",
          "ООО \"Аккорд А\"",
          "Общество с ограниченной ответственностью \"ДСК \"ВЕЛЕС\"",
          "Общество с ограниченной ответственностью \"СК-НЕВА\"",
          "ОБЩЕСТВО С ОГРАНИЧЕННОЙ ОТВЕТСТВЕННОСТЬЮ \"СТРОЙКОНСТРУКЦИЯ\"",
          "Общество с ограниченной ответственностью Специализированный застройщик \"АНТАРСИТИ\"",
          "АКЦИОНЕРНОЕ ОБЩЕСТВО \"АРСЕНАЛ\"",
          "Общество с ограниченной ответственностью \"АЛЬЯНС\"",
          "Общество с ограниченной ответственностью \"СТРОЙ-РЕСУРС\"",
          "Общество с ограниченной ответственностью СПЕЦИАЛИЗИРОВАННЫЙ ЗАСТРОЙЩИК ФИНАНСОВО СТРОИТЕЛЬНАЯ КОРПОРАЦИЯ \"МОНОЛИТ-КАЛУГА\"",
          "ОБЩЕСТВО С ОГРАНИЧЕННОЙ ОТВЕТСТВЕННОСТЬЮ \"СОЮЗ\"",
          "Общество с ограниченной ответственностью \"СМОЛСТРОЙГАРАНТ\"",
          "Общество с ограниченной ответственностью \"Центр-Инвест-Строй\"",
          "Общество с ограниченной ответственностью \"ГазВодСтрой\"",
          "АКЦИОНЕРНОЕ ОБЩЕСТВО \"АРСЕНАЛ\"",
          "ОБЩЕСТВО С ОГРАНИЧЕННОЙ ОТВЕТСТВЕННОСТЬЮ \"СЛАВЯНСТРОЙ\"",
          "Общество с ограниченной ответственностью \"Гамасс\"",
          "Общество с ограниченной ответственностью \"АДЮТОН-Н\"",
          "ООО \"СР.ДЕВЕЛОПМЕНТ\"",
          "Общество с ограниченной ответственностью Производственно-строительная компания \"СибПродМонтаж\"",
          "ООО \"Литана\"",
          "Общество с ограниченной ответственностью \"ОПОРА\"",
          "Общество с ограниченной ответственностью \"Стройдело\"",
          "ОБЩЕСТВО С ОГРАНИЧЕННОЙ ОТВЕТСТВЕННОСТЬЮ \"ЕНЕР-ХОЛДИНГ\"",
          "Общество с ограниченной ответственностью \"ОХВАТ-НСК\"",
          "Общество с ограниченной ответственностью \"МЕНТАЛ-ПЛЮС\"",
          "Акционерное общество \"Невский Проект\"",
          "Общество с ограниченной ответственностью \"Сельстрой\"",
          "ОБЩЕСТВО С ОГРАНИЧЕННОЙ ОТВЕТСТВЕННОСТЬЮ \"ПРОФЛАЙН\"",
          "Общество с ограниченной ответственностью \"Рсти (Специализированный Застройщик)\"",
          "Общество с ограниченной ответственностью \"Строй-Континент\"",
          "Общество с ограниченной ответственностью \"НАСЛЕДИЕ\"",
          "ОБЩЕСТВО С ОГРАНИЧЕННОЙ ОТВЕТСТВЕННОСТЬЮ \"СТРОЙЭНЕРГОКОМПЛЕКТ\"",
          "Общество с ограниченной ответственностью \"Террикон\"",
          "Общество с ограниченной ответственностью \"Нижегородская фирма Атом-Строй\"",
          "Общество с ограниченной ответственностью \"Континент\"",
          "ООО \"ТЕХНОХИММОНТАЖ\"",
          "ООО \"КОНКОРД\"",
          "Общество с ограниченной ответственностью \"РСБ КОНСТРАКШН\"",
          "Общество с ограниченной ответственностью \"Вторая строительная компания\"",
          "Общество с ограниченной ответственностью \"НАСЛЕДИЕ-РЕНОВАЦИЯ\"",
          "Общество с ограниченной ответственностью \"ЛЮКССТРОЙ\"",
          "Общество с ограниченной ответственностью \"Строительная Компания \"Гидрокор\"",
          "Общество с ограниченной ответственностью \"МДВ\"",
          "Общество с ограниченной ответственностью \"ФЛАГМАН\"",
          "ОБЩЕСТВО С ОГРАНИЧЕННОЙ ОТВЕТСТВЕННОСТЬЮ \"УПРАВЛЯЮЩАЯ СТРОИТЕЛЬНАЯ КОМПАНИЯ ЭТАЖИ\"",
          "Общество с ограниченной ответственностью \"СТРОИТЕЛЬНАЯ КОМПАНИЯ \"ДЕЛЬТА\"",
          "Общество с ограниченной ответственностью АСК \"Олимпстрой\"",
          "Общество с ограниченной ответственностью \"МАСТЕРСТРОЙ-ДВ\"",
          "Общество с ограниченной ответственностью \"СК Н.Т.С.\"",
          "Общество с ограниченной ответственностью \"СК ВИРА\"",
          "Общество с ограниченной ответственностью  Научно-Производственная Компания \"Интербизнес-55\"",
          "Общество с ограниченной ответственностью \"КСК-ГРУПП\"",
          "Общество с ограниченной ответственностью \"Строительная компания Сервис-Д\"",
          "ООО \"СК ИВЕНТ\"",
          "Общество с ограниченной ответственностью \"Инвестиционная строительная компания \"НКС\"",
          "Общество с ограниченной ответственностью \"СК \"Стройжилподряд\"",
          "Общество с ограниченной ответственностью \"МегаСтрой\"",
          "Общество с ограниченной ответственностью \"ЛАТАР СТРОЙ\"",
          "Общество с ограниченной ответственностью \"Рио\"",
          "ОБЩЕСТВО С ОГРАНИЧЕННОЙ ОТВЕТСТВЕННОСТЬЮ \"АВАНГАРДСТРОЙ\"",
          "Общество с ограниченной ответственностью \"Стройсервис Плюс\"",
          "Закрытое акционерное общество \"Институт ГидроТрансПроект\"",
          "ОБЩЕСТВО С ОГРАНИЧЕННОЙ ОТВЕТСТВЕННОСТЬЮ \"ЭНЕРГОСТРОЙВОСТОК\"",
          "Общество с ограниченной ответственностью Специализированный застройщик «Магма Симбирск»",
          "Общество с ограниченной ответственностью \"РРД ИНЖИНИРИНГ\"",
          "Общество с ограниченной ответственностью \"Экспонентам\"",
          "Общество с ограниченной ответственностью \"ТЕРМОИЗОЛСТРОЙ\"",
          "Общество с ограниченной ответственностью \"ДОРОЖНО-СТРОИТЕЛЬНОЕ УПРАВЛЕНИЕ №1\"",
          "Общество с ограниченной ответственностью СТРОИТЕЛЬНОЕ УПРАВЛЕНИЕ \"РЕЧНОЕ\"",
          "Общество с ограниченной ответственностью \"КОМПАНИЯ АВР\"",
          "ООО \"ИНТЕР-ГРУПП\"",
          "Общество с ограниченной ответственностью \"РПК\"",
          "Общество с ограниченной ответственностью  Специализированный застройщик \"Казанский Посад+\"",
          "Общество с ограниченной ответственностью \"Энергосила-НК\"",
          "Общество с ограниченной ответственностью \"Строительная Компания \"Восточный ЛУЧ\"\"",
          "Общество с ограниченной ответственностью \"КОНСТРУКТОР ГРУПП\"",
          "ООО \"Дорожно-эксплуатационное предприятие №17\"",
          "ООО СТРОИТЕЛЬНО-МОНТАЖНОЕ УПРАВЛЕНИЕ-5 СТРОЙБЕТОН \"ВОСТОЧНОЕ\"",
          "ООО \"Ремонтстройсервис\"",
          "ОБЩЕСТВО С ОГРАНИЧЕННОЙ ОТВЕТСТВЕННОСТЬЮ \"ВОЛЛМАКС СИТИ\"",
          "Общество с ограниченной ответственностью \"ПРОМЫШЛЕННОЕ СТРОИТЕЛЬСТВО\"",
          "ОБЩЕСТВО С ОГРАНИЧЕННОЙ ОТВЕТСТВЕННОСТЬЮ \"ВСВ-РЕГИОНСТРОЙ\"",
          "ОБЩЕСТВО С ОГРАНИЧЕННОЙ ОТВЕТСТВЕННОСТЬЮ \"НАУЧНО-ПРОИЗВОДСТВЕННОЕ ОБЪЕДИНЕНИЕ \"ПИГМЕНТ\"",
          "Общество с ограниченной ответственностью \"ГК \"СТРОЙНОРД\"\"",
          "ОБЩЕСТВО С ОГРАНИЧЕННОЙ ОТВЕТСТВЕННОСТЬЮ \"СПЕЦИАЛИЗИРОВАННЫЙ ЗАСТРОЙЩИК \"ЕВРОИНВЕСТ БЛАГОДАТНАЯ\"",
          "Общество с ограниченной ответственностью СПЕЦИАЛИЗИРОВАННЫЙ ЗАСТРОЙЩИК \"ОПТИМА-СТРОЙ\"",
          "Общество с ограниченной ответственностью \"ТРАНСПОРТНО-СТРОИТЕЛЬНАЯ КОМПАНИЯ 78 РЕГИОН\"",
          "Общество с ограниченной ответственностью \"АВП\"",
          "Общество с ограниченной ответственностью \"СТРОЙИНВЕСТПРОЕКТ\"",
          "Общество с ограниченной ответственностью \"ИНЖ-СТАЙЛ\"",
          "ОБЩЕСТВО С ОГРАНИЧЕННОЙ ОТВЕТСТВЕННОСТЬЮ \"ФЕНИКС КОНСТРАКШН\"",
          "Общество с ограниченной ответственностью \"ГУД ВУД\"",
          "Общество с ограниченной ответственностью \"Контур\"",
          "ООО \"УРАЛЬСКАЯ ИНВЕСТИЦИОННАЯ КОМПАНИЯ\" (ООО \"УИК\")",
          "ОБЩЕСТВО С ОГРАНИЧЕННОЙ ОТВЕТСТВЕННОСТЬЮ КЛИНЦОВСКОЕ СУМ",
          "Общество с ограниченной ответственностью \"СТРОИТЕЛЬНАЯ КОМПАНИЯ НОРД\"",
          "Общество с ограниченной ответственностью \"СК КАСКАД\"",
          "Общество с ограниченной ответственностью \"РСГ-ГРУПП\"",
          "ОБЩЕСТВО С ОГРАНИЧЕННОЙ ОТВЕТСТВЕННОСТЬЮ \"СТРОЙЦЕНТР+\"",
          "Общество с ограниченной ответственностью \"СТРОИТЕЛЬНАЯ КОМПАНИЯ \"АВАНГАРД\"",
          "ОБЩЕСТВО С ОГРАНИЧЕННОЙ ОТВЕТСТВЕННОСТЬЮ СПЕЦИАЛИЗИРОВАННЫЙ ЗАСТРОЙЩИК \"КРАСНОДАРИНВЕСТСТРОЙ\"",
          "Общество с ограниченной ответственностью \"ЯДРАН-СТРОЙ\"",
          "Общество с ограниченной ответственностью \"АШ-ШИШАНИ\"",
          "ОБЩЕСТВО С ОГРАНИЧЕННОЙ ОТВЕТСТВЕННОСТЬЮ \"МЕГАПОЛИС\"",
          "ОАО ТРЕСТ \"ЛИПЕЦКСТРОЙ\"",
          "Общество с ограниченной ответственностью \"СТРОЙИНДУСТРИЯ\"",
          "ОБЩЕСТВО С ОГРАНИЧЕННОЙ ОТВЕТСТВЕННОСТЬЮ \"СТРОЙЭКСПЕРТ\"",
          "Акционерное общество \"ГКС\"",
          "Общество с ограниченной ответственностью \"СИНТЕСИС РУС\"",
          "Общество с ограниченной ответственностью \"ЮГО-СТРОЙ\"",
          "Общество с ограниченной ответственностью \"Вертикаль Строй\"",
          "ОБЩЕСТВО С ОГРАНИЧЕННОЙ ОТВЕТСТВЕННОСТЬЮ \"АМТЕК\"",
          "Общество с ограниченной ответственностью \"НовэлСтрой\"",
          "Общество с ограниченной ответственностью \"ИСВ\"",
          "Общество с ограниченной ответственностью \" СЕВЕРСТРОЙ\"",
          "ОБЩЕСТВО С ОГРАНИЧЕННОЙ ОТВЕТСТВЕННОСТЬЮ \"РАДИАЛ ТМ\"",
          "Общество с ограниченной ответственностью \"АВТОСПЕЦСТРОЙ\"",
          "Общество с ограниченной ответственностью \"Тверь-Гранд\"",
          "Общество с ограниченной ответственностью \"СМУ-77\"",
          "Общество с ограниченной ответственностью \"КУБ\"",
          "Общество с ограниченной ответственностью \"СТРОЙКРАФТ-ОТДЕЛКА\"",
          "Общество с ограниченной ответственностью \"Специализированный Застройщик \"Центр Прогресса Художественной Гимнастики\"",
          "Общество с ограниченной ответственностью Строительная Компания СтройИнвестИнжиниринг",
          "АКЦИОНЕРНОЕ ОБЩЕСТВО \"СТРОИТЕЛЬНЫЙ ХОЛДИНГ ТЕЗИС\"",
          "ООО \"СТРОИТЕЛЬНАЯ КОМПАНИЯ \"ФЛАГМАН\"",
          "Общество с ограниченной ответственностью \"ЗЕТТА\"",
          "Общество с ограниченной ответственностью \"АСТРА КОНСТРАКШН\"",
          "Общество с ограниченной ответственностью \"Строительно-монтажная компания \"ПРАЙД\"",
          "Акционерное общество СПЕЦИАЛИЗИРОВАННЫЙ ЗАСТРОЙЩИК \"КМАПРОЕКТЖИЛСТРОЙ\"",
          "Общество с ограниченной ответственностью \"Строительная компания \"Чистоград\"",
          "Общество с ограниченной ответственностью \"СТРОИТЕЛЬНАЯ КОМПАНИЯ \"СИБИКОМ\"",
          "Общество с ограниченной ответственностью \"АЦИС КОНСТРАКШН\"",
          "ООО \"СФЕРА\"",
          "Общество с ограниченной ответственностью \"СТРОИТЕЛЬНАЯ КОРПОРАЦИЯ \"ДАЙМОНД БИЛДИНГ\"",
          "ОБЩЕСТВО С ОГРАНИЧЕННОЙ ОТВЕТСТВЕННОСТЬЮ \"АТР-СТРОЙ\"",
          "ОБЩЕСТВО С ОГРАНИЧЕННОЙ ОТВЕТСТВЕННОСТЬЮ \"КАПИТАЛСТРОЙ\"",
          "Общество с ограниченной ответственностью специализированный застройщик \"Строймастер\"",
          "ООО\"РСП\"",
          "Акционерное общество \"Норт\"",
          "ОБЩЕСТВО С ОГРАНИЧЕННОЙ ОТВЕТСТВЕННОСТЬЮ ПРОИЗВОДСТВЕННО-КОММЕРЧЕСКАЯ ФИРМА \"АЛЬТАИР\"",
          "Акционерное общество \"ТОРОС\"",
          "Общество с ограниченной ответственностью \"ИТС\"",
          "ОБЩЕСТВО С ОГРАНИЧЕННОЙ ОТВЕТСТВЕННОСТЬЮ \"ХАУС ГРУПП\"",
          "Общество с ограниченной ответственностью \"Прострой\"",
          "Общество с ограниченной ответственностью \"ЭнергоКомплекс\"",
          "ОБЩЕСТВО С ОГРАНИЧЕННОЙ ОТВЕТСТВЕННОСТЬЮ СТРОИТЕЛЬНОЕ УПРАВЛЕНИЕ \"АРСЕНАЛ\"",
          "Общество с ограниченной ответственностью \"ВЕКТОР СТРОЙ\"",
          "Общество с ограниченной ответственностью \"ЛИДЕР-СПЕЦИАЛИЗИРОВАННЫЙ ЗАСТРОЙЩИК\"",
          "Общество с ограниченной ответственностью \"ВИК-СТРОЙ\"",
          "Общество с ограниченной ответственностью \"СК НОРМА\"",
          "Общество с ограниченной ответственностью \"СИРИУС\"",
          "Общество с ограниченной ответственностью \"Регионстрой\"",
          "Общество с ограниченной ответственностью \"Энергостройресурс\"",
          "ОБЩЕСТВО С ОГРАНИЧЕННОЙ ОТВЕТСТВЕННОСТЬЮ \"ЭН ЭС СИ\"",
          "Общество с ограниченной ответственностью \"РИГИЛ\"",
          "Общество с ограниченной ответственностью \"Комплексные Строительные Системы\"",
          "Общество с ограниченной ответственностью \"ВолгоПромСтрой\"",
          "Общество с ограниченной ответственностью \"ГРАДСТРОЙ\"",
          "Общество с ограниченной ответственностью \"Специализированный застройщик \"Мой дом Каменки\"",
          "Общество с ограниченной ответственностью \"МБ Инжиниринг\"",
          "Общество с ограниченной ответственностью \"ФОККА-М\"",
          "Общество с ограниченной ответственностью \"СТРОЙЦЕНТР-ИРКУТСК\"",
          "Общество с ограниченной ответственностью \"Проминбург\"",
          "ООО \"КОРВЕТ\"",
          "ОБЩЕСТВО С ОГРАНИЧЕННОЙ ОТВЕТСТВЕННОСТЬЮ СПЕЦИАЛИЗИРОВАННЫЙ ЗАСТРОЙЩИК \"ТРЕСТ\"",
          "Общество с ограниченной ответственностью \"ЛИДЕР\"",
          "Общество с ограниченной ответственностью \"Промышленное объединение \"ГИРАКС\"",
          "Общество с ограниченной ответственностью \"Тобол\"",
          "Общество с ограниченной ответственностью \"МИДАС\"",
          "ОБЩЕСТВО С ОГРАНИЧЕННОЙ ОТВЕТСТВЕННОСТЬЮ СПЕЦИАЛИЗИРОВАННЫЙ ЗАСТРОЙЩИК \"НОРСТРОЙ\"",
          "Общество с ограниченной ответственностью \"МСТ-ГРУПП\"",
          "Общество с ограниченной ответственностью \"ДОМСТРОЙИНВЕСТ\"",
          "ООО \"ПЭТРУСКо\"",
          "Общество с ограниченной ответственностью \"ИнтерСтройИнвест\"",
          "ОБЩЕСТВО С ОГРАНИЧЕННОЙ ОТВЕТСТВЕННОСТЬЮ \"ФОРВАРД-СТРОЙ\"",
          "Общество с ограниченной ответственностью \"Лефортовская Строительная Компания\"",
          "ООО \"ДСМ\"",
          "Общество с ограниченной ответственностью \"ЭЛЕКТРОМОНТАЖСТРОЙ\"",
          "ООО \"ИСК \"ТРИ-С\"",
          "Общество с ограниченной ответственностью \"ОПТТОРГ\"",
          "Общество с ограниченной ответственностью \"АН-Строй\"",
          "Общество с ограниченной ответственностью \"ВИКТОРИЯ\"",
          "ОБЩЕСТВО С ОГРАНИЧЕННОЙ ОТВЕТСТВЕННОСТЬЮ \"ПМК-219\"",
          "АКЦИОНЕРНОЕ ОБЩЕСТВО \"ЕКБ-ОТДЕЛСТРОЙ\"",
          "Общество с ограниченной ответственностью\"Эковентмонтаж\"",
          "Общество с ограниченной ответственностью \"РУСАМ\"",
          "ОБЩЕСТВО С ОГРАНИЧЕННОЙ ОТВЕТСТВЕННОСТЬЮ \"М ГРУПП\"",
          "ОБЩЕСТВО С ОГРАНИЧЕННОЙ ОТВЕТСТВЕННОСТЬЮ \"СТРОЙЭТАЛОН ФИНАНС\"",
          "Общество с ограниченной ответственностью \"ЭЛЕКТРА\"",
          "Предприятие \"Успех\" Общество с ограниченной ответственностью",
          "Общество с ограниченной ответственностью \"ЭРИОНСТРОЙГРУПП\"",
          "Общество с ограниченной ответственностью \"СТК-СТРОЙ\"",
          "Общество с ограниченной ответственностью \"ТНК\"",
          "Общество с ограниченной ответственностью \"Дон-Строй\"",
          "ООО \"СБ ЗАЩИТА\"",
          "Общество с ограниченной ответственностью \"ГЕЛИОС-ПАРК СПБ\"",
          "Общество с ограниченной ответственностью \"КАПИТАЛГРУППСТРОЙ\"",
          "Общество с ограниченной ответственностью \"МОНТАЖНАЯ КОМПАНИЯ ВОСТОКМЕТАЛЛУРГМОНТАЖ\"",
          "Общество с ограниченной ответственностью \"Новострой\"",
          "ОБЩЕСТВО С ОГРАНИЧЕННОЙ ОТВЕТСТВЕННОСТЬЮ \"ПРОМСТРОЙСЕРВИС\"",
          "Общество с ограниченной ответственностью \"СК ГАЛАТА\"",
          "Общество с ограниченной ответственностью СПЕЦИАЛИЗИРОВАННЫЙ ЗАСТРОЙЩИК \"КАЗАНСКИЙ ПОСАД\"",
          "Общество с ограниченной ответственностью \"Лев\"",
          "ОБЩЕСТВО С ОГРАНИЧЕННОЙ ОТВЕТСТВЕННОСТЬЮ \"НЕРГА\"",
          "Общество с ограниченной ответственностью \"СК \"Структура\"",
          "ОБЩЕСТВО С ОГРАНИЧЕННОЙ ОТВЕТСТВЕННОСТЬЮ \"ДЕЛЬТА-СТРОЙ\"",
          "ОБЩЕСТВО С ОГРАНИЧЕННОЙ ОТВЕТСТВЕННОСТЬЮ \"К7\"",
          "Общество с ограниченной ответственностью \"А-Проект.к\"",
          "Общество с ограниченной ответственностью \"ЭКО ХОЛДИНГ\"",
          "Общество с ограниченной ответственностью \"АВС\"",
          "Общество с ограниченной ответственностью \"Т-СТРОЙ\"",
          "Общество с ограниченной ответственностью \"Агропром\"",
          "ОБЩЕСТВО С ОГРАНИЧЕННОЙ ОТВЕТСТВЕННОСТЬЮ \"КВ-НОВТРАНС\"",
          "Общество с ограниченной ответственностью \"Контур 2012\"",
          "ООО СК \"ЭНЕРГОСТРОЙ\"",
          "Общество с ограниченной ответственностью \"ПСК-71\"",
          "Общество с ограниченной ответственностью \"СИБРЕМОНТСЕРВИС\"",
          "ООО \"Специализированный застройщик \"Промгражданстрой\"",
          "Общество с ограниченной ответственностью \"СК НОВОСТРОЙ\"",
          "ОБЩЕСТВО С ОГРАНИЧЕННОЙ ОТВЕТСТВЕННОСТЬЮ \"СПЕЦИАЛИЗИРОВАННЫЙ ЗАСТРОЙЩИК \"СТРОИТЕЛЬНАЯ ФИРМА \"ИНВЕСТ-ЛАД\"",
          "ООО \"РИК\"",
          "Общество с ограниченной ответственностью \"ОРТОСТ-ФАСАД\"",
          "ОБЩЕСТВО С ОГРАНИЧЕННОЙ ОТВЕТСТВЕННОСТЬЮ \"СМУ ДСК\"",
          "ОБЩЕСТВО С ОГРАНИЧЕННОЙ ОТВЕТСТВЕННОСТЬЮ \"СТРОИТЕЛЬНАЯ КОМПАНИЯ-78\"",
          "Общество с ограниченной ответственностью \"ЭНЕРГОСТРОЙПРОЕКТ\"",
          "Общество с ограниченной ответственностью \"СК АРКАДА\"",
          "Общество с ограниченной ответственностью \"Вологдастрой\"",
          "ОБЩЕСТВО С ОГРАНИЧЕННОЙ ОТВЕТСТВЕННОСТЬЮ \"НЕПТУН\"",
          "Общество с ограниченной ответственностью \"ЛЕФКА\"",
          "Общество с ограниченной ответственностью \"СПЕЦИАЛИЗИРОВАННЫЙ ЗАСТРОЙЩИК \"АНДОР\"",
          "Общество с ограниченной ответственностью \"Жилищник-2\"",
          "Общество с ограниченной ответственностью Специализированный застройщик \"Кировский ССК\"",
          "Общество с ограниченной ответственностью \"ИНЖЕНЕРНЫЕ ТЕХНОЛОГИИ\"",
          "ОБЩЕСТВО С ОГРАНИЧЕННОЙ ОТВЕТСТВЕННОСТЬЮ \"РГ КОНСТРАКШН\"",
          "Общество с ограниченной ответственностью \"ЭЛИТСПЕЦСТРОЙ\"",
          "Общество с ограниченной ответственностью «СПЕЦИАЛИЗИРОВАННЫЙ ЗАСТРОЙЩИК «МАГИ»",
          "Общество с ограниченной ответственностью \"ЮГСТРОЙ\"",
          "Общество с ограниченной ответственностью \"К-ТЕХ\"",
          "Общество с ограниченной ответственностью \"СТРОЙ ИНЖИНИРИНГ\"",
          "Общество с ограниченной ответственностью \"СУ-12 АПК-СТРОЙ\"",
          "ОБЩЕСТВО С ОГРАНИЧЕННОЙ ОТВЕТСТВЕННОСТЬЮ \"ННДК ГЕНЕРАЛЬНЫЙ ПОДРЯДЧИК\"",
          "Общество с ограниченной ответственностью \"НЕВА\"",
          "Общество с ограниченной ответственностью \"Екатеринбургэлектромонтаж\"",
          "АО \"Бердский строительный трест\"",
          "Общество с ограниченной ответственностью Строительная компания \"Медведь\"",
          "Акционерное общество \"Петрос\"",
          "Общество с ограниченной ответственностью \"ЮГСТРОЙРЕСУРС\"",
          "Общество с ограниченной ответственностью \"НАСЛЕДИЕ\"",
          "Общество с ограниченной ответственностью  \"СТРОИТЕЛЬ\"",
          "Общество с ограниченной ответственностью \"РЕСТАВРАЦИЯ. ПРОЕКТИРОВАНИЕ. СТРОИТЕЛЬСТВО.\"",
          "Общество с ограниченной ответственностью \"СПЕЦИАЛИЗИРОВАННЫЙ ЗАСТРОЙЩИК\" \"РУСАГРОСТРОЙ\"\"",
          "Общество с ограниченной ответственностью \"100РА ЛТД\"",
          "Общество с ограниченной ответственностью \"MБ-строй\"",
          "Общество с ограниченной ответственностью \"АГРОСНАБ-ЮГ\"",
          "ОБЩЕСТВО С ОГРАНИЧЕННОЙ ОТВЕТСТВЕННОСТЬЮ \"ЕВРОПЕЙСКИЕ СТРОИТЕЛЬНЫЕ ТЕХНОЛОГИИ\"",
          "ОБЩЕСТВО С ОГРАНИЧЕННОЙ ОТВЕТСТВЕННОСТЬЮ \"ГЛОБУС-СК\"",
          "Общество с ограниченной ответственностью «КЬЮТЕК»",
          "ООО \"Базис ЛТД\"",
          "Общество с ограниченной ответственностью \"Специализированный застройщик \"ЖИЛСТРОЙСИТИ\"",
          "АКЦИОНЕРНОЕ ОБЩЕСТВО \"СПЕЦИАЛИЗИРОВАННЫЙ ЗАСТРОЙЩИК \"ШЭЛДОМ\"",
          "Общество с ограниченной ответственностью \"Металлоцентр Лидер-М\"",
          "ОБЩЕСТВО С ОГРАНИЧЕННОЙ ОТВЕТСТВЕННОСТЬЮ \"ТОРГОВЫЙ ДОМ \"АЗС ОБОРУДОВАНИЕ\"",
          "Общество с ограниченной ответственностью \"РЕМиСТР\"",
          "Общество с ограниченной ответственностью \"ТАМЕРЛАН-СТРОЙ\"",
          "Общество с ограниченной ответственностью \"ОСНОВА\"",
          "Общество с ограниченной ответственностью \"Каскад\"",
          "Общество с ограниченной ответственностью \"СТРОЙПРОЕКТ ГРУПП\"",
          "ОБЩЕСТВО С ОГРАНИЧЕННОЙ ОТВЕТСТВЕННОСТЬЮ \"РЕГИОН ИНТЕРНАЦИОНАЛ\"",
          "Общество с ограниченной ответственностью Специализированный Застройщик \"Галактика\"",
          "ОБЩЕСТВО С ОГРАНИЧЕННОЙ ОТВЕТСТВЕННОСТЬЮ \"КЕНМЕР ГРАДНЯ\"",
          "Общество с ограниченной ответственностью \"СоюзДорСтрой\"",
          "Общество с ограниченной ответственностью \"ЗГРАДА МОНОЛИТ\"",
          "\"ОБЩЕСТВО С ОГРАНИЧЕННОЙ ОТВЕТСТВЕННОСТЬЮ \"СПЕЦИАЛИЗИРОВАННЫЙ ЗАСТРОЙЩИК \"ДРЕВО.ЦЕНТР\"\"",
          "ООО \"ТМ\"",
          "Общество с ограниченной ответственностью \"АСГАРД\"",
          "Общество с ограниченной ответственностью \" Адгезия \"",
          "ОБЩЕСТВО С ОГРАНИЧЕННОЙ ОТВЕТСТВЕННОСТЬЮ СПЕЦИАЛИЗИРОВАННЫЙ ЗАСТРОЙЩИК \"ВЫСОТА\"",
          "ООО \"ФСК \"ЭВЕРАЛ\"",
          "Общество с ограниченной ответственностью \"ОНИКС 88\"",
          "Общество с ограниченной ответственностью \"СПЕЦИАЛИЗИРОВАННОЕ ТОННЕЛЬНОЕ СТРОИТЕЛЬСТВО\"",
          "Общество с ограниченной ответственностью \"ФАСАД СТРОЙ\"",
          "Общество с ограниченной ответственностью \"ТЕПЛОСФЕРА\"",
          "Общество с ограниченной ответственностью \"АЛБА\"",
          "Общество с ограниченной ответственностью \"СИГМА\"",
          "Общество с ограниченной ответственностью \"Строительный Холдинг ЕНКО\"",
          "Общество с ограниченной ответственностью Специализированный застройщик \"Салютстрой\"",
          "Общество с ограниченной ответственностью \"Гефест-Строй\"",
          "Общество с ограниченной ответственностью ВНВ \"Концепт\"",
          "Общество с ограниченной ответственностью \"Строительное управление - Инкост\"",
          "Общество с ограниченной ответственностью \"СК АРТЕНА\"",
          "Общество с ограниченной ответственностью \" ЕДИНСТВО МАСТЕРОВ \"",
          "ОБЩЕСТВО С ОГРАНИЧЕННОЙ ОТВЕТСТВЕННОСТЬЮ \"ЭНЕРГОСТРОЙПРОЕКТ\"",
          "АКЦИОНЕРНОЕ ОБЩЕСТВО \"КОНТИ\"",
          "Общество с ограниченной ответственностью \"ЛЕГАС-ГРУПП\"",
          "ОБЩЕСТВО С ОГРАНИЧЕННОЙ ОТВЕТСТВЕННОСТЬЮ \"ЯМАЛЖИЛСТРОЙ\"",
          "ОБЩЕСТВО С ОГРАНИЧЕННОЙ ОТВЕТСТВЕННОСТЬЮ \"МАТЕН\"",
          "Общество с ограниченной ответственностью \"РЕГИОНАЛЬНЫЕ СТРОИТЕЛЬНЫЕ ТЕХНОЛОГИИ\"",
          "Общество с ограниченной ответственностью \"СПК-СТРОЙ\"",
          "Общество с ограниченной ответственностью \"Строительная компания Юнит\"",
          "Общество с ограниченной ответственностью \"Закидок\"",
          "ОБЩЕСТВО С ОГРАНИЧЕННОЙ ОТВЕТСТВЕННОСТЬЮ \"СТРОИТЕЛЬНАЯ КОМПАНИЯ №1\"",
          "ОБЩЕСТВО С ОГРАНИЧЕННОЙ ОТВЕТСТВЕННОСТЬЮ \"ИРАФТРАНССТРОЙ\"",
          "Общество с ограниченной ответственностью \"СТРОЙТРЕВЛ\"",
          "Общество с ограниченной ответственностью \"СТРОЙКОМ\"",
          "ОБЩЕСТВО С ОГРАНИЧЕННОЙ ОТВЕТСТВЕННОСТЬЮ \"ВИЛИЯ\"",
          "Общество с ограниченной ответственностью \"СПУТНИК БЕЗОПАСНОСТИ\"",
          "Общество с ограниченной ответственностью \"СУ-111\"",
          "Общество с ограниченной ответственностью \"Объединенная Строительная Компания\"",
          "ОБЩЕСТВО С ОГРАНИЧЕННОЙ ОТВЕТСТВЕННОСТЬЮ \"ДИМИД\"",
          "ОБЩЕСТВО С ОГРАНИЧЕННОЙ ОТВЕТСТВЕННОСТЬЮ \"СПЕЦИАЛИЗИРОВАННЫЙ ЗАСТРОЙЩИК \"РУССТРОЙГРУП\"",
          "ООО \"АГРОСПЕЦМОНТАЖ\"",
          "Общество с ограниченной ответственностью \"Строительная компания \"Мир\"",
          "Общество с ограниченной ответственностью \"ПЛГ СТРОЙ\"",
          "ОБЩЕСТВО С ОГРАНИЧЕННОЙ ОТВЕТСТВЕННОСТЬЮ \"ПРОЕКТНО-СТРОИТЕЛЬНАЯ КОМПАНИЯ СПЕЦГЕОПРОЕКТ\"",
          "Общество с ограниченной ответственностью \"Благоустройство Ремонт и Строительство\"",
          "Общество с ограниченной ответственностью \"СТРОЙГРАД\"",
          "Общество с ограниченной ответственностью производственно-коммерческая фирма \"Агросервис\"",
          "Общество с ограниченной ответственностью \"СК ИНЖИНИРИНГ\"",
          "ОБЩЕСТВО С ОГРАНИЧЕННОЙ ОТВЕТСТВЕННОСТЬЮ \"ПЕРЛИТ-СТРОЙ\" (ООО \"ПЕРЛИТ-СТРОЙ\")",
          "Акционерное общество \"КОШЕЛЕВ-ПРОЕКТ\"",
          "Общество с ограниченной ответственностью \"Азбука Строй\"",
          "ОБЩЕСТВО С ОГРАНИЧЕННОЙ ОТВЕТСТВЕННОСТЬЮ СПЕЦИАЛИЗИРОВАННЫЙ ЗАСТРОЙЩИК \"СТРОИТЕЛЬНАЯ КОМПАНИЯ \"СОЗИДАНИЕ\"",
          "Общество с ограниченной ответственностью \"ГРАЖДАНРЕМСТРОЙ\"",
          "ОБЩЕСТВО С ОГРАНИЧЕННОЙ ОТВЕТСТВЕННОСТЬЮ \"АЛЬГЕБА\"",
          "ОБЩЕСТВО С ОГРАНИЧЕННОЙ ОТВЕТСТВЕННОСТЬЮ \"СПЕЦМОНТАЖСТРОЙ\"",
          "Общество с ограниченной ответственностью \"СТРОЙСЕРВИС-ЦЕНТР\"",
          "Общество с ограниченной ответственностью СТРОИТЕЛЬНО-МОНТАЖНАЯ КОМПАНИЯ \"ЭНЕРГОСИЛА\"",
          "ОБЩЕСТВО С ОГРАНИЧЕННОЙ ОТВЕТСТВЕННОСТЬЮ \"СТАНДАРТ\"",
          "ОБЩЕСТВО С ОГРАНИЧЕННОЙ ОТВЕТСТВЕННОСТЬЮ \"ИНЖИНИРИНГОВАЯ КОМПАНИЯ \"САНЛАЙН\"",
          "ООО ОСТОВ",
          "Общество с ограниченной ответственностью \"ЛАНДШАФТПРОЕКТ\"",
          "ООО \"ЛСТК КРАСНОЯРСК\"",
          "ОБЩЕСТВО С ОГРАНИЧЕННОЙ ОТВЕТСТВЕННОСТЬЮ \"КОМПАНИЯ \"МАРСИН\"",
          "Общество с ограниченной ответственностью \"СТРОЙ-СТК\"",
          "Общество с ограниченной ответственностью \"Ферростроймонтаж\"",
          "Общество с ограниченной ответственностью \"ЛИДЕР-СТРОЙ\"",
          "Общество с ограниченной ответственностью \"ХИЛТЕК\"",
          "Общество с ограниченной ответственностью \"Санлайн-Строй\"",
          "Общество с ограниченной ответственностью \" БалтТехСтрой\"",
          "АКЦИОНЕРНОЕ ОБЩЕСТВО \"ПТС\"",
          "ОБЩЕСТВО С ОГРАНИЧЕННОЙ ОТВЕТСТВЕННОСТЬЮ \"ЦЕНТР ИНФРАСТРУКТУРНОГО СТРОИТЕЛЬСТВА\"",
          "ООО \"ФОРМУЛА ЛЬДА\"",
          "Общество с ограниченной ответственностью \"АПИС СТРОЙ\"",
          "Общество с ограниченной ответственностью \"ДИАКОН\"",
          "Акционерное общество \"Специализированный застройщик \"Инкост\"",
          "Общество с ограниченной ответственностью \"НЕСТ ТЕХНО\"",
          "Общество с ограниченной ответственностью \"Монолит-Строй\"",
          "Общество с ограниченной ответственностью СПЕЦИАЛИЗИРОВАННЫЙ ЗАСТРОЙЩИК \"КОТЕЛЬНИКИ\"",
          "ОБЩЕСТВО С ОГРАНИЧЕННОЙ ОТВЕТСТВЕННОСТЬЮ \"АЛЬЯНССТРОЙКОМ\"",
          "Общество с ограниченной ответственностью \"Южная строительная компания\"",
          "Общество с ограниченной ответственностью \"Феникс\"",
          "ОБЩЕСТВО С ОГРАНИЧЕННОЙ ОТВЕТСТВЕННОСТЬЮ \"ВОЗРОЖДЕНИЕ\"",
          "Общество с ограниченной ответственностью \"НАГВАЛЬ СТРОЙТЕХ\"",
          "Общество с ограниченной ответственностью \"ГК АСТ\"",
          "Общество с ограниченной ответственностью \"Парма\"",
          "Общество с ограниченной ответственностью \"Гкм Инжиниринг\"",
          "ОБЩЕСТВО С ОГРАНИЧЕННОЙ ОТВЕТСТВЕННОСТЬЮ \"СТРОИТЕЛЬНОЕ УПРАВЛЕНИЕ № 7 ФУНДАМЕНТСТРОЙ\"",
          "Общество с ограниченной ответственностью \"СТРОЙ ХОЛДИНГ\"",
          "Общество с ограниченной ответственностью \"ЭЛЬБРУС\"",
          "ООО \"СТРОЙКАПИТАЛИНВЕСТ\"",
          "ОБЩЕСТВО С ОГРАНИЧЕННОЙ ОТВЕТСТВЕННОСТЬЮ \"АРКТИКЭНЕРГОСТРОЙ\"",
          "Общество с ограниченной ответственностью \"Строительная компания \"Эдельвейс\"",
          "Общество с ограниченной ответственностью \"МЕЖДУНАРОДНАЯ СТРОИТЕЛЬНАЯ КОМПАНИЯ\"",
          "Общество с ограниченной ответственностью \"МИГ\"",
          "ООО \"ДЕКОР\"",
          "ОБЩЕСТВО С ОГРАНИЧЕННОЙ ОТВЕТСТВЕННОСТЬЮ \"СТРОЙПРОМТОРГ\"",
          "Акционерное общество \"Агротехимпорт\"",
          "Общество с ограниченной ответственностью \"СТФ-ТЕХНОЛОДЖИ\"",
          "Общество с ограниченной ответственностью \"ПЕТРОПОЛИС\"",
          "Общество с ограниченной ответственностью \"ТехноЛегион\"",
          "Общество с ограниченной ответственностью \"Кровмонтаж-Р\"",
          "Общество с ограниченной ответственностью \"Ведич\"",
          "ОБЩЕСТВО С ОГРАНИЧЕННОЙ ОТВЕТСТВЕННОСТЬЮ \"АЛИТКОМ\"",
          "Общество с ограниченной ответственностью \"Спецстрой\"",
          "Общество с ограниченной ответственностью \"КОМПЛЕКТМОНТАЖСЕРВИС\"",
          "Общество с ограниченной ответственностью \"ЭКОСТРОЙ\"",
          "Общество с ограниченной ответственностью \"ТЕХНО-СТАР\"",
          "ЗАО \"МНК-ГРУПП\"",
          "Общество с ограниченной ответственностью Специализированный застройщик \"БЕЛКВАРТАЛ\"",
          "ОБЩЕСТВО С ОГРАНИЧЕННОЙ ОТВЕТСТВЕННОСТЬЮ \"СК \"ЭФЕС\"\"",
          "Общество с ограниченной ответственностью \"Строительное Управление №1\"",
          "Общество с ограниченной ответственностью СК \"СПЕЦСТРОЙНЕФТЬ\"",
          "Общество с ограниченной ответственностью \"Консорциум Строительных Компаний\"",
          "ОБЩЕСТВО С ОГРАНИЧЕННОЙ ОТВЕТСТВЕННОСТЬЮ \"ПРОЕКТНО-СТРОИТЕЛЬНАЯ КОМПАНИЯ \"ВЫСОТА\"",
          "Общество с ограниченной ответственностью \"ТОРГОВАЯ НЕЗАВИСИМАЯ КОМПАНИЯ\"",
          "Общество с ограниченной ответственностью \"БОСТАН\"",
          "Общество с ограниченной ответственностью \"ЭЛИНАРСТРОЙИНВЕСТ\"",
          "ООО \"КОНСТРУКТИВ\"",
          "Общество с ограниченной ответственностью \"ТЕХСТРОЙ\"",
          "ОБЩЕСТВО С ОГРАНИЧЕННОЙ ОТВЕТСТВЕННОСТЬЮ СПЕЦИАЛИЗИРОВАННЫЙ ЗАСТРОЙЩИК  \"ВИВА\"",
          "Общество с ограниченной ответственностью \"СКС\"",
          "ОБЩЕСТВО С ОГРАНИЧЕННОЙ ОТВЕТСТВЕННОСТЬЮ \"ЛОГО ГРУП\"",
          "ОБЩЕСТВО С ОГРАНИЧЕННОЙ ОТВЕТСТВЕННОСТЬЮ \"СЕЛФ\"",
          "Общество с ограниченной ответственностью \"РИТЕЙЛСТРОЙСЕРВИС\"",
          "ООО \"Специализированный Застройщик \"СтройРегионСервис\"",
          "Общество с ограниченной ответственностью \"КОМТЕХ\"",
          "Общество с ограниченной ответственностью СТРОИТЕЛЬНАЯ КОМПАНИЯ \"СТРОЙ-ИНВЕСТ\"",
          "Общество с ограниченной ответственностью \"Объединенная строительная компания-1\"",
          "ОБЩЕСТВО С ОГРАНИЧЕННОЙ ОТВЕТСТВЕННОСТЬЮ \"РАЙДЕКС\"",
          "Общество с ограниченной ответственностью \"АТОМСТРОЙ\"",
          "Общество с ограниченной ответственностью \"Регионспецстрой\"",
          "ОБЩЕСТВО С ОГРАНИЧЕННОЙ ОТВЕТСТВЕННОСТЬЮ \"ЦИОН ПЛЮС\"",
          "Общество с ограниченной ответственностью \"СК СПЕЦСТРОЙАВТО\"",
          "ОБЩЕСТВО С ОГРАНИЧЕННОЙ ОТВЕТСТВЕННОСТЬЮ \"БС ГРУП\"",
          "Общество с ограниченной ответственностью \"Антей\"",
          "Общество с ограниченной ответственностью \"СКР-10\"",
          "Общество с ограниченной ответственностью \"ФОРТРЕСС\"",
          "Общество с ограниченной ответственностью \"СТРОИТЕЛЬНАЯ КОМПАНИЯ \"АЛАБУГА\"",
          "ОБЩЕСТВО С ОГРАНИЧЕННОЙ ОТВЕТСТВЕННОСТЬЮ \"СТРОЙИНВЕСТ\"",
          "ООО САВ-СТРОЙ",
          "Общество с ограниченной ответственностью \"Дружба Н\"",
          "ОБЩЕСТВО С ОГРАНИЧЕННОЙ ОТВЕТСТВЕННОСТЬЮ \"СТРОИТЕЛЬНОЕ УПРАВЛЕНИЕ 8\"",
          "Общество с ограниченной ответственностью \"ДЕПО\"",
          "Общество с ограниченной ответственностью \"ВОЛГТРАНССТРОЙ\"",
          "ОБЩЕСТВО С ОГРАНИЧЕННОЙ ОТВЕТСТВЕННОСТЬЮ \"ПРОМЖИЛСТРОЙ\"",
          "Общество с ограниченной ответственностью \"СК \"МАСТЕР-СТРОЙ\"",
          "Общество с ограниченной ответственностью \"ВЕЛЕС-СТРОЙ\"",
          "ОБЩЕСТВО С ОГРАНИЧЕННОЙ ОТВЕТСТВЕННОСТЬЮ \"РУСРЕГИОНСТРОЙ\"",
          "Общество с ограниченной ответственностью \"Монтаж\"",
          "Общество с ограниченной ответственностью Специализированный застройщик \"Титан\"",
          "Общество с ограниченной  ответственностью \"ГЕОСТРОЙ\"",
          "ОБЩЕСТВО С ОГРАНИЧЕННОЙ ОТВЕТСТВЕННОСТЬЮ\" СПЕЦМОНТАЖСТРОЙ\"",
          "Общество с ограниченной ответственностью \"ДЕНДРОСТРОЙ\"",
          "ОБЩЕСТВО С ОГРАНИЧЕННОЙ ОТВЕТСТВЕННОСТЬЮ \"СТРОИТЕЛЬНАЯ КОМПАНИЯ \"ЭНЕРГО СТРОЙ\"",
          "Общество с ограниченной ответственностью \"Строй Сити\"",
          "ООО \"Сарансктехприбор\"",
          "Общество с ограниченной ответственностью \"СПЕЦИАЛИЗИРОВАННЫЙ ЗАСТРОЙЩИК \"НАДИЯ ХОЛДИНГ\"\"",
          "Общество с ограниченной ответственностью \"СЕВЕРО-ВОСТОЧНАЯ ДОРОЖНО-СТРОИТЕЛЬНАЯ КОМПАНИЯ\"",
          "Общество с ограниченной ответственностью \"СтройГрупп\"",
          "Общество с ограниченной ответственностью Специализированный застройщик \"ВЫБОР\" (ООО Специализированный застройщик \"ВЫБОР\")",
          "ОБЩЕСТВО С ОГРАНИЧЕННОЙ ОТВЕТСТВЕННОСТЬЮ \"АНГАРСКСТРОЙМЕХАНИЗАЦИЯ\"",
          "Акционерное общество \"Арсенал-1\"",
          "ОБЩЕСТВО С ОГРАНИЧЕННОЙ ОТВЕТСТВЕННОСТЬЮ \"АВТ-ГРУПП\"",
          "ООО \"СМП №398\"",
          "Общество с ограниченной ответственностью \"Строительная компания \"Стройтрест\"",
          "Общество с ограниченной ответственностью \"АРТСТРОЙ\"",
          "Общество с ограниченной ответственностью \"НЕФТЕГАЗСТРОЙ\"",
          "Акционерное общество \"СТРОИТЕЛЬНО-МОНТАЖНАЯ КОМПАНИЯ \"СТОЛИЦА\"",
          "ООО \"БЛОК-БОКС\"",
          "Общество с ограниченной ответственностью \"Градстрой\"",
          "ОБЩЕСТВО С ОГРАНИЧЕННОЙ ОТВЕТСТВЕННОСТЬЮ \"ПГП-СТРОЙ\"",
          "Общество с ограниченной ответственностью \"РЕГИОНДОРСТРОЙ\"",
          "Общество с ограниченной ответственностью \"Специализированный Застройщик \"Союз\"",
          "Общество с ограниченной ответственностью \"СТРОЙБИЗНЕС\"",
          "ОБЩЕСТВО С ОГРАНИЧЕННОЙ ОТВЕТСТВЕННОСТЬЮ \"КУБАНЬБУРВОД\"",
          "Общество с ограниченной ответственностью \"ВОЛГОЭНЕРГОСТРОЙ\"",
          "Общество с ограниченной ответственностью \"РегионСтрой\"",
          "Общество с ограниченной ответственностью \"ВИДЖО\"",
          "Общество с ограниченной ответственностью \"КОСОУР\"",
          "Общество с ограниченной ответственностью \"Азон\"",
          "Общество с ограниченной ответственностью \"Объединенная Строительная Компания\"",
          "ОБЩЕСТВО С ОГРАНИЧЕННОЙ ОТВЕТСТВЕННОСТЬЮ \"СТРОИТЕЛЬНАЯ КОМПАНИЯ \"СТРОЙБИЗНЕС-УРАЛ\"",
          "Общество с ограниченной ответственностью \"ГИДРО-ТЕРМ\"",
          "ОБЩЕСТВО С ОГРАНИЧЕННОЙ ОТВЕТСТВЕННОСТЬЮ \"СПЕЦИАЛЬНОЕ И ТРАНСПОРТНОЕ СТРОИТЕЛЬСТВО\"",
          "Общество с ограниченной ответственностью \"ПЕРСПЕКТИВА\"",
          "Общество с ограниченной ответственностью \"ВИРКРАФТ ИНЖИНИРИНГ\""
         ],
         "lat": {
          "dtype": "f8",
          "bdata": "MhNWdDX4TUA8kRYdf1pIQKz1j8916ktAa2PshJfWS0A8kRYdf1pIQGMSiZ2E4EtAMhNWdDX4TUBZmM8DaRJMQKt+AK1Ua0xAGVzOAHLkS0BrY+yEl9ZLQN5oEZvZt0tAYxKJnYTgS0BrY+yEl9ZLQICyzp0FvkVAYxKJnYTgS0BjEomdhOBLQKt+AK1Ua0xAMhNWdDX4TUBjEomdhOBLQDBzcJ8L3ElAB5BGqpSTTEBrY+yEl9ZLQIpTUszmbUxAa2PshJfWS0BXtaSjHE5KQGtj7ISX1ktA7aWEuw7hS0BXtaSjHE5KQN5oEZvZt0tAwEzKk1oESkDfpGlQNCVJQKt+AK1Ua0xAidrs/mc/RkCrfgCtVGtMQGtj7ISX1ktAMhNWdDX4TUCJwngXObRNQGMSiZ2E4EtAwuM2dXmcR0CdLLXeb3BGQGMSiZ2E4EtAMhNWdDX4TUB4lzA/XDpQQMWmOomt5UtAxaY6ia3lS0AyE1Z0NfhNQEErMGR13EpAf/7WqU1/S0BrY+yEl9ZLQMWmOomt5UtAMhNWdDX4TUD1IiQcxEBLQGHjVTHwykVAPNo4Yi1kS0AyE1Z0NfhNQOJFFbR/TElAMhNWdDX4TUDiRRW0f0xJQGtj7ISX1ktAa2PshJfWS0BjEomdhOBLQFGFP8Obg0tAgvItYo5aS0AbAcsAhiJQQI3TEFX4nkpAnSy13m9wRkBRhT/Dm4NLQDO9aZ8zAUxAMhNWdDX4TUA6B8+EJm1MQDITVnQ1+E1AMhNWdDX4TUDFpjqJreVLQGtj7ISX1ktAYxKJnYTgS0AyE1Z0NfhNQD4t9eJ6KUxAYxKJnYTgS0CmYmNeR6ZLQL//RYYLrUVAM1zTclbGS0B0uoffqCRKQGtj7ISX1ktAGjIepRJeS0AyE1Z0NfhNQGMSiZ2E4EtAGjIepRJeS0AzvWmfMwFMQMJ7WLlheUZAa2PshJfWS0AkJk0o6Y5FQKz1j8916ktAYxKJnYTgS0Cvk/qytKhFQBXJVwIpjUtAEVxAw/aYSkDFpjqJreVLQDITVnQ1+E1AtMnhk041RkBrY+yEl9ZLQFuxv+yexktAPJEWHX9aSEBjEomdhOBLQGtj7ISX1ktAa2PshJfWS0AkJk0o6Y5FQGTKh6BqJ0tAxaY6ia3lS0AKE0azsoVGQIwRiULLn01APMSaJVzbSkBRhT/Dm4NLQKy5ktON9EtAZMqHoGonS0Cz0qQUdNRLQApYYekyUUxAj7wYb9DQS0AkJk0o6Y5FQGtj7ISX1ktAYJM16iGNTEDwdJ38zFlRQMWmOomt5UtAYxKJnYTgS0AyE1Z0NfhNQBFM2vkjhUZAMhNWdDX4TUCMEYlCy59NQDITVnQ1+E1At5ifG5oDT0D4h9KDJ9pNQGMSiZ2E4EtAYxKJnYTgS0BrY+yEl9ZLQGtj7ISX1ktARS44g7/xS0BjEomdhOBLQC1JVF7hZEpAYxKJnYTgS0BjEomdhOBLQGMSiZ2E4EtAYxKJnYTgS0CMUMe+v5JKQDO9aZ8zAUxAEUza+SOFRkDFpjqJreVLQK+T+rK0qEVAgvItYo5aS0BXtaSjHE5KQKz1j8916ktAgABjx5ByRkAkJk0o6Y5FQGMSiZ2E4EtAYxKJnYTgS0BjEomdhOBLQGMSiZ2E4EtAq34ArVRrTEBjEomdhOBLQGMSiZ2E4EtAB5BGqpSTTEAzvWmfMwFMQIpTUszmbUxAYxKJnYTgS0DCe1i5YXlGQDITVnQ1+E1AYxKJnYTgS0BjdIqfEN1LQJ0std5vcEZAOPrzyHpaSEBjEomdhOBLQGMSiZ2E4EtAq34ArVRrTEBK8reY+qVJQILyLWKOWktAMhNWdDX4TUBrY+yEl9ZLQMWmOomt5UtAq34ArVRrTEAkJk0o6Y5FQPgf9McPfktAV7WkoxxOSkAaMh6lEl5LQGtj7ISX1ktAYxKJnYTgS0BrY+yEl9ZLQGMSiZ2E4EtAB5BGqpSTTEBjEomdhOBLQKt+AK1Ua0xAV1gVhm10TEBjEomdhOBLQNuY6D3fcklAzHRU2ofMS0BjEomdhOBLQDITVnQ1+E1AfsCoSZUYS0BjEomdhOBLQICUffxK8E1AMhNWdDX4TUCdLLXeb3BGQFOc/kcBNEtAMhNWdDX4TUCZQSGnVBJMQDITVnQ1+E1AYxKJnYTgS0AzvWmfMwFMQKVjc3qDlEtAwxuIG6afTEDl8EknEndKQDITVnQ1+E1AYxKJnYTgS0D4H/THD35LQDITVnQ1+E1AB8g8l06ATkCs9Y/PdepLQGMSiZ2E4EtAYxKJnYTgS0BjEomdhOBLQBFM2vkjhUZAYxKJnYTgS0DOnD+34bhLQI+8GG/Q0EtAEUza+SOFRkAzvWmfMwFMQDzaOGItZEtAYZXBB2XUSUBjEomdhOBLQKt+AK1Ua0xAV7WkoxxOSkC752W5EX5FQBgip6/n1ktAfsCoSZUYS0BjEomdhOBLQL//RYYLrUVA4kUVtH9MSUBGe7yQDlBLQJuB2yRQAU1AlZo90Ao6SUBjEomdhOBLQDITVnQ1+E1AtzMC4I7PTEC5/l2fOXRMQBFcQMP2mEpAa2PshJfWS0DFpjqJreVLQBu9dVmn/EtAq34ArVRrTEA01M1qJttPQIpTUszmbUxAYxKJnYTgS0BFLjiDv/FLQGtj7ISX1ktAYxKJnYTgS0ARXEDD9phKQCQmTSjpjkVAMhNWdDX4TUCr0Qa7vEJNQKt+AK1Ua0xAdLqH36gkSkBjEomdhOBLQFGFP8Obg0tAEU6wpIGyS0ALkA1J0hlNQF0+SAUEDkxApWNzeoOUS0BjEomdhOBLQJ0std5vcEZAMhNWdDX4TUAyE1Z0NfhNQKy5ktON9EtAjBGJQsufTUBjEomdhOBLQDITVnQ1+E1APi314nopTECxjdNrDrJLQOUiY1pATU1A1gNB28V6R0BjEomdhOBLQHi6Tn7mnEVAh00JLZAETEBrY+yEl9ZLQGMSiZ2E4EtABzdj4qDCSkBXtaSjHE5KQD4t9eJ6KUxAMhNWdDX4TUCrfgCtVGtMQJSocjUNYUtAOgfPhCZtTEAyE1Z0NfhNQAoTRrOyhUZA+QfbmVMBTEBK8reY+qVJQDITVnQ1+E1AClhh6TJRTEBjEomdhOBLQKz1j8916ktAEUza+SOFRkCKU1LM5m1MQNYDQdvFekdAYxKJnYTgS0CMEYlCy59NQEqm+RnN5ElApMaEmEvESUDFpjqJreVLQKt+AK1Ua0xAYxKJnYTgS0DFpjqJreVLQGMSiZ2E4EtAYxKJnYTgS0CrfgCtVGtMQGMSiZ2E4EtAa2PshJfWS0BjEomdhOBLQGHjVTHwykVAMhNWdDX4TUARXEDD9phKQDwFr0yuC0xAwntYuWF5RkC3mJ8bmgNPQKVjc3qDlEtAxaY6ia3lS0DFpjqJreVLQDITVnQ1+E1Aa2PshJfWS0AyE1Z0NfhNQGtj7ISX1ktAidrs/mc/RkCrfgCtVGtMQOUiY1pATU1AYxKJnYTgS0CdLLXeb3BGQFmYzwNpEkxAYxKJnYTgS0BjEomdhOBLQKt+AK1Ua0xAYxKJnYTgS0BrY+yEl9ZLQIeNDTgmo1BAa2PshJfWS0AHkEaqlJNMQKy5ktON9EtAMhNWdDX4TUAfe2JCcZZKQGMSiZ2E4EtAqYAg5cyYRUARTNr5I4VGQLR4DOq2ZUhAMhNWdDX4TUBjEomdhOBLQGMSiZ2E4EtAGjIepRJeS0ClY3N6g5RLQO0t5Xyx/EtAEUza+SOFRkAaMh6lEl5LQDITVnQ1+E1AYxKJnYTgS0BjEomdhOBLQN4FpcOeEk9AUYU/w5uDS0C3MwLgjs9MQFGFP8Obg0tAEVxAw/aYSkBjEomdhOBLQGuOvSiLrEpAPJ3QkJZdTUCdLLXeb3BGQDITVnQ1+E1AYxKJnYTgS0DWA0HbxXpHQGtj7ISX1ktAMhNWdDX4TUDWA0HbxXpHQGtj7ISX1ktAYxKJnYTgS0AyE1Z0NfhNQGMSiZ2E4EtAYxKJnYTgS0B4uk5+5pxFQGtj7ISX1ktAMhNWdDX4TUAyE1Z0NfhNQGtj7ISX1ktAYxKJnYTgS0AyE1Z0NfhNQBgip6/n1ktA9SIkHMRAS0BZmM8DaRJMQHEvergu70tAYxKJnYTgS0Cs9Y/PdepLQDyRFh1/WkhAqSORxx3CR0BrY+yEl9ZLQK+T+rK0qEVAYxKJnYTgS0A+LfXieilMQJuB2yRQAU1AicJ4Fzm0TUBMNh5ssRdMQGMSiZ2E4EtAMhNWdDX4TUBjEomdhOBLQIeNDTgmo1BAMhNWdDX4TUBrY+yEl9ZLQLR4DOq2ZUhAM71pnzMBTEBrY+yEl9ZLQBqhRPBkEExAYxKJnYTgS0AyE1Z0NfhNQMBNkCJ8O0hAYZXBB2XUSUC3MwLgjs9MQGtj7ISX1ktAYZXBB2XUSUBh41Ux8MpFQLGN02sOsktAwntYuWF5RkAyE1Z0NfhNQFzFh34SjEtARS44g7/xS0AaMh6lEl5LQBFcQMP2mEpAwntYuWF5RkBjEomdhOBLQGMSiZ2E4EtAwuM2dXmcR0DpuvCD86tLQILyLWKOWktA4kUVtH9MSUCa+i/GdmlFQFGFP8Obg0tAa2PshJfWS0Brjr0oi6xKQAeQRqqUk0xAlKhyNQ1hS0D/YaZIGXZLQIvl8Q+2BUZAJCZNKOmORUBrY+yEl9ZLQGMSiZ2E4EtAq34ArVRrTEBjEomdhOBLQDITVnQ1+E1AnSy13m9wRkBjEomdhOBLQKcUKu4uuEtAMhNWdDX4TUBChG7l2+BLQGtj7ISX1ktAa2PshJfWS0CzNAHQcq9OQGMSiZ2E4EtAMhNWdDX4TUA8kRYdf1pIQGMSiZ2E4EtAYxKJnYTgS0BrY+yEl9ZLQGMSiZ2E4EtAtxz5zQ5ORkCL5fEPtgVGQLPSpBR01EtAnSy13m9wRkBjEomdhOBLQGMSiZ2E4EtAYxKJnYTgS0BcYbDRKBdLQHQfJRu0lktAXlJrUOpjT0AaMh6lEl5LQGGVwQdl1ElAe6NWmL5FSkClarsJvgVOQGMSiZ2E4EtAk/ZQ7LLqSUDC4zZ1eZxHQGMSiZ2E4EtAr5P6srSoRUBrY+yEl9ZLQDITVnQ1+E1A+Q24U1+FUECbgdskUAFNQHEvergu70tActwpHazlSkBjEomdhOBLQBFM2vkjhUZAEVxAw/aYSkARXEDD9phKQGtj7ISX1ktAMhNWdDX4TUDFpjqJreVLQMWmOomt5UtAq34ArVRrTEBFLjiDv/FLQFGFP8Obg0tAidrs/mc/RkBjEomdhOBLQA=="
         },
         "legendgroup": "",
         "lon": {
          "dtype": "f8",
          "bdata": "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"
         },
         "marker": {
          "color": "fuchsia"
         },
         "mode": "markers",
         "name": "",
         "showlegend": false,
         "subplot": "map",
         "type": "scattermap"
        }
       ],
       "layout": {
        "template": {
         "data": {
          "histogram2dcontour": [
           {
            "type": "histogram2dcontour",
            "colorbar": {
             "outlinewidth": 0,
             "ticks": ""
            },
            "colorscale": [
             [
              0.0,
              "#0d0887"
             ],
             [
              0.1111111111111111,
              "#46039f"
             ],
             [
              0.2222222222222222,
              "#7201a8"
             ],
             [
              0.3333333333333333,
              "#9c179e"
             ],
             [
              0.4444444444444444,
              "#bd3786"
             ],
             [
              0.5555555555555556,
              "#d8576b"
             ],
             [
              0.6666666666666666,
              "#ed7953"
             ],
             [
              0.7777777777777778,
              "#fb9f3a"
             ],
             [
              0.8888888888888888,
              "#fdca26"
             ],
             [
              1.0,
              "#f0f921"
             ]
            ]
           }
          ],
          "choropleth": [
           {
            "type": "choropleth",
            "colorbar": {
             "outlinewidth": 0,
             "ticks": ""
            }
           }
          ],
          "histogram2d": [
           {
            "type": "histogram2d",
            "colorbar": {
             "outlinewidth": 0,
             "ticks": ""
            },
            "colorscale": [
             [
              0.0,
              "#0d0887"
             ],
             [
              0.1111111111111111,
              "#46039f"
             ],
             [
              0.2222222222222222,
              "#7201a8"
             ],
             [
              0.3333333333333333,
              "#9c179e"
             ],
             [
              0.4444444444444444,
              "#bd3786"
             ],
             [
              0.5555555555555556,
              "#d8576b"
             ],
             [
              0.6666666666666666,
              "#ed7953"
             ],
             [
              0.7777777777777778,
              "#fb9f3a"
             ],
             [
              0.8888888888888888,
              "#fdca26"
             ],
             [
              1.0,
              "#f0f921"
             ]
            ]
           }
          ],
          "heatmap": [
           {
            "type": "heatmap",
            "colorbar": {
             "outlinewidth": 0,
             "ticks": ""
            },
            "colorscale": [
             [
              0.0,
              "#0d0887"
             ],
             [
              0.1111111111111111,
              "#46039f"
             ],
             [
              0.2222222222222222,
              "#7201a8"
             ],
             [
              0.3333333333333333,
              "#9c179e"
             ],
             [
              0.4444444444444444,
              "#bd3786"
             ],
             [
              0.5555555555555556,
              "#d8576b"
             ],
             [
              0.6666666666666666,
              "#ed7953"
             ],
             [
              0.7777777777777778,
              "#fb9f3a"
             ],
             [
              0.8888888888888888,
              "#fdca26"
             ],
             [
              1.0,
              "#f0f921"
             ]
            ]
           }
          ],
          "contourcarpet": [
           {
            "type": "contourcarpet",
            "colorbar": {
             "outlinewidth": 0,
             "ticks": ""
            }
           }
          ],
          "contour": [
           {
            "type": "contour",
            "colorbar": {
             "outlinewidth": 0,
             "ticks": ""
            },
            "colorscale": [
             [
              0.0,
              "#0d0887"
             ],
             [
              0.1111111111111111,
              "#46039f"
             ],
             [
              0.2222222222222222,
              "#7201a8"
             ],
             [
              0.3333333333333333,
              "#9c179e"
             ],
             [
              0.4444444444444444,
              "#bd3786"
             ],
             [
              0.5555555555555556,
              "#d8576b"
             ],
             [
              0.6666666666666666,
              "#ed7953"
             ],
             [
              0.7777777777777778,
              "#fb9f3a"
             ],
             [
              0.8888888888888888,
              "#fdca26"
             ],
             [
              1.0,
              "#f0f921"
             ]
            ]
           }
          ],
          "surface": [
           {
            "type": "surface",
            "colorbar": {
             "outlinewidth": 0,
             "ticks": ""
            },
            "colorscale": [
             [
              0.0,
              "#0d0887"
             ],
             [
              0.1111111111111111,
              "#46039f"
             ],
             [
              0.2222222222222222,
              "#7201a8"
             ],
             [
              0.3333333333333333,
              "#9c179e"
             ],
             [
              0.4444444444444444,
              "#bd3786"
             ],
             [
              0.5555555555555556,
              "#d8576b"
             ],
             [
              0.6666666666666666,
              "#ed7953"
             ],
             [
              0.7777777777777778,
              "#fb9f3a"
             ],
             [
              0.8888888888888888,
              "#fdca26"
             ],
             [
              1.0,
              "#f0f921"
             ]
            ]
           }
          ],
          "mesh3d": [
           {
            "type": "mesh3d",
            "colorbar": {
             "outlinewidth": 0,
             "ticks": ""
            }
           }
          ],
          "scatter": [
           {
            "fillpattern": {
             "fillmode": "overlay",
             "size": 10,
             "solidity": 0.2
            },
            "type": "scatter"
           }
          ],
          "parcoords": [
           {
            "type": "parcoords",
            "line": {
             "colorbar": {
              "outlinewidth": 0,
              "ticks": ""
             }
            }
           }
          ],
          "scatterpolargl": [
           {
            "type": "scatterpolargl",
            "marker": {
             "colorbar": {
              "outlinewidth": 0,
              "ticks": ""
             }
            }
           }
          ],
          "bar": [
           {
            "error_x": {
             "color": "#2a3f5f"
            },
            "error_y": {
             "color": "#2a3f5f"
            },
            "marker": {
             "line": {
              "color": "#E5ECF6",
              "width": 0.5
             },
             "pattern": {
              "fillmode": "overlay",
              "size": 10,
              "solidity": 0.2
             }
            },
            "type": "bar"
           }
          ],
          "scattergeo": [
           {
            "type": "scattergeo",
            "marker": {
             "colorbar": {
              "outlinewidth": 0,
              "ticks": ""
             }
            }
           }
          ],
          "scatterpolar": [
           {
            "type": "scatterpolar",
            "marker": {
             "colorbar": {
              "outlinewidth": 0,
              "ticks": ""
             }
            }
           }
          ],
          "histogram": [
           {
            "marker": {
             "pattern": {
              "fillmode": "overlay",
              "size": 10,
              "solidity": 0.2
             }
            },
            "type": "histogram"
           }
          ],
          "scattergl": [
           {
            "type": "scattergl",
            "marker": {
             "colorbar": {
              "outlinewidth": 0,
              "ticks": ""
             }
            }
           }
          ],
          "scatter3d": [
           {
            "type": "scatter3d",
            "line": {
             "colorbar": {
              "outlinewidth": 0,
              "ticks": ""
             }
            },
            "marker": {
             "colorbar": {
              "outlinewidth": 0,
              "ticks": ""
             }
            }
           }
          ],
          "scattermap": [
           {
            "type": "scattermap",
            "marker": {
             "colorbar": {
              "outlinewidth": 0,
              "ticks": ""
             }
            }
           }
          ],
          "scattermapbox": [
           {
            "type": "scattermapbox",
            "marker": {
             "colorbar": {
              "outlinewidth": 0,
              "ticks": ""
             }
            }
           }
          ],
          "scatterternary": [
           {
            "type": "scatterternary",
            "marker": {
             "colorbar": {
              "outlinewidth": 0,
              "ticks": ""
             }
            }
           }
          ],
          "scattercarpet": [
           {
            "type": "scattercarpet",
            "marker": {
             "colorbar": {
              "outlinewidth": 0,
              "ticks": ""
             }
            }
           }
          ],
          "carpet": [
           {
            "aaxis": {
             "endlinecolor": "#2a3f5f",
             "gridcolor": "white",
             "linecolor": "white",
             "minorgridcolor": "white",
             "startlinecolor": "#2a3f5f"
            },
            "baxis": {
             "endlinecolor": "#2a3f5f",
             "gridcolor": "white",
             "linecolor": "white",
             "minorgridcolor": "white",
             "startlinecolor": "#2a3f5f"
            },
            "type": "carpet"
           }
          ],
          "table": [
           {
            "cells": {
             "fill": {
              "color": "#EBF0F8"
             },
             "line": {
              "color": "white"
             }
            },
            "header": {
             "fill": {
              "color": "#C8D4E3"
             },
             "line": {
              "color": "white"
             }
            },
            "type": "table"
           }
          ],
          "barpolar": [
           {
            "marker": {
             "line": {
              "color": "#E5ECF6",
              "width": 0.5
             },
             "pattern": {
              "fillmode": "overlay",
              "size": 10,
              "solidity": 0.2
             }
            },
            "type": "barpolar"
           }
          ],
          "pie": [
           {
            "automargin": true,
            "type": "pie"
           }
          ]
         },
         "layout": {
          "autotypenumbers": "strict",
          "colorway": [
           "#636efa",
           "#EF553B",
           "#00cc96",
           "#ab63fa",
           "#FFA15A",
           "#19d3f3",
           "#FF6692",
           "#B6E880",
           "#FF97FF",
           "#FECB52"
          ],
          "font": {
           "color": "#2a3f5f"
          },
          "hovermode": "closest",
          "hoverlabel": {
           "align": "left"
          },
          "paper_bgcolor": "white",
          "plot_bgcolor": "#E5ECF6",
          "polar": {
           "bgcolor": "#E5ECF6",
           "angularaxis": {
            "gridcolor": "white",
            "linecolor": "white",
            "ticks": ""
           },
           "radialaxis": {
            "gridcolor": "white",
            "linecolor": "white",
            "ticks": ""
           }
          },
          "ternary": {
           "bgcolor": "#E5ECF6",
           "aaxis": {
            "gridcolor": "white",
            "linecolor": "white",
            "ticks": ""
           },
           "baxis": {
            "gridcolor": "white",
            "linecolor": "white",
            "ticks": ""
           },
           "caxis": {
            "gridcolor": "white",
            "linecolor": "white",
            "ticks": ""
           }
          },
          "coloraxis": {
           "colorbar": {
            "outlinewidth": 0,
            "ticks": ""
           }
          },
          "colorscale": {
           "sequential": [
            [
             0.0,
             "#0d0887"
            ],
            [
             0.1111111111111111,
             "#46039f"
            ],
            [
             0.2222222222222222,
             "#7201a8"
            ],
            [
             0.3333333333333333,
             "#9c179e"
            ],
            [
             0.4444444444444444,
             "#bd3786"
            ],
            [
             0.5555555555555556,
             "#d8576b"
            ],
            [
             0.6666666666666666,
             "#ed7953"
            ],
            [
             0.7777777777777778,
             "#fb9f3a"
            ],
            [
             0.8888888888888888,
             "#fdca26"
            ],
            [
             1.0,
             "#f0f921"
            ]
           ],
           "sequentialminus": [
            [
             0.0,
             "#0d0887"
            ],
            [
             0.1111111111111111,
             "#46039f"
            ],
            [
             0.2222222222222222,
             "#7201a8"
            ],
            [
             0.3333333333333333,
             "#9c179e"
            ],
            [
             0.4444444444444444,
             "#bd3786"
            ],
            [
             0.5555555555555556,
             "#d8576b"
            ],
            [
             0.6666666666666666,
             "#ed7953"
            ],
            [
             0.7777777777777778,
             "#fb9f3a"
            ],
            [
             0.8888888888888888,
             "#fdca26"
            ],
            [
             1.0,
             "#f0f921"
            ]
           ],
           "diverging": [
            [
             0,
             "#8e0152"
            ],
            [
             0.1,
             "#c51b7d"
            ],
            [
             0.2,
             "#de77ae"
            ],
            [
             0.3,
             "#f1b6da"
            ],
            [
             0.4,
             "#fde0ef"
            ],
            [
             0.5,
             "#f7f7f7"
            ],
            [
             0.6,
             "#e6f5d0"
            ],
            [
             0.7,
             "#b8e186"
            ],
            [
             0.8,
             "#7fbc41"
            ],
            [
             0.9,
             "#4d9221"
            ],
            [
             1,
             "#276419"
            ]
           ]
          },
          "xaxis": {
           "gridcolor": "white",
           "linecolor": "white",
           "ticks": "",
           "title": {
            "standoff": 15
           },
           "zerolinecolor": "white",
           "automargin": true,
           "zerolinewidth": 2
          },
          "yaxis": {
           "gridcolor": "white",
           "linecolor": "white",
           "ticks": "",
           "title": {
            "standoff": 15
           },
           "zerolinecolor": "white",
           "automargin": true,
           "zerolinewidth": 2
          },
          "scene": {
           "xaxis": {
            "backgroundcolor": "#E5ECF6",
            "gridcolor": "white",
            "linecolor": "white",
            "showbackground": true,
            "ticks": "",
            "zerolinecolor": "white",
            "gridwidth": 2
           },
           "yaxis": {
            "backgroundcolor": "#E5ECF6",
            "gridcolor": "white",
            "linecolor": "white",
            "showbackground": true,
            "ticks": "",
            "zerolinecolor": "white",
            "gridwidth": 2
           },
           "zaxis": {
            "backgroundcolor": "#E5ECF6",
            "gridcolor": "white",
            "linecolor": "white",
            "showbackground": true,
            "ticks": "",
            "zerolinecolor": "white",
            "gridwidth": 2
           }
          },
          "shapedefaults": {
           "line": {
            "color": "#2a3f5f"
           }
          },
          "annotationdefaults": {
           "arrowcolor": "#2a3f5f",
           "arrowhead": 0,
           "arrowwidth": 1
          },
          "geo": {
           "bgcolor": "white",
           "landcolor": "#E5ECF6",
           "subunitcolor": "white",
           "showland": true,
           "showlakes": true,
           "lakecolor": "white"
          },
          "title": {
           "x": 0.05
          },
          "mapbox": {
           "style": "light"
          }
         }
        },
        "map": {
         "domain": {
          "x": [
           0.0,
           1.0
          ],
          "y": [
           0.0,
           1.0
          ]
         },
         "center": {
          "lat": 54.72485830899999,
          "lon": 48.361222495599996
         },
         "zoom": 3,
         "style": "open-street-map",
         "bounds": {
          "west": 20,
          "east": 170,
          "south": 20,
          "north": 90
         }
        },
        "legend": {
         "tracegroupgap": 0
        },
        "margin": {
         "t": 0,
         "r": 0,
         "l": 0,
         "b": 0
        },
        "height": 300,
        "mapbox": {
         "center": {
          "lat": 54.72485830899999,
          "lon": 48.361222495599996
         },
         "zoom": 3
        }
       },
       "config": {
        "plotlyServerURL": "https://plot.ly"
       }
      },
      "text/html": "<div>            <script src=\"https://cdnjs.cloudflare.com/ajax/libs/mathjax/2.7.5/MathJax.js?config=TeX-AMS-MML_SVG\"></script><script type=\"text/javascript\">if (window.MathJax && window.MathJax.Hub && window.MathJax.Hub.Config) {window.MathJax.Hub.Config({SVG: {font: \"STIX-Web\"}});}</script>                <script type=\"text/javascript\">window.PlotlyConfig = {MathJaxConfig: 'local'};</script>\n        <script charset=\"utf-8\" src=\"https://cdn.plot.ly/plotly-3.0.1.min.js\" integrity=\"sha256-oy6Be7Eh6eiQFs5M7oXuPxxm9qbJXEtTpfSI93dW16Q=\" crossorigin=\"anonymous\"></script>                <div id=\"73afb841-d2a9-461d-92aa-357578da1b0f\" class=\"plotly-graph-div\" style=\"height:300px; width:100%;\"></div>            <script type=\"text/javascript\">                window.PLOTLYENV=window.PLOTLYENV || {};                                if (document.getElementById(\"73afb841-d2a9-461d-92aa-357578da1b0f\")) {                    Plotly.newPlot(                        \"73afb841-d2a9-461d-92aa-357578da1b0f\",                        [{\"customdata\":[[\"197375, \\u0421\\u0430\\u043d\\u043a\\u0442-\\u041f\\u0435\\u0442\\u0435\\u0440\\u0431\\u0443\\u0440\\u0433 \\u0433, \\u0443\\u043b 2-\\u044f \\u0410\\u043b\\u0435\\u043a\\u0441\\u0435\\u0435\\u0432\\u0441\\u043a\\u0430\\u044f, \\u0434. 7, \\u043b\\u0438\\u0442\\u0435\\u0440\\u0430 \\u0410, \\u043f\\u043e\\u043c\\u0435\\u0449. 9\\u041d\",\"7804403002\",136891.0],[\"400138, \\u0412\\u043e\\u043b\\u0433\\u043e\\u0433\\u0440\\u0430\\u0434\\u0441\\u043a\\u0430\\u044f \\u043e\\u0431\\u043b, \\u0433 \\u0412\\u043e\\u043b\\u0433\\u043e\\u0433\\u0440\\u0430\\u0434, \\u0443\\u043b \\u0438\\u043c. \\u0421\\u043e\\u043b\\u043d\\u0435\\u0447\\u043d\\u0438\\u043a\\u043e\\u0432\\u0430, \\u0434 11, \\u043a\\u0432 1\",\"7325124442\",98689.0],[\"143403, \\u041c\\u043e\\u0441\\u043a\\u043e\\u0432\\u0441\\u043a\\u0430\\u044f \\u043e\\u0431\\u043b, \\u0433 \\u041a\\u0440\\u0430\\u0441\\u043d\\u043e\\u0433\\u043e\\u0440\\u0441\\u043a, \\u0443\\u043b \\u0420\\u0435\\u0447\\u043d\\u0430\\u044f, 25\\u0430\",\"7733757980\",-187622.0],[\"125373, \\u041c\\u043e\\u0441\\u043a\\u0432\\u0430 \\u0433, \\u041f\\u043e\\u0445\\u043e\\u0434\\u043d\\u044b\\u0439 \\u043f\\u0440-\\u0434, \\u0434\\u043e\\u043c 4, \\u043a\\u043e\\u0440\\u043f\\u0443\\u0441 1, \\u043f\\u043e\\u043c\\u0435\\u0449\\u0435\\u043d\\u0438\\u0435 XII, \\u043e\\u0444\\u0438\\u0441 713\",\"7719645547\",-16947.0],[\"400005, \\u0412\\u043e\\u043b\\u0433\\u043e\\u0433\\u0440\\u0430\\u0434\\u0441\\u043a\\u0430\\u044f \\u043e\\u0431\\u043b, \\u0412\\u043e\\u043b\\u0433\\u043e\\u0433\\u0440\\u0430\\u0434 \\u0433, \\u0421\\u043e\\u0432\\u0435\\u0442\\u0441\\u043a\\u0430\\u044f \\u0443\\u043b, \\u0434\\u043e\\u043c \\u2116 28, \\u0446\\u043e\\u043a\\u043e\\u043b\\u044c 1\",\"3444259931\",176478.0],[\"119017, \\u041c\\u043e\\u0441\\u043a\\u0432\\u0430 \\u0433, \\u043d\\u0430\\u0431 \\u041a\\u0430\\u0434\\u0430\\u0448\\u0451\\u0432\\u0441\\u043a\\u0430\\u044f, \\u0434 6\\u002f1\\u002f2 \\u0441\\u0442\\u0440 1, \\u043f\\u043e\\u043c\\u0435\\u0449 3\\u002f1\",\"7703430017\",928297.0],[\"197198, \\u0421\\u0430\\u043d\\u043a\\u0442-\\u041f\\u0435\\u0442\\u0435\\u0440\\u0431\\u0443\\u0440\\u0433 \\u0433, \\u043f\\u0440-\\u043a\\u0442 \\u0414\\u043e\\u0431\\u0440\\u043e\\u043b\\u044e\\u0431\\u043e\\u0432\\u0430, 17, \\u0421, \\u041f\\u043e\\u043c 12-\\u041d \\u0427\\u0430\\u0441\\u0442\\u044c 3\",\"7813617113\",754849.0],[\"428020, \\u0427\\u0443\\u0432\\u0430\\u0448\\u0441\\u043a\\u0430\\u044f \\u0420\\u0435\\u0441\\u043f\\u0443\\u0431\\u043b\\u0438\\u043a\\u0430 - \\u0427\\u0443\\u0432\\u0430\\u0448\\u0438\\u044f, \\u0427\\u0435\\u0431\\u043e\\u043a\\u0441\\u0430\\u0440\\u044b \\u0433, \\u041f\\u0435\\u0442\\u0440\\u043e\\u0432\\u0430 \\u0443\\u043b, \\u0434\\u043e\\u043c \\u2116 6, \\u043f\\u043e\\u043c\\u0435\\u0449\\u0435\\u043d\\u0438\\u0435 1, \\u043e\\u0444\\u0438\\u0441 3\",\"2126003691\",4746.0],[\"620014, \\u0421\\u0432\\u0435\\u0440\\u0434\\u043b\\u043e\\u0432\\u0441\\u043a\\u0430\\u044f \\u043e\\u0431\\u043b, \\u0433 \\u0415\\u043a\\u0430\\u0442\\u0435\\u0440\\u0438\\u043d\\u0431\\u0443\\u0440\\u0433, \\u0443\\u043b \\u0427\\u0435\\u0440\\u043d\\u044b\\u0448\\u0435\\u0432\\u0441\\u043a\\u043e\\u0433\\u043e, 7, 409\",\"6661069066\",56287.0],[\"144002, \\u041c\\u043e\\u0441\\u043a\\u043e\\u0432\\u0441\\u043a\\u0430\\u044f \\u043e\\u0431\\u043b, \\u0433. \\u042d\\u043b\\u0435\\u043a\\u0442\\u0440\\u043e\\u0441\\u0442\\u0430\\u043b\\u044c, \\u0443\\u043b. \\u041a\\u0440\\u0430\\u0441\\u043d\\u0430\\u044f, \\u0434\\u043e\\u043c 84, \\u043f\\u043e\\u043c\\u0435\\u0449\\u0435\\u043d\\u0438\\u0435 02\",\"5053056969\",48486.0],[\"123112, \\u0413\\u043e\\u0440\\u043e\\u0434 \\u041c\\u043e\\u0441\\u043a\\u0432\\u0430, \\u0432\\u043d.\\u0442\\u0435\\u0440. \\u0433. \\u041c\\u0443\\u043d\\u0438\\u0446\\u0438\\u043f\\u0430\\u043b\\u044c\\u043d\\u044b\\u0439 \\u041e\\u043a\\u0440\\u0443\\u0433 \\u041f\\u0440\\u0435\\u0441\\u043d\\u0435\\u043d\\u0441\\u043a\\u0438\\u0439, \\u043d\\u0430\\u0431 \\u041f\\u0440\\u0435\\u0441\\u043d\\u0435\\u043d\\u0441\\u043a\\u0430\\u044f, \\u0434\\u043e\\u043c 12, \\u044d\\u0442\\u0430\\u0436 55, \\u043f\\u043e\\u043c\\u0435\\u0449\\u0435\\u043d\\u0438\\u0435 IV\",\"7706417617\",55522.0],[\"142001, \\u041c\\u043e\\u0441\\u043a\\u043e\\u0432\\u0441\\u043a\\u0430\\u044f \\u043e\\u0431\\u043b, \\u0414\\u043e\\u043c\\u043e\\u0434\\u0435\\u0434\\u043e\\u0432\\u043e \\u0433, \\u041a\\u0430\\u0448\\u0438\\u0440\\u0441\\u043a\\u043e\\u0435 \\u0428\\u043e\\u0441\\u0441\\u0435 (\\u0441\\u0435\\u0432\\u0435\\u0440\\u043d\\u044b\\u0439 \\u041c\\u043a\\u0440.) \\u0443\\u043b, \\u0434\\u043e\\u043c 4, \\u043a\\u043e\\u0440\\u043f\\u0443\\u0441 1, \\u043e\\u0444\\u0438\\u0441 212\\u002f6, \\u043f\\u043e\\u043c\\u0435\\u0449\\u0435\\u043d\\u0438\\u0435 . 1\",\"5009110208\",73380.0],[\"\\u0433. \\u041c\\u043e\\u0441\\u043a\\u0432\\u0430, \\u043c\\u0443\\u043d\\u0438\\u0446\\u0438\\u043f\\u0430\\u043b\\u044c\\u043d\\u044b\\u0439 \\u043e\\u043a\\u0440\\u0443\\u0433 \\u0410\\u043a\\u0430\\u0434\\u0435\\u043c\\u0438\\u0447\\u0435\\u0441\\u043a\\u0438\\u0439 \\u0432\\u043d.\\u0442\\u0435\\u0440.\\u0433., \\u0443\\u043b. \\u0412\\u0430\\u0432\\u0438\\u043b\\u043e\\u0432\\u0430, \\u0414. 79, \\u041a. 1, \\u041f\\u041e\\u041c\\u0415\\u0429. 6\\u0410\\u002f4\\u002f2, 117335\",\"7736348030\",230141.0],[\"\\u0433. \\u041c\\u043e\\u0441\\u043a\\u0432\\u0430, \\u043c\\u0443\\u043d\\u0438\\u0446\\u0438\\u043f\\u0430\\u043b\\u044c\\u043d\\u044b\\u0439 \\u043e\\u043a\\u0440\\u0443\\u0433 \\u0422\\u0432\\u0435\\u0440\\u0441\\u043a\\u043e\\u0439 \\u0432\\u043d.\\u0442\\u0435\\u0440.\\u0433., \\u0443\\u043b. 2-\\u044f \\u0411\\u0440\\u0435\\u0441\\u0442\\u0441\\u043a\\u0430\\u044f, \\u0434. 8, \\u041f\\u041e\\u041c\\u0415\\u0429. 4\\u002f1, 125047\",\"7730298897\",0.0],[\"360024, \\u041a\\u0430\\u0431\\u0430\\u0440\\u0434\\u0438\\u043d\\u043e-\\u0411\\u0430\\u043b\\u043a\\u0430\\u0440\\u0441\\u043a\\u0430\\u044f \\u0420\\u0435\\u0441\\u043f,  \\u041d\\u0430\\u043b\\u044c\\u0447\\u0438\\u043a \\u0433,  \\u041f\\u0440\\u043e\\u043c\\u044b\\u0448\\u043b\\u0435\\u043d\\u043d\\u044b\\u0439 \\u043f\\u0440\\u043e\\u0435\\u0437\\u0434 3-\\u0439 \\u0443\\u043b, \\u0434. \\u0411.\\u041d, \",\"0711021079\",16440.0],[\"105118, \\u041c\\u043e\\u0441\\u043a\\u0432\\u0430 \\u0433, \\u0448 \\u042d\\u043d\\u0442\\u0443\\u0437\\u0438\\u0430\\u0441\\u0442\\u043e\\u0432, \\u0434 34, \\u043f\\u043e\\u043c\\u0435\\u0449 4\\u0410\\u002f4\",\"5007075244\",4670.0],[\"115230, \\u041c\\u043e\\u0441\\u043a\\u0432\\u0430 \\u0433, \\u043f\\u0440\\u043e\\u0435\\u0437\\u0434 \\u042d\\u043b\\u0435\\u043a\\u0442\\u0440\\u043e\\u043b\\u0438\\u0442\\u043d\\u044b\\u0439, 1, 3, 1\\u0411\",\"7733732294\",135687.0],[\"620149, \\u0421\\u0432\\u0435\\u0440\\u0434\\u043b\\u043e\\u0432\\u0441\\u043a\\u0430\\u044f \\u043e\\u0431\\u043b, \\u0433 \\u0415\\u043a\\u0430\\u0442\\u0435\\u0440\\u0438\\u043d\\u0431\\u0443\\u0440\\u0433, \\u0443\\u043b \\u041d\\u0430\\u0447\\u0434\\u0438\\u0432\\u0430 \\u041e\\u043d\\u0443\\u0444\\u0440\\u0438\\u0435\\u0432\\u0430, 10, 5\",\"6658399875\",187984.0],[\"194214, \\u0413\\u043e\\u0440\\u043e\\u0434 \\u0421\\u0430\\u043d\\u043a\\u0442-\\u041f\\u0435\\u0442\\u0435\\u0440\\u0431\\u0443\\u0440\\u0433, \\u0432\\u043d.\\u0442\\u0435\\u0440.\\u0433. \\u043c\\u0443\\u043d\\u0438\\u0446\\u0438\\u043f\\u0430\\u043b\\u044c\\u043d\\u044b\\u0439 \\u043e\\u043a\\u0440\\u0443\\u0433 \\u0421\\u0432\\u0435\\u0442\\u043b\\u0430\\u043d\\u043e\\u0432\\u0441\\u043a\\u043e\\u0435, \\u0443\\u043b \\u041b\\u0438\\u0441\\u0442\\u0432\\u0435\\u043d\\u043d\\u0430\\u044f, \\u0434. 20, \\u043a. 2, \\u0441\\u0442\\u0440. 1, \\u043e\\u0444\\u0438\\u0441 50\\u041d\",\"7802707358\",51228.0],[\"117463, \\u041c\\u043e\\u0441\\u043a\\u0432\\u0430 \\u0433, \\u043f\\u0440-\\u043a\\u0442 \\u041d\\u043e\\u0432\\u043e\\u044f\\u0441\\u0435\\u043d\\u0435\\u0432\\u0441\\u043a\\u0438\\u0439, \\u0434 32, \\u043a 1, \\u042d 1 \\u041f\\u043e\\u043c VI \\u041a 2 \\u043e\\u0444 44\",\"7728843150\",9101.0],[\"\\u0433. \\u041a\\u044b\\u0437\\u044b\\u043b, \\u0443\\u043b. \\u042d\\u043d\\u0435\\u0440\\u0433\\u0435\\u0442\\u0438\\u043a\\u043e\\u0432, \\u0414. 6, \\u041b\\u0438\\u0442\\u0435\\u0440 \\u0413, 667010\",\"1717009383\",80107.0],[\"625015, \\u0422\\u044e\\u043c\\u0435\\u043d\\u0441\\u043a\\u0430\\u044f \\u043e\\u0431\\u043b, \\u0422\\u044e\\u043c\\u0435\\u043d\\u044c \\u0433, \\u041c\\u0430\\u043b\\u0438\\u043d\\u043e\\u0432\\u0441\\u043a\\u043e\\u0433\\u043e \\u0443\\u043b, \\u0434\\u043e\\u043c \\u2116 6\\u002f4\\u0412\",\"7203433757\",38190.0],[\"123007, \\u041c\\u043e\\u0441\\u043a\\u0432\\u0430 \\u0433, \\u043f\\u0440\\u043e\\u0435\\u0437\\u0434 2-\\u0439 \\u0425\\u043e\\u0440\\u043e\\u0448\\u0451\\u0432\\u0441\\u043a\\u0438\\u0439, \\u0434 7, \\u043a 1\",\"7714967999\",37372.0],[\"170008, \\u0422\\u0432\\u0435\\u0440\\u0441\\u043a\\u0430\\u044f \\u043e\\u0431\\u043b, \\u0422\\u0432\\u0435\\u0440\\u044c \\u0433, 15 \\u043b\\u0435\\u0442 \\u041e\\u043a\\u0442\\u044f\\u0431\\u0440\\u044f \\u0443\\u043b, \\u0434\\u043e\\u043c \\u2116 10, \\u043f\\u043e\\u043c\\u0435\\u0449\\u0435\\u043d\\u0438\\u0435 IV\",\"6950210102\",2323.0],[\"127473, \\u041c\\u043e\\u0441\\u043a\\u0432\\u0430 \\u0433, \\u043f\\u0435\\u0440 1-\\u0439 \\u0412\\u043e\\u043b\\u043a\\u043e\\u043d\\u0441\\u043a\\u0438\\u0439, 15, 1\\u002f3\",\"9731014414\",16493.0],[\"398005, \\u041b\\u0438\\u043f\\u0435\\u0446\\u043a\\u0430\\u044f \\u043e\\u0431\\u043b, \\u041b\\u0438\\u043f\\u0435\\u0446\\u043a \\u0433, \\u0410\\u043b\\u043c\\u0430\\u0437\\u043d\\u0430\\u044f \\u0443\\u043b, \\u0432\\u043b\\u0430\\u0434\\u0435\\u043d\\u0438\\u0435 12\",\"4824060340\",12069.0],[\"123317, \\u041c\\u043e\\u0441\\u043a\\u0432\\u0430 \\u0433, \\u0443\\u043b \\u041b\\u0438\\u0442\\u0432\\u0438\\u043d\\u0430-\\u0421\\u0435\\u0434\\u043e\\u0433\\u043e, \\u0434. 2\\u002f13, \\u043a\\u043e\\u0440. \\u0412, \\u0441\\u0442\\u0440. 1, \\u043a\\u0432. 1\\u0446, \",\"5029251415\",-1677.0],[\"143960, \\u041c\\u043e\\u0441\\u043a\\u043e\\u0432\\u0441\\u043a\\u0430\\u044f \\u043e\\u0431\\u043b\\u0430\\u0441\\u0442\\u044c, \\u0433.\\u043e.\\u0420\\u0435\\u0443\\u0442\\u043e\\u0432, \\u0433 \\u0420\\u0435\\u0443\\u0442\\u043e\\u0432, \\u043f\\u0440\\u043e\\u0435\\u0437\\u0434 \\u0421\\u0435\\u0432\\u0435\\u0440\\u043d\\u044b\\u0439, \\u0434.7, \\u043f\\u043e\\u043c\\u0435\\u0449.1\",\"5018196032\",96468.0],[\"398032, \\u041b\\u0438\\u043f\\u0435\\u0446\\u043a\\u0430\\u044f \\u043e\\u0431\\u043b\\u0430\\u0441\\u0442\\u044c, \\u0433.\\u043e. \\u0433\\u043e\\u0440\\u043e\\u0434 \\u041b\\u0438\\u043f\\u0435\\u0446\\u043a, \\u0433 \\u041b\\u0438\\u043f\\u0435\\u0446\\u043a, \\u043f\\u0440\\u043e\\u0435\\u0437\\u0434 \\u041f\\u043e\\u043f\\u0435\\u0440\\u0435\\u0447\\u043d\\u044b\\u0439, \\u0432\\u043b\\u0434. 15\",\"4825067331\",7150.0],[\"142030, \\u041c\\u043e\\u0441\\u043a\\u043e\\u0432\\u0441\\u043a\\u0430\\u044f \\u043e\\u0431\\u043b, \\u0414\\u043e\\u043c\\u043e\\u0434\\u0435\\u0434\\u043e\\u0432\\u043e \\u0433, \\u0414\\u043e\\u043c\\u043e\\u0434\\u0435\\u0434\\u043e\\u0432\\u043e \\u0441, \\u0422\\u0432\\u043e\\u0440\\u0447\\u0435\\u0441\\u0442\\u0432\\u0430 \\u0443\\u043b, \\u0441\\u0442\\u0440\\u043e\\u0435\\u043d\\u0438\\u0435 12, \\u044d\\u0442\\u0430\\u0436 2, \\u043f\\u043e\\u043c\\u0435\\u0449\\u0435\\u043d\\u0438\\u0435 1, \\u043a\\u043e\\u043c\\u043d.16\",\"5009113921\",-31891.0],[\"672027, \\u0417\\u0430\\u0431\\u0430\\u0439\\u043a\\u0430\\u043b\\u044c\\u0441\\u043a\\u0438\\u0439 \\u043a\\u0440\\u0430\\u0439, \\u0427\\u0438\\u0442\\u0430 \\u0433, \\u0411\\u0443\\u0442\\u0438\\u043d\\u0430 \\u0443\\u043b, \\u0434\\u043e\\u043c \\u2116 72, \\u043e\\u0444.411\",\"7536167389\",104453.0],[\"675004, \\u0410\\u043c\\u0443\\u0440\\u0441\\u043a\\u0430\\u044f \\u043e\\u0431\\u043b\\u0430\\u0441\\u0442\\u044c, \\u0433 \\u0411\\u043b\\u0430\\u0433\\u043e\\u0432\\u0435\\u0449\\u0435\\u043d\\u0441\\u043a, \\u0443\\u043b \\u0417\\u0435\\u0439\\u0441\\u043a\\u0430\\u044f, \\u0434. 134, \\u043a\\u0432. 601\",\"2801255484\",737547.0],[\"620142, \\u0421\\u0432\\u0435\\u0440\\u0434\\u043b\\u043e\\u0432\\u0441\\u043a\\u0430\\u044f \\u043e\\u0431\\u043b, \\u0433.\\u043e. \\u0433\\u043e\\u0440\\u043e\\u0434 \\u0415\\u043a\\u0430\\u0442\\u0435\\u0440\\u0438\\u043d\\u0431\\u0443\\u0440\\u0433, \\u0433 \\u0415\\u043a\\u0430\\u0442\\u0435\\u0440\\u0438\\u043d\\u0431\\u0443\\u0440\\u0433, \\u0443\\u043b \\u0427\\u0430\\u0439\\u043a\\u043e\\u0432\\u0441\\u043a\\u043e\\u0433\\u043e, \\u0434. 15, \\u043a\\u0432. 32, \",\"6671069996\",50075.0],[\"298609, \\u041a\\u0440\\u044b\\u043c \\u0420\\u0435\\u0441\\u043f, \\u0433.\\u043e. \\u042f\\u043b\\u0442\\u0430, \\u0433 \\u042f\\u043b\\u0442\\u0430, \\u0443\\u043b \\u0429\\u043e\\u0440\\u0441\\u0430, \\u0434. 47, \\u043a\\u0432. 1\",\"9103071553\",108602.0],[\"620010, \\u0421\\u0432\\u0435\\u0440\\u0434\\u043b\\u043e\\u0432\\u0441\\u043a\\u0430\\u044f \\u043e\\u0431\\u043b, \\u0433 \\u0415\\u043a\\u0430\\u0442\\u0435\\u0440\\u0438\\u043d\\u0431\\u0443\\u0440\\u0433, \\u0443\\u043b \\u0410\\u043b\\u044c\\u043f\\u0438\\u043d\\u0438\\u0441\\u0442\\u043e\\u0432, \\u0441\\u0442\\u0440 73, \\u043f\\u043e\\u043c.1\",\"6670167528\",3243.0],[\"125252, \\u041c\\u043e\\u0441\\u043a\\u0432\\u0430 \\u0433, \\u0432\\u043d.\\u0442\\u0435\\u0440.\\u0433. \\u043c\\u0443\\u043d\\u0438\\u0446\\u0438\\u043f\\u0430\\u043b\\u044c\\u043d\\u044b\\u0439 \\u043e\\u043a\\u0440\\u0443\\u0433 \\u0425\\u043e\\u0440\\u043e\\u0448\\u0435\\u0432\\u0441\\u043a\\u0438\\u0439, \\u043f\\u0440\\u043e\\u0435\\u0437\\u0434 \\u0411\\u0435\\u0440\\u0451\\u0437\\u043e\\u0432\\u043e\\u0439 \\u0420\\u043e\\u0449\\u0438, \\u0434. 4, \\u043a\\u0432. \\u043f\\u043e\\u043c. 1\\u002f3, \",\"7743266444\",22789.0],[\"198516, \\u0421\\u0430\\u043d\\u043a\\u0442-\\u041f\\u0435\\u0442\\u0435\\u0440\\u0431\\u0443\\u0440\\u0433 \\u0433, \\u041f\\u0435\\u0442\\u0435\\u0440\\u0433\\u043e\\u0444 \\u0433, \\u0421\\u0430\\u043d\\u043a\\u0442-\\u041f\\u0435\\u0442\\u0435\\u0440\\u0431\\u0443\\u0440\\u0433\\u0441\\u043a\\u0438\\u0439 \\u043f\\u0440-\\u043a\\u0442, \\u0434\\u043e\\u043c 60, \\u043b\\u0438\\u0442\\u0435\\u0440 \\u0424, \\u043e\\u0444\\u0438\\u0441 214\",\"7841500188\",7155.0],[\"618417, \\u041f\\u0435\\u0440\\u043c\\u0441\\u043a\\u0438\\u0439 \\u043a\\u0440\\u0430\\u0439, \\u0433 \\u0411\\u0435\\u0440\\u0435\\u0437\\u043d\\u0438\\u043a\\u0438, \\u0443\\u043b \\u041a\\u0430\\u0440\\u043b\\u0430 \\u041c\\u0430\\u0440\\u043a\\u0441\\u0430, 60, 8\",\"5911038512\",88325.0],[\"105082, \\u041c\\u043e\\u0441\\u043a\\u0432\\u0430 \\u0433, \\u0443\\u043b \\u041c\\u0430\\u043b\\u0430\\u044f \\u041f\\u043e\\u0447\\u0442\\u043e\\u0432\\u0430\\u044f, \\u0434 8 \\u0441\\u0442\\u0440 1\",\"5032333259\",49848.0],[\"344082, \\u0420\\u043e\\u0441\\u0442\\u043e\\u0432\\u0441\\u043a\\u0430\\u044f \\u043e\\u0431\\u043b, \\u0433.\\u043e. \\u0433\\u043e\\u0440\\u043e\\u0434 \\u0420\\u043e\\u0441\\u0442\\u043e\\u0432-\\u043d\\u0430-\\u0414\\u043e\\u043d\\u0443, \\u0433 \\u0420\\u043e\\u0441\\u0442\\u043e\\u0432-\\u043d\\u0430-\\u0414\\u043e\\u043d\\u0443, \\u0443\\u043b \\u0411\\u0435\\u0440\\u0435\\u0433\\u043e\\u0432\\u0430\\u044f, \\u0437\\u0434. 8, \\u043f\\u043e\\u043c\\u0435\\u0449\\u0435\\u043d\\u0438\\u0435 1405, \",\"6165160790\",2321.0],[\"\\u0433. \\u0423\\u0444\\u0430, \\u0443\\u043b. \\u041f\\u0440\\u0430\\u0432\\u0434\\u044b, \\u0434. 39, \\u043a. 1\",\"0278937149\",3057.0],[\"101000, \\u041c\\u043e\\u0441\\u043a\\u0432\\u0430 \\u0433, \\u043f\\u0435\\u0440 \\u0410\\u0440\\u043c\\u044f\\u043d\\u0441\\u043a\\u0438\\u0439, 9, 1, 207\\u002f40 \\u042d\\u0422\\u0410\\u0416 2\",\"5024192205\",36413.0],[\"196006, \\u0433\\u043e\\u0440\\u043e\\u0434 \\u0421\\u0430\\u043d\\u043a\\u0442-\\u041f\\u0435\\u0442\\u0435\\u0440\\u0431\\u0443\\u0440\\u0433, \\u0443\\u043b \\u0426\\u0432\\u0435\\u0442\\u043e\\u0447\\u043d\\u0430\\u044f, \\u0434\\u043e\\u043c 16, \\u043b\\u0438\\u0442\\u0435\\u0440\\u0430 \\u0412\",\"7810466811\",19301.0],[\"629851, \\u042f\\u043c\\u0430\\u043b\\u043e-\\u041d\\u0435\\u043d\\u0435\\u0446\\u043a\\u0438\\u0439 \\u0410\\u041e, \\u043c.\\u043e. \\u041f\\u0443\\u0440\\u043e\\u0432\\u0441\\u043a\\u0438\\u0439 \\u0440\\u0430\\u0439\\u043e\\u043d, \\u0433 \\u0422\\u0430\\u0440\\u043a\\u043e-\\u0421\\u0430\\u043b\\u0435, \\u0437\\u043e\\u043d\\u0430 \\u041f\\u0440\\u043e\\u043c\\u044b\\u0448\\u043b\\u0435\\u043d\\u043d\\u0430\\u044f, \\u0437\\u0434. 2, \",\"8911018470\",314311.0],[\"420012, \\u0422\\u0430\\u0442\\u0430\\u0440\\u0441\\u0442\\u0430\\u043d \\u0420\\u0435\\u0441\\u043f, \\u041a\\u0430\\u0437\\u0430\\u043d\\u044c \\u0433, \\u041c\\u0443\\u0448\\u0442\\u0430\\u0440\\u0438 \\u0443\\u043b, \\u0434\\u043e\\u043c \\u2116 11\\u0410\",\"1655248928\",60642.0],[\"420021, \\u0422\\u0430\\u0442\\u0430\\u0440\\u0441\\u0442\\u0430\\u043d \\u0420\\u0435\\u0441\\u043f, \\u041a\\u0430\\u0437\\u0430\\u043d\\u044c \\u0433, \\u041f\\u0430\\u0440\\u0438\\u0436\\u0441\\u043a\\u043e\\u0439 \\u041a\\u043e\\u043c\\u043c\\u0443\\u043d\\u044b \\u0443\\u043b, \\u0434\\u043e\\u043c \\u2116 8, \\u043e\\u0444\\u0438\\u0441 25\",\"1657124526\",128165.0],[\"197341, \\u0421\\u0430\\u043d\\u043a\\u0442-\\u041f\\u0435\\u0442\\u0435\\u0440\\u0431\\u0443\\u0440\\u0433 \\u0433, \\u0443\\u043b \\u0410\\u0444\\u043e\\u043d\\u0441\\u043a\\u0430\\u044f, \\u0434. 2, \\u043b\\u0438\\u0442\\u0435\\u0440\\u0430 \\u0410, \\u043e\\u0444\\u0438\\u0441 3-222\",\"7816600799\",3067.0],[\"655017, \\u0425\\u0430\\u043a\\u0430\\u0441\\u0438\\u044f \\u0420\\u0435\\u0441\\u043f, \\u0433 \\u0410\\u0431\\u0430\\u043a\\u0430\\u043d, \\u043a\\u0432-\\u043b \\u041c\\u043e\\u043b\\u043e\\u0434\\u0435\\u0436\\u043d\\u044b\\u0439, 7\\u0430\",\"1901076374\",349870.0],[\"633142, \\u041d\\u043e\\u0432\\u043e\\u0441\\u0438\\u0431\\u0438\\u0440\\u0441\\u043a\\u0430\\u044f \\u043e\\u0431\\u043b, \\u0440-\\u043d \\u041c\\u043e\\u0448\\u043a\\u043e\\u0432\\u0441\\u043a\\u0438\\u0439, \\u043f \\u041e\\u043a\\u0442\\u044f\\u0431\\u0440\\u044c\\u0441\\u043a\\u0438\\u0439, \\u0443\\u043b \\u041b\\u043e\\u043a\\u0442\\u0438\\u043d\\u0441\\u043a\\u0430\\u044f, \\u0434. 1, \\u043e\\u0444\\u0438\\u0441 3\",\"5432003142\",111172.0],[\"127566, \\u041c\\u043e\\u0441\\u043a\\u0432\\u0430 \\u0433, \\u0448 \\u0410\\u043b\\u0442\\u0443\\u0444\\u044c\\u0435\\u0432\\u0441\\u043a\\u043e\\u0435, 48, 1, \\u042d\\u0442 9 \\u041f\\u043e\\u043c I \\u043e\\u0444 901\",\"7724745755\",89807.0],[\"420088, \\u0422\\u0430\\u0442\\u0430\\u0440\\u0441\\u0442\\u0430\\u043d \\u0420\\u0435\\u0441\\u043f, \\u0433 \\u041a\\u0430\\u0437\\u0430\\u043d\\u044c, \\u0443\\u043b \\u0417\\u0443\\u0440 \\u0423\\u0440\\u0430\\u043c, \\u0434. 42, \\u043f\\u043e\\u043c\\u0435\\u0449. 49-52,54-58\",\"1658231048\",45341.0],[\"196191, \\u0413\\u043e\\u0440\\u043e\\u0434 \\u0421\\u0430\\u043d\\u043a\\u0442-\\u041f\\u0435\\u0442\\u0435\\u0440\\u0431\\u0443\\u0440\\u0433, \\u0432\\u043d.\\u0442\\u0435\\u0440. \\u0433. \\u041c\\u0443\\u043d\\u0438\\u0446\\u0438\\u043f\\u0430\\u043b\\u044c\\u043d\\u044b\\u0439 \\u041e\\u043a\\u0440\\u0443\\u0433 \\u041d\\u043e\\u0432\\u043e\\u0438\\u0437\\u043c\\u0430\\u0439\\u043b\\u043e\\u0432\\u0441\\u043a\\u043e\\u0435, \\u043f\\u0440-\\u043a\\u0442 \\u041b\\u0435\\u043d\\u0438\\u043d\\u0441\\u043a\\u0438\\u0439, \\u0434\\u043e\\u043c 168, \\u043b\\u0438\\u0442\\u0435\\u0440\\u0430 \\u0410, \\u043f\\u043e\\u043c\\u0435\\u0449\\u0435\\u043d\\u0438\\u0435 7\\u041d, \\u043e\\u0444\\u0438\\u0441 60 \\u0418 61\",\"7810589845\",1189.0],[\"248021, \\u041a\\u0430\\u043b\\u0443\\u0436\\u0441\\u043a\\u0430\\u044f \\u043e\\u0431\\u043b, \\u041a\\u0430\\u043b\\u0443\\u0433\\u0430 \\u0433, \\u0411\\u0438\\u043b\\u0438\\u0431\\u0438\\u043d\\u0430 \\u0443\\u043b, \\u0434\\u043e\\u043c 6\",\"4028060536\",347681.0],[\"354340, \\u041a\\u0440\\u0430\\u0441\\u043d\\u043e\\u0434\\u0430\\u0440\\u0441\\u043a\\u0438\\u0439 \\u043a\\u0440\\u0430\\u0439, \\u0433 \\u0421\\u043e\\u0447\\u0438,  \\u0410\\u0432\\u0438\\u0430\\u0446\\u0438\\u043e\\u043d\\u043d\\u0430\\u044f \\u0443\\u043b (\\u0410\\u0434\\u043b\\u0435\\u0440\\u0441\\u043a\\u0438\\u0439 \\u0440-\\u043d), 3\\u0410\",\"2317075778\",33814.0],[\"214000, \\u0421\\u043c\\u043e\\u043b\\u0435\\u043d\\u0441\\u043a\\u0430\\u044f \\u043e\\u0431\\u043b, \\u0433 \\u0421\\u043c\\u043e\\u043b\\u0435\\u043d\\u0441\\u043a, \\u043f\\u0435\\u0440 \\u0427\\u0443\\u0440\\u0438\\u043b\\u043e\\u0432\\u0441\\u043a\\u0438\\u0439, \\u0434. 7\\u002f19, \\u043e\\u0444\\u0438\\u0441 4\",\"6732106408\",217149.0],[\"\\u0433. \\u0421\\u0430\\u043d\\u043a\\u0442-\\u041f\\u0435\\u0442\\u0435\\u0440\\u0431\\u0443\\u0440\\u0433, \\u041d\\u0435\\u0432\\u0441\\u043a\\u0438\\u0439 \\u043f\\u0440-\\u043a\\u0442, \\u0434. 117, \\u043a. \\u0411, \\u043a\\u0432. 6-\\u041d, 191024\",\"7825483746\",160346.0],[\"308006, \\u0411\\u0435\\u043b\\u0433\\u043e\\u0440\\u043e\\u0434\\u0441\\u043a\\u0430\\u044f \\u043e\\u0431\\u043b\\u0430\\u0441\\u0442\\u044c, \\u0433 \\u0411\\u0435\\u043b\\u0433\\u043e\\u0440\\u043e\\u0434, \\u0443\\u043b \\u041a\\u043e\\u0440\\u043e\\u0447\\u0430\\u043d\\u0441\\u043a\\u0430\\u044f, \\u0434. 132\\u0430, \\u043e\\u0444\\u0438\\u0441 5\",\"3123397954\",33750.0],[\"192102, \\u0421\\u0430\\u043d\\u043a\\u0442-\\u041f\\u0435\\u0442\\u0435\\u0440\\u0431\\u0443\\u0440\\u0433 \\u0433, \\u0443\\u043b \\u0411\\u0443\\u0445\\u0430\\u0440\\u0435\\u0441\\u0442\\u0441\\u043a\\u0430\\u044f, \\u0434. 24, \\u043a\\u043e\\u0440. 1, \\u043b\\u0438\\u0442\\u0435\\u0440\\u0430 \\u0410, \\u043a\\u0432. \\u041f\\u043e\\u043c. 19-\\u041d \\u041f\\u043e\\u043c. 42, \",\"7816752400\",15889.0],[\"\\u0433. \\u0411\\u0435\\u043b\\u0433\\u043e\\u0440\\u043e\\u0434, \\u041d\\u0430\\u0440\\u043e\\u0434\\u043d\\u044b\\u0439 \\u0431-\\u0440, \\u0434. 111, \\u043a\\u0432. 508, 308000\",\"3123228160\",264903.0],[\"125373, \\u041c\\u043e\\u0441\\u043a\\u0432\\u0430 \\u0433, \\u0432\\u043d.\\u0442\\u0435\\u0440.\\u0433. \\u043c\\u0443\\u043d\\u0438\\u0446\\u0438\\u043f\\u0430\\u043b\\u044c\\u043d\\u044b\\u0439 \\u043e\\u043a\\u0440\\u0443\\u0433 \\u042e\\u0436\\u043d\\u043e\\u0435 \\u0422\\u0443\\u0448\\u0438\\u043d\\u043e, \\u043f\\u0440-\\u0434 \\u041f\\u043e\\u0445\\u043e\\u0434\\u043d\\u044b\\u0439, \\u0434. 4, \\u043a\\u043e\\u0440. 1, \\u043a\\u0432. IX, \",\"7716922376\",58245.0],[\"123242, \\u0413\\u043e\\u0440\\u043e\\u0434 \\u041c\\u043e\\u0441\\u043a\\u0432\\u0430, \\u0432\\u043d.\\u0442\\u0435\\u0440.\\u0433. \\u043c\\u0443\\u043d\\u0438\\u0446\\u0438\\u043f\\u0430\\u043b\\u044c\\u043d\\u044b\\u0439 \\u043e\\u043a\\u0440\\u0443\\u0433 \\u041f\\u0440\\u0435\\u0441\\u043d\\u0435\\u043d\\u0441\\u043a\\u0438\\u0439, \\u0443\\u043b \\u0417\\u043e\\u043e\\u043b\\u043e\\u0433\\u0438\\u0447\\u0435\\u0441\\u043a\\u0430\\u044f, \\u0434. 10, \\u043f\\u043e\\u043c\\u0435\\u0449. 2\\u002f5\",\"7720714650\",109480.0],[\"105120, \\u041c\\u043e\\u0441\\u043a\\u0432\\u0430 \\u0433, \\u0443\\u043b \\u0421\\u044b\\u0440\\u043e\\u043c\\u044f\\u0442\\u043d\\u0438\\u0447\\u0435\\u0441\\u043a\\u0430\\u044f \\u041d\\u0438\\u0436, 10, 2, \\u041f\\u043e\\u043c1\\u042d\\u04427\",\"7709759231\",347257.0],[\"630024, \\u041d\\u043e\\u0432\\u043e\\u0441\\u0438\\u0431\\u0438\\u0440\\u0441\\u043a\\u0430\\u044f \\u043e\\u0431\\u043b, \\u0433 \\u041d\\u043e\\u0432\\u043e\\u0441\\u0438\\u0431\\u0438\\u0440\\u0441\\u043a, \\u0443\\u043b \\u0411\\u0435\\u0442\\u043e\\u043d\\u043d\\u0430\\u044f, \\u0434. 10\",\"5405442616\",127631.0],[\"236004, \\u041a\\u0430\\u043b\\u0438\\u043d\\u0438\\u043d\\u0433\\u0440\\u0430\\u0434\\u0441\\u043a\\u0430\\u044f \\u043e\\u0431\\u043b, \\u041a\\u0430\\u043b\\u0438\\u043d\\u0438\\u043d\\u0433\\u0440\\u0430\\u0434 \\u0433, \\u0412\\u043e\\u0434\\u043d\\u0430\\u044f \\u0443\\u043b, \\u0434\\u043e\\u043c \\u2116 10 \\u044d\\u0442\\u0430\\u0436 3\",\"3917022667\",11665.0],[\"163045, \\u0410\\u0440\\u0445\\u0430\\u043d\\u0433\\u0435\\u043b\\u044c\\u0441\\u043a\\u0430\\u044f \\u043e\\u0431\\u043b, \\u0410\\u0440\\u0445\\u0430\\u043d\\u0433\\u0435\\u043b\\u044c\\u0441\\u043a \\u0433, \\u0422\\u0430\\u043b\\u0430\\u0436\\u0441\\u043a\\u043e\\u0435 \\u0448, \\u0434\\u043e\\u043c \\u2116 5, \\u0441\\u0442\\u0440\\u043e\\u0435\\u043d\\u0438\\u0435 6\",\"2901285115\",29095.0],[\"241020, \\u0411\\u0440\\u044f\\u043d\\u0441\\u043a\\u0430\\u044f \\u043e\\u0431\\u043b, \\u0411\\u0440\\u044f\\u043d\\u0441\\u043a \\u0433, \\u0423\\u0440\\u0430\\u043b\\u044c\\u0441\\u043a\\u0430\\u044f \\u0443\\u043b, \\u0434\\u043e\\u043c \\u2116 109, \\u043e\\u0444.1\",\"3245500285\",10483.0],[\"\\u0411\\u0430\\u0448\\u043a\\u043e\\u0440\\u0442\\u043e\\u0441\\u0442\\u0430\\u043d \\u0420\\u0435\\u0441\\u043f, \\u0440-\\u043d \\u0423\\u0444\\u0438\\u043c\\u0441\\u043a\\u0438\\u0439, \\u0441 \\u041c\\u0438\\u0445\\u0430\\u0439\\u043b\\u043e\\u0432\\u043a\\u0430, \\u0443\\u043b \\u0414\\u043c\\u0438\\u0442\\u0440\\u0438\\u0435\\u0432\\u0441\\u043a\\u0430\\u044f, 9\",\"0275075025\",52504.0],[\"630099, \\u041d\\u043e\\u0432\\u043e\\u0441\\u0438\\u0431\\u0438\\u0440\\u0441\\u043a\\u0430\\u044f \\u043e\\u0431\\u043b\\u0430\\u0441\\u0442\\u044c, \\u0433.\\u043e. \\u0433\\u043e\\u0440\\u043e\\u0434 \\u041d\\u043e\\u0432\\u043e\\u0441\\u0438\\u0431\\u0438\\u0440\\u0441\\u043a, \\u0433 \\u041d\\u043e\\u0432\\u043e\\u0441\\u0438\\u0431\\u0438\\u0440\\u0441\\u043a, \\u0443\\u043b \\u0412\\u043e\\u0435\\u043d\\u043d\\u0430\\u044f, \\u0434. 4\",\"5406825393\",13636.0],[\"\\u041a\\u0440\\u0430\\u0441\\u043d\\u043e\\u044f\\u0440\\u0441\\u043a\\u0438\\u0439 \\u043a\\u0440\\u0430\\u0439, \\u0433 \\u041a\\u0440\\u0430\\u0441\\u043d\\u043e\\u044f\\u0440\\u0441\\u043a, \\u0443\\u043b \\u041a\\u0438\\u0440\\u043e\\u0432\\u0430, \\u0434. 2, \\u043f\\u043e\\u043c\\u0435\\u0449. 80, \\u043a\\u043e\\u043c\\u043d.9, 10, 660049\",\"2461024536\",2359.0],[\"198095, \\u0421\\u0430\\u043d\\u043a\\u0442-\\u041f\\u0435\\u0442\\u0435\\u0440\\u0431\\u0443\\u0440\\u0433 \\u0433, \\u041c\\u0438\\u0442\\u0440\\u043e\\u0444\\u0430\\u043d\\u044c\\u0435\\u0432\\u0441\\u043a\\u043e\\u0435 \\u0448, \\u0434\\u043e\\u043c 5, \\u043a\\u043e\\u0440\\u043f\\u0443\\u0441 2, \\u043b\\u0438\\u0442\\u0435\\u0440\\u0430 \\u0411\",\"7802148357\",55578.0],[\"426039, \\u0433. \\u0418\\u0436\\u0435\\u0432\\u0441\\u043a, \\u0443\\u043b. \\u041d\\u043e\\u0432\\u043e\\u0441\\u043c\\u0438\\u0440\\u043d\\u043e\\u0432\\u0441\\u043a\\u0430\\u044f, \\u0434. 10\",\"1834050040\",170.0],[\"194100, \\u0421\\u0430\\u043d\\u043a\\u0442-\\u041f\\u0435\\u0442\\u0435\\u0440\\u0431\\u0443\\u0440\\u0433 \\u0433, \\u0443\\u043b \\u041b\\u0438\\u0442\\u043e\\u0432\\u0441\\u043a\\u0430\\u044f, \\u0434 4 \\u043b\\u0438\\u0442\\u0435\\u0440\\u0430 \\u0410\",\"7841301016\",147929.0],[\"197198, \\u0421\\u0430\\u043d\\u043a\\u0442-\\u041f\\u0435\\u0442\\u0435\\u0440\\u0431\\u0443\\u0440\\u0433 \\u0433, \\u043f\\u0440-\\u043a\\u0442 \\u0414\\u043e\\u0431\\u0440\\u043e\\u043b\\u044e\\u0431\\u043e\\u0432\\u0430, 17, \\u0421, \\u041f\\u043e\\u043c\\u0435\\u0449\\u0435\\u043d\\u0438\\u0435 14-\\u041d\",\"7813619985\",976794.0],[\"420094, \\u0420\\u0435\\u0441\\u043f\\u0443\\u0431\\u043b\\u0438\\u043a\\u0430 \\u0422\\u0430\\u0442\\u0430\\u0440\\u0441\\u0442\\u0430\\u043d (\\u0422\\u0430\\u0442\\u0430\\u0440\\u0441\\u0442\\u0430\\u043d), \\u0433 \\u041a\\u0430\\u0437\\u0430\\u043d\\u044c, \\u0443\\u043b \\u041a\\u043e\\u0440\\u043e\\u043b\\u0435\\u043d\\u043a\\u043e, \\u0434. 115, \\u043e\\u0444\\u0438\\u0441 47\",\"1661034120\",30344.0],[\"125371, \\u041c\\u043e\\u0441\\u043a\\u0432\\u0430 \\u0433, \\u0448 \\u0412\\u043e\\u043b\\u043e\\u043a\\u043e\\u043b\\u0430\\u043c\\u0441\\u043a\\u043e\\u0435, \\u0434. 116, \\u0441\\u0442\\u0440. 1, \\u043f\\u043e\\u043c\\u0435\\u0449. 329, \\u044d\\u0442\\u0430\\u0436 3\",\"6901081976\",15222.0],[\"\\u0433. \\u041c\\u043e\\u0441\\u043a\\u0432\\u0430, \\u0443\\u043b. \\u042d\\u043b\\u0435\\u043a\\u0442\\u0440\\u043e\\u0437\\u0430\\u0432\\u043e\\u0434\\u0441\\u043a\\u0430\\u044f, \\u0434. 24, \\u0441\\u0442\\u0440. 1, 107023\",\"1327022163\",14920.0],[\"191124, \\u0421\\u0430\\u043d\\u043a\\u0442-\\u041f\\u0435\\u0442\\u0435\\u0440\\u0431\\u0443\\u0440\\u0433 \\u0433, \\u0421\\u043c\\u043e\\u043b\\u044c\\u043d\\u044b\\u0439 \\u043f\\u0440-\\u043a\\u0442, \\u0434\\u043e\\u043c \\u2116 11, \\u043b\\u0438\\u0442\\u0435\\u0440\\u0430 \\u0410, \\u043f\\u043e\\u043c\\u0435\\u0449\\u0435\\u043d\\u0438\\u0435 8\\u041d\",\"7806368219\",25096.0],[\"603107, \\u041d\\u0438\\u0436\\u0435\\u0433\\u043e\\u0440\\u043e\\u0434\\u0441\\u043a\\u0430\\u044f \\u043e\\u0431\\u043b, \\u041d\\u0438\\u0436\\u043d\\u0438\\u0439 \\u041d\\u043e\\u0432\\u0433\\u043e\\u0440\\u043e\\u0434 \\u0433, \\u0417\\u0430\\u043e\\u0432\\u0440\\u0430\\u0436\\u043d\\u0430\\u044f \\u0443\\u043b, \\u0434\\u043e\\u043c \\u2116 6\",\"5261026323\",86286.0],[\"119602, \\u041c\\u043e\\u0441\\u043a\\u0432\\u0430 \\u0433, \\u0443\\u043b \\u041d\\u0438\\u043a\\u0443\\u043b\\u0438\\u043d\\u0441\\u043a\\u0430\\u044f, \\u0434 19, \\u043f\\u043e\\u043c\\u0435\\u0449 1\\u002f1\",\"7730122318\",88262.0],[\"423462, \\u0420\\u0435\\u0441\\u043f\\u0443\\u0431\\u043b\\u0438\\u043a\\u0430 \\u0422\\u0430\\u0442\\u0430\\u0440\\u0441\\u0442\\u0430\\u043d, \\u0410\\u043b\\u044c\\u043c\\u0435\\u0442\\u044c\\u0435\\u0432\\u0441\\u043a, \\u0421\\u043e\\u0432\\u0435\\u0442\\u0441\\u043a\\u0430\\u044f, \\u0434\\u043e\\u043c 186 \\u0411, \\u043e\\u0444\\u0438\\u0441 2\",\"1644070256\",279852.0],[\"643,366034,20,,\\u0413\\u0440\\u043e\\u0437\\u043d\\u044b\\u0439 \\u0433,,\\u0414\\u044d\\u0433\\u0438 \\u0418\\u043c\\u0440\\u0430\\u043d\\u043e\\u0432\\u0438\\u0447\\u0430 \\u0411\\u0430\\u0433\\u0430\\u0435\\u0432\\u0430 (\\u0410\\u0445\\u043c\\u0430\\u0442\\u043e\\u0432\\u0441\\u043a\\u0438\\u0439 \\u0440-\\u043d \\u0443\\u043b,17,,03\\u002f02\",\"9706004003\",42213.0],[\"140104, \\u041c\\u043e\\u0441\\u043a\\u043e\\u0432\\u0441\\u043a\\u0430\\u044f \\u043e\\u0431\\u043b, \\u0420\\u0430\\u043c\\u0435\\u043d\\u0441\\u043a\\u043e\\u0435 \\u0433, \\u0412\\u044b\\u0441\\u043e\\u043a\\u043e\\u0432\\u043e\\u043b\\u044c\\u0442\\u043d\\u0430\\u044f \\u0443\\u043b, \\u0434\\u043e\\u043c 21, \\u043f\\u043e\\u043c\\u0435\\u0449\\u0435\\u043d\\u0438\\u0435 4\",\"5040155680\",344492.0],[\"664007, \\u0418\\u0440\\u043a\\u0443\\u0442\\u0441\\u043a\\u0430\\u044f \\u043e\\u0431\\u043b\\u0430\\u0441\\u0442\\u044c, \\u0433.\\u043e. \\u0413\\u043e\\u0440\\u043e\\u0434 \\u0418\\u0440\\u043a\\u0443\\u0442\\u0441\\u043a, \\u0433 \\u0418\\u0440\\u043a\\u0443\\u0442\\u0441\\u043a, \\u0443\\u043b \\u0424\\u0440\\u0438\\u0434\\u0440\\u0438\\u0445\\u0430 \\u042d\\u043d\\u0433\\u0435\\u043b\\u044c\\u0441\\u0430, \\u0434\\u043e\\u043c 17, \\u043e\\u0444\\u0438\\u0441 9\",\"3808284310\",12889.0],[\"125315, \\u041c\\u043e\\u0441\\u043a\\u0432\\u0430 \\u0433, \\u0432\\u043d.\\u0442\\u0435\\u0440.\\u0433. \\u043c\\u0443\\u043d\\u0438\\u0446\\u0438\\u043f\\u0430\\u043b\\u044c\\u043d\\u044b\\u0439 \\u043e\\u043a\\u0440\\u0443\\u0433 \\u0410\\u044d\\u0440\\u043e\\u043f\\u043e\\u0440\\u0442, \\u043f\\u0440-\\u043a\\u0442 \\u041b\\u0435\\u043d\\u0438\\u043d\\u0433\\u0440\\u0430\\u0434\\u0441\\u043a\\u0438\\u0439, \\u0434. 72, \\u043a. 1\",\"9705140532\",50476.0],[\"450018, \\u0411\\u0430\\u0448\\u043a\\u043e\\u0440\\u0442\\u043e\\u0441\\u0442\\u0430\\u043d \\u0420\\u0435\\u0441\\u043f, \\u0433.\\u043e. \\u0433\\u043e\\u0440\\u043e\\u0434 \\u0423\\u0444\\u0430, \\u0423\\u0444\\u0430 \\u0433, \\u0414\\u0430\\u044f\\u043d\\u0430 \\u041c\\u0443\\u0440\\u0437\\u0438\\u043d\\u0430 \\u0443\\u043b, \\u0434\\u043e\\u043c 9\\u002f1, \\u043e\\u0444\\u0438\\u0441 2\\u0410\",\"0274925865\",80427.0],[\"197022, \\u0421\\u0430\\u043d\\u043a\\u0442-\\u041f\\u0435\\u0442\\u0435\\u0440\\u0431\\u0443\\u0440\\u0433 \\u0433, \\u0432\\u043d.\\u0442\\u0435\\u0440.\\u0433. \\u043c\\u0443\\u043d\\u0438\\u0446\\u0438\\u043f\\u0430\\u043b\\u044c\\u043d\\u044b\\u0439 \\u043e\\u043a\\u0440\\u0443\\u0433 \\u0410\\u043f\\u0442\\u0435\\u043a\\u0430\\u0440\\u0441\\u043a\\u0438\\u0439 \\u043e\\u0441\\u0442\\u0440\\u043e\\u0432, \\u0443\\u043b \\u041f\\u0440\\u043e\\u0444\\u0435\\u0441\\u0441\\u043e\\u0440\\u0430 \\u041f\\u043e\\u043f\\u043e\\u0432\\u0430, \\u0434. 23, \\u043b\\u0438\\u0442\\u0435\\u0440\\u0430 \\u0414, \\u043f\\u043e\\u043c\\u0435\\u0449. 36-\\u041d, \\u043a\\u043e\\u043c. 46\",\"7811421411\",11210.0],[\"101000, \\u0413.\\u041c\\u043e\\u0441\\u043a\\u0432\\u0430, \\u041c\\u043e\\u0441\\u043a\\u0432\\u0430, \\u0423\\u041b \\u041f\\u041e\\u041a\\u0420\\u041e\\u0412\\u041a\\u0410, \\u0414. 43, \\u0421\\u0422\\u0420. 2, \\u041f\\u041e\\u041c\\u0415\\u0429. VIII \\u042d\\u0422\\u0410\\u0416 3, \\u041a\\u041e\\u041c. 5\",\"9702009850\",18960.0],[\"450015, \\u0420\\u0435\\u0441\\u043f\\u0443\\u0431\\u043b\\u0438\\u043a\\u0430 \\u0411\\u0430\\u0448\\u043a\\u043e\\u0440\\u0442\\u043e\\u0441\\u0442\\u0430\\u043d, \\u0433 \\u0423\\u0444\\u0430, \\u0443\\u043b \\u041a\\u0430\\u0440\\u043b\\u0430 \\u041c\\u0430\\u0440\\u043a\\u0441\\u0430, \\u0434. 35\\u0430, \\u044d\\u0442\\u0430\\u0436 2, \\u043f\\u043e\\u043c\\u0435\\u0449. 1\",\"0278978339\",3126.0],[\"660050, \\u041a\\u0440\\u0430\\u0441\\u043d\\u043e\\u044f\\u0440\\u0441\\u043a\\u0438\\u0439 \\u043a\\u0440\\u0430\\u0439, \\u0433 \\u041a\\u0440\\u0430\\u0441\\u043d\\u043e\\u044f\\u0440\\u0441\\u043a, \\u0443\\u043b \\u041a\\u0443\\u0442\\u0443\\u0437\\u043e\\u0432\\u0430, \\u0437\\u0434 1 \\u0441\\u0442\\u0440 37, 1-16\",\"2461042084\",246.0],[\"295014, \\u0420\\u0435\\u0441\\u043f\\u0443\\u0431\\u043b\\u0438\\u043a\\u0430 \\u041a\\u0440\\u044b\\u043c, \\u0433.\\u043e. \\u0421\\u0438\\u043c\\u0444\\u0435\\u0440\\u043e\\u043f\\u043e\\u043b\\u044c, \\u0433 \\u0421\\u0438\\u043c\\u0444\\u0435\\u0440\\u043e\\u043f\\u043e\\u043b\\u044c, \\u0443\\u043b \\u041c\\u0440\\u0430\\u043c\\u043e\\u0440\\u043d\\u0430\\u044f, \\u0434. 3\\u002f6, \\u043e\\u0444\\u0438\\u0441 3.3\",\"9103002856\",73999.0],[\"129090, \\u041c\\u043e\\u0441\\u043a\\u0432\\u0430 \\u0433, \\u0432\\u043d.\\u0442\\u0435\\u0440.\\u0433. \\u043c\\u0443\\u043d\\u0438\\u0446\\u0438\\u043f\\u0430\\u043b\\u044c\\u043d\\u044b\\u0439 \\u043e\\u043a\\u0440\\u0443\\u0433 \\u041c\\u0435\\u0449\\u0430\\u043d\\u0441\\u043a\\u0438\\u0439, \\u043f\\u0440-\\u043a\\u0442 \\u041c\\u0438\\u0440\\u0430, \\u0434. 19, \\u0441\\u0442\\u0440. 1, \\u043a\\u0432. \\u044d\\u0442\\u0430\\u0436\\u002f\\u043f\\u043e\\u043c\\u0435\\u0449.2\\u002f1,\\u043a\\u043e\\u043c.37\",\"7703592360\",14983.0],[\"690091, \\u041f\\u0440\\u0438\\u043c\\u043e\\u0440\\u0441\\u043a\\u0438\\u0439 \\u043a\\u0440\\u0430\\u0439, \\u0433. \\u0412\\u043b\\u0430\\u0434\\u0438\\u0432\\u043e\\u0441\\u0442\\u043e\\u043a, \\u0443\\u043b. \\u041f\\u0443\\u0448\\u043a\\u0438\\u043d\\u0441\\u043a\\u0430\\u044f, \\u0434. 17\\u0410, \\u043a\\u0432. 1\",\"2539054320\",322131.0],[\"143405, \\u041c\\u043e\\u0441\\u043a\\u043e\\u0432\\u0441\\u043a\\u0430\\u044f \\u043e\\u0431\\u043b, \\u0433 \\u041a\\u0440\\u0430\\u0441\\u043d\\u043e\\u0433\\u043e\\u0440\\u0441\\u043a, \\u0448 \\u0418\\u043b\\u044c\\u0438\\u043d\\u0441\\u043a\\u043e\\u0435, \\u0434. 1\\u0410, \\u044d\\u0442\\u0430\\u0436 9, \\u043f\\u043e\\u043c\\u0435\\u0449. 9\\u0411\\u002f1\",\"5024223037\",14376.0],[\"111141, \\u041c\\u043e\\u0441\\u043a\\u0432\\u0430 \\u0433, \\u0443\\u043b. \\u041f\\u0435\\u0440\\u043e\\u0432\\u0441\\u043a\\u0430\\u044f, \\u0434\\u043e\\u043c 21, \\u042d 2 \\u041f\\u041e\\u041c III \\u041a 25 \\u041e\\u0424 20\",\"7720644805\",16691.0],[\"364063, \\u0427\\u0435\\u0447\\u0435\\u043d\\u0441\\u043a\\u0430\\u044f \\u0420\\u0435\\u0441\\u043f, \\u0433 \\u0413\\u0440\\u043e\\u0437\\u043d\\u044b\\u0439, \\u0443\\u043b \\u0438\\u043c \\u041c\\u0438\\u0440\\u0437\\u043e\\u0435\\u0432\\u0430, \\u0434\\u0432\\u043b\\u0434. 25\",\"2014259624\",2155.0],[\"140411, \\u041c\\u043e\\u0441\\u043a\\u043e\\u0432\\u0441\\u043a\\u0430\\u044f \\u043e\\u0431\\u043b\\u0430\\u0441\\u0442\\u044c, \\u0433 \\u041a\\u043e\\u043b\\u043e\\u043c\\u043d\\u0430, \\u043f\\u0440-\\u043a\\u0442 \\u041a\\u0438\\u0440\\u043e\\u0432\\u0430, \\u0414\\u043e\\u043c 62, \\u043a\\u043e\\u043c. 3\",\"5022055355\",5421.0],[\"443105, \\u0421\\u0430\\u043c\\u0430\\u0440\\u0441\\u043a\\u0430\\u044f \\u043e\\u0431\\u043b, \\u0421\\u0430\\u043c\\u0430\\u0440\\u0430 \\u0433, \\u042e\\u043d\\u044b\\u0445 \\u041f\\u0438\\u043e\\u043d\\u0435\\u0440\\u043e\\u0432 \\u043f\\u0440-\\u043a\\u0442, \\u0434\\u043e\\u043c \\u2116 150, \\u043a\\u0432. 20\",\"6312038353\",180352.0],[\"420087, \\u0422\\u0430\\u0442\\u0430\\u0440\\u0441\\u0442\\u0430\\u043d \\u0420\\u0435\\u0441\\u043f, \\u041a\\u0430\\u0437\\u0430\\u043d\\u044c \\u0433, \\u0413\\u0432\\u0430\\u0440\\u0434\\u0435\\u0439\\u0441\\u043a\\u0430\\u044f \\u0443\\u043b, \\u0434\\u043e\\u043c \\u2116 54, \\u043e\\u0444\\u0438\\u0441 404\",\"1660322976\",57735.0],[\"197198, \\u0421\\u0430\\u043d\\u043a\\u0442-\\u041f\\u0435\\u0442\\u0435\\u0440\\u0431\\u0443\\u0440\\u0433 \\u0433, \\u043f\\u0440-\\u043a\\u0442 \\u0411\\u043e\\u043b\\u044c\\u0448\\u043e\\u0439 \\u041f.\\u0421., \\u0434. 14, \\u043b\\u0438\\u0442\\u0435\\u0440\\u0430 \\u0410, \\u043f\\u043e\\u043c\\u0435\\u0449. 5\\u041d\",\"7814398182\",6254.0],[\"299029, \\u0421\\u0435\\u0432\\u0430\\u0441\\u0442\\u043e\\u043f\\u043e\\u043b\\u044c \\u0433, \\u0443\\u043b \\u0421\\u043e\\u043b\\u043e\\u0432\\u044c\\u0435\\u0432\\u0430, 4, 6\\u002f\\u0411\",\"9204563512\",-8070.0],[\"129075, \\u0413\\u043e\\u0440\\u043e\\u0434 \\u041c\\u043e\\u0441\\u043a\\u0432\\u0430, \\u0432\\u043d.\\u0442\\u0435\\u0440.\\u0433. \\u043c\\u0443\\u043d\\u0438\\u0446\\u0438\\u043f\\u0430\\u043b\\u044c\\u043d\\u044b\\u0439 \\u043e\\u043a\\u0440\\u0443\\u0433 \\u041e\\u0441\\u0442\\u0430\\u043d\\u043a\\u0438\\u043d\\u0441\\u043a\\u0438\\u0439, \\u0443\\u043b 2-\\u044f \\u041d\\u043e\\u0432\\u043e\\u043e\\u0441\\u0442\\u0430\\u043d\\u043a\\u0438\\u043d\\u0441\\u043a\\u0430\\u044f, \\u0434. 12, \\u043f\\u043e\\u043c\\u0435\\u0449. 6\\u002f1\",\"7704592660\",83809.0],[\"142718, \\u041c\\u043e\\u0441\\u043a\\u043e\\u0432\\u0441\\u043a\\u0430\\u044f \\u043e\\u0431\\u043b, \\u0433.\\u043e. \\u041b\\u0435\\u043d\\u0438\\u043d\\u0441\\u043a\\u0438\\u0439, \\u0416\\u041a \\u0411\\u0443\\u0442\\u043e\\u0432\\u043e-\\u041f\\u0430\\u0440\\u043a, \\u0434. 14, \\u043a. 1, \\u043f\\u043e\\u043c\\u0435\\u0449. 9\",\"5040146189\",102223.0],[\"400105, \\u0412\\u043e\\u043b\\u0433\\u043e\\u0433\\u0440\\u0430\\u0434\\u0441\\u043a\\u0430\\u044f \\u043e\\u0431\\u043b, \\u0433 \\u0412\\u043e\\u043b\\u0433\\u043e\\u0433\\u0440\\u0430\\u0434, \\u0443\\u043b \\u0411\\u043e\\u0433\\u0443\\u043d\\u0441\\u043a\\u0430\\u044f, 12\\u0430\",\"3442098118\",119325.0],[\"105005, \\u041c\\u043e\\u0441\\u043a\\u0432\\u0430 \\u0433, \\u0443\\u043b \\u0411\\u0430\\u0443\\u043c\\u0430\\u043d\\u0441\\u043a\\u0430\\u044f, 43\\u002f1\",\"9725122242\",24039.0],[\"127521, \\u041c\\u043e\\u0441\\u043a\\u0432\\u0430 \\u0433, \\u0443\\u043b \\u0410\\u043d\\u043d\\u0435\\u043d\\u0441\\u043a\\u0430\\u044f, 17, 1\",\"5016017305\",14078.0],[\"123290, \\u041c\\u043e\\u0441\\u043a\\u0432\\u0430 \\u0433, 1-\\u0439 \\u041c\\u0430\\u0433\\u0438\\u0441\\u0442\\u0440\\u0430\\u043b\\u044c\\u043d\\u044b\\u0439 \\u0442\\u0443\\u043f, \\u0434\\u043e\\u043c 5\\u0410, \\u044d\\u0442\\u0430\\u0436 6, \\u043a\\u043e\\u043c\\u043d\\u0430\\u0442\\u0430 22\",\"5079011585\",43779.0],[\"690911, \\u041f\\u0440\\u0438\\u043c\\u043e\\u0440\\u0441\\u043a\\u0438\\u0439 \\u043a\\u0440\\u0430\\u0439, \\u0433 \\u0412\\u043b\\u0430\\u0434\\u0438\\u0432\\u043e\\u0441\\u0442\\u043e\\u043a, \\u0443\\u043b \\u0410\\u043d\\u043d\\u044b \\u0429\\u0435\\u0442\\u0438\\u043d\\u0438\\u043d\\u043e\\u0439, \\u0434. 39, \\u043a\\u0432. 1, \",\"2543121643\",112499.0],[\"432012, \\u0423\\u043b\\u044c\\u044f\\u043d\\u043e\\u0432\\u0441\\u043a\\u0430\\u044f \\u043e\\u0431\\u043b, \\u0423\\u043b\\u044c\\u044f\\u043d\\u043e\\u0432\\u0441\\u043a \\u0433, \\u041b\\u0443\\u043d\\u0430\\u0447\\u0430\\u0440\\u0441\\u043a\\u043e\\u0433\\u043e \\u0443\\u043b, \\u0434\\u043e\\u043c \\u2116 23\\u0412\",\"7321316785\",55737.0],[\"420087, \\u0422\\u0430\\u0442\\u0430\\u0440\\u0441\\u0442\\u0430\\u043d \\u0420\\u0435\\u0441\\u043f, \\u0433 \\u041a\\u0430\\u0437\\u0430\\u043d\\u044c, \\u0443\\u043b \\u0420\\u043e\\u0434\\u0438\\u043d\\u044b, \\u0437\\u0434. 7\\u0415, \\u043e\\u0444\\u0438\\u0441 67, \\u043f\\u043e\\u043c\\u0435\\u0449. 1000\",\"1650074636\",5091.0],[\"355028, \\u0421\\u0442\\u0430\\u0432\\u0440\\u043e\\u043f\\u043e\\u043b\\u044c\\u0441\\u043a\\u0438\\u0439 \\u043a\\u0440\\u0430\\u0439, \\u0433 \\u0421\\u0442\\u0430\\u0432\\u0440\\u043e\\u043f\\u043e\\u043b\\u044c, \\u0443\\u043b \\u041f\\u0430\\u0432\\u043b\\u0430 \\u0411\\u0443\\u0440\\u0430\\u0432\\u0446\\u0435\\u0432\\u0430, \\u0434 42, \\u043a 1, \\u043a\\u0432 12\",\"2635222257\",18289.0],[\"160028, \\u0412\\u043e\\u043b\\u043e\\u0433\\u043e\\u0434\\u0441\\u043a\\u0430\\u044f \\u043e\\u0431\\u043b, \\u0433\\u043e\\u0440\\u043e\\u0434\\u0441\\u043a\\u043e\\u0439 \\u043e\\u043a\\u0440\\u0443\\u0433 \\u0433\\u043e\\u0440\\u043e\\u0434 \\u0412\\u043e\\u043b\\u043e\\u0433\\u0434\\u0430, \\u0412\\u043e\\u043b\\u043e\\u0433\\u0434\\u0430 \\u0433, \\u041e\\u043a\\u0440\\u0443\\u0436\\u043d\\u043e\\u0435 \\u0448, \\u0434\\u043e\\u043c 1\",\"3525115173\",12178.0],[\"442761, \\u041f\\u0435\\u043d\\u0437\\u0435\\u043d\\u0441\\u043a\\u0430\\u044f \\u043e\\u0431\\u043b\\u0430\\u0441\\u0442\\u044c, \\u0440-\\u043d \\u0411\\u0435\\u0441\\u0441\\u043e\\u043d\\u043e\\u0432\\u0441\\u043a\\u0438\\u0439, \\u0441 \\u0427\\u0435\\u043c\\u043e\\u0434\\u0430\\u043d\\u043e\\u0432\\u043a\\u0430, \\u0443\\u043b \\u0414\\u043e\\u0440\\u043e\\u0436\\u043d\\u0430\\u044f, \\u0434\\u0432\\u043b\\u0434. 1\",\"7716825630\",7227.0],[\"630083, \\u041d\\u043e\\u0432\\u043e\\u0441\\u0438\\u0431\\u0438\\u0440\\u0441\\u043a\\u0430\\u044f \\u043e\\u0431\\u043b, \\u0433\\u043e\\u0440\\u043e\\u0434\\u0441\\u043a\\u043e\\u0439 \\u043e\\u043a\\u0440\\u0443\\u0433 \\u0433\\u043e\\u0440\\u043e\\u0434 \\u041d\\u043e\\u0432\\u043e\\u0441\\u0438\\u0431\\u0438\\u0440\\u0441\\u043a, \\u041d\\u043e\\u0432\\u043e\\u0441\\u0438\\u0431\\u0438\\u0440\\u0441\\u043a \\u0433, \\u0412\\u043e\\u0434\\u043e\\u043f\\u0440\\u043e\\u0432\\u043e\\u0434\\u043d\\u0430\\u044f \\u0443\\u043b, \\u0434\\u043e\\u043c 1\\u0410, \\u043e\\u0444\\u0438\\u0441 207\",\"5407486094\",8583.0],[\"141006, \\u041c\\u043e\\u0441\\u043a\\u043e\\u0432\\u0441\\u043a\\u0430\\u044f \\u043e\\u0431\\u043b\\u0430\\u0441\\u0442\\u044c, \\u0433.\\u043e. \\u041c\\u044b\\u0442\\u0438\\u0449\\u0438, \\u0433 \\u041c\\u044b\\u0442\\u0438\\u0449\\u0438, \\u043f\\u0440-\\u043a\\u0442 \\u041e\\u043b\\u0438\\u043c\\u043f\\u0438\\u0439\\u0441\\u043a\\u0438\\u0439, \\u0441\\u0442\\u0440. 13\\u0410\",\"5029259365\",10261.0],[\"\\u0433. \\u0423\\u043b\\u044c\\u044f\\u043d\\u043e\\u0432\\u0441\\u043a, \\u041c\\u043e\\u0441\\u043a\\u043e\\u0432\\u0441\\u043a\\u043e\\u0435 \\u0448., \\u0434. 92, \\u0441\\u0442\\u0440. 44, \\u043f\\u043e\\u043c. 2, 432034\",\"7328076959\",52367.0],[\"140053, \\u041c\\u043e\\u0441\\u043a\\u043e\\u0432\\u0441\\u043a\\u0430\\u044f \\u043e\\u0431\\u043b, \\u0433. \\u041a\\u043e\\u0442\\u0435\\u043b\\u044c\\u043d\\u0438\\u043a\\u0438, \\u0423\\u0433\\u0440\\u0435\\u0448\\u0441\\u043a\\u0438\\u0439 \\u043f\\u0440\\u043e\\u0435\\u0437\\u0434, \\u0434\\u043e\\u043c 3\\u0410, \\u043f\\u043e\\u043c\\u0435\\u0449\\u0435\\u043d\\u0438\\u0435 11\",\"5027231773\",124623.0],[\"424007, \\u041c\\u0430\\u0440\\u0438\\u0439 \\u042d\\u043b \\u0440\\u0435\\u0441\\u043f, \\u0433 \\u0419\\u043e\\u0448\\u043a\\u0430\\u0440-\\u041e\\u043b\\u0430, \\u0443\\u043b \\u041c\\u0430\\u0448\\u0438\\u043d\\u043e\\u0441\\u0442\\u0440\\u043e\\u0438\\u0442\\u0435\\u043b\\u0435\\u0439, \\u0434. 74\\u0432\",\"1215234064\",5724.0],[\"423570, \\u0420\\u0435\\u0441\\u043f\\u0443\\u0431\\u043b\\u0438\\u043a\\u0430 \\u0422\\u0430\\u0442\\u0430\\u0440\\u0441\\u0442\\u0430\\u043d (\\u0422\\u0430\\u0442\\u0430\\u0440\\u0441\\u0442\\u0430\\u043d), \\u043c.\\u0440-\\u043d \\u041d\\u0438\\u0436\\u043d\\u0435\\u043a\\u0430\\u043c\\u0441\\u043a\\u0438\\u0439, \\u0433.\\u043f. \\u0433\\u043e\\u0440\\u043e\\u0434 \\u041d\\u0438\\u0436\\u043d\\u0435\\u043a\\u0430\\u043c\\u0441\\u043a, \\u0433 \\u041d\\u0438\\u0436\\u043d\\u0435\\u043a\\u0430\\u043c\\u0441\\u043a, \\u0443\\u043b \\u0427\\u0438\\u0441\\u0442\\u043e\\u043f\\u043e\\u043b\\u044c\\u0441\\u043a\\u0430\\u044f, \\u0434. 29\",\"1651052642\",64028.0],[\"690002, \\u041f\\u0440\\u0438\\u043c\\u043e\\u0440\\u0441\\u043a\\u0438\\u0439 \\u043a\\u0440\\u0430\\u0439, \\u0433 \\u0412\\u043b\\u0430\\u0434\\u0438\\u0432\\u043e\\u0441\\u0442\\u043e\\u043a, \\u043f\\u0440-\\u043a\\u0442 \\u041a\\u0440\\u0430\\u0441\\u043d\\u043e\\u0433\\u043e \\u0417\\u043d\\u0430\\u043c\\u0435\\u043d\\u0438, \\u0434. 59, \\u043e\\u0444\\u0438\\u0441 29\",\"2543151197\",-40624.0],[\"123290, \\u041c\\u043e\\u0441\\u043a\\u0432\\u0430 \\u0433, \\u041c\\u0430\\u0433\\u0438\\u0441\\u0442\\u0440\\u0430\\u043b\\u044c\\u043d\\u044b\\u0439 1-\\u0419 \\u043f\\u0440\\u043e\\u0435\\u0437\\u0434, \\u0434\\u043e\\u043c 11, \\u0441\\u0442\\u0440\\u043e\\u0435\\u043d\\u0438\\u0435 1, \\u043f\\u043e\\u043c\\u0435\\u0449\\u0435\\u043d\\u0438\\u0435 1, \\u044d\\u0442\\u0430\\u0436 3, \\u043a\\u043e\\u043c\\u043d\\u0430\\u0442\\u0430 86\",\"7731457187\",1402.0],[\"155251, \\u0418\\u0432\\u0430\\u043d\\u043e\\u0432\\u0441\\u043a\\u0430\\u044f \\u043e\\u0431\\u043b\\u0430\\u0441\\u0442\\u044c, \\u043c.\\u0440-\\u043d \\u0420\\u043e\\u0434\\u043d\\u0438\\u043a\\u043e\\u0432\\u0441\\u043a\\u0438\\u0439, \\u0433.\\u043f. \\u0420\\u043e\\u0434\\u043d\\u0438\\u043a\\u043e\\u0432\\u0441\\u043a\\u043e\\u0435, \\u0433 \\u0420\\u043e\\u0434\\u043d\\u0438\\u043a\\u0438, \\u043f\\u0440\\u043e\\u0435\\u0437\\u0434 \\u041c\\u0430\\u043b\\u044b\\u0448\\u0435\\u0432\\u0441\\u043a\\u0438\\u0439, \\u0434. 3\",\"4401152985\",405496.0],[\"646970, \\u041e\\u043c\\u0441\\u043a\\u0430\\u044f \\u043e\\u0431\\u043b, \\u0440-\\u043d \\u041a\\u043e\\u0440\\u043c\\u0438\\u043b\\u043e\\u0432\\u0441\\u043a\\u0438\\u0439, \\u0440\\u043f \\u041a\\u043e\\u0440\\u043c\\u0438\\u043b\\u043e\\u0432\\u043a\\u0430, \\u0443\\u043b \\u041f\\u0435\\u0440\\u0432\\u043e\\u043c\\u0430\\u0439\\u0441\\u043a\\u0430\\u044f, 54\",\"5517201320\",609916.0],[\"420030, \\u0422\\u0430\\u0442\\u0430\\u0440\\u0441\\u0442\\u0430\\u043d \\u0420\\u0435\\u0441\\u043f, \\u041a\\u0430\\u0437\\u0430\\u043d\\u044c \\u0433, \\u0410\\u0440\\u0445\\u0430\\u043d\\u0433\\u0435\\u043b\\u044c\\u0441\\u043a\\u0438\\u0439 \\u043f\\u0435\\u0440, \\u0434\\u043e\\u043c \\u2116 7\",\"1656050350\",1635.0],[\"\\u0433. \\u041c\\u043e\\u0441\\u043a\\u0432\\u0430, \\u0427\\u0435\\u0447\\u0451\\u0440\\u0441\\u043a\\u0438\\u0439 \\u043f\\u0440-\\u0434, \\u0434. 120, \\u043f\\u043e\\u043c. 1\\u002f1, 117042\",\"7716980530\",25.0],[\"191186, \\u0421\\u0430\\u043d\\u043a\\u0442-\\u041f\\u0435\\u0442\\u0435\\u0440\\u0431\\u0443\\u0440\\u0433 \\u0433, \\u041a\\u0430\\u043d\\u0430\\u043b\\u0430 \\u0413\\u0440\\u0438\\u0431\\u043e\\u0435\\u0434\\u043e\\u0432\\u0430 \\u043d\\u0430\\u0431, \\u0434\\u043e\\u043c 6\\u002f2, \\u043b\\u0438\\u0442\\u0435\\u0440\\u0430 \\u0410, \\u043f\\u043e\\u043c\\u0435\\u0449\\u0435\\u043d\\u0438\\u0435 25-\\u041d, \\u043e\\u0444\\u0438\\u0441 41, \\u0440\\u0430\\u0431\\u043e\\u0447\\u0435\\u0435 \\u043c\\u0435\\u0441\\u0442\\u043e 4\",\"7802651514\",9081.0],[\"350000, \\u041a\\u0440\\u0430\\u0441\\u043d\\u043e\\u0434\\u0430\\u0440\\u0441\\u043a\\u0438\\u0439 \\u043a\\u0440\\u0430\\u0439, \\u0433 \\u041a\\u0440\\u0430\\u0441\\u043d\\u043e\\u0434\\u0430\\u0440, \\u0443\\u043b \\u041a\\u0440\\u0430\\u0441\\u043d\\u044b\\u0445 \\u041f\\u0430\\u0440\\u0442\\u0438\\u0437\\u0430\\u043d, 222, \\u041f\\u043e\\u043c\\u0435\\u0449\\u0435\\u043d\\u0438\\u0435 1\",\"2311179474\",67292.0],[\"196233, \\u0421\\u0430\\u043d\\u043a\\u0442-\\u041f\\u0435\\u0442\\u0435\\u0440\\u0431\\u0443\\u0440\\u0433 \\u0433, \\u0443\\u043b \\u041e\\u0440\\u0434\\u0436\\u043e\\u043d\\u0438\\u043a\\u0438\\u0434\\u0437\\u0435, 52, \\u043b\\u0438\\u0442. \\u0410, 92-\\u041d\",\"7810244569\",1611.0],[\"160009, \\u0412\\u043e\\u043b\\u043e\\u0433\\u043e\\u0434\\u0441\\u043a\\u0430\\u044f \\u043e\\u0431\\u043b\\u0430\\u0441\\u0442\\u044c, \\u0433 \\u0412\\u043e\\u043b\\u043e\\u0433\\u0434\\u0430, \\u0443\\u043b \\u0427\\u0435\\u043b\\u044e\\u0441\\u043a\\u0438\\u043d\\u0446\\u0435\\u0432, \\u0434. 47, \\u043f\\u043e\\u043c\\u0435\\u0449. 8\\u0410\",\"3525334182\",101804.0],[\"191014, \\u0421\\u0430\\u043d\\u043a\\u0442-\\u041f\\u0435\\u0442\\u0435\\u0440\\u0431\\u0443\\u0440\\u0433 \\u0433, \\u0443\\u043b \\u0420\\u044b\\u043b\\u0435\\u0435\\u0432\\u0430, 11, \\u0410, \\u041f\\u043e\\u043c. 7-\\u041d\",\"7841088133\",300279.0],[\"677000, \\u0420\\u0435\\u0441\\u043f\\u0443\\u0431\\u043b\\u0438\\u043a\\u0430 \\u0421\\u0430\\u0445\\u0430 (\\u042f\\u043a\\u0443\\u0442\\u0438\\u044f), \\u0433. \\u042f\\u043a\\u0443\\u0442\\u0441\\u043a, \\u0443\\u043b. \\u041f\\u0435\\u0441\\u0447\\u0430\\u043d\\u0430\\u044f, \\u0434\\u043e\\u043c 74\",\"1435138983\",119511.0],[\"187021, \\u041b\\u0435\\u043d\\u0438\\u043d\\u0433\\u0440\\u0430\\u0434\\u0441\\u043a\\u0430\\u044f \\u043e\\u0431\\u043b\\u0430\\u0441\\u0442\\u044c, \\u043c.\\u0440-\\u043d \\u0422\\u043e\\u0441\\u043d\\u0435\\u043d\\u0441\\u043a\\u0438\\u0439, \\u0433.\\u043f. \\u0424\\u0451\\u0434\\u043e\\u0440\\u043e\\u0432\\u0441\\u043a\\u043e\\u0435, \\u0433\\u043f \\u0424\\u0451\\u0434\\u043e\\u0440\\u043e\\u0432\\u0441\\u043a\\u043e\\u0435, \\u0443\\u043b \\u041f\\u043e\\u0447\\u0442\\u043e\\u0432\\u0430\\u044f, \\u0434. 44\\u0430\",\"7816629935\",31288.0],[\"105118, \\u0413\\u043e\\u0440\\u043e\\u0434 \\u041c\\u043e\\u0441\\u043a\\u0432\\u0430, \\u0432\\u043d.\\u0442\\u0435\\u0440. \\u0433. \\u041c\\u0443\\u043d\\u0438\\u0446\\u0438\\u043f\\u0430\\u043b\\u044c\\u043d\\u044b\\u0439 \\u041e\\u043a\\u0440\\u0443\\u0433 \\u041f\\u0435\\u0440\\u043e\\u0432\\u043e, \\u0448 \\u042d\\u043d\\u0442\\u0443\\u0437\\u0438\\u0430\\u0441\\u0442\\u043e\\u0432, \\u0434\\u043e\\u043c 34, \\u043f\\u043e\\u043c\\u0435\\u0449\\u0435\\u043d\\u0438\\u0435 10\\u041f\",\"7724403783\",117198.0],[\"107014, \\u0413\\u043e\\u0440\\u043e\\u0434 \\u041c\\u043e\\u0441\\u043a\\u0432\\u0430, \\u0432\\u043d.\\u0442\\u0435\\u0440. \\u0433. \\u041c\\u0443\\u043d\\u0438\\u0446\\u0438\\u043f\\u0430\\u043b\\u044c\\u043d\\u044b\\u0439 \\u041e\\u043a\\u0440\\u0443\\u0433 \\u0421\\u043e\\u043a\\u043e\\u043b\\u044c\\u043d\\u0438\\u043a\\u0438, \\u0443\\u043b 1-\\u042f \\u0411\\u043e\\u0435\\u0432\\u0441\\u043a\\u0430\\u044f, \\u0434\\u043e\\u043c 6\",\"9718162011\",16343.0],[\"123308, \\u0413\\u043e\\u0440\\u043e\\u0434 \\u041c\\u043e\\u0441\\u043a\\u0432\\u0430, \\u043f\\u0440-\\u0434 \\u041d\\u043e\\u0432\\u043e\\u0445\\u043e\\u0440\\u043e\\u0448\\u0435\\u0432\\u0441\\u043a\\u0438\\u0439, \\u0434\\u043e\\u043c 18, \\u043e\\u0444\\u0438\\u0441 24; 25\",\"7733712788\",76793.0],[\"121609, \\u041c\\u043e\\u0441\\u043a\\u0432\\u0430 \\u0433, \\u0448 \\u0420\\u0443\\u0431\\u043b\\u0451\\u0432\\u0441\\u043a\\u043e\\u0435, 28\",\"7710491300\",94855.0],[\"141441, \\u041c\\u043e\\u0441\\u043a\\u043e\\u0432\\u0441\\u043a\\u0430\\u044f \\u043e\\u0431\\u043b\\u0430\\u0441\\u0442\\u044c, \\u0433.\\u043e. \\u0425\\u0438\\u043c\\u043a\\u0438, \\u0434 \\u0415\\u043b\\u0438\\u043d\\u043e, \\u0443\\u043b \\u041b\\u0435\\u0442\\u043d\\u044f\\u044f, \\u0441\\u0442\\u0440. 8\\u0441\",\"5047068564\",39856.0],[\"108811, \\u041c\\u043e\\u0441\\u043a\\u0432\\u0430 \\u0433, \\u0440-\\u043d \\u041a\\u043e\\u043c\\u043c\\u0443\\u043d\\u0430\\u0440\\u043a\\u0430, \\u0434 \\u0421\\u0430\\u043b\\u0430\\u0440\\u044c\\u0435\\u0432\\u043e, \\u0432\\u043b\\u0434 7 \\u0441\\u0442\\u0440 5\",\"9729336573\",227696.0],[\"460525, \\u041e\\u0440\\u0435\\u043d\\u0431\\u0443\\u0440\\u0433\\u0441\\u043a\\u0430\\u044f \\u043e\\u0431\\u043b, \\u0440-\\u043d \\u041e\\u0440\\u0435\\u043d\\u0431\\u0443\\u0440\\u0433\\u0441\\u043a\\u0438\\u0439, \\u0441 \\u0411\\u043b\\u0430\\u0433\\u043e\\u0441\\u043b\\u043e\\u0432\\u0435\\u043d\\u043a\\u0430, \\u0443\\u043b \\u041a\\u043e\\u043e\\u043f\\u0435\\u0440\\u0430\\u0442\\u0438\\u0432\\u043d\\u0430\\u044f, \\u0434 43\",\"5638050428\",282356.0],[\"107014, \\u0433. \\u041c\\u043e\\u0441\\u043a\\u0432\\u0430, \\u0432\\u043d.\\u0442\\u0435\\u0440.\\u0433.\\u043c\\u0443\\u043d\\u0438\\u0446\\u0438\\u043f\\u0430\\u043b\\u044c\\u043d\\u044b\\u0439 \\u043e\\u043a\\u0440\\u0443\\u0433 \\u0421\\u043e\\u043a\\u043e\\u043b\\u044c\\u043d\\u0438\\u043a\\u0438, \\u0443\\u043b 1-\\u044f \\u0411\\u043e\\u0435\\u0432\\u0441\\u043a\\u0430\\u044f, \\u0434. 2\\u002f12, \\u0441\\u0442\\u0440 4, \\u043f\\u043e\\u043c 1\\u002f1\",\"3241006974\",28903.0],[\"101000, \\u0413\\u043e\\u0440\\u043e\\u0434 \\u041c\\u043e\\u0441\\u043a\\u0432\\u0430, \\u0432\\u043d.\\u0442\\u0435\\u0440.\\u0433. \\u043c\\u0443\\u043d\\u0438\\u0446\\u0438\\u043f\\u0430\\u043b\\u044c\\u043d\\u044b\\u0439 \\u043e\\u043a\\u0440\\u0443\\u0433 \\u0411\\u0430\\u0441\\u043c\\u0430\\u043d\\u043d\\u044b\\u0439, \\u043f\\u0435\\u0440 \\u0410\\u0440\\u043c\\u044f\\u043d\\u0441\\u043a\\u0438\\u0439, \\u0434. 9, \\u0441\\u0442\\u0440. 1, \\u043f\\u043e\\u043c\\u0435\\u0449. 10\\u002f1\",\"7716834257\",3559.0],[\"108814, \\u0413\\u043e\\u0440\\u043e\\u0434 \\u041c\\u043e\\u0441\\u043a\\u0432\\u0430, \\u0440-\\u043d \\u041a\\u043e\\u043c\\u043c\\u0443\\u043d\\u0430\\u0440\\u043a\\u0430, \\u043f \\u041a\\u043e\\u043c\\u043c\\u0443\\u043d\\u0430\\u0440\\u043a\\u0430, \\u0443\\u043b \\u0410\\u043b\\u0435\\u043a\\u0441\\u0430\\u043d\\u0434\\u0440\\u044b \\u041c\\u043e\\u043d\\u0430\\u0445\\u043e\\u0432\\u043e\\u0439, \\u0434\\u043e\\u043c 30, \\u0441\\u0442\\u0440\\u043e\\u0435\\u043d\\u0438\\u0435 1, \\u043e\\u0444\\u0438\\u0441 516\",\"7733661420\",112296.0],[\"115114, \\u041c\\u043e\\u0441\\u043a\\u0432\\u0430 \\u0433, \\u0414\\u0435\\u0440\\u0431\\u0435\\u043d\\u0435\\u0432\\u0441\\u043a\\u0430\\u044f \\u0443\\u043b, \\u0434\\u043e\\u043c 24, \\u0441\\u0442\\u0440\\u043e\\u0435\\u043d\\u0438\\u0435 3, \\u043a\\u043e\\u043c\\u043d\\u0430\\u0442\\u0430 22\",\"6330032139\",137775.0],[\"301836, \\u0422\\u0443\\u043b\\u044c\\u0441\\u043a\\u0430\\u044f \\u043e\\u0431\\u043b, \\u0440-\\u043d \\u0411\\u043e\\u0433\\u043e\\u0440\\u043e\\u0434\\u0438\\u0446\\u043a\\u0438\\u0439, \\u0433 \\u0411\\u043e\\u0433\\u043e\\u0440\\u043e\\u0434\\u0438\\u0446\\u043a, \\u0443\\u043b \\u041a\\u043e\\u043c\\u043c\\u0443\\u043d\\u0430\\u0440\\u043e\\u0432, \\u0434 76\",\"7112500727\",41783.0],[\"660012, \\u041a\\u0440\\u0430\\u0441\\u043d\\u043e\\u044f\\u0440\\u0441\\u043a\\u0438\\u0439 \\u043a\\u0440\\u0430\\u0439, \\u0433. \\u041a\\u0440\\u0430\\u0441\\u043d\\u043e\\u044f\\u0440\\u0441\\u043a, \\u0443\\u043b. \\u041a\\u0430\\u0440\\u0430\\u043c\\u0437\\u0438\\u043d\\u0430, \\u0434\\u043e\\u043c 28\\u0410, \\u043e\\u0444\\u0438\\u0441 201\",\"2464122130\",21862.0],[\"350080, \\u041a\\u0440\\u0430\\u0441\\u043d\\u043e\\u0434\\u0430\\u0440\\u0441\\u043a\\u0438\\u0439 \\u043a\\u0440\\u0430\\u0439, \\u0433 \\u041a\\u0440\\u0430\\u0441\\u043d\\u043e\\u0434\\u0430\\u0440, \\u0443\\u043b \\u041a\\u0440\\u0430\\u0441\\u043d\\u043e\\u0430\\u0440\\u043c\\u0435\\u0439\\u0441\\u043a\\u0430\\u044f, 40, \\u041f\\u043e\\u043c\\u0435\\u0449\\u0435\\u043d\\u0438\\u044f 5\\u002f1\",\"2311084448\",7021.0],[\"420061, \\u0420\\u0435\\u0441\\u043f\\u0443\\u0431\\u043b\\u0438\\u043a\\u0430 \\u0422\\u0430\\u0442\\u0430\\u0440\\u0441\\u0442\\u0430\\u043d (\\u0422\\u0430\\u0442\\u0430\\u0440\\u0441\\u0442\\u0430\\u043d), \\u0433. \\u041a\\u0430\\u0437\\u0430\\u043d\\u044c, \\u0443\\u043b. \\u041d\\u0438\\u043a\\u043e\\u043b\\u0430\\u044f \\u0415\\u0440\\u0448\\u043e\\u0432\\u0430, \\u0434\\u043e\\u043c 1\\u0410, \\u043f\\u043e\\u043c\\u0435\\u0449\\u0435\\u043d\\u0438\\u0435 975\",\"1655317280\",74314.0],[\"364020, \\u0427\\u0435\\u0447\\u0435\\u043d\\u0441\\u043a\\u0430\\u044f \\u0420\\u0435\\u0441\\u043f, \\u0433 \\u0413\\u0440\\u043e\\u0437\\u043d\\u044b\\u0439, \\u0443\\u043b \\u041d.\\u0410.\\u041d\\u0430\\u0437\\u0430\\u0440\\u0431\\u0430\\u0435\\u0432\\u0430, 87\\u002f9, 1\\u002f34\",\"2004011141\",1839.0],[\"236043, \\u041a\\u0430\\u043b\\u0438\\u043d\\u0438\\u043d\\u0433\\u0440\\u0430\\u0434\\u0441\\u043a\\u0430\\u044f \\u043e\\u0431\\u043b, \\u0433 \\u041a\\u0430\\u043b\\u0438\\u043d\\u0438\\u043d\\u0433\\u0440\\u0430\\u0434, \\u0443\\u043b \\u0412.\\u0414\\u0435\\u043d\\u0438\\u0441\\u043e\\u0432\\u0430, \\u0434 24, \\u043e\\u0444\\u0438\\u0441 1\",\"3907000135\",26914.0],[\"398017, \\u041b\\u0438\\u043f\\u0435\\u0446\\u043a\\u0430\\u044f \\u043e\\u0431\\u043b, \\u0433 \\u041b\\u0438\\u043f\\u0435\\u0446\\u043a, \\u0443\\u043b 9-\\u0433\\u043e \\u041c\\u0430\\u044f, 14\",\"4823038399\",42969.0],[\"143403, \\u041c\\u043e\\u0441\\u043a\\u043e\\u0432\\u0441\\u043a\\u0430\\u044f \\u043e\\u0431\\u043b, \\u041a\\u0440\\u0430\\u0441\\u043d\\u043e\\u0433\\u043e\\u0440\\u0441\\u043a \\u0433, \\u041b\\u0435\\u0441\\u043d\\u0430\\u044f \\u0443\\u043b, \\u0434\\u043e\\u043c 10\",\"5024161253\",41622.0],[\"353440, \\u041a\\u0440\\u0430\\u0441\\u043d\\u043e\\u0434\\u0430\\u0440\\u0441\\u043a\\u0438\\u0439 \\u043a\\u0440\\u0430\\u0439, \\u0440-\\u043d \\u0410\\u043d\\u0430\\u043f\\u0441\\u043a\\u0438\\u0439, \\u0433 \\u0410\\u043d\\u0430\\u043f\\u0430, \\u043f\\u0440-\\u043a\\u0442 \\u0420\\u0435\\u0432\\u043e\\u043b\\u044e\\u0446\\u0438\\u0438, 3, 1\",\"2301093108\",-247.0],[\"690078, \\u041f\\u0440\\u0438\\u043c\\u043e\\u0440\\u0441\\u043a\\u0438\\u0439 \\u043a\\u0440\\u0430\\u0439, \\u0433 \\u0412\\u043b\\u0430\\u0434\\u0438\\u0432\\u043e\\u0441\\u0442\\u043e\\u043a, \\u043f\\u0440-\\u043a\\u0442 \\u041e\\u0441\\u0442\\u0440\\u044f\\u043a\\u043e\\u0432\\u0430, \\u0434 49\",\"2540277265\",243361.0],[\"115419, \\u041c\\u043e\\u0441\\u043a\\u0432\\u0430 \\u0433, \\u041e\\u0440\\u0434\\u0436\\u043e\\u043d\\u0438\\u043a\\u0438\\u0434\\u0437\\u0435 \\u0443\\u043b, \\u0434\\u043e\\u043c 11, \\u0441\\u0442\\u0440\\u043e\\u0435\\u043d\\u0438\\u0435 44, \\u044d\\u0442\\u0430\\u0436 9, \\u043f\\u043e\\u043c\\u0435\\u0449\\u0435\\u043d\\u0438\\u0435 1, \\u043a\\u043e\\u043c\\u043d\\u0430\\u0442\\u0430 3\",\"7731513145\",843.0],[\"119421, \\u0413\\u043e\\u0440\\u043e\\u0434 \\u041c\\u043e\\u0441\\u043a\\u0432\\u0430, \\u043f\\u0440-\\u043a\\u0442 \\u041b\\u0435\\u043d\\u0438\\u043d\\u0441\\u043a\\u0438\\u0439, \\u0434\\u043e\\u043c 111, \\u043a\\u043e\\u0440\\u043f\\u0443\\u0441 1, \\u043e\\u0444\\u0438\\u0441 201\",\"7723568486\",60033.0],[\"117342, \\u041c\\u043e\\u0441\\u043a\\u0432\\u0430 \\u0433, \\u0411\\u0443\\u0442\\u043b\\u0435\\u0440\\u043e\\u0432\\u0430 \\u0443\\u043b, \\u0434.17\\u0411, \\u043f\\u043e\\u043c\\u0435\\u0449\\u0435\\u043d\\u0438\\u0435 XI, \\u043a\\u043e\\u043c\\u043d\\u0430\\u0442\\u0430 139\",\"7728896297\",15367.0],[\"117556, \\u041c\\u043e\\u0441\\u043a\\u0432\\u0430 \\u0433, \\u0443\\u043b \\u0424\\u0440\\u0443\\u043a\\u0442\\u043e\\u0432\\u0430\\u044f, \\u0434 14, 5\",\"7710568658\",-13972.0],[\"620000, \\u0421\\u0432\\u0435\\u0440\\u0434\\u043b\\u043e\\u0432\\u0441\\u043a\\u0430\\u044f \\u043e\\u0431\\u043b\\u0430\\u0441\\u0442\\u044c, \\u0433 \\u0415\\u043a\\u0430\\u0442\\u0435\\u0440\\u0438\\u043d\\u0431\\u0443\\u0440\\u0433, \\u0443\\u043b \\u0413\\u043e\\u0440\\u044c\\u043a\\u043e\\u0433\\u043e, \\u0441\\u0442\\u0440. 45, \\u043e\\u0444\\u0438\\u0441 30\",\"6670417055\",-5041.0],[\"111524, \\u041c\\u043e\\u0441\\u043a\\u0432\\u0430 \\u0433, \\u0432\\u043d.\\u0442\\u0435\\u0440.\\u0433. \\u043c\\u0443\\u043d\\u0438\\u0446\\u0438\\u043f\\u0430\\u043b\\u044c\\u043d\\u044b\\u0439 \\u043e\\u043a\\u0440\\u0443\\u0433 \\u041f\\u0435\\u0440\\u043e\\u0432\\u043e, \\u0443\\u043b \\u042d\\u043b\\u0435\\u043a\\u0442\\u0440\\u043e\\u0434\\u043d\\u0430\\u044f, \\u0434. 12, \\u0441\\u0442\\u0440. 1, \\u044d\\u0442\\u0430\\u0436 5, \\u043a\\u0430\\u0431\\u0438\\u043d\\u0435\\u0442 1\\u0411\",\"9725028948\",4749.0],[\"115184, \\u041c\\u043e\\u0441\\u043a\\u0432\\u0430 \\u0433, \\u041d\\u043e\\u0432\\u043e\\u043a\\u0443\\u0437\\u043d\\u0435\\u0446\\u043a\\u0438\\u0439 1-\\u0419 \\u043f\\u0435\\u0440, \\u0434\\u043e\\u043c \\u2116 10\\u0410, \\u043e\\u0444\\u0438\\u0441 26 \\u042d\\u0442\\u0430\\u0436 2 \\u041f\\u043e\\u0434\\u044a\\u0435\\u0437\\u0434 1\",\"5904243246\",145218.0],[\"625033, \\u0422\\u044e\\u043c\\u0435\\u043d\\u0441\\u043a\\u0430\\u044f \\u043e\\u0431\\u043b, \\u0433 \\u0422\\u044e\\u043c\\u0435\\u043d\\u044c, \\u0443\\u043b \\u041c\\u043e\\u043d\\u0442\\u0430\\u0436\\u043d\\u0438\\u043a\\u043e\\u0432, \\u0434 61, \\u043e\\u0444.3\",\"7202206536\",24402.0],[\"660135, \\u041a\\u0440\\u0430\\u0441\\u043d\\u043e\\u044f\\u0440\\u0441\\u043a\\u0438\\u0439 \\u043a\\u0440\\u0430\\u0439, \\u0433 \\u041a\\u0440\\u0430\\u0441\\u043d\\u043e\\u044f\\u0440\\u0441\\u043a, \\u0443\\u043b \\u0412\\u0437\\u043b\\u0435\\u0442\\u043d\\u0430\\u044f, \\u0437\\u0434. 7, \\u043a\\u0432. 13, \\u043a\\u043e\\u043c. 21-23\",\"2464222670\",3056.0],[\"170043, \\u0422\\u0432\\u0435\\u0440\\u0441\\u043a\\u0430\\u044f \\u043e\\u0431\\u043b, \\u0433 \\u0422\\u0432\\u0435\\u0440\\u044c, \\u0443\\u043b \\u041b\\u0435\\u0432\\u0438\\u0442\\u0430\\u043d\\u0430, \\u0434. 48, \\u043a. 2, \\u043f\\u043e\\u043c\\u0435\\u0449. 21, \\u043e\\u0444\\u0438\\u0441 32024\",\"6950126034\",33756.0],[\"115054, \\u0413\\u043e\\u0440\\u043e\\u0434 \\u041c\\u043e\\u0441\\u043a\\u0432\\u0430, \\u0432\\u043d.\\u0442\\u0435\\u0440. \\u0433. \\u041c\\u0443\\u043d\\u0438\\u0446\\u0438\\u043f\\u0430\\u043b\\u044c\\u043d\\u044b\\u0439 \\u041e\\u043a\\u0440\\u0443\\u0433 \\u0417\\u0430\\u043c\\u043e\\u0441\\u043a\\u0432\\u043e\\u0440\\u0435\\u0447\\u044c\\u0435, \\u043f\\u0435\\u0440 \\u0411\\u043e\\u043b\\u044c\\u0448\\u043e\\u0439 \\u0421\\u0442\\u0440\\u043e\\u0447\\u0435\\u043d\\u043e\\u0432\\u0441\\u043a\\u0438\\u0439, \\u0434\\u043e\\u043c 7, \\u044d\\u0442\\u0430\\u0436\\u002f\\u043f\\u043e\\u043c\\u0435\\u0449. 3\\u002f\\u0425, \\u043a\\u043e\\u043c\\u043d\\u0430\\u0442\\u0430 6,7,8\",\"9710084499\",1008.0],[\"295021, \\u0420\\u0435\\u0441\\u043f\\u0443\\u0431\\u043b\\u0438\\u043a\\u0430 \\u041a\\u0440\\u044b\\u043c, \\u0433.\\u043e. \\u0421\\u0438\\u043c\\u0444\\u0435\\u0440\\u043e\\u043f\\u043e\\u043b\\u044c, \\u0433 \\u0421\\u0438\\u043c\\u0444\\u0435\\u0440\\u043e\\u043f\\u043e\\u043b\\u044c, \\u0443\\u043b \\u0414\\u0430\\u043d\\u0438\\u043b\\u043e\\u0432\\u0430, \\u0437\\u0434. 55, \\u043e\\u0444\\u0438\\u0441 312,313\",\"9102021253\",85969.0],[\"197183, \\u0421\\u0430\\u043d\\u043a\\u0442-\\u041f\\u0435\\u0442\\u0435\\u0440\\u0431\\u0443\\u0440\\u0433 \\u0433, \\u041f\\u0440\\u0438\\u043c\\u043e\\u0440\\u0441\\u043a\\u0438\\u0439 \\u043f\\u0440-\\u043a\\u0442, \\u0434\\u043e\\u043c 6, \\u043b\\u0438\\u0442\\u0435\\u0440 \\u0410, \\u043f\\u043e\\u043c\\u0435\\u0449\\u0435\\u043d\\u0438\\u0435 22\\u041d\",\"7810358654\",39867.0],[\"108818, \\u041c\\u043e\\u0441\\u043a\\u0432\\u0430 \\u0433, \\u0440-\\u043d \\u0422\\u0440\\u043e\\u0438\\u0446\\u043a, \\u0443\\u043b 1-\\u044f \\u0412\\u0430\\u0442\\u0443\\u0442\\u0438\\u043d\\u0441\\u043a\\u0430\\u044f, \\u0434 12 \\u0441\\u0442\\u0440 4\",\"5003066337\",-168216.0],[\"423730, \\u0422\\u0430\\u0442\\u0430\\u0440\\u0441\\u0442\\u0430\\u043d \\u0420\\u0435\\u0441\\u043f, \\u0410\\u043a\\u0442\\u0430\\u043d\\u044b\\u0448\\u0441\\u043a\\u0438\\u0439 \\u0440-\\u043d, \\u0410\\u043d\\u044f\\u043a\\u043e\\u0432\\u043e \\u0434, \\u0428.\\u0428\\u0430\\u0439\\u043c\\u0438\\u0435\\u0432\\u0430 \\u0443\\u043b, \\u0434\\u043e\\u043c \\u2116 8\\u0410\",\"1604010540\",4770.0],[\"\\u041a\\u0443\\u0440\\u0441\\u043a\\u0430\\u044f \\u043e\\u0431\\u043b, \\u0433 \\u041a\\u0443\\u0440\\u0441\\u043a, \\u0443\\u043b \\u0414\\u0437\\u0435\\u0440\\u0436\\u0438\\u043d\\u0441\\u043a\\u043e\\u0433\\u043e, \\u0434. 9\\u0430, \\u043a\\u0432. 508, \",\"4632297547\",65081.0],[\"404133, \\u0412\\u043e\\u043b\\u0433\\u043e\\u0433\\u0440\\u0430\\u0434\\u0441\\u043a\\u0430\\u044f \\u043e\\u0431\\u043b, \\u0433 \\u0412\\u043e\\u043b\\u0436\\u0441\\u043a\\u0438\\u0439, 353\\u0410\",\"3435052585\",11765.0],[\"101000, \\u041c\\u043e\\u0441\\u043a\\u0432\\u0430 \\u0433, \\u0443\\u043b \\u041c\\u044f\\u0441\\u043d\\u0438\\u0446\\u043a\\u0430\\u044f, 24\\u002f7, 3, IV\",\"5024208198\",16569.0],[\"107553, \\u0413\\u043e\\u0440\\u043e\\u0434 \\u041c\\u043e\\u0441\\u043a\\u0432\\u0430, \\u0443\\u043b. \\u0411\\u043e\\u043b\\u044c\\u0448\\u0430\\u044f \\u0427\\u0435\\u0440\\u043a\\u0438\\u0437\\u043e\\u0432\\u0441\\u043a\\u0430\\u044f, \\u0434\\u043e\\u043c 20, \\u043a\\u043e\\u043c\\u043d\\u0430\\u0442\\u0430 \\u041f4\",\"7718300162\",78470.0],[\"620089, \\u0421\\u0432\\u0435\\u0440\\u0434\\u043b\\u043e\\u0432\\u0441\\u043a\\u0430\\u044f \\u043e\\u0431\\u043b, \\u0433 \\u0415\\u043a\\u0430\\u0442\\u0435\\u0440\\u0438\\u043d\\u0431\\u0443\\u0440\\u0433, \\u043f\\u0435\\u0440 \\u0411\\u0430\\u0437\\u043e\\u0432\\u044b\\u0439, \\u0441\\u0442\\u0440. 39\",\"6673227920\",32417.0],[\"309511, \\u0411\\u0435\\u043b\\u0433\\u043e\\u0440\\u043e\\u0434\\u0441\\u043a\\u0430\\u044f \\u043e\\u0431\\u043b\\u0430\\u0441\\u0442\\u044c, \\u0433. \\u0421\\u0442\\u0430\\u0440\\u044b\\u0439 \\u041e\\u0441\\u043a\\u043e\\u043b, \\u043c\\u043a\\u0440 \\u041e\\u043b\\u0438\\u043c\\u043f\\u0438\\u0439\\u0441\\u043a\\u0438\\u0439, \\u0434\\u043e\\u043c 62\",\"3128001437\",477669.0],[\"236029, \\u041a\\u0430\\u043b\\u0438\\u043d\\u0438\\u043d\\u0433\\u0440\\u0430\\u0434\\u0441\\u043a\\u0430\\u044f \\u043e\\u0431\\u043b\\u0430\\u0441\\u0442\\u044c, \\u043c.\\u043e. \\u0413\\u0443\\u0440\\u044c\\u0435\\u0432\\u0441\\u043a\\u0438\\u0439, \\u043f \\u041d\\u0435\\u0432\\u0441\\u043a\\u043e\\u0435, \\u0437\\u0434. 6, \\u043e\\u0444\\u0438\\u0441 1\",\"3906314996\",107766.0],[\"191036, \\u0421\\u0430\\u043d\\u043a\\u0442-\\u041f\\u0435\\u0442\\u0435\\u0440\\u0431\\u0443\\u0440\\u0433 \\u0433, \\u0432\\u043d.\\u0442\\u0435\\u0440. \\u0433. \\u043c\\u0443\\u043d\\u0438\\u0446\\u0438\\u043f\\u0430\\u043b\\u044c\\u043d\\u044b\\u0439 \\u043e\\u043a\\u0440\\u0443\\u0433 \\u0421\\u043c\\u043e\\u043b\\u044c\\u043d\\u0438\\u043d\\u0441\\u043a\\u043e\\u0435, \\u0443\\u043b \\u0416\\u0443\\u043a\\u043e\\u0432\\u0441\\u043a\\u043e\\u0433\\u043e, \\u0434. 63, \\u043b\\u0438\\u0442\\u0435\\u0440\\u0430 \\u0410, \\u043e\\u0444\\u0438\\u0441 116, \\u043f\\u043e\\u043c\\u0435\\u0449. 3-\\u041d\",\"5503081397\",14587.0],[\"123592, \\u0413\\u043e\\u0440\\u043e\\u0434 \\u041c\\u043e\\u0441\\u043a\\u0432\\u0430, \\u0432\\u043d.\\u0442\\u0435\\u0440.\\u0433. \\u043c\\u0443\\u043d\\u0438\\u0446\\u0438\\u043f\\u0430\\u043b\\u044c\\u043d\\u044b\\u0439 \\u043e\\u043a\\u0440\\u0443\\u0433 \\u0421\\u0442\\u0440\\u043e\\u0433\\u0438\\u043d\\u043e, \\u0443\\u043b \\u041a\\u0443\\u043b\\u0430\\u043a\\u043e\\u0432\\u0430, \\u0434. 20, \\u0441\\u0442\\u0440. 1\\u0410\",\"7743744940\",118729.0],[\"420087, \\u0420\\u0435\\u0441\\u043f\\u0443\\u0431\\u043b\\u0438\\u043a\\u0430 \\u0422\\u0430\\u0442\\u0430\\u0440\\u0441\\u0442\\u0430\\u043d (\\u0422\\u0430\\u0442\\u0430\\u0440\\u0441\\u0442\\u0430\\u043d), \\u0433.\\u043e. \\u0413\\u043e\\u0440\\u043e\\u0434 \\u041a\\u0430\\u0437\\u0430\\u043d\\u044c, \\u0433 \\u041a\\u0430\\u0437\\u0430\\u043d\\u044c, \\u0443\\u043b \\u0410\\u0434\\u0435\\u043b\\u044f \\u041a\\u0443\\u0442\\u0443\\u044f, \\u0437\\u0434\\u0430\\u043d\\u0438\\u0435 86, \\u043a\\u043e\\u0440\\u043f\\u0443\\u0441 3, \\u043e\\u0444\\u0438\\u0441 1\",\"1660339627\",27401.0],[\"620000, \\u0421\\u0432\\u0435\\u0440\\u0434\\u043b\\u043e\\u0432\\u0441\\u043a\\u0430\\u044f \\u043e\\u0431\\u043b, \\u0433.\\u043e. \\u0433\\u043e\\u0440\\u043e\\u0434 \\u0415\\u043a\\u0430\\u0442\\u0435\\u0440\\u0438\\u043d\\u0431\\u0443\\u0440\\u0433, \\u0433 \\u0415\\u043a\\u0430\\u0442\\u0435\\u0440\\u0438\\u043d\\u0431\\u0443\\u0440\\u0433, \\u0443\\u043b \\u0413\\u043e\\u0440\\u044c\\u043a\\u043e\\u0433\\u043e, \\u0441\\u0442\\u0440. 57, \\u043e\\u0444\\u0438\\u0441 3.13\",\"6672174619\",83714.0],[\"690091, \\u041f\\u0440\\u0438\\u043c\\u043e\\u0440\\u0441\\u043a\\u0438\\u0439 \\u043a\\u0440\\u0430\\u0439, \\u0433 \\u0412\\u043b\\u0430\\u0434\\u0438\\u0432\\u043e\\u0441\\u0442\\u043e\\u043a, \\u0443\\u043b \\u0421\\u0432\\u0435\\u0442\\u043b\\u0430\\u043d\\u0441\\u043a\\u0430\\u044f, 51\\u0410\",\"2543051851\",28317.0],[\"644015, \\u041e\\u043c\\u0441\\u043a\\u0430\\u044f \\u043e\\u0431\\u043b, \\u0433 \\u041e\\u043c\\u0441\\u043a, \\u0443\\u043b \\u0413\\u0440\\u0430\\u043d\\u0438\\u0447\\u043d\\u0430\\u044f, 244\\u0410\",\"5507254386\",2367.0],[\"398007, \\u041b\\u0438\\u043f\\u0435\\u0446\\u043a\\u0430\\u044f \\u043e\\u0431\\u043b, \\u041b\\u0438\\u043f\\u0435\\u0446\\u043a \\u0433, \\u0423\\u0448\\u0438\\u043d\\u0441\\u043a\\u043e\\u0433\\u043e \\u0443\\u043b, \\u0434\\u043e\\u043c \\u2116 56\",\"4826071443\",100092.0],[\"450073, \\u0420\\u0435\\u0441\\u043f\\u0443\\u0431\\u043b\\u0438\\u043a\\u0430 \\u0411\\u0430\\u0448\\u043a\\u043e\\u0440\\u0442\\u043e\\u0441\\u0442\\u0430\\u043d, \\u0433.\\u043e. \\u0413\\u043e\\u0440\\u043e\\u0434 \\u0423\\u0444\\u0430, \\u0433 \\u0423\\u0444\\u0430, \\u0443\\u043b \\u0411\\u0430\\u044f\\u0437\\u0438\\u0442\\u0430 \\u0411\\u0438\\u043a\\u0431\\u0430\\u044f, \\u0434\\u043e\\u043c 44\\u0410, \\u043f\\u043e\\u043c\\u0435\\u0449\\u0435\\u043d\\u0438\\u0435 302\",\"0276156728\",10119.0],[\"129110, \\u041c\\u043e\\u0441\\u043a\\u0432\\u0430 \\u0433, \\u0443\\u043b \\u0421\\u0440\\u0435\\u0434\\u043d\\u044f\\u044f \\u041f\\u0435\\u0440\\u0435\\u044f\\u0441\\u043b\\u0430\\u0432\\u0441\\u043a\\u0430\\u044f, 27, 1, 16\\u043f\",\"9702057283\",1724.0],[\"109028, \\u041c\\u043e\\u0441\\u043a\\u0432\\u0430 \\u0433, \\u0432\\u043d.\\u0442\\u0435\\u0440.\\u0433. \\u043c\\u0443\\u043d\\u0438\\u0446\\u0438\\u043f\\u0430\\u043b\\u044c\\u043d\\u044b\\u0439 \\u043e\\u043a\\u0440\\u0443\\u0433 \\u0411\\u0430\\u0441\\u043c\\u0430\\u043d\\u043d\\u044b\\u0439, \\u0431-\\u0440 \\u041f\\u043e\\u043a\\u0440\\u043e\\u0432\\u0441\\u043a\\u0438\\u0439, \\u0434. 8, \\u0441\\u0442\\u0440. 2\\u0410, \\u043f\\u043e\\u043c\\u0435\\u0449\\u0435\\u043d\\u0438\\u0435 2\\u002f5, \",\"7105019604\",18341.0],[\"125047, \\u041c\\u043e\\u0441\\u043a\\u0432\\u0430 \\u0433, \\u041c\\u0438\\u0443\\u0441\\u0441\\u043a\\u0430\\u044f \\u043f\\u043b, \\u0434\\u043e\\u043c \\u2116 2,  \\u044d\\u0442\\u002f\\u043a\\u043e\\u043c 2\\u002f1\",\"7733043569\",5488.0],[\"117461, \\u0413\\u043e\\u0440\\u043e\\u0434 \\u041c\\u043e\\u0441\\u043a\\u0432\\u0430, \\u0443\\u043b \\u041a\\u0430\\u0445\\u043e\\u0432\\u043a\\u0430, \\u0434. 22, \\u043a. 4, \\u043a\\u0432. 1\",\"2465218282\",63877.0],[\"625013, \\u0422\\u044e\\u043c\\u0435\\u043d\\u0441\\u043a\\u0430\\u044f \\u043e\\u0431\\u043b, \\u0433 \\u0422\\u044e\\u043c\\u0435\\u043d\\u044c, \\u0443\\u043b \\u041f\\u0435\\u0440\\u043c\\u044f\\u043a\\u043e\\u0432\\u0430, 1, 1004\",\"7202100988\",117963.0],[\"117105, \\u041c\\u043e\\u0441\\u043a\\u0432\\u0430 \\u0433, \\u0412\\u0430\\u0440\\u0448\\u0430\\u0432\\u0441\\u043a\\u043e\\u0435 \\u0448, \\u0434\\u043e\\u043c \\u2116 26, \\u0441\\u0442\\u0440\\u043e\\u0435\\u043d\\u0438\\u0435 11, \\u043f\\u043e\\u043c\\u0435\\u0449\\u0435\\u043d\\u0438\\u0435 13\",\"7726386318\",29671.0],[\"620026, \\u0421\\u0432\\u0435\\u0440\\u0434\\u043b\\u043e\\u0432\\u0441\\u043a\\u0430\\u044f \\u043e\\u0431\\u043b, \\u0433 \\u0415\\u043a\\u0430\\u0442\\u0435\\u0440\\u0438\\u043d\\u0431\\u0443\\u0440\\u0433, \\u0443\\u043b \\u0422\\u0432\\u0435\\u0440\\u0438\\u0442\\u0438\\u043d\\u0430, \\u0434 34, \\u043a\\u0432 8\",\"6673210179\",103588.0],[\"623702, \\u0421\\u0432\\u0435\\u0440\\u0434\\u043b\\u043e\\u0432\\u0441\\u043a\\u0430\\u044f \\u043e\\u0431\\u043b, \\u0433 \\u0411\\u0435\\u0440\\u0435\\u0437\\u043e\\u0432\\u0441\\u043a\\u0438\\u0439, \\u043f\\u0440-\\u043a\\u0442 \\u0410\\u043b\\u0435\\u043a\\u0441\\u0430\\u043d\\u0434\\u0440\\u043e\\u0432\\u0441\\u043a\\u0438\\u0439, 3, 1\",\"6678068222\",236921.0],[\"101000, \\u0413\\u043e\\u0440\\u043e\\u0434 \\u041c\\u043e\\u0441\\u043a\\u0432\\u0430, \\u043f\\u0435\\u0440 \\u0411\\u043e\\u043b\\u044c\\u0448\\u043e\\u0439 \\u0421\\u043f\\u0430\\u0441\\u043e\\u0433\\u043b\\u0438\\u043d\\u0438\\u0449\\u0435\\u0432\\u0441\\u043a\\u0438\\u0439, \\u0434. 3, \\u0441\\u0442\\u0440. 8, \\u044d\\u0442\\u0430\\u0436 4\",\"7751023149\",10984.0],[\"694350, \\u0421\\u0430\\u0445\\u0430\\u043b\\u0438\\u043d\\u0441\\u043a\\u0430\\u044f \\u043e\\u0431\\u043b\\u0430\\u0441\\u0442\\u044c, \\u0440-\\u043d \\u0421\\u043c\\u0438\\u0440\\u043d\\u044b\\u0445\\u043e\\u0432\\u0441\\u043a\\u0438\\u0439, \\u043f\\u0433\\u0442 \\u0421\\u043c\\u0438\\u0440\\u043d\\u044b\\u0445, \\u0443\\u043b \\u041f\\u0438\\u0440\\u043e\\u0433\\u043e\\u0432\\u0430, \\u0437\\u0434. 4\\u0412\",\"6514009098\",550775.0],[\"\\u041c\\u043e\\u0441\\u043a\\u043e\\u0432\\u0441\\u043a\\u0430\\u044f \\u043e\\u0431\\u043b., \\u0433. \\u041e\\u0434\\u0438\\u043d\\u0446\\u043e\\u0432\\u043e, \\u0441. \\u0414\\u0443\\u0431\\u043a\\u0438, \\u041c\\u043e\\u0436\\u0430\\u0439\\u0441\\u043a\\u043e\\u0435 \\u0448., \\u0434. 34, \\u042d\\u0422.\\u002f\\u041f\\u041e\\u041c. 1\\u002f8, 143081\",\"7727622688\",6098.0],[\"117420, \\u041c\\u043e\\u0441\\u043a\\u0432\\u0430 \\u0433., \\u041d\\u0430\\u043c\\u0451\\u0442\\u043a\\u0438\\u043d\\u0430 \\u0443\\u043b., \\u0434\\u043e\\u043c 8, \\u0441\\u0442\\u0440\\u043e\\u0435\\u043d\\u0438\\u0435 1, \\u044d\\u0442\\u0430\\u0436 4, \\u043e\\u0444\\u0438\\u0441 423\",\"7715465840\",76421.0],[\"199106, \\u0413\\u043e\\u0440\\u043e\\u0434 \\u0421\\u0430\\u043d\\u043a\\u0442-\\u041f\\u0435\\u0442\\u0435\\u0440\\u0431\\u0443\\u0440\\u0433, \\u0432\\u043d.\\u0442\\u0435\\u0440. \\u0433. \\u041c\\u0443\\u043d\\u0438\\u0446\\u0438\\u043f\\u0430\\u043b\\u044c\\u043d\\u044b\\u0439 \\u041e\\u043a\\u0440\\u0443\\u0433 \\u2116 7, \\u043b\\u0438\\u043d\\u0438\\u044f 22-\\u042f \\u0412.\\u041e., \\u0434\\u043e\\u043c 3, \\u043a\\u043e\\u0440\\u043f\\u0443\\u0441 1, \\u043b\\u0438\\u0442\\u0435\\u0440\\u0430 \\u041c, \\u043f\\u043e\\u043c\\u0435\\u0449\\u0435\\u043d\\u0438\\u0435 1\\u041d \\u041e\\u0424\\u0418\\u0421 543\",\"7801629900\",1441.0],[\"300041, \\u0422\\u0443\\u043b\\u044c\\u0441\\u043a\\u0430\\u044f, \\u0433. \\u0422\\u0443\\u043b\\u0430, \\u0443\\u043b. \\u0421\\u043e\\u0432\\u0435\\u0442\\u0441\\u043a\\u0430\\u044f, \\u0434. 54, \\u043f\\u043e\\u043c\\u0435\\u0449 14-36\",\"7105055881\",453.0],[\"111024, \\u041c\\u043e\\u0441\\u043a\\u0432\\u0430 \\u0433, \\u0432\\u043d.\\u0442\\u0435\\u0440.\\u0433. \\u043c\\u0443\\u043d\\u0438\\u0446\\u0438\\u043f\\u0430\\u043b\\u044c\\u043d\\u044b\\u0439 \\u043e\\u043a\\u0440\\u0443\\u0433 \\u041b\\u0435\\u0444\\u043e\\u0440\\u0442\\u043e\\u0432\\u043e, \\u0410\\u0432\\u0438\\u0430\\u043c\\u043e\\u0442\\u043e\\u0440\\u043d\\u0430\\u044f \\u0443\\u043b, \\u0434\\u043e\\u043c 50, \\u0441\\u0442\\u0440\\u043e\\u0435\\u043d\\u0438\\u0435 2, \\u044d\\u0442\\u0430\\u0436 2, \\u043f\\u043e\\u043c\\u0435\\u0449. XI \\u043a\\u043e\\u043c.25 \\u043e\\u0444\\u0438\\u0441 \\u041098\",\"7704676969\",135869.0],[\"188544, \\u041b\\u0435\\u043d\\u0438\\u043d\\u0433\\u0440\\u0430\\u0434\\u0441\\u043a\\u0430\\u044f \\u043e\\u0431\\u043b, \\u0433 \\u0421\\u043e\\u0441\\u043d\\u043e\\u0432\\u044b\\u0439 \\u0411\\u043e\\u0440, \\u0443\\u043b \\u041f\\u0435\\u0442\\u0440\\u0430 \\u0412\\u0435\\u043b\\u0438\\u043a\\u043e\\u0433\\u043e, \\u0434. 9, \\u043a\\u0432. 226, \",\"4726003778\",66332.0],[\"198216, \\u0433\\u043e\\u0440\\u043e\\u0434 \\u0421\\u0430\\u043d\\u043a\\u0442-\\u041f\\u0435\\u0442\\u0435\\u0440\\u0431\\u0443\\u0440\\u0433, \\u043f\\u0440-\\u043a\\u0442 \\u041d\\u0430\\u0440\\u043e\\u0434\\u043d\\u043e\\u0433\\u043e \\u041e\\u043f\\u043e\\u043b\\u0447\\u0435\\u043d\\u0438\\u044f, \\u0434\\u043e\\u043c 22, \\u043b\\u0438\\u0442\\u0435\\u0440 \\u041f, \\u043f\\u043e\\u043c\\u0435\\u0449\\u0435\\u043d\\u0438\\u0435 26\\u041d\",\"7805134779\",114741.0],[\"\\u041c\\u043e\\u0441\\u043a\\u043e\\u0432\\u0441\\u043a\\u0430\\u044f \\u043e\\u0431\\u043b, \\u0433.\\u043e. \\u0427\\u0435\\u0445\\u043e\\u0432, \\u0433 \\u0427\\u0435\\u0445\\u043e\\u0432, \\u0443\\u043b \\u0418\\u043b\\u044c\\u0438\\u0447\\u0430, \\u0434. 39\\u0431, \\u043f\\u043e\\u043c\\u0435\\u0449. 15\",\"7707836392\",12401.0],[\"423893, \\u0422\\u0430\\u0442\\u0430\\u0440\\u0441\\u0442\\u0430\\u043d \\u0420\\u0435\\u0441\\u043f, \\u0422\\u0443\\u043a\\u0430\\u0435\\u0432\\u0441\\u043a\\u0438\\u0439 \\u0440-\\u043d, \\u0421\\u0442\\u0430\\u0440\\u043e\\u0441\\u0430\\u0440\\u043c\\u0430\\u043d\\u043e\\u0432\\u0441\\u043a\\u0430\\u044f \\u0443\\u043b, \\u0434\\u043e\\u043c \\u2116 19\\u002f6, \\u044d\\u0442\\u0430\\u0436 3, \\u043e\\u0444\\u0438\\u0441 1\",\"1650237640\",26625.0],[\"191015, \\u0433\\u043e\\u0440\\u043e\\u0434 \\u0421\\u0430\\u043d\\u043a\\u0442-\\u041f\\u0435\\u0442\\u0435\\u0440\\u0431\\u0443\\u0440\\u0433, \\u0443\\u043b. 9-\\u042f \\u0421\\u043e\\u0432\\u0435\\u0442\\u0441\\u043a\\u0430\\u044f, \\u0434\\u043e\\u043c 4-6, \\u043b\\u0438\\u0442\\u0435\\u0440 \\u0410, \\u043e\\u0444\\u0438\\u0441 309\",\"7802621171\",36.0],[\"607635, \\u041d\\u0438\\u0436\\u0435\\u0433\\u043e\\u0440\\u043e\\u0434\\u0441\\u043a\\u0430\\u044f \\u043e\\u0431\\u043b, \\u041d\\u0438\\u0436\\u043d\\u0438\\u0439 \\u041d\\u043e\\u0432\\u0433\\u043e\\u0440\\u043e\\u0434 \\u0433, \\u0434. \\u041a\\u0443\\u0441\\u0430\\u043a\\u043e\\u0432\\u043a\\u0430, \\u041f\\u043e\\u043b\\u0435\\u0432\\u0430\\u044f \\u0443\\u043b, \\u0434\\u043e\\u043c \\u2116 58, \\u043f\\u043e\\u043c\\u0435\\u0449\\u0435\\u043d\\u0438\\u0435 \\u041f1\",\"5261090174\",356465.0],[\"191186, \\u0413\\u043e\\u0440\\u043e\\u0434 \\u0421\\u0430\\u043d\\u043a\\u0442-\\u041f\\u0435\\u0442\\u0435\\u0440\\u0431\\u0443\\u0440\\u0433, \\u0432\\u043d.\\u0442\\u0435\\u0440.\\u0433. \\u043c\\u0443\\u043d\\u0438\\u0446\\u0438\\u043f\\u0430\\u043b\\u044c\\u043d\\u044b\\u0439 \\u043e\\u043a\\u0440\\u0443\\u0433 \\u0414\\u0432\\u043e\\u0440\\u0446\\u043e\\u0432\\u044b\\u0439 \\u043e\\u043a\\u0440\\u0443\\u0433, \\u043f\\u0440-\\u043a\\u0442 \\u041d\\u0435\\u0432\\u0441\\u043a\\u0438\\u0439, \\u0434. 30, \\u043b\\u0438\\u0442\\u0435\\u0440\\u0430 \\u0410, \\u043f\\u043e\\u043c\\u0435\\u0449. 15-\\u041d\",\"7811225375\",21652.0],[\"105082, \\u0413\\u043e\\u0440\\u043e\\u0434 \\u041c\\u043e\\u0441\\u043a\\u0432\\u0430, \\u0432\\u043d.\\u0442\\u0435\\u0440.\\u0433. \\u043c\\u0443\\u043d\\u0438\\u0446\\u0438\\u043f\\u0430\\u043b\\u044c\\u043d\\u044b\\u0439 \\u043e\\u043a\\u0440\\u0443\\u0433 \\u0411\\u0430\\u0441\\u043c\\u0430\\u043d\\u043d\\u044b\\u0439, \\u043d\\u0430\\u0431 \\u0420\\u0443\\u0431\\u0446\\u043e\\u0432\\u0441\\u043a\\u0430\\u044f, \\u0434. 4, \\u043a. 3, \\u043f\\u043e\\u043c\\u0435\\u0449. 3\\u002f1\",\"9701239097\",2918.0],[\"660099, \\u041a\\u0440\\u0430\\u0441\\u043d\\u043e\\u044f\\u0440\\u0441\\u043a\\u0438\\u0439 \\u043a\\u0440\\u0430\\u0439, \\u0433.\\u043e. \\u0413\\u043e\\u0440\\u043e\\u0434 \\u041a\\u0440\\u0430\\u0441\\u043d\\u043e\\u044f\\u0440\\u0441\\u043a, \\u0433 \\u041a\\u0440\\u0430\\u0441\\u043d\\u043e\\u044f\\u0440\\u0441\\u043a, \\u0443\\u043b \\u0416\\u0435\\u043b\\u0435\\u0437\\u043d\\u043e\\u0434\\u043e\\u0440\\u043e\\u0436\\u043d\\u0438\\u043a\\u043e\\u0432, \\u0434\\u043e\\u043c 22\\u0414, \\u043f\\u043e\\u043c\\u0435\\u0449\\u0435\\u043d\\u0438\\u0435 77, \\u043a\\u0430\\u0431\\u0438\\u043d\\u0435\\u0442 2\",\"3811122894\",-29593.0],[\"454138, \\u0427\\u0435\\u043b\\u044f\\u0431\\u0438\\u043d\\u0441\\u043a\\u0430\\u044f \\u043e\\u0431\\u043b\\u0430\\u0441\\u0442\\u044c, \\u0433 \\u0427\\u0435\\u043b\\u044f\\u0431\\u0438\\u043d\\u0441\\u043a, \\u043f\\u0440-\\u043a\\u0442 \\u041f\\u043e\\u0431\\u0435\\u0434\\u044b, \\u0434. 288, \\u043e\\u0444\\u0438\\u0441 402\",\"7448146076\",27730.0],[\"624130, \\u0421\\u0432\\u0435\\u0440\\u0434\\u043b\\u043e\\u0432\\u0441\\u043a\\u0430\\u044f \\u043e\\u0431\\u043b, \\u0433.\\u043e. \\u041d\\u043e\\u0432\\u043e\\u0443\\u0440\\u0430\\u043b\\u044c\\u0441\\u043a\\u0438\\u0439, \\u0433 \\u041d\\u043e\\u0432\\u043e\\u0443\\u0440\\u0430\\u043b\\u044c\\u0441\\u043a, \\u0443\\u043b \\u0421\\u0435\\u0440\\u043e\\u0432\\u0430, \\u0434. 4, \",\"6629003208\",122426.0],[\"684090, \\u041a\\u0430\\u043c\\u0447\\u0430\\u0442\\u0441\\u043a\\u0438\\u0439 \\u043a\\u0440\\u0430\\u0439, \\u0433 \\u0412\\u0438\\u043b\\u044e\\u0447\\u0438\\u043d\\u0441\\u043a, \\u0443\\u043b \\u041f\\u043e\\u0431\\u0435\\u0434\\u044b, \\u0434. 6, \\u043a\\u0432. 60, \",\"4102009176\",8131.0],[\"196191, \\u0421\\u0430\\u043d\\u043a\\u0442-\\u041f\\u0435\\u0442\\u0435\\u0440\\u0431\\u0443\\u0440\\u0433 \\u0433, \\u041a\\u043e\\u043d\\u0441\\u0442\\u0438\\u0442\\u0443\\u0446\\u0438\\u0438 \\u043f\\u043b, \\u0434\\u043e\\u043c 7, \\u043b\\u0438\\u0442\\u0435\\u0440 \\u0410, \\u043f\\u043e\\u043c\\u0435\\u0449\\u0435\\u043d\\u0438\\u0435 18\\u041d, \\u043e\\u0444\\u0438\\u0441 711\",\"7811372267\",-44359.0],[\"119270, \\u0433\\u043e\\u0440\\u043e\\u0434 \\u041c\\u043e\\u0441\\u043a\\u0432\\u0430, \\u043d\\u0430\\u0431 \\u041b\\u0443\\u0436\\u043d\\u0435\\u0446\\u043a\\u0430\\u044f, \\u0434. 6, \\u0441\\u0442\\u0440. 1 \\u043e\\u0444\\u0438\\u0441 307\",\"7725316011\",26575.0],[\"644027, \\u041e\\u043c\\u0441\\u043a\\u0430\\u044f \\u043e\\u0431\\u043b., \\u0433. \\u041e\\u043c\\u0441\\u043a, \\u0443\\u043b. \\u0418\\u043d\\u0434\\u0443\\u0441\\u0442\\u0440\\u0438\\u0430\\u043b\\u044c\\u043d\\u0430\\u044f 1-\\u044f, 7\",\"5506004658\",238905.0],[\"196006, \\u0413\\u043e\\u0440\\u043e\\u0434 \\u0421\\u0430\\u043d\\u043a\\u0442-\\u041f\\u0435\\u0442\\u0435\\u0440\\u0431\\u0443\\u0440\\u0433, \\u0443\\u043b \\u0422\\u0430\\u0448\\u043a\\u0435\\u043d\\u0442\\u0441\\u043a\\u0430\\u044f, \\u0434. 1, \\u043b\\u0438\\u0442\\u0435\\u0440\\u0430 \\u0410, \\u043f\\u043e\\u043c\\u0435\\u0449. 16\\u041d\",\"7813184156\",1355.0],[\"628011, \\u0425\\u0430\\u043d\\u0442\\u044b-\\u041c\\u0430\\u043d\\u0441\\u0438\\u0439\\u0441\\u043a\\u0438\\u0439 \\u0410\\u0432\\u0442\\u043e\\u043d\\u043e\\u043c\\u043d\\u044b\\u0439 \\u043e\\u043a\\u0440\\u0443\\u0433 - \\u042e\\u0433\\u0440\\u0430 \\u0410\\u041e, \\u0433.\\u043e. \\u0425\\u0430\\u043d\\u0442\\u044b-\\u041c\\u0430\\u043d\\u0441\\u0438\\u0439\\u0441\\u043a, \\u0433 \\u0425\\u0430\\u043d\\u0442\\u044b-\\u041c\\u0430\\u043d\\u0441\\u0438\\u0439\\u0441\\u043a, \\u0443\\u043b \\u0421\\u043e\\u043b\\u043d\\u0435\\u0447\\u043d\\u0430\\u044f, \\u0437\\u0434. 20, \",\"8601038701\",9083.0],[\"143405, \\u041c\\u043e\\u0441\\u043a\\u043e\\u0432\\u0441\\u043a\\u0430\\u044f \\u043e\\u0431\\u043b\\u0430\\u0441\\u0442\\u044c, \\u0433.\\u043e. \\u041a\\u0440\\u0430\\u0441\\u043d\\u043e\\u0433\\u043e\\u0440\\u0441\\u043a, \\u0433 \\u041a\\u0440\\u0430\\u0441\\u043d\\u043e\\u0433\\u043e\\u0440\\u0441\\u043a, \\u0443\\u043b \\u0421\\u0442\\u0440\\u043e\\u0438\\u0442\\u0435\\u043b\\u044c\\u043d\\u0430\\u044f, \\u0434\\u043e\\u043c 6, \\u0441\\u0442\\u0440\\u043e\\u0435\\u043d\\u0438\\u0435 3\",\"5024242897\",7750.0],[\"117105, \\u0413\\u043e\\u0440\\u043e\\u0434 \\u041c\\u043e\\u0441\\u043a\\u0432\\u0430, \\u0432\\u043d.\\u0442\\u0435\\u0440. \\u0433. \\u041c\\u0443\\u043d\\u0438\\u0446\\u0438\\u043f\\u0430\\u043b\\u044c\\u043d\\u044b\\u0439 \\u041e\\u043a\\u0440\\u0443\\u0433 \\u0414\\u043e\\u043d\\u0441\\u043a\\u043e\\u0439, \\u0448 \\u0412\\u0430\\u0440\\u0448\\u0430\\u0432\\u0441\\u043a\\u043e\\u0435, \\u0434\\u043e\\u043c 1\\u0410, \\u043f\\u043e\\u043c\\u0435\\u0449\\u0435\\u043d\\u0438\\u0435 3\\u041a\\u002f1\\u041f\",\"7810453925\",8075.0],[\"119285, \\u0413\\u043e\\u0440\\u043e\\u0434 \\u041c\\u043e\\u0441\\u043a\\u0432\\u0430, \\u0432\\u043d.\\u0442\\u0435\\u0440.\\u0433. \\u043c\\u0443\\u043d\\u0438\\u0446\\u0438\\u043f\\u0430\\u043b\\u044c\\u043d\\u044b\\u0439 \\u043e\\u043a\\u0440\\u0443\\u0433 \\u0420\\u0430\\u043c\\u0435\\u043d\\u043a\\u0438, \\u043a\\u043c \\u041c\\u0416\\u0414 \\u041a\\u0438\\u0435\\u0432\\u0441\\u043a\\u043e\\u0435 5-\\u0439, \\u0434. 1, \\u0441\\u0442\\u0440. 1, \\u043f\\u043e\\u043c\\u0435\\u0449. 7\\u002f6\",\"7730682729\",-508508.0],[\"115230, \\u0413\\u043e\\u0440\\u043e\\u0434 \\u041c\\u043e\\u0441\\u043a\\u0432\\u0430, \\u0432\\u043d.\\u0442\\u0435\\u0440.\\u0433. \\u043c\\u0443\\u043d\\u0438\\u0446\\u0438\\u043f\\u0430\\u043b\\u044c\\u043d\\u044b\\u0439 \\u043e\\u043a\\u0440\\u0443\\u0433 \\u041d\\u0430\\u0433\\u0430\\u0442\\u0438\\u043d\\u043e-\\u0421\\u0430\\u0434\\u043e\\u0432\\u043d\\u0438\\u043a\\u0438, \\u043f\\u0440\\u043e\\u0435\\u0437\\u0434 \\u0425\\u043b\\u0435\\u0431\\u043e\\u0437\\u0430\\u0432\\u043e\\u0434\\u0441\\u043a\\u0438\\u0439, \\u0434. 7, \\u0441\\u0442\\u0440. 9, \\u043f\\u043e\\u043c\\u0435\\u0449. 31\\u0431\\u002f10\",\"3257048962\",12556.0],[\"350049, \\u041a\\u0440\\u0430\\u0441\\u043d\\u043e\\u0434\\u0430\\u0440\\u0441\\u043a\\u0438\\u0439 \\u043a\\u0440\\u0430\\u0439, \\u0433 \\u041a\\u0440\\u0430\\u0441\\u043d\\u043e\\u0434\\u0430\\u0440, \\u0443\\u043b \\u0438\\u043c. \\u0412\\u043e\\u0440\\u043e\\u0432\\u0441\\u043a\\u043e\\u0433\\u043e, 172\",\"2311170457\",3542.0],[\"111250, \\u041c\\u043e\\u0441\\u043a\\u0432\\u0430 \\u0433, \\u0417\\u0430\\u0432\\u043e\\u0434\\u0430 \\u0421\\u0435\\u0440\\u043f \\u0438 \\u041c\\u043e\\u043b\\u043e\\u0442 \\u043f\\u0440\\u043e\\u0435\\u0437\\u0434, \\u0434\\u043e\\u043c 6, \\u043e\\u0444\\u0438\\u0441 \\u043f\\u043e\\u0434 1, \\u044d\\u0442 3, \\u043e\\u0444 310\",\"7722412888\",-46700.0],[\"640021, \\u041a\\u0443\\u0440\\u0433\\u0430\\u043d\\u0441\\u043a\\u0430\\u044f \\u043e\\u0431\\u043b, \\u0433 \\u041a\\u0443\\u0440\\u0433\\u0430\\u043d, \\u0443\\u043b \\u041a\\u0443\\u0439\\u0431\\u044b\\u0448\\u0435\\u0432\\u0430, 36, 3\",\"4501090108\",23797.0],[\"423556, \\u0422\\u0430\\u0442\\u0430\\u0440\\u0441\\u0442\\u0430\\u043d \\u0440\\u0435\\u0441\\u043f, \\u041d\\u0438\\u0436\\u043d\\u0435\\u043a\\u0430\\u043c\\u0441\\u043a\\u0438\\u0439 \\u0440-\\u043d, \\u041d\\u0438\\u0436\\u043d\\u0435\\u043a\\u0430\\u043c\\u0441\\u043a \\u0433, \\u0427\\u0438\\u0441\\u0442\\u043e\\u043f\\u043e\\u043b\\u044c\\u0441\\u043a\\u0430\\u044f \\u0443\\u043b, \\u0434\\u043e\\u043c 35\\u0411, \\u043e\\u0444\\u0438\\u0441 3\",\"1651080671\",37497.0],[\"\\u0433. \\u041a\\u0440\\u0430\\u0441\\u043d\\u043e\\u0434\\u0430\\u0440, \\u0443\\u043b. \\u0438\\u043c. \\u041c\\u0438\\u0442\\u0440\\u043e\\u0444\\u0430\\u043d\\u0430 \\u0421\\u0435\\u0434\\u0438\\u043d\\u0430, \\u0434. 109, \\u043a\\u0432. 34, 350000\",\"2310223730\",105404.0],[\"660049, \\u041a\\u0440\\u0430\\u0441\\u043d\\u043e\\u044f\\u0440\\u0441\\u043a\\u0438\\u0439 \\u043a\\u0440\\u0430\\u0439, \\u041a\\u0440\\u0430\\u0441\\u043d\\u043e\\u044f\\u0440\\u0441\\u043a, \\u0414\\u0443\\u0431\\u0440\\u043e\\u0432\\u0438\\u043d\\u0441\\u043a\\u043e\\u0433\\u043e, \\u0434. 1, \\u043f\\u043e\\u043c\\u0435\\u0449. 2\",\"2465170633\",7608.0],[\"214038, \\u0421\\u043c\\u043e\\u043b\\u0435\\u043d\\u0441\\u043a\\u0430\\u044f \\u043e\\u0431\\u043b, \\u0433.\\u043e. \\u0433\\u043e\\u0440\\u043e\\u0434 \\u0421\\u043c\\u043e\\u043b\\u0435\\u043d\\u0441\\u043a, \\u0433 \\u0421\\u043c\\u043e\\u043b\\u0435\\u043d\\u0441\\u043a, \\u0443\\u043b \\u041a\\u043b\\u043e\\u0432\\u0441\\u043a\\u0430\\u044f, \\u0434. 19\\u0410, \\u043e\\u0444\\u0438\\u0441 2\",\"6732202670\",107321.0],[\"394007, \\u0412\\u043e\\u0440\\u043e\\u043d\\u0435\\u0436\\u0441\\u043a\\u0430\\u044f \\u043e\\u0431\\u043b, \\u0412\\u043e\\u0440\\u043e\\u043d\\u0435\\u0436 \\u0433, \\u041b\\u0435\\u043d\\u0438\\u043d\\u0441\\u043a\\u0438\\u0439 \\u043f\\u0440-\\u043a\\u0442, \\u0434\\u043e\\u043c 96\\u0410, \\u043f\\u043e\\u043c\\u0435\\u0449\\u0435\\u043d\\u0438\\u0435 XII\",\"3663145334\",186287.0],[\"119121, \\u041c\\u043e\\u0441\\u043a\\u0432\\u0430 \\u0433, \\u043f\\u0435\\u0440 1-\\u0439 \\u041d\\u0435\\u043e\\u043f\\u0430\\u043b\\u0438\\u043c\\u043e\\u0432\\u0441\\u043a\\u0438\\u0439, 15\\u002f7, \\u043f\\u043e\\u043c\\u0435\\u0449. 1\\u002f3\",\"9731020633\",2408.0],[\"620144, \\u0421\\u0432\\u0435\\u0440\\u0434\\u043b\\u043e\\u0432\\u0441\\u043a\\u0430\\u044f \\u043e\\u0431\\u043b, \\u0433 \\u0415\\u043a\\u0430\\u0442\\u0435\\u0440\\u0438\\u043d\\u0431\\u0443\\u0440\\u0433, \\u0443\\u043b \\u0421\\u0443\\u0440\\u0438\\u043a\\u043e\\u0432\\u0430, \\u0434 53, 102\",\"6670160730\",13271.0],[\"398041, \\u041b\\u0438\\u043f\\u0435\\u0446\\u043a\\u0430\\u044f \\u043e\\u0431\\u043b, \\u041b\\u0438\\u043f\\u0435\\u0446\\u043a \\u0433, \\u0417\\u043e\\u0438 \\u041a\\u043e\\u0441\\u043c\\u043e\\u0434\\u0435\\u043c\\u044c\\u044f\\u043d\\u0441\\u043a\\u043e\\u0439 \\u0443\\u043b, \\u0432\\u043b\\u0430\\u0434\\u0435\\u043d\\u0438\\u0435 \\u2116 224, \\u043f\\u043e\\u043c\\u0435\\u0449\\u0435\\u043d\\u0438\\u0435 7\",\"4823058324\",23.0],[\"366816, \\u0427\\u0435\\u0447\\u0435\\u043d\\u0441\\u043a\\u0430\\u044f \\u0420\\u0435\\u0441\\u043f\\u0443\\u0431\\u043b\\u0438\\u043a\\u0430, \\u0440-\\u043d \\u041d\\u0430\\u0434\\u0442\\u0435\\u0440\\u0435\\u0447\\u043d\\u044b\\u0439, \\u0441. \\u0411\\u0440\\u0430\\u0442\\u0441\\u043a\\u043e\\u0435, \\u0443\\u043b. \\u041c\\u0438\\u0440\\u0430, \\u0434\\u043e\\u043c 22\",\"2007007150\",1512.0],[\"143002, \\u041c\\u043e\\u0441\\u043a\\u043e\\u0432\\u0441\\u043a\\u0430\\u044f \\u043e\\u0431\\u043b, \\u0443\\u043b \\u0410\\u043a\\u0443\\u043b\\u043e\\u0432\\u0441\\u043a\\u0430\\u044f, 2\\u0410 , 101\",\"5032234040\",19531.0],[\"300001, \\u0422\\u0443\\u043b\\u044c\\u0441\\u043a\\u0430\\u044f \\u043e\\u0431\\u043b, \\u0433 \\u0422\\u0443\\u043b\\u0430, \\u0443\\u043b \\u041a.\\u041c\\u0430\\u0440\\u043a\\u0441\\u0430, \\u0434 5, 107\\u0430\",\"7106047347\",208408.0],[\"107031, \\u041c\\u043e\\u0441\\u043a\\u0432\\u0430 \\u0433, \\u0432\\u043d.\\u0442\\u0435\\u0440.\\u0433. \\u043c\\u0443\\u043d\\u0438\\u0446\\u0438\\u043f\\u0430\\u043b\\u044c\\u043d\\u044b\\u0439 \\u043e\\u043a\\u0440\\u0443\\u0433 \\u041c\\u0435\\u0449\\u0430\\u043d\\u0441\\u043a\\u0438\\u0439, \\u0443\\u043b \\u041a\\u0443\\u0437\\u043d\\u0435\\u0446\\u043a\\u0438\\u0439 \\u041c\\u043e\\u0441\\u0442, \\u0434. 21\\u002f5,  \\u042d\\u0442 5 \\u041f\\u043e\\u043c VI \\u041a\\u043e\\u043c 7, \",\"7702804069\",-6619.0],[\"366206, \\u0427\\u0435\\u0447\\u0435\\u043d\\u0441\\u043a\\u0430\\u044f \\u0420\\u0435\\u0441\\u043f\\u0443\\u0431\\u043b\\u0438\\u043a\\u0430, \\u0440-\\u043d \\u0413\\u0443\\u0434\\u0435\\u0440\\u043c\\u0435\\u0441\\u0441\\u043a\\u0438\\u0439, \\u0433 \\u0413\\u0443\\u0434\\u0435\\u0440\\u043c\\u0435\\u0441, \\u0443\\u043b \\u0413\\u0440\\u043e\\u0437\\u043d\\u0435\\u043d\\u0441\\u043a\\u0430\\u044f, \\u0434. 33\",\"2020001447\",37093.0],[\"308019, \\u0411\\u0435\\u043b\\u0433\\u043e\\u0440\\u043e\\u0434\\u0441\\u043a\\u0430\\u044f \\u043e\\u0431\\u043b, \\u0411\\u0435\\u043b\\u0433\\u043e\\u0440\\u043e\\u0434 \\u0433, \\u0413\\u043e\\u0440\\u044c\\u043a\\u043e\\u0433\\u043e \\u0443\\u043b, \\u0434\\u043e\\u043c 54\\u0411, \\u043f\\u043e\\u043c\\u0435\\u0449\\u0435\\u043d\\u0438\\u0435 1\",\"3123378447\",47132.0],[\"390011, \\u0420\\u044f\\u0437\\u0430\\u043d\\u0441\\u043a\\u0430\\u044f \\u043e\\u0431\\u043b\\u0430\\u0441\\u0442\\u044c, \\u0433. \\u0420\\u044f\\u0437\\u0430\\u043d\\u044c, \\u0448. \\u0420\\u044f\\u0436\\u0441\\u043a\\u043e\\u0435, \\u0434\\u043e\\u043c 14, \\u043a\\u043e\\u0440\\u043f\\u0443\\u0441 \\u041f\\u041e\\u041c\\u0415\\u0429\\u0415\\u041d\\u0418\\u0415 \\u041d1, \\u041b\\u0418\\u0422\\u0415\\u0420\\u0410 \\u0410\",\"6230101830\",29440.0],[\"\\u0433. \\u041f\\u0435\\u0440\\u043c\\u044c, \\u0443\\u043b. 3-\\u044f \\u0422\\u0435\\u043f\\u043b\\u043e\\u043f\\u0440\\u043e\\u0432\\u043e\\u0434\\u043d\\u0430\\u044f, \\u0434. 3\\u0410, 614065\",\"5905952421\",13640.0],[\"396420, \\u0412\\u043e\\u0440\\u043e\\u043d\\u0435\\u0436\\u0441\\u043a\\u0430\\u044f \\u043e\\u0431\\u043b., \\u0433.\\u041f\\u0430\\u0432\\u043b\\u043e\\u0432\\u0441\\u043a, \\u0421\\u0435\\u0432\\u0435\\u0440\\u043d\\u044b\\u0439 \\u043c\\u043a\\u0440., \\u0434.7, \\u043e\\u0444.9\",\"3620012805\",19675.0],[\"111675, \\u0413.\\u041c\\u041e\\u0421\\u041a\\u0412\\u0410, \\u0412\\u041d.\\u0422\\u0415\\u0420.\\u0413. \\u041c\\u0423\\u041d\\u0418\\u0426\\u0418\\u041f\\u0410\\u041b\\u042c\\u041d\\u042b\\u0419 \\u041e\\u041a\\u0420\\u0423\\u0413 \\u041a\\u041e\\u0421\\u0418\\u041d\\u041e-\\u0423\\u0425\\u0422\\u041e\\u041c\\u0421\\u041a\\u0418\\u0419, \\u0423\\u041b \\u0414\\u041c\\u0418\\u0422\\u0420\\u0418\\u0415\\u0412\\u0421\\u041a\\u041e\\u0413\\u041e, \\u0434. 17, \\u043f\\u043e\\u043c\\u0435\\u0449. 10\\u002f01\",\"7731264516\",137078.0],[\"197229, \\u0413\\u043e\\u0440\\u043e\\u0434 \\u0421\\u0430\\u043d\\u043a\\u0442-\\u041f\\u0435\\u0442\\u0435\\u0440\\u0431\\u0443\\u0440\\u0433, \\u0432\\u043d.\\u0442\\u0435\\u0440. \\u0433. \\u041c\\u0443\\u043d\\u0438\\u0446\\u0438\\u043f\\u0430\\u043b\\u044c\\u043d\\u044b\\u0439 \\u041e\\u043a\\u0440\\u0443\\u0433 \\u041b\\u0430\\u0445\\u0442\\u0430-\\u041e\\u043b\\u044c\\u0433\\u0438\\u043d\\u043e, \\u043f\\u0440-\\u043a\\u0442 \\u041b\\u0430\\u0445\\u0442\\u0438\\u043d\\u0441\\u043a\\u0438\\u0439, \\u0434\\u043e\\u043c 129, \\u043b\\u0438\\u0442\\u0435\\u0440\\u0430 \\u0411, \\u043f\\u043e\\u043c\\u0435\\u0449\\u0435\\u043d\\u0438\\u0435 19\",\"7802479711\",109312.0],[\"150001, \\u042f\\u0440\\u043e\\u0441\\u043b\\u0430\\u0432\\u0441\\u043a\\u0430\\u044f \\u043e\\u0431\\u043b, \\u042f\\u0440\\u043e\\u0441\\u043b\\u0430\\u0432\\u043b\\u044c \\u0433, \\u041c\\u043e\\u0441\\u043a\\u043e\\u0432\\u0441\\u043a\\u0438\\u0439 \\u043f\\u0440-\\u043a\\u0442, \\u0434\\u043e\\u043c \\u2116 31\",\"7604259048\",10115.0],[\"623110, \\u0421\\u0432\\u0435\\u0440\\u0434\\u043b\\u043e\\u0432\\u0441\\u043a\\u0430\\u044f \\u043e\\u0431\\u043b, \\u041f\\u0435\\u0440\\u0432\\u043e\\u0443\\u0440\\u0430\\u043b\\u044c\\u0441\\u043a \\u0433, \\u0411\\u0435\\u043b\\u0438\\u043d\\u0441\\u043a\\u043e\\u0433\\u043e \\u0443\\u043b, \\u0434\\u043e\\u043c \\u2116 98\",\"6684027070\",19385.0],[\"443524, \\u0421\\u0430\\u043c\\u0430\\u0440\\u0441\\u043a\\u0430\\u044f \\u043e\\u0431\\u043b, \\u0412\\u043e\\u043b\\u0436\\u0441\\u043a\\u0438\\u0439 \\u0440-\\u043d, \\u041f\\u043e\\u0434\\u044a\\u0435\\u043c-\\u041c\\u0438\\u0445\\u0430\\u0439\\u043b\\u043e\\u0432\\u043a\\u0430 \\u0441, \\u0421\\u043e\\u0432\\u0435\\u0442\\u0441\\u043a\\u0430\\u044f \\u0443\\u043b, \\u0434\\u043e\\u043c 1\\u0410, \\u043a\\u043e\\u043c\\u043d\\u0430\\u0442\\u0430 11\",\"6316119677\",57336.0],[\"121601, \\u041c\\u043e\\u0441\\u043a\\u0432\\u0430 \\u0433, \\u0431-\\u0440 \\u0424\\u0438\\u043b\\u0451\\u0432\\u0441\\u043a\\u0438\\u0439, 40, \\u043f\\u043e\\u043c. 5\\u002f1\",\"5040095110\",2293.0],[\"420085, \\u0422\\u0430\\u0442\\u0430\\u0440\\u0441\\u0442\\u0430\\u043d \\u0420\\u0435\\u0441\\u043f, \\u0433 \\u041a\\u0430\\u0437\\u0430\\u043d\\u044c, \\u0443\\u043b \\u041e\\u0431\\u043d\\u043e\\u0440\\u0441\\u043a\\u043e\\u0433\\u043e, \\u0434. 208, \\u043a. 1, \\u043e\\u0444\\u0438\\u0441 3\",\"1661057880\",23504.0],[\"425200, \\u041c\\u0430\\u0440\\u0438\\u0439 \\u042d\\u043b \\u0420\\u0435\\u0441\\u043f, \\u041c\\u0435\\u0434\\u0432\\u0435\\u0434\\u0435\\u0432\\u043e \\u043f\\u0433\\u0442, \\u0427\\u0435\\u0445\\u043e\\u0432\\u0430 \\u0443\\u043b, \\u0434\\u043e\\u043c \\u2116 24\",\"1207008978\",23213.0],[\"620902, \\u0421\\u0432\\u0435\\u0440\\u0434\\u043b\\u043e\\u0432\\u0441\\u043a\\u0430\\u044f \\u043e\\u0431\\u043b, \\u0433 \\u0415\\u043a\\u0430\\u0442\\u0435\\u0440\\u0438\\u043d\\u0431\\u0443\\u0440\\u0433, \\u0441 \\u0413\\u043e\\u0440\\u043d\\u044b\\u0439 \\u0429\\u0438\\u0442, \\u0443\\u043b \\u0421\\u0432\\u0435\\u0440\\u0434\\u043b\\u043e\\u0432\\u0430, \\u0441\\u0442\\u0440 48\",\"6658473007\",137149.0],[\"628126, \\u0425\\u0430\\u043d\\u0442\\u044b-\\u041c\\u0430\\u043d\\u0441\\u0438\\u0439\\u0441\\u043a\\u0438\\u0439 \\u0410\\u0432\\u0442\\u043e\\u043d\\u043e\\u043c\\u043d\\u044b\\u0439 \\u043e\\u043a\\u0440\\u0443\\u0433 - \\u042e\\u0433\\u0440\\u0430 \\u0410\\u041e, \\u0440-\\u043d \\u041e\\u043a\\u0442\\u044f\\u0431\\u0440\\u044c\\u0441\\u043a\\u0438\\u0439, \\u043f\\u0433\\u0442 \\u041f\\u0440\\u0438\\u043e\\u0431\\u044c\\u0435, \\u0443\\u043b 50 \\u043b\\u0435\\u0442 \\u041f\\u043e\\u0431\\u0435\\u0434\\u044b, \\u0434 6\",\"8610017257\",91341.0],[\"170040, \\u0422\\u0432\\u0435\\u0440\\u0441\\u043a\\u0430\\u044f \\u043e\\u0431\\u043b, \\u0433 \\u0422\\u0432\\u0435\\u0440\\u044c, \\u0448 \\u0421\\u0442\\u0430\\u0440\\u0438\\u0446\\u043a\\u043e\\u0435, \\u0434 18 \\u0441\\u0442\\u0440 1, \\u041e\\u0444\\u0438\\u0441 \\u041f\\u043e\\u043c\\u0435\\u0449\\u0435\\u043d\\u0438\\u0435\",\"7722762089\",36053.0],[\"115201, \\u041c\\u043e\\u0441\\u043a\\u0432\\u0430 \\u0433, \\u0432\\u043d.\\u0442\\u0435\\u0440.\\u0433. \\u043c\\u0443\\u043d\\u0438\\u0446\\u0438\\u043f\\u0430\\u043b\\u044c\\u043d\\u044b\\u0439 \\u043e\\u043a\\u0440\\u0443\\u0433 \\u041c\\u043e\\u0441\\u043a\\u0432\\u043e\\u0440\\u0435\\u0447\\u044c\\u0435-\\u0421\\u0430\\u0431\\u0443\\u0440\\u043e\\u0432\\u043e, \\u043f\\u0435\\u0440 1-\\u0439 \\u041a\\u043e\\u0442\\u043b\\u044f\\u043a\\u043e\\u0432\\u0441\\u043a\\u0438\\u0439, \\u0434. 4\\u0410, \",\"5902888746\",10581.0],[\"141402, \\u041c\\u043e\\u0441\\u043a\\u043e\\u0432\\u0441\\u043a\\u0430\\u044f \\u043e\\u0431\\u043b, \\u0433.\\u043e. \\u0425\\u0438\\u043c\\u043a\\u0438, \\u0433 \\u0425\\u0438\\u043c\\u043a\\u0438, \\u0443\\u043b \\u041b\\u0435\\u043d\\u0438\\u043d\\u0433\\u0440\\u0430\\u0434\\u0441\\u043a\\u0430\\u044f, \\u0434. 29, \\u043a\\u0432. 915\\u002f3, \",\"5047241949\",48768.0],[\"125212, \\u041c\\u043e\\u0441\\u043a\\u0432\\u0430 \\u0433, \\u0443\\u043b \\u0410\\u0434\\u043c\\u0438\\u0440\\u0430\\u043b\\u0430 \\u041c\\u0430\\u043a\\u0430\\u0440\\u043e\\u0432\\u0430, \\u0434 6 \\u0441\\u0442\\u0440 13\",\"7743862535\",205882.0],[\"115054, \\u0413\\u043e\\u0440\\u043e\\u0434 \\u041c\\u043e\\u0441\\u043a\\u0432\\u0430, \\u0432\\u043d.\\u0442\\u0435\\u0440.\\u0433. \\u043c\\u0443\\u043d\\u0438\\u0446\\u0438\\u043f\\u0430\\u043b\\u044c\\u043d\\u044b\\u0439 \\u043e\\u043a\\u0440\\u0443\\u0433 \\u0417\\u0430\\u043c\\u043e\\u0441\\u043a\\u0432\\u043e\\u0440\\u0435\\u0447\\u044c\\u0435, \\u0443\\u043b \\u0411\\u043e\\u043b\\u044c\\u0448\\u0430\\u044f \\u041f\\u0438\\u043e\\u043d\\u0435\\u0440\\u0441\\u043a\\u0430\\u044f, \\u0434. 15, \\u0441\\u0442\\u0440. 1, \\u043f\\u043e\\u043c\\u0435\\u0449. 1\\u002f1\",\"5074036642\",1200.0],[\"443125, \\u0421\\u0430\\u043c\\u0430\\u0440\\u0441\\u043a\\u0430\\u044f \\u043e\\u0431\\u043b, \\u0421\\u0430\\u043c\\u0430\\u0440\\u0430 \\u0433, \\u0413\\u0443\\u0431\\u0430\\u043d\\u043e\\u0432\\u0430 \\u0443\\u043b, \\u0434\\u043e\\u043c \\u2116 20\\u0410, \\u043e\\u0444\\u0438\\u0441 40\",\"6316121027\",30315.0],[\"690091, \\u041f\\u0440\\u0438\\u043c\\u043e\\u0440\\u0441\\u043a\\u0438\\u0439 \\u043a\\u0440\\u0430\\u0439, \\u0433 \\u0412\\u043b\\u0430\\u0434\\u0438\\u0432\\u043e\\u0441\\u0442\\u043e\\u043a, \\u0443\\u043b \\u0410\\u043a\\u0441\\u0430\\u043a\\u043e\\u0432\\u0441\\u043a\\u0430\\u044f, \\u0437\\u0434. 3\\u0432, \\u043f\\u043e\\u043c. 4\",\"2538148230\",14957.0],[\"191119, \\u0421\\u0430\\u043d\\u043a\\u0442-\\u041f\\u0435\\u0442\\u0435\\u0440\\u0431\\u0443\\u0440\\u0433 \\u0433, \\u041b\\u0438\\u0433\\u043e\\u0432\\u0441\\u043a\\u0438\\u0439 \\u043f\\u0440-\\u043a\\u0442, \\u0434\\u043e\\u043c 94, \\u043a\\u043e\\u0440\\u043f\\u0443\\u0441 2, \\u043b\\u0438\\u0442. \\u0410, \\u043f\\u043e\\u043c\\u0435\\u0449\\u0435\\u043d\\u0438\\u0435 8\\u041d\",\"7842400362\",577.0],[\"173021, \\u041d\\u043e\\u0432\\u0433\\u043e\\u0440\\u043e\\u0434\\u0441\\u043a\\u0430\\u044f \\u043e\\u0431\\u043b, \\u0440-\\u043d \\u041d\\u043e\\u0432\\u0433\\u043e\\u0440\\u043e\\u0434\\u0441\\u043a\\u0438\\u0439, \\u0434 \\u041d\\u043e\\u0432\\u0430\\u044f \\u041c\\u0435\\u043b\\u044c\\u043d\\u0438\\u0446\\u0430, 102\\u0411, 32\",\"5310013513\",17477.0],[\"620078, \\u0421\\u0432\\u0435\\u0440\\u0434\\u043b\\u043e\\u0432\\u0441\\u043a\\u0430\\u044f \\u043e\\u0431\\u043b, \\u0433 \\u0415\\u043a\\u0430\\u0442\\u0435\\u0440\\u0438\\u043d\\u0431\\u0443\\u0440\\u0433, \\u0443\\u043b \\u0411\\u0438\\u0431\\u043b\\u0438\\u043e\\u0442\\u0435\\u0447\\u043d\\u0430\\u044f, \\u0441\\u0442\\u0440 41\\u0430, 206\",\"6670390653\",3343.0],[\"664035, \\u0418\\u0440\\u043a\\u0443\\u0442\\u0441\\u043a\\u0430\\u044f \\u043e\\u0431\\u043b, \\u0433 \\u0418\\u0440\\u043a\\u0443\\u0442\\u0441\\u043a, \\u0443\\u043b \\u0421\\u0443\\u0440\\u043d\\u043e\\u0432\\u0430, 56\",\"3849057370\",6579.0],[\"107150, \\u041c\\u043e\\u0441\\u043a\\u0432\\u0430 \\u0433, \\u0443\\u043b \\u0411\\u043e\\u0439\\u0446\\u043e\\u0432\\u0430\\u044f, 27, \\u041f\\u043e\\u043c\\u0435\\u0449. 55 \\u043e\\u0444\\u0438\\u0441 316\",\"9718074439\",179.0],[\"630005, \\u041d\\u043e\\u0432\\u043e\\u0441\\u0438\\u0431\\u0438\\u0440\\u0441\\u043a\\u0430\\u044f \\u043e\\u0431\\u043b\\u0430\\u0441\\u0442\\u044c, \\u0433 \\u041d\\u043e\\u0432\\u043e\\u0441\\u0438\\u0431\\u0438\\u0440\\u0441\\u043a, \\u0443\\u043b \\u041a\\u0440\\u044b\\u043b\\u043e\\u0432\\u0430, \\u0437\\u0434\\u0430\\u043d\\u0438\\u0435 36, \\u043e\\u0444\\u0438\\u0441 419\",\"5406377430\",101998.0],[\"607233, \\u041d\\u0438\\u0436\\u0435\\u0433\\u043e\\u0440\\u043e\\u0434\\u0441\\u043a\\u0430\\u044f \\u043e\\u0431\\u043b, \\u0433.\\u0410\\u0440\\u0437\\u0430\\u043c\\u0430\\u0441, \\u0443\\u043b.\\u041b\\u0435\\u043d\\u0438\\u043d\\u0430, \\u0434.116\",\"5243019316\",25480.0],[\"626151, \\u0422\\u044e\\u043c\\u0435\\u043d\\u0441\\u043a\\u0430\\u044f \\u043e\\u0431\\u043b, \\u0422\\u043e\\u0431\\u043e\\u043b\\u044c\\u0441\\u043a \\u0433, \\u041a\\u043e\\u043d\\u0434\\u0438\\u043d\\u0441\\u043a\\u0430\\u044f \\u0443\\u043b, \\u0434\\u043e\\u043c \\u2116 10\\u002f2, \\u043e\\u0444\\u0438\\u0441 1\",\"7206047284\",36472.0],[\"429965, \\u0427\\u0443\\u0432\\u0430\\u0448\\u0441\\u043a\\u0430\\u044f \\u0420\\u0435\\u0441\\u043f\\u0443\\u0431\\u043b\\u0438\\u043a\\u0430 - \\u0427\\u0443\\u0432\\u0430\\u0448\\u0438\\u044f, \\u0433 \\u041d\\u043e\\u0432\\u043e\\u0447\\u0435\\u0431\\u043e\\u043a\\u0441\\u0430\\u0440\\u0441\\u043a, \\u0443\\u043b \\u041f\\u0440\\u043e\\u043c\\u044b\\u0448\\u043b\\u0435\\u043d\\u043d\\u0430\\u044f, \\u0432\\u043b\\u0434 73\",\"2124000409\",88849.0],[\"\\u0427\\u0435\\u043b\\u044f\\u0431\\u0438\\u043d\\u0441\\u043a\\u0438\\u0439 \\u0433.\\u043e., \\u0427\\u0435\\u043b\\u044f\\u0431\\u0438\\u043d\\u0441\\u043a \\u0433, \\u041a\\u043e\\u043d\\u0441\\u0442\\u0438\\u0442\\u0443\\u0446\\u0438\\u0438 \\u0443\\u043b, 4, 454087\",\"7736274564\",29290.0],[\"115172, \\u041c\\u043e\\u0441\\u043a\\u0432\\u0430 \\u0433, \\u0443\\u043b \\u0411\\u043e\\u043b\\u044c\\u0448\\u0438\\u0435 \\u041a\\u0430\\u043c\\u0435\\u043d\\u0449\\u0438\\u043a\\u0438, \\u0434. 1, \\u044d\\u0442\\u0430\\u0436 5 \\u041f\\u041e\\u041c I \\u041a 6\",\"7734589946\",58382.0],[\" \",\"2543154857\",-54620.0],[\"194017, \\u0421\\u0430\\u043d\\u043a\\u0442-\\u041f\\u0435\\u0442\\u0435\\u0440\\u0431\\u0443\\u0440\\u0433 \\u0433, \\u043f\\u0440-\\u043a\\u0442 \\u0423\\u0434\\u0435\\u043b\\u044c\\u043d\\u044b\\u0439, \\u0434 5 \\u043b\\u0438\\u0442\\u0435\\u0440\\u0430 \\u0410, \\u041f\\u043e\\u043c 16-\\u041d\\u002f2-8\",\"7802856889\",43871.0],[\"199178, \\u0421\\u0430\\u043d\\u043a\\u0442-\\u041f\\u0435\\u0442\\u0435\\u0440\\u0431\\u0443\\u0440\\u0433 \\u0433, \\u0420\\u0435\\u043a\\u0438 \\u0421\\u043c\\u043e\\u043b\\u0435\\u043d\\u043a\\u0438 \\u043d\\u0430\\u0431, \\u0434\\u043e\\u043c \\u2116 5-7, \\u043b\\u0438\\u0442\\u0435\\u0440 \\u0414, \\u043f\\u043e\\u043c.3\\u041d, \\u043e\\u0444\\u0438\\u0441 339\",\"7810006934\",16001.0],[\"141006, \\u041c\\u043e\\u0441\\u043a\\u043e\\u0432\\u0441\\u043a\\u0430\\u044f \\u043e\\u0431\\u043b\\u0430\\u0441\\u0442\\u044c, \\u0433.\\u043e. \\u041c\\u044b\\u0442\\u0438\\u0449\\u0438, \\u0433 \\u041c\\u044b\\u0442\\u0438\\u0449\\u0438, \\u043f\\u0440\\u043e\\u0435\\u0437\\u0434 \\u0428\\u0430\\u0440\\u0430\\u043f\\u043e\\u0432\\u0441\\u043a\\u0438\\u0439, \\u0432\\u043b\\u0434. 2, \\u043f\\u043e\\u043c\\u0435\\u0449. 82\",\"5029283311\",1733.0],[\"160026, \\u0412\\u043e\\u043b\\u043e\\u0433\\u043e\\u0434\\u0441\\u043a\\u0430\\u044f \\u043e\\u0431\\u043b, \\u0412\\u043e\\u043b\\u043e\\u0433\\u0434\\u0430 \\u0433, \\u041f\\u0430\\u043d\\u043a\\u0440\\u0430\\u0442\\u043e\\u0432\\u0430 \\u0443\\u043b, \\u0434\\u043e\\u043c \\u2116 40, \\u043f\\u043e\\u043c\\u0435\\u0449\\u0435\\u043d\\u0438\\u0435 60\",\"3525319233\",32539.0],[\"117042, \\u0433\\u043e\\u0440\\u043e\\u0434 \\u041c\\u043e\\u0441\\u043a\\u0432\\u0430, \\u0427\\u0435\\u0447\\u0451\\u0440\\u0441\\u043a\\u0438\\u0439 \\u043f\\u0440\\u043e\\u0435\\u0437\\u0434, \\u0434. 122 \\u043a. 1, \\u043f\\u043e\\u043c\\u0435\\u0449. 9\\u043d \",\"7743379254\",108.0],[\"198320, \\u0433\\u043e\\u0440\\u043e\\u0434 \\u0421\\u0430\\u043d\\u043a\\u0442-\\u041f\\u0435\\u0442\\u0435\\u0440\\u0431\\u0443\\u0440\\u0433, \\u0432\\u043d.\\u0442\\u0435\\u0440. \\u0433. \\u0413\\u043e\\u0440\\u043e\\u0434 \\u041a\\u0440\\u0430\\u0441\\u043d\\u043e\\u0435 \\u0421\\u0435\\u043b\\u043e, \\u0443\\u043b \\u0421\\u0432\\u043e\\u0431\\u043e\\u0434\\u044b, \\u0434\\u043e\\u043c 48\\u0410, \\u043b\\u0438\\u0442\\u0435\\u0440\\u0430 \\u0410, \\u043f\\u043e\\u043c\\u0435\\u0449\\u0435\\u043d\\u0438\\u0435 7\",\"7807369007\",335203.0],[\"603093, \\u041d\\u0438\\u0436\\u0435\\u0433\\u043e\\u0440\\u043e\\u0434\\u0441\\u043a\\u0430\\u044f \\u043e\\u0431\\u043b\\u0430\\u0441\\u0442\\u044c, \\u0433. \\u041d\\u0438\\u0436\\u043d\\u0438\\u0439 \\u041d\\u043e\\u0432\\u0433\\u043e\\u0440\\u043e\\u0434, \\u0443\\u043b. \\u042f\\u0431\\u043b\\u043e\\u043d\\u0435\\u0432\\u0430\\u044f, \\u0434\\u043e\\u043c 28, \\u043b\\u0438\\u0442\\u0435\\u0440 \\u041f, \\u043a\\u043e\\u043c\\u043d\\u0430\\u0442\\u0430 102\\u002f4\",\"5257145631\",379579.0],[\"650023, \\u041a\\u0435\\u043c\\u0435\\u0440\\u043e\\u0432\\u0441\\u043a\\u0430\\u044f \\u043e\\u0431\\u043b\\u0430\\u0441\\u0442\\u044c - \\u041a\\u0443\\u0437\\u0431\\u0430\\u0441\\u0441, \\u041a\\u0435\\u043c\\u0435\\u0440\\u043e\\u0432\\u043e \\u0433, \\u041e\\u043a\\u0442\\u044f\\u0431\\u0440\\u044c\\u0441\\u043a\\u0438\\u0439 \\u043f\\u0440-\\u043a\\u0442, \\u0434\\u043e\\u043c 38\",\"4206024725\",168566.0],[\"610010, \\u041a\\u0438\\u0440\\u043e\\u0432\\u0441\\u043a\\u0430\\u044f \\u043e\\u0431\\u043b, \\u041a\\u0438\\u0440\\u043e\\u0432 \\u0433, \\u0420\\u0430\\u0434\\u0443\\u0436\\u043d\\u044b\\u0439 \\u043c\\u043a\\u0440, \\u041f\\u0440\\u043e\\u0438\\u0437\\u0432\\u043e\\u0434\\u0441\\u0442\\u0432\\u0435\\u043d\\u043d\\u0430\\u044f \\u0443\\u043b, \\u0434\\u043e\\u043c \\u2116 9, \\u043e\\u0444. 5\",\"4345490508\",308359.0],[\"693022, \\u0421\\u0430\\u0445\\u0430\\u043b\\u0438\\u043d\\u0441\\u043a\\u0430\\u044f \\u043e\\u0431\\u043b\\u0430\\u0441\\u0442\\u044c, \\u0433 \\u042e\\u0436\\u043d\\u043e-\\u0421\\u0430\\u0445\\u0430\\u043b\\u0438\\u043d\\u0441\\u043a, \\u043f\\u002f\\u0440 \\u041d\\u043e\\u0432\\u043e-\\u0410\\u043b\\u0435\\u043a\\u0441\\u0430\\u043d\\u0434\\u0440\\u043e\\u0432\\u0441\\u043a, \\u0443\\u043b 2-\\u044f \\u041a\\u0440\\u0430\\u0441\\u043d\\u043e\\u0441\\u0435\\u043b\\u044c\\u0441\\u043a\\u0430\\u044f, \\u0434. 1\\u002f4\",\"6501272341\",32719.0],[\"117452, \\u0413\\u043e\\u0440\\u043e\\u0434 \\u041c\\u043e\\u0441\\u043a\\u0432\\u0430, \\u0432\\u043d.\\u0442\\u0435\\u0440.\\u0433. \\u043c\\u0443\\u043d\\u0438\\u0446\\u0438\\u043f\\u0430\\u043b\\u044c\\u043d\\u044b\\u0439 \\u043e\\u043a\\u0440\\u0443\\u0433 \\u0417\\u044e\\u0437\\u0438\\u043d\\u043e, \\u043f\\u0440-\\u043a\\u0442 \\u0411\\u0430\\u043b\\u0430\\u043a\\u043b\\u0430\\u0432\\u0441\\u043a\\u0438\\u0439, \\u0434. 24, \\u043a. 1, \\u043f\\u043e\\u043c\\u0435\\u0449. 1\\u002f1\",\"9727026960\",26211.0],[\"386107, \\u0420\\u0435\\u0441\\u043f\\u0443\\u0431\\u043b\\u0438\\u043a\\u0430 \\u0418\\u043d\\u0433\\u0443\\u0448\\u0435\\u0442\\u0438\\u044f, \\u0433.\\u043e. \\u0433\\u043e\\u0440\\u043e\\u0434 \\u041d\\u0430\\u0437\\u0440\\u0430\\u043d\\u044c, \\u0442\\u0435\\u0440 \\u0426\\u0435\\u043d\\u0442\\u0440\\u0430\\u043b\\u044c\\u043d\\u044b\\u0439 \\u043e\\u043a\\u0440\\u0443\\u0433, \\u0443\\u043b \\u0422\\u0430\\u043d\\u0433\\u0438\\u0435\\u0432\\u0430 \\u0410-\\u0413.\\u0414., \\u0434. 45\",\"0608040896\",54592.0],[\"143581, \\u041c\\u043e\\u0441\\u043a\\u043e\\u0432\\u0441\\u043a\\u0430\\u044f \\u043e\\u0431\\u043b\\u0430\\u0441\\u0442\\u044c, \\u0433.\\u043e. \\u0418\\u0441\\u0442\\u0440\\u0430, \\u0441 \\u041f\\u0430\\u0432\\u043b\\u043e\\u0432\\u0441\\u043a\\u0430\\u044f \\u0421\\u043b\\u043e\\u0431\\u043e\\u0434\\u0430, \\u0443\\u043b \\u041a\\u043e\\u043c\\u0441\\u043e\\u043c\\u043e\\u043b\\u044c\\u0441\\u043a\\u0430\\u044f, \\u0434. 3\\u0411\",\"5012075539\",-60879.0],[\"125130, \\u041c\\u043e\\u0441\\u043a\\u0432\\u0430 \\u0433, \\u0417\\u043e\\u0438 \\u0418 \\u0410\\u043b\\u0435\\u043a\\u0441\\u0430\\u043d\\u0434\\u0440\\u0430 \\u041a\\u043e\\u0441\\u043c\\u043e\\u0434\\u0435\\u043c\\u044c\\u044f\\u043d\\u0441\\u043a\\u0438\\u0445 \\u0443\\u043b, \\u0434\\u043e\\u043c 27, \\u043a\\u0432\\u0430\\u0440\\u0442\\u0438\\u0440\\u0430 9\",\"7743307059\",141534.0],[\"115191, \\u0413\\u043e\\u0440\\u043e\\u0434 \\u041c\\u043e\\u0441\\u043a\\u0432\\u0430, \\u0432\\u043d.\\u0442\\u0435\\u0440. \\u0433. \\u041c\\u0443\\u043d\\u0438\\u0446\\u0438\\u043f\\u0430\\u043b\\u044c\\u043d\\u044b\\u0439 \\u041e\\u043a\\u0440\\u0443\\u0433 \\u0414\\u043e\\u043d\\u0441\\u043a\\u043e\\u0439, \\u043f\\u0435\\u0440 \\u0414\\u0443\\u0445\\u043e\\u0432\\u0441\\u043a\\u043e\\u0439, \\u0434\\u043e\\u043c 17, \\u0441\\u0442\\u0440\\u043e\\u0435\\u043d\\u0438\\u0435 15, \\u043f\\u043e\\u043c\\u0435\\u0449\\u0435\\u043d\\u0438\\u0435 12\\u041d\\u002f2\",\"7726643974\",19137.0],[\"445043, \\u0421\\u0430\\u043c\\u0430\\u0440\\u0441\\u043a\\u0430\\u044f \\u043e\\u0431\\u043b, \\u0433 \\u0422\\u043e\\u043b\\u044c\\u044f\\u0442\\u0442\\u0438, \\u0448 \\u042e\\u0436\\u043d\\u043e\\u0435, \\u0437\\u0434. 103\\u0410, \\u043e\\u0444\\u0438\\u0441 4, \\u043f\\u043e\\u043c\\u0435\\u0449. 6\",\"6324081498\",2701.0],[\"398501, \\u041b\\u0438\\u043f\\u0435\\u0446\\u043a\\u0430\\u044f \\u043e\\u0431\\u043b, \\u043c.\\u0440-\\u043d \\u041b\\u0438\\u043f\\u0435\\u0446\\u043a\\u0438\\u0439, \\u0441.\\u043f. \\u041a\\u0443\\u0437\\u044c\\u043c\\u0438\\u043d\\u043e-\\u041e\\u0442\\u0432\\u0435\\u0440\\u0436\\u0441\\u043a\\u0438\\u0439 \\u0441\\u0435\\u043b\\u044c\\u0441\\u043e\\u0432\\u0435\\u0442, \\u0442\\u0435\\u0440. \\u041a\\u043e\\u043c\\u043f\\u043b\\u0435\\u043a\\u0441 \\u0420\\u0443\\u0434\\u043d\\u0438\\u0447\\u043d\\u044b\\u0439, \\u0437\\u0434. 5\",\"4825086937\",133520.0],[\"603000, \\u041d\\u0438\\u0436\\u0435\\u0433\\u043e\\u0440\\u043e\\u0434\\u0441\\u043a\\u0430\\u044f \\u043e\\u0431\\u043b, \\u0433 \\u041d\\u0438\\u0436\\u043d\\u0438\\u0439 \\u041d\\u043e\\u0432\\u0433\\u043e\\u0440\\u043e\\u0434, \\u0443\\u043b \\u0411\\u0435\\u043b\\u0438\\u043d\\u0441\\u043a\\u043e\\u0433\\u043e, \\u0434 32, \\u041f110\",\"5260489255\",-1606.0],[\"195279, \\u0413\\u043e\\u0440\\u043e\\u0434 \\u0421\\u0430\\u043d\\u043a\\u0442-\\u041f\\u0435\\u0442\\u0435\\u0440\\u0431\\u0443\\u0440\\u0433, \\u0432\\u043d.\\u0442\\u0435\\u0440.\\u0433. \\u043c\\u0443\\u043d\\u0438\\u0446\\u0438\\u043f\\u0430\\u043b\\u044c\\u043d\\u044b\\u0439 \\u043e\\u043a\\u0440\\u0443\\u0433 \\u0420\\u0436\\u0435\\u0432\\u043a\\u0430, \\u0448 \\u0420\\u0435\\u0432\\u043e\\u043b\\u044e\\u0446\\u0438\\u0438, \\u0414\\u043e\\u043c 69, \\u041b\\u0438\\u0442\\u0435\\u0440\\u0430 \\u0410, \\u043f\\u043e\\u043c\\u0435\\u0449. 12\\u041d \\u0427\\u0410\\u0421\\u0422\\u042c \\u041f\\u0418\\u0411 92\",\"7805316137\",9160.0],[\"620000, \\u0421\\u0432\\u0435\\u0440\\u0434\\u043b\\u043e\\u0432\\u0441\\u043a\\u0430\\u044f \\u043e\\u0431\\u043b, \\u0433 \\u0415\\u043a\\u0430\\u0442\\u0435\\u0440\\u0438\\u043d\\u0431\\u0443\\u0440\\u0433, \\u0443\\u043b \\u0411\\u043e\\u0440\\u0438\\u0441\\u0430 \\u0415\\u043b\\u044c\\u0446\\u0438\\u043d\\u0430, 1\\u0430, 10.10\",\"6679071411\",126658.0],[\"633010, \\u041d\\u043e\\u0432\\u043e\\u0441\\u0438\\u0431\\u0438\\u0440\\u0441\\u043a\\u0430\\u044f \\u043e\\u0431\\u043b, \\u0411\\u0435\\u0440\\u0434\\u0441\\u043a \\u0433, \\u041b\\u0435\\u043d\\u0438\\u043d\\u0430 \\u0443\\u043b, \\u0434\\u043e\\u043c \\u2116 69\",\"5445005958\",182117.0],[\"426072, \\u0423\\u0434\\u043c\\u0443\\u0440\\u0442\\u0441\\u043a\\u0430\\u044f \\u0440\\u0435\\u0441\\u043f, \\u0433 \\u0418\\u0436\\u0435\\u0432\\u0441\\u043a, \\u0443\\u043b \\u041c\\u043e\\u043b\\u043e\\u0434\\u0435\\u0436\\u043d\\u0430\\u044f, \\u0434. 46, \\u043f\\u043e\\u043c\\u0435\\u0449. 63\",\"1840068380\",6488.0],[\"192007, \\u0421\\u0430\\u043d\\u043a\\u0442-\\u041f\\u0435\\u0442\\u0435\\u0440\\u0431\\u0443\\u0440\\u0433 \\u0433, \\u043f\\u0440-\\u043a\\u0442 \\u041b\\u0438\\u0433\\u043e\\u0432\\u0441\\u043a\\u0438\\u0439, \\u0434. 200\\u0430, \\u043b\\u0438\\u0442\\u0435\\u0440\\u0430 \\u0410, \\u043f\\u043e\\u043c\\u0435\\u0449. 7\\u041d\",\"7816131635\",159967.0],[\"355000, \\u0421\\u0442\\u0430\\u0432\\u0440\\u043e\\u043f\\u043e\\u043b\\u044c\\u0441\\u043a\\u0438\\u0439 \\u043a\\u0440\\u0430\\u0439, \\u0433\\u043e\\u0440\\u043e\\u0434\\u0441\\u043a\\u043e\\u0439 \\u043e\\u043a\\u0440\\u0443\\u0433 \\u0433\\u043e\\u0440\\u043e\\u0434 \\u0421\\u0442\\u0430\\u0432\\u0440\\u043e\\u043f\\u043e\\u043b\\u044c, \\u0421\\u0442\\u0430\\u0432\\u0440\\u043e\\u043f\\u043e\\u043b\\u044c \\u0433, \\u041a\\u0443\\u043b\\u0430\\u043a\\u043e\\u0432\\u0430 \\u043f\\u0440-\\u043a\\u0442, \\u0434\\u043e\\u043c 10\\u0434, \\u043e\\u0444\\u0438\\u0441 207\\u0410\",\"2636036951\",21697.0],[\"141201, \\u041c\\u043e\\u0441\\u043a\\u043e\\u0432\\u0441\\u043a\\u0430\\u044f \\u043e\\u0431\\u043b, \\u041f\\u0443\\u0448\\u043a\\u0438\\u043d\\u0441\\u043a\\u0438\\u0439 \\u0440-\\u043d, \\u041f\\u0443\\u0448\\u043a\\u0438\\u043d\\u043e \\u0433, \\u042f\\u0440\\u043e\\u0441\\u043b\\u0430\\u0432\\u0441\\u043a\\u043e\\u0435 \\u0448, \\u0434\\u043e\\u043c 2\\u0412, \\u043f\\u043e\\u043c\\u0435\\u0449\\u0435\\u043d\\u0438\\u0435 41\",\"5038135020\",19077.0],[\"309560, \\u0411\\u0435\\u043b\\u0433\\u043e\\u0440\\u043e\\u0434\\u0441\\u043a\\u0430\\u044f \\u043e\\u0431\\u043b\\u0430\\u0441\\u0442\\u044c, \\u0440-\\u043d \\u0427\\u0435\\u0440\\u043d\\u044f\\u043d\\u0441\\u043a\\u0438\\u0439, \\u043f. \\u0427\\u0435\\u0440\\u043d\\u044f\\u043d\\u043a\\u0430, \\u043f\\u043b. \\u041e\\u043a\\u0442\\u044f\\u0431\\u0440\\u044c\\u0441\\u043a\\u0430\\u044f, \\u0434\\u043e\\u043c 13\",\"3119005058\",112271.0],[\"197110, \\u0421\\u0430\\u043d\\u043a\\u0442-\\u041f\\u0435\\u0442\\u0435\\u0440\\u0431\\u0443\\u0440\\u0433 \\u0433, \\u0412\\u044f\\u0437\\u043e\\u0432\\u0430\\u044f \\u0443\\u043b, \\u0434\\u043e\\u043c 10, \\u043b\\u0438\\u0442\\u0435\\u0440 \\u0410, \\u043f\\u043e\\u043c\\u0435\\u0449\\u0435\\u043d\\u0438\\u0435 9\\u041d, \\u043e\\u0444\\u0438\\u0441 432\",\"7801606205\",3788.0],[\"424004, \\u041c\\u0430\\u0440\\u0438\\u0439 \\u042d\\u043b \\u0420\\u0435\\u0441\\u043f, \\u0419\\u043e\\u0448\\u043a\\u0430\\u0440-\\u041e\\u043b\\u0430 \\u0433, \\u041b\\u044c\\u0432\\u0430 \\u0422\\u043e\\u043b\\u0441\\u0442\\u043e\\u0433\\u043e \\u0443\\u043b, \\u0434\\u043e\\u043c 62\",\"1215078778\",175584.0],[\"119019, \\u0413\\u043e\\u0440\\u043e\\u0434 \\u041c\\u043e\\u0441\\u043a\\u0432\\u0430, \\u0432\\u043d.\\u0442\\u0435\\u0440.\\u0433. \\u043c\\u0443\\u043d\\u0438\\u0446\\u0438\\u043f\\u0430\\u043b\\u044c\\u043d\\u044b\\u0439 \\u043e\\u043a\\u0440\\u0443\\u0433 \\u0425\\u0430\\u043c\\u043e\\u0432\\u043d\\u0438\\u043a\\u0438, \\u0443\\u043b \\u0412\\u043e\\u043b\\u0445\\u043e\\u043d\\u043a\\u0430, \\u0434. 5\\u002f6, \\u0441\\u0442\\u0440. 9, \\u043f\\u043e\\u043c\\u0435\\u0449. 7\\u002f1\",\"5038096300\",972.0],[\"143441, \\u041c\\u043e\\u0441\\u043a\\u043e\\u0432\\u0441\\u043a\\u0430\\u044f \\u043e\\u0431\\u043b, \\u041a\\u0440\\u0430\\u0441\\u043d\\u043e\\u0433\\u043e\\u0440\\u0441\\u043a \\u0433, \\u0413\\u0430\\u0432\\u0440\\u0438\\u043b\\u043a\\u043e\\u0432\\u043e \\u0434, \\u042d\\u0416\\u041a \\u042d\\u0434\\u0435\\u043c \\u0442\\u0435\\u0440., 20 \\u043a\\u0432-\\u043b, \\u0434\\u043e\\u043c 5, \\u043a\\u0432\\u0430\\u0440\\u0442\\u0438\\u0440\\u0430 7\",\"6164108822\",8997.0],[\"350090, \\u041a\\u0440\\u0430\\u0441\\u043d\\u043e\\u0434\\u0430\\u0440\\u0441\\u043a\\u0438\\u0439 \\u043a\\u0440\\u0430\\u0439, \\u041a\\u0440\\u0430\\u0441\\u043d\\u043e\\u0434\\u0430\\u0440 \\u0433, \\u0438\\u043c. \\u041c\\u0438\\u0442\\u0440\\u043e\\u0444\\u0430\\u043d\\u0430 \\u0421\\u0435\\u0434\\u0438\\u043d\\u0430 \\u0443\\u043b, \\u0434\\u043e\\u043c 6\\u002f1, \\u043a\\u043e\\u043c\\u043d\\u0430\\u0442\\u0430 3\",\"2310088087\",2058.0],[\"170100, \\u0422\\u0432\\u0435\\u0440\\u0441\\u043a\\u0430\\u044f \\u043e\\u0431\\u043b, \\u0433 \\u0422\\u0432\\u0435\\u0440\\u044c, \\u043f\\u0435\\u0440 \\u0421\\u0432\\u043e\\u0431\\u043e\\u0434\\u043d\\u044b\\u0439, \\u0434 9\",\"6950108726\",251422.0],[\"693007, \\u0421\\u0430\\u0445\\u0430\\u043b\\u0438\\u043d\\u0441\\u043a\\u0430\\u044f \\u043e\\u0431\\u043b, \\u0433 \\u042e\\u0436\\u043d\\u043e-\\u0421\\u0430\\u0445\\u0430\\u043b\\u0438\\u043d\\u0441\\u043a, \\u043f\\u0440-\\u043a\\u0442 \\u041f\\u043e\\u0431\\u0435\\u0434\\u044b, 62, \\u0411\",\"6501152990\",166443.0],[\"119034, \\u041c\\u043e\\u0441\\u043a\\u0432\\u0430 \\u0433, \\u0432\\u043d.\\u0442\\u0435\\u0440.\\u0433. \\u0425\\u0430\\u043c\\u043e\\u0432\\u043d\\u0438\\u043a\\u0438, \\u043f\\u0435\\u0440 \\u0422\\u0443\\u0440\\u0447\\u0430\\u043d\\u0438\\u043d\\u043e\\u0432, \\u0434. 6, \\u0441\\u0442\\u0440. 2, \\u044d\\u0442\\u0430\\u0436 \\u043f\\u043e\\u043c.\\u002f\\u043a\\u043e\\u043c\\u043d. III\\u002f53-66\",\"9721115759\",12597.0],[\"160001, \\u0412\\u043e\\u043b\\u043e\\u0433\\u043e\\u0434\\u0441\\u043a\\u0430\\u044f \\u043e\\u0431\\u043b, \\u0412\\u043e\\u043b\\u043e\\u0433\\u0434\\u0430 \\u0433, \\u0427\\u0435\\u043b\\u044e\\u0441\\u043a\\u0438\\u043d\\u0446\\u0435\\u0432 \\u0443\\u043b, \\u0434\\u043e\\u043c 15, \\u043e\\u0444\\u0438\\u0441 6\",\"3525115712\",13197.0],[\"460000, \\u041e\\u0440\\u0435\\u043d\\u0431\\u0443\\u0440\\u0433\\u0441\\u043a\\u0430\\u044f \\u043e\\u0431\\u043b, \\u0433 \\u041e\\u0440\\u0435\\u043d\\u0431\\u0443\\u0440\\u0433, \\u0443\\u043b \\u0426\\u0435\\u043d\\u0442\\u0440\\u0430\\u043b\\u044c\\u043d\\u0430\\u044f, \\u0437\\u0434. 29\\u0411, \\u043e\\u0444\\u0438\\u0441 1\",\"5610165193\",127385.0],[\"410040, \\u0421\\u0430\\u0440\\u0430\\u0442\\u043e\\u0432\\u0441\\u043a\\u0430\\u044f \\u043e\\u0431\\u043b, \\u0433 \\u0421\\u0430\\u0440\\u0430\\u0442\\u043e\\u0432, \\u0442\\u0443\\u043f \\u0414\\u0435\\u043b\\u043e\\u0432\\u043e\\u0439, \\u0437\\u0434 9 \\u0441\\u0442\\u0440 1\",\"6453009098\",1134716.0],[\"420054, \\u0422\\u0430\\u0442\\u0430\\u0440\\u0441\\u0442\\u0430\\u043d \\u0420\\u0435\\u0441\\u043f, \\u0433 \\u041a\\u0430\\u0437\\u0430\\u043d\\u044c, \\u0443\\u043b \\u0422\\u0435\\u0445\\u043d\\u0438\\u0447\\u0435\\u0441\\u043a\\u0430\\u044f, 9\",\"1659077600\",431729.0],[\"620024, \\u0421\\u0432\\u0435\\u0440\\u0434\\u043b\\u043e\\u0432\\u0441\\u043a\\u0430\\u044f \\u043e\\u0431\\u043b, \\u0433 \\u0415\\u043a\\u0430\\u0442\\u0435\\u0440\\u0438\\u043d\\u0431\\u0443\\u0440\\u0433, \\u0448 \\u0415\\u043b\\u0438\\u0437\\u0430\\u0432\\u0435\\u0442\\u0438\\u043d\\u0441\\u043a\\u043e\\u0435, \\u0441\\u0442\\u0440 39, 405\",\"6658408181\",37851.0],[\"117218, \\u0413\\u043e\\u0440\\u043e\\u0434 \\u041c\\u043e\\u0441\\u043a\\u0432\\u0430, \\u0432\\u043d.\\u0442\\u0435\\u0440.\\u0433. \\u043c\\u0443\\u043d\\u0438\\u0446\\u0438\\u043f\\u0430\\u043b\\u044c\\u043d\\u044b\\u0439 \\u043e\\u043a\\u0440\\u0443\\u0433 \\u0410\\u043a\\u0430\\u0434\\u0435\\u043c\\u0438\\u0447\\u0435\\u0441\\u043a\\u0438\\u0439, \\u0443\\u043b \\u0411\\u043e\\u043b\\u044c\\u0448\\u0430\\u044f \\u0427\\u0435\\u0440\\u0451\\u043c\\u0443\\u0448\\u043a\\u0438\\u043d\\u0441\\u043a\\u0430\\u044f, \\u0414\\u043e\\u043c 34, \\u043f\\u043e\\u043c\\u0435\\u0449. 2\\u002f1\\u041d\\u002f2\",\"8602107193\",118540.0],[\"420129, \\u0422\\u0430\\u0442\\u0430\\u0440\\u0441\\u0442\\u0430\\u043d \\u0440\\u0435\\u0441\\u043f, \\u0433 \\u041a\\u0430\\u0437\\u0430\\u043d\\u044c, \\u0443\\u043b \\u041a\\u0443\\u043b \\u0413\\u0430\\u043b\\u0438, \\u0434. 27, \\u043f\\u043e\\u043c\\u0435\\u0449. 1\",\"1659210883\",16163.0],[\"119048, \\u0413\\u043e\\u0440\\u043e\\u0434 \\u041c\\u043e\\u0441\\u043a\\u0432\\u0430, \\u0432\\u043d.\\u0442\\u0435\\u0440.\\u0433. \\u043c\\u0443\\u043d\\u0438\\u0446\\u0438\\u043f\\u0430\\u043b\\u044c\\u043d\\u044b\\u0439 \\u043e\\u043a\\u0440\\u0443\\u0433 \\u0425\\u0430\\u043c\\u043e\\u0432\\u043d\\u0438\\u043a\\u0438, \\u043f\\u0440-\\u043a\\u0442 \\u041a\\u043e\\u043c\\u0441\\u043e\\u043c\\u043e\\u043b\\u044c\\u0441\\u043a\\u0438\\u0439, \\u0434. 42, \\u0441\\u0442\\u0440. 3\",\"9710027483\",3555.0],[\"115230, \\u041c\\u043e\\u0441\\u043a\\u0432\\u0430 \\u0433, \\u0412\\u0430\\u0440\\u0448\\u0430\\u0432\\u0441\\u043a\\u043e\\u0435 \\u0448, \\u0434\\u043e\\u043c \\u2116 42\",\"7719694625\",116625.0],[\"620000, \\u0421\\u0432\\u0435\\u0440\\u0434\\u043b\\u043e\\u0432\\u0441\\u043a\\u0430\\u044f \\u043e\\u0431\\u043b\\u0430\\u0441\\u0442\\u044c, \\u0433.\\u043e. \\u0413\\u043e\\u0440\\u043e\\u0434 \\u0415\\u043a\\u0430\\u0442\\u0435\\u0440\\u0438\\u043d\\u0431\\u0443\\u0440\\u0433, \\u0433 \\u0415\\u043a\\u0430\\u0442\\u0435\\u0440\\u0438\\u043d\\u0431\\u0443\\u0440\\u0433, \\u0443\\u043b \\u0428\\u0435\\u0439\\u043d\\u043a\\u043c\\u0430\\u043d\\u0430, \\u0441\\u0442\\u0440\\u043e\\u0435\\u043d\\u0438\\u0435 9, \\u043e\\u0444\\u0438\\u0441 91\",\"9102216164\",4211.0],[\"119330, \\u041c\\u043e\\u0441\\u043a\\u0432\\u0430 \\u0433, \\u043f\\u0440-\\u043a\\u0442 \\u041b\\u043e\\u043c\\u043e\\u043d\\u043e\\u0441\\u043e\\u0432\\u0441\\u043a\\u0438\\u0439, 38, \\u041f\\u043e\\u0434\\u0432\\u0430\\u043b\\u002fII\\u002f19\",\"7731477962\",59788.0],[\"121165, \\u041c\\u043e\\u0441\\u043a\\u0432\\u0430 \\u0433, \\u0443\\u043b \\u0421\\u0442\\u0443\\u0434\\u0435\\u043d\\u0447\\u0435\\u0441\\u043a\\u0430\\u044f, \\u0434 38, \\u043f\\u043e\\u043c\\u0435\\u0449 2\\u041d\",\"6167041823\",55839.0],[\"119192, \\u041c\\u043e\\u0441\\u043a\\u0432\\u0430 \\u0433, \\u043f\\u0440-\\u043a\\u0442 \\u041c\\u0438\\u0447\\u0443\\u0440\\u0438\\u043d\\u0441\\u043a\\u0438\\u0439, 11, 3, \\u042d 1\",\"7706429877\",7417.0],[\"354340, \\u041a\\u0440\\u0430\\u0441\\u043d\\u043e\\u0434\\u0430\\u0440\\u0441\\u043a\\u0438\\u0439 \\u043a\\u0440\\u0430\\u0439, \\u0421\\u043e\\u0447\\u0438 \\u0433, \\u0413\\u0430\\u0441\\u0442\\u0435\\u043b\\u043b\\u043e \\u0443\\u043b, \\u0434\\u043e\\u043c \\u2116 28, \\u043e\\u0444\\u0438\\u0441 3\\u002f3\",\"2317057426\",33231.0],[\"198097, \\u0413\\u043e\\u0440\\u043e\\u0434 \\u0421\\u0430\\u043d\\u043a\\u0442-\\u041f\\u0435\\u0442\\u0435\\u0440\\u0431\\u0443\\u0440\\u0433, \\u0432\\u043d.\\u0442\\u0435\\u0440. \\u0433. \\u041c\\u0443\\u043d\\u0438\\u0446\\u0438\\u043f\\u0430\\u043b\\u044c\\u043d\\u044b\\u0439 \\u041e\\u043a\\u0440\\u0443\\u0433 \\u041d\\u0430\\u0440\\u0432\\u0441\\u043a\\u0438\\u0439 \\u041e\\u043a\\u0440\\u0443\\u0433, \\u0443\\u043b \\u0411\\u0430\\u0440\\u0440\\u0438\\u043a\\u0430\\u0434\\u043d\\u0430\\u044f, \\u0434\\u043e\\u043c 36, \\u043b\\u0438\\u0442\\u0435\\u0440\\u0430 \\u0410, \\u043f\\u043e\\u043c\\u0435\\u0449\\u0435\\u043d\\u0438\\u0435 6\\u041d, \\u041e\\u0424\\u0418\\u0421 4\\u0410\",\"7805781254\",38746.0],[\"443099, \\u0421\\u0430\\u043c\\u0430\\u0440\\u0441\\u043a\\u0430\\u044f \\u043e\\u0431\\u043b, \\u0421\\u0430\\u043c\\u0430\\u0440\\u0430 \\u0433, \\u0412\\u043e\\u0434\\u043d\\u0438\\u043a\\u043e\\u0432 \\u0443\\u043b, \\u0434\\u043e\\u043c \\u2116 28-30, \\u043a\\u043e\\u0440\\u043f\\u0443\\u0441 24, \\u043e\\u0444. 305\\u0430\",\"6312155064\",837451.0],[\"\\u0420\\u0435\\u0441\\u043f. \\u0422\\u0430\\u0442\\u0430\\u0440\\u0441\\u0442\\u0430\\u043d, \\u0421\\u0430\\u0431\\u0438\\u043d\\u0441\\u043a\\u0438\\u0439 \\u0440-\\u043d, \\u0441. \\u0428\\u0435\\u043c\\u043e\\u0440\\u0434\\u0430\\u043d, \\u0443\\u043b. \\u0416\\u0435\\u043b\\u0435\\u0437\\u043d\\u043e\\u0434\\u043e\\u0440\\u043e\\u0436\\u043d\\u0430\\u044f, \\u0434. 10\\u0411, \\u043a. 1, 422050\",\"8620015724\",2802.0],[\"295000, \\u041a\\u0440\\u044b\\u043c \\u0420\\u0435\\u0441\\u043f, \\u0421\\u0438\\u043c\\u0444\\u0435\\u0440\\u043e\\u043f\\u043e\\u043b\\u044c \\u0433, \\u041f\\u0435\\u0442\\u0440\\u043e\\u043f\\u0430\\u0432\\u043b\\u043e\\u0432\\u0441\\u043a\\u0430\\u044f \\u0443\\u043b, \\u0434\\u043e\\u043c \\u2116 3, \\u043e\\u0444\\u0438\\u0441 315\",\"9102047340\",-16921.0],[\"677007, \\u0421\\u0430\\u0445\\u0430 \\u002f\\u042f\\u043a\\u0443\\u0442\\u0438\\u044f\\u002f \\u0420\\u0435\\u0441\\u043f, \\u042f\\u043a\\u0443\\u0442\\u0441\\u043a \\u0433, \\u0427\\u0435\\u0440\\u043d\\u044b\\u0448\\u0435\\u0432\\u0441\\u043a\\u043e\\u0433\\u043e \\u0443\\u043b, \\u0434\\u043e\\u043c \\u2116 115\\u002f1\",\"1435131360\",223.0],[\"454100, \\u0427\\u0435\\u043b\\u044f\\u0431\\u0438\\u043d\\u0441\\u043a\\u0430\\u044f \\u043e\\u0431\\u043b, \\u0433 \\u0427\\u0435\\u043b\\u044f\\u0431\\u0438\\u043d\\u0441\\u043a, \\u043f\\u0440-\\u043a\\u0442 \\u041a\\u043e\\u043c\\u0441\\u043e\\u043c\\u043e\\u043b\\u044c\\u0441\\u043a\\u0438\\u0439, 107\\u0430, 23\",\"7448051385\",3976.0],[\"420029, \\u0420\\u0435\\u0441\\u043f\\u0443\\u0431\\u043b\\u0438\\u043a\\u0430 \\u0422\\u0430\\u0442\\u0430\\u0440\\u0441\\u0442\\u0430\\u043d (\\u0422\\u0430\\u0442\\u0430\\u0440\\u0441\\u0442\\u0430\\u043d), \\u0433.\\u043e. \\u0413\\u043e\\u0440\\u043e\\u0434 \\u041a\\u0430\\u0437\\u0430\\u043d\\u044c, \\u0433 \\u041a\\u0430\\u0437\\u0430\\u043d\\u044c, \\u0443\\u043b \\u0417\\u0430\\u0440\\u044f, \\u0434\\u043e\\u043c 16, \\u043e\\u0444\\u0438\\u0441 3\",\"1659074662\",11444.0],[\"420080, \\u0422\\u0430\\u0442\\u0430\\u0440\\u0441\\u0442\\u0430\\u043d \\u0420\\u0435\\u0441\\u043f, \\u041a\\u0430\\u0437\\u0430\\u043d\\u044c \\u0433, \\u0422\\u0443\\u043d\\u0430\\u043a\\u043e\\u0432\\u0430 \\u0443\\u043b, \\u0434\\u043e\\u043c \\u2116 56\\u0430, \\u043e\\u0444.1007\\\\2\",\"1658225950\",14341.0],[\"192007, \\u0421\\u0430\\u043d\\u043a\\u0442-\\u041f\\u0435\\u0442\\u0435\\u0440\\u0431\\u0443\\u0440\\u0433 \\u0433, \\u0414\\u043d\\u0435\\u043f\\u0440\\u043e\\u043f\\u0435\\u0442\\u0440\\u043e\\u0432\\u0441\\u043a\\u0430\\u044f \\u0443\\u043b, \\u0434\\u043e\\u043c 14, \\u043b\\u0438\\u0442\\u0435\\u0440 \\u0411, \\u043a\\u0430\\u0431\\u0438\\u043d\\u0435\\u0442 32\",\"7816401296\",11378.0],[\"123098, \\u041c\\u043e\\u0441\\u043a\\u0432\\u0430 \\u0433, \\u0420\\u043e\\u0433\\u043e\\u0432\\u0430 \\u0443\\u043b, \\u0434\\u043e\\u043c 12, \\u043f\\u043e\\u043c\\u0435\\u0449\\u0435\\u043d\\u0438\\u0435 II, \\u043a\\u043e\\u043c\\u043d\\u0430\\u0442\\u0430 5, \\u043e\\u0444\\u0438\\u0441 7\",\"7734429406\",306091.0],[\"192012, \\u0421\\u0430\\u043d\\u043a\\u0442-\\u041f\\u0435\\u0442\\u0435\\u0440\\u0431\\u0443\\u0440\\u0433 \\u0433, \\u043f\\u0440-\\u043a\\u0442 \\u041e\\u0431\\u0443\\u0445\\u043e\\u0432\\u0441\\u043a\\u043e\\u0439 \\u041e\\u0431\\u043e\\u0440\\u043e\\u043d\\u044b, \\u0434. 112, \\u043a. 2, \\u043b\\u0438\\u0442\\u0435\\u0440\\u0430 \\u0418, \\u043f\\u043e\\u043c\\u0435\\u0449. 620\",\"7807337510\",307.0],[\"125167, \\u0433.\\u041c\\u043e\\u0441\\u043a\\u0432\\u0430, \\u0432\\u043d.\\u0442\\u0435\\u0440. \\u0433. \\u041c\\u0443\\u043d\\u0438\\u0446\\u0438\\u043f\\u0430\\u043b\\u044c\\u043d\\u044b\\u0439 \\u041e\\u043a\\u0440\\u0443\\u0433 \\u0410\\u044d\\u0440\\u043e\\u043f\\u043e\\u0440\\u0442, \\u0430\\u043b\\u043b\\u0435\\u044f \\u041d\\u0430\\u0440\\u044b\\u0448\\u043a\\u0438\\u043d\\u0441\\u043a\\u0430\\u044f, \\u0414\\u043e\\u043c 5, \\u0421\\u0442\\u0440\\u043e\\u0435\\u043d\\u0438\\u0435 2, \\u041f\\u043e\\u043c\\u0435\\u0449\\u0435\\u043d\\u0438\\u0435 1\\u002f1\",\"9725049232\",2798.0],[\"298609, \\u041a\\u0440\\u044b\\u043c \\u0420\\u0435\\u0441\\u043f, \\u0433 \\u042f\\u043b\\u0442\\u0430, \\u0443\\u043b \\u0425\\u0430\\u043b\\u0442\\u0443\\u0440\\u0438\\u043d\\u0430, \\u0434. 49\\u0411, \\u043e\\u0444\\u0438\\u0441 204\",\"9103095360\",3319.0],[\"620027, \\u0421\\u0432\\u0435\\u0440\\u0434\\u043b\\u043e\\u0432\\u0441\\u043a\\u0430\\u044f \\u043e\\u0431\\u043b\\u0430\\u0441\\u0442\\u044c, \\u0433 \\u0415\\u043a\\u0430\\u0442\\u0435\\u0440\\u0438\\u043d\\u0431\\u0443\\u0440\\u0433, \\u0443\\u043b \\u0428\\u0435\\u0432\\u0447\\u0435\\u043d\\u043a\\u043e, \\u0441\\u043e\\u043e\\u0440. 9\",\"6670476678\",83976.0],[\"610004, \\u041a\\u0438\\u0440\\u043e\\u0432\\u0441\\u043a\\u0430\\u044f \\u043e\\u0431\\u043b, \\u041a\\u0438\\u0440\\u043e\\u0432 \\u0433, \\u041f\\u0440\\u043e\\u0444\\u0441\\u043e\\u044e\\u0437\\u043d\\u0430\\u044f \\u0443\\u043b, \\u0434\\u043e\\u043c \\u2116 1, \\u043e\\u0444. 907\",\"4345489492\",320132.0],[\"107078, \\u041c\\u043e\\u0441\\u043a\\u0432\\u0430 \\u0433, \\u0432\\u043d.\\u0442\\u0435\\u0440.\\u0433. \\u043c\\u0443\\u043d\\u0438\\u0446\\u0438\\u043f\\u0430\\u043b\\u044c\\u043d\\u044b\\u0439 \\u043e\\u043a\\u0440\\u0443\\u0433 \\u041a\\u0440\\u0430\\u0441\\u043d\\u043e\\u0441\\u0435\\u043b\\u044c\\u0441\\u043a\\u0438\\u0439, \\u043f\\u0435\\u0440 \\u041e\\u0440\\u043b\\u0438\\u043a\\u043e\\u0432, \\u0434. 5, \\u0441\\u0442\\u0440. 1, \",\"7704795525\",49869.0],[\",,,,,,,,,\",\"9718037677\",638.0],[\"428022, \\u0427\\u0443\\u0432\\u0430\\u0448\\u0441\\u043a\\u0430\\u044f \\u0420\\u0435\\u0441\\u043f\\u0443\\u0431\\u043b\\u0438\\u043a\\u0430 - \\u0427\\u0443\\u0432\\u0430\\u0448\\u0438\\u044f, \\u0427\\u0435\\u0431\\u043e\\u043a\\u0441\\u0430\\u0440\\u044b \\u0433, \\u041c\\u0430\\u0440\\u043f\\u043e\\u0441\\u0430\\u0434\\u0441\\u043a\\u043e\\u0435 \\u0448, \\u0434\\u043e\\u043c \\u2116 38\",\"2130010780\",2095.0],[\"115093, \\u041c\\u043e\\u0441\\u043a\\u0432\\u0430 \\u0433, 1-\\u0419 \\u0429\\u0438\\u043f\\u043a\\u043e\\u0432\\u0441\\u043a\\u0438\\u0439 \\u043f\\u0435\\u0440, \\u0434\\u043e\\u043c 1, \\u043e\\u0444\\u0438\\u0441 \\u041f\\u041e\\u0414\\u0412\\u0410\\u041b \\u041f\\u041e\\u041c\\u002f\\u041a\\u041e\\u041c I\\u002f16\",\"7733333719\",1215.0],[\"119285, \\u0413\\u043e\\u0440\\u043e\\u0434 \\u041c\\u043e\\u0441\\u043a\\u0432\\u0430, \\u0432\\u043d.\\u0442\\u0435\\u0440. \\u0433. \\u041c\\u0443\\u043d\\u0438\\u0446\\u0438\\u043f\\u0430\\u043b\\u044c\\u043d\\u044b\\u0439 \\u041e\\u043a\\u0440\\u0443\\u0433 \\u0420\\u0430\\u043c\\u0435\\u043d\\u043a\\u0438, \\u043f\\u0440-\\u043a\\u0442 \\u0413\\u0435\\u043d\\u0435\\u0440\\u0430\\u043b\\u0430 \\u0414\\u043e\\u0440\\u043e\\u0445\\u043e\\u0432\\u0430, \\u0434\\u043e\\u043c 39, \\u043a\\u043e\\u0440\\u043f\\u0443\\u0441 1, \\u043a\\u0432\\u0430\\u0440\\u0442\\u0438\\u0440\\u0430 78\\u0413\",\"3234040815\",200947.0],[\"620141, \\u0421\\u0432\\u0435\\u0440\\u0434\\u043b\\u043e\\u0432\\u0441\\u043a\\u0430\\u044f \\u043e\\u0431\\u043b, \\u0433 \\u0415\\u043a\\u0430\\u0442\\u0435\\u0440\\u0438\\u043d\\u0431\\u0443\\u0440\\u0433, \\u0443\\u043b \\u0410\\u0440\\u043c\\u0430\\u0432\\u0438\\u0440\\u0441\\u043a\\u0430\\u044f, 20, 8\",\"6674158098\",90117.0],[\"117630, \\u041c\\u043e\\u0441\\u043a\\u0432\\u0430 \\u0433, \\u0443\\u043b \\u0410\\u043a\\u0430\\u0434\\u0435\\u043c\\u0438\\u043a\\u0430 \\u0427\\u0435\\u043b\\u043e\\u043c\\u0435\\u044f, 3, 2, \\u042d\\u0442\\u0430\\u0436 2\",\"9701004970\",-13213.0],[\"127521, \\u0413\\u043e\\u0440\\u043e\\u0434 \\u041c\\u043e\\u0441\\u043a\\u0432\\u0430, \\u0432\\u043d.\\u0442\\u0435\\u0440. \\u0433. \\u041c\\u0443\\u043d\\u0438\\u0446\\u0438\\u043f\\u0430\\u043b\\u044c\\u043d\\u044b\\u0439 \\u041e\\u043a\\u0440\\u0443\\u0433 \\u041c\\u0430\\u0440\\u044c\\u0438\\u043d\\u0430 \\u0420\\u043e\\u0449\\u0430, \\u043f\\u0440\\u043e\\u0435\\u0437\\u0434 12-\\u0419 \\u041c\\u0430\\u0440\\u044c\\u0438\\u043d\\u043e\\u0439 \\u0420\\u043e\\u0449\\u0438, \\u0434\\u043e\\u043c 9, \\u0441\\u0442\\u0440\\u043e\\u0435\\u043d\\u0438\\u0435 1\",\"7713468958\",25117.0],[\"629003, \\u042f\\u043c\\u0430\\u043b\\u043e-\\u041d\\u0435\\u043d\\u0435\\u0446\\u043a\\u0438\\u0439 \\u0410\\u041e, \\u0433 \\u0421\\u0430\\u043b\\u0435\\u0445\\u0430\\u0440\\u0434, \\u0443\\u043b \\u0410\\u0432\\u0438\\u0430\\u0446\\u0438\\u043e\\u043d\\u043d\\u0430\\u044f\",\"8901016434\",315969.0],[\"123308, \\u041c\\u043e\\u0441\\u043a\\u0432\\u0430 \\u0433, \\u0443\\u043b \\u041c\\u043d\\u0451\\u0432\\u043d\\u0438\\u043a\\u0438, 3, 1\",\"7714299854\",3709.0],[\"625026, \\u0422\\u044e\\u043c\\u0435\\u043d\\u0441\\u043a\\u0430\\u044f \\u043e\\u0431\\u043b, \\u0433 \\u0422\\u044e\\u043c\\u0435\\u043d\\u044c, \\u0443\\u043b 50 \\u043b\\u0435\\u0442 \\u0412\\u041b\\u041a\\u0421\\u041c, \\u0434. 51, \\u043e\\u0444\\u0438\\u0441 33\",\"7203330254\",136596.0],[\"141013, \\u041c\\u043e\\u0441\\u043a\\u043e\\u0432\\u0441\\u043a\\u0430\\u044f \\u043e\\u0431\\u043b, \\u0433.\\u043e. \\u041c\\u044b\\u0442\\u0438\\u0449\\u0438, \\u0433 \\u041c\\u044b\\u0442\\u0438\\u0449\\u0438, \\u0443\\u043b \\u0421\\u0442\\u0440\\u0435\\u043b\\u043a\\u043e\\u0432\\u0430\\u044f, \\u0434. 8, \\u043a. \\u044d\\u0442\\u0430\\u0436\\u002f, \\u043f\\u043e\\u043c\\u0435\\u0449.  1\\u002f007 \\u043e\\u0444\\u0438\\u0441 2\",\"9729000728\",36064.0],[\"199106, \\u0421\\u0430\\u043d\\u043a\\u0442-\\u041f\\u0435\\u0442\\u0435\\u0440\\u0431\\u0443\\u0440\\u0433 \\u0433, \\u041c\\u043e\\u0440\\u0441\\u043a\\u043e\\u0439 \\u0421\\u043b\\u0430\\u0432\\u044b \\u043f\\u043b, \\u0434\\u043e\\u043c 1, \\u043b\\u0438\\u0442\\u0435\\u0440 \\u0410, \\u043f\\u043e\\u043c\\u0435\\u0449\\u0435\\u043d\\u0438\\u0435 3-\\u041d, \\u2116502 (\\u21165007)\",\"7841441380\",5704.0],[\"440045, \\u041f\\u0435\\u043d\\u0437\\u0435\\u043d\\u0441\\u043a\\u0430\\u044f \\u043e\\u0431\\u043b, \\u0433 \\u041f\\u0435\\u043d\\u0437\\u0430, \\u0443\\u043b \\u041b\\u0430\\u0434\\u043e\\u0436\\u0441\\u043a\\u0430\\u044f, 155, 115\",\"5835142156\",18593.0],[\"117437, \\u041c\\u043e\\u0441\\u043a\\u0432\\u0430 \\u0433, \\u0443\\u043b \\u041c\\u0438\\u043a\\u043b\\u0443\\u0445\\u043e-\\u041c\\u0430\\u043a\\u043b\\u0430\\u044f, 18, 3\",\"7717728371\",968.0],[\"363124, \\u0421\\u0435\\u0432\\u0435\\u0440\\u043d\\u0430\\u044f \\u041e\\u0441\\u0435\\u0442\\u0438\\u044f - \\u0410\\u043b\\u0430\\u043d\\u0438\\u044f \\u0420\\u0435\\u0441\\u043f, \\u0440-\\u043d \\u041f\\u0440\\u0438\\u0433\\u043e\\u0440\\u043e\\u0434\\u043d\\u044b\\u0439, \\u0441 \\u041d\\u0438\\u0436\\u043d\\u044f\\u044f \\u0421\\u0430\\u043d\\u0438\\u0431\\u0430, \\u0443\\u043b \\u0410\\u0433\\u0443\\u0437\\u0430\\u0440\\u043e\\u0432\\u0430, 4, 1\",\"1512015210\",94794.0],[\"350056, \\u041a\\u0440\\u0430\\u0441\\u043d\\u043e\\u0434\\u0430\\u0440\\u0441\\u043a\\u0438\\u0439 \\u043a\\u0440\\u0430\\u0439, \\u0433.\\u043e. \\u0433\\u043e\\u0440\\u043e\\u0434 \\u041a\\u0440\\u0430\\u0441\\u043d\\u043e\\u0434\\u0430\\u0440, \\u043f \\u0418\\u043d\\u0434\\u0443\\u0441\\u0442\\u0440\\u0438\\u0430\\u043b\\u044c\\u043d\\u044b\\u0439, \\u043f\\u0435\\u0440 \\u0414\\u043e\\u0440\\u043e\\u0436\\u043d\\u044b\\u0439, \\u0434. 7, \\u043e\\u0444\\u0438\\u0441 1\",\"2311194948\",112239.0],[\"679000, \\u0415\\u0432\\u0440\\u0435\\u0439\\u0441\\u043a\\u0430\\u044f \\u0430\\u0432\\u0442\\u043e\\u043d\\u043e\\u043c\\u043d\\u0430\\u044f \\u043e\\u0431\\u043b\\u0430\\u0441\\u0442\\u044c, \\u0433 \\u0411\\u0438\\u0440\\u043e\\u0431\\u0438\\u0434\\u0436\\u0430\\u043d, \\u0443\\u043b \\u0411\\u0438\\u0440\\u0448\\u043e\\u0441\\u0441\\u0435 2 \\u041a\\u043c, \\u0434. 10, \\u043a. \\u0411\",\"7901542812\",58679.0],[\"197198, \\u0421\\u0430\\u043d\\u043a\\u0442-\\u041f\\u0435\\u0442\\u0435\\u0440\\u0431\\u0443\\u0440\\u0433 \\u0433,  \\u041f\\u0435\\u0442\\u0440\\u043e\\u0432\\u0441\\u043a\\u0430\\u044f \\u043a\\u043e\\u0441\\u0430, \\u0434 6 \\u0441\\u0442\\u0440 1, \\u043a 1, \\u043f\\u043e\\u043c. 44\\u041d\",\"7810791610\",173768.0],[\"109518, \\u0413\\u043e\\u0440\\u043e\\u0434 \\u041c\\u043e\\u0441\\u043a\\u0432\\u0430, \\u0432\\u043d.\\u0442\\u0435\\u0440.\\u0433. \\u043c\\u0443\\u043d\\u0438\\u0446\\u0438\\u043f\\u0430\\u043b\\u044c\\u043d\\u044b\\u0439 \\u043e\\u043a\\u0440\\u0443\\u0433 \\u0422\\u0435\\u043a\\u0441\\u0442\\u0438\\u043b\\u044c\\u0449\\u0438\\u043a\\u0438, \\u0443\\u043b \\u0413\\u0440\\u0430\\u0439\\u0432\\u043e\\u0440\\u043e\\u043d\\u043e\\u0432\\u0441\\u043a\\u0430\\u044f, \\u0434. 4, \\u0441\\u0442\\u0440. 1, \\u043f\\u043e\\u043c\\u0435\\u0449. 6\\u002f1\\u041f\",\"1657112351\",17955.0],[\"117623, \\u041c\\u043e\\u0441\\u043a\\u0432\\u0430 \\u0433, \\u0416\\u0435\\u043b\\u0435\\u0437\\u043d\\u043e\\u0433\\u043e\\u0440\\u0441\\u043a\\u0430\\u044f 2-\\u044f \\u0443\\u043b, \\u0434\\u043e\\u043c \\u2116 25\",\"7727813770\",83995.0],[\"450104, \\u0420\\u0435\\u0441\\u043f\\u0443\\u0431\\u043b\\u0438\\u043a\\u0430 \\u0411\\u0430\\u0448\\u043a\\u043e\\u0440\\u0442\\u043e\\u0441\\u0442\\u0430\\u043d, \\u0433 \\u0423\\u0444\\u0430, \\u0443\\u043b \\u0412\\u043e\\u0438\\u043d\\u043e\\u0432-\\u0418\\u043d\\u0442\\u0435\\u0440\\u043d\\u0430\\u0446\\u0438\\u043e\\u043d\\u0430\\u043b\\u0438\\u0441\\u0442\\u043e\\u0432, \\u0434. 7, \\u043e\\u0444\\u0438\\u0441 536\",\"0274176422\",1586.0],[\"454028, \\u0427\\u0435\\u043b\\u044f\\u0431\\u0438\\u043d\\u0441\\u043a\\u0430\\u044f \\u043e\\u0431\\u043b, \\u0433 \\u0427\\u0435\\u043b\\u044f\\u0431\\u0438\\u043d\\u0441\\u043a, \\u0443\\u043b \\u041a\\u0443\\u0437\\u043d\\u0435\\u0446\\u043e\\u0432\\u0430, \\u0434. 37\\u0411, \\u043a\\u0432. 77, \",\"7451434116\",87154.0],[\"141270, \\u041c\\u043e\\u0441\\u043a\\u043e\\u0432\\u0441\\u043a\\u0430\\u044f \\u043e\\u0431\\u043b\\u0430\\u0441\\u0442\\u044c, \\u0433.\\u043e. \\u041f\\u0443\\u0448\\u043a\\u0438\\u043d\\u0441\\u043a\\u0438\\u0439, \\u0440\\u043f \\u0421\\u043e\\u0444\\u0440\\u0438\\u043d\\u043e, \\u043c\\u043a\\u0440 \\u0417\\u0430\\u043f\\u0430\\u0434\\u043d\\u044b\\u0439, \\u0434. 3, \\u043f\\u043e\\u043c\\u0435\\u0449. 11\",\"7716576574\",13855.0],[\"350042, \\u041a\\u0440\\u0430\\u0441\\u043d\\u043e\\u0434\\u0430\\u0440\\u0441\\u043a\\u0438\\u0439 \\u043a\\u0440\\u0430\\u0439, \\u0433.\\u043e. \\u0433\\u043e\\u0440\\u043e\\u0434 \\u041a\\u0440\\u0430\\u0441\\u043d\\u043e\\u0434\\u0430\\u0440, \\u0433 \\u041a\\u0440\\u0430\\u0441\\u043d\\u043e\\u0434\\u0430\\u0440, \\u0443\\u043b \\u041a\\u043e\\u043b\\u0445\\u043e\\u0437\\u043d\\u0430\\u044f, \\u0434. 3, \\u043a\\u0432. 14, \",\"2308114879\",88652.0],[\"450112, \\u0411\\u0430\\u0448\\u043a\\u043e\\u0440\\u0442\\u043e\\u0441\\u0442\\u0430\\u043d \\u0420\\u0435\\u0441\\u043f, \\u0433 \\u0423\\u0444\\u0430, \\u0443\\u043b \\u041f\\u0435\\u0440\\u0432\\u043e\\u043c\\u0430\\u0439\\u0441\\u043a\\u0430\\u044f, 32\\u002f1, \\u042d\\u0442\\u0430\\u0436 2 \\u041f\\u043e\\u043c\\u0435\\u0449. 43\",\"0276092746\",52170.0],[\"191167, \\u0421\\u0430\\u043d\\u043a\\u0442-\\u041f\\u0435\\u0442\\u0435\\u0440\\u0431\\u0443\\u0440\\u0433 \\u0433, \\u043d\\u0430\\u0431 \\u0421\\u0438\\u043d\\u043e\\u043f\\u0441\\u043a\\u0430\\u044f, \\u0434. 26, \\u043b\\u0438\\u0442\\u0435\\u0440\\u0430 \\u0410, \\u043f\\u043e\\u043c\\u0435\\u0449. 5-\\u041d, \\u043e\\u0444\\u0438\\u0441 6-1\",\"7842127970\",1285.0],[\"115114, \\u041c\\u043e\\u0441\\u043a\\u0432\\u0430 \\u0433, \\u043d\\u0430\\u0431 \\u0428\\u043b\\u044e\\u0437\\u043e\\u0432\\u0430\\u044f, 8, 1, 12\",\"7706800259\",34151.0],[\"109387, \\u041c\\u043e\\u0441\\u043a\\u0432\\u0430 \\u0433, \\u041b\\u044e\\u0431\\u043b\\u0438\\u043d\\u0441\\u043a\\u0430\\u044f \\u0443\\u043b, \\u0434\\u043e\\u043c \\u2116 42, \\u043e\\u0444\\u0438\\u0441 229\",\"7723427686\",26733.0],[\"628186, \\u0425\\u0430\\u043d\\u0442\\u044b-\\u041c\\u0430\\u043d\\u0441\\u0438\\u0439\\u0441\\u043a\\u0438\\u0439 \\u0410\\u0432\\u0442\\u043e\\u043d\\u043e\\u043c\\u043d\\u044b\\u0439 \\u043e\\u043a\\u0440\\u0443\\u0433 - \\u042e\\u0433\\u0440\\u0430 \\u0410\\u041e, \\u0433. \\u041d\\u044f\\u0433\\u0430\\u043d\\u044c, \\u0443\\u043b \\u0421\\u0438\\u0431\\u0438\\u0440\\u0441\\u043a\\u0430\\u044f, \\u0434 14, \\u043a 1\",\"8610005188\",89629.0],[\"630024, \\u041d\\u043e\\u0432\\u043e\\u0441\\u0438\\u0431\\u0438\\u0440\\u0441\\u043a\\u0430\\u044f \\u043e\\u0431\\u043b, \\u0433 \\u041d\\u043e\\u0432\\u043e\\u0441\\u0438\\u0431\\u0438\\u0440\\u0441\\u043a, \\u0443\\u043b \\u0412\\u0430\\u0442\\u0443\\u0442\\u0438\\u043d\\u0430, \\u0434 40\",\"5403112891\",114602.0],[\"150044, \\u042f\\u0440\\u043e\\u0441\\u043b\\u0430\\u0432\\u0441\\u043a\\u0430\\u044f \\u043e\\u0431\\u043b\\u0430\\u0441\\u0442\\u044c, \\u0433.\\u043e. \\u0413\\u043e\\u0440\\u043e\\u0434 \\u042f\\u0440\\u043e\\u0441\\u043b\\u0430\\u0432\\u043b\\u044c, \\u0433 \\u042f\\u0440\\u043e\\u0441\\u043b\\u0430\\u0432\\u043b\\u044c, \\u0443\\u043b \\u041f\\u0440\\u043e\\u043c\\u044b\\u0448\\u043b\\u0435\\u043d\\u043d\\u0430\\u044f, \\u0434\\u043e\\u043c 2, \\u043f\\u043e\\u043c\\u0435\\u0449\\u0435\\u043d\\u0438\\u0435 71, 72, 74\",\"7604178889\",48946.0],[\"630132, \\u041d\\u043e\\u0432\\u043e\\u0441\\u0438\\u0431\\u0438\\u0440\\u0441\\u043a\\u0430\\u044f \\u043e\\u0431\\u043b,  \\u041d\\u043e\\u0432\\u043e\\u0441\\u0438\\u0431\\u0438\\u0440\\u0441\\u043a \\u0433,  \\u0421\\u0430\\u043b\\u0442\\u044b\\u043a\\u043e\\u0432\\u0430-\\u0429\\u0435\\u0434\\u0440\\u0438\\u043d\\u0430 \\u0443\\u043b, \\u0434. 128, \\u043a\\u043e\\u0440. \\u042d\\u0422\\u0410\\u0416 1, \\u043a\\u0432. \\u041f\\u041e\\u041c\\u0415\\u0429\\u0415\\u041d\\u0418\\u042f 1-6, \",\"5403190900\",60874.0],[\"443035, \\u0421\\u0430\\u043c\\u0430\\u0440\\u0441\\u043a\\u0430\\u044f \\u043e\\u0431\\u043b, \\u0433. \\u0421\\u0430\\u043c\\u0430\\u0440\\u0430, \\u0443\\u043b. \\u041c\\u0438\\u0440\\u043d\\u0430\\u044f, \\u0434\\u043e\\u043c 162\",\"6312040240\",-52053.0],[\"109428, \\u041c\\u043e\\u0441\\u043a\\u0432\\u0430 \\u0433, \\u0432\\u043d.\\u0442\\u0435\\u0440.\\u0433. \\u043c\\u0443\\u043d\\u0438\\u0446\\u0438\\u043f\\u0430\\u043b\\u044c\\u043d\\u044b\\u0439 \\u043e\\u043a\\u0440\\u0443\\u0433 \\u0420\\u044f\\u0437\\u0430\\u043d\\u0441\\u043a\\u0438\\u0439, \\u0443\\u043b \\u0417\\u0430\\u0440\\u0430\\u0439\\u0441\\u043a\\u0430\\u044f, \\u0434. 21\",\"9721197543\",-469.0],[\"656037, \\u0410\\u043b\\u0442\\u0430\\u0439\\u0441\\u043a\\u0438\\u0439 \\u043a\\u0440\\u0430\\u0439, \\u0433 \\u0411\\u0430\\u0440\\u043d\\u0430\\u0443\\u043b, \\u0443\\u043b \\u0421\\u0435\\u0432\\u0435\\u0440\\u043e-\\u0417\\u0430\\u043f\\u0430\\u0434\\u043d\\u0430\\u044f, 2\\u0432, 3\\u002f15\",\"2224183393\",5220.0],[\"613154, \\u041a\\u0438\\u0440\\u043e\\u0432\\u0441\\u043a\\u0430\\u044f \\u043e\\u0431\\u043b, \\u0421\\u043b\\u043e\\u0431\\u043e\\u0434\\u0441\\u043a\\u043e\\u0439 \\u0440-\\u043d, \\u0421\\u043b\\u043e\\u0431\\u043e\\u0434\\u0441\\u043a\\u043e\\u0439 \\u0433, \\u041d\\u0430\\u0431\\u0435\\u0440\\u0435\\u0436\\u043d\\u0430\\u044f \\u0443\\u043b, \\u0434\\u043e\\u043c \\u2116 13, \\u043f\\u043e\\u043c\\u0435\\u0449\\u0435\\u043d\\u0438\\u0435 1001\",\"4345020340\",25127.0],[\"\\u041d\\u043e\\u0432\\u043e\\u0441\\u0438\\u0431\\u0438\\u0440\\u0441\\u043a\\u0430\\u044f \\u043e\\u0431\\u043b, \\u0433 \\u041d\\u043e\\u0432\\u043e\\u0441\\u0438\\u0431\\u0438\\u0440\\u0441\\u043a, \\u0443\\u043b \\u0421\\u0435\\u043c\\u044c\\u0438 \\u0428\\u0430\\u043c\\u0448\\u0438\\u043d\\u044b\\u0445, 24, 43\",\"5407025216\",927097.0],[\"197375, \\u0421\\u0430\\u043d\\u043a\\u0442-\\u041f\\u0435\\u0442\\u0435\\u0440\\u0431\\u0443\\u0440\\u0433 \\u0433, \\u0432\\u043d.\\u0442\\u0435\\u0440.\\u0433. \\u043c\\u0443\\u043d\\u0438\\u0446\\u0438\\u043f\\u0430\\u043b\\u044c\\u043d\\u044b\\u0439 \\u043e\\u043a\\u0440\\u0443\\u0433 \\u042e\\u043d\\u0442\\u043e\\u043b\\u043e\\u0432\\u043e, \\u0443\\u043b \\u0410\\u0432\\u0442\\u043e\\u0431\\u0443\\u0441\\u043d\\u0430\\u044f, \\u0434. 5, \\u043b\\u0438\\u0442\\u0435\\u0440\\u0430 \\u0410,  220, \",\"7814351579\",18446.0],[\"643,117105,77,,,,\\u041d\\u0430\\u0433\\u0430\\u0442\\u0438\\u043d\\u0441\\u043a\\u0438\\u0439 1-\\u0439 \\u043f\\u0440\\u043e\\u0435\\u0437\\u0434,6,1,102\\u0411 \",\"7703598443\",11520.0],[\"693008, \\u0421\\u0430\\u0445\\u0430\\u043b\\u0438\\u043d\\u0441\\u043a\\u0430\\u044f \\u043e\\u0431\\u043b, \\u0433 \\u042e\\u0436\\u043d\\u043e-\\u0421\\u0430\\u0445\\u0430\\u043b\\u0438\\u043d\\u0441\\u043a, \\u0443\\u043b \\u0412\\u043e\\u043a\\u0437\\u0430\\u043b\\u044c\\u043d\\u0430\\u044f, \\u0434. 56, \\u043e\\u0444\\u0438\\u0441 409\",\"6501217693\",74508.0],[\"123308, \\u041c\\u043e\\u0441\\u043a\\u0432\\u0430 \\u0433,  2-\\u0439 \\u0421\\u0438\\u043b\\u0438\\u043a\\u0430\\u0442\\u043d\\u044b\\u0439 \\u043f\\u0440-\\u0434, \\u0434 14 \\u0441\\u0442\\u0440 14, \\u043a 2\",\"9702015741\",-57940.0],[\"192012, \\u0421\\u0430\\u043d\\u043a\\u0442-\\u041f\\u0435\\u0442\\u0435\\u0440\\u0431\\u0443\\u0440\\u0433 \\u0433, \\u043f\\u0440-\\u043a\\u0442 \\u041e\\u0431\\u0443\\u0445\\u043e\\u0432\\u0441\\u043a\\u043e\\u0439 \\u041e\\u0431\\u043e\\u0440\\u043e\\u043d\\u044b, 112, 2\",\"7814494383\",208854.0],[\"693004, \\u0421\\u0430\\u0445\\u0430\\u043b\\u0438\\u043d\\u0441\\u043a\\u0430\\u044f \\u043e\\u0431\\u043b, \\u0433 \\u042e\\u0436\\u043d\\u043e-\\u0421\\u0430\\u0445\\u0430\\u043b\\u0438\\u043d\\u0441\\u043a, \\u0443\\u043b \\u0412\\u043e\\u0437\\u0434\\u0443\\u0448\\u043d\\u0430\\u044f, \\u0434 15\",\"6501117716\",23765.0],[\"127006, \\u041c\\u043e\\u0441\\u043a\\u0432\\u0430 \\u0433, \\u0412\\u043e\\u0440\\u043e\\u0442\\u043d\\u0438\\u043a\\u043e\\u0432\\u0441\\u043a\\u0438\\u0439 \\u043f\\u0435\\u0440, \\u0434\\u043e\\u043c \\u2116 8, \\u0441\\u0442\\u0440\\u043e\\u0435\\u043d\\u0438\\u0435 1, \\u043e\\u0444\\u0438\\u0441 1 \\u0420\\u041c2\\u002f3\",\"7721506798\",224678.0],[\"\\u0433. \\u041c\\u043e\\u0441\\u043a\\u0432\\u0430, \\u0432\\u043d.\\u0442\\u0435\\u0440.\\u0433. \\u043c\\u0443\\u043d\\u0438\\u0446\\u0438\\u043f\\u0430\\u043b\\u044c\\u043d\\u044b\\u0439 \\u043e\\u043a\\u0440\\u0443\\u0433 \\u0410\\u0440\\u0431\\u0430\\u0442, \\u0443\\u043b. \\u0410\\u0440\\u0431\\u0430\\u0442, \\u0434. 54\\u002f2, \\u0441\\u0442\\u0440. 1, \\u041f\\u041e\\u041c\\u0415\\u0429. 1\\u002f\\u041f, 119002\",\"2465182389\",43735.0],[\"197110, \\u0421\\u0430\\u043d\\u043a\\u0442-\\u041f\\u0435\\u0442\\u0435\\u0440\\u0431\\u0443\\u0440\\u0433 \\u0433, \\u043f\\u0440-\\u043a\\u0442 \\u041b\\u0435\\u0432\\u0430\\u0448\\u043e\\u0432\\u0441\\u043a\\u0438\\u0439, \\u0434 12 \\u043b\\u0438\\u0442\\u0435\\u0440\\u0430 \\u0410, \\u041f\\u043e\\u043c\\u0435\\u0449. 1\\u043d \\u043e\\u0444\\u0438\\u0441 521\",\"7811515797\",1037.0],[\"105082, \\u0413\\u043e\\u0440\\u043e\\u0434 \\u041c\\u043e\\u0441\\u043a\\u0432\\u0430, \\u0432\\u043d.\\u0442\\u0435\\u0440.\\u0433. \\u043c\\u0443\\u043d\\u0438\\u0446\\u0438\\u043f\\u0430\\u043b\\u044c\\u043d\\u044b\\u0439 \\u043e\\u043a\\u0440\\u0443\\u0433 \\u0411\\u0430\\u0441\\u043c\\u0430\\u043d\\u043d\\u044b\\u0439, \\u043d\\u0430\\u0431 \\u0420\\u0443\\u0431\\u0446\\u043e\\u0432\\u0441\\u043a\\u0430\\u044f, \\u0434. 4, \\u043a. 3, \\u043f\\u043e\\u043c\\u0435\\u0449. 4\\u002f1\",\"7723896423\",944.0],[\"117105, \\u041c\\u043e\\u0441\\u043a\\u0432\\u0430 \\u0433, \\u043c\\u0443\\u043d\\u0438\\u0446\\u0438\\u043f\\u0430\\u043b\\u044c\\u043d\\u044b\\u0439 \\u043e\\u043a\\u0440\\u0443\\u0433 \\u041d\\u0430\\u0433\\u0430\\u0442\\u0438\\u043d\\u043e-\\u0421\\u0430\\u0434\\u043e\\u0432\\u043d\\u0438\\u043a\\u0438, \\u041d\\u0430\\u0433\\u0430\\u0442\\u0438\\u043d\\u0441\\u043a\\u0438\\u0439 1-\\u0439 \\u043f\\u0440\\u043e\\u0435\\u0437\\u0434, \\u0434\\u043e\\u043c 6, \\u0441\\u0442\\u0440\\u043e\\u0435\\u043d\\u0438\\u0435 1, \\u044d\\u0442\\u0430\\u0436 4 \\u041a\\u043e\\u043c\\u043d\\u0430\\u0442\\u0430 402\\u0410\",\"9724008917\",33293.0],[\"386101, \\u0418\\u043d\\u0433\\u0443\\u0448\\u0435\\u0442\\u0438\\u044f \\u0440\\u0435\\u0441\\u043f, \\u0433. \\u041d\\u0430\\u0437\\u0440\\u0430\\u043d\\u044c, \\u0442\\u0435\\u0440 \\u0426\\u0435\\u043d\\u0442\\u0440\\u0430\\u043b\\u044c\\u043d\\u044b\\u0439 \\u041e\\u043a\\u0440\\u0443\\u0433, \\u0443\\u043b. \\u0417\\u0430\\u0432\\u043e\\u0434\\u0441\\u043a\\u0430\\u044f, \\u0434\\u043e\\u043c 16\\u0410\",\"0608039298\",47552.0],[\"123060, \\u0413\\u043e\\u0440\\u043e\\u0434 \\u041c\\u043e\\u0441\\u043a\\u0432\\u0430, \\u0432\\u043d.\\u0442\\u0435\\u0440. \\u0433. \\u041c\\u0443\\u043d\\u0438\\u0446\\u0438\\u043f\\u0430\\u043b\\u044c\\u043d\\u044b\\u0439 \\u041e\\u043a\\u0440\\u0443\\u0433 \\u0429\\u0443\\u043a\\u0438\\u043d\\u043e, \\u0443\\u043b \\u0420\\u0430\\u0441\\u043f\\u043b\\u0435\\u0442\\u0438\\u043d\\u0430, \\u0434\\u043e\\u043c 12, \\u043a\\u043e\\u0440\\u043f\\u0443\\u0441 2, \\u043f\\u043e\\u043c\\u0435\\u0449\\u0435\\u043d\\u0438\\u0435 6\\u041f\",\"7733356089\",414.0],[\"199106, \\u0421\\u0430\\u043d\\u043a\\u0442-\\u041f\\u0435\\u0442\\u0435\\u0440\\u0431\\u0443\\u0440\\u0433 \\u0433, \\u0411\\u043e\\u043b\\u044c\\u0448\\u043e\\u0439 \\u041f.\\u0421. \\u043f\\u0440-\\u043a\\u0442, \\u0434\\u043e\\u043c 87, \\u043b\\u0438\\u0442\\u0435\\u0440\\u0430 \\u0410, \\u043f\\u043e\\u043c\\u0435\\u0449\\u0435\\u043d\\u0438\\u0435 5-\\u041d,\\u043e\\u0444.1\",\"7814231666\",32050.0],[\"198328, \\u0413\\u043e\\u0440\\u043e\\u0434 \\u0421\\u0430\\u043d\\u043a\\u0442-\\u041f\\u0435\\u0442\\u0435\\u0440\\u0431\\u0443\\u0440\\u0433, \\u0411\\u0440\\u0435\\u0441\\u0442\\u0441\\u043a\\u0438\\u0439 \\u0431-\\u0440, \\u0434. 8, \\u043b\\u0438\\u0442\\u0435\\u0440\\u0430 \\u0410, \\u043f\\u043e\\u043c\\u0435\\u0449. 8-\\u041d, \\u043e\\u0444\\u0438\\u0441 415\",\"7805512935\",57767.0],[\"123376, \\u041c\\u043e\\u0441\\u043a\\u0432\\u0430 \\u0433, \\u0443\\u043b \\u041a\\u0440\\u0430\\u0441\\u043d\\u0430\\u044f \\u041f\\u0440\\u0435\\u0441\\u043d\\u044f, 28, \\u041f\\u043e\\u043c\\u0435\\u0449. IV \\u041a\\u043e\\u043c. 11\",\"9728049939\",-127148.0],[\"117133, \\u041c\\u043e\\u0441\\u043a\\u0432\\u0430 \\u0433, \\u0432\\u043d.\\u0442\\u0435\\u0440.\\u0433. \\u043c\\u0443\\u043d\\u0438\\u0446\\u0438\\u043f\\u0430\\u043b\\u044c\\u043d\\u044b\\u0439 \\u043e\\u043a\\u0440\\u0443\\u0433 \\u0422\\u0435\\u043f\\u043b\\u044b\\u0439 \\u0421\\u0442\\u0430\\u043d, \\u0443\\u043b \\u0410\\u043a\\u0430\\u0434\\u0435\\u043c\\u0438\\u043a\\u0430 \\u0412\\u0430\\u0440\\u0433\\u0438, \\u0434. 8, \\u043a\\u043e\\u0440. 1, \\u043a\\u0432. \\u042d\\u0442\\u0430\\u0436\\u002f\\u043e\\u0444\\u0438\\u0441 4\\u002f440\\u002f1\\u002fWp, \",\"7733826697\",4496.0],[\"190020, \\u0421\\u0430\\u043d\\u043a\\u0442-\\u041f\\u0435\\u0442\\u0435\\u0440\\u0431\\u0443\\u0440\\u0433 \\u0433, \\u043d\\u0430\\u0431 \\u041e\\u0431\\u0432\\u043e\\u0434\\u043d\\u043e\\u0433\\u043e \\u043a\\u0430\\u043d\\u0430\\u043b\\u0430, 150, 1, \\u043f\\u043e\\u043c\\u0435\\u0449.248.01\",\"7839469188\",93486.0],[\"143003, \\u041c\\u043e\\u0441\\u043a\\u043e\\u0432\\u0441\\u043a\\u0430\\u044f \\u043e\\u0431\\u043b\\u0430\\u0441\\u0442\\u044c, \\u0433 \\u041e\\u0434\\u0438\\u043d\\u0446\\u043e\\u0432\\u043e, \\u0443\\u043b \\u041c\\u0430\\u0440\\u0448\\u0430\\u043b\\u0430 \\u0416\\u0443\\u043a\\u043e\\u0432\\u0430, \\u0434. 2, \\u043e\\u0444\\u0438\\u0441 3\",\"5032297579\",15447.0],[\"248000, \\u041a\\u0430\\u043b\\u0443\\u0436\\u0441\\u043a\\u0430\\u044f \\u043e\\u0431\\u043b, \\u041a\\u0430\\u043b\\u0443\\u0433\\u0430 \\u0433, \\u041b\\u0435\\u043d\\u0438\\u043d\\u0430 \\u0443\\u043b, \\u0434\\u043e\\u043c 105, \\u043a\\u043e\\u0440\\u043f\\u0443\\u0441 1, \\u043a\\u0430\\u0431\\u0438\\u043d\\u0435\\u0442 12\",\"9718001751\",11911.0],[\"428022, \\u0427\\u0443\\u0432\\u0430\\u0448\\u0441\\u043a\\u0430\\u044f \\u0420\\u0435\\u0441\\u043f\\u0443\\u0431\\u043b\\u0438\\u043a\\u0430 - \\u0427\\u0443\\u0432\\u0430\\u0448\\u0438\\u044f, \\u0427\\u0435\\u0431\\u043e\\u043a\\u0441\\u0430\\u0440\\u044b \\u0433, \\u041c\\u0430\\u0440\\u043f\\u043e\\u0441\\u0430\\u0434\\u0441\\u043a\\u043e\\u0435 \\u0448, \\u0434\\u043e\\u043c \\u2116 38\",\"2129003280\",568000.0],[\"142403, \\u041c\\u043e\\u0441\\u043a\\u043e\\u0432\\u0441\\u043a\\u0430\\u044f \\u043e\\u0431\\u043b\\u0430\\u0441\\u0442\\u044c, \\u0433.\\u043e. \\u0411\\u043e\\u0433\\u043e\\u0440\\u043e\\u0434\\u0441\\u043a\\u0438\\u0439, \\u0433 \\u041d\\u043e\\u0433\\u0438\\u043d\\u0441\\u043a, \\u0443\\u043b \\u0421\\u043e\\u0432\\u0435\\u0442\\u0441\\u043a\\u043e\\u0439 \\u041a\\u043e\\u043d\\u0441\\u0442\\u0438\\u0442\\u0443\\u0446\\u0438\\u0438, \\u0434. 2\\u0410, \\u043f\\u043e\\u043c\\u0435\\u0449. II- 4.5.1\",\"5007047254\",80884.0],[\"107497, \\u041c\\u043e\\u0441\\u043a\\u0432\\u0430 \\u0433, \\u0443\\u043b \\u041c\\u043e\\u043d\\u0442\\u0430\\u0436\\u043d\\u0430\\u044f, \\u0434. 9, \\u0441\\u0442\\u0440. 1, \\u042d\\u0422\\u0410\\u0416\\u002f\\u041f\\u041e\\u041c\\u0415\\u0429. 3\\u002fIV \\u041a\\u041e\\u041c.\\u002f\\u041e\\u0424\\u0418\\u0421 13\\u002f152\",\"9718179093\",26674.0],[\"143421, \\u041c\\u043e\\u0441\\u043a\\u043e\\u0432\\u0441\\u043a\\u0430\\u044f \\u043e\\u0431\\u043b\\u0430\\u0441\\u0442\\u044c, \\u0433.\\u043e. \\u041a\\u0440\\u0430\\u0441\\u043d\\u043e\\u0433\\u043e\\u0440\\u0441\\u043a, \\u0442\\u0435\\u0440. \\u0430\\u0432\\u0442\\u043e\\u0434\\u043e\\u0440\\u043e\\u0433\\u0430 \\u0411\\u0430\\u043b\\u0442\\u0438\\u044f, \\u043a\\u043c 26-\\u0439, \\u0434. 5, \\u0441\\u0442\\u0440. 6, \\u043f\\u043e\\u043c\\u0435\\u0449. 13 (\\u0441\\u0435\\u043a\\u0446\\u0438\\u044f 1) , \\u043a\\u043e\\u043c. 3\",\"5024154009\",160490.0],[\"400075, \\u0412\\u043e\\u043b\\u0433\\u043e\\u0433\\u0440\\u0430\\u0434\\u0441\\u043a\\u0430\\u044f \\u043e\\u0431\\u043b, \\u0433 \\u0412\\u043e\\u043b\\u0433\\u043e\\u0433\\u0440\\u0430\\u0434, \\u043f\\u0440\\u043e\\u0435\\u0437\\u0434 \\u0414\\u043e\\u0440\\u043e\\u0436\\u043d\\u0438\\u043a\\u043e\\u0432, \\u0432\\u043b\\u0434 10\",\"3443922835\",18593.0],[\"347371, \\u0420\\u043e\\u0441\\u0442\\u043e\\u0432\\u0441\\u043a\\u0430\\u044f \\u043e\\u0431\\u043b, \\u0433 \\u0412\\u043e\\u043b\\u0433\\u043e\\u0434\\u043e\\u043d\\u0441\\u043a, \\u0431-\\u0440 \\u0412\\u0435\\u043b\\u0438\\u043a\\u043e\\u0439 \\u041f\\u043e\\u0431\\u0435\\u0434\\u044b, \\u0434. 13\",\"6118008728\",24117.0],[\"\\u0433. \\u041c\\u043e\\u0441\\u043a\\u0432\\u0430, \\u0432\\u043d.\\u0442\\u0435\\u0440.\\u0433. \\u043c\\u0443\\u043d\\u0438\\u0446\\u0438\\u043f\\u0430\\u043b\\u044c\\u043d\\u044b\\u0439 \\u043e\\u043a\\u0440\\u0443\\u0433 \\u0410\\u044d\\u0440\\u043e\\u043f\\u043e\\u0440\\u0442, \\u041b\\u0435\\u043d\\u0438\\u043d\\u0433\\u0440\\u0430\\u0434\\u0441\\u043a\\u0438\\u0439 \\u043f\\u0440-\\u043a\\u0442, \\u0434. 66, \\u041f\\u041e\\u041c\\u0415\\u0429. 1\\u041d, 125315\",\"9731058806\",8854.0],[\"364025, \\u0433. \\u0413\\u0440\\u043e\\u0437\\u043d\\u044b\\u0439, \\u0431-\\u0440 \\u0438\\u043c. \\u041c.\\u0410. \\u042d\\u0441\\u0430\\u043c\\u0431\\u0430\\u0435\\u0432\\u0430, \\u0434. 7\\u002f84, \\u042d\\u0442\\u0430\\u0436 2, \\u041e\\u0424\\u0418\\u0421 5\",\"2013007991\",107159.0],[\"107023, \\u041c\\u043e\\u0441\\u043a\\u0432\\u0430 \\u0433, \\u0421\\u0435\\u043c\\u0451\\u043d\\u043e\\u0432\\u0441\\u043a\\u0430\\u044f \\u041c. \\u0443\\u043b, \\u0434\\u043e\\u043c 3\\u0410, \\u0441\\u0442\\u0440\\u043e\\u0435\\u043d\\u0438\\u0435 1, \\u044d\\u0442\\u0430\\u0436  8 , \\u043f\\u043e\\u043c\\u0435\\u0449\\u0435\\u043d\\u0438\\u0435 XXI , \\u043a\\u043e\\u043c\\u043d\\u0430\\u0442\\u0430 7\",\"7727235230\",4956.0],[\"603105, \\u041d\\u0438\\u0436\\u0435\\u0433\\u043e\\u0440\\u043e\\u0434\\u0441\\u043a\\u0430\\u044f \\u043e\\u0431\\u043b\\u0430\\u0441\\u0442\\u044c, \\u0433.\\u043e. \\u0413\\u043e\\u0440\\u043e\\u0434 \\u041d\\u0438\\u0436\\u043d\\u0438\\u0439 \\u041d\\u043e\\u0432\\u0433\\u043e\\u0440\\u043e\\u0434, \\u0433 \\u041d\\u0438\\u0436\\u043d\\u0438\\u0439 \\u041d\\u043e\\u0432\\u0433\\u043e\\u0440\\u043e\\u0434, \\u0443\\u043b \\u0412\\u0430\\u043d\\u0435\\u0435\\u0432\\u0430, \\u0434\\u043e\\u043c 15\\u002f34, \\u043f\\u043e\\u043c\\u0435\\u0449\\u0435\\u043d\\u0438\\u0435 \\u041f2, \\u041e\\u0424. 6\\u002f1\",\"5262390124\",42910.0],[\"614506, \\u041f\\u0435\\u0440\\u043c\\u0441\\u043a\\u0438\\u0439 \\u043a\\u0440\\u0430\\u0439, \\u0440-\\u043d \\u041f\\u0435\\u0440\\u043c\\u0441\\u043a\\u0438\\u0439, \\u0434 \\u041a\\u043e\\u043d\\u0434\\u0440\\u0430\\u0442\\u043e\\u0432\\u043e, \\u0443\\u043b \\u0412\\u043e\\u0434\\u043e\\u043f\\u0440\\u043e\\u0432\\u043e\\u0434\\u043d\\u0430\\u044f, 8, 34\",\"5903113300\",39236.0],[\"618417, \\u041f\\u0435\\u0440\\u043c\\u0441\\u043a\\u0438\\u0439 \\u043a\\u0440\\u0430\\u0439, \\u0433 \\u0411\\u0435\\u0440\\u0435\\u0437\\u043d\\u0438\\u043a\\u0438, \\u043f\\u043b \\u0421\\u043e\\u0432\\u0435\\u0442\\u0441\\u043a\\u0430\\u044f, 5\",\"5020074955\",230102.0],[\"141506, \\u041c\\u043e\\u0441\\u043a\\u043e\\u0432\\u0441\\u043a\\u0430\\u044f \\u043e\\u0431\\u043b, \\u0433 \\u0421\\u043e\\u043b\\u043d\\u0435\\u0447\\u043d\\u043e\\u0433\\u043e\\u0440\\u0441\\u043a, \\u0443\\u043b \\u041a\\u0440\\u0430\\u0441\\u043d\\u0430\\u044f, \\u043a\\u043e\\u0440. 23, \\u043a\\u0432. 26, \",\"5044093594\",347489.0],[\"115054, \\u0413\\u043e\\u0440\\u043e\\u0434 \\u041c\\u043e\\u0441\\u043a\\u0432\\u0430, \\u0432\\u043d.\\u0442\\u0435\\u0440. \\u0433. \\u041c\\u0443\\u043d\\u0438\\u0446\\u0438\\u043f\\u0430\\u043b\\u044c\\u043d\\u044b\\u0439 \\u041e\\u043a\\u0440\\u0443\\u0433 \\u0417\\u0430\\u043c\\u043e\\u0441\\u043a\\u0432\\u043e\\u0440\\u0435\\u0447\\u044c\\u0435, \\u0443\\u043b \\u0411\\u043e\\u043b\\u044c\\u0448\\u0430\\u044f \\u041f\\u0438\\u043e\\u043d\\u0435\\u0440\\u0441\\u043a\\u0430\\u044f, \\u0434\\u043e\\u043c 15, \\u0441\\u0442\\u0440\\u043e\\u0435\\u043d\\u0438\\u0435 1, \\u043f\\u043e\\u043c\\u0435\\u0449\\u0435\\u043d\\u0438\\u0435 1\\u002f1\",\"9705094854\",132089.0],[\"192019, \\u0413\\u043e\\u0440\\u043e\\u0434 \\u0421\\u0430\\u043d\\u043a\\u0442-\\u041f\\u0435\\u0442\\u0435\\u0440\\u0431\\u0443\\u0440\\u0433, \\u0432\\u043d.\\u0442\\u0435\\u0440. \\u0433. \\u041c\\u0443\\u043d\\u0438\\u0446\\u0438\\u043f\\u0430\\u043b\\u044c\\u043d\\u044b\\u0439 \\u041e\\u043a\\u0440\\u0443\\u0433 \\u041d\\u0435\\u0432\\u0441\\u043a\\u0430\\u044f \\u0417\\u0430\\u0441\\u0442\\u0430\\u0432\\u0430, \\u0443\\u043b \\u0411\\u0435\\u0445\\u0442\\u0435\\u0440\\u0435\\u0432\\u0430, \\u0434\\u043e\\u043c 2, \\u043b\\u0438\\u0442\\u0435\\u0440\\u0430 \\u0428, \\u043e\\u0444\\u0438\\u0441 \\u2116 \\u0428-219\",\"7811785095\",6533.0],[\"105082, \\u041c\\u043e\\u0441\\u043a\\u0432\\u0430 \\u0433, \\u0443\\u043b \\u0424\\u0440\\u0438\\u0434\\u0440\\u0438\\u0445\\u0430 \\u042d\\u043d\\u0433\\u0435\\u043b\\u044c\\u0441\\u0430, \\u0434 75 \\u0441\\u0442\\u0440 10, 8\",\"7709900396\",937.0],[\"629000, \\u042f\\u043c\\u0430\\u043b\\u043e-\\u041d\\u0435\\u043d\\u0435\\u0446\\u043a\\u0438\\u0439 \\u0410\\u041e, \\u0433 \\u041d\\u043e\\u0432\\u044b\\u0439 \\u0423\\u0440\\u0435\\u043d\\u0433\\u043e\\u0439, \\u043f\\u0440\\u043e\\u0435\\u0437\\u0434 \\u041f\\u0440\\u043e\\u0438\\u0437\\u0432\\u043e\\u0434\\u0441\\u0442\\u0432\\u0435\\u043d\\u043d\\u044b\\u0439, \\u0434 20\",\"8904071232\",254566.0],[\"199178, \\u0421\\u0430\\u043d\\u043a\\u0442-\\u041f\\u0435\\u0442\\u0435\\u0440\\u0431\\u0443\\u0440\\u0433 \\u0433, 18-\\u044f \\u0412.\\u041e. \\u043b\\u0438\\u043d\\u0438\\u044f, \\u0434\\u043e\\u043c 45, \\u043b\\u0438\\u0442\\u0435\\u0440\\u0430 \\u0410, \\u043f\\u043e\\u043c\\u0435\\u0449\\u0435\\u043d\\u0438\\u0435 4\\u041d\",\"7801311307\",1895.0],[\"129085, \\u041c\\u043e\\u0441\\u043a\\u0432\\u0430 \\u0433, \\u043f\\u0440-\\u043a\\u0442 \\u041c\\u0438\\u0440\\u0430, \\u0434. 101, \\u0441\\u0442\\u0440. 1, \\u044d\\u0442\\u0430\\u0436 3, \\u043f\\u043e\\u043c\\u0435\\u0449. I, \\u043a\\u043e\\u043c. 16\",\"2373003784\",6393.0],[\"678995, \\u0420\\u0435\\u0441\\u043f\\u0443\\u0431\\u043b\\u0438\\u043a\\u0430 \\u0421\\u0430\\u0445\\u0430 (\\u042f\\u043a\\u0443\\u0442\\u0438\\u044f), \\u0440-\\u043d \\u041d\\u0435\\u0440\\u044e\\u043d\\u0433\\u0440\\u0438\\u043d\\u0441\\u043a\\u0438\\u0439, \\u043f \\u0421\\u0435\\u0440\\u0435\\u0431\\u0440\\u044f\\u043d\\u044b\\u0439 \\u0411\\u043e\\u0440, \\u0437\\u043e\\u043d\\u0430 \\u0410, \\u0441\\u0442\\u0440. 24\\u0410\",\"1434000485\",6100.0],[\"660049, \\u041a\\u0440\\u0430\\u0441\\u043d\\u043e\\u044f\\u0440\\u0441\\u043a\\u0438\\u0439 \\u043a\\u0440\\u0430\\u0439, \\u0433 \\u041a\\u0440\\u0430\\u0441\\u043d\\u043e\\u044f\\u0440\\u0441\\u043a, \\u0443\\u043b \\u041a\\u0430\\u0440\\u043b\\u0430 \\u041c\\u0430\\u0440\\u043a\\u0441\\u0430, \\u0434. 93, \\u043f\\u043e\\u043c\\u0435\\u0449. 1, \\u043e\\u0444\\u0438\\u0441 525\",\"2453012311\",34100.0],[\"127051, \\u0413\\u043e\\u0440\\u043e\\u0434 \\u041c\\u043e\\u0441\\u043a\\u0432\\u0430, \\u0432\\u043d.\\u0442\\u0435\\u0440.\\u0433. \\u043c\\u0443\\u043d\\u0438\\u0446\\u0438\\u043f\\u0430\\u043b\\u044c\\u043d\\u044b\\u0439 \\u043e\\u043a\\u0440\\u0443\\u0433 \\u041c\\u0435\\u0449\\u0430\\u043d\\u0441\\u043a\\u0438\\u0439, \\u0431-\\u0440 \\u0426\\u0432\\u0435\\u0442\\u043d\\u043e\\u0439, \\u0434. 26, \\u0441\\u0442\\u0440. 1\",\"2636809256\",11012.0],[\"\\u0412\\u043b\\u0430\\u0434\\u0438\\u043c\\u0438\\u0440 \\u0433, \\u0410\\u043b\\u0435\\u043a\\u0441\\u0430\\u043d\\u0434\\u0440\\u0430 \\u041c\\u0430\\u0442\\u0440\\u043e\\u0441\\u043e\\u0432\\u0430 \\u0443\\u043b, 1, 600005\",\"3327332190\",47723.0],[\"117342, \\u0413\\u043e\\u0440\\u043e\\u0434 \\u041c\\u043e\\u0441\\u043a\\u0432\\u0430, \\u0432\\u043d.\\u0442\\u0435\\u0440. \\u0433. \\u041c\\u0443\\u043d\\u0438\\u0446\\u0438\\u043f\\u0430\\u043b\\u044c\\u043d\\u044b\\u0439 \\u041e\\u043a\\u0440\\u0443\\u0433 \\u041a\\u043e\\u043d\\u044c\\u043a\\u043e\\u0432\\u043e, \\u0443\\u043b \\u0411\\u0443\\u0442\\u043b\\u0435\\u0440\\u043e\\u0432\\u0430, \\u0434\\u043e\\u043c 17\\u0411, \\u044d\\u0442\\u0430\\u0436\\u002f\\u043f\\u043e\\u043c\\u0435\\u0449\\u0435\\u043d\\u0438\\u0435 3\\u002fXII, \\u043a\\u043e\\u043c\\u043d\\u0430\\u0442\\u0430\\u002f\\u043e\\u0444\\u0438\\u0441 86\\u002f5\\u002f110\",\"7720363508\",5254.0],[\"196135, \\u0413\\u043e\\u0440\\u043e\\u0434 \\u0421\\u0430\\u043d\\u043a\\u0442-\\u041f\\u0435\\u0442\\u0435\\u0440\\u0431\\u0443\\u0440\\u0433, \\u0443\\u043b \\u0422\\u0438\\u043f\\u0430\\u043d\\u043e\\u0432\\u0430, \\u0434. 23, \\u043a. 2, \\u0441\\u0442\\u0440. 1, \\u043f\\u043e\\u043c\\u0435\\u0449. 10\\u041d \\u0447.\\u043f.6\",\"7805655443\",30539.0],[\"680038, \\u0425\\u0430\\u0431\\u0430\\u0440\\u043e\\u0432\\u0441\\u043a\\u0438\\u0439 \\u043a\\u0440\\u0430\\u0439, \\u0425\\u0430\\u0431\\u0430\\u0440\\u043e\\u0432\\u0441\\u043a \\u0433, \\u0418\\u0441\\u0442\\u043e\\u043c\\u0438\\u043d\\u0430 \\u0443\\u043b, \\u0434\\u043e\\u043c 73, \\u043a\\u0432\\u0430\\u0440\\u0442\\u0438\\u0440\\u0430 8\",\"2722015440\",21527.0],[\"394011, \\u0412\\u043e\\u0440\\u043e\\u043d\\u0435\\u0436\\u0441\\u043a\\u0430\\u044f \\u043e\\u0431\\u043b\\u0430\\u0441\\u0442\\u044c, \\u0433.\\u043e. \\u0413\\u043e\\u0440\\u043e\\u0434 \\u0412\\u043e\\u0440\\u043e\\u043d\\u0435\\u0436, \\u0433 \\u0412\\u043e\\u0440\\u043e\\u043d\\u0435\\u0436, \\u0443\\u043b \\u0421\\u043e\\u0441\\u043d\\u043e\\u0432\\u0430\\u044f, \\u0434\\u043e\\u043c 23, \\u043e\\u0444\\u0438\\u0441 2\",\"3665070740\",173.0],[\"150043, \\u042f\\u0440\\u043e\\u0441\\u043b\\u0430\\u0432\\u0441\\u043a\\u0430\\u044f \\u043e\\u0431\\u043b, \\u0433 \\u042f\\u0440\\u043e\\u0441\\u043b\\u0430\\u0432\\u043b\\u044c, \\u0443\\u043b \\u041a\\u0430\\u0440\\u043b\\u0430 \\u041b\\u0438\\u0431\\u043a\\u043d\\u0435\\u0445\\u0442\\u0430, \\u0434. 14\\u0411, \\u043f\\u043e\\u043c\\u0435\\u0449. 8\",\"7604208068\",117528.0],[\"129626, \\u041c\\u043e\\u0441\\u043a\\u0432\\u0430 \\u0433, \\u0443\\u043b 2-\\u044f \\u041c\\u044b\\u0442\\u0438\\u0449\\u0438\\u043d\\u0441\\u043a\\u0430\\u044f, 2, 1, 2\",\"5047127450\",28734.0],[\"394068, \\u0412\\u043e\\u0440\\u043e\\u043d\\u0435\\u0436\\u0441\\u043a\\u0430\\u044f \\u043e\\u0431\\u043b\\u0430\\u0441\\u0442\\u044c, \\u0433 \\u0412\\u043e\\u0440\\u043e\\u043d\\u0435\\u0436, \\u0443\\u043b \\u0428\\u0438\\u0448\\u043a\\u043e\\u0432\\u0430, \\u0434. 75\\u0411, \\u043f\\u043e\\u043c\\u0435\\u0449. 5\",\"3662149086\",153816.0],[\"354003, \\u041a\\u0440\\u0430\\u0441\\u043d\\u043e\\u0434\\u0430\\u0440\\u0441\\u043a\\u0438\\u0439 \\u043a\\u0440\\u0430\\u0439, \\u0433.\\u043e. \\u0433\\u043e\\u0440\\u043e\\u0434-\\u043a\\u0443\\u0440\\u043e\\u0440\\u0442 \\u0421\\u043e\\u0447\\u0438, \\u0433 \\u0421\\u043e\\u0447\\u0438, \\u0443\\u043b \\u0410\\u0431\\u0440\\u0438\\u043a\\u043e\\u0441\\u043e\\u0432\\u0430\\u044f, \\u0434. 23\\u0410, \\u043f\\u043e\\u043c\\u0435\\u0449. 67\",\"2320177385\",-40934.0],[\"650025, \\u041a\\u0435\\u043c\\u0435\\u0440\\u043e\\u0432\\u0441\\u043a\\u0430\\u044f \\u043e\\u0431\\u043b, \\u041a\\u0435\\u043c\\u0435\\u0440\\u043e\\u0432\\u043e \\u0433, \\u041a\\u0443\\u0437\\u043d\\u0435\\u0446\\u043a\\u0438\\u0439 \\u043f\\u0440-\\u043a\\u0442, \\u0434\\u043e\\u043c \\u2116 73, \\u043a\\u043e\\u0440\\u043f\\u0443\\u0441 \\u0430, \\u043e\\u0444\\u0438\\u0441 211\",\"4205347900\",165090.0],[\"295493, \\u041a\\u0440\\u044b\\u043c \\u0440\\u0435\\u0441\\u043f, \\u0421\\u0438\\u043c\\u0444\\u0435\\u0440\\u043e\\u043f\\u043e\\u043b\\u044c \\u0433, \\u041b\\u0430\\u0432\\u0430\\u043d\\u0434\\u043e\\u0432\\u044b\\u0439 \\u043f\\u0435\\u0440, \\u0434\\u043e\\u043c 2, \\u043b\\u0438\\u0442\\u0435\\u0440\\u0430 \\u0410, \\u043e\\u0444\\u0438\\u0441 9\",\"9102021944\",24202.0],[\"190000, \\u0421\\u0430\\u043d\\u043a\\u0442-\\u041f\\u0435\\u0442\\u0435\\u0440\\u0431\\u0443\\u0440\\u0433 \\u0433, \\u0412\\u0430\\u0440\\u0448\\u0430\\u0432\\u0441\\u043a\\u0430\\u044f \\u0443\\u043b, \\u0434\\u043e\\u043c \\u2116 5\\u0410, \\u043a\\u043e\\u0440\\u043f\\u0443\\u0441 16 \\u043b\\u0438\\u0442\\u0435\\u0440 \\u0410\\u0412, \\u043f\\u043e\\u043c\\u0435\\u0449\\u0435\\u043d\\u0438\\u0435 2\\u041d  \\u043a\\u043e\\u043c\\u043d. 2\",\"7810802206\",7334.0],[\"249030, \\u041a\\u0430\\u043b\\u0443\\u0436\\u0441\\u043a\\u0430\\u044f \\u043e\\u0431\\u043b, \\u041e\\u0431\\u043d\\u0438\\u043d\\u0441\\u043a \\u0433, \\u0421\\u043b\\u0430\\u0432\\u0441\\u043a\\u043e\\u0433\\u043e \\u0443\\u043b, \\u0434\\u043e\\u043c \\u2116 2\",\"4025442488\",258514.0],[\"141400, \\u041c\\u043e\\u0441\\u043a\\u043e\\u0432\\u0441\\u043a\\u0430\\u044f \\u043e\\u0431\\u043b, \\u0433 \\u0425\\u0438\\u043c\\u043a\\u0438, \\u0443\\u043b \\u0410\\u043a\\u0430\\u0434\\u0435\\u043c\\u0438\\u043a\\u0430 \\u0413\\u043b\\u0443\\u0448\\u043a\\u043e, \\u0434 2, II\",\"5047129496\",60887.0],[\"450096, \\u0411\\u0430\\u0448\\u043a\\u043e\\u0440\\u0442\\u043e\\u0441\\u0442\\u0430\\u043d \\u0420\\u0435\\u0441\\u043f, \\u0433 \\u0423\\u0444\\u0430, \\u0443\\u043b \\u042d\\u043d\\u0442\\u0443\\u0437\\u0438\\u0430\\u0441\\u0442\\u043e\\u0432, 16, 15\",\"0276978622\",36660.0],[\"443008, \\u0421\\u0430\\u043c\\u0430\\u0440\\u0441\\u043a\\u0430\\u044f \\u043e\\u0431\\u043b\\u0430\\u0441\\u0442\\u044c, \\u0433.\\u043e. \\u0421\\u0430\\u043c\\u0430\\u0440\\u0430, \\u0432\\u043d.\\u0440-\\u043d \\u041f\\u0440\\u043e\\u043c\\u044b\\u0448\\u043b\\u0435\\u043d\\u043d\\u044b\\u0439, \\u0433 \\u0421\\u0430\\u043c\\u0430\\u0440\\u0430, \\u0442\\u0443\\u043f \\u0422\\u043e\\u043c\\u0430\\u0448\\u0435\\u0432\\u0441\\u043a\\u0438\\u0439, \\u0434. 16, \\u043f\\u043e\\u043c\\u0435\\u0449. \\u041d1\",\"6312205614\",416428.0],[\"295017, \\u041a\\u0440\\u044b\\u043c \\u0420\\u0435\\u0441\\u043f, \\u0433 \\u0421\\u0438\\u043c\\u0444\\u0435\\u0440\\u043e\\u043f\\u043e\\u043b\\u044c, \\u0443\\u043b \\u0422\\u0443\\u0440\\u0433\\u0435\\u043d\\u0435\\u0432\\u0430, 22\",\"9102216968\",245482.0],[\"115093, \\u041c\\u043e\\u0441\\u043a\\u0432\\u0430 \\u0433, \\u0443\\u043b \\u041b\\u044e\\u0441\\u0438\\u043d\\u043e\\u0432\\u0441\\u043a\\u0430\\u044f, \\u0434 12\\u0410, \\u043f\\u043e\\u043c\\u0435\\u0449\\u0435\\u043d\\u0438\\u0435 1\\u002f2\",\"7705514738\",3202.0],[\"115409, \\u041c\\u043e\\u0441\\u043a\\u0432\\u0430 \\u0433, \\u041a\\u0430\\u0448\\u0438\\u0440\\u0441\\u043a\\u043e\\u0435 \\u0448, \\u0434\\u043e\\u043c 66, \\u043a\\u043e\\u0440\\u043f\\u0443\\u0441 2, \\u043e\\u0444\\u0438\\u0441 35\",\"7708336000\",35257.0],[\"344002, \\u0420\\u043e\\u0441\\u0442\\u043e\\u0432\\u0441\\u043a\\u0430\\u044f \\u043e\\u0431\\u043b\\u0430\\u0441\\u0442\\u044c, \\u0420\\u043e\\u0441\\u0442\\u043e\\u0432-\\u043d\\u0430-\\u0434\\u043e\\u043d\\u0443 \\u0433., \\u0443\\u043b. \\u0421\\u043e\\u0446\\u0438\\u0430\\u043b\\u0438\\u0441\\u0442\\u0438\\u0447\\u0435\\u0441\\u043a\\u0430\\u044f, \\u0437\\u0434. 74, \\u043f\\u043e\\u043c. 205\",\"6164132455\",18865.0],[\"143325, \\u041c\\u043e\\u0441\\u043a\\u043e\\u0432\\u0441\\u043a\\u0430\\u044f \\u043e\\u0431\\u043b\\u0430\\u0441\\u0442\\u044c, \\u0433. \\u041d\\u0430\\u0440\\u043e-\\u0424\\u043e\\u043c\\u0438\\u043d\\u0441\\u043a, \\u043f. \\u041d\\u043e\\u0432\\u0430\\u044f \\u041e\\u043b\\u044c\\u0445\\u043e\\u0432\\u043a\\u0430, \\u0434\\u043e\\u043c \\u0417\\u0414. \\u0423\\u0427\\u0415\\u0411\\u041d\\u042b\\u0419 \\u041a\\u041e\\u041c\\u0411\\u0418\\u041d\\u0410\\u0422, \\u043a\\u0430\\u0431\\u0438\\u043d\\u0435\\u0442 17\",\"5030083927\",31498.0],[\"236000, \\u041a\\u0430\\u043b\\u0438\\u043d\\u0438\\u043d\\u0433\\u0440\\u0430\\u0434\\u0441\\u043a\\u0430\\u044f \\u043e\\u0431\\u043b, \\u0433 \\u041a\\u0430\\u043b\\u0438\\u043d\\u0438\\u043d\\u0433\\u0440\\u0430\\u0434, \\u0443\\u043b \\u041c\\u0443\\u0441\\u043e\\u0440\\u0433\\u0441\\u043a\\u043e\\u0433\\u043e, 10\",\"3906954146\",14459.0],[\"308024, \\u0411\\u0435\\u043b\\u0433\\u043e\\u0440\\u043e\\u0434\\u0441\\u043a\\u0430\\u044f \\u043e\\u0431\\u043b, \\u0411\\u0435\\u043b\\u0433\\u043e\\u0440\\u043e\\u0434 \\u0433, \\u041c\\u043e\\u043a\\u0440\\u043e\\u0443\\u0441\\u043e\\u0432\\u0430 \\u0443\\u043b, \\u0434\\u043e\\u043c 23 \\u0410, \\u043e\\u0444\\u0438\\u0441 209\",\"3123465837\",27288.0],[\"692918, \\u041f\\u0440\\u0438\\u043c\\u043e\\u0440\\u0441\\u043a\\u0438\\u0439 \\u043a\\u0440\\u0430\\u0439, \\u0433 \\u041d\\u0430\\u0445\\u043e\\u0434\\u043a\\u0430, \\u0443\\u043b \\u041c\\u0438\\u043d\\u0441\\u043a\\u0430\\u044f, \\u0434. 3, \",\"2508055910\",78816.0],[\"630096, \\u041d\\u043e\\u0432\\u043e\\u0441\\u0438\\u0431\\u0438\\u0440\\u0441\\u043a\\u0430\\u044f \\u043e\\u0431\\u043b\\u0430\\u0441\\u0442\\u044c, \\u0433.\\u043e. \\u0433\\u043e\\u0440\\u043e\\u0434 \\u041d\\u043e\\u0432\\u043e\\u0441\\u0438\\u0431\\u0438\\u0440\\u0441\\u043a, \\u0433 \\u041d\\u043e\\u0432\\u043e\\u0441\\u0438\\u0431\\u0438\\u0440\\u0441\\u043a, \\u0443\\u043b \\u0421\\u0442\\u0430\\u043d\\u0446\\u0438\\u043e\\u043d\\u043d\\u0430\\u044f, \\u0437\\u0434. 60\\u002f12\",\"4205243072\",29005.0],[\"129515, \\u041c\\u043e\\u0441\\u043a\\u0432\\u0430 \\u0433, \\u0443\\u043b \\u0410\\u043a\\u0430\\u0434\\u0435\\u043c\\u0438\\u043a\\u0430 \\u041a\\u043e\\u0440\\u043e\\u043b\\u0435\\u0432\\u0430, 8\\u0410, \\u043f\\u043e\\u043c\\u0435\\u0449\\u0435\\u043d\\u0438\\u0435 I, \\u043a\\u043e\\u043c\\u043d\\u0430\\u0442\\u0430 35\",\"5074029726\",128268.0],[\"656037, \\u0410\\u043b\\u0442\\u0430\\u0439\\u0441\\u043a\\u0438\\u0439 \\u043a\\u0440\\u0430\\u0439, \\u0433 \\u0411\\u0430\\u0440\\u043d\\u0430\\u0443\\u043b, \\u043f\\u0440-\\u043a\\u0442 \\u041a\\u0430\\u043b\\u0438\\u043d\\u0438\\u043d\\u0430, 116\\u002f2\",\"2222022619\",32537.0],[\"625001, \\u0422\\u044e\\u043c\\u0435\\u043d\\u0441\\u043a\\u0430\\u044f \\u043e\\u0431\\u043b\\u0430\\u0441\\u0442\\u044c, \\u0433 \\u0422\\u044e\\u043c\\u0435\\u043d\\u044c, \\u0443\\u043b \\u041b\\u0443\\u043d\\u0430\\u0447\\u0430\\u0440\\u0441\\u043a\\u043e\\u0433\\u043e, \\u0434. 20, \\u043e\\u0444\\u0438\\u0441 403\",\"7204200191\",60685.0],[\"633009, \\u041d\\u043e\\u0432\\u043e\\u0441\\u0438\\u0431\\u0438\\u0440\\u0441\\u043a\\u0430\\u044f \\u043e\\u0431\\u043b, \\u0433.\\u0411\\u0435\\u0440\\u0434\\u0441\\u043a, \\u0443\\u043b.\\u0417\\u0435\\u043b\\u0435\\u043d\\u0430\\u044f \\u0420\\u043e\\u0449\\u0430, \\u0434.5\\u002f13\",\"5408172453\",245407.0],[\"142155, \\u041c\\u043e\\u0441\\u043a\\u043e\\u0432\\u0441\\u043a\\u0430\\u044f \\u043e\\u0431\\u043b, \\u0433 \\u041f\\u043e\\u0434\\u043e\\u043b\\u044c\\u0441\\u043a,  \\u041f\\u0440\\u043e\\u043b\\u0435\\u0442\\u0430\\u0440\\u0441\\u043a\\u0430\\u044f \\u0443\\u043b (\\u041b\\u044c\\u0432\\u043e\\u0432\\u0441\\u043a\\u0438\\u0439 \\u043c\\u043a\\u0440.), 6\\u0430\",\"5074045598\",21344.0],[\"357602, \\u0421\\u0442\\u0430\\u0432\\u0440\\u043e\\u043f\\u043e\\u043b\\u044c\\u0441\\u043a\\u0438\\u0439 \\u043a\\u0440\\u0430\\u0439, \\u0415\\u0441\\u0441\\u0435\\u043d\\u0442\\u0443\\u043a\\u0438 \\u0433, \\u041d\\u0438\\u043a\\u043e\\u043b\\u044c\\u0441\\u043a\\u0430\\u044f \\u0443\\u043b, \\u0434\\u043e\\u043c \\u2116 15\\u0410, \\u043e\\u0444\\u0438\\u0441 45\",\"2626047418\",14572.0],[\"690017, \\u041f\\u0440\\u0438\\u043c\\u043e\\u0440\\u0441\\u043a\\u0438\\u0439 \\u043a\\u0440\\u0430\\u0439, \\u0412\\u043b\\u0430\\u0434\\u0438\\u0432\\u043e\\u0441\\u0442\\u043e\\u043a \\u0433, \\u0413\\u0435\\u0440\\u043e\\u0435\\u0432 \\u0422\\u0438\\u0445\\u043e\\u043e\\u043a\\u0435\\u0430\\u043d\\u0446\\u0435\\u0432 \\u0443\\u043b, \\u0434\\u043e\\u043c 5\\u0410, \\u043e\\u0444\\u0438\\u0441 213\",\"2537100395\",729.0],[\"123376, \\u041c\\u043e\\u0441\\u043a\\u0432\\u0430 \\u0433, \\u0443\\u043b \\u041a\\u0440\\u0430\\u0441\\u043d\\u0430\\u044f \\u041f\\u0440\\u0435\\u0441\\u043d\\u044f, \\u0434 24\",\"5406989257\",83729.0],[\"117628, \\u0413\\u043e\\u0440\\u043e\\u0434 \\u041c\\u043e\\u0441\\u043a\\u0432\\u0430, \\u0432\\u043d.\\u0442\\u0435\\u0440.\\u0433. \\u043c\\u0443\\u043d\\u0438\\u0446\\u0438\\u043f\\u0430\\u043b\\u044c\\u043d\\u044b\\u0439 \\u043e\\u043a\\u0440\\u0443\\u0433 \\u0421\\u0435\\u0432\\u0435\\u0440\\u043d\\u043e\\u0435 \\u0411\\u0443\\u0442\\u043e\\u0432\\u043e, \\u0443\\u043b \\u0421\\u0442\\u0430\\u0440\\u043e\\u0431\\u0438\\u0442\\u0446\\u0435\\u0432\\u0441\\u043a\\u0430\\u044f, \\u0434. 21, \\u043a. 2, \\u043f\\u043e\\u043c\\u0435\\u0449. 1\\u0410\\u002f\\u041d\",\"7726471919\",5703.0],[\"620078, \\u0421\\u0432\\u0435\\u0440\\u0434\\u043b\\u043e\\u0432\\u0441\\u043a\\u0430\\u044f \\u043e\\u0431\\u043b, \\u0415\\u043a\\u0430\\u0442\\u0435\\u0440\\u0438\\u043d\\u0431\\u0443\\u0440\\u0433 \\u0433, \\u0421\\u0442\\u0443\\u0434\\u0435\\u043d\\u0447\\u0435\\u0441\\u043a\\u0430\\u044f \\u0443\\u043b, \\u0434\\u043e\\u043c \\u2116 53, \\u043e\\u0444\\u0438\\u0441 1\",\"6686013756\",2480.0],[\"\\u0433. \\u041c\\u043e\\u0441\\u043a\\u0432\\u0430, \\u0432\\u043d.\\u0442\\u0435\\u0440.\\u0433. \\u043c\\u0443\\u043d\\u0438\\u0446\\u0438\\u043f\\u0430\\u043b\\u044c\\u043d\\u044b\\u0439 \\u043e\\u043a\\u0440\\u0443\\u0433 \\u0417\\u0430\\u043c\\u043e\\u0441\\u043a\\u0432\\u043e\\u0440\\u0435\\u0447\\u044c\\u0435, \\u0443\\u043b. \\u0414\\u0443\\u0431\\u0438\\u043d\\u0438\\u043d\\u0441\\u043a\\u0430\\u044f, \\u0434. 11\\u002f17, \\u0441\\u0442\\u0440. 3, \\u041f\\u041e\\u041c\\u0415\\u0429. 66\\u0410\\u002f\\u0427, 115054\",\"9705226740\",18.0],[\"191014, \\u0421\\u0430\\u043d\\u043a\\u0442-\\u041f\\u0435\\u0442\\u0435\\u0440\\u0431\\u0443\\u0440\\u0433 \\u0433, \\u0420\\u044b\\u043b\\u0435\\u0435\\u0432\\u0430 \\u0443\\u043b, \\u0434\\u043e\\u043c 3, \\u043b\\u0438\\u0442\\u0435\\u0440\\u0430 \\u0410, \\u043f\\u043e\\u043c\\u0435\\u0449\\u0435\\u043d\\u0438\\u0435 7\\u041d, \\u043e\\u0444\\u0438\\u0441 12\",\"3528206654\",-11430.0],[\"\\u041c\\u043e\\u0441\\u043a\\u0432\\u0430 \\u0433, \\u0443\\u043b 1812 \\u0433\\u043e\\u0434\\u0430, \\u0434 10, \\u043a 2, \\u043a\\u0432 1\",\"7730181560\",447474.0],[\"115093, \\u0413\\u043e\\u0440\\u043e\\u0434 \\u041c\\u043e\\u0441\\u043a\\u0432\\u0430, \\u043f\\u0435\\u0440 \\u0421\\u0435\\u0440\\u043f\\u0443\\u0445\\u043e\\u0432\\u0441\\u043a\\u0438\\u0439, \\u0434. 1-3-5, \\u0441\\u0442\\u0440. 3, \\u043f\\u043e\\u043c\\u0435\\u0449. 1\",\"5029170815\",14552.0],[\"142121, \\u041c\\u043e\\u0441\\u043a\\u043e\\u0432\\u0441\\u043a\\u0430\\u044f \\u043e\\u0431\\u043b, \\u041f\\u043e\\u0434\\u043e\\u043b\\u044c\\u0441\\u043a \\u0433, \\u041a\\u0443\\u0437\\u043d\\u0435\\u0447\\u0438\\u043a\\u0438 \\u043c\\u043a\\u0440., \\u0410\\u043a\\u0430\\u0434\\u0435\\u043c\\u0438\\u043a\\u0430 \\u0414\\u043e\\u043b\\u043b\\u0435\\u0436\\u0430\\u043b\\u044f \\u0443\\u043b, \\u0434\\u043e\\u043c \\u2116 24, \\u043f\\u043e\\u043c\\u0435\\u0449\\u0435\\u043d\\u0438\\u0435 1\",\"7720189754\",41616.0],[\"191040, \\u0421\\u0430\\u043d\\u043a\\u0442-\\u041f\\u0435\\u0442\\u0435\\u0440\\u0431\\u0443\\u0440\\u0433 \\u0433, \\u0432\\u043d.\\u0442\\u0435\\u0440. \\u0433. \\u043c\\u0443\\u043d\\u0438\\u0446\\u0438\\u043f\\u0430\\u043b\\u044c\\u043d\\u044b\\u0439 \\u043e\\u043a\\u0440\\u0443\\u0433 \\u041b\\u0438\\u0433\\u043e\\u0432\\u043a\\u0430-\\u042f\\u043c\\u0441\\u043a\\u0430\\u044f, \\u043f\\u0440-\\u043a\\u0442 \\u041b\\u0438\\u0433\\u043e\\u0432\\u0441\\u043a\\u0438\\u0439, \\u0434. 60-62, \\u043b\\u0438\\u0442\\u0435\\u0440\\u0430 \\u041c, \\u044d\\u0442\\u0430\\u0436 4, \\u043f\\u043e\\u043c\\u0435\\u0449. 410-417\",\"7816319041\",5849.0],[\"423604, \\u0422\\u0430\\u0442\\u0430\\u0440\\u0441\\u0442\\u0430\\u043d \\u0420\\u0435\\u0441\\u043f, \\u043c.\\u0440-\\u043d \\u0415\\u043b\\u0430\\u0431\\u0443\\u0436\\u0441\\u043a\\u0438\\u0439, \\u0433.\\u043f. \\u0433\\u043e\\u0440\\u043e\\u0434 \\u0415\\u043b\\u0430\\u0431\\u0443\\u0433\\u0430, \\u0433 \\u0415\\u043b\\u0430\\u0431\\u0443\\u0433\\u0430, \\u0448 \\u041d\\u0430\\u0431\\u0435\\u0440\\u0435\\u0436\\u043d\\u043e-\\u0427\\u0435\\u043b\\u043d\\u0438\\u043d\\u0441\\u043a\\u043e\\u0435, \\u0434. 19, \\u043e\\u0444\\u0438\\u0441 1\",\"1646047157\",1252.0],[\"129226, \\u041c\\u043e\\u0441\\u043a\\u0432\\u0430 \\u0433, \\u0443\\u043b \\u0421\\u0435\\u043b\\u044c\\u0441\\u043a\\u043e\\u0445\\u043e\\u0437\\u044f\\u0439\\u0441\\u0442\\u0432\\u0435\\u043d\\u043d\\u0430\\u044f, \\u0434 11, \\u043a 3, 2\\u002f1\",\"5029177289\",1000.0],[\"125167, \\u041c\\u043e\\u0441\\u043a\\u0432\\u0430 \\u0433, \\u043f\\u0440-\\u043a\\u0442 \\u041b\\u0435\\u043d\\u0438\\u043d\\u0433\\u0440\\u0430\\u0434\\u0441\\u043a\\u0438\\u0439, \\u0434. 45, \\u043a. 2, \\u043f\\u043e\\u043c\\u0435\\u0449. 1\\u002f3 \\u043f\\u043e\\u0434\\u0432\\u0430\\u043b\",\"7723788971\",128252.0],[\"628249, \\u0425\\u0430\\u043d\\u0442\\u044b-\\u041c\\u0430\\u043d\\u0441\\u0438\\u0439\\u0441\\u043a\\u0438\\u0439 \\u0410\\u0432\\u0442\\u043e\\u043d\\u043e\\u043c\\u043d\\u044b\\u0439 \\u043e\\u043a\\u0440\\u0443\\u0433 - \\u042e\\u0433\\u0440\\u0430 \\u0410\\u041e, \\u0421\\u043e\\u0432\\u0435\\u0442\\u0441\\u043a\\u0438\\u0439 \\u0440-\\u043d, \\u0421\\u043e\\u0432\\u0435\\u0442\\u0441\\u043a\\u0438\\u0439 \\u0433, \\u0421\\u0442\\u0440\\u043e\\u0438\\u0442\\u0435\\u043b\\u044c\\u043d\\u0430\\u044f \\u0443\\u043b, \\u0434\\u043e\\u043c \\u2116 14, \\u043a\\u0432\\u0430\\u0440\\u0442\\u0438\\u0440\\u0430 2\",\"6673149728\",152363.0],[\"101000, \\u041c\\u043e\\u0441\\u043a\\u0432\\u0430 \\u0433, \\u043f\\u0435\\u0440 \\u0411\\u043e\\u043b\\u044c\\u0448\\u043e\\u0439 \\u0421\\u043f\\u0430\\u0441\\u043e\\u0433\\u043b\\u0438\\u043d\\u0438\\u0449\\u0435\\u0432\\u0441\\u043a\\u0438\\u0439, 9\\u002f1, 16,  1\\u041d\\u002f2\",\"7735176275\",389.0],[\"\\u0433. \\u0421\\u0430\\u043d\\u043a\\u0442-\\u041f\\u0435\\u0442\\u0435\\u0440\\u0431\\u0443\\u0440\\u0433, \\u0443\\u043b. \\u041f\\u0440\\u0435\\u0434\\u043f\\u043e\\u0440\\u0442\\u043e\\u0432\\u0430\\u044f, \\u0434. 6, \\u043b\\u0438\\u0442. \\u0410\\u0412, \\u043e\\u0444 6, 196240\",\"7801329632\",2069.0],[\"400080, \\u0412\\u043e\\u043b\\u0433\\u043e\\u0433\\u0440\\u0430\\u0434\\u0441\\u043a\\u0430\\u044f \\u043e\\u0431\\u043b, \\u0433 \\u0412\\u043e\\u043b\\u0433\\u043e\\u0433\\u0440\\u0430\\u0434, \\u043f\\u0440\\u043e\\u0435\\u0437\\u0434 \\u0410\\u0432\\u0442\\u043e\\u0434\\u043e\\u0440\\u043e\\u0436\\u043d\\u044b\\u0439, \\u0434. 14, \\u043e\\u0444\\u0438\\u0441 1\",\"3448043965\",16944.0],[\"\\u0433. \\u041c\\u043e\\u0441\\u043a\\u0432\\u0430, \\u0432\\u043d.\\u0442\\u0435\\u0440.\\u0433. \\u043c\\u0443\\u043d\\u0438\\u0446\\u0438\\u043f\\u0430\\u043b\\u044c\\u043d\\u044b\\u0439 \\u043e\\u043a\\u0440\\u0443\\u0433 \\u0417\\u044e\\u0437\\u0438\\u043d\\u043e, \\u0427\\u0435\\u0440\\u043d\\u043e\\u043c\\u043e\\u0440\\u0441\\u043a\\u0438\\u0439 \\u0431-\\u0440, \\u0434. 17, \\u043a. 1, \\u041f\\u041e\\u041c\\u0415\\u0429. 4\\u002f2\\u002f5, 117452\",\"5035019996\",203.0],[\"117393, \\u041c\\u043e\\u0441\\u043a\\u0432\\u0430 \\u0433, \\u0443\\u043b \\u0410\\u0440\\u0445\\u0438\\u0442\\u0435\\u043a\\u0442\\u043e\\u0440\\u0430 \\u0412\\u043b\\u0430\\u0441\\u043e\\u0432\\u0430, 55\",\"7708290500\",4480.0],[\"129164, \\u041c\\u043e\\u0441\\u043a\\u0432\\u0430 \\u0433, \\u0443\\u043b \\u042f\\u0440\\u043e\\u0441\\u043b\\u0430\\u0432\\u0441\\u043a\\u0430\\u044f, \\u0434 8, \\u043a 2, 213\",\"7727600130\",-413853.0],[\"117042, \\u041c\\u043e\\u0441\\u043a\\u0432\\u0430 \\u0433, \\u0443\\u043b \\u0411\\u0430\\u0440\\u0442\\u0435\\u043d\\u0435\\u0432\\u0441\\u043a\\u0430\\u044f, 23, 2, 42\",\"3528228376\",127643.0],[\"385001, \\u0410\\u0434\\u044b\\u0433\\u0435\\u044f \\u0420\\u0435\\u0441\\u043f, \\u0433 \\u041c\\u0430\\u0439\\u043a\\u043e\\u043f, \\u0443\\u043b \\u041f\\u043e\\u0434\\u0433\\u043e\\u0440\\u043d\\u0430\\u044f, \\u0434. 405\",\"0105018340\",75902.0],[\"357637, \\u0421\\u0442\\u0430\\u0432\\u0440\\u043e\\u043f\\u043e\\u043b\\u044c\\u0441\\u043a\\u0438\\u0439 \\u043a\\u0440\\u0430\\u0439, \\u0433 \\u0415\\u0441\\u0441\\u0435\\u043d\\u0442\\u0443\\u043a\\u0438, \\u0443\\u043b \\u0411\\u0443\\u0430\\u0447\\u0438\\u0434\\u0437\\u0435, \\u0434. 1, \\u043a. 3, \\u043f\\u043e\\u043c\\u0435\\u0449. 1\",\"2626041832\",282469.0],[\"140053, \\u041c\\u043e\\u0441\\u043a\\u043e\\u0432\\u0441\\u043a\\u0430\\u044f \\u043e\\u0431\\u043b, \\u041a\\u043e\\u0442\\u0435\\u043b\\u044c\\u043d\\u0438\\u043a\\u0438 \\u0433, \\u0421\\u0438\\u043b\\u0438\\u043a\\u0430\\u0442 \\u043c\\u043a\\u0440, \\u0441\\u0442\\u0440\\u043e\\u0435\\u043d\\u0438\\u0435 12, \\u043e\\u0444.1\\u002f\\u04112 \\u044d\\u0442\\u0430\\u04361,\\u043f\\u0440\\u043e\\u043c\\u0437\\u043e\\u043d\\u0430\",\"5027256182\",119376.0],[\" \",\"8905039369\",140870.0],[\"115088, \\u0413\\u043e\\u0440\\u043e\\u0434 \\u041c\\u043e\\u0441\\u043a\\u0432\\u0430, \\u0443\\u043b \\u0428\\u0430\\u0440\\u0438\\u043a\\u043e\\u043f\\u043e\\u0434\\u0448\\u0438\\u043f\\u043d\\u0438\\u043a\\u043e\\u0432\\u0441\\u043a\\u0430\\u044f, \\u0434\\u043e\\u043c 38, \\u0441\\u0442\\u0440\\u043e\\u0435\\u043d\\u0438\\u0435 1, \\u043f\\u043e\\u043c\\u0435\\u0449\\u0435\\u043d\\u0438\\u0435 29\",\"9723078140\",50635.0],[\"115432, \\u041c\\u043e\\u0441\\u043a\\u0432\\u0430 \\u0433, \\u043f\\u0440\\u043e\\u0435\\u0437\\u0434 \\u041f\\u0440\\u043e\\u0435\\u043a\\u0442\\u0438\\u0440\\u0443\\u0435\\u043c\\u044b\\u0439 4062-\\u0439, 6, 2, 1\\u002f1\",\"7203408895\",4945.0],[\"117405, \\u041c\\u043e\\u0441\\u043a\\u0432\\u0430 \\u0433, \\u0448 \\u0412\\u0430\\u0440\\u0448\\u0430\\u0432\\u0441\\u043a\\u043e\\u0435, \\u0434 158, \\u043a 1, 1\\u002f1\",\"7727414254\",26361.0],[\"\\u0420\\u0435\\u0441\\u043f. \\u041c\\u043e\\u0440\\u0434\\u043e\\u0432\\u0438\\u044f, \\u0433.\\u043e. \\u0421\\u0430\\u0440\\u0430\\u043d\\u0441\\u043a, \\u0433. \\u0421\\u0430\\u0440\\u0430\\u043d\\u0441\\u043a, \\u0443\\u043b. \\u0412\\u0430\\u0441\\u0435\\u043d\\u043a\\u043e, \\u0434. 38\\u0410, 430030\",\"1326219505\",6135.0],[\"249000, \\u041a\\u0430\\u043b\\u0443\\u0436\\u0441\\u043a\\u0430\\u044f \\u043e\\u0431\\u043b\",\"4003036203\",10650.0],[\"686110, \\u041c\\u0430\\u0433\\u0430\\u0434\\u0430\\u043d\\u0441\\u043a\\u0430\\u044f \\u043e\\u0431\\u043b\\u0430\\u0441\\u0442\\u044c, \\u043c.\\u043e. \\u0425\\u0430\\u0441\\u044b\\u043d\\u0441\\u043a\\u0438\\u0439, \\u043f\\u0433\\u0442 \\u041f\\u0430\\u043b\\u0430\\u0442\\u043a\\u0430, \\u0443\\u043b \\u042e\\u0431\\u0438\\u043b\\u0435\\u0439\\u043d\\u0430\\u044f, \\u0434\\u043e\\u043c 8, \\u043a\\u0432\\u0430\\u0440\\u0442\\u0438\\u0440\\u0430 40\",\"4907000867\",18399.0],[\"\\u0433. \\u0423\\u0444\\u0430, \\u0443\\u043b. 50 \\u043b\\u0435\\u0442 \\u0421\\u0421\\u0421\\u0420, \\u0434. 34, \\u043f\\u043e\\u043c. 43, 450071\",\"0276921810\",610.0],[\"\\u0433. \\u0412\\u043e\\u0440\\u043e\\u043d\\u0435\\u0436, \\u0443\\u043b. \\u0412\\u043b\\u0430\\u0434\\u0438\\u043c\\u0438\\u0440\\u0430 \\u041d\\u0435\\u0432\\u0441\\u043a\\u043e\\u0433\\u043e, \\u0434. 19, 394088\",\"3662047623\",4113.0],[\"665821, \\u0418\\u0440\\u043a\\u0443\\u0442\\u0441\\u043a\\u0430\\u044f \\u043e\\u0431\\u043b, \\u0433 \\u0410\\u043d\\u0433\\u0430\\u0440\\u0441\\u043a, \\u043f\\u0440-\\u043a\\u0442 \\u041a\\u0430\\u0440\\u043b\\u0430 \\u041c\\u0430\\u0440\\u043a\\u0441\\u0430, \\u0434 74\\u0430, 204\",\"3801993892\",30802.0],[\"188660, \\u041b\\u0435\\u043d\\u0438\\u043d\\u0433\\u0440\\u0430\\u0434\\u0441\\u043a\\u0430\\u044f \\u043e\\u0431\\u043b., \\u0412\\u0441\\u0435\\u0432\\u043e\\u043b\\u043e\\u0436\\u0441\\u043a\\u0438\\u0439 \\u0440-\\u043d, \\u0441.\\u043f. \\u0411\\u0443\\u0433\\u0440\\u043e\\u0432\\u0441\\u043a\\u043e\\u0435, \\u0433. \\u0411\\u0443\\u0433\\u0440\\u044b, \\u0410\\u043d\\u0433\\u043b\\u0438\\u0439\\u0441\\u043a\\u0430\\u044f \\u0443\\u043b., \\u0434\\u043e\\u043c 6, \\u043f\\u043e\\u043c\\u0435\\u0449\\u0435\\u043d\\u0438\\u0435 17\\u041d, \\u043e\\u0444\\u0438\\u0441 1\",\"7841385672\",546798.0],[\"119435, \\u041c\\u043e\\u0441\\u043a\\u0432\\u0430 \\u0433, \\u043f\\u0435\\u0440 \\u0411\\u043e\\u043b\\u044c\\u0448\\u043e\\u0439 \\u0421\\u0430\\u0432\\u0432\\u0438\\u043d\\u0441\\u043a\\u0438\\u0439, \\u0434 16, \\u042d 1 \\u041f I \\u041a 1 \\u043e 3\",\"7734362776\",10438.0],[\"\\u0433. \\u0423\\u043b\\u0430\\u043d-\\u0423\\u0434\\u044d, \\u0443\\u043b. \\u0422\\u0430\\u0433\\u0430\\u043d\\u0441\\u043a\\u0430\\u044f, \\u0437\\u0434. 18\\u0413, 670009\",\"0323087908\",39206.0],[\"344101, \\u0420\\u043e\\u0441\\u0442\\u043e\\u0432\\u0441\\u043a\\u0430\\u044f \\u043e\\u0431\\u043b, \\u0420\\u043e\\u0441\\u0442\\u043e\\u0432-\\u043d\\u0430-\\u0414\\u043e\\u043d\\u0443 \\u0433, 1-\\u044f \\u0411\\u0430\\u0440\\u0440\\u0438\\u043a\\u0430\\u0434\\u043d\\u0430\\u044f \\u0443\\u043b, \\u0434\\u043e\\u043c \\u2116 1, \\u043a\\u043e\\u043c\\u043d\\u0430\\u0442\\u0430 1\",\"6166047082\",17064.0],[\"115191, \\u0413.\\u041c\\u043e\\u0441\\u043a\\u0432\\u0430, \\u0432\\u043d.\\u0442\\u0435\\u0440. \\u0433. \\u041c\\u0443\\u043d\\u0438\\u0446\\u0438\\u043f\\u0430\\u043b\\u044c\\u043d\\u044b\\u0439 \\u041e\\u043a\\u0440\\u0443\\u0433 \\u0414\\u0430\\u043d\\u0438\\u043b\\u043e\\u0432\\u0441\\u043a\\u0438\\u0439, \\u0443\\u043b \\u0411\\u043e\\u043b\\u044c\\u0448\\u0430\\u044f \\u0422\\u0443\\u043b\\u044c\\u0441\\u043a\\u0430\\u044f, \\u0434\\u043e\\u043c 11, \\u043f\\u043e\\u043c\\u0435\\u0449\\u0435\\u043d\\u0438\\u0435 \\u0425, \\u043a\\u043e\\u043c\\u043d\\u0430\\u0442\\u0430 21\\u002f2\\u041b\",\"9705078860\",3950.0],[\"364015, \\u0427\\u0435\\u0447\\u0435\\u043d\\u0441\\u043a\\u0430\\u044f \\u0420\\u0435\\u0441\\u043f\\u0443\\u0431\\u043b\\u0438\\u043a\\u0430, \\u0433.\\u043e. \\u0433\\u043e\\u0440\\u043e\\u0434 \\u0413\\u0440\\u043e\\u0437\\u043d\\u044b\\u0439, \\u0433 \\u0413\\u0440\\u043e\\u0437\\u043d\\u044b\\u0439, \\u0440-\\u043d \\u0410\\u0445\\u043c\\u0430\\u0442\\u043e\\u0432\\u0441\\u043a\\u0438\\u0439, \\u0443\\u043b \\u0410.\\u0428\\u0435\\u0440\\u0438\\u043f\\u043e\\u0432\\u0430, \\u0434. 99\",\"2005005454\",-184577.0],[\"125319, \\u0413\\u043e\\u0440\\u043e\\u0434 \\u041c\\u043e\\u0441\\u043a\\u0432\\u0430, \\u0432\\u043d.\\u0442\\u0435\\u0440.\\u0433. \\u043c\\u0443\\u043d\\u0438\\u0446\\u0438\\u043f\\u0430\\u043b\\u044c\\u043d\\u044b\\u0439 \\u043e\\u043a\\u0440\\u0443\\u0433 \\u0410\\u044d\\u0440\\u043e\\u043f\\u043e\\u0440\\u0442, \\u0443\\u043b \\u0427\\u0435\\u0440\\u043d\\u044f\\u0445\\u043e\\u0432\\u0441\\u043a\\u043e\\u0433\\u043e, \\u0434. 16\",\"7710442630\",5016.0],[\"196626, \\u0413\\u043e\\u0440\\u043e\\u0434 \\u0421\\u0430\\u043d\\u043a\\u0442-\\u041f\\u0435\\u0442\\u0435\\u0440\\u0431\\u0443\\u0440\\u0433, \\u043f. \\u0428\\u0443\\u0448\\u0430\\u0440\\u044b, \\u0448. \\u041c\\u043e\\u0441\\u043a\\u043e\\u0432\\u0441\\u043a\\u043e\\u0435, \\u0434\\u043e\\u043c 231, \\u043b\\u0438\\u0442\\u0435\\u0440 \\u0425, \\u0421\\u0422\\u0420\\u041e\\u0415\\u041d\\u0418\\u0415 1 \\u041f\\u041e\\u041c\\u0415\\u0429\\u0415\\u041d\\u0418\\u0415 1\\u041d\",\"7839462986\",12678.0],[\"629305, \\u042f\\u043c\\u0430\\u043b\\u043e-\\u041d\\u0435\\u043d\\u0435\\u0446\\u043a\\u0438\\u0439 \\u0410\\u041e, \\u0433 \\u041d\\u043e\\u0432\\u044b\\u0439 \\u0423\\u0440\\u0435\\u043d\\u0433\\u043e\\u0439, \\u0443\\u043b \\u0422\\u0430\\u0435\\u0436\\u043d\\u0430\\u044f, \\u0434 25\\u0410, \\u043a\\u0432 21\",\"2311159774\",77046.0],[\"614039, \\u041f\\u0435\\u0440\\u043c\\u0441\\u043a\\u0438\\u0439 \\u043a\\u0440\\u0430\\u0439, \\u0433 \\u041f\\u0435\\u0440\\u043c\\u044c, \\u0443\\u043b \\u0421\\u0438\\u0431\\u0438\\u0440\\u0441\\u043a\\u0430\\u044f, \\u0434 47\\u0430, 302\",\"5903110050\",162342.0],[\"142410, \\u041c\\u043e\\u0441\\u043a\\u043e\\u0432\\u0441\\u043a\\u0430\\u044f \\u043e\\u0431\\u043b\\u0430\\u0441\\u0442\\u044c, \\u0433.\\u043e. \\u0411\\u043e\\u0433\\u043e\\u0440\\u043e\\u0434\\u0441\\u043a\\u0438\\u0439, \\u0433 \\u041d\\u043e\\u0433\\u0438\\u043d\\u0441\\u043a, \\u0443\\u043b \\u0411\\u0435\\u0442\\u043e\\u043d\\u043d\\u0430\\u044f, \\u0434. 2\\u0410\",\"5031108596\",35180.0],[\"654006, \\u041a\\u0435\\u043c\\u0435\\u0440\\u043e\\u0432\\u0441\\u043a\\u0430\\u044f \\u043e\\u0431\\u043b\\u0430\\u0441\\u0442\\u044c - \\u041a\\u0443\\u0437\\u0431\\u0430\\u0441\\u0441 \\u043e\\u0431\\u043b, \\u0433 \\u041d\\u043e\\u0432\\u043e\\u043a\\u0443\\u0437\\u043d\\u0435\\u0446\\u043a, \\u0443\\u043b \\u0427\\u0435\\u0440\\u043d\\u043e\\u043c\\u043e\\u0440\\u0441\\u043a\\u0430\\u044f, 1, 606\",\"4217148761\",294719.0],[\"108813, \\u041c\\u043e\\u0441\\u043a\\u0432\\u0430 \\u0433, \\u041c\\u043e\\u0441\\u043a\\u043e\\u0432\\u0441\\u043a\\u0438\\u0439 \\u043f, \\u041c\\u043e\\u0441\\u043a\\u043e\\u0432\\u0441\\u043a\\u0438\\u0439 \\u0433, \\u0420\\u0430\\u0434\\u0443\\u0436\\u043d\\u0430\\u044f \\u0443\\u043b, \\u0434\\u043e\\u043c 10, \\u044d\\u0442\\u0430\\u0436 01, \\u043f\\u043e\\u043c\\u0435\\u0449\\u0435\\u043d\\u0438\\u0435 4\",\"5034033420\",26464.0],[\"\\u041a\\u0440\\u0430\\u0441\\u043d\\u043e\\u0434\\u0430\\u0440\\u0441\\u043a\\u0438\\u0439 \\u043a\\u0440\\u0430\\u0439, \\u0433.\\u043e. \\u0433\\u043e\\u0440\\u043e\\u0434 \\u041a\\u0440\\u0430\\u0441\\u043d\\u043e\\u0434\\u0430\\u0440, \\u0433. \\u041a\\u0440\\u0430\\u0441\\u043d\\u043e\\u0434\\u0430\\u0440, \\u0443\\u043b. \\u0438\\u043c. \\u0412\\u0438\\u0448\\u043d\\u044f\\u043a\\u043e\\u0432\\u043e\\u0439, \\u0434. 4, \\u041e\\u0424\\u0418\\u0421 26, 350001\",\"2309095442\",84178.0],[\"443035, \\u0421\\u0430\\u043c\\u0430\\u0440\\u0441\\u043a\\u0430\\u044f \\u043e\\u0431\\u043b\\u0430\\u0441\\u0442\\u044c, \\u0433. \\u0421\\u0430\\u043c\\u0430\\u0440\\u0430, \\u043f\\u0440-\\u043a\\u0442 \\u041a\\u0438\\u0440\\u043e\\u0432\\u0430, \\u0434\\u043e\\u043c 201, \\u043a\\u043e\\u043c\\u043d\\u0430\\u0442\\u0430 1,2,3,4,5,8,9,10\",\"6311111473\",61208.0],[\"643,443099,63,,\\u0421\\u0430\\u043c\\u0430\\u0440\\u0430 \\u0433,,\\u0421\\u0442\\u0435\\u043f\\u0430\\u043d\\u0430 \\u0420\\u0430\\u0437\\u0438\\u043d\\u0430 \\u0443\\u043b,91,,8\",\"6381030027\",75958.0],[\"127434, \\u041c\\u043e\\u0441\\u043a\\u0432\\u0430 \\u0433, \\u0448 \\u0414\\u043c\\u0438\\u0442\\u0440\\u043e\\u0432\\u0441\\u043a\\u043e\\u0435, \\u0434 21, \\u043a 1\",\"7713008284\",90590.0],[\"199034, \\u0421\\u0430\\u043d\\u043a\\u0442-\\u041f\\u0435\\u0442\\u0435\\u0440\\u0431\\u0443\\u0440\\u0433 \\u0433, \\u0432\\u043d.\\u0442\\u0435\\u0440.\\u0433. \\u043c\\u0443\\u043d\\u0438\\u0446\\u0438\\u043f\\u0430\\u043b\\u044c\\u043d\\u044b\\u0439 \\u043e\\u043a\\u0440\\u0443\\u0433 \\u2116 7, \\u043b\\u0438\\u043d\\u0438\\u044f 16-\\u044f \\u0412.\\u041e., \\u0434. 7, \\u043b\\u0438\\u0442\\u0435\\u0440 \\u0411, \\u0447\\u0430\\u0441\\u0442\\u044c\\u002f\\u043f\\u043e\\u043c\\u0435\\u0449\\u0435\\u043d\\u0438\\u0435 12\\u002f16-\\u041d, \\u043f\\u043e\\u043c\\u0435\\u0449. 6203\",\"7801648847\",-180476.0],[\"420051, \\u0422\\u0430\\u0442\\u0430\\u0440\\u0441\\u0442\\u0430\\u043d \\u0420\\u0435\\u0441\\u043f, \\u0433 \\u041a\\u0430\\u0437\\u0430\\u043d\\u044c, \\u0443\\u043b \\u0410\\u0432\\u0442\\u043e\\u0441\\u0435\\u0440\\u0432\\u0438\\u0441\\u043d\\u0430\\u044f, \\u0434 6, 4\",\"1658151554\",-10112.0],[\"420021, \\u0422\\u0430\\u0442\\u0430\\u0440\\u0441\\u0442\\u0430\\u043d \\u0420\\u0435\\u0441\\u043f, \\u041a\\u0430\\u0437\\u0430\\u043d\\u044c \\u0433, \\u041c\\u0438\\u0445\\u0430\\u0438\\u043b\\u0430 \\u0425\\u0443\\u0434\\u044f\\u043a\\u043e\\u0432\\u0430 \\u0443\\u043b, \\u0437\\u0434\\u0430\\u043d\\u0438\\u0435 10\",\"1655318220\",17091.0],[\"620130, \\u0421\\u0432\\u0435\\u0440\\u0434\\u043b\\u043e\\u0432\\u0441\\u043a\\u0430\\u044f \\u043e\\u0431\\u043b, \\u0433 \\u0415\\u043a\\u0430\\u0442\\u0435\\u0440\\u0438\\u043d\\u0431\\u0443\\u0440\\u0433, \\u0443\\u043b \\u042e\\u043b\\u0438\\u0443\\u0441\\u0430 \\u0424\\u0443\\u0447\\u0438\\u043a\\u0430, \\u0434 5, \\u043a\\u0432 159\",\"6674336209\",30758.0],[\"141401, \\u041c\\u043e\\u0441\\u043a\\u043e\\u0432\\u0441\\u043a\\u0430\\u044f \\u043e\\u0431\\u043b, \\u0425\\u0438\\u043c\\u043a\\u0438 \\u0433, \\u0420\\u0430\\u0431\\u043e\\u0447\\u0430\\u044f \\u0443\\u043b, \\u0434\\u043e\\u043c \\u2116 2\\u0410, \\u043a\\u043e\\u0440\\u043f\\u0443\\u0441 26, \\u043e\\u0444\\u0438\\u0441 301\",\"7714687920\",585.0],[\"630005, \\u041d\\u043e\\u0432\\u043e\\u0441\\u0438\\u0431\\u0438\\u0440\\u0441\\u043a\\u0430\\u044f \\u043e\\u0431\\u043b\\u0430\\u0441\\u0442\\u044c, \\u0433 \\u041d\\u043e\\u0432\\u043e\\u0441\\u0438\\u0431\\u0438\\u0440\\u0441\\u043a, \\u0443\\u043b \\u0424\\u0440\\u0443\\u043d\\u0437\\u0435, \\u0434. 96\\u002f1, 7 \\u044d\\u0442\\u0430\\u0436\",\"5401329507\",-120876.0],[\"298612, \\u041a\\u0440\\u044b\\u043c \\u0420\\u0435\\u0441\\u043f, \\u042f\\u043b\\u0442\\u0430 \\u0433, \\u041c\\u043e\\u0441\\u043a\\u043e\\u0432\\u0441\\u043a\\u0430\\u044f \\u0443\\u043b, \\u0434\\u043e\\u043c 33\\u0430, \\u043a\\u0432\\u0430\\u0440\\u0442\\u0438\\u0440\\u0430 2\",\"9103075830\",21461.0],[\"117335, \\u0413\\u043e\\u0440\\u043e\\u0434 \\u041c\\u043e\\u0441\\u043a\\u0432\\u0430, \\u0432\\u043d.\\u0442\\u0435\\u0440.\\u0433. \\u043c\\u0443\\u043d\\u0438\\u0446\\u0438\\u043f\\u0430\\u043b\\u044c\\u043d\\u044b\\u0439 \\u043e\\u043a\\u0440\\u0443\\u0433 \\u041b\\u043e\\u043c\\u043e\\u043d\\u043e\\u0441\\u043e\\u0432\\u0441\\u043a\\u0438\\u0439, \\u0443\\u043b \\u0412\\u0430\\u0432\\u0438\\u043b\\u043e\\u0432\\u0430, \\u0434. 69\\u002f75\",\"2312198180\",15492.0]],\"hovertemplate\":\"\\u003cb\\u003e%{hovertext}\\u003c\\u002fb\\u003e\\u003cbr\\u003e\\u003cbr\\u003elat=%{lat}\\u003cbr\\u003elng=%{lon}\\u003cbr\\u003eaddress=%{customdata[0]}\\u003cbr\\u003einn=%{customdata[1]}\\u003cbr\\u003erevenue=%{customdata[2]}\\u003cextra\\u003e\\u003c\\u002fextra\\u003e\",\"hovertext\":[\"\\u041e\\u0431\\u0449\\u0435\\u0441\\u0442\\u0432\\u043e \\u0441 \\u043e\\u0433\\u0440\\u0430\\u043d\\u0438\\u0447\\u0435\\u043d\\u043d\\u043e\\u0439 \\u043e\\u0442\\u0432\\u0435\\u0442\\u0441\\u0442\\u0432\\u0435\\u043d\\u043d\\u043e\\u0441\\u0442\\u044c\\u044e \\\"\\u0410\\u0412\\u0410\\u041d\\u0413\\u0410\\u0420\\u0414\\\"\",\"\\u041e\\u0411\\u0429\\u0415\\u0421\\u0422\\u0412\\u041e \\u0421 \\u041e\\u0413\\u0420\\u0410\\u041d\\u0418\\u0427\\u0415\\u041d\\u041d\\u041e\\u0419 \\u041e\\u0422\\u0412\\u0415\\u0422\\u0421\\u0422\\u0412\\u0415\\u041d\\u041d\\u041e\\u0421\\u0422\\u042c\\u042e \\\"\\u0421\\u041f\\u0415\\u0426\\u0418\\u0410\\u041b\\u0418\\u0417\\u0418\\u0420\\u041e\\u0412\\u0410\\u041d\\u041d\\u042b\\u0419 \\u0417\\u0410\\u0421\\u0422\\u0420\\u041e\\u0419\\u0429\\u0418\\u041a \\u0420\\u0415\\u041d\\u0422-\\u0421\\u0415\\u0420\\u0412\\u0418\\u0421\\\"\",\"\\u041e\\u0411\\u0429\\u0415\\u0421\\u0422\\u0412\\u041e \\u0421 \\u041e\\u0413\\u0420\\u0410\\u041d\\u0418\\u0427\\u0415\\u041d\\u041d\\u041e\\u0419 \\u041e\\u0422\\u0412\\u0415\\u0422\\u0421\\u0422\\u0412\\u0415\\u041d\\u041d\\u041e\\u0421\\u0422\\u042c\\u042e \\\"\\u0421\\u0422\\u0420\\u041e\\u0418\\u0422\\u0415\\u041b\\u042c\\u041d\\u0410\\u042f \\u041a\\u041e\\u041c\\u041f\\u0410\\u041d\\u0418\\u042f \\\"\\u0410\\u041d\\u0422\\u0420\\u041e\\u041c\\\"\",\"\\u041e\\u0431\\u0449\\u0435\\u0441\\u0442\\u0432\\u043e \\u0441 \\u043e\\u0433\\u0440\\u0430\\u043d\\u0438\\u0447\\u0435\\u043d\\u043d\\u043e\\u0439 \\u043e\\u0442\\u0432\\u0435\\u0442\\u0441\\u0442\\u0432\\u0435\\u043d\\u043d\\u043e\\u0441\\u0442\\u044c\\u044e \\\"\\u0421\\u0413\\u041c \\u0413\\u0440\\u0443\\u043f\\\"\",\"\\u041e\\u0431\\u0449\\u0435\\u0441\\u0442\\u0432\\u043e \\u0441 \\u043e\\u0433\\u0440\\u0430\\u043d\\u0438\\u0447\\u0435\\u043d\\u043d\\u043e\\u0439 \\u043e\\u0442\\u0432\\u0435\\u0442\\u0441\\u0442\\u0432\\u0435\\u043d\\u043d\\u043e\\u0441\\u0442\\u044c\\u044e \\\"\\u0410\\\" \\u0421\\u043f\\u0435\\u0446\\u0438\\u0430\\u043b\\u0438\\u0437\\u0438\\u0440\\u043e\\u0432\\u0430\\u043d\\u043d\\u044b\\u0439 \\u0437\\u0430\\u0441\\u0442\\u0440\\u043e\\u0439\\u0449\\u0438\\u043a\",\"\\u041e\\u0431\\u0449\\u0435\\u0441\\u0442\\u0432\\u043e \\u0441 \\u043e\\u0433\\u0440\\u0430\\u043d\\u0438\\u0447\\u0435\\u043d\\u043d\\u043e\\u0439 \\u043e\\u0442\\u0432\\u0435\\u0442\\u0441\\u0442\\u0432\\u0435\\u043d\\u043d\\u043e\\u0441\\u0442\\u044c\\u044e \\\"\\u0421\\u043f\\u0435\\u0446\\u0438\\u0430\\u043b\\u0438\\u0437\\u0438\\u0440\\u043e\\u0432\\u0430\\u043d\\u043d\\u044b\\u0439 \\u0437\\u0430\\u0441\\u0442\\u0440\\u043e\\u0439\\u0449\\u0438\\u043a \\\"\\u0421\\u043c\\u0430\\u0439\\u043d\\u044d\\u043a\\u0441 \\u0422\\u0438\\u0448\\u0438\\u043d\\u0441\\u043a\\u0438\\u0439 \\u0411\\u0443\\u043b\\u044c\\u0432\\u0430\\u0440\\\"\",\"\\u041e\\u0431\\u0449\\u0435\\u0441\\u0442\\u0432\\u043e \\u0441 \\u043e\\u0433\\u0440\\u0430\\u043d\\u0438\\u0447\\u0435\\u043d\\u043d\\u043e\\u0439 \\u043e\\u0442\\u0432\\u0435\\u0442\\u0441\\u0442\\u0432\\u0435\\u043d\\u043d\\u043e\\u0441\\u0442\\u044c\\u044e \\\"\\u0420\\u0421\\u0422\\u0418-\\u0424\\u0430\\u043c\\u0438\\u043b\\u0438\\u044f\\\"\",\"\\u041e\\u0442\\u043a\\u0440\\u044b\\u0442\\u043e\\u0435 \\u0430\\u043a\\u0446\\u0438\\u043e\\u043d\\u0435\\u0440\\u043d\\u043e\\u0435 \\u043e\\u0431\\u0449\\u0435\\u0441\\u0442\\u0432\\u043e \\u0418\\u043d\\u0432\\u0435\\u0441\\u0442\\u0438\\u0446\\u0438\\u043e\\u043d\\u043d\\u043e-\\u0441\\u0442\\u0440\\u043e\\u0438\\u0442\\u0435\\u043b\\u044c\\u043d\\u0430\\u044f \\u043a\\u043e\\u043c\\u043f\\u0430\\u043d\\u0438\\u044f \\\"\\u0427\\u0435\\u0441\\u0442\\u0440-\\u0413\\u0440\\u0443\\u043f\\u043f\\\"\",\"\\u041e\\u041e\\u041e \\\"\\u0418\\u041d\\u0416\\u0415\\u041d\\u0415\\u0420\\\"\",\"\\u041e\\u0431\\u0449\\u0435\\u0441\\u0442\\u0432\\u043e \\u0441 \\u043e\\u0433\\u0440\\u0430\\u043d\\u0438\\u0447\\u0435\\u043d\\u043d\\u043e\\u0439 \\u043e\\u0442\\u0432\\u0435\\u0442\\u0441\\u0442\\u0432\\u0435\\u043d\\u043d\\u043e\\u0441\\u0442\\u044c\\u044e \\\"\\u0421\\u0422\\u0420\\u041e\\u0419\\u0421\\u0415\\u0420\\u0412\\u0418\\u0421\\\"\",\"\\u041e\\u0431\\u0449\\u0435\\u0441\\u0442\\u0432\\u043e \\u0441 \\u043e\\u0433\\u0440\\u0430\\u043d\\u0438\\u0447\\u0435\\u043d\\u043d\\u043e\\u0439 \\u043e\\u0442\\u0432\\u0435\\u0442\\u0441\\u0442\\u0432\\u0435\\u043d\\u043d\\u043e\\u0441\\u0442\\u044c\\u044e \\\"\\u041c\\u0414\\u041a\\\"\",\"\\u041e\\u0431\\u0449\\u0435\\u0441\\u0442\\u0432\\u043e \\u0441 \\u043e\\u0433\\u0440\\u0430\\u043d\\u0438\\u0447\\u0435\\u043d\\u043d\\u043e\\u0439 \\u043e\\u0442\\u0432\\u0435\\u0442\\u0441\\u0442\\u0432\\u0435\\u043d\\u043d\\u043e\\u0441\\u0442\\u044c\\u044e \\\"\\u0422\\u0418\\u0412\\u041e\\u041b\\u0418\\u041e\\u041d\\\"\",\"\\u041e\\u0411\\u0429\\u0415\\u0421\\u0422\\u0412\\u041e \\u0421 \\u041e\\u0413\\u0420\\u0410\\u041d\\u0418\\u0427\\u0415\\u041d\\u041d\\u041e\\u0419 \\u041e\\u0422\\u0412\\u0415\\u0422\\u0421\\u0422\\u0412\\u0415\\u041d\\u041d\\u041e\\u0421\\u0422\\u042c\\u042e \\\"\\u0410\\u0420\\u041c\\u0410\\u0414\\u0410\\\"\",\"\\u041e\\u0411\\u0429\\u0415\\u0421\\u0422\\u0412\\u041e \\u0421 \\u041e\\u0413\\u0420\\u0410\\u041d\\u0418\\u0427\\u0415\\u041d\\u041d\\u041e\\u0419 \\u041e\\u0422\\u0412\\u0415\\u0422\\u0421\\u0422\\u0412\\u0415\\u041d\\u041d\\u041e\\u0421\\u0422\\u042c\\u042e \\\"\\u041a\\u0415\\u0424\\u0415\\u0419\\\"\",\"\\u041e\\u0411\\u0429\\u0415\\u0421\\u0422\\u0412\\u041e \\u0421 \\u041e\\u0413\\u0420\\u0410\\u041d\\u0418\\u0427\\u0415\\u041d\\u041d\\u041e\\u0419 \\u041e\\u0422\\u0412\\u0415\\u0422\\u0421\\u0422\\u0412\\u0415\\u041d\\u041d\\u041e\\u0421\\u0422\\u042c\\u042e \\\"\\u0410\\u0421\\u0421\\u041e\\\"\",\"\\u041e\\u0411\\u0429\\u0415\\u0421\\u0422\\u0412\\u041e \\u0421 \\u041e\\u0413\\u0420\\u0410\\u041d\\u0418\\u0427\\u0415\\u041d\\u041d\\u041e\\u0419 \\u041e\\u0422\\u0412\\u0415\\u0422\\u0421\\u0422\\u0412\\u0415\\u041d\\u041d\\u041e\\u0421\\u0422\\u042c\\u042e \\\"\\u0421\\u041a \\u041f\\u0420\\u0415\\u041c\\u0418\\u0423\\u041c\\\"\",\"\\u041e\\u0411\\u0429\\u0415\\u0421\\u0422\\u0412\\u041e \\u0421 \\u041e\\u0413\\u0420\\u0410\\u041d\\u0418\\u0427\\u0415\\u041d\\u041d\\u041e\\u0419 \\u041e\\u0422\\u0412\\u0415\\u0422\\u0421\\u0422\\u0412\\u0415\\u041d\\u041d\\u041e\\u0421\\u0422\\u042c\\u042e \\\"\\u0411\\u0418\\u042d\\u0424\\\"\",\"\\u041e\\u0411\\u0429\\u0415\\u0421\\u0422\\u0412\\u041e \\u0421 \\u041e\\u0413\\u0420\\u0410\\u041d\\u0418\\u0427\\u0415\\u041d\\u041d\\u041e\\u0419 \\u041e\\u0422\\u0412\\u0415\\u0422\\u0421\\u0422\\u0412\\u0415\\u041d\\u041d\\u041e\\u0421\\u0422\\u042c\\u042e \\\"\\u041f\\u0420\\u041e\\u041c\\u0413\\u0420\\u0410\\u0416\\u0414\\u0410\\u041d\\u0421\\u0422\\u0420\\u041e\\u0419\\\"\",\"\\u041e\\u0431\\u0449\\u0435\\u0441\\u0442\\u0432\\u043e \\u0441 \\u043e\\u0433\\u0440\\u0430\\u043d\\u0438\\u0447\\u0435\\u043d\\u043d\\u043e\\u0439 \\u043e\\u0442\\u0432\\u0435\\u0442\\u0441\\u0442\\u0432\\u0435\\u043d\\u043d\\u043e\\u0441\\u0442\\u044c\\u044e \\\"\\u0421\\u041a \\u0412\\u0415\\u041a\\u0422\\u041e\\u0420\\\"\",\"\\u041e\\u0411\\u0429\\u0415\\u0421\\u0422\\u0412\\u041e \\u0421 \\u041e\\u0413\\u0420\\u0410\\u041d\\u0418\\u0427\\u0415\\u041d\\u041d\\u041e\\u0419 \\u041e\\u0422\\u0412\\u0415\\u0422\\u0421\\u0422\\u0412\\u0415\\u041d\\u041d\\u041e\\u0421\\u0422\\u042c\\u042e \\\"\\u0421\\u0422\\u0420\\u041e\\u0418\\u0422\\u0415\\u041b\\u042c\\u041d\\u0410\\u042f \\u041a\\u041e\\u041c\\u041f\\u0410\\u041d\\u0418\\u042f \\u0421\\u041f\\u0415\\u0426\\u0421\\u0422\\u0420\\u041e\\u0419\\\"\",\"\\u041e\\u041e\\u041e \\\"\\u0421\\u041f\\u0415\\u0426\\u0418\\u0410\\u041b\\u0418\\u0417\\u0418\\u0420\\u041e\\u0412\\u0410\\u041d\\u041d\\u042b\\u0419 \\u0417\\u0410\\u0421\\u0422\\u0420\\u041e\\u0419\\u0429\\u0418\\u041a \\\"\\u041e\\u041b\\u0427\\u0415\\u0419\\\"\",\"\\u041e\\u0431\\u0449\\u0435\\u0441\\u0442\\u0432\\u043e \\u0441 \\u043e\\u0433\\u0440\\u0430\\u043d\\u0438\\u0447\\u0435\\u043d\\u043d\\u043e\\u0439 \\u043e\\u0442\\u0432\\u0435\\u0442\\u0441\\u0432\\u0435\\u043d\\u043d\\u043e\\u0441\\u0442\\u044c\\u044e \\\" \\u0421\\u0418\\u041c-\\u0421\\u0442\\u0440\\u043e\\u0439-\\u0413\\u0440\\u0443\\u043f\\u043f\\\"\",\"\\u041e\\u0411\\u0429\\u0415\\u0421\\u0422\\u0412\\u041e \\u0421 \\u041e\\u0413\\u0420\\u0410\\u041d\\u0418\\u0427\\u0415\\u041d\\u041d\\u041e\\u0419 \\u041e\\u0422\\u0412\\u0415\\u0422\\u0421\\u0422\\u0412\\u0415\\u041d\\u041d\\u041e\\u0421\\u0422\\u042c\\u042e \\\"\\u042d\\u041d\\u0422\\u0415\\u041b\\u0415\\u0425\\u0418\\u042f\\\"\",\"\\u041e\\u0431\\u0449\\u0435\\u0441\\u0442\\u0432\\u043e \\u0441 \\u043e\\u0433\\u0440\\u0430\\u043d\\u0438\\u0447\\u0435\\u043d\\u043d\\u043e\\u0439 \\u043e\\u0442\\u0432\\u0435\\u0442\\u0441\\u0442\\u0432\\u0435\\u043d\\u043d\\u043e\\u0441\\u0442\\u044c\\u044e \\u0421\\u041a \\\"\\u0412\\u043e\\u0441\\u0442\\u043e\\u043a\\\"\",\"\\u041e\\u0431\\u0449\\u0435\\u0441\\u0442\\u0432\\u043e \\u0441 \\u043e\\u0433\\u0440\\u0430\\u043d\\u0438\\u0447\\u0435\\u043d\\u043d\\u043e\\u0439 \\u043e\\u0442\\u0432\\u0435\\u0442\\u0441\\u0442\\u0432\\u0435\\u043d\\u043d\\u043e\\u0441\\u0442\\u044c\\u044e \\\"\\u0421\\u0432\\u044f\\u0437\\u044c\\u044d\\u043d\\u0435\\u0440\\u0433\\u043e\\u0441\\u0442\\u0440\\u043e\\u0439\\\"\",\"\\u041e\\u0431\\u0449\\u0435\\u0441\\u0442\\u0432\\u043e \\u0441 \\u043e\\u0433\\u0440\\u0430\\u043d\\u0438\\u0447\\u0435\\u043d\\u043d\\u043e\\u0439 \\u043e\\u0442\\u0432\\u0435\\u0442\\u0441\\u0442\\u0432\\u0435\\u043d\\u043d\\u043e\\u0441\\u0442\\u044c\\u044e \\\"\\u0418\\u043d\\u0444\\u0438\\u043d\\u0438\\u0442\\u0438 \\u0413\\u0440\\u0443\\u043f\\u043f\\\"\",\"\\u041e\\u0431\\u0449\\u0435\\u0441\\u0442\\u0432\\u043e \\u0441 \\u043e\\u0433\\u0440\\u0430\\u043d\\u0438\\u0447\\u0435\\u043d\\u043d\\u043e\\u0439 \\u043e\\u0442\\u0432\\u0435\\u0442\\u0441\\u0442\\u0432\\u0435\\u043d\\u043d\\u043e\\u0441\\u0442\\u044c\\u044e \\\"\\u0410\\u0432\\u0442\\u043e\\u043c\\u043e\\u043b\\u043e\\u0442 \\u0421\\u0442\\u0440\\u043e\\u0439\\\"\",\"\\u0410\\u041a\\u0426\\u0418\\u041e\\u041d\\u0415\\u0420\\u041d\\u041e\\u0415 \\u041e\\u0411\\u0429\\u0415\\u0421\\u0422\\u0412\\u041e \\\"\\u0410\\u0412\\u0422\\u041e\\u0411\\u042b\\u0422\\u0414\\u041e\\u0420\\\"\",\"\\u041e\\u0431\\u0449\\u0435\\u0441\\u0442\\u0432\\u043e \\u0441 \\u043e\\u0433\\u0440\\u0430\\u043d\\u0438\\u0447\\u0435\\u043d\\u043d\\u043e\\u0439 \\u043e\\u0442\\u0432\\u0435\\u0442\\u0441\\u0442\\u0432\\u0435\\u043d\\u043d\\u043e\\u0441\\u0442\\u044c\\u044e \\\"\\u0421\\u0422\\u0420\\u041e\\u0419\\u041e\\u0422\\u0414\\u0415\\u041b\\\"\",\"\\u041e\\u0431\\u0449\\u0435\\u0441\\u0442\\u0432\\u043e \\u0441 \\u043e\\u0433\\u0440\\u0430\\u043d\\u0438\\u0447\\u0435\\u043d\\u043d\\u043e\\u0439 \\u043e\\u0442\\u0432\\u0435\\u0442\\u0441\\u0442\\u0432\\u0435\\u043d\\u043d\\u043e\\u0441\\u0442\\u044c\\u044e \\\"\\u0421\\u043f\\u0435\\u0446\\u0438\\u0430\\u043b\\u0438\\u0437\\u0438\\u0440\\u043e\\u0432\\u0430\\u043d\\u043d\\u044b\\u0439 \\u0437\\u0430\\u0441\\u0442\\u0440\\u043e\\u0439\\u0449\\u0438\\u043a \\\"\\u0413\\u0440\\u0430\\u0434 \\u0414\\u043e\\u043c\\u043e\\u0434\\u0435\\u0434\\u043e\\u0432\\u043e\\\"\",\"\\u041e\\u041e\\u041e \\\"\\u0421\\u041f\\u0415\\u0426\\u0422\\u0420\\u0410\\u041d\\u0421\\\"\",\"\\u041e\\u0431\\u0449\\u0435\\u0441\\u0442\\u0432\\u043e \\u0441 \\u043e\\u0433\\u0440\\u0430\\u043d\\u0438\\u0447\\u0435\\u043d\\u043d\\u043e\\u0439 \\u043e\\u0442\\u0432\\u0435\\u0442\\u0441\\u0442\\u0432\\u0435\\u043d\\u043d\\u043e\\u0441\\u0442\\u044c\\u044e \\\"\\u0421\\u043f\\u0435\\u0446\\u0438\\u0430\\u043b\\u0438\\u0437\\u0438\\u0440\\u043e\\u0432\\u0430\\u043d\\u043d\\u044b\\u0439 \\u0437\\u0430\\u0441\\u0442\\u0440\\u043e\\u0439\\u0449\\u0438\\u043a \\u041c\\u0415\\u0413\\u0410\\u0422\\u0415\\u041a-\\u0421\\u0422\\u0420\\u041e\\u0419\\\"\",\"\\u041e\\u0411\\u0429\\u0415\\u0421\\u0422\\u0412\\u041e \\u0421 \\u041e\\u0413\\u0420\\u0410\\u041d\\u0418\\u0427\\u0415\\u041d\\u041d\\u041e\\u0419 \\u041e\\u0422\\u0412\\u0415\\u0422\\u0421\\u0422\\u0412\\u0415\\u041d\\u041d\\u041e\\u0421\\u0422\\u042c\\u042e \\\"\\u0420\\u0415\\u041a\\u041e\\u041d\\u0421\\u0422\\u0420\\u0423\\u041a\\u0426\\u0418\\u042f \\u0415\\u041a\\u0411\\\"\",\"\\u041e\\u0411\\u0429\\u0415\\u0421\\u0422\\u0412\\u041e \\u0421 \\u041e\\u0413\\u0420\\u0410\\u041d\\u0418\\u0427\\u0415\\u041d\\u041d\\u041e\\u0419 \\u041e\\u0422\\u0412\\u0415\\u0422\\u0421\\u0422\\u0412\\u0415\\u041d\\u041d\\u041e\\u0421\\u0422\\u042c\\u042e \\\"\\u0410\\u041b\\u042c\\u0424\\u0410\\u0421\\u0422\\u0420\\u041e\\u0419\\u041a\\u041e\\u041d\\u0422\\u0420\\u0410\\u041a\\u0422\\\"\",\"\\u041e\\u0411\\u0429\\u0415\\u0421\\u0422\\u0412\\u041e \\u0421 \\u041e\\u0413\\u0420\\u0410\\u041d\\u0418\\u0427\\u0415\\u041d\\u041d\\u041e\\u0419 \\u041e\\u0422\\u0412\\u0415\\u0421\\u0422\\u0412\\u0415\\u041d\\u041d\\u041e\\u0421\\u0422\\u042c\\u042e \\\"\\u0415\\u041a\\u0410\\u0422\\u0415\\u0420\\u0418\\u041d\\u0411\\u0423\\u0420\\u0413\\u0421\\u041a\\u0410\\u042f \\u0413\\u0420\\u0410\\u0414\\u041e\\u0421\\u0422\\u0420\\u041e\\u0418\\u0422\\u0415\\u041b\\u042c\\u041d\\u0410\\u042f \\u041a\\u041e\\u041c\\u041f\\u0410\\u041d\\u0418\\u042f\\\"\",\"\\u041e\\u0411\\u0429\\u0415\\u0421\\u0422\\u0412\\u041e \\u0421 \\u041e\\u0413\\u0420\\u0410\\u041d\\u0418\\u0427\\u0415\\u041d\\u041d\\u041e\\u0419 \\u041e\\u0422\\u0412\\u0415\\u0422\\u0421\\u0422\\u0412\\u0415\\u041d\\u041d\\u041e\\u0421\\u0422\\u042c\\u042e \\\"\\u041f\\u0410\\u041d\\u0422\\u0415\\u041e\\u041d\\\"\",\"\\u041e\\u0431\\u0449\\u0435\\u0441\\u0442\\u0432\\u043e \\u0441 \\u043e\\u0433\\u0440\\u0430\\u043d\\u0438\\u0447\\u0435\\u043d\\u043d\\u043e\\u0439 \\u043e\\u0442\\u0432\\u0435\\u0442\\u0441\\u0442\\u0432\\u0435\\u043d\\u043d\\u043e\\u0441\\u0442\\u044c\\u044e  \\\"\\u0422\\u0415\\u0425\\u041d\\u041e\\u0421\\u0422\\u0420\\u041e\\u0419\\\"\",\"\\u041e\\u041e\\u041e \\\"\\u0423\\u0420\\u0410\\u041b\\u0421\\u0422\\u0420\\u041e\\u0419\\u0421\\u0415\\u0420\\u0412\\u0418\\u0421\\\"\",\"\\u041e\\u0411\\u0429\\u0415\\u0421\\u0422\\u0412\\u041e \\u0421 \\u041e\\u0413\\u0420\\u0410\\u041d\\u0418\\u0427\\u0415\\u041d\\u041d\\u041e\\u0419 \\u041e\\u0422\\u0412\\u0415\\u0422\\u0421\\u0422\\u0412\\u0415\\u041d\\u041d\\u041e\\u0421\\u0422\\u042c\\u042e \\\"\\u0412\\u0415\\u0413\\u0410\\\"\",\"\\u041e\\u0411\\u0429\\u0415\\u0421\\u0422\\u0412\\u041e \\u0421 \\u041e\\u0413\\u0420\\u0410\\u041d\\u0418\\u0427\\u0415\\u041d\\u041d\\u041e\\u0419 \\u041e\\u0422\\u0412\\u0415\\u0422\\u0421\\u0422\\u0412\\u0415\\u041d\\u041d\\u041e\\u0421\\u0422\\u042c\\u042e \\\"\\u042d\\u0421\\u041a\\u0410\\u0414\\u0410\\\"\",\"\\u041e\\u0431\\u0449\\u0435\\u0441\\u0442\\u0432\\u043e \\u0441 \\u043e\\u0433\\u0440\\u0430\\u043d\\u0438\\u0447\\u0435\\u043d\\u043d\\u043e\\u0439 \\u043e\\u0442\\u0432\\u0435\\u0442\\u0441\\u0442\\u0432\\u0435\\u043d\\u043d\\u043e\\u0441\\u0442\\u044c\\u044e \\\"\\u0421\\u041f\\u0415\\u0426\\u0418\\u0410\\u041b\\u0418\\u0417\\u0418\\u0420\\u041e\\u0412\\u0410\\u041d\\u041d\\u042b\\u0419 \\u0417\\u0410\\u0421\\u0422\\u0420\\u041e\\u0419\\u0429\\u0418\\u041a \\\"\\u0413\\u0410\\u0420\\u0410\\u041d\\u0422\\u0421\\u0422\\u0420\\u041e\\u0419\\u0418\\u041d\\u0412\\u0415\\u0421\\u0422\\\"\\\"\",\"\\u041e\\u0411\\u0429\\u0415\\u0421\\u0422\\u0412\\u041e \\u0421 \\u041e\\u0413\\u0420\\u0410\\u041d\\u0418\\u0427\\u0415\\u041d\\u041d\\u041e\\u0419 \\u041e\\u0422\\u0412\\u0415\\u0422\\u0421\\u0422\\u0412\\u0415\\u041d\\u041d\\u041e\\u0421\\u0422\\u042c\\u042e \\\"\\u0410\\u0417\\u0418\\u041c\\u0423\\u0422\\\"\",\"\\u041e\\u0431\\u0449\\u0435\\u0441\\u0442\\u0432\\u043e \\u0441 \\u043e\\u0433\\u0440\\u0430\\u043d\\u0438\\u0447\\u0435\\u043d\\u043d\\u043e\\u0439 \\u043e\\u0442\\u0432\\u0435\\u0442\\u0441\\u0442\\u0432\\u0435\\u043d\\u043d\\u043e\\u0441\\u0442\\u044c\\u044e \\\"\\u0413\\u0410\\u0420\\u0410\\u041d\\u0422 \\u0421\\u0422\\u0420\\u041e\\u0419 \\u0421\\u0415\\u0420\\u0412\\u0418\\u0421\\\"\",\"\\u041e\\u0411\\u0429\\u0415\\u0421\\u0422\\u0412\\u041e \\u0421 \\u041e\\u0413\\u0420\\u0410\\u041d\\u0418\\u0427\\u0415\\u041d\\u041d\\u041e\\u0419 \\u041e\\u0422\\u0412\\u0415\\u0422\\u0421\\u0422\\u0412\\u0415\\u041d\\u041d\\u041e\\u0421\\u0422\\u042c\\u042e \\\"\\u041f\\u0423\\u0420\\u041e\\u0412\\u0421\\u041a\\u0418\\u0419 \\u0426\\u0415\\u041d\\u0422\\u0420 \\u041d\\u0415\\u0414\\u0412\\u0418\\u0416\\u0418\\u041c\\u041e\\u0421\\u0422\\u0418\\\"\",\"\\u041e\\u041e\\u041e \\\"\\u0410\\u043a\\u043a\\u043e\\u0440\\u0434 \\u0410\\\"\",\"\\u041e\\u0431\\u0449\\u0435\\u0441\\u0442\\u0432\\u043e \\u0441 \\u043e\\u0433\\u0440\\u0430\\u043d\\u0438\\u0447\\u0435\\u043d\\u043d\\u043e\\u0439 \\u043e\\u0442\\u0432\\u0435\\u0442\\u0441\\u0442\\u0432\\u0435\\u043d\\u043d\\u043e\\u0441\\u0442\\u044c\\u044e \\\"\\u0414\\u0421\\u041a \\\"\\u0412\\u0415\\u041b\\u0415\\u0421\\\"\",\"\\u041e\\u0431\\u0449\\u0435\\u0441\\u0442\\u0432\\u043e \\u0441 \\u043e\\u0433\\u0440\\u0430\\u043d\\u0438\\u0447\\u0435\\u043d\\u043d\\u043e\\u0439 \\u043e\\u0442\\u0432\\u0435\\u0442\\u0441\\u0442\\u0432\\u0435\\u043d\\u043d\\u043e\\u0441\\u0442\\u044c\\u044e \\\"\\u0421\\u041a-\\u041d\\u0415\\u0412\\u0410\\\"\",\"\\u041e\\u0411\\u0429\\u0415\\u0421\\u0422\\u0412\\u041e \\u0421 \\u041e\\u0413\\u0420\\u0410\\u041d\\u0418\\u0427\\u0415\\u041d\\u041d\\u041e\\u0419 \\u041e\\u0422\\u0412\\u0415\\u0422\\u0421\\u0422\\u0412\\u0415\\u041d\\u041d\\u041e\\u0421\\u0422\\u042c\\u042e \\\"\\u0421\\u0422\\u0420\\u041e\\u0419\\u041a\\u041e\\u041d\\u0421\\u0422\\u0420\\u0423\\u041a\\u0426\\u0418\\u042f\\\"\",\"\\u041e\\u0431\\u0449\\u0435\\u0441\\u0442\\u0432\\u043e \\u0441 \\u043e\\u0433\\u0440\\u0430\\u043d\\u0438\\u0447\\u0435\\u043d\\u043d\\u043e\\u0439 \\u043e\\u0442\\u0432\\u0435\\u0442\\u0441\\u0442\\u0432\\u0435\\u043d\\u043d\\u043e\\u0441\\u0442\\u044c\\u044e \\u0421\\u043f\\u0435\\u0446\\u0438\\u0430\\u043b\\u0438\\u0437\\u0438\\u0440\\u043e\\u0432\\u0430\\u043d\\u043d\\u044b\\u0439 \\u0437\\u0430\\u0441\\u0442\\u0440\\u043e\\u0439\\u0449\\u0438\\u043a \\\"\\u0410\\u041d\\u0422\\u0410\\u0420\\u0421\\u0418\\u0422\\u0418\\\"\",\"\\u0410\\u041a\\u0426\\u0418\\u041e\\u041d\\u0415\\u0420\\u041d\\u041e\\u0415 \\u041e\\u0411\\u0429\\u0415\\u0421\\u0422\\u0412\\u041e \\\"\\u0410\\u0420\\u0421\\u0415\\u041d\\u0410\\u041b\\\"\",\"\\u041e\\u0431\\u0449\\u0435\\u0441\\u0442\\u0432\\u043e \\u0441 \\u043e\\u0433\\u0440\\u0430\\u043d\\u0438\\u0447\\u0435\\u043d\\u043d\\u043e\\u0439 \\u043e\\u0442\\u0432\\u0435\\u0442\\u0441\\u0442\\u0432\\u0435\\u043d\\u043d\\u043e\\u0441\\u0442\\u044c\\u044e \\\"\\u0410\\u041b\\u042c\\u042f\\u041d\\u0421\\\"\",\"\\u041e\\u0431\\u0449\\u0435\\u0441\\u0442\\u0432\\u043e \\u0441 \\u043e\\u0433\\u0440\\u0430\\u043d\\u0438\\u0447\\u0435\\u043d\\u043d\\u043e\\u0439 \\u043e\\u0442\\u0432\\u0435\\u0442\\u0441\\u0442\\u0432\\u0435\\u043d\\u043d\\u043e\\u0441\\u0442\\u044c\\u044e \\\"\\u0421\\u0422\\u0420\\u041e\\u0419-\\u0420\\u0415\\u0421\\u0423\\u0420\\u0421\\\"\",\"\\u041e\\u0431\\u0449\\u0435\\u0441\\u0442\\u0432\\u043e \\u0441 \\u043e\\u0433\\u0440\\u0430\\u043d\\u0438\\u0447\\u0435\\u043d\\u043d\\u043e\\u0439 \\u043e\\u0442\\u0432\\u0435\\u0442\\u0441\\u0442\\u0432\\u0435\\u043d\\u043d\\u043e\\u0441\\u0442\\u044c\\u044e \\u0421\\u041f\\u0415\\u0426\\u0418\\u0410\\u041b\\u0418\\u0417\\u0418\\u0420\\u041e\\u0412\\u0410\\u041d\\u041d\\u042b\\u0419 \\u0417\\u0410\\u0421\\u0422\\u0420\\u041e\\u0419\\u0429\\u0418\\u041a \\u0424\\u0418\\u041d\\u0410\\u041d\\u0421\\u041e\\u0412\\u041e \\u0421\\u0422\\u0420\\u041e\\u0418\\u0422\\u0415\\u041b\\u042c\\u041d\\u0410\\u042f \\u041a\\u041e\\u0420\\u041f\\u041e\\u0420\\u0410\\u0426\\u0418\\u042f \\\"\\u041c\\u041e\\u041d\\u041e\\u041b\\u0418\\u0422-\\u041a\\u0410\\u041b\\u0423\\u0413\\u0410\\\"\",\"\\u041e\\u0411\\u0429\\u0415\\u0421\\u0422\\u0412\\u041e \\u0421 \\u041e\\u0413\\u0420\\u0410\\u041d\\u0418\\u0427\\u0415\\u041d\\u041d\\u041e\\u0419 \\u041e\\u0422\\u0412\\u0415\\u0422\\u0421\\u0422\\u0412\\u0415\\u041d\\u041d\\u041e\\u0421\\u0422\\u042c\\u042e \\\"\\u0421\\u041e\\u042e\\u0417\\\"\",\"\\u041e\\u0431\\u0449\\u0435\\u0441\\u0442\\u0432\\u043e \\u0441 \\u043e\\u0433\\u0440\\u0430\\u043d\\u0438\\u0447\\u0435\\u043d\\u043d\\u043e\\u0439 \\u043e\\u0442\\u0432\\u0435\\u0442\\u0441\\u0442\\u0432\\u0435\\u043d\\u043d\\u043e\\u0441\\u0442\\u044c\\u044e \\\"\\u0421\\u041c\\u041e\\u041b\\u0421\\u0422\\u0420\\u041e\\u0419\\u0413\\u0410\\u0420\\u0410\\u041d\\u0422\\\"\",\"\\u041e\\u0431\\u0449\\u0435\\u0441\\u0442\\u0432\\u043e \\u0441 \\u043e\\u0433\\u0440\\u0430\\u043d\\u0438\\u0447\\u0435\\u043d\\u043d\\u043e\\u0439 \\u043e\\u0442\\u0432\\u0435\\u0442\\u0441\\u0442\\u0432\\u0435\\u043d\\u043d\\u043e\\u0441\\u0442\\u044c\\u044e \\\"\\u0426\\u0435\\u043d\\u0442\\u0440-\\u0418\\u043d\\u0432\\u0435\\u0441\\u0442-\\u0421\\u0442\\u0440\\u043e\\u0439\\\"\",\"\\u041e\\u0431\\u0449\\u0435\\u0441\\u0442\\u0432\\u043e \\u0441 \\u043e\\u0433\\u0440\\u0430\\u043d\\u0438\\u0447\\u0435\\u043d\\u043d\\u043e\\u0439 \\u043e\\u0442\\u0432\\u0435\\u0442\\u0441\\u0442\\u0432\\u0435\\u043d\\u043d\\u043e\\u0441\\u0442\\u044c\\u044e \\\"\\u0413\\u0430\\u0437\\u0412\\u043e\\u0434\\u0421\\u0442\\u0440\\u043e\\u0439\\\"\",\"\\u0410\\u041a\\u0426\\u0418\\u041e\\u041d\\u0415\\u0420\\u041d\\u041e\\u0415 \\u041e\\u0411\\u0429\\u0415\\u0421\\u0422\\u0412\\u041e \\\"\\u0410\\u0420\\u0421\\u0415\\u041d\\u0410\\u041b\\\"\",\"\\u041e\\u0411\\u0429\\u0415\\u0421\\u0422\\u0412\\u041e \\u0421 \\u041e\\u0413\\u0420\\u0410\\u041d\\u0418\\u0427\\u0415\\u041d\\u041d\\u041e\\u0419 \\u041e\\u0422\\u0412\\u0415\\u0422\\u0421\\u0422\\u0412\\u0415\\u041d\\u041d\\u041e\\u0421\\u0422\\u042c\\u042e \\\"\\u0421\\u041b\\u0410\\u0412\\u042f\\u041d\\u0421\\u0422\\u0420\\u041e\\u0419\\\"\",\"\\u041e\\u0431\\u0449\\u0435\\u0441\\u0442\\u0432\\u043e \\u0441 \\u043e\\u0433\\u0440\\u0430\\u043d\\u0438\\u0447\\u0435\\u043d\\u043d\\u043e\\u0439 \\u043e\\u0442\\u0432\\u0435\\u0442\\u0441\\u0442\\u0432\\u0435\\u043d\\u043d\\u043e\\u0441\\u0442\\u044c\\u044e \\\"\\u0413\\u0430\\u043c\\u0430\\u0441\\u0441\\\"\",\"\\u041e\\u0431\\u0449\\u0435\\u0441\\u0442\\u0432\\u043e \\u0441 \\u043e\\u0433\\u0440\\u0430\\u043d\\u0438\\u0447\\u0435\\u043d\\u043d\\u043e\\u0439 \\u043e\\u0442\\u0432\\u0435\\u0442\\u0441\\u0442\\u0432\\u0435\\u043d\\u043d\\u043e\\u0441\\u0442\\u044c\\u044e \\\"\\u0410\\u0414\\u042e\\u0422\\u041e\\u041d-\\u041d\\\"\",\"\\u041e\\u041e\\u041e \\\"\\u0421\\u0420.\\u0414\\u0415\\u0412\\u0415\\u041b\\u041e\\u041f\\u041c\\u0415\\u041d\\u0422\\\"\",\"\\u041e\\u0431\\u0449\\u0435\\u0441\\u0442\\u0432\\u043e \\u0441 \\u043e\\u0433\\u0440\\u0430\\u043d\\u0438\\u0447\\u0435\\u043d\\u043d\\u043e\\u0439 \\u043e\\u0442\\u0432\\u0435\\u0442\\u0441\\u0442\\u0432\\u0435\\u043d\\u043d\\u043e\\u0441\\u0442\\u044c\\u044e \\u041f\\u0440\\u043e\\u0438\\u0437\\u0432\\u043e\\u0434\\u0441\\u0442\\u0432\\u0435\\u043d\\u043d\\u043e-\\u0441\\u0442\\u0440\\u043e\\u0438\\u0442\\u0435\\u043b\\u044c\\u043d\\u0430\\u044f \\u043a\\u043e\\u043c\\u043f\\u0430\\u043d\\u0438\\u044f \\\"\\u0421\\u0438\\u0431\\u041f\\u0440\\u043e\\u0434\\u041c\\u043e\\u043d\\u0442\\u0430\\u0436\\\"\",\"\\u041e\\u041e\\u041e \\\"\\u041b\\u0438\\u0442\\u0430\\u043d\\u0430\\\"\",\"\\u041e\\u0431\\u0449\\u0435\\u0441\\u0442\\u0432\\u043e \\u0441 \\u043e\\u0433\\u0440\\u0430\\u043d\\u0438\\u0447\\u0435\\u043d\\u043d\\u043e\\u0439 \\u043e\\u0442\\u0432\\u0435\\u0442\\u0441\\u0442\\u0432\\u0435\\u043d\\u043d\\u043e\\u0441\\u0442\\u044c\\u044e \\\"\\u041e\\u041f\\u041e\\u0420\\u0410\\\"\",\"\\u041e\\u0431\\u0449\\u0435\\u0441\\u0442\\u0432\\u043e \\u0441 \\u043e\\u0433\\u0440\\u0430\\u043d\\u0438\\u0447\\u0435\\u043d\\u043d\\u043e\\u0439 \\u043e\\u0442\\u0432\\u0435\\u0442\\u0441\\u0442\\u0432\\u0435\\u043d\\u043d\\u043e\\u0441\\u0442\\u044c\\u044e \\\"\\u0421\\u0442\\u0440\\u043e\\u0439\\u0434\\u0435\\u043b\\u043e\\\"\",\"\\u041e\\u0411\\u0429\\u0415\\u0421\\u0422\\u0412\\u041e \\u0421 \\u041e\\u0413\\u0420\\u0410\\u041d\\u0418\\u0427\\u0415\\u041d\\u041d\\u041e\\u0419 \\u041e\\u0422\\u0412\\u0415\\u0422\\u0421\\u0422\\u0412\\u0415\\u041d\\u041d\\u041e\\u0421\\u0422\\u042c\\u042e \\\"\\u0415\\u041d\\u0415\\u0420-\\u0425\\u041e\\u041b\\u0414\\u0418\\u041d\\u0413\\\"\",\"\\u041e\\u0431\\u0449\\u0435\\u0441\\u0442\\u0432\\u043e \\u0441 \\u043e\\u0433\\u0440\\u0430\\u043d\\u0438\\u0447\\u0435\\u043d\\u043d\\u043e\\u0439 \\u043e\\u0442\\u0432\\u0435\\u0442\\u0441\\u0442\\u0432\\u0435\\u043d\\u043d\\u043e\\u0441\\u0442\\u044c\\u044e \\\"\\u041e\\u0425\\u0412\\u0410\\u0422-\\u041d\\u0421\\u041a\\\"\",\"\\u041e\\u0431\\u0449\\u0435\\u0441\\u0442\\u0432\\u043e \\u0441 \\u043e\\u0433\\u0440\\u0430\\u043d\\u0438\\u0447\\u0435\\u043d\\u043d\\u043e\\u0439 \\u043e\\u0442\\u0432\\u0435\\u0442\\u0441\\u0442\\u0432\\u0435\\u043d\\u043d\\u043e\\u0441\\u0442\\u044c\\u044e \\\"\\u041c\\u0415\\u041d\\u0422\\u0410\\u041b-\\u041f\\u041b\\u042e\\u0421\\\"\",\"\\u0410\\u043a\\u0446\\u0438\\u043e\\u043d\\u0435\\u0440\\u043d\\u043e\\u0435 \\u043e\\u0431\\u0449\\u0435\\u0441\\u0442\\u0432\\u043e \\\"\\u041d\\u0435\\u0432\\u0441\\u043a\\u0438\\u0439 \\u041f\\u0440\\u043e\\u0435\\u043a\\u0442\\\"\",\"\\u041e\\u0431\\u0449\\u0435\\u0441\\u0442\\u0432\\u043e \\u0441 \\u043e\\u0433\\u0440\\u0430\\u043d\\u0438\\u0447\\u0435\\u043d\\u043d\\u043e\\u0439 \\u043e\\u0442\\u0432\\u0435\\u0442\\u0441\\u0442\\u0432\\u0435\\u043d\\u043d\\u043e\\u0441\\u0442\\u044c\\u044e \\\"\\u0421\\u0435\\u043b\\u044c\\u0441\\u0442\\u0440\\u043e\\u0439\\\"\",\"\\u041e\\u0411\\u0429\\u0415\\u0421\\u0422\\u0412\\u041e \\u0421 \\u041e\\u0413\\u0420\\u0410\\u041d\\u0418\\u0427\\u0415\\u041d\\u041d\\u041e\\u0419 \\u041e\\u0422\\u0412\\u0415\\u0422\\u0421\\u0422\\u0412\\u0415\\u041d\\u041d\\u041e\\u0421\\u0422\\u042c\\u042e \\\"\\u041f\\u0420\\u041e\\u0424\\u041b\\u0410\\u0419\\u041d\\\"\",\"\\u041e\\u0431\\u0449\\u0435\\u0441\\u0442\\u0432\\u043e \\u0441 \\u043e\\u0433\\u0440\\u0430\\u043d\\u0438\\u0447\\u0435\\u043d\\u043d\\u043e\\u0439 \\u043e\\u0442\\u0432\\u0435\\u0442\\u0441\\u0442\\u0432\\u0435\\u043d\\u043d\\u043e\\u0441\\u0442\\u044c\\u044e \\\"\\u0420\\u0441\\u0442\\u0438 (\\u0421\\u043f\\u0435\\u0446\\u0438\\u0430\\u043b\\u0438\\u0437\\u0438\\u0440\\u043e\\u0432\\u0430\\u043d\\u043d\\u044b\\u0439 \\u0417\\u0430\\u0441\\u0442\\u0440\\u043e\\u0439\\u0449\\u0438\\u043a)\\\"\",\"\\u041e\\u0431\\u0449\\u0435\\u0441\\u0442\\u0432\\u043e \\u0441 \\u043e\\u0433\\u0440\\u0430\\u043d\\u0438\\u0447\\u0435\\u043d\\u043d\\u043e\\u0439 \\u043e\\u0442\\u0432\\u0435\\u0442\\u0441\\u0442\\u0432\\u0435\\u043d\\u043d\\u043e\\u0441\\u0442\\u044c\\u044e \\\"\\u0421\\u0442\\u0440\\u043e\\u0439-\\u041a\\u043e\\u043d\\u0442\\u0438\\u043d\\u0435\\u043d\\u0442\\\"\",\"\\u041e\\u0431\\u0449\\u0435\\u0441\\u0442\\u0432\\u043e \\u0441 \\u043e\\u0433\\u0440\\u0430\\u043d\\u0438\\u0447\\u0435\\u043d\\u043d\\u043e\\u0439 \\u043e\\u0442\\u0432\\u0435\\u0442\\u0441\\u0442\\u0432\\u0435\\u043d\\u043d\\u043e\\u0441\\u0442\\u044c\\u044e \\\"\\u041d\\u0410\\u0421\\u041b\\u0415\\u0414\\u0418\\u0415\\\"\",\"\\u041e\\u0411\\u0429\\u0415\\u0421\\u0422\\u0412\\u041e \\u0421 \\u041e\\u0413\\u0420\\u0410\\u041d\\u0418\\u0427\\u0415\\u041d\\u041d\\u041e\\u0419 \\u041e\\u0422\\u0412\\u0415\\u0422\\u0421\\u0422\\u0412\\u0415\\u041d\\u041d\\u041e\\u0421\\u0422\\u042c\\u042e \\\"\\u0421\\u0422\\u0420\\u041e\\u0419\\u042d\\u041d\\u0415\\u0420\\u0413\\u041e\\u041a\\u041e\\u041c\\u041f\\u041b\\u0415\\u041a\\u0422\\\"\",\"\\u041e\\u0431\\u0449\\u0435\\u0441\\u0442\\u0432\\u043e \\u0441 \\u043e\\u0433\\u0440\\u0430\\u043d\\u0438\\u0447\\u0435\\u043d\\u043d\\u043e\\u0439 \\u043e\\u0442\\u0432\\u0435\\u0442\\u0441\\u0442\\u0432\\u0435\\u043d\\u043d\\u043e\\u0441\\u0442\\u044c\\u044e \\\"\\u0422\\u0435\\u0440\\u0440\\u0438\\u043a\\u043e\\u043d\\\"\",\"\\u041e\\u0431\\u0449\\u0435\\u0441\\u0442\\u0432\\u043e \\u0441 \\u043e\\u0433\\u0440\\u0430\\u043d\\u0438\\u0447\\u0435\\u043d\\u043d\\u043e\\u0439 \\u043e\\u0442\\u0432\\u0435\\u0442\\u0441\\u0442\\u0432\\u0435\\u043d\\u043d\\u043e\\u0441\\u0442\\u044c\\u044e \\\"\\u041d\\u0438\\u0436\\u0435\\u0433\\u043e\\u0440\\u043e\\u0434\\u0441\\u043a\\u0430\\u044f \\u0444\\u0438\\u0440\\u043c\\u0430 \\u0410\\u0442\\u043e\\u043c-\\u0421\\u0442\\u0440\\u043e\\u0439\\\"\",\"\\u041e\\u0431\\u0449\\u0435\\u0441\\u0442\\u0432\\u043e \\u0441 \\u043e\\u0433\\u0440\\u0430\\u043d\\u0438\\u0447\\u0435\\u043d\\u043d\\u043e\\u0439 \\u043e\\u0442\\u0432\\u0435\\u0442\\u0441\\u0442\\u0432\\u0435\\u043d\\u043d\\u043e\\u0441\\u0442\\u044c\\u044e \\\"\\u041a\\u043e\\u043d\\u0442\\u0438\\u043d\\u0435\\u043d\\u0442\\\"\",\"\\u041e\\u041e\\u041e \\\"\\u0422\\u0415\\u0425\\u041d\\u041e\\u0425\\u0418\\u041c\\u041c\\u041e\\u041d\\u0422\\u0410\\u0416\\\"\",\"\\u041e\\u041e\\u041e \\\"\\u041a\\u041e\\u041d\\u041a\\u041e\\u0420\\u0414\\\"\",\"\\u041e\\u0431\\u0449\\u0435\\u0441\\u0442\\u0432\\u043e \\u0441 \\u043e\\u0433\\u0440\\u0430\\u043d\\u0438\\u0447\\u0435\\u043d\\u043d\\u043e\\u0439 \\u043e\\u0442\\u0432\\u0435\\u0442\\u0441\\u0442\\u0432\\u0435\\u043d\\u043d\\u043e\\u0441\\u0442\\u044c\\u044e \\\"\\u0420\\u0421\\u0411 \\u041a\\u041e\\u041d\\u0421\\u0422\\u0420\\u0410\\u041a\\u0428\\u041d\\\"\",\"\\u041e\\u0431\\u0449\\u0435\\u0441\\u0442\\u0432\\u043e \\u0441 \\u043e\\u0433\\u0440\\u0430\\u043d\\u0438\\u0447\\u0435\\u043d\\u043d\\u043e\\u0439 \\u043e\\u0442\\u0432\\u0435\\u0442\\u0441\\u0442\\u0432\\u0435\\u043d\\u043d\\u043e\\u0441\\u0442\\u044c\\u044e \\\"\\u0412\\u0442\\u043e\\u0440\\u0430\\u044f \\u0441\\u0442\\u0440\\u043e\\u0438\\u0442\\u0435\\u043b\\u044c\\u043d\\u0430\\u044f \\u043a\\u043e\\u043c\\u043f\\u0430\\u043d\\u0438\\u044f\\\"\",\"\\u041e\\u0431\\u0449\\u0435\\u0441\\u0442\\u0432\\u043e \\u0441 \\u043e\\u0433\\u0440\\u0430\\u043d\\u0438\\u0447\\u0435\\u043d\\u043d\\u043e\\u0439 \\u043e\\u0442\\u0432\\u0435\\u0442\\u0441\\u0442\\u0432\\u0435\\u043d\\u043d\\u043e\\u0441\\u0442\\u044c\\u044e \\\"\\u041d\\u0410\\u0421\\u041b\\u0415\\u0414\\u0418\\u0415-\\u0420\\u0415\\u041d\\u041e\\u0412\\u0410\\u0426\\u0418\\u042f\\\"\",\"\\u041e\\u0431\\u0449\\u0435\\u0441\\u0442\\u0432\\u043e \\u0441 \\u043e\\u0433\\u0440\\u0430\\u043d\\u0438\\u0447\\u0435\\u043d\\u043d\\u043e\\u0439 \\u043e\\u0442\\u0432\\u0435\\u0442\\u0441\\u0442\\u0432\\u0435\\u043d\\u043d\\u043e\\u0441\\u0442\\u044c\\u044e \\\"\\u041b\\u042e\\u041a\\u0421\\u0421\\u0422\\u0420\\u041e\\u0419\\\"\",\"\\u041e\\u0431\\u0449\\u0435\\u0441\\u0442\\u0432\\u043e \\u0441 \\u043e\\u0433\\u0440\\u0430\\u043d\\u0438\\u0447\\u0435\\u043d\\u043d\\u043e\\u0439 \\u043e\\u0442\\u0432\\u0435\\u0442\\u0441\\u0442\\u0432\\u0435\\u043d\\u043d\\u043e\\u0441\\u0442\\u044c\\u044e \\\"\\u0421\\u0442\\u0440\\u043e\\u0438\\u0442\\u0435\\u043b\\u044c\\u043d\\u0430\\u044f \\u041a\\u043e\\u043c\\u043f\\u0430\\u043d\\u0438\\u044f \\\"\\u0413\\u0438\\u0434\\u0440\\u043e\\u043a\\u043e\\u0440\\\"\",\"\\u041e\\u0431\\u0449\\u0435\\u0441\\u0442\\u0432\\u043e \\u0441 \\u043e\\u0433\\u0440\\u0430\\u043d\\u0438\\u0447\\u0435\\u043d\\u043d\\u043e\\u0439 \\u043e\\u0442\\u0432\\u0435\\u0442\\u0441\\u0442\\u0432\\u0435\\u043d\\u043d\\u043e\\u0441\\u0442\\u044c\\u044e \\\"\\u041c\\u0414\\u0412\\\"\",\"\\u041e\\u0431\\u0449\\u0435\\u0441\\u0442\\u0432\\u043e \\u0441 \\u043e\\u0433\\u0440\\u0430\\u043d\\u0438\\u0447\\u0435\\u043d\\u043d\\u043e\\u0439 \\u043e\\u0442\\u0432\\u0435\\u0442\\u0441\\u0442\\u0432\\u0435\\u043d\\u043d\\u043e\\u0441\\u0442\\u044c\\u044e \\\"\\u0424\\u041b\\u0410\\u0413\\u041c\\u0410\\u041d\\\"\",\"\\u041e\\u0411\\u0429\\u0415\\u0421\\u0422\\u0412\\u041e \\u0421 \\u041e\\u0413\\u0420\\u0410\\u041d\\u0418\\u0427\\u0415\\u041d\\u041d\\u041e\\u0419 \\u041e\\u0422\\u0412\\u0415\\u0422\\u0421\\u0422\\u0412\\u0415\\u041d\\u041d\\u041e\\u0421\\u0422\\u042c\\u042e \\\"\\u0423\\u041f\\u0420\\u0410\\u0412\\u041b\\u042f\\u042e\\u0429\\u0410\\u042f \\u0421\\u0422\\u0420\\u041e\\u0418\\u0422\\u0415\\u041b\\u042c\\u041d\\u0410\\u042f \\u041a\\u041e\\u041c\\u041f\\u0410\\u041d\\u0418\\u042f \\u042d\\u0422\\u0410\\u0416\\u0418\\\"\",\"\\u041e\\u0431\\u0449\\u0435\\u0441\\u0442\\u0432\\u043e \\u0441 \\u043e\\u0433\\u0440\\u0430\\u043d\\u0438\\u0447\\u0435\\u043d\\u043d\\u043e\\u0439 \\u043e\\u0442\\u0432\\u0435\\u0442\\u0441\\u0442\\u0432\\u0435\\u043d\\u043d\\u043e\\u0441\\u0442\\u044c\\u044e \\\"\\u0421\\u0422\\u0420\\u041e\\u0418\\u0422\\u0415\\u041b\\u042c\\u041d\\u0410\\u042f \\u041a\\u041e\\u041c\\u041f\\u0410\\u041d\\u0418\\u042f \\\"\\u0414\\u0415\\u041b\\u042c\\u0422\\u0410\\\"\",\"\\u041e\\u0431\\u0449\\u0435\\u0441\\u0442\\u0432\\u043e \\u0441 \\u043e\\u0433\\u0440\\u0430\\u043d\\u0438\\u0447\\u0435\\u043d\\u043d\\u043e\\u0439 \\u043e\\u0442\\u0432\\u0435\\u0442\\u0441\\u0442\\u0432\\u0435\\u043d\\u043d\\u043e\\u0441\\u0442\\u044c\\u044e \\u0410\\u0421\\u041a \\\"\\u041e\\u043b\\u0438\\u043c\\u043f\\u0441\\u0442\\u0440\\u043e\\u0439\\\"\",\"\\u041e\\u0431\\u0449\\u0435\\u0441\\u0442\\u0432\\u043e \\u0441 \\u043e\\u0433\\u0440\\u0430\\u043d\\u0438\\u0447\\u0435\\u043d\\u043d\\u043e\\u0439 \\u043e\\u0442\\u0432\\u0435\\u0442\\u0441\\u0442\\u0432\\u0435\\u043d\\u043d\\u043e\\u0441\\u0442\\u044c\\u044e \\\"\\u041c\\u0410\\u0421\\u0422\\u0415\\u0420\\u0421\\u0422\\u0420\\u041e\\u0419-\\u0414\\u0412\\\"\",\"\\u041e\\u0431\\u0449\\u0435\\u0441\\u0442\\u0432\\u043e \\u0441 \\u043e\\u0433\\u0440\\u0430\\u043d\\u0438\\u0447\\u0435\\u043d\\u043d\\u043e\\u0439 \\u043e\\u0442\\u0432\\u0435\\u0442\\u0441\\u0442\\u0432\\u0435\\u043d\\u043d\\u043e\\u0441\\u0442\\u044c\\u044e \\\"\\u0421\\u041a \\u041d.\\u0422.\\u0421.\\\"\",\"\\u041e\\u0431\\u0449\\u0435\\u0441\\u0442\\u0432\\u043e \\u0441 \\u043e\\u0433\\u0440\\u0430\\u043d\\u0438\\u0447\\u0435\\u043d\\u043d\\u043e\\u0439 \\u043e\\u0442\\u0432\\u0435\\u0442\\u0441\\u0442\\u0432\\u0435\\u043d\\u043d\\u043e\\u0441\\u0442\\u044c\\u044e \\\"\\u0421\\u041a \\u0412\\u0418\\u0420\\u0410\\\"\",\"\\u041e\\u0431\\u0449\\u0435\\u0441\\u0442\\u0432\\u043e \\u0441 \\u043e\\u0433\\u0440\\u0430\\u043d\\u0438\\u0447\\u0435\\u043d\\u043d\\u043e\\u0439 \\u043e\\u0442\\u0432\\u0435\\u0442\\u0441\\u0442\\u0432\\u0435\\u043d\\u043d\\u043e\\u0441\\u0442\\u044c\\u044e  \\u041d\\u0430\\u0443\\u0447\\u043d\\u043e-\\u041f\\u0440\\u043e\\u0438\\u0437\\u0432\\u043e\\u0434\\u0441\\u0442\\u0432\\u0435\\u043d\\u043d\\u0430\\u044f \\u041a\\u043e\\u043c\\u043f\\u0430\\u043d\\u0438\\u044f \\\"\\u0418\\u043d\\u0442\\u0435\\u0440\\u0431\\u0438\\u0437\\u043d\\u0435\\u0441-55\\\"\",\"\\u041e\\u0431\\u0449\\u0435\\u0441\\u0442\\u0432\\u043e \\u0441 \\u043e\\u0433\\u0440\\u0430\\u043d\\u0438\\u0447\\u0435\\u043d\\u043d\\u043e\\u0439 \\u043e\\u0442\\u0432\\u0435\\u0442\\u0441\\u0442\\u0432\\u0435\\u043d\\u043d\\u043e\\u0441\\u0442\\u044c\\u044e \\\"\\u041a\\u0421\\u041a-\\u0413\\u0420\\u0423\\u041f\\u041f\\\"\",\"\\u041e\\u0431\\u0449\\u0435\\u0441\\u0442\\u0432\\u043e \\u0441 \\u043e\\u0433\\u0440\\u0430\\u043d\\u0438\\u0447\\u0435\\u043d\\u043d\\u043e\\u0439 \\u043e\\u0442\\u0432\\u0435\\u0442\\u0441\\u0442\\u0432\\u0435\\u043d\\u043d\\u043e\\u0441\\u0442\\u044c\\u044e \\\"\\u0421\\u0442\\u0440\\u043e\\u0438\\u0442\\u0435\\u043b\\u044c\\u043d\\u0430\\u044f \\u043a\\u043e\\u043c\\u043f\\u0430\\u043d\\u0438\\u044f \\u0421\\u0435\\u0440\\u0432\\u0438\\u0441-\\u0414\\\"\",\"\\u041e\\u041e\\u041e \\\"\\u0421\\u041a \\u0418\\u0412\\u0415\\u041d\\u0422\\\"\",\"\\u041e\\u0431\\u0449\\u0435\\u0441\\u0442\\u0432\\u043e \\u0441 \\u043e\\u0433\\u0440\\u0430\\u043d\\u0438\\u0447\\u0435\\u043d\\u043d\\u043e\\u0439 \\u043e\\u0442\\u0432\\u0435\\u0442\\u0441\\u0442\\u0432\\u0435\\u043d\\u043d\\u043e\\u0441\\u0442\\u044c\\u044e \\\"\\u0418\\u043d\\u0432\\u0435\\u0441\\u0442\\u0438\\u0446\\u0438\\u043e\\u043d\\u043d\\u0430\\u044f \\u0441\\u0442\\u0440\\u043e\\u0438\\u0442\\u0435\\u043b\\u044c\\u043d\\u0430\\u044f \\u043a\\u043e\\u043c\\u043f\\u0430\\u043d\\u0438\\u044f \\\"\\u041d\\u041a\\u0421\\\"\",\"\\u041e\\u0431\\u0449\\u0435\\u0441\\u0442\\u0432\\u043e \\u0441 \\u043e\\u0433\\u0440\\u0430\\u043d\\u0438\\u0447\\u0435\\u043d\\u043d\\u043e\\u0439 \\u043e\\u0442\\u0432\\u0435\\u0442\\u0441\\u0442\\u0432\\u0435\\u043d\\u043d\\u043e\\u0441\\u0442\\u044c\\u044e \\\"\\u0421\\u041a \\\"\\u0421\\u0442\\u0440\\u043e\\u0439\\u0436\\u0438\\u043b\\u043f\\u043e\\u0434\\u0440\\u044f\\u0434\\\"\",\"\\u041e\\u0431\\u0449\\u0435\\u0441\\u0442\\u0432\\u043e \\u0441 \\u043e\\u0433\\u0440\\u0430\\u043d\\u0438\\u0447\\u0435\\u043d\\u043d\\u043e\\u0439 \\u043e\\u0442\\u0432\\u0435\\u0442\\u0441\\u0442\\u0432\\u0435\\u043d\\u043d\\u043e\\u0441\\u0442\\u044c\\u044e \\\"\\u041c\\u0435\\u0433\\u0430\\u0421\\u0442\\u0440\\u043e\\u0439\\\"\",\"\\u041e\\u0431\\u0449\\u0435\\u0441\\u0442\\u0432\\u043e \\u0441 \\u043e\\u0433\\u0440\\u0430\\u043d\\u0438\\u0447\\u0435\\u043d\\u043d\\u043e\\u0439 \\u043e\\u0442\\u0432\\u0435\\u0442\\u0441\\u0442\\u0432\\u0435\\u043d\\u043d\\u043e\\u0441\\u0442\\u044c\\u044e \\\"\\u041b\\u0410\\u0422\\u0410\\u0420 \\u0421\\u0422\\u0420\\u041e\\u0419\\\"\",\"\\u041e\\u0431\\u0449\\u0435\\u0441\\u0442\\u0432\\u043e \\u0441 \\u043e\\u0433\\u0440\\u0430\\u043d\\u0438\\u0447\\u0435\\u043d\\u043d\\u043e\\u0439 \\u043e\\u0442\\u0432\\u0435\\u0442\\u0441\\u0442\\u0432\\u0435\\u043d\\u043d\\u043e\\u0441\\u0442\\u044c\\u044e \\\"\\u0420\\u0438\\u043e\\\"\",\"\\u041e\\u0411\\u0429\\u0415\\u0421\\u0422\\u0412\\u041e \\u0421 \\u041e\\u0413\\u0420\\u0410\\u041d\\u0418\\u0427\\u0415\\u041d\\u041d\\u041e\\u0419 \\u041e\\u0422\\u0412\\u0415\\u0422\\u0421\\u0422\\u0412\\u0415\\u041d\\u041d\\u041e\\u0421\\u0422\\u042c\\u042e \\\"\\u0410\\u0412\\u0410\\u041d\\u0413\\u0410\\u0420\\u0414\\u0421\\u0422\\u0420\\u041e\\u0419\\\"\",\"\\u041e\\u0431\\u0449\\u0435\\u0441\\u0442\\u0432\\u043e \\u0441 \\u043e\\u0433\\u0440\\u0430\\u043d\\u0438\\u0447\\u0435\\u043d\\u043d\\u043e\\u0439 \\u043e\\u0442\\u0432\\u0435\\u0442\\u0441\\u0442\\u0432\\u0435\\u043d\\u043d\\u043e\\u0441\\u0442\\u044c\\u044e \\\"\\u0421\\u0442\\u0440\\u043e\\u0439\\u0441\\u0435\\u0440\\u0432\\u0438\\u0441 \\u041f\\u043b\\u044e\\u0441\\\"\",\"\\u0417\\u0430\\u043a\\u0440\\u044b\\u0442\\u043e\\u0435 \\u0430\\u043a\\u0446\\u0438\\u043e\\u043d\\u0435\\u0440\\u043d\\u043e\\u0435 \\u043e\\u0431\\u0449\\u0435\\u0441\\u0442\\u0432\\u043e \\\"\\u0418\\u043d\\u0441\\u0442\\u0438\\u0442\\u0443\\u0442 \\u0413\\u0438\\u0434\\u0440\\u043e\\u0422\\u0440\\u0430\\u043d\\u0441\\u041f\\u0440\\u043e\\u0435\\u043a\\u0442\\\"\",\"\\u041e\\u0411\\u0429\\u0415\\u0421\\u0422\\u0412\\u041e \\u0421 \\u041e\\u0413\\u0420\\u0410\\u041d\\u0418\\u0427\\u0415\\u041d\\u041d\\u041e\\u0419 \\u041e\\u0422\\u0412\\u0415\\u0422\\u0421\\u0422\\u0412\\u0415\\u041d\\u041d\\u041e\\u0421\\u0422\\u042c\\u042e \\\"\\u042d\\u041d\\u0415\\u0420\\u0413\\u041e\\u0421\\u0422\\u0420\\u041e\\u0419\\u0412\\u041e\\u0421\\u0422\\u041e\\u041a\\\"\",\"\\u041e\\u0431\\u0449\\u0435\\u0441\\u0442\\u0432\\u043e \\u0441 \\u043e\\u0433\\u0440\\u0430\\u043d\\u0438\\u0447\\u0435\\u043d\\u043d\\u043e\\u0439 \\u043e\\u0442\\u0432\\u0435\\u0442\\u0441\\u0442\\u0432\\u0435\\u043d\\u043d\\u043e\\u0441\\u0442\\u044c\\u044e \\u0421\\u043f\\u0435\\u0446\\u0438\\u0430\\u043b\\u0438\\u0437\\u0438\\u0440\\u043e\\u0432\\u0430\\u043d\\u043d\\u044b\\u0439 \\u0437\\u0430\\u0441\\u0442\\u0440\\u043e\\u0439\\u0449\\u0438\\u043a \\u00ab\\u041c\\u0430\\u0433\\u043c\\u0430 \\u0421\\u0438\\u043c\\u0431\\u0438\\u0440\\u0441\\u043a\\u00bb\",\"\\u041e\\u0431\\u0449\\u0435\\u0441\\u0442\\u0432\\u043e \\u0441 \\u043e\\u0433\\u0440\\u0430\\u043d\\u0438\\u0447\\u0435\\u043d\\u043d\\u043e\\u0439 \\u043e\\u0442\\u0432\\u0435\\u0442\\u0441\\u0442\\u0432\\u0435\\u043d\\u043d\\u043e\\u0441\\u0442\\u044c\\u044e \\\"\\u0420\\u0420\\u0414 \\u0418\\u041d\\u0416\\u0418\\u041d\\u0418\\u0420\\u0418\\u041d\\u0413\\\"\",\"\\u041e\\u0431\\u0449\\u0435\\u0441\\u0442\\u0432\\u043e \\u0441 \\u043e\\u0433\\u0440\\u0430\\u043d\\u0438\\u0447\\u0435\\u043d\\u043d\\u043e\\u0439 \\u043e\\u0442\\u0432\\u0435\\u0442\\u0441\\u0442\\u0432\\u0435\\u043d\\u043d\\u043e\\u0441\\u0442\\u044c\\u044e \\\"\\u042d\\u043a\\u0441\\u043f\\u043e\\u043d\\u0435\\u043d\\u0442\\u0430\\u043c\\\"\",\"\\u041e\\u0431\\u0449\\u0435\\u0441\\u0442\\u0432\\u043e \\u0441 \\u043e\\u0433\\u0440\\u0430\\u043d\\u0438\\u0447\\u0435\\u043d\\u043d\\u043e\\u0439 \\u043e\\u0442\\u0432\\u0435\\u0442\\u0441\\u0442\\u0432\\u0435\\u043d\\u043d\\u043e\\u0441\\u0442\\u044c\\u044e \\\"\\u0422\\u0415\\u0420\\u041c\\u041e\\u0418\\u0417\\u041e\\u041b\\u0421\\u0422\\u0420\\u041e\\u0419\\\"\",\"\\u041e\\u0431\\u0449\\u0435\\u0441\\u0442\\u0432\\u043e \\u0441 \\u043e\\u0433\\u0440\\u0430\\u043d\\u0438\\u0447\\u0435\\u043d\\u043d\\u043e\\u0439 \\u043e\\u0442\\u0432\\u0435\\u0442\\u0441\\u0442\\u0432\\u0435\\u043d\\u043d\\u043e\\u0441\\u0442\\u044c\\u044e \\\"\\u0414\\u041e\\u0420\\u041e\\u0416\\u041d\\u041e-\\u0421\\u0422\\u0420\\u041e\\u0418\\u0422\\u0415\\u041b\\u042c\\u041d\\u041e\\u0415 \\u0423\\u041f\\u0420\\u0410\\u0412\\u041b\\u0415\\u041d\\u0418\\u0415 \\u21161\\\"\",\"\\u041e\\u0431\\u0449\\u0435\\u0441\\u0442\\u0432\\u043e \\u0441 \\u043e\\u0433\\u0440\\u0430\\u043d\\u0438\\u0447\\u0435\\u043d\\u043d\\u043e\\u0439 \\u043e\\u0442\\u0432\\u0435\\u0442\\u0441\\u0442\\u0432\\u0435\\u043d\\u043d\\u043e\\u0441\\u0442\\u044c\\u044e \\u0421\\u0422\\u0420\\u041e\\u0418\\u0422\\u0415\\u041b\\u042c\\u041d\\u041e\\u0415 \\u0423\\u041f\\u0420\\u0410\\u0412\\u041b\\u0415\\u041d\\u0418\\u0415 \\\"\\u0420\\u0415\\u0427\\u041d\\u041e\\u0415\\\"\",\"\\u041e\\u0431\\u0449\\u0435\\u0441\\u0442\\u0432\\u043e \\u0441 \\u043e\\u0433\\u0440\\u0430\\u043d\\u0438\\u0447\\u0435\\u043d\\u043d\\u043e\\u0439 \\u043e\\u0442\\u0432\\u0435\\u0442\\u0441\\u0442\\u0432\\u0435\\u043d\\u043d\\u043e\\u0441\\u0442\\u044c\\u044e \\\"\\u041a\\u041e\\u041c\\u041f\\u0410\\u041d\\u0418\\u042f \\u0410\\u0412\\u0420\\\"\",\"\\u041e\\u041e\\u041e \\\"\\u0418\\u041d\\u0422\\u0415\\u0420-\\u0413\\u0420\\u0423\\u041f\\u041f\\\"\",\"\\u041e\\u0431\\u0449\\u0435\\u0441\\u0442\\u0432\\u043e \\u0441 \\u043e\\u0433\\u0440\\u0430\\u043d\\u0438\\u0447\\u0435\\u043d\\u043d\\u043e\\u0439 \\u043e\\u0442\\u0432\\u0435\\u0442\\u0441\\u0442\\u0432\\u0435\\u043d\\u043d\\u043e\\u0441\\u0442\\u044c\\u044e \\\"\\u0420\\u041f\\u041a\\\"\",\"\\u041e\\u0431\\u0449\\u0435\\u0441\\u0442\\u0432\\u043e \\u0441 \\u043e\\u0433\\u0440\\u0430\\u043d\\u0438\\u0447\\u0435\\u043d\\u043d\\u043e\\u0439 \\u043e\\u0442\\u0432\\u0435\\u0442\\u0441\\u0442\\u0432\\u0435\\u043d\\u043d\\u043e\\u0441\\u0442\\u044c\\u044e  \\u0421\\u043f\\u0435\\u0446\\u0438\\u0430\\u043b\\u0438\\u0437\\u0438\\u0440\\u043e\\u0432\\u0430\\u043d\\u043d\\u044b\\u0439 \\u0437\\u0430\\u0441\\u0442\\u0440\\u043e\\u0439\\u0449\\u0438\\u043a \\\"\\u041a\\u0430\\u0437\\u0430\\u043d\\u0441\\u043a\\u0438\\u0439 \\u041f\\u043e\\u0441\\u0430\\u0434+\\\"\",\"\\u041e\\u0431\\u0449\\u0435\\u0441\\u0442\\u0432\\u043e \\u0441 \\u043e\\u0433\\u0440\\u0430\\u043d\\u0438\\u0447\\u0435\\u043d\\u043d\\u043e\\u0439 \\u043e\\u0442\\u0432\\u0435\\u0442\\u0441\\u0442\\u0432\\u0435\\u043d\\u043d\\u043e\\u0441\\u0442\\u044c\\u044e \\\"\\u042d\\u043d\\u0435\\u0440\\u0433\\u043e\\u0441\\u0438\\u043b\\u0430-\\u041d\\u041a\\\"\",\"\\u041e\\u0431\\u0449\\u0435\\u0441\\u0442\\u0432\\u043e \\u0441 \\u043e\\u0433\\u0440\\u0430\\u043d\\u0438\\u0447\\u0435\\u043d\\u043d\\u043e\\u0439 \\u043e\\u0442\\u0432\\u0435\\u0442\\u0441\\u0442\\u0432\\u0435\\u043d\\u043d\\u043e\\u0441\\u0442\\u044c\\u044e \\\"\\u0421\\u0442\\u0440\\u043e\\u0438\\u0442\\u0435\\u043b\\u044c\\u043d\\u0430\\u044f \\u041a\\u043e\\u043c\\u043f\\u0430\\u043d\\u0438\\u044f \\\"\\u0412\\u043e\\u0441\\u0442\\u043e\\u0447\\u043d\\u044b\\u0439 \\u041b\\u0423\\u0427\\\"\\\"\",\"\\u041e\\u0431\\u0449\\u0435\\u0441\\u0442\\u0432\\u043e \\u0441 \\u043e\\u0433\\u0440\\u0430\\u043d\\u0438\\u0447\\u0435\\u043d\\u043d\\u043e\\u0439 \\u043e\\u0442\\u0432\\u0435\\u0442\\u0441\\u0442\\u0432\\u0435\\u043d\\u043d\\u043e\\u0441\\u0442\\u044c\\u044e \\\"\\u041a\\u041e\\u041d\\u0421\\u0422\\u0420\\u0423\\u041a\\u0422\\u041e\\u0420 \\u0413\\u0420\\u0423\\u041f\\u041f\\\"\",\"\\u041e\\u041e\\u041e \\\"\\u0414\\u043e\\u0440\\u043e\\u0436\\u043d\\u043e-\\u044d\\u043a\\u0441\\u043f\\u043b\\u0443\\u0430\\u0442\\u0430\\u0446\\u0438\\u043e\\u043d\\u043d\\u043e\\u0435 \\u043f\\u0440\\u0435\\u0434\\u043f\\u0440\\u0438\\u044f\\u0442\\u0438\\u0435 \\u211617\\\"\",\"\\u041e\\u041e\\u041e \\u0421\\u0422\\u0420\\u041e\\u0418\\u0422\\u0415\\u041b\\u042c\\u041d\\u041e-\\u041c\\u041e\\u041d\\u0422\\u0410\\u0416\\u041d\\u041e\\u0415 \\u0423\\u041f\\u0420\\u0410\\u0412\\u041b\\u0415\\u041d\\u0418\\u0415-5 \\u0421\\u0422\\u0420\\u041e\\u0419\\u0411\\u0415\\u0422\\u041e\\u041d \\\"\\u0412\\u041e\\u0421\\u0422\\u041e\\u0427\\u041d\\u041e\\u0415\\\"\",\"\\u041e\\u041e\\u041e \\\"\\u0420\\u0435\\u043c\\u043e\\u043d\\u0442\\u0441\\u0442\\u0440\\u043e\\u0439\\u0441\\u0435\\u0440\\u0432\\u0438\\u0441\\\"\",\"\\u041e\\u0411\\u0429\\u0415\\u0421\\u0422\\u0412\\u041e \\u0421 \\u041e\\u0413\\u0420\\u0410\\u041d\\u0418\\u0427\\u0415\\u041d\\u041d\\u041e\\u0419 \\u041e\\u0422\\u0412\\u0415\\u0422\\u0421\\u0422\\u0412\\u0415\\u041d\\u041d\\u041e\\u0421\\u0422\\u042c\\u042e \\\"\\u0412\\u041e\\u041b\\u041b\\u041c\\u0410\\u041a\\u0421 \\u0421\\u0418\\u0422\\u0418\\\"\",\"\\u041e\\u0431\\u0449\\u0435\\u0441\\u0442\\u0432\\u043e \\u0441 \\u043e\\u0433\\u0440\\u0430\\u043d\\u0438\\u0447\\u0435\\u043d\\u043d\\u043e\\u0439 \\u043e\\u0442\\u0432\\u0435\\u0442\\u0441\\u0442\\u0432\\u0435\\u043d\\u043d\\u043e\\u0441\\u0442\\u044c\\u044e \\\"\\u041f\\u0420\\u041e\\u041c\\u042b\\u0428\\u041b\\u0415\\u041d\\u041d\\u041e\\u0415 \\u0421\\u0422\\u0420\\u041e\\u0418\\u0422\\u0415\\u041b\\u042c\\u0421\\u0422\\u0412\\u041e\\\"\",\"\\u041e\\u0411\\u0429\\u0415\\u0421\\u0422\\u0412\\u041e \\u0421 \\u041e\\u0413\\u0420\\u0410\\u041d\\u0418\\u0427\\u0415\\u041d\\u041d\\u041e\\u0419 \\u041e\\u0422\\u0412\\u0415\\u0422\\u0421\\u0422\\u0412\\u0415\\u041d\\u041d\\u041e\\u0421\\u0422\\u042c\\u042e \\\"\\u0412\\u0421\\u0412-\\u0420\\u0415\\u0413\\u0418\\u041e\\u041d\\u0421\\u0422\\u0420\\u041e\\u0419\\\"\",\"\\u041e\\u0411\\u0429\\u0415\\u0421\\u0422\\u0412\\u041e \\u0421 \\u041e\\u0413\\u0420\\u0410\\u041d\\u0418\\u0427\\u0415\\u041d\\u041d\\u041e\\u0419 \\u041e\\u0422\\u0412\\u0415\\u0422\\u0421\\u0422\\u0412\\u0415\\u041d\\u041d\\u041e\\u0421\\u0422\\u042c\\u042e \\\"\\u041d\\u0410\\u0423\\u0427\\u041d\\u041e-\\u041f\\u0420\\u041e\\u0418\\u0417\\u0412\\u041e\\u0414\\u0421\\u0422\\u0412\\u0415\\u041d\\u041d\\u041e\\u0415 \\u041e\\u0411\\u042a\\u0415\\u0414\\u0418\\u041d\\u0415\\u041d\\u0418\\u0415 \\\"\\u041f\\u0418\\u0413\\u041c\\u0415\\u041d\\u0422\\\"\",\"\\u041e\\u0431\\u0449\\u0435\\u0441\\u0442\\u0432\\u043e \\u0441 \\u043e\\u0433\\u0440\\u0430\\u043d\\u0438\\u0447\\u0435\\u043d\\u043d\\u043e\\u0439 \\u043e\\u0442\\u0432\\u0435\\u0442\\u0441\\u0442\\u0432\\u0435\\u043d\\u043d\\u043e\\u0441\\u0442\\u044c\\u044e \\\"\\u0413\\u041a \\\"\\u0421\\u0422\\u0420\\u041e\\u0419\\u041d\\u041e\\u0420\\u0414\\\"\\\"\",\"\\u041e\\u0411\\u0429\\u0415\\u0421\\u0422\\u0412\\u041e \\u0421 \\u041e\\u0413\\u0420\\u0410\\u041d\\u0418\\u0427\\u0415\\u041d\\u041d\\u041e\\u0419 \\u041e\\u0422\\u0412\\u0415\\u0422\\u0421\\u0422\\u0412\\u0415\\u041d\\u041d\\u041e\\u0421\\u0422\\u042c\\u042e \\\"\\u0421\\u041f\\u0415\\u0426\\u0418\\u0410\\u041b\\u0418\\u0417\\u0418\\u0420\\u041e\\u0412\\u0410\\u041d\\u041d\\u042b\\u0419 \\u0417\\u0410\\u0421\\u0422\\u0420\\u041e\\u0419\\u0429\\u0418\\u041a \\\"\\u0415\\u0412\\u0420\\u041e\\u0418\\u041d\\u0412\\u0415\\u0421\\u0422 \\u0411\\u041b\\u0410\\u0413\\u041e\\u0414\\u0410\\u0422\\u041d\\u0410\\u042f\\\"\",\"\\u041e\\u0431\\u0449\\u0435\\u0441\\u0442\\u0432\\u043e \\u0441 \\u043e\\u0433\\u0440\\u0430\\u043d\\u0438\\u0447\\u0435\\u043d\\u043d\\u043e\\u0439 \\u043e\\u0442\\u0432\\u0435\\u0442\\u0441\\u0442\\u0432\\u0435\\u043d\\u043d\\u043e\\u0441\\u0442\\u044c\\u044e \\u0421\\u041f\\u0415\\u0426\\u0418\\u0410\\u041b\\u0418\\u0417\\u0418\\u0420\\u041e\\u0412\\u0410\\u041d\\u041d\\u042b\\u0419 \\u0417\\u0410\\u0421\\u0422\\u0420\\u041e\\u0419\\u0429\\u0418\\u041a \\\"\\u041e\\u041f\\u0422\\u0418\\u041c\\u0410-\\u0421\\u0422\\u0420\\u041e\\u0419\\\"\",\"\\u041e\\u0431\\u0449\\u0435\\u0441\\u0442\\u0432\\u043e \\u0441 \\u043e\\u0433\\u0440\\u0430\\u043d\\u0438\\u0447\\u0435\\u043d\\u043d\\u043e\\u0439 \\u043e\\u0442\\u0432\\u0435\\u0442\\u0441\\u0442\\u0432\\u0435\\u043d\\u043d\\u043e\\u0441\\u0442\\u044c\\u044e \\\"\\u0422\\u0420\\u0410\\u041d\\u0421\\u041f\\u041e\\u0420\\u0422\\u041d\\u041e-\\u0421\\u0422\\u0420\\u041e\\u0418\\u0422\\u0415\\u041b\\u042c\\u041d\\u0410\\u042f \\u041a\\u041e\\u041c\\u041f\\u0410\\u041d\\u0418\\u042f 78 \\u0420\\u0415\\u0413\\u0418\\u041e\\u041d\\\"\",\"\\u041e\\u0431\\u0449\\u0435\\u0441\\u0442\\u0432\\u043e \\u0441 \\u043e\\u0433\\u0440\\u0430\\u043d\\u0438\\u0447\\u0435\\u043d\\u043d\\u043e\\u0439 \\u043e\\u0442\\u0432\\u0435\\u0442\\u0441\\u0442\\u0432\\u0435\\u043d\\u043d\\u043e\\u0441\\u0442\\u044c\\u044e \\\"\\u0410\\u0412\\u041f\\\"\",\"\\u041e\\u0431\\u0449\\u0435\\u0441\\u0442\\u0432\\u043e \\u0441 \\u043e\\u0433\\u0440\\u0430\\u043d\\u0438\\u0447\\u0435\\u043d\\u043d\\u043e\\u0439 \\u043e\\u0442\\u0432\\u0435\\u0442\\u0441\\u0442\\u0432\\u0435\\u043d\\u043d\\u043e\\u0441\\u0442\\u044c\\u044e \\\"\\u0421\\u0422\\u0420\\u041e\\u0419\\u0418\\u041d\\u0412\\u0415\\u0421\\u0422\\u041f\\u0420\\u041e\\u0415\\u041a\\u0422\\\"\",\"\\u041e\\u0431\\u0449\\u0435\\u0441\\u0442\\u0432\\u043e \\u0441 \\u043e\\u0433\\u0440\\u0430\\u043d\\u0438\\u0447\\u0435\\u043d\\u043d\\u043e\\u0439 \\u043e\\u0442\\u0432\\u0435\\u0442\\u0441\\u0442\\u0432\\u0435\\u043d\\u043d\\u043e\\u0441\\u0442\\u044c\\u044e \\\"\\u0418\\u041d\\u0416-\\u0421\\u0422\\u0410\\u0419\\u041b\\\"\",\"\\u041e\\u0411\\u0429\\u0415\\u0421\\u0422\\u0412\\u041e \\u0421 \\u041e\\u0413\\u0420\\u0410\\u041d\\u0418\\u0427\\u0415\\u041d\\u041d\\u041e\\u0419 \\u041e\\u0422\\u0412\\u0415\\u0422\\u0421\\u0422\\u0412\\u0415\\u041d\\u041d\\u041e\\u0421\\u0422\\u042c\\u042e \\\"\\u0424\\u0415\\u041d\\u0418\\u041a\\u0421 \\u041a\\u041e\\u041d\\u0421\\u0422\\u0420\\u0410\\u041a\\u0428\\u041d\\\"\",\"\\u041e\\u0431\\u0449\\u0435\\u0441\\u0442\\u0432\\u043e \\u0441 \\u043e\\u0433\\u0440\\u0430\\u043d\\u0438\\u0447\\u0435\\u043d\\u043d\\u043e\\u0439 \\u043e\\u0442\\u0432\\u0435\\u0442\\u0441\\u0442\\u0432\\u0435\\u043d\\u043d\\u043e\\u0441\\u0442\\u044c\\u044e \\\"\\u0413\\u0423\\u0414 \\u0412\\u0423\\u0414\\\"\",\"\\u041e\\u0431\\u0449\\u0435\\u0441\\u0442\\u0432\\u043e \\u0441 \\u043e\\u0433\\u0440\\u0430\\u043d\\u0438\\u0447\\u0435\\u043d\\u043d\\u043e\\u0439 \\u043e\\u0442\\u0432\\u0435\\u0442\\u0441\\u0442\\u0432\\u0435\\u043d\\u043d\\u043e\\u0441\\u0442\\u044c\\u044e \\\"\\u041a\\u043e\\u043d\\u0442\\u0443\\u0440\\\"\",\"\\u041e\\u041e\\u041e \\\"\\u0423\\u0420\\u0410\\u041b\\u042c\\u0421\\u041a\\u0410\\u042f \\u0418\\u041d\\u0412\\u0415\\u0421\\u0422\\u0418\\u0426\\u0418\\u041e\\u041d\\u041d\\u0410\\u042f \\u041a\\u041e\\u041c\\u041f\\u0410\\u041d\\u0418\\u042f\\\" (\\u041e\\u041e\\u041e \\\"\\u0423\\u0418\\u041a\\\")\",\"\\u041e\\u0411\\u0429\\u0415\\u0421\\u0422\\u0412\\u041e \\u0421 \\u041e\\u0413\\u0420\\u0410\\u041d\\u0418\\u0427\\u0415\\u041d\\u041d\\u041e\\u0419 \\u041e\\u0422\\u0412\\u0415\\u0422\\u0421\\u0422\\u0412\\u0415\\u041d\\u041d\\u041e\\u0421\\u0422\\u042c\\u042e \\u041a\\u041b\\u0418\\u041d\\u0426\\u041e\\u0412\\u0421\\u041a\\u041e\\u0415 \\u0421\\u0423\\u041c\",\"\\u041e\\u0431\\u0449\\u0435\\u0441\\u0442\\u0432\\u043e \\u0441 \\u043e\\u0433\\u0440\\u0430\\u043d\\u0438\\u0447\\u0435\\u043d\\u043d\\u043e\\u0439 \\u043e\\u0442\\u0432\\u0435\\u0442\\u0441\\u0442\\u0432\\u0435\\u043d\\u043d\\u043e\\u0441\\u0442\\u044c\\u044e \\\"\\u0421\\u0422\\u0420\\u041e\\u0418\\u0422\\u0415\\u041b\\u042c\\u041d\\u0410\\u042f \\u041a\\u041e\\u041c\\u041f\\u0410\\u041d\\u0418\\u042f \\u041d\\u041e\\u0420\\u0414\\\"\",\"\\u041e\\u0431\\u0449\\u0435\\u0441\\u0442\\u0432\\u043e \\u0441 \\u043e\\u0433\\u0440\\u0430\\u043d\\u0438\\u0447\\u0435\\u043d\\u043d\\u043e\\u0439 \\u043e\\u0442\\u0432\\u0435\\u0442\\u0441\\u0442\\u0432\\u0435\\u043d\\u043d\\u043e\\u0441\\u0442\\u044c\\u044e \\\"\\u0421\\u041a \\u041a\\u0410\\u0421\\u041a\\u0410\\u0414\\\"\",\"\\u041e\\u0431\\u0449\\u0435\\u0441\\u0442\\u0432\\u043e \\u0441 \\u043e\\u0433\\u0440\\u0430\\u043d\\u0438\\u0447\\u0435\\u043d\\u043d\\u043e\\u0439 \\u043e\\u0442\\u0432\\u0435\\u0442\\u0441\\u0442\\u0432\\u0435\\u043d\\u043d\\u043e\\u0441\\u0442\\u044c\\u044e \\\"\\u0420\\u0421\\u0413-\\u0413\\u0420\\u0423\\u041f\\u041f\\\"\",\"\\u041e\\u0411\\u0429\\u0415\\u0421\\u0422\\u0412\\u041e \\u0421 \\u041e\\u0413\\u0420\\u0410\\u041d\\u0418\\u0427\\u0415\\u041d\\u041d\\u041e\\u0419 \\u041e\\u0422\\u0412\\u0415\\u0422\\u0421\\u0422\\u0412\\u0415\\u041d\\u041d\\u041e\\u0421\\u0422\\u042c\\u042e \\\"\\u0421\\u0422\\u0420\\u041e\\u0419\\u0426\\u0415\\u041d\\u0422\\u0420+\\\"\",\"\\u041e\\u0431\\u0449\\u0435\\u0441\\u0442\\u0432\\u043e \\u0441 \\u043e\\u0433\\u0440\\u0430\\u043d\\u0438\\u0447\\u0435\\u043d\\u043d\\u043e\\u0439 \\u043e\\u0442\\u0432\\u0435\\u0442\\u0441\\u0442\\u0432\\u0435\\u043d\\u043d\\u043e\\u0441\\u0442\\u044c\\u044e \\\"\\u0421\\u0422\\u0420\\u041e\\u0418\\u0422\\u0415\\u041b\\u042c\\u041d\\u0410\\u042f \\u041a\\u041e\\u041c\\u041f\\u0410\\u041d\\u0418\\u042f \\\"\\u0410\\u0412\\u0410\\u041d\\u0413\\u0410\\u0420\\u0414\\\"\",\"\\u041e\\u0411\\u0429\\u0415\\u0421\\u0422\\u0412\\u041e \\u0421 \\u041e\\u0413\\u0420\\u0410\\u041d\\u0418\\u0427\\u0415\\u041d\\u041d\\u041e\\u0419 \\u041e\\u0422\\u0412\\u0415\\u0422\\u0421\\u0422\\u0412\\u0415\\u041d\\u041d\\u041e\\u0421\\u0422\\u042c\\u042e \\u0421\\u041f\\u0415\\u0426\\u0418\\u0410\\u041b\\u0418\\u0417\\u0418\\u0420\\u041e\\u0412\\u0410\\u041d\\u041d\\u042b\\u0419 \\u0417\\u0410\\u0421\\u0422\\u0420\\u041e\\u0419\\u0429\\u0418\\u041a \\\"\\u041a\\u0420\\u0410\\u0421\\u041d\\u041e\\u0414\\u0410\\u0420\\u0418\\u041d\\u0412\\u0415\\u0421\\u0422\\u0421\\u0422\\u0420\\u041e\\u0419\\\"\",\"\\u041e\\u0431\\u0449\\u0435\\u0441\\u0442\\u0432\\u043e \\u0441 \\u043e\\u0433\\u0440\\u0430\\u043d\\u0438\\u0447\\u0435\\u043d\\u043d\\u043e\\u0439 \\u043e\\u0442\\u0432\\u0435\\u0442\\u0441\\u0442\\u0432\\u0435\\u043d\\u043d\\u043e\\u0441\\u0442\\u044c\\u044e \\\"\\u042f\\u0414\\u0420\\u0410\\u041d-\\u0421\\u0422\\u0420\\u041e\\u0419\\\"\",\"\\u041e\\u0431\\u0449\\u0435\\u0441\\u0442\\u0432\\u043e \\u0441 \\u043e\\u0433\\u0440\\u0430\\u043d\\u0438\\u0447\\u0435\\u043d\\u043d\\u043e\\u0439 \\u043e\\u0442\\u0432\\u0435\\u0442\\u0441\\u0442\\u0432\\u0435\\u043d\\u043d\\u043e\\u0441\\u0442\\u044c\\u044e \\\"\\u0410\\u0428-\\u0428\\u0418\\u0428\\u0410\\u041d\\u0418\\\"\",\"\\u041e\\u0411\\u0429\\u0415\\u0421\\u0422\\u0412\\u041e \\u0421 \\u041e\\u0413\\u0420\\u0410\\u041d\\u0418\\u0427\\u0415\\u041d\\u041d\\u041e\\u0419 \\u041e\\u0422\\u0412\\u0415\\u0422\\u0421\\u0422\\u0412\\u0415\\u041d\\u041d\\u041e\\u0421\\u0422\\u042c\\u042e \\\"\\u041c\\u0415\\u0413\\u0410\\u041f\\u041e\\u041b\\u0418\\u0421\\\"\",\"\\u041e\\u0410\\u041e \\u0422\\u0420\\u0415\\u0421\\u0422 \\\"\\u041b\\u0418\\u041f\\u0415\\u0426\\u041a\\u0421\\u0422\\u0420\\u041e\\u0419\\\"\",\"\\u041e\\u0431\\u0449\\u0435\\u0441\\u0442\\u0432\\u043e \\u0441 \\u043e\\u0433\\u0440\\u0430\\u043d\\u0438\\u0447\\u0435\\u043d\\u043d\\u043e\\u0439 \\u043e\\u0442\\u0432\\u0435\\u0442\\u0441\\u0442\\u0432\\u0435\\u043d\\u043d\\u043e\\u0441\\u0442\\u044c\\u044e \\\"\\u0421\\u0422\\u0420\\u041e\\u0419\\u0418\\u041d\\u0414\\u0423\\u0421\\u0422\\u0420\\u0418\\u042f\\\"\",\"\\u041e\\u0411\\u0429\\u0415\\u0421\\u0422\\u0412\\u041e \\u0421 \\u041e\\u0413\\u0420\\u0410\\u041d\\u0418\\u0427\\u0415\\u041d\\u041d\\u041e\\u0419 \\u041e\\u0422\\u0412\\u0415\\u0422\\u0421\\u0422\\u0412\\u0415\\u041d\\u041d\\u041e\\u0421\\u0422\\u042c\\u042e \\\"\\u0421\\u0422\\u0420\\u041e\\u0419\\u042d\\u041a\\u0421\\u041f\\u0415\\u0420\\u0422\\\"\",\"\\u0410\\u043a\\u0446\\u0438\\u043e\\u043d\\u0435\\u0440\\u043d\\u043e\\u0435 \\u043e\\u0431\\u0449\\u0435\\u0441\\u0442\\u0432\\u043e \\\"\\u0413\\u041a\\u0421\\\"\",\"\\u041e\\u0431\\u0449\\u0435\\u0441\\u0442\\u0432\\u043e \\u0441 \\u043e\\u0433\\u0440\\u0430\\u043d\\u0438\\u0447\\u0435\\u043d\\u043d\\u043e\\u0439 \\u043e\\u0442\\u0432\\u0435\\u0442\\u0441\\u0442\\u0432\\u0435\\u043d\\u043d\\u043e\\u0441\\u0442\\u044c\\u044e \\\"\\u0421\\u0418\\u041d\\u0422\\u0415\\u0421\\u0418\\u0421 \\u0420\\u0423\\u0421\\\"\",\"\\u041e\\u0431\\u0449\\u0435\\u0441\\u0442\\u0432\\u043e \\u0441 \\u043e\\u0433\\u0440\\u0430\\u043d\\u0438\\u0447\\u0435\\u043d\\u043d\\u043e\\u0439 \\u043e\\u0442\\u0432\\u0435\\u0442\\u0441\\u0442\\u0432\\u0435\\u043d\\u043d\\u043e\\u0441\\u0442\\u044c\\u044e \\\"\\u042e\\u0413\\u041e-\\u0421\\u0422\\u0420\\u041e\\u0419\\\"\",\"\\u041e\\u0431\\u0449\\u0435\\u0441\\u0442\\u0432\\u043e \\u0441 \\u043e\\u0433\\u0440\\u0430\\u043d\\u0438\\u0447\\u0435\\u043d\\u043d\\u043e\\u0439 \\u043e\\u0442\\u0432\\u0435\\u0442\\u0441\\u0442\\u0432\\u0435\\u043d\\u043d\\u043e\\u0441\\u0442\\u044c\\u044e \\\"\\u0412\\u0435\\u0440\\u0442\\u0438\\u043a\\u0430\\u043b\\u044c \\u0421\\u0442\\u0440\\u043e\\u0439\\\"\",\"\\u041e\\u0411\\u0429\\u0415\\u0421\\u0422\\u0412\\u041e \\u0421 \\u041e\\u0413\\u0420\\u0410\\u041d\\u0418\\u0427\\u0415\\u041d\\u041d\\u041e\\u0419 \\u041e\\u0422\\u0412\\u0415\\u0422\\u0421\\u0422\\u0412\\u0415\\u041d\\u041d\\u041e\\u0421\\u0422\\u042c\\u042e \\\"\\u0410\\u041c\\u0422\\u0415\\u041a\\\"\",\"\\u041e\\u0431\\u0449\\u0435\\u0441\\u0442\\u0432\\u043e \\u0441 \\u043e\\u0433\\u0440\\u0430\\u043d\\u0438\\u0447\\u0435\\u043d\\u043d\\u043e\\u0439 \\u043e\\u0442\\u0432\\u0435\\u0442\\u0441\\u0442\\u0432\\u0435\\u043d\\u043d\\u043e\\u0441\\u0442\\u044c\\u044e \\\"\\u041d\\u043e\\u0432\\u044d\\u043b\\u0421\\u0442\\u0440\\u043e\\u0439\\\"\",\"\\u041e\\u0431\\u0449\\u0435\\u0441\\u0442\\u0432\\u043e \\u0441 \\u043e\\u0433\\u0440\\u0430\\u043d\\u0438\\u0447\\u0435\\u043d\\u043d\\u043e\\u0439 \\u043e\\u0442\\u0432\\u0435\\u0442\\u0441\\u0442\\u0432\\u0435\\u043d\\u043d\\u043e\\u0441\\u0442\\u044c\\u044e \\\"\\u0418\\u0421\\u0412\\\"\",\"\\u041e\\u0431\\u0449\\u0435\\u0441\\u0442\\u0432\\u043e \\u0441 \\u043e\\u0433\\u0440\\u0430\\u043d\\u0438\\u0447\\u0435\\u043d\\u043d\\u043e\\u0439 \\u043e\\u0442\\u0432\\u0435\\u0442\\u0441\\u0442\\u0432\\u0435\\u043d\\u043d\\u043e\\u0441\\u0442\\u044c\\u044e \\\" \\u0421\\u0415\\u0412\\u0415\\u0420\\u0421\\u0422\\u0420\\u041e\\u0419\\\"\",\"\\u041e\\u0411\\u0429\\u0415\\u0421\\u0422\\u0412\\u041e \\u0421 \\u041e\\u0413\\u0420\\u0410\\u041d\\u0418\\u0427\\u0415\\u041d\\u041d\\u041e\\u0419 \\u041e\\u0422\\u0412\\u0415\\u0422\\u0421\\u0422\\u0412\\u0415\\u041d\\u041d\\u041e\\u0421\\u0422\\u042c\\u042e \\\"\\u0420\\u0410\\u0414\\u0418\\u0410\\u041b \\u0422\\u041c\\\"\",\"\\u041e\\u0431\\u0449\\u0435\\u0441\\u0442\\u0432\\u043e \\u0441 \\u043e\\u0433\\u0440\\u0430\\u043d\\u0438\\u0447\\u0435\\u043d\\u043d\\u043e\\u0439 \\u043e\\u0442\\u0432\\u0435\\u0442\\u0441\\u0442\\u0432\\u0435\\u043d\\u043d\\u043e\\u0441\\u0442\\u044c\\u044e \\\"\\u0410\\u0412\\u0422\\u041e\\u0421\\u041f\\u0415\\u0426\\u0421\\u0422\\u0420\\u041e\\u0419\\\"\",\"\\u041e\\u0431\\u0449\\u0435\\u0441\\u0442\\u0432\\u043e \\u0441 \\u043e\\u0433\\u0440\\u0430\\u043d\\u0438\\u0447\\u0435\\u043d\\u043d\\u043e\\u0439 \\u043e\\u0442\\u0432\\u0435\\u0442\\u0441\\u0442\\u0432\\u0435\\u043d\\u043d\\u043e\\u0441\\u0442\\u044c\\u044e \\\"\\u0422\\u0432\\u0435\\u0440\\u044c-\\u0413\\u0440\\u0430\\u043d\\u0434\\\"\",\"\\u041e\\u0431\\u0449\\u0435\\u0441\\u0442\\u0432\\u043e \\u0441 \\u043e\\u0433\\u0440\\u0430\\u043d\\u0438\\u0447\\u0435\\u043d\\u043d\\u043e\\u0439 \\u043e\\u0442\\u0432\\u0435\\u0442\\u0441\\u0442\\u0432\\u0435\\u043d\\u043d\\u043e\\u0441\\u0442\\u044c\\u044e \\\"\\u0421\\u041c\\u0423-77\\\"\",\"\\u041e\\u0431\\u0449\\u0435\\u0441\\u0442\\u0432\\u043e \\u0441 \\u043e\\u0433\\u0440\\u0430\\u043d\\u0438\\u0447\\u0435\\u043d\\u043d\\u043e\\u0439 \\u043e\\u0442\\u0432\\u0435\\u0442\\u0441\\u0442\\u0432\\u0435\\u043d\\u043d\\u043e\\u0441\\u0442\\u044c\\u044e \\\"\\u041a\\u0423\\u0411\\\"\",\"\\u041e\\u0431\\u0449\\u0435\\u0441\\u0442\\u0432\\u043e \\u0441 \\u043e\\u0433\\u0440\\u0430\\u043d\\u0438\\u0447\\u0435\\u043d\\u043d\\u043e\\u0439 \\u043e\\u0442\\u0432\\u0435\\u0442\\u0441\\u0442\\u0432\\u0435\\u043d\\u043d\\u043e\\u0441\\u0442\\u044c\\u044e \\\"\\u0421\\u0422\\u0420\\u041e\\u0419\\u041a\\u0420\\u0410\\u0424\\u0422-\\u041e\\u0422\\u0414\\u0415\\u041b\\u041a\\u0410\\\"\",\"\\u041e\\u0431\\u0449\\u0435\\u0441\\u0442\\u0432\\u043e \\u0441 \\u043e\\u0433\\u0440\\u0430\\u043d\\u0438\\u0447\\u0435\\u043d\\u043d\\u043e\\u0439 \\u043e\\u0442\\u0432\\u0435\\u0442\\u0441\\u0442\\u0432\\u0435\\u043d\\u043d\\u043e\\u0441\\u0442\\u044c\\u044e \\\"\\u0421\\u043f\\u0435\\u0446\\u0438\\u0430\\u043b\\u0438\\u0437\\u0438\\u0440\\u043e\\u0432\\u0430\\u043d\\u043d\\u044b\\u0439 \\u0417\\u0430\\u0441\\u0442\\u0440\\u043e\\u0439\\u0449\\u0438\\u043a \\\"\\u0426\\u0435\\u043d\\u0442\\u0440 \\u041f\\u0440\\u043e\\u0433\\u0440\\u0435\\u0441\\u0441\\u0430 \\u0425\\u0443\\u0434\\u043e\\u0436\\u0435\\u0441\\u0442\\u0432\\u0435\\u043d\\u043d\\u043e\\u0439 \\u0413\\u0438\\u043c\\u043d\\u0430\\u0441\\u0442\\u0438\\u043a\\u0438\\\"\",\"\\u041e\\u0431\\u0449\\u0435\\u0441\\u0442\\u0432\\u043e \\u0441 \\u043e\\u0433\\u0440\\u0430\\u043d\\u0438\\u0447\\u0435\\u043d\\u043d\\u043e\\u0439 \\u043e\\u0442\\u0432\\u0435\\u0442\\u0441\\u0442\\u0432\\u0435\\u043d\\u043d\\u043e\\u0441\\u0442\\u044c\\u044e \\u0421\\u0442\\u0440\\u043e\\u0438\\u0442\\u0435\\u043b\\u044c\\u043d\\u0430\\u044f \\u041a\\u043e\\u043c\\u043f\\u0430\\u043d\\u0438\\u044f \\u0421\\u0442\\u0440\\u043e\\u0439\\u0418\\u043d\\u0432\\u0435\\u0441\\u0442\\u0418\\u043d\\u0436\\u0438\\u043d\\u0438\\u0440\\u0438\\u043d\\u0433\",\"\\u0410\\u041a\\u0426\\u0418\\u041e\\u041d\\u0415\\u0420\\u041d\\u041e\\u0415 \\u041e\\u0411\\u0429\\u0415\\u0421\\u0422\\u0412\\u041e \\\"\\u0421\\u0422\\u0420\\u041e\\u0418\\u0422\\u0415\\u041b\\u042c\\u041d\\u042b\\u0419 \\u0425\\u041e\\u041b\\u0414\\u0418\\u041d\\u0413 \\u0422\\u0415\\u0417\\u0418\\u0421\\\"\",\"\\u041e\\u041e\\u041e \\\"\\u0421\\u0422\\u0420\\u041e\\u0418\\u0422\\u0415\\u041b\\u042c\\u041d\\u0410\\u042f \\u041a\\u041e\\u041c\\u041f\\u0410\\u041d\\u0418\\u042f \\\"\\u0424\\u041b\\u0410\\u0413\\u041c\\u0410\\u041d\\\"\",\"\\u041e\\u0431\\u0449\\u0435\\u0441\\u0442\\u0432\\u043e \\u0441 \\u043e\\u0433\\u0440\\u0430\\u043d\\u0438\\u0447\\u0435\\u043d\\u043d\\u043e\\u0439 \\u043e\\u0442\\u0432\\u0435\\u0442\\u0441\\u0442\\u0432\\u0435\\u043d\\u043d\\u043e\\u0441\\u0442\\u044c\\u044e \\\"\\u0417\\u0415\\u0422\\u0422\\u0410\\\"\",\"\\u041e\\u0431\\u0449\\u0435\\u0441\\u0442\\u0432\\u043e \\u0441 \\u043e\\u0433\\u0440\\u0430\\u043d\\u0438\\u0447\\u0435\\u043d\\u043d\\u043e\\u0439 \\u043e\\u0442\\u0432\\u0435\\u0442\\u0441\\u0442\\u0432\\u0435\\u043d\\u043d\\u043e\\u0441\\u0442\\u044c\\u044e \\\"\\u0410\\u0421\\u0422\\u0420\\u0410 \\u041a\\u041e\\u041d\\u0421\\u0422\\u0420\\u0410\\u041a\\u0428\\u041d\\\"\",\"\\u041e\\u0431\\u0449\\u0435\\u0441\\u0442\\u0432\\u043e \\u0441 \\u043e\\u0433\\u0440\\u0430\\u043d\\u0438\\u0447\\u0435\\u043d\\u043d\\u043e\\u0439 \\u043e\\u0442\\u0432\\u0435\\u0442\\u0441\\u0442\\u0432\\u0435\\u043d\\u043d\\u043e\\u0441\\u0442\\u044c\\u044e \\\"\\u0421\\u0442\\u0440\\u043e\\u0438\\u0442\\u0435\\u043b\\u044c\\u043d\\u043e-\\u043c\\u043e\\u043d\\u0442\\u0430\\u0436\\u043d\\u0430\\u044f \\u043a\\u043e\\u043c\\u043f\\u0430\\u043d\\u0438\\u044f \\\"\\u041f\\u0420\\u0410\\u0419\\u0414\\\"\",\"\\u0410\\u043a\\u0446\\u0438\\u043e\\u043d\\u0435\\u0440\\u043d\\u043e\\u0435 \\u043e\\u0431\\u0449\\u0435\\u0441\\u0442\\u0432\\u043e \\u0421\\u041f\\u0415\\u0426\\u0418\\u0410\\u041b\\u0418\\u0417\\u0418\\u0420\\u041e\\u0412\\u0410\\u041d\\u041d\\u042b\\u0419 \\u0417\\u0410\\u0421\\u0422\\u0420\\u041e\\u0419\\u0429\\u0418\\u041a \\\"\\u041a\\u041c\\u0410\\u041f\\u0420\\u041e\\u0415\\u041a\\u0422\\u0416\\u0418\\u041b\\u0421\\u0422\\u0420\\u041e\\u0419\\\"\",\"\\u041e\\u0431\\u0449\\u0435\\u0441\\u0442\\u0432\\u043e \\u0441 \\u043e\\u0433\\u0440\\u0430\\u043d\\u0438\\u0447\\u0435\\u043d\\u043d\\u043e\\u0439 \\u043e\\u0442\\u0432\\u0435\\u0442\\u0441\\u0442\\u0432\\u0435\\u043d\\u043d\\u043e\\u0441\\u0442\\u044c\\u044e \\\"\\u0421\\u0442\\u0440\\u043e\\u0438\\u0442\\u0435\\u043b\\u044c\\u043d\\u0430\\u044f \\u043a\\u043e\\u043c\\u043f\\u0430\\u043d\\u0438\\u044f \\\"\\u0427\\u0438\\u0441\\u0442\\u043e\\u0433\\u0440\\u0430\\u0434\\\"\",\"\\u041e\\u0431\\u0449\\u0435\\u0441\\u0442\\u0432\\u043e \\u0441 \\u043e\\u0433\\u0440\\u0430\\u043d\\u0438\\u0447\\u0435\\u043d\\u043d\\u043e\\u0439 \\u043e\\u0442\\u0432\\u0435\\u0442\\u0441\\u0442\\u0432\\u0435\\u043d\\u043d\\u043e\\u0441\\u0442\\u044c\\u044e \\\"\\u0421\\u0422\\u0420\\u041e\\u0418\\u0422\\u0415\\u041b\\u042c\\u041d\\u0410\\u042f \\u041a\\u041e\\u041c\\u041f\\u0410\\u041d\\u0418\\u042f \\\"\\u0421\\u0418\\u0411\\u0418\\u041a\\u041e\\u041c\\\"\",\"\\u041e\\u0431\\u0449\\u0435\\u0441\\u0442\\u0432\\u043e \\u0441 \\u043e\\u0433\\u0440\\u0430\\u043d\\u0438\\u0447\\u0435\\u043d\\u043d\\u043e\\u0439 \\u043e\\u0442\\u0432\\u0435\\u0442\\u0441\\u0442\\u0432\\u0435\\u043d\\u043d\\u043e\\u0441\\u0442\\u044c\\u044e \\\"\\u0410\\u0426\\u0418\\u0421 \\u041a\\u041e\\u041d\\u0421\\u0422\\u0420\\u0410\\u041a\\u0428\\u041d\\\"\",\"\\u041e\\u041e\\u041e \\\"\\u0421\\u0424\\u0415\\u0420\\u0410\\\"\",\"\\u041e\\u0431\\u0449\\u0435\\u0441\\u0442\\u0432\\u043e \\u0441 \\u043e\\u0433\\u0440\\u0430\\u043d\\u0438\\u0447\\u0435\\u043d\\u043d\\u043e\\u0439 \\u043e\\u0442\\u0432\\u0435\\u0442\\u0441\\u0442\\u0432\\u0435\\u043d\\u043d\\u043e\\u0441\\u0442\\u044c\\u044e \\\"\\u0421\\u0422\\u0420\\u041e\\u0418\\u0422\\u0415\\u041b\\u042c\\u041d\\u0410\\u042f \\u041a\\u041e\\u0420\\u041f\\u041e\\u0420\\u0410\\u0426\\u0418\\u042f \\\"\\u0414\\u0410\\u0419\\u041c\\u041e\\u041d\\u0414 \\u0411\\u0418\\u041b\\u0414\\u0418\\u041d\\u0413\\\"\",\"\\u041e\\u0411\\u0429\\u0415\\u0421\\u0422\\u0412\\u041e \\u0421 \\u041e\\u0413\\u0420\\u0410\\u041d\\u0418\\u0427\\u0415\\u041d\\u041d\\u041e\\u0419 \\u041e\\u0422\\u0412\\u0415\\u0422\\u0421\\u0422\\u0412\\u0415\\u041d\\u041d\\u041e\\u0421\\u0422\\u042c\\u042e \\\"\\u0410\\u0422\\u0420-\\u0421\\u0422\\u0420\\u041e\\u0419\\\"\",\"\\u041e\\u0411\\u0429\\u0415\\u0421\\u0422\\u0412\\u041e \\u0421 \\u041e\\u0413\\u0420\\u0410\\u041d\\u0418\\u0427\\u0415\\u041d\\u041d\\u041e\\u0419 \\u041e\\u0422\\u0412\\u0415\\u0422\\u0421\\u0422\\u0412\\u0415\\u041d\\u041d\\u041e\\u0421\\u0422\\u042c\\u042e \\\"\\u041a\\u0410\\u041f\\u0418\\u0422\\u0410\\u041b\\u0421\\u0422\\u0420\\u041e\\u0419\\\"\",\"\\u041e\\u0431\\u0449\\u0435\\u0441\\u0442\\u0432\\u043e \\u0441 \\u043e\\u0433\\u0440\\u0430\\u043d\\u0438\\u0447\\u0435\\u043d\\u043d\\u043e\\u0439 \\u043e\\u0442\\u0432\\u0435\\u0442\\u0441\\u0442\\u0432\\u0435\\u043d\\u043d\\u043e\\u0441\\u0442\\u044c\\u044e \\u0441\\u043f\\u0435\\u0446\\u0438\\u0430\\u043b\\u0438\\u0437\\u0438\\u0440\\u043e\\u0432\\u0430\\u043d\\u043d\\u044b\\u0439 \\u0437\\u0430\\u0441\\u0442\\u0440\\u043e\\u0439\\u0449\\u0438\\u043a \\\"\\u0421\\u0442\\u0440\\u043e\\u0439\\u043c\\u0430\\u0441\\u0442\\u0435\\u0440\\\"\",\"\\u041e\\u041e\\u041e\\\"\\u0420\\u0421\\u041f\\\"\",\"\\u0410\\u043a\\u0446\\u0438\\u043e\\u043d\\u0435\\u0440\\u043d\\u043e\\u0435 \\u043e\\u0431\\u0449\\u0435\\u0441\\u0442\\u0432\\u043e \\\"\\u041d\\u043e\\u0440\\u0442\\\"\",\"\\u041e\\u0411\\u0429\\u0415\\u0421\\u0422\\u0412\\u041e \\u0421 \\u041e\\u0413\\u0420\\u0410\\u041d\\u0418\\u0427\\u0415\\u041d\\u041d\\u041e\\u0419 \\u041e\\u0422\\u0412\\u0415\\u0422\\u0421\\u0422\\u0412\\u0415\\u041d\\u041d\\u041e\\u0421\\u0422\\u042c\\u042e \\u041f\\u0420\\u041e\\u0418\\u0417\\u0412\\u041e\\u0414\\u0421\\u0422\\u0412\\u0415\\u041d\\u041d\\u041e-\\u041a\\u041e\\u041c\\u041c\\u0415\\u0420\\u0427\\u0415\\u0421\\u041a\\u0410\\u042f \\u0424\\u0418\\u0420\\u041c\\u0410 \\\"\\u0410\\u041b\\u042c\\u0422\\u0410\\u0418\\u0420\\\"\",\"\\u0410\\u043a\\u0446\\u0438\\u043e\\u043d\\u0435\\u0440\\u043d\\u043e\\u0435 \\u043e\\u0431\\u0449\\u0435\\u0441\\u0442\\u0432\\u043e \\\"\\u0422\\u041e\\u0420\\u041e\\u0421\\\"\",\"\\u041e\\u0431\\u0449\\u0435\\u0441\\u0442\\u0432\\u043e \\u0441 \\u043e\\u0433\\u0440\\u0430\\u043d\\u0438\\u0447\\u0435\\u043d\\u043d\\u043e\\u0439 \\u043e\\u0442\\u0432\\u0435\\u0442\\u0441\\u0442\\u0432\\u0435\\u043d\\u043d\\u043e\\u0441\\u0442\\u044c\\u044e \\\"\\u0418\\u0422\\u0421\\\"\",\"\\u041e\\u0411\\u0429\\u0415\\u0421\\u0422\\u0412\\u041e \\u0421 \\u041e\\u0413\\u0420\\u0410\\u041d\\u0418\\u0427\\u0415\\u041d\\u041d\\u041e\\u0419 \\u041e\\u0422\\u0412\\u0415\\u0422\\u0421\\u0422\\u0412\\u0415\\u041d\\u041d\\u041e\\u0421\\u0422\\u042c\\u042e \\\"\\u0425\\u0410\\u0423\\u0421 \\u0413\\u0420\\u0423\\u041f\\u041f\\\"\",\"\\u041e\\u0431\\u0449\\u0435\\u0441\\u0442\\u0432\\u043e \\u0441 \\u043e\\u0433\\u0440\\u0430\\u043d\\u0438\\u0447\\u0435\\u043d\\u043d\\u043e\\u0439 \\u043e\\u0442\\u0432\\u0435\\u0442\\u0441\\u0442\\u0432\\u0435\\u043d\\u043d\\u043e\\u0441\\u0442\\u044c\\u044e \\\"\\u041f\\u0440\\u043e\\u0441\\u0442\\u0440\\u043e\\u0439\\\"\",\"\\u041e\\u0431\\u0449\\u0435\\u0441\\u0442\\u0432\\u043e \\u0441 \\u043e\\u0433\\u0440\\u0430\\u043d\\u0438\\u0447\\u0435\\u043d\\u043d\\u043e\\u0439 \\u043e\\u0442\\u0432\\u0435\\u0442\\u0441\\u0442\\u0432\\u0435\\u043d\\u043d\\u043e\\u0441\\u0442\\u044c\\u044e \\\"\\u042d\\u043d\\u0435\\u0440\\u0433\\u043e\\u041a\\u043e\\u043c\\u043f\\u043b\\u0435\\u043a\\u0441\\\"\",\"\\u041e\\u0411\\u0429\\u0415\\u0421\\u0422\\u0412\\u041e \\u0421 \\u041e\\u0413\\u0420\\u0410\\u041d\\u0418\\u0427\\u0415\\u041d\\u041d\\u041e\\u0419 \\u041e\\u0422\\u0412\\u0415\\u0422\\u0421\\u0422\\u0412\\u0415\\u041d\\u041d\\u041e\\u0421\\u0422\\u042c\\u042e \\u0421\\u0422\\u0420\\u041e\\u0418\\u0422\\u0415\\u041b\\u042c\\u041d\\u041e\\u0415 \\u0423\\u041f\\u0420\\u0410\\u0412\\u041b\\u0415\\u041d\\u0418\\u0415 \\\"\\u0410\\u0420\\u0421\\u0415\\u041d\\u0410\\u041b\\\"\",\"\\u041e\\u0431\\u0449\\u0435\\u0441\\u0442\\u0432\\u043e \\u0441 \\u043e\\u0433\\u0440\\u0430\\u043d\\u0438\\u0447\\u0435\\u043d\\u043d\\u043e\\u0439 \\u043e\\u0442\\u0432\\u0435\\u0442\\u0441\\u0442\\u0432\\u0435\\u043d\\u043d\\u043e\\u0441\\u0442\\u044c\\u044e \\\"\\u0412\\u0415\\u041a\\u0422\\u041e\\u0420 \\u0421\\u0422\\u0420\\u041e\\u0419\\\"\",\"\\u041e\\u0431\\u0449\\u0435\\u0441\\u0442\\u0432\\u043e \\u0441 \\u043e\\u0433\\u0440\\u0430\\u043d\\u0438\\u0447\\u0435\\u043d\\u043d\\u043e\\u0439 \\u043e\\u0442\\u0432\\u0435\\u0442\\u0441\\u0442\\u0432\\u0435\\u043d\\u043d\\u043e\\u0441\\u0442\\u044c\\u044e \\\"\\u041b\\u0418\\u0414\\u0415\\u0420-\\u0421\\u041f\\u0415\\u0426\\u0418\\u0410\\u041b\\u0418\\u0417\\u0418\\u0420\\u041e\\u0412\\u0410\\u041d\\u041d\\u042b\\u0419 \\u0417\\u0410\\u0421\\u0422\\u0420\\u041e\\u0419\\u0429\\u0418\\u041a\\\"\",\"\\u041e\\u0431\\u0449\\u0435\\u0441\\u0442\\u0432\\u043e \\u0441 \\u043e\\u0433\\u0440\\u0430\\u043d\\u0438\\u0447\\u0435\\u043d\\u043d\\u043e\\u0439 \\u043e\\u0442\\u0432\\u0435\\u0442\\u0441\\u0442\\u0432\\u0435\\u043d\\u043d\\u043e\\u0441\\u0442\\u044c\\u044e \\\"\\u0412\\u0418\\u041a-\\u0421\\u0422\\u0420\\u041e\\u0419\\\"\",\"\\u041e\\u0431\\u0449\\u0435\\u0441\\u0442\\u0432\\u043e \\u0441 \\u043e\\u0433\\u0440\\u0430\\u043d\\u0438\\u0447\\u0435\\u043d\\u043d\\u043e\\u0439 \\u043e\\u0442\\u0432\\u0435\\u0442\\u0441\\u0442\\u0432\\u0435\\u043d\\u043d\\u043e\\u0441\\u0442\\u044c\\u044e \\\"\\u0421\\u041a \\u041d\\u041e\\u0420\\u041c\\u0410\\\"\",\"\\u041e\\u0431\\u0449\\u0435\\u0441\\u0442\\u0432\\u043e \\u0441 \\u043e\\u0433\\u0440\\u0430\\u043d\\u0438\\u0447\\u0435\\u043d\\u043d\\u043e\\u0439 \\u043e\\u0442\\u0432\\u0435\\u0442\\u0441\\u0442\\u0432\\u0435\\u043d\\u043d\\u043e\\u0441\\u0442\\u044c\\u044e \\\"\\u0421\\u0418\\u0420\\u0418\\u0423\\u0421\\\"\",\"\\u041e\\u0431\\u0449\\u0435\\u0441\\u0442\\u0432\\u043e \\u0441 \\u043e\\u0433\\u0440\\u0430\\u043d\\u0438\\u0447\\u0435\\u043d\\u043d\\u043e\\u0439 \\u043e\\u0442\\u0432\\u0435\\u0442\\u0441\\u0442\\u0432\\u0435\\u043d\\u043d\\u043e\\u0441\\u0442\\u044c\\u044e \\\"\\u0420\\u0435\\u0433\\u0438\\u043e\\u043d\\u0441\\u0442\\u0440\\u043e\\u0439\\\"\",\"\\u041e\\u0431\\u0449\\u0435\\u0441\\u0442\\u0432\\u043e \\u0441 \\u043e\\u0433\\u0440\\u0430\\u043d\\u0438\\u0447\\u0435\\u043d\\u043d\\u043e\\u0439 \\u043e\\u0442\\u0432\\u0435\\u0442\\u0441\\u0442\\u0432\\u0435\\u043d\\u043d\\u043e\\u0441\\u0442\\u044c\\u044e \\\"\\u042d\\u043d\\u0435\\u0440\\u0433\\u043e\\u0441\\u0442\\u0440\\u043e\\u0439\\u0440\\u0435\\u0441\\u0443\\u0440\\u0441\\\"\",\"\\u041e\\u0411\\u0429\\u0415\\u0421\\u0422\\u0412\\u041e \\u0421 \\u041e\\u0413\\u0420\\u0410\\u041d\\u0418\\u0427\\u0415\\u041d\\u041d\\u041e\\u0419 \\u041e\\u0422\\u0412\\u0415\\u0422\\u0421\\u0422\\u0412\\u0415\\u041d\\u041d\\u041e\\u0421\\u0422\\u042c\\u042e \\\"\\u042d\\u041d \\u042d\\u0421 \\u0421\\u0418\\\"\",\"\\u041e\\u0431\\u0449\\u0435\\u0441\\u0442\\u0432\\u043e \\u0441 \\u043e\\u0433\\u0440\\u0430\\u043d\\u0438\\u0447\\u0435\\u043d\\u043d\\u043e\\u0439 \\u043e\\u0442\\u0432\\u0435\\u0442\\u0441\\u0442\\u0432\\u0435\\u043d\\u043d\\u043e\\u0441\\u0442\\u044c\\u044e \\\"\\u0420\\u0418\\u0413\\u0418\\u041b\\\"\",\"\\u041e\\u0431\\u0449\\u0435\\u0441\\u0442\\u0432\\u043e \\u0441 \\u043e\\u0433\\u0440\\u0430\\u043d\\u0438\\u0447\\u0435\\u043d\\u043d\\u043e\\u0439 \\u043e\\u0442\\u0432\\u0435\\u0442\\u0441\\u0442\\u0432\\u0435\\u043d\\u043d\\u043e\\u0441\\u0442\\u044c\\u044e \\\"\\u041a\\u043e\\u043c\\u043f\\u043b\\u0435\\u043a\\u0441\\u043d\\u044b\\u0435 \\u0421\\u0442\\u0440\\u043e\\u0438\\u0442\\u0435\\u043b\\u044c\\u043d\\u044b\\u0435 \\u0421\\u0438\\u0441\\u0442\\u0435\\u043c\\u044b\\\"\",\"\\u041e\\u0431\\u0449\\u0435\\u0441\\u0442\\u0432\\u043e \\u0441 \\u043e\\u0433\\u0440\\u0430\\u043d\\u0438\\u0447\\u0435\\u043d\\u043d\\u043e\\u0439 \\u043e\\u0442\\u0432\\u0435\\u0442\\u0441\\u0442\\u0432\\u0435\\u043d\\u043d\\u043e\\u0441\\u0442\\u044c\\u044e \\\"\\u0412\\u043e\\u043b\\u0433\\u043e\\u041f\\u0440\\u043e\\u043c\\u0421\\u0442\\u0440\\u043e\\u0439\\\"\",\"\\u041e\\u0431\\u0449\\u0435\\u0441\\u0442\\u0432\\u043e \\u0441 \\u043e\\u0433\\u0440\\u0430\\u043d\\u0438\\u0447\\u0435\\u043d\\u043d\\u043e\\u0439 \\u043e\\u0442\\u0432\\u0435\\u0442\\u0441\\u0442\\u0432\\u0435\\u043d\\u043d\\u043e\\u0441\\u0442\\u044c\\u044e \\\"\\u0413\\u0420\\u0410\\u0414\\u0421\\u0422\\u0420\\u041e\\u0419\\\"\",\"\\u041e\\u0431\\u0449\\u0435\\u0441\\u0442\\u0432\\u043e \\u0441 \\u043e\\u0433\\u0440\\u0430\\u043d\\u0438\\u0447\\u0435\\u043d\\u043d\\u043e\\u0439 \\u043e\\u0442\\u0432\\u0435\\u0442\\u0441\\u0442\\u0432\\u0435\\u043d\\u043d\\u043e\\u0441\\u0442\\u044c\\u044e \\\"\\u0421\\u043f\\u0435\\u0446\\u0438\\u0430\\u043b\\u0438\\u0437\\u0438\\u0440\\u043e\\u0432\\u0430\\u043d\\u043d\\u044b\\u0439 \\u0437\\u0430\\u0441\\u0442\\u0440\\u043e\\u0439\\u0449\\u0438\\u043a \\\"\\u041c\\u043e\\u0439 \\u0434\\u043e\\u043c \\u041a\\u0430\\u043c\\u0435\\u043d\\u043a\\u0438\\\"\",\"\\u041e\\u0431\\u0449\\u0435\\u0441\\u0442\\u0432\\u043e \\u0441 \\u043e\\u0433\\u0440\\u0430\\u043d\\u0438\\u0447\\u0435\\u043d\\u043d\\u043e\\u0439 \\u043e\\u0442\\u0432\\u0435\\u0442\\u0441\\u0442\\u0432\\u0435\\u043d\\u043d\\u043e\\u0441\\u0442\\u044c\\u044e \\\"\\u041c\\u0411 \\u0418\\u043d\\u0436\\u0438\\u043d\\u0438\\u0440\\u0438\\u043d\\u0433\\\"\",\"\\u041e\\u0431\\u0449\\u0435\\u0441\\u0442\\u0432\\u043e \\u0441 \\u043e\\u0433\\u0440\\u0430\\u043d\\u0438\\u0447\\u0435\\u043d\\u043d\\u043e\\u0439 \\u043e\\u0442\\u0432\\u0435\\u0442\\u0441\\u0442\\u0432\\u0435\\u043d\\u043d\\u043e\\u0441\\u0442\\u044c\\u044e \\\"\\u0424\\u041e\\u041a\\u041a\\u0410-\\u041c\\\"\",\"\\u041e\\u0431\\u0449\\u0435\\u0441\\u0442\\u0432\\u043e \\u0441 \\u043e\\u0433\\u0440\\u0430\\u043d\\u0438\\u0447\\u0435\\u043d\\u043d\\u043e\\u0439 \\u043e\\u0442\\u0432\\u0435\\u0442\\u0441\\u0442\\u0432\\u0435\\u043d\\u043d\\u043e\\u0441\\u0442\\u044c\\u044e \\\"\\u0421\\u0422\\u0420\\u041e\\u0419\\u0426\\u0415\\u041d\\u0422\\u0420-\\u0418\\u0420\\u041a\\u0423\\u0422\\u0421\\u041a\\\"\",\"\\u041e\\u0431\\u0449\\u0435\\u0441\\u0442\\u0432\\u043e \\u0441 \\u043e\\u0433\\u0440\\u0430\\u043d\\u0438\\u0447\\u0435\\u043d\\u043d\\u043e\\u0439 \\u043e\\u0442\\u0432\\u0435\\u0442\\u0441\\u0442\\u0432\\u0435\\u043d\\u043d\\u043e\\u0441\\u0442\\u044c\\u044e \\\"\\u041f\\u0440\\u043e\\u043c\\u0438\\u043d\\u0431\\u0443\\u0440\\u0433\\\"\",\"\\u041e\\u041e\\u041e \\\"\\u041a\\u041e\\u0420\\u0412\\u0415\\u0422\\\"\",\"\\u041e\\u0411\\u0429\\u0415\\u0421\\u0422\\u0412\\u041e \\u0421 \\u041e\\u0413\\u0420\\u0410\\u041d\\u0418\\u0427\\u0415\\u041d\\u041d\\u041e\\u0419 \\u041e\\u0422\\u0412\\u0415\\u0422\\u0421\\u0422\\u0412\\u0415\\u041d\\u041d\\u041e\\u0421\\u0422\\u042c\\u042e \\u0421\\u041f\\u0415\\u0426\\u0418\\u0410\\u041b\\u0418\\u0417\\u0418\\u0420\\u041e\\u0412\\u0410\\u041d\\u041d\\u042b\\u0419 \\u0417\\u0410\\u0421\\u0422\\u0420\\u041e\\u0419\\u0429\\u0418\\u041a \\\"\\u0422\\u0420\\u0415\\u0421\\u0422\\\"\",\"\\u041e\\u0431\\u0449\\u0435\\u0441\\u0442\\u0432\\u043e \\u0441 \\u043e\\u0433\\u0440\\u0430\\u043d\\u0438\\u0447\\u0435\\u043d\\u043d\\u043e\\u0439 \\u043e\\u0442\\u0432\\u0435\\u0442\\u0441\\u0442\\u0432\\u0435\\u043d\\u043d\\u043e\\u0441\\u0442\\u044c\\u044e \\\"\\u041b\\u0418\\u0414\\u0415\\u0420\\\"\",\"\\u041e\\u0431\\u0449\\u0435\\u0441\\u0442\\u0432\\u043e \\u0441 \\u043e\\u0433\\u0440\\u0430\\u043d\\u0438\\u0447\\u0435\\u043d\\u043d\\u043e\\u0439 \\u043e\\u0442\\u0432\\u0435\\u0442\\u0441\\u0442\\u0432\\u0435\\u043d\\u043d\\u043e\\u0441\\u0442\\u044c\\u044e \\\"\\u041f\\u0440\\u043e\\u043c\\u044b\\u0448\\u043b\\u0435\\u043d\\u043d\\u043e\\u0435 \\u043e\\u0431\\u044a\\u0435\\u0434\\u0438\\u043d\\u0435\\u043d\\u0438\\u0435 \\\"\\u0413\\u0418\\u0420\\u0410\\u041a\\u0421\\\"\",\"\\u041e\\u0431\\u0449\\u0435\\u0441\\u0442\\u0432\\u043e \\u0441 \\u043e\\u0433\\u0440\\u0430\\u043d\\u0438\\u0447\\u0435\\u043d\\u043d\\u043e\\u0439 \\u043e\\u0442\\u0432\\u0435\\u0442\\u0441\\u0442\\u0432\\u0435\\u043d\\u043d\\u043e\\u0441\\u0442\\u044c\\u044e \\\"\\u0422\\u043e\\u0431\\u043e\\u043b\\\"\",\"\\u041e\\u0431\\u0449\\u0435\\u0441\\u0442\\u0432\\u043e \\u0441 \\u043e\\u0433\\u0440\\u0430\\u043d\\u0438\\u0447\\u0435\\u043d\\u043d\\u043e\\u0439 \\u043e\\u0442\\u0432\\u0435\\u0442\\u0441\\u0442\\u0432\\u0435\\u043d\\u043d\\u043e\\u0441\\u0442\\u044c\\u044e \\\"\\u041c\\u0418\\u0414\\u0410\\u0421\\\"\",\"\\u041e\\u0411\\u0429\\u0415\\u0421\\u0422\\u0412\\u041e \\u0421 \\u041e\\u0413\\u0420\\u0410\\u041d\\u0418\\u0427\\u0415\\u041d\\u041d\\u041e\\u0419 \\u041e\\u0422\\u0412\\u0415\\u0422\\u0421\\u0422\\u0412\\u0415\\u041d\\u041d\\u041e\\u0421\\u0422\\u042c\\u042e \\u0421\\u041f\\u0415\\u0426\\u0418\\u0410\\u041b\\u0418\\u0417\\u0418\\u0420\\u041e\\u0412\\u0410\\u041d\\u041d\\u042b\\u0419 \\u0417\\u0410\\u0421\\u0422\\u0420\\u041e\\u0419\\u0429\\u0418\\u041a \\\"\\u041d\\u041e\\u0420\\u0421\\u0422\\u0420\\u041e\\u0419\\\"\",\"\\u041e\\u0431\\u0449\\u0435\\u0441\\u0442\\u0432\\u043e \\u0441 \\u043e\\u0433\\u0440\\u0430\\u043d\\u0438\\u0447\\u0435\\u043d\\u043d\\u043e\\u0439 \\u043e\\u0442\\u0432\\u0435\\u0442\\u0441\\u0442\\u0432\\u0435\\u043d\\u043d\\u043e\\u0441\\u0442\\u044c\\u044e \\\"\\u041c\\u0421\\u0422-\\u0413\\u0420\\u0423\\u041f\\u041f\\\"\",\"\\u041e\\u0431\\u0449\\u0435\\u0441\\u0442\\u0432\\u043e \\u0441 \\u043e\\u0433\\u0440\\u0430\\u043d\\u0438\\u0447\\u0435\\u043d\\u043d\\u043e\\u0439 \\u043e\\u0442\\u0432\\u0435\\u0442\\u0441\\u0442\\u0432\\u0435\\u043d\\u043d\\u043e\\u0441\\u0442\\u044c\\u044e \\\"\\u0414\\u041e\\u041c\\u0421\\u0422\\u0420\\u041e\\u0419\\u0418\\u041d\\u0412\\u0415\\u0421\\u0422\\\"\",\"\\u041e\\u041e\\u041e \\\"\\u041f\\u042d\\u0422\\u0420\\u0423\\u0421\\u041a\\u043e\\\"\",\"\\u041e\\u0431\\u0449\\u0435\\u0441\\u0442\\u0432\\u043e \\u0441 \\u043e\\u0433\\u0440\\u0430\\u043d\\u0438\\u0447\\u0435\\u043d\\u043d\\u043e\\u0439 \\u043e\\u0442\\u0432\\u0435\\u0442\\u0441\\u0442\\u0432\\u0435\\u043d\\u043d\\u043e\\u0441\\u0442\\u044c\\u044e \\\"\\u0418\\u043d\\u0442\\u0435\\u0440\\u0421\\u0442\\u0440\\u043e\\u0439\\u0418\\u043d\\u0432\\u0435\\u0441\\u0442\\\"\",\"\\u041e\\u0411\\u0429\\u0415\\u0421\\u0422\\u0412\\u041e \\u0421 \\u041e\\u0413\\u0420\\u0410\\u041d\\u0418\\u0427\\u0415\\u041d\\u041d\\u041e\\u0419 \\u041e\\u0422\\u0412\\u0415\\u0422\\u0421\\u0422\\u0412\\u0415\\u041d\\u041d\\u041e\\u0421\\u0422\\u042c\\u042e \\\"\\u0424\\u041e\\u0420\\u0412\\u0410\\u0420\\u0414-\\u0421\\u0422\\u0420\\u041e\\u0419\\\"\",\"\\u041e\\u0431\\u0449\\u0435\\u0441\\u0442\\u0432\\u043e \\u0441 \\u043e\\u0433\\u0440\\u0430\\u043d\\u0438\\u0447\\u0435\\u043d\\u043d\\u043e\\u0439 \\u043e\\u0442\\u0432\\u0435\\u0442\\u0441\\u0442\\u0432\\u0435\\u043d\\u043d\\u043e\\u0441\\u0442\\u044c\\u044e \\\"\\u041b\\u0435\\u0444\\u043e\\u0440\\u0442\\u043e\\u0432\\u0441\\u043a\\u0430\\u044f \\u0421\\u0442\\u0440\\u043e\\u0438\\u0442\\u0435\\u043b\\u044c\\u043d\\u0430\\u044f \\u041a\\u043e\\u043c\\u043f\\u0430\\u043d\\u0438\\u044f\\\"\",\"\\u041e\\u041e\\u041e \\\"\\u0414\\u0421\\u041c\\\"\",\"\\u041e\\u0431\\u0449\\u0435\\u0441\\u0442\\u0432\\u043e \\u0441 \\u043e\\u0433\\u0440\\u0430\\u043d\\u0438\\u0447\\u0435\\u043d\\u043d\\u043e\\u0439 \\u043e\\u0442\\u0432\\u0435\\u0442\\u0441\\u0442\\u0432\\u0435\\u043d\\u043d\\u043e\\u0441\\u0442\\u044c\\u044e \\\"\\u042d\\u041b\\u0415\\u041a\\u0422\\u0420\\u041e\\u041c\\u041e\\u041d\\u0422\\u0410\\u0416\\u0421\\u0422\\u0420\\u041e\\u0419\\\"\",\"\\u041e\\u041e\\u041e \\\"\\u0418\\u0421\\u041a \\\"\\u0422\\u0420\\u0418-\\u0421\\\"\",\"\\u041e\\u0431\\u0449\\u0435\\u0441\\u0442\\u0432\\u043e \\u0441 \\u043e\\u0433\\u0440\\u0430\\u043d\\u0438\\u0447\\u0435\\u043d\\u043d\\u043e\\u0439 \\u043e\\u0442\\u0432\\u0435\\u0442\\u0441\\u0442\\u0432\\u0435\\u043d\\u043d\\u043e\\u0441\\u0442\\u044c\\u044e \\\"\\u041e\\u041f\\u0422\\u0422\\u041e\\u0420\\u0413\\\"\",\"\\u041e\\u0431\\u0449\\u0435\\u0441\\u0442\\u0432\\u043e \\u0441 \\u043e\\u0433\\u0440\\u0430\\u043d\\u0438\\u0447\\u0435\\u043d\\u043d\\u043e\\u0439 \\u043e\\u0442\\u0432\\u0435\\u0442\\u0441\\u0442\\u0432\\u0435\\u043d\\u043d\\u043e\\u0441\\u0442\\u044c\\u044e \\\"\\u0410\\u041d-\\u0421\\u0442\\u0440\\u043e\\u0439\\\"\",\"\\u041e\\u0431\\u0449\\u0435\\u0441\\u0442\\u0432\\u043e \\u0441 \\u043e\\u0433\\u0440\\u0430\\u043d\\u0438\\u0447\\u0435\\u043d\\u043d\\u043e\\u0439 \\u043e\\u0442\\u0432\\u0435\\u0442\\u0441\\u0442\\u0432\\u0435\\u043d\\u043d\\u043e\\u0441\\u0442\\u044c\\u044e \\\"\\u0412\\u0418\\u041a\\u0422\\u041e\\u0420\\u0418\\u042f\\\"\",\"\\u041e\\u0411\\u0429\\u0415\\u0421\\u0422\\u0412\\u041e \\u0421 \\u041e\\u0413\\u0420\\u0410\\u041d\\u0418\\u0427\\u0415\\u041d\\u041d\\u041e\\u0419 \\u041e\\u0422\\u0412\\u0415\\u0422\\u0421\\u0422\\u0412\\u0415\\u041d\\u041d\\u041e\\u0421\\u0422\\u042c\\u042e \\\"\\u041f\\u041c\\u041a-219\\\"\",\"\\u0410\\u041a\\u0426\\u0418\\u041e\\u041d\\u0415\\u0420\\u041d\\u041e\\u0415 \\u041e\\u0411\\u0429\\u0415\\u0421\\u0422\\u0412\\u041e \\\"\\u0415\\u041a\\u0411-\\u041e\\u0422\\u0414\\u0415\\u041b\\u0421\\u0422\\u0420\\u041e\\u0419\\\"\",\"\\u041e\\u0431\\u0449\\u0435\\u0441\\u0442\\u0432\\u043e \\u0441 \\u043e\\u0433\\u0440\\u0430\\u043d\\u0438\\u0447\\u0435\\u043d\\u043d\\u043e\\u0439 \\u043e\\u0442\\u0432\\u0435\\u0442\\u0441\\u0442\\u0432\\u0435\\u043d\\u043d\\u043e\\u0441\\u0442\\u044c\\u044e\\\"\\u042d\\u043a\\u043e\\u0432\\u0435\\u043d\\u0442\\u043c\\u043e\\u043d\\u0442\\u0430\\u0436\\\"\",\"\\u041e\\u0431\\u0449\\u0435\\u0441\\u0442\\u0432\\u043e \\u0441 \\u043e\\u0433\\u0440\\u0430\\u043d\\u0438\\u0447\\u0435\\u043d\\u043d\\u043e\\u0439 \\u043e\\u0442\\u0432\\u0435\\u0442\\u0441\\u0442\\u0432\\u0435\\u043d\\u043d\\u043e\\u0441\\u0442\\u044c\\u044e \\\"\\u0420\\u0423\\u0421\\u0410\\u041c\\\"\",\"\\u041e\\u0411\\u0429\\u0415\\u0421\\u0422\\u0412\\u041e \\u0421 \\u041e\\u0413\\u0420\\u0410\\u041d\\u0418\\u0427\\u0415\\u041d\\u041d\\u041e\\u0419 \\u041e\\u0422\\u0412\\u0415\\u0422\\u0421\\u0422\\u0412\\u0415\\u041d\\u041d\\u041e\\u0421\\u0422\\u042c\\u042e \\\"\\u041c \\u0413\\u0420\\u0423\\u041f\\u041f\\\"\",\"\\u041e\\u0411\\u0429\\u0415\\u0421\\u0422\\u0412\\u041e \\u0421 \\u041e\\u0413\\u0420\\u0410\\u041d\\u0418\\u0427\\u0415\\u041d\\u041d\\u041e\\u0419 \\u041e\\u0422\\u0412\\u0415\\u0422\\u0421\\u0422\\u0412\\u0415\\u041d\\u041d\\u041e\\u0421\\u0422\\u042c\\u042e \\\"\\u0421\\u0422\\u0420\\u041e\\u0419\\u042d\\u0422\\u0410\\u041b\\u041e\\u041d \\u0424\\u0418\\u041d\\u0410\\u041d\\u0421\\\"\",\"\\u041e\\u0431\\u0449\\u0435\\u0441\\u0442\\u0432\\u043e \\u0441 \\u043e\\u0433\\u0440\\u0430\\u043d\\u0438\\u0447\\u0435\\u043d\\u043d\\u043e\\u0439 \\u043e\\u0442\\u0432\\u0435\\u0442\\u0441\\u0442\\u0432\\u0435\\u043d\\u043d\\u043e\\u0441\\u0442\\u044c\\u044e \\\"\\u042d\\u041b\\u0415\\u041a\\u0422\\u0420\\u0410\\\"\",\"\\u041f\\u0440\\u0435\\u0434\\u043f\\u0440\\u0438\\u044f\\u0442\\u0438\\u0435 \\\"\\u0423\\u0441\\u043f\\u0435\\u0445\\\" \\u041e\\u0431\\u0449\\u0435\\u0441\\u0442\\u0432\\u043e \\u0441 \\u043e\\u0433\\u0440\\u0430\\u043d\\u0438\\u0447\\u0435\\u043d\\u043d\\u043e\\u0439 \\u043e\\u0442\\u0432\\u0435\\u0442\\u0441\\u0442\\u0432\\u0435\\u043d\\u043d\\u043e\\u0441\\u0442\\u044c\\u044e\",\"\\u041e\\u0431\\u0449\\u0435\\u0441\\u0442\\u0432\\u043e \\u0441 \\u043e\\u0433\\u0440\\u0430\\u043d\\u0438\\u0447\\u0435\\u043d\\u043d\\u043e\\u0439 \\u043e\\u0442\\u0432\\u0435\\u0442\\u0441\\u0442\\u0432\\u0435\\u043d\\u043d\\u043e\\u0441\\u0442\\u044c\\u044e \\\"\\u042d\\u0420\\u0418\\u041e\\u041d\\u0421\\u0422\\u0420\\u041e\\u0419\\u0413\\u0420\\u0423\\u041f\\u041f\\\"\",\"\\u041e\\u0431\\u0449\\u0435\\u0441\\u0442\\u0432\\u043e \\u0441 \\u043e\\u0433\\u0440\\u0430\\u043d\\u0438\\u0447\\u0435\\u043d\\u043d\\u043e\\u0439 \\u043e\\u0442\\u0432\\u0435\\u0442\\u0441\\u0442\\u0432\\u0435\\u043d\\u043d\\u043e\\u0441\\u0442\\u044c\\u044e \\\"\\u0421\\u0422\\u041a-\\u0421\\u0422\\u0420\\u041e\\u0419\\\"\",\"\\u041e\\u0431\\u0449\\u0435\\u0441\\u0442\\u0432\\u043e \\u0441 \\u043e\\u0433\\u0440\\u0430\\u043d\\u0438\\u0447\\u0435\\u043d\\u043d\\u043e\\u0439 \\u043e\\u0442\\u0432\\u0435\\u0442\\u0441\\u0442\\u0432\\u0435\\u043d\\u043d\\u043e\\u0441\\u0442\\u044c\\u044e \\\"\\u0422\\u041d\\u041a\\\"\",\"\\u041e\\u0431\\u0449\\u0435\\u0441\\u0442\\u0432\\u043e \\u0441 \\u043e\\u0433\\u0440\\u0430\\u043d\\u0438\\u0447\\u0435\\u043d\\u043d\\u043e\\u0439 \\u043e\\u0442\\u0432\\u0435\\u0442\\u0441\\u0442\\u0432\\u0435\\u043d\\u043d\\u043e\\u0441\\u0442\\u044c\\u044e \\\"\\u0414\\u043e\\u043d-\\u0421\\u0442\\u0440\\u043e\\u0439\\\"\",\"\\u041e\\u041e\\u041e \\\"\\u0421\\u0411 \\u0417\\u0410\\u0429\\u0418\\u0422\\u0410\\\"\",\"\\u041e\\u0431\\u0449\\u0435\\u0441\\u0442\\u0432\\u043e \\u0441 \\u043e\\u0433\\u0440\\u0430\\u043d\\u0438\\u0447\\u0435\\u043d\\u043d\\u043e\\u0439 \\u043e\\u0442\\u0432\\u0435\\u0442\\u0441\\u0442\\u0432\\u0435\\u043d\\u043d\\u043e\\u0441\\u0442\\u044c\\u044e \\\"\\u0413\\u0415\\u041b\\u0418\\u041e\\u0421-\\u041f\\u0410\\u0420\\u041a \\u0421\\u041f\\u0411\\\"\",\"\\u041e\\u0431\\u0449\\u0435\\u0441\\u0442\\u0432\\u043e \\u0441 \\u043e\\u0433\\u0440\\u0430\\u043d\\u0438\\u0447\\u0435\\u043d\\u043d\\u043e\\u0439 \\u043e\\u0442\\u0432\\u0435\\u0442\\u0441\\u0442\\u0432\\u0435\\u043d\\u043d\\u043e\\u0441\\u0442\\u044c\\u044e \\\"\\u041a\\u0410\\u041f\\u0418\\u0422\\u0410\\u041b\\u0413\\u0420\\u0423\\u041f\\u041f\\u0421\\u0422\\u0420\\u041e\\u0419\\\"\",\"\\u041e\\u0431\\u0449\\u0435\\u0441\\u0442\\u0432\\u043e \\u0441 \\u043e\\u0433\\u0440\\u0430\\u043d\\u0438\\u0447\\u0435\\u043d\\u043d\\u043e\\u0439 \\u043e\\u0442\\u0432\\u0435\\u0442\\u0441\\u0442\\u0432\\u0435\\u043d\\u043d\\u043e\\u0441\\u0442\\u044c\\u044e \\\"\\u041c\\u041e\\u041d\\u0422\\u0410\\u0416\\u041d\\u0410\\u042f \\u041a\\u041e\\u041c\\u041f\\u0410\\u041d\\u0418\\u042f \\u0412\\u041e\\u0421\\u0422\\u041e\\u041a\\u041c\\u0415\\u0422\\u0410\\u041b\\u041b\\u0423\\u0420\\u0413\\u041c\\u041e\\u041d\\u0422\\u0410\\u0416\\\"\",\"\\u041e\\u0431\\u0449\\u0435\\u0441\\u0442\\u0432\\u043e \\u0441 \\u043e\\u0433\\u0440\\u0430\\u043d\\u0438\\u0447\\u0435\\u043d\\u043d\\u043e\\u0439 \\u043e\\u0442\\u0432\\u0435\\u0442\\u0441\\u0442\\u0432\\u0435\\u043d\\u043d\\u043e\\u0441\\u0442\\u044c\\u044e \\\"\\u041d\\u043e\\u0432\\u043e\\u0441\\u0442\\u0440\\u043e\\u0439\\\"\",\"\\u041e\\u0411\\u0429\\u0415\\u0421\\u0422\\u0412\\u041e \\u0421 \\u041e\\u0413\\u0420\\u0410\\u041d\\u0418\\u0427\\u0415\\u041d\\u041d\\u041e\\u0419 \\u041e\\u0422\\u0412\\u0415\\u0422\\u0421\\u0422\\u0412\\u0415\\u041d\\u041d\\u041e\\u0421\\u0422\\u042c\\u042e \\\"\\u041f\\u0420\\u041e\\u041c\\u0421\\u0422\\u0420\\u041e\\u0419\\u0421\\u0415\\u0420\\u0412\\u0418\\u0421\\\"\",\"\\u041e\\u0431\\u0449\\u0435\\u0441\\u0442\\u0432\\u043e \\u0441 \\u043e\\u0433\\u0440\\u0430\\u043d\\u0438\\u0447\\u0435\\u043d\\u043d\\u043e\\u0439 \\u043e\\u0442\\u0432\\u0435\\u0442\\u0441\\u0442\\u0432\\u0435\\u043d\\u043d\\u043e\\u0441\\u0442\\u044c\\u044e \\\"\\u0421\\u041a \\u0413\\u0410\\u041b\\u0410\\u0422\\u0410\\\"\",\"\\u041e\\u0431\\u0449\\u0435\\u0441\\u0442\\u0432\\u043e \\u0441 \\u043e\\u0433\\u0440\\u0430\\u043d\\u0438\\u0447\\u0435\\u043d\\u043d\\u043e\\u0439 \\u043e\\u0442\\u0432\\u0435\\u0442\\u0441\\u0442\\u0432\\u0435\\u043d\\u043d\\u043e\\u0441\\u0442\\u044c\\u044e \\u0421\\u041f\\u0415\\u0426\\u0418\\u0410\\u041b\\u0418\\u0417\\u0418\\u0420\\u041e\\u0412\\u0410\\u041d\\u041d\\u042b\\u0419 \\u0417\\u0410\\u0421\\u0422\\u0420\\u041e\\u0419\\u0429\\u0418\\u041a \\\"\\u041a\\u0410\\u0417\\u0410\\u041d\\u0421\\u041a\\u0418\\u0419 \\u041f\\u041e\\u0421\\u0410\\u0414\\\"\",\"\\u041e\\u0431\\u0449\\u0435\\u0441\\u0442\\u0432\\u043e \\u0441 \\u043e\\u0433\\u0440\\u0430\\u043d\\u0438\\u0447\\u0435\\u043d\\u043d\\u043e\\u0439 \\u043e\\u0442\\u0432\\u0435\\u0442\\u0441\\u0442\\u0432\\u0435\\u043d\\u043d\\u043e\\u0441\\u0442\\u044c\\u044e \\\"\\u041b\\u0435\\u0432\\\"\",\"\\u041e\\u0411\\u0429\\u0415\\u0421\\u0422\\u0412\\u041e \\u0421 \\u041e\\u0413\\u0420\\u0410\\u041d\\u0418\\u0427\\u0415\\u041d\\u041d\\u041e\\u0419 \\u041e\\u0422\\u0412\\u0415\\u0422\\u0421\\u0422\\u0412\\u0415\\u041d\\u041d\\u041e\\u0421\\u0422\\u042c\\u042e \\\"\\u041d\\u0415\\u0420\\u0413\\u0410\\\"\",\"\\u041e\\u0431\\u0449\\u0435\\u0441\\u0442\\u0432\\u043e \\u0441 \\u043e\\u0433\\u0440\\u0430\\u043d\\u0438\\u0447\\u0435\\u043d\\u043d\\u043e\\u0439 \\u043e\\u0442\\u0432\\u0435\\u0442\\u0441\\u0442\\u0432\\u0435\\u043d\\u043d\\u043e\\u0441\\u0442\\u044c\\u044e \\\"\\u0421\\u041a \\\"\\u0421\\u0442\\u0440\\u0443\\u043a\\u0442\\u0443\\u0440\\u0430\\\"\",\"\\u041e\\u0411\\u0429\\u0415\\u0421\\u0422\\u0412\\u041e \\u0421 \\u041e\\u0413\\u0420\\u0410\\u041d\\u0418\\u0427\\u0415\\u041d\\u041d\\u041e\\u0419 \\u041e\\u0422\\u0412\\u0415\\u0422\\u0421\\u0422\\u0412\\u0415\\u041d\\u041d\\u041e\\u0421\\u0422\\u042c\\u042e \\\"\\u0414\\u0415\\u041b\\u042c\\u0422\\u0410-\\u0421\\u0422\\u0420\\u041e\\u0419\\\"\",\"\\u041e\\u0411\\u0429\\u0415\\u0421\\u0422\\u0412\\u041e \\u0421 \\u041e\\u0413\\u0420\\u0410\\u041d\\u0418\\u0427\\u0415\\u041d\\u041d\\u041e\\u0419 \\u041e\\u0422\\u0412\\u0415\\u0422\\u0421\\u0422\\u0412\\u0415\\u041d\\u041d\\u041e\\u0421\\u0422\\u042c\\u042e \\\"\\u041a7\\\"\",\"\\u041e\\u0431\\u0449\\u0435\\u0441\\u0442\\u0432\\u043e \\u0441 \\u043e\\u0433\\u0440\\u0430\\u043d\\u0438\\u0447\\u0435\\u043d\\u043d\\u043e\\u0439 \\u043e\\u0442\\u0432\\u0435\\u0442\\u0441\\u0442\\u0432\\u0435\\u043d\\u043d\\u043e\\u0441\\u0442\\u044c\\u044e \\\"\\u0410-\\u041f\\u0440\\u043e\\u0435\\u043a\\u0442.\\u043a\\\"\",\"\\u041e\\u0431\\u0449\\u0435\\u0441\\u0442\\u0432\\u043e \\u0441 \\u043e\\u0433\\u0440\\u0430\\u043d\\u0438\\u0447\\u0435\\u043d\\u043d\\u043e\\u0439 \\u043e\\u0442\\u0432\\u0435\\u0442\\u0441\\u0442\\u0432\\u0435\\u043d\\u043d\\u043e\\u0441\\u0442\\u044c\\u044e \\\"\\u042d\\u041a\\u041e \\u0425\\u041e\\u041b\\u0414\\u0418\\u041d\\u0413\\\"\",\"\\u041e\\u0431\\u0449\\u0435\\u0441\\u0442\\u0432\\u043e \\u0441 \\u043e\\u0433\\u0440\\u0430\\u043d\\u0438\\u0447\\u0435\\u043d\\u043d\\u043e\\u0439 \\u043e\\u0442\\u0432\\u0435\\u0442\\u0441\\u0442\\u0432\\u0435\\u043d\\u043d\\u043e\\u0441\\u0442\\u044c\\u044e \\\"\\u0410\\u0412\\u0421\\\"\",\"\\u041e\\u0431\\u0449\\u0435\\u0441\\u0442\\u0432\\u043e \\u0441 \\u043e\\u0433\\u0440\\u0430\\u043d\\u0438\\u0447\\u0435\\u043d\\u043d\\u043e\\u0439 \\u043e\\u0442\\u0432\\u0435\\u0442\\u0441\\u0442\\u0432\\u0435\\u043d\\u043d\\u043e\\u0441\\u0442\\u044c\\u044e \\\"\\u0422-\\u0421\\u0422\\u0420\\u041e\\u0419\\\"\",\"\\u041e\\u0431\\u0449\\u0435\\u0441\\u0442\\u0432\\u043e \\u0441 \\u043e\\u0433\\u0440\\u0430\\u043d\\u0438\\u0447\\u0435\\u043d\\u043d\\u043e\\u0439 \\u043e\\u0442\\u0432\\u0435\\u0442\\u0441\\u0442\\u0432\\u0435\\u043d\\u043d\\u043e\\u0441\\u0442\\u044c\\u044e \\\"\\u0410\\u0433\\u0440\\u043e\\u043f\\u0440\\u043e\\u043c\\\"\",\"\\u041e\\u0411\\u0429\\u0415\\u0421\\u0422\\u0412\\u041e \\u0421 \\u041e\\u0413\\u0420\\u0410\\u041d\\u0418\\u0427\\u0415\\u041d\\u041d\\u041e\\u0419 \\u041e\\u0422\\u0412\\u0415\\u0422\\u0421\\u0422\\u0412\\u0415\\u041d\\u041d\\u041e\\u0421\\u0422\\u042c\\u042e \\\"\\u041a\\u0412-\\u041d\\u041e\\u0412\\u0422\\u0420\\u0410\\u041d\\u0421\\\"\",\"\\u041e\\u0431\\u0449\\u0435\\u0441\\u0442\\u0432\\u043e \\u0441 \\u043e\\u0433\\u0440\\u0430\\u043d\\u0438\\u0447\\u0435\\u043d\\u043d\\u043e\\u0439 \\u043e\\u0442\\u0432\\u0435\\u0442\\u0441\\u0442\\u0432\\u0435\\u043d\\u043d\\u043e\\u0441\\u0442\\u044c\\u044e \\\"\\u041a\\u043e\\u043d\\u0442\\u0443\\u0440 2012\\\"\",\"\\u041e\\u041e\\u041e \\u0421\\u041a \\\"\\u042d\\u041d\\u0415\\u0420\\u0413\\u041e\\u0421\\u0422\\u0420\\u041e\\u0419\\\"\",\"\\u041e\\u0431\\u0449\\u0435\\u0441\\u0442\\u0432\\u043e \\u0441 \\u043e\\u0433\\u0440\\u0430\\u043d\\u0438\\u0447\\u0435\\u043d\\u043d\\u043e\\u0439 \\u043e\\u0442\\u0432\\u0435\\u0442\\u0441\\u0442\\u0432\\u0435\\u043d\\u043d\\u043e\\u0441\\u0442\\u044c\\u044e \\\"\\u041f\\u0421\\u041a-71\\\"\",\"\\u041e\\u0431\\u0449\\u0435\\u0441\\u0442\\u0432\\u043e \\u0441 \\u043e\\u0433\\u0440\\u0430\\u043d\\u0438\\u0447\\u0435\\u043d\\u043d\\u043e\\u0439 \\u043e\\u0442\\u0432\\u0435\\u0442\\u0441\\u0442\\u0432\\u0435\\u043d\\u043d\\u043e\\u0441\\u0442\\u044c\\u044e \\\"\\u0421\\u0418\\u0411\\u0420\\u0415\\u041c\\u041e\\u041d\\u0422\\u0421\\u0415\\u0420\\u0412\\u0418\\u0421\\\"\",\"\\u041e\\u041e\\u041e \\\"\\u0421\\u043f\\u0435\\u0446\\u0438\\u0430\\u043b\\u0438\\u0437\\u0438\\u0440\\u043e\\u0432\\u0430\\u043d\\u043d\\u044b\\u0439 \\u0437\\u0430\\u0441\\u0442\\u0440\\u043e\\u0439\\u0449\\u0438\\u043a \\\"\\u041f\\u0440\\u043e\\u043c\\u0433\\u0440\\u0430\\u0436\\u0434\\u0430\\u043d\\u0441\\u0442\\u0440\\u043e\\u0439\\\"\",\"\\u041e\\u0431\\u0449\\u0435\\u0441\\u0442\\u0432\\u043e \\u0441 \\u043e\\u0433\\u0440\\u0430\\u043d\\u0438\\u0447\\u0435\\u043d\\u043d\\u043e\\u0439 \\u043e\\u0442\\u0432\\u0435\\u0442\\u0441\\u0442\\u0432\\u0435\\u043d\\u043d\\u043e\\u0441\\u0442\\u044c\\u044e \\\"\\u0421\\u041a \\u041d\\u041e\\u0412\\u041e\\u0421\\u0422\\u0420\\u041e\\u0419\\\"\",\"\\u041e\\u0411\\u0429\\u0415\\u0421\\u0422\\u0412\\u041e \\u0421 \\u041e\\u0413\\u0420\\u0410\\u041d\\u0418\\u0427\\u0415\\u041d\\u041d\\u041e\\u0419 \\u041e\\u0422\\u0412\\u0415\\u0422\\u0421\\u0422\\u0412\\u0415\\u041d\\u041d\\u041e\\u0421\\u0422\\u042c\\u042e \\\"\\u0421\\u041f\\u0415\\u0426\\u0418\\u0410\\u041b\\u0418\\u0417\\u0418\\u0420\\u041e\\u0412\\u0410\\u041d\\u041d\\u042b\\u0419 \\u0417\\u0410\\u0421\\u0422\\u0420\\u041e\\u0419\\u0429\\u0418\\u041a \\\"\\u0421\\u0422\\u0420\\u041e\\u0418\\u0422\\u0415\\u041b\\u042c\\u041d\\u0410\\u042f \\u0424\\u0418\\u0420\\u041c\\u0410 \\\"\\u0418\\u041d\\u0412\\u0415\\u0421\\u0422-\\u041b\\u0410\\u0414\\\"\",\"\\u041e\\u041e\\u041e \\\"\\u0420\\u0418\\u041a\\\"\",\"\\u041e\\u0431\\u0449\\u0435\\u0441\\u0442\\u0432\\u043e \\u0441 \\u043e\\u0433\\u0440\\u0430\\u043d\\u0438\\u0447\\u0435\\u043d\\u043d\\u043e\\u0439 \\u043e\\u0442\\u0432\\u0435\\u0442\\u0441\\u0442\\u0432\\u0435\\u043d\\u043d\\u043e\\u0441\\u0442\\u044c\\u044e \\\"\\u041e\\u0420\\u0422\\u041e\\u0421\\u0422-\\u0424\\u0410\\u0421\\u0410\\u0414\\\"\",\"\\u041e\\u0411\\u0429\\u0415\\u0421\\u0422\\u0412\\u041e \\u0421 \\u041e\\u0413\\u0420\\u0410\\u041d\\u0418\\u0427\\u0415\\u041d\\u041d\\u041e\\u0419 \\u041e\\u0422\\u0412\\u0415\\u0422\\u0421\\u0422\\u0412\\u0415\\u041d\\u041d\\u041e\\u0421\\u0422\\u042c\\u042e \\\"\\u0421\\u041c\\u0423 \\u0414\\u0421\\u041a\\\"\",\"\\u041e\\u0411\\u0429\\u0415\\u0421\\u0422\\u0412\\u041e \\u0421 \\u041e\\u0413\\u0420\\u0410\\u041d\\u0418\\u0427\\u0415\\u041d\\u041d\\u041e\\u0419 \\u041e\\u0422\\u0412\\u0415\\u0422\\u0421\\u0422\\u0412\\u0415\\u041d\\u041d\\u041e\\u0421\\u0422\\u042c\\u042e \\\"\\u0421\\u0422\\u0420\\u041e\\u0418\\u0422\\u0415\\u041b\\u042c\\u041d\\u0410\\u042f \\u041a\\u041e\\u041c\\u041f\\u0410\\u041d\\u0418\\u042f-78\\\"\",\"\\u041e\\u0431\\u0449\\u0435\\u0441\\u0442\\u0432\\u043e \\u0441 \\u043e\\u0433\\u0440\\u0430\\u043d\\u0438\\u0447\\u0435\\u043d\\u043d\\u043e\\u0439 \\u043e\\u0442\\u0432\\u0435\\u0442\\u0441\\u0442\\u0432\\u0435\\u043d\\u043d\\u043e\\u0441\\u0442\\u044c\\u044e \\\"\\u042d\\u041d\\u0415\\u0420\\u0413\\u041e\\u0421\\u0422\\u0420\\u041e\\u0419\\u041f\\u0420\\u041e\\u0415\\u041a\\u0422\\\"\",\"\\u041e\\u0431\\u0449\\u0435\\u0441\\u0442\\u0432\\u043e \\u0441 \\u043e\\u0433\\u0440\\u0430\\u043d\\u0438\\u0447\\u0435\\u043d\\u043d\\u043e\\u0439 \\u043e\\u0442\\u0432\\u0435\\u0442\\u0441\\u0442\\u0432\\u0435\\u043d\\u043d\\u043e\\u0441\\u0442\\u044c\\u044e \\\"\\u0421\\u041a \\u0410\\u0420\\u041a\\u0410\\u0414\\u0410\\\"\",\"\\u041e\\u0431\\u0449\\u0435\\u0441\\u0442\\u0432\\u043e \\u0441 \\u043e\\u0433\\u0440\\u0430\\u043d\\u0438\\u0447\\u0435\\u043d\\u043d\\u043e\\u0439 \\u043e\\u0442\\u0432\\u0435\\u0442\\u0441\\u0442\\u0432\\u0435\\u043d\\u043d\\u043e\\u0441\\u0442\\u044c\\u044e \\\"\\u0412\\u043e\\u043b\\u043e\\u0433\\u0434\\u0430\\u0441\\u0442\\u0440\\u043e\\u0439\\\"\",\"\\u041e\\u0411\\u0429\\u0415\\u0421\\u0422\\u0412\\u041e \\u0421 \\u041e\\u0413\\u0420\\u0410\\u041d\\u0418\\u0427\\u0415\\u041d\\u041d\\u041e\\u0419 \\u041e\\u0422\\u0412\\u0415\\u0422\\u0421\\u0422\\u0412\\u0415\\u041d\\u041d\\u041e\\u0421\\u0422\\u042c\\u042e \\\"\\u041d\\u0415\\u041f\\u0422\\u0423\\u041d\\\"\",\"\\u041e\\u0431\\u0449\\u0435\\u0441\\u0442\\u0432\\u043e \\u0441 \\u043e\\u0433\\u0440\\u0430\\u043d\\u0438\\u0447\\u0435\\u043d\\u043d\\u043e\\u0439 \\u043e\\u0442\\u0432\\u0435\\u0442\\u0441\\u0442\\u0432\\u0435\\u043d\\u043d\\u043e\\u0441\\u0442\\u044c\\u044e \\\"\\u041b\\u0415\\u0424\\u041a\\u0410\\\"\",\"\\u041e\\u0431\\u0449\\u0435\\u0441\\u0442\\u0432\\u043e \\u0441 \\u043e\\u0433\\u0440\\u0430\\u043d\\u0438\\u0447\\u0435\\u043d\\u043d\\u043e\\u0439 \\u043e\\u0442\\u0432\\u0435\\u0442\\u0441\\u0442\\u0432\\u0435\\u043d\\u043d\\u043e\\u0441\\u0442\\u044c\\u044e \\\"\\u0421\\u041f\\u0415\\u0426\\u0418\\u0410\\u041b\\u0418\\u0417\\u0418\\u0420\\u041e\\u0412\\u0410\\u041d\\u041d\\u042b\\u0419 \\u0417\\u0410\\u0421\\u0422\\u0420\\u041e\\u0419\\u0429\\u0418\\u041a \\\"\\u0410\\u041d\\u0414\\u041e\\u0420\\\"\",\"\\u041e\\u0431\\u0449\\u0435\\u0441\\u0442\\u0432\\u043e \\u0441 \\u043e\\u0433\\u0440\\u0430\\u043d\\u0438\\u0447\\u0435\\u043d\\u043d\\u043e\\u0439 \\u043e\\u0442\\u0432\\u0435\\u0442\\u0441\\u0442\\u0432\\u0435\\u043d\\u043d\\u043e\\u0441\\u0442\\u044c\\u044e \\\"\\u0416\\u0438\\u043b\\u0438\\u0449\\u043d\\u0438\\u043a-2\\\"\",\"\\u041e\\u0431\\u0449\\u0435\\u0441\\u0442\\u0432\\u043e \\u0441 \\u043e\\u0433\\u0440\\u0430\\u043d\\u0438\\u0447\\u0435\\u043d\\u043d\\u043e\\u0439 \\u043e\\u0442\\u0432\\u0435\\u0442\\u0441\\u0442\\u0432\\u0435\\u043d\\u043d\\u043e\\u0441\\u0442\\u044c\\u044e \\u0421\\u043f\\u0435\\u0446\\u0438\\u0430\\u043b\\u0438\\u0437\\u0438\\u0440\\u043e\\u0432\\u0430\\u043d\\u043d\\u044b\\u0439 \\u0437\\u0430\\u0441\\u0442\\u0440\\u043e\\u0439\\u0449\\u0438\\u043a \\\"\\u041a\\u0438\\u0440\\u043e\\u0432\\u0441\\u043a\\u0438\\u0439 \\u0421\\u0421\\u041a\\\"\",\"\\u041e\\u0431\\u0449\\u0435\\u0441\\u0442\\u0432\\u043e \\u0441 \\u043e\\u0433\\u0440\\u0430\\u043d\\u0438\\u0447\\u0435\\u043d\\u043d\\u043e\\u0439 \\u043e\\u0442\\u0432\\u0435\\u0442\\u0441\\u0442\\u0432\\u0435\\u043d\\u043d\\u043e\\u0441\\u0442\\u044c\\u044e \\\"\\u0418\\u041d\\u0416\\u0415\\u041d\\u0415\\u0420\\u041d\\u042b\\u0415 \\u0422\\u0415\\u0425\\u041d\\u041e\\u041b\\u041e\\u0413\\u0418\\u0418\\\"\",\"\\u041e\\u0411\\u0429\\u0415\\u0421\\u0422\\u0412\\u041e \\u0421 \\u041e\\u0413\\u0420\\u0410\\u041d\\u0418\\u0427\\u0415\\u041d\\u041d\\u041e\\u0419 \\u041e\\u0422\\u0412\\u0415\\u0422\\u0421\\u0422\\u0412\\u0415\\u041d\\u041d\\u041e\\u0421\\u0422\\u042c\\u042e \\\"\\u0420\\u0413 \\u041a\\u041e\\u041d\\u0421\\u0422\\u0420\\u0410\\u041a\\u0428\\u041d\\\"\",\"\\u041e\\u0431\\u0449\\u0435\\u0441\\u0442\\u0432\\u043e \\u0441 \\u043e\\u0433\\u0440\\u0430\\u043d\\u0438\\u0447\\u0435\\u043d\\u043d\\u043e\\u0439 \\u043e\\u0442\\u0432\\u0435\\u0442\\u0441\\u0442\\u0432\\u0435\\u043d\\u043d\\u043e\\u0441\\u0442\\u044c\\u044e \\\"\\u042d\\u041b\\u0418\\u0422\\u0421\\u041f\\u0415\\u0426\\u0421\\u0422\\u0420\\u041e\\u0419\\\"\",\"\\u041e\\u0431\\u0449\\u0435\\u0441\\u0442\\u0432\\u043e \\u0441 \\u043e\\u0433\\u0440\\u0430\\u043d\\u0438\\u0447\\u0435\\u043d\\u043d\\u043e\\u0439 \\u043e\\u0442\\u0432\\u0435\\u0442\\u0441\\u0442\\u0432\\u0435\\u043d\\u043d\\u043e\\u0441\\u0442\\u044c\\u044e \\u00ab\\u0421\\u041f\\u0415\\u0426\\u0418\\u0410\\u041b\\u0418\\u0417\\u0418\\u0420\\u041e\\u0412\\u0410\\u041d\\u041d\\u042b\\u0419 \\u0417\\u0410\\u0421\\u0422\\u0420\\u041e\\u0419\\u0429\\u0418\\u041a \\u00ab\\u041c\\u0410\\u0413\\u0418\\u00bb\",\"\\u041e\\u0431\\u0449\\u0435\\u0441\\u0442\\u0432\\u043e \\u0441 \\u043e\\u0433\\u0440\\u0430\\u043d\\u0438\\u0447\\u0435\\u043d\\u043d\\u043e\\u0439 \\u043e\\u0442\\u0432\\u0435\\u0442\\u0441\\u0442\\u0432\\u0435\\u043d\\u043d\\u043e\\u0441\\u0442\\u044c\\u044e \\\"\\u042e\\u0413\\u0421\\u0422\\u0420\\u041e\\u0419\\\"\",\"\\u041e\\u0431\\u0449\\u0435\\u0441\\u0442\\u0432\\u043e \\u0441 \\u043e\\u0433\\u0440\\u0430\\u043d\\u0438\\u0447\\u0435\\u043d\\u043d\\u043e\\u0439 \\u043e\\u0442\\u0432\\u0435\\u0442\\u0441\\u0442\\u0432\\u0435\\u043d\\u043d\\u043e\\u0441\\u0442\\u044c\\u044e \\\"\\u041a-\\u0422\\u0415\\u0425\\\"\",\"\\u041e\\u0431\\u0449\\u0435\\u0441\\u0442\\u0432\\u043e \\u0441 \\u043e\\u0433\\u0440\\u0430\\u043d\\u0438\\u0447\\u0435\\u043d\\u043d\\u043e\\u0439 \\u043e\\u0442\\u0432\\u0435\\u0442\\u0441\\u0442\\u0432\\u0435\\u043d\\u043d\\u043e\\u0441\\u0442\\u044c\\u044e \\\"\\u0421\\u0422\\u0420\\u041e\\u0419 \\u0418\\u041d\\u0416\\u0418\\u041d\\u0418\\u0420\\u0418\\u041d\\u0413\\\"\",\"\\u041e\\u0431\\u0449\\u0435\\u0441\\u0442\\u0432\\u043e \\u0441 \\u043e\\u0433\\u0440\\u0430\\u043d\\u0438\\u0447\\u0435\\u043d\\u043d\\u043e\\u0439 \\u043e\\u0442\\u0432\\u0435\\u0442\\u0441\\u0442\\u0432\\u0435\\u043d\\u043d\\u043e\\u0441\\u0442\\u044c\\u044e \\\"\\u0421\\u0423-12 \\u0410\\u041f\\u041a-\\u0421\\u0422\\u0420\\u041e\\u0419\\\"\",\"\\u041e\\u0411\\u0429\\u0415\\u0421\\u0422\\u0412\\u041e \\u0421 \\u041e\\u0413\\u0420\\u0410\\u041d\\u0418\\u0427\\u0415\\u041d\\u041d\\u041e\\u0419 \\u041e\\u0422\\u0412\\u0415\\u0422\\u0421\\u0422\\u0412\\u0415\\u041d\\u041d\\u041e\\u0421\\u0422\\u042c\\u042e \\\"\\u041d\\u041d\\u0414\\u041a \\u0413\\u0415\\u041d\\u0415\\u0420\\u0410\\u041b\\u042c\\u041d\\u042b\\u0419 \\u041f\\u041e\\u0414\\u0420\\u042f\\u0414\\u0427\\u0418\\u041a\\\"\",\"\\u041e\\u0431\\u0449\\u0435\\u0441\\u0442\\u0432\\u043e \\u0441 \\u043e\\u0433\\u0440\\u0430\\u043d\\u0438\\u0447\\u0435\\u043d\\u043d\\u043e\\u0439 \\u043e\\u0442\\u0432\\u0435\\u0442\\u0441\\u0442\\u0432\\u0435\\u043d\\u043d\\u043e\\u0441\\u0442\\u044c\\u044e \\\"\\u041d\\u0415\\u0412\\u0410\\\"\",\"\\u041e\\u0431\\u0449\\u0435\\u0441\\u0442\\u0432\\u043e \\u0441 \\u043e\\u0433\\u0440\\u0430\\u043d\\u0438\\u0447\\u0435\\u043d\\u043d\\u043e\\u0439 \\u043e\\u0442\\u0432\\u0435\\u0442\\u0441\\u0442\\u0432\\u0435\\u043d\\u043d\\u043e\\u0441\\u0442\\u044c\\u044e \\\"\\u0415\\u043a\\u0430\\u0442\\u0435\\u0440\\u0438\\u043d\\u0431\\u0443\\u0440\\u0433\\u044d\\u043b\\u0435\\u043a\\u0442\\u0440\\u043e\\u043c\\u043e\\u043d\\u0442\\u0430\\u0436\\\"\",\"\\u0410\\u041e \\\"\\u0411\\u0435\\u0440\\u0434\\u0441\\u043a\\u0438\\u0439 \\u0441\\u0442\\u0440\\u043e\\u0438\\u0442\\u0435\\u043b\\u044c\\u043d\\u044b\\u0439 \\u0442\\u0440\\u0435\\u0441\\u0442\\\"\",\"\\u041e\\u0431\\u0449\\u0435\\u0441\\u0442\\u0432\\u043e \\u0441 \\u043e\\u0433\\u0440\\u0430\\u043d\\u0438\\u0447\\u0435\\u043d\\u043d\\u043e\\u0439 \\u043e\\u0442\\u0432\\u0435\\u0442\\u0441\\u0442\\u0432\\u0435\\u043d\\u043d\\u043e\\u0441\\u0442\\u044c\\u044e \\u0421\\u0442\\u0440\\u043e\\u0438\\u0442\\u0435\\u043b\\u044c\\u043d\\u0430\\u044f \\u043a\\u043e\\u043c\\u043f\\u0430\\u043d\\u0438\\u044f \\\"\\u041c\\u0435\\u0434\\u0432\\u0435\\u0434\\u044c\\\"\",\"\\u0410\\u043a\\u0446\\u0438\\u043e\\u043d\\u0435\\u0440\\u043d\\u043e\\u0435 \\u043e\\u0431\\u0449\\u0435\\u0441\\u0442\\u0432\\u043e \\\"\\u041f\\u0435\\u0442\\u0440\\u043e\\u0441\\\"\",\"\\u041e\\u0431\\u0449\\u0435\\u0441\\u0442\\u0432\\u043e \\u0441 \\u043e\\u0433\\u0440\\u0430\\u043d\\u0438\\u0447\\u0435\\u043d\\u043d\\u043e\\u0439 \\u043e\\u0442\\u0432\\u0435\\u0442\\u0441\\u0442\\u0432\\u0435\\u043d\\u043d\\u043e\\u0441\\u0442\\u044c\\u044e \\\"\\u042e\\u0413\\u0421\\u0422\\u0420\\u041e\\u0419\\u0420\\u0415\\u0421\\u0423\\u0420\\u0421\\\"\",\"\\u041e\\u0431\\u0449\\u0435\\u0441\\u0442\\u0432\\u043e \\u0441 \\u043e\\u0433\\u0440\\u0430\\u043d\\u0438\\u0447\\u0435\\u043d\\u043d\\u043e\\u0439 \\u043e\\u0442\\u0432\\u0435\\u0442\\u0441\\u0442\\u0432\\u0435\\u043d\\u043d\\u043e\\u0441\\u0442\\u044c\\u044e \\\"\\u041d\\u0410\\u0421\\u041b\\u0415\\u0414\\u0418\\u0415\\\"\",\"\\u041e\\u0431\\u0449\\u0435\\u0441\\u0442\\u0432\\u043e \\u0441 \\u043e\\u0433\\u0440\\u0430\\u043d\\u0438\\u0447\\u0435\\u043d\\u043d\\u043e\\u0439 \\u043e\\u0442\\u0432\\u0435\\u0442\\u0441\\u0442\\u0432\\u0435\\u043d\\u043d\\u043e\\u0441\\u0442\\u044c\\u044e  \\\"\\u0421\\u0422\\u0420\\u041e\\u0418\\u0422\\u0415\\u041b\\u042c\\\"\",\"\\u041e\\u0431\\u0449\\u0435\\u0441\\u0442\\u0432\\u043e \\u0441 \\u043e\\u0433\\u0440\\u0430\\u043d\\u0438\\u0447\\u0435\\u043d\\u043d\\u043e\\u0439 \\u043e\\u0442\\u0432\\u0435\\u0442\\u0441\\u0442\\u0432\\u0435\\u043d\\u043d\\u043e\\u0441\\u0442\\u044c\\u044e \\\"\\u0420\\u0415\\u0421\\u0422\\u0410\\u0412\\u0420\\u0410\\u0426\\u0418\\u042f. \\u041f\\u0420\\u041e\\u0415\\u041a\\u0422\\u0418\\u0420\\u041e\\u0412\\u0410\\u041d\\u0418\\u0415. \\u0421\\u0422\\u0420\\u041e\\u0418\\u0422\\u0415\\u041b\\u042c\\u0421\\u0422\\u0412\\u041e.\\\"\",\"\\u041e\\u0431\\u0449\\u0435\\u0441\\u0442\\u0432\\u043e \\u0441 \\u043e\\u0433\\u0440\\u0430\\u043d\\u0438\\u0447\\u0435\\u043d\\u043d\\u043e\\u0439 \\u043e\\u0442\\u0432\\u0435\\u0442\\u0441\\u0442\\u0432\\u0435\\u043d\\u043d\\u043e\\u0441\\u0442\\u044c\\u044e \\\"\\u0421\\u041f\\u0415\\u0426\\u0418\\u0410\\u041b\\u0418\\u0417\\u0418\\u0420\\u041e\\u0412\\u0410\\u041d\\u041d\\u042b\\u0419 \\u0417\\u0410\\u0421\\u0422\\u0420\\u041e\\u0419\\u0429\\u0418\\u041a\\\" \\\"\\u0420\\u0423\\u0421\\u0410\\u0413\\u0420\\u041e\\u0421\\u0422\\u0420\\u041e\\u0419\\\"\\\"\",\"\\u041e\\u0431\\u0449\\u0435\\u0441\\u0442\\u0432\\u043e \\u0441 \\u043e\\u0433\\u0440\\u0430\\u043d\\u0438\\u0447\\u0435\\u043d\\u043d\\u043e\\u0439 \\u043e\\u0442\\u0432\\u0435\\u0442\\u0441\\u0442\\u0432\\u0435\\u043d\\u043d\\u043e\\u0441\\u0442\\u044c\\u044e \\\"100\\u0420\\u0410 \\u041b\\u0422\\u0414\\\"\",\"\\u041e\\u0431\\u0449\\u0435\\u0441\\u0442\\u0432\\u043e \\u0441 \\u043e\\u0433\\u0440\\u0430\\u043d\\u0438\\u0447\\u0435\\u043d\\u043d\\u043e\\u0439 \\u043e\\u0442\\u0432\\u0435\\u0442\\u0441\\u0442\\u0432\\u0435\\u043d\\u043d\\u043e\\u0441\\u0442\\u044c\\u044e \\\"M\\u0411-\\u0441\\u0442\\u0440\\u043e\\u0439\\\"\",\"\\u041e\\u0431\\u0449\\u0435\\u0441\\u0442\\u0432\\u043e \\u0441 \\u043e\\u0433\\u0440\\u0430\\u043d\\u0438\\u0447\\u0435\\u043d\\u043d\\u043e\\u0439 \\u043e\\u0442\\u0432\\u0435\\u0442\\u0441\\u0442\\u0432\\u0435\\u043d\\u043d\\u043e\\u0441\\u0442\\u044c\\u044e \\\"\\u0410\\u0413\\u0420\\u041e\\u0421\\u041d\\u0410\\u0411-\\u042e\\u0413\\\"\",\"\\u041e\\u0411\\u0429\\u0415\\u0421\\u0422\\u0412\\u041e \\u0421 \\u041e\\u0413\\u0420\\u0410\\u041d\\u0418\\u0427\\u0415\\u041d\\u041d\\u041e\\u0419 \\u041e\\u0422\\u0412\\u0415\\u0422\\u0421\\u0422\\u0412\\u0415\\u041d\\u041d\\u041e\\u0421\\u0422\\u042c\\u042e \\\"\\u0415\\u0412\\u0420\\u041e\\u041f\\u0415\\u0419\\u0421\\u041a\\u0418\\u0415 \\u0421\\u0422\\u0420\\u041e\\u0418\\u0422\\u0415\\u041b\\u042c\\u041d\\u042b\\u0415 \\u0422\\u0415\\u0425\\u041d\\u041e\\u041b\\u041e\\u0413\\u0418\\u0418\\\"\",\"\\u041e\\u0411\\u0429\\u0415\\u0421\\u0422\\u0412\\u041e \\u0421 \\u041e\\u0413\\u0420\\u0410\\u041d\\u0418\\u0427\\u0415\\u041d\\u041d\\u041e\\u0419 \\u041e\\u0422\\u0412\\u0415\\u0422\\u0421\\u0422\\u0412\\u0415\\u041d\\u041d\\u041e\\u0421\\u0422\\u042c\\u042e \\\"\\u0413\\u041b\\u041e\\u0411\\u0423\\u0421-\\u0421\\u041a\\\"\",\"\\u041e\\u0431\\u0449\\u0435\\u0441\\u0442\\u0432\\u043e \\u0441 \\u043e\\u0433\\u0440\\u0430\\u043d\\u0438\\u0447\\u0435\\u043d\\u043d\\u043e\\u0439 \\u043e\\u0442\\u0432\\u0435\\u0442\\u0441\\u0442\\u0432\\u0435\\u043d\\u043d\\u043e\\u0441\\u0442\\u044c\\u044e \\u00ab\\u041a\\u042c\\u042e\\u0422\\u0415\\u041a\\u00bb\",\"\\u041e\\u041e\\u041e \\\"\\u0411\\u0430\\u0437\\u0438\\u0441 \\u041b\\u0422\\u0414\\\"\",\"\\u041e\\u0431\\u0449\\u0435\\u0441\\u0442\\u0432\\u043e \\u0441 \\u043e\\u0433\\u0440\\u0430\\u043d\\u0438\\u0447\\u0435\\u043d\\u043d\\u043e\\u0439 \\u043e\\u0442\\u0432\\u0435\\u0442\\u0441\\u0442\\u0432\\u0435\\u043d\\u043d\\u043e\\u0441\\u0442\\u044c\\u044e \\\"\\u0421\\u043f\\u0435\\u0446\\u0438\\u0430\\u043b\\u0438\\u0437\\u0438\\u0440\\u043e\\u0432\\u0430\\u043d\\u043d\\u044b\\u0439 \\u0437\\u0430\\u0441\\u0442\\u0440\\u043e\\u0439\\u0449\\u0438\\u043a \\\"\\u0416\\u0418\\u041b\\u0421\\u0422\\u0420\\u041e\\u0419\\u0421\\u0418\\u0422\\u0418\\\"\",\"\\u0410\\u041a\\u0426\\u0418\\u041e\\u041d\\u0415\\u0420\\u041d\\u041e\\u0415 \\u041e\\u0411\\u0429\\u0415\\u0421\\u0422\\u0412\\u041e \\\"\\u0421\\u041f\\u0415\\u0426\\u0418\\u0410\\u041b\\u0418\\u0417\\u0418\\u0420\\u041e\\u0412\\u0410\\u041d\\u041d\\u042b\\u0419 \\u0417\\u0410\\u0421\\u0422\\u0420\\u041e\\u0419\\u0429\\u0418\\u041a \\\"\\u0428\\u042d\\u041b\\u0414\\u041e\\u041c\\\"\",\"\\u041e\\u0431\\u0449\\u0435\\u0441\\u0442\\u0432\\u043e \\u0441 \\u043e\\u0433\\u0440\\u0430\\u043d\\u0438\\u0447\\u0435\\u043d\\u043d\\u043e\\u0439 \\u043e\\u0442\\u0432\\u0435\\u0442\\u0441\\u0442\\u0432\\u0435\\u043d\\u043d\\u043e\\u0441\\u0442\\u044c\\u044e \\\"\\u041c\\u0435\\u0442\\u0430\\u043b\\u043b\\u043e\\u0446\\u0435\\u043d\\u0442\\u0440 \\u041b\\u0438\\u0434\\u0435\\u0440-\\u041c\\\"\",\"\\u041e\\u0411\\u0429\\u0415\\u0421\\u0422\\u0412\\u041e \\u0421 \\u041e\\u0413\\u0420\\u0410\\u041d\\u0418\\u0427\\u0415\\u041d\\u041d\\u041e\\u0419 \\u041e\\u0422\\u0412\\u0415\\u0422\\u0421\\u0422\\u0412\\u0415\\u041d\\u041d\\u041e\\u0421\\u0422\\u042c\\u042e \\\"\\u0422\\u041e\\u0420\\u0413\\u041e\\u0412\\u042b\\u0419 \\u0414\\u041e\\u041c \\\"\\u0410\\u0417\\u0421 \\u041e\\u0411\\u041e\\u0420\\u0423\\u0414\\u041e\\u0412\\u0410\\u041d\\u0418\\u0415\\\"\",\"\\u041e\\u0431\\u0449\\u0435\\u0441\\u0442\\u0432\\u043e \\u0441 \\u043e\\u0433\\u0440\\u0430\\u043d\\u0438\\u0447\\u0435\\u043d\\u043d\\u043e\\u0439 \\u043e\\u0442\\u0432\\u0435\\u0442\\u0441\\u0442\\u0432\\u0435\\u043d\\u043d\\u043e\\u0441\\u0442\\u044c\\u044e \\\"\\u0420\\u0415\\u041c\\u0438\\u0421\\u0422\\u0420\\\"\",\"\\u041e\\u0431\\u0449\\u0435\\u0441\\u0442\\u0432\\u043e \\u0441 \\u043e\\u0433\\u0440\\u0430\\u043d\\u0438\\u0447\\u0435\\u043d\\u043d\\u043e\\u0439 \\u043e\\u0442\\u0432\\u0435\\u0442\\u0441\\u0442\\u0432\\u0435\\u043d\\u043d\\u043e\\u0441\\u0442\\u044c\\u044e \\\"\\u0422\\u0410\\u041c\\u0415\\u0420\\u041b\\u0410\\u041d-\\u0421\\u0422\\u0420\\u041e\\u0419\\\"\",\"\\u041e\\u0431\\u0449\\u0435\\u0441\\u0442\\u0432\\u043e \\u0441 \\u043e\\u0433\\u0440\\u0430\\u043d\\u0438\\u0447\\u0435\\u043d\\u043d\\u043e\\u0439 \\u043e\\u0442\\u0432\\u0435\\u0442\\u0441\\u0442\\u0432\\u0435\\u043d\\u043d\\u043e\\u0441\\u0442\\u044c\\u044e \\\"\\u041e\\u0421\\u041d\\u041e\\u0412\\u0410\\\"\",\"\\u041e\\u0431\\u0449\\u0435\\u0441\\u0442\\u0432\\u043e \\u0441 \\u043e\\u0433\\u0440\\u0430\\u043d\\u0438\\u0447\\u0435\\u043d\\u043d\\u043e\\u0439 \\u043e\\u0442\\u0432\\u0435\\u0442\\u0441\\u0442\\u0432\\u0435\\u043d\\u043d\\u043e\\u0441\\u0442\\u044c\\u044e \\\"\\u041a\\u0430\\u0441\\u043a\\u0430\\u0434\\\"\",\"\\u041e\\u0431\\u0449\\u0435\\u0441\\u0442\\u0432\\u043e \\u0441 \\u043e\\u0433\\u0440\\u0430\\u043d\\u0438\\u0447\\u0435\\u043d\\u043d\\u043e\\u0439 \\u043e\\u0442\\u0432\\u0435\\u0442\\u0441\\u0442\\u0432\\u0435\\u043d\\u043d\\u043e\\u0441\\u0442\\u044c\\u044e \\\"\\u0421\\u0422\\u0420\\u041e\\u0419\\u041f\\u0420\\u041e\\u0415\\u041a\\u0422 \\u0413\\u0420\\u0423\\u041f\\u041f\\\"\",\"\\u041e\\u0411\\u0429\\u0415\\u0421\\u0422\\u0412\\u041e \\u0421 \\u041e\\u0413\\u0420\\u0410\\u041d\\u0418\\u0427\\u0415\\u041d\\u041d\\u041e\\u0419 \\u041e\\u0422\\u0412\\u0415\\u0422\\u0421\\u0422\\u0412\\u0415\\u041d\\u041d\\u041e\\u0421\\u0422\\u042c\\u042e \\\"\\u0420\\u0415\\u0413\\u0418\\u041e\\u041d \\u0418\\u041d\\u0422\\u0415\\u0420\\u041d\\u0410\\u0426\\u0418\\u041e\\u041d\\u0410\\u041b\\\"\",\"\\u041e\\u0431\\u0449\\u0435\\u0441\\u0442\\u0432\\u043e \\u0441 \\u043e\\u0433\\u0440\\u0430\\u043d\\u0438\\u0447\\u0435\\u043d\\u043d\\u043e\\u0439 \\u043e\\u0442\\u0432\\u0435\\u0442\\u0441\\u0442\\u0432\\u0435\\u043d\\u043d\\u043e\\u0441\\u0442\\u044c\\u044e \\u0421\\u043f\\u0435\\u0446\\u0438\\u0430\\u043b\\u0438\\u0437\\u0438\\u0440\\u043e\\u0432\\u0430\\u043d\\u043d\\u044b\\u0439 \\u0417\\u0430\\u0441\\u0442\\u0440\\u043e\\u0439\\u0449\\u0438\\u043a \\\"\\u0413\\u0430\\u043b\\u0430\\u043a\\u0442\\u0438\\u043a\\u0430\\\"\",\"\\u041e\\u0411\\u0429\\u0415\\u0421\\u0422\\u0412\\u041e \\u0421 \\u041e\\u0413\\u0420\\u0410\\u041d\\u0418\\u0427\\u0415\\u041d\\u041d\\u041e\\u0419 \\u041e\\u0422\\u0412\\u0415\\u0422\\u0421\\u0422\\u0412\\u0415\\u041d\\u041d\\u041e\\u0421\\u0422\\u042c\\u042e \\\"\\u041a\\u0415\\u041d\\u041c\\u0415\\u0420 \\u0413\\u0420\\u0410\\u0414\\u041d\\u042f\\\"\",\"\\u041e\\u0431\\u0449\\u0435\\u0441\\u0442\\u0432\\u043e \\u0441 \\u043e\\u0433\\u0440\\u0430\\u043d\\u0438\\u0447\\u0435\\u043d\\u043d\\u043e\\u0439 \\u043e\\u0442\\u0432\\u0435\\u0442\\u0441\\u0442\\u0432\\u0435\\u043d\\u043d\\u043e\\u0441\\u0442\\u044c\\u044e \\\"\\u0421\\u043e\\u044e\\u0437\\u0414\\u043e\\u0440\\u0421\\u0442\\u0440\\u043e\\u0439\\\"\",\"\\u041e\\u0431\\u0449\\u0435\\u0441\\u0442\\u0432\\u043e \\u0441 \\u043e\\u0433\\u0440\\u0430\\u043d\\u0438\\u0447\\u0435\\u043d\\u043d\\u043e\\u0439 \\u043e\\u0442\\u0432\\u0435\\u0442\\u0441\\u0442\\u0432\\u0435\\u043d\\u043d\\u043e\\u0441\\u0442\\u044c\\u044e \\\"\\u0417\\u0413\\u0420\\u0410\\u0414\\u0410 \\u041c\\u041e\\u041d\\u041e\\u041b\\u0418\\u0422\\\"\",\"\\\"\\u041e\\u0411\\u0429\\u0415\\u0421\\u0422\\u0412\\u041e \\u0421 \\u041e\\u0413\\u0420\\u0410\\u041d\\u0418\\u0427\\u0415\\u041d\\u041d\\u041e\\u0419 \\u041e\\u0422\\u0412\\u0415\\u0422\\u0421\\u0422\\u0412\\u0415\\u041d\\u041d\\u041e\\u0421\\u0422\\u042c\\u042e \\\"\\u0421\\u041f\\u0415\\u0426\\u0418\\u0410\\u041b\\u0418\\u0417\\u0418\\u0420\\u041e\\u0412\\u0410\\u041d\\u041d\\u042b\\u0419 \\u0417\\u0410\\u0421\\u0422\\u0420\\u041e\\u0419\\u0429\\u0418\\u041a \\\"\\u0414\\u0420\\u0415\\u0412\\u041e.\\u0426\\u0415\\u041d\\u0422\\u0420\\\"\\\"\",\"\\u041e\\u041e\\u041e \\\"\\u0422\\u041c\\\"\",\"\\u041e\\u0431\\u0449\\u0435\\u0441\\u0442\\u0432\\u043e \\u0441 \\u043e\\u0433\\u0440\\u0430\\u043d\\u0438\\u0447\\u0435\\u043d\\u043d\\u043e\\u0439 \\u043e\\u0442\\u0432\\u0435\\u0442\\u0441\\u0442\\u0432\\u0435\\u043d\\u043d\\u043e\\u0441\\u0442\\u044c\\u044e \\\"\\u0410\\u0421\\u0413\\u0410\\u0420\\u0414\\\"\",\"\\u041e\\u0431\\u0449\\u0435\\u0441\\u0442\\u0432\\u043e \\u0441 \\u043e\\u0433\\u0440\\u0430\\u043d\\u0438\\u0447\\u0435\\u043d\\u043d\\u043e\\u0439 \\u043e\\u0442\\u0432\\u0435\\u0442\\u0441\\u0442\\u0432\\u0435\\u043d\\u043d\\u043e\\u0441\\u0442\\u044c\\u044e \\\" \\u0410\\u0434\\u0433\\u0435\\u0437\\u0438\\u044f \\\"\",\"\\u041e\\u0411\\u0429\\u0415\\u0421\\u0422\\u0412\\u041e \\u0421 \\u041e\\u0413\\u0420\\u0410\\u041d\\u0418\\u0427\\u0415\\u041d\\u041d\\u041e\\u0419 \\u041e\\u0422\\u0412\\u0415\\u0422\\u0421\\u0422\\u0412\\u0415\\u041d\\u041d\\u041e\\u0421\\u0422\\u042c\\u042e \\u0421\\u041f\\u0415\\u0426\\u0418\\u0410\\u041b\\u0418\\u0417\\u0418\\u0420\\u041e\\u0412\\u0410\\u041d\\u041d\\u042b\\u0419 \\u0417\\u0410\\u0421\\u0422\\u0420\\u041e\\u0419\\u0429\\u0418\\u041a \\\"\\u0412\\u042b\\u0421\\u041e\\u0422\\u0410\\\"\",\"\\u041e\\u041e\\u041e \\\"\\u0424\\u0421\\u041a \\\"\\u042d\\u0412\\u0415\\u0420\\u0410\\u041b\\\"\",\"\\u041e\\u0431\\u0449\\u0435\\u0441\\u0442\\u0432\\u043e \\u0441 \\u043e\\u0433\\u0440\\u0430\\u043d\\u0438\\u0447\\u0435\\u043d\\u043d\\u043e\\u0439 \\u043e\\u0442\\u0432\\u0435\\u0442\\u0441\\u0442\\u0432\\u0435\\u043d\\u043d\\u043e\\u0441\\u0442\\u044c\\u044e \\\"\\u041e\\u041d\\u0418\\u041a\\u0421 88\\\"\",\"\\u041e\\u0431\\u0449\\u0435\\u0441\\u0442\\u0432\\u043e \\u0441 \\u043e\\u0433\\u0440\\u0430\\u043d\\u0438\\u0447\\u0435\\u043d\\u043d\\u043e\\u0439 \\u043e\\u0442\\u0432\\u0435\\u0442\\u0441\\u0442\\u0432\\u0435\\u043d\\u043d\\u043e\\u0441\\u0442\\u044c\\u044e \\\"\\u0421\\u041f\\u0415\\u0426\\u0418\\u0410\\u041b\\u0418\\u0417\\u0418\\u0420\\u041e\\u0412\\u0410\\u041d\\u041d\\u041e\\u0415 \\u0422\\u041e\\u041d\\u041d\\u0415\\u041b\\u042c\\u041d\\u041e\\u0415 \\u0421\\u0422\\u0420\\u041e\\u0418\\u0422\\u0415\\u041b\\u042c\\u0421\\u0422\\u0412\\u041e\\\"\",\"\\u041e\\u0431\\u0449\\u0435\\u0441\\u0442\\u0432\\u043e \\u0441 \\u043e\\u0433\\u0440\\u0430\\u043d\\u0438\\u0447\\u0435\\u043d\\u043d\\u043e\\u0439 \\u043e\\u0442\\u0432\\u0435\\u0442\\u0441\\u0442\\u0432\\u0435\\u043d\\u043d\\u043e\\u0441\\u0442\\u044c\\u044e \\\"\\u0424\\u0410\\u0421\\u0410\\u0414 \\u0421\\u0422\\u0420\\u041e\\u0419\\\"\",\"\\u041e\\u0431\\u0449\\u0435\\u0441\\u0442\\u0432\\u043e \\u0441 \\u043e\\u0433\\u0440\\u0430\\u043d\\u0438\\u0447\\u0435\\u043d\\u043d\\u043e\\u0439 \\u043e\\u0442\\u0432\\u0435\\u0442\\u0441\\u0442\\u0432\\u0435\\u043d\\u043d\\u043e\\u0441\\u0442\\u044c\\u044e \\\"\\u0422\\u0415\\u041f\\u041b\\u041e\\u0421\\u0424\\u0415\\u0420\\u0410\\\"\",\"\\u041e\\u0431\\u0449\\u0435\\u0441\\u0442\\u0432\\u043e \\u0441 \\u043e\\u0433\\u0440\\u0430\\u043d\\u0438\\u0447\\u0435\\u043d\\u043d\\u043e\\u0439 \\u043e\\u0442\\u0432\\u0435\\u0442\\u0441\\u0442\\u0432\\u0435\\u043d\\u043d\\u043e\\u0441\\u0442\\u044c\\u044e \\\"\\u0410\\u041b\\u0411\\u0410\\\"\",\"\\u041e\\u0431\\u0449\\u0435\\u0441\\u0442\\u0432\\u043e \\u0441 \\u043e\\u0433\\u0440\\u0430\\u043d\\u0438\\u0447\\u0435\\u043d\\u043d\\u043e\\u0439 \\u043e\\u0442\\u0432\\u0435\\u0442\\u0441\\u0442\\u0432\\u0435\\u043d\\u043d\\u043e\\u0441\\u0442\\u044c\\u044e \\\"\\u0421\\u0418\\u0413\\u041c\\u0410\\\"\",\"\\u041e\\u0431\\u0449\\u0435\\u0441\\u0442\\u0432\\u043e \\u0441 \\u043e\\u0433\\u0440\\u0430\\u043d\\u0438\\u0447\\u0435\\u043d\\u043d\\u043e\\u0439 \\u043e\\u0442\\u0432\\u0435\\u0442\\u0441\\u0442\\u0432\\u0435\\u043d\\u043d\\u043e\\u0441\\u0442\\u044c\\u044e \\\"\\u0421\\u0442\\u0440\\u043e\\u0438\\u0442\\u0435\\u043b\\u044c\\u043d\\u044b\\u0439 \\u0425\\u043e\\u043b\\u0434\\u0438\\u043d\\u0433 \\u0415\\u041d\\u041a\\u041e\\\"\",\"\\u041e\\u0431\\u0449\\u0435\\u0441\\u0442\\u0432\\u043e \\u0441 \\u043e\\u0433\\u0440\\u0430\\u043d\\u0438\\u0447\\u0435\\u043d\\u043d\\u043e\\u0439 \\u043e\\u0442\\u0432\\u0435\\u0442\\u0441\\u0442\\u0432\\u0435\\u043d\\u043d\\u043e\\u0441\\u0442\\u044c\\u044e \\u0421\\u043f\\u0435\\u0446\\u0438\\u0430\\u043b\\u0438\\u0437\\u0438\\u0440\\u043e\\u0432\\u0430\\u043d\\u043d\\u044b\\u0439 \\u0437\\u0430\\u0441\\u0442\\u0440\\u043e\\u0439\\u0449\\u0438\\u043a \\\"\\u0421\\u0430\\u043b\\u044e\\u0442\\u0441\\u0442\\u0440\\u043e\\u0439\\\"\",\"\\u041e\\u0431\\u0449\\u0435\\u0441\\u0442\\u0432\\u043e \\u0441 \\u043e\\u0433\\u0440\\u0430\\u043d\\u0438\\u0447\\u0435\\u043d\\u043d\\u043e\\u0439 \\u043e\\u0442\\u0432\\u0435\\u0442\\u0441\\u0442\\u0432\\u0435\\u043d\\u043d\\u043e\\u0441\\u0442\\u044c\\u044e \\\"\\u0413\\u0435\\u0444\\u0435\\u0441\\u0442-\\u0421\\u0442\\u0440\\u043e\\u0439\\\"\",\"\\u041e\\u0431\\u0449\\u0435\\u0441\\u0442\\u0432\\u043e \\u0441 \\u043e\\u0433\\u0440\\u0430\\u043d\\u0438\\u0447\\u0435\\u043d\\u043d\\u043e\\u0439 \\u043e\\u0442\\u0432\\u0435\\u0442\\u0441\\u0442\\u0432\\u0435\\u043d\\u043d\\u043e\\u0441\\u0442\\u044c\\u044e \\u0412\\u041d\\u0412 \\\"\\u041a\\u043e\\u043d\\u0446\\u0435\\u043f\\u0442\\\"\",\"\\u041e\\u0431\\u0449\\u0435\\u0441\\u0442\\u0432\\u043e \\u0441 \\u043e\\u0433\\u0440\\u0430\\u043d\\u0438\\u0447\\u0435\\u043d\\u043d\\u043e\\u0439 \\u043e\\u0442\\u0432\\u0435\\u0442\\u0441\\u0442\\u0432\\u0435\\u043d\\u043d\\u043e\\u0441\\u0442\\u044c\\u044e \\\"\\u0421\\u0442\\u0440\\u043e\\u0438\\u0442\\u0435\\u043b\\u044c\\u043d\\u043e\\u0435 \\u0443\\u043f\\u0440\\u0430\\u0432\\u043b\\u0435\\u043d\\u0438\\u0435 - \\u0418\\u043d\\u043a\\u043e\\u0441\\u0442\\\"\",\"\\u041e\\u0431\\u0449\\u0435\\u0441\\u0442\\u0432\\u043e \\u0441 \\u043e\\u0433\\u0440\\u0430\\u043d\\u0438\\u0447\\u0435\\u043d\\u043d\\u043e\\u0439 \\u043e\\u0442\\u0432\\u0435\\u0442\\u0441\\u0442\\u0432\\u0435\\u043d\\u043d\\u043e\\u0441\\u0442\\u044c\\u044e \\\"\\u0421\\u041a \\u0410\\u0420\\u0422\\u0415\\u041d\\u0410\\\"\",\"\\u041e\\u0431\\u0449\\u0435\\u0441\\u0442\\u0432\\u043e \\u0441 \\u043e\\u0433\\u0440\\u0430\\u043d\\u0438\\u0447\\u0435\\u043d\\u043d\\u043e\\u0439 \\u043e\\u0442\\u0432\\u0435\\u0442\\u0441\\u0442\\u0432\\u0435\\u043d\\u043d\\u043e\\u0441\\u0442\\u044c\\u044e \\\" \\u0415\\u0414\\u0418\\u041d\\u0421\\u0422\\u0412\\u041e \\u041c\\u0410\\u0421\\u0422\\u0415\\u0420\\u041e\\u0412 \\\"\",\"\\u041e\\u0411\\u0429\\u0415\\u0421\\u0422\\u0412\\u041e \\u0421 \\u041e\\u0413\\u0420\\u0410\\u041d\\u0418\\u0427\\u0415\\u041d\\u041d\\u041e\\u0419 \\u041e\\u0422\\u0412\\u0415\\u0422\\u0421\\u0422\\u0412\\u0415\\u041d\\u041d\\u041e\\u0421\\u0422\\u042c\\u042e \\\"\\u042d\\u041d\\u0415\\u0420\\u0413\\u041e\\u0421\\u0422\\u0420\\u041e\\u0419\\u041f\\u0420\\u041e\\u0415\\u041a\\u0422\\\"\",\"\\u0410\\u041a\\u0426\\u0418\\u041e\\u041d\\u0415\\u0420\\u041d\\u041e\\u0415 \\u041e\\u0411\\u0429\\u0415\\u0421\\u0422\\u0412\\u041e \\\"\\u041a\\u041e\\u041d\\u0422\\u0418\\\"\",\"\\u041e\\u0431\\u0449\\u0435\\u0441\\u0442\\u0432\\u043e \\u0441 \\u043e\\u0433\\u0440\\u0430\\u043d\\u0438\\u0447\\u0435\\u043d\\u043d\\u043e\\u0439 \\u043e\\u0442\\u0432\\u0435\\u0442\\u0441\\u0442\\u0432\\u0435\\u043d\\u043d\\u043e\\u0441\\u0442\\u044c\\u044e \\\"\\u041b\\u0415\\u0413\\u0410\\u0421-\\u0413\\u0420\\u0423\\u041f\\u041f\\\"\",\"\\u041e\\u0411\\u0429\\u0415\\u0421\\u0422\\u0412\\u041e \\u0421 \\u041e\\u0413\\u0420\\u0410\\u041d\\u0418\\u0427\\u0415\\u041d\\u041d\\u041e\\u0419 \\u041e\\u0422\\u0412\\u0415\\u0422\\u0421\\u0422\\u0412\\u0415\\u041d\\u041d\\u041e\\u0421\\u0422\\u042c\\u042e \\\"\\u042f\\u041c\\u0410\\u041b\\u0416\\u0418\\u041b\\u0421\\u0422\\u0420\\u041e\\u0419\\\"\",\"\\u041e\\u0411\\u0429\\u0415\\u0421\\u0422\\u0412\\u041e \\u0421 \\u041e\\u0413\\u0420\\u0410\\u041d\\u0418\\u0427\\u0415\\u041d\\u041d\\u041e\\u0419 \\u041e\\u0422\\u0412\\u0415\\u0422\\u0421\\u0422\\u0412\\u0415\\u041d\\u041d\\u041e\\u0421\\u0422\\u042c\\u042e \\\"\\u041c\\u0410\\u0422\\u0415\\u041d\\\"\",\"\\u041e\\u0431\\u0449\\u0435\\u0441\\u0442\\u0432\\u043e \\u0441 \\u043e\\u0433\\u0440\\u0430\\u043d\\u0438\\u0447\\u0435\\u043d\\u043d\\u043e\\u0439 \\u043e\\u0442\\u0432\\u0435\\u0442\\u0441\\u0442\\u0432\\u0435\\u043d\\u043d\\u043e\\u0441\\u0442\\u044c\\u044e \\\"\\u0420\\u0415\\u0413\\u0418\\u041e\\u041d\\u0410\\u041b\\u042c\\u041d\\u042b\\u0415 \\u0421\\u0422\\u0420\\u041e\\u0418\\u0422\\u0415\\u041b\\u042c\\u041d\\u042b\\u0415 \\u0422\\u0415\\u0425\\u041d\\u041e\\u041b\\u041e\\u0413\\u0418\\u0418\\\"\",\"\\u041e\\u0431\\u0449\\u0435\\u0441\\u0442\\u0432\\u043e \\u0441 \\u043e\\u0433\\u0440\\u0430\\u043d\\u0438\\u0447\\u0435\\u043d\\u043d\\u043e\\u0439 \\u043e\\u0442\\u0432\\u0435\\u0442\\u0441\\u0442\\u0432\\u0435\\u043d\\u043d\\u043e\\u0441\\u0442\\u044c\\u044e \\\"\\u0421\\u041f\\u041a-\\u0421\\u0422\\u0420\\u041e\\u0419\\\"\",\"\\u041e\\u0431\\u0449\\u0435\\u0441\\u0442\\u0432\\u043e \\u0441 \\u043e\\u0433\\u0440\\u0430\\u043d\\u0438\\u0447\\u0435\\u043d\\u043d\\u043e\\u0439 \\u043e\\u0442\\u0432\\u0435\\u0442\\u0441\\u0442\\u0432\\u0435\\u043d\\u043d\\u043e\\u0441\\u0442\\u044c\\u044e \\\"\\u0421\\u0442\\u0440\\u043e\\u0438\\u0442\\u0435\\u043b\\u044c\\u043d\\u0430\\u044f \\u043a\\u043e\\u043c\\u043f\\u0430\\u043d\\u0438\\u044f \\u042e\\u043d\\u0438\\u0442\\\"\",\"\\u041e\\u0431\\u0449\\u0435\\u0441\\u0442\\u0432\\u043e \\u0441 \\u043e\\u0433\\u0440\\u0430\\u043d\\u0438\\u0447\\u0435\\u043d\\u043d\\u043e\\u0439 \\u043e\\u0442\\u0432\\u0435\\u0442\\u0441\\u0442\\u0432\\u0435\\u043d\\u043d\\u043e\\u0441\\u0442\\u044c\\u044e \\\"\\u0417\\u0430\\u043a\\u0438\\u0434\\u043e\\u043a\\\"\",\"\\u041e\\u0411\\u0429\\u0415\\u0421\\u0422\\u0412\\u041e \\u0421 \\u041e\\u0413\\u0420\\u0410\\u041d\\u0418\\u0427\\u0415\\u041d\\u041d\\u041e\\u0419 \\u041e\\u0422\\u0412\\u0415\\u0422\\u0421\\u0422\\u0412\\u0415\\u041d\\u041d\\u041e\\u0421\\u0422\\u042c\\u042e \\\"\\u0421\\u0422\\u0420\\u041e\\u0418\\u0422\\u0415\\u041b\\u042c\\u041d\\u0410\\u042f \\u041a\\u041e\\u041c\\u041f\\u0410\\u041d\\u0418\\u042f \\u21161\\\"\",\"\\u041e\\u0411\\u0429\\u0415\\u0421\\u0422\\u0412\\u041e \\u0421 \\u041e\\u0413\\u0420\\u0410\\u041d\\u0418\\u0427\\u0415\\u041d\\u041d\\u041e\\u0419 \\u041e\\u0422\\u0412\\u0415\\u0422\\u0421\\u0422\\u0412\\u0415\\u041d\\u041d\\u041e\\u0421\\u0422\\u042c\\u042e \\\"\\u0418\\u0420\\u0410\\u0424\\u0422\\u0420\\u0410\\u041d\\u0421\\u0421\\u0422\\u0420\\u041e\\u0419\\\"\",\"\\u041e\\u0431\\u0449\\u0435\\u0441\\u0442\\u0432\\u043e \\u0441 \\u043e\\u0433\\u0440\\u0430\\u043d\\u0438\\u0447\\u0435\\u043d\\u043d\\u043e\\u0439 \\u043e\\u0442\\u0432\\u0435\\u0442\\u0441\\u0442\\u0432\\u0435\\u043d\\u043d\\u043e\\u0441\\u0442\\u044c\\u044e \\\"\\u0421\\u0422\\u0420\\u041e\\u0419\\u0422\\u0420\\u0415\\u0412\\u041b\\\"\",\"\\u041e\\u0431\\u0449\\u0435\\u0441\\u0442\\u0432\\u043e \\u0441 \\u043e\\u0433\\u0440\\u0430\\u043d\\u0438\\u0447\\u0435\\u043d\\u043d\\u043e\\u0439 \\u043e\\u0442\\u0432\\u0435\\u0442\\u0441\\u0442\\u0432\\u0435\\u043d\\u043d\\u043e\\u0441\\u0442\\u044c\\u044e \\\"\\u0421\\u0422\\u0420\\u041e\\u0419\\u041a\\u041e\\u041c\\\"\",\"\\u041e\\u0411\\u0429\\u0415\\u0421\\u0422\\u0412\\u041e \\u0421 \\u041e\\u0413\\u0420\\u0410\\u041d\\u0418\\u0427\\u0415\\u041d\\u041d\\u041e\\u0419 \\u041e\\u0422\\u0412\\u0415\\u0422\\u0421\\u0422\\u0412\\u0415\\u041d\\u041d\\u041e\\u0421\\u0422\\u042c\\u042e \\\"\\u0412\\u0418\\u041b\\u0418\\u042f\\\"\",\"\\u041e\\u0431\\u0449\\u0435\\u0441\\u0442\\u0432\\u043e \\u0441 \\u043e\\u0433\\u0440\\u0430\\u043d\\u0438\\u0447\\u0435\\u043d\\u043d\\u043e\\u0439 \\u043e\\u0442\\u0432\\u0435\\u0442\\u0441\\u0442\\u0432\\u0435\\u043d\\u043d\\u043e\\u0441\\u0442\\u044c\\u044e \\\"\\u0421\\u041f\\u0423\\u0422\\u041d\\u0418\\u041a \\u0411\\u0415\\u0417\\u041e\\u041f\\u0410\\u0421\\u041d\\u041e\\u0421\\u0422\\u0418\\\"\",\"\\u041e\\u0431\\u0449\\u0435\\u0441\\u0442\\u0432\\u043e \\u0441 \\u043e\\u0433\\u0440\\u0430\\u043d\\u0438\\u0447\\u0435\\u043d\\u043d\\u043e\\u0439 \\u043e\\u0442\\u0432\\u0435\\u0442\\u0441\\u0442\\u0432\\u0435\\u043d\\u043d\\u043e\\u0441\\u0442\\u044c\\u044e \\\"\\u0421\\u0423-111\\\"\",\"\\u041e\\u0431\\u0449\\u0435\\u0441\\u0442\\u0432\\u043e \\u0441 \\u043e\\u0433\\u0440\\u0430\\u043d\\u0438\\u0447\\u0435\\u043d\\u043d\\u043e\\u0439 \\u043e\\u0442\\u0432\\u0435\\u0442\\u0441\\u0442\\u0432\\u0435\\u043d\\u043d\\u043e\\u0441\\u0442\\u044c\\u044e \\\"\\u041e\\u0431\\u044a\\u0435\\u0434\\u0438\\u043d\\u0435\\u043d\\u043d\\u0430\\u044f \\u0421\\u0442\\u0440\\u043e\\u0438\\u0442\\u0435\\u043b\\u044c\\u043d\\u0430\\u044f \\u041a\\u043e\\u043c\\u043f\\u0430\\u043d\\u0438\\u044f\\\"\",\"\\u041e\\u0411\\u0429\\u0415\\u0421\\u0422\\u0412\\u041e \\u0421 \\u041e\\u0413\\u0420\\u0410\\u041d\\u0418\\u0427\\u0415\\u041d\\u041d\\u041e\\u0419 \\u041e\\u0422\\u0412\\u0415\\u0422\\u0421\\u0422\\u0412\\u0415\\u041d\\u041d\\u041e\\u0421\\u0422\\u042c\\u042e \\\"\\u0414\\u0418\\u041c\\u0418\\u0414\\\"\",\"\\u041e\\u0411\\u0429\\u0415\\u0421\\u0422\\u0412\\u041e \\u0421 \\u041e\\u0413\\u0420\\u0410\\u041d\\u0418\\u0427\\u0415\\u041d\\u041d\\u041e\\u0419 \\u041e\\u0422\\u0412\\u0415\\u0422\\u0421\\u0422\\u0412\\u0415\\u041d\\u041d\\u041e\\u0421\\u0422\\u042c\\u042e \\\"\\u0421\\u041f\\u0415\\u0426\\u0418\\u0410\\u041b\\u0418\\u0417\\u0418\\u0420\\u041e\\u0412\\u0410\\u041d\\u041d\\u042b\\u0419 \\u0417\\u0410\\u0421\\u0422\\u0420\\u041e\\u0419\\u0429\\u0418\\u041a \\\"\\u0420\\u0423\\u0421\\u0421\\u0422\\u0420\\u041e\\u0419\\u0413\\u0420\\u0423\\u041f\\\"\",\"\\u041e\\u041e\\u041e \\\"\\u0410\\u0413\\u0420\\u041e\\u0421\\u041f\\u0415\\u0426\\u041c\\u041e\\u041d\\u0422\\u0410\\u0416\\\"\",\"\\u041e\\u0431\\u0449\\u0435\\u0441\\u0442\\u0432\\u043e \\u0441 \\u043e\\u0433\\u0440\\u0430\\u043d\\u0438\\u0447\\u0435\\u043d\\u043d\\u043e\\u0439 \\u043e\\u0442\\u0432\\u0435\\u0442\\u0441\\u0442\\u0432\\u0435\\u043d\\u043d\\u043e\\u0441\\u0442\\u044c\\u044e \\\"\\u0421\\u0442\\u0440\\u043e\\u0438\\u0442\\u0435\\u043b\\u044c\\u043d\\u0430\\u044f \\u043a\\u043e\\u043c\\u043f\\u0430\\u043d\\u0438\\u044f \\\"\\u041c\\u0438\\u0440\\\"\",\"\\u041e\\u0431\\u0449\\u0435\\u0441\\u0442\\u0432\\u043e \\u0441 \\u043e\\u0433\\u0440\\u0430\\u043d\\u0438\\u0447\\u0435\\u043d\\u043d\\u043e\\u0439 \\u043e\\u0442\\u0432\\u0435\\u0442\\u0441\\u0442\\u0432\\u0435\\u043d\\u043d\\u043e\\u0441\\u0442\\u044c\\u044e \\\"\\u041f\\u041b\\u0413 \\u0421\\u0422\\u0420\\u041e\\u0419\\\"\",\"\\u041e\\u0411\\u0429\\u0415\\u0421\\u0422\\u0412\\u041e \\u0421 \\u041e\\u0413\\u0420\\u0410\\u041d\\u0418\\u0427\\u0415\\u041d\\u041d\\u041e\\u0419 \\u041e\\u0422\\u0412\\u0415\\u0422\\u0421\\u0422\\u0412\\u0415\\u041d\\u041d\\u041e\\u0421\\u0422\\u042c\\u042e \\\"\\u041f\\u0420\\u041e\\u0415\\u041a\\u0422\\u041d\\u041e-\\u0421\\u0422\\u0420\\u041e\\u0418\\u0422\\u0415\\u041b\\u042c\\u041d\\u0410\\u042f \\u041a\\u041e\\u041c\\u041f\\u0410\\u041d\\u0418\\u042f \\u0421\\u041f\\u0415\\u0426\\u0413\\u0415\\u041e\\u041f\\u0420\\u041e\\u0415\\u041a\\u0422\\\"\",\"\\u041e\\u0431\\u0449\\u0435\\u0441\\u0442\\u0432\\u043e \\u0441 \\u043e\\u0433\\u0440\\u0430\\u043d\\u0438\\u0447\\u0435\\u043d\\u043d\\u043e\\u0439 \\u043e\\u0442\\u0432\\u0435\\u0442\\u0441\\u0442\\u0432\\u0435\\u043d\\u043d\\u043e\\u0441\\u0442\\u044c\\u044e \\\"\\u0411\\u043b\\u0430\\u0433\\u043e\\u0443\\u0441\\u0442\\u0440\\u043e\\u0439\\u0441\\u0442\\u0432\\u043e \\u0420\\u0435\\u043c\\u043e\\u043d\\u0442 \\u0438 \\u0421\\u0442\\u0440\\u043e\\u0438\\u0442\\u0435\\u043b\\u044c\\u0441\\u0442\\u0432\\u043e\\\"\",\"\\u041e\\u0431\\u0449\\u0435\\u0441\\u0442\\u0432\\u043e \\u0441 \\u043e\\u0433\\u0440\\u0430\\u043d\\u0438\\u0447\\u0435\\u043d\\u043d\\u043e\\u0439 \\u043e\\u0442\\u0432\\u0435\\u0442\\u0441\\u0442\\u0432\\u0435\\u043d\\u043d\\u043e\\u0441\\u0442\\u044c\\u044e \\\"\\u0421\\u0422\\u0420\\u041e\\u0419\\u0413\\u0420\\u0410\\u0414\\\"\",\"\\u041e\\u0431\\u0449\\u0435\\u0441\\u0442\\u0432\\u043e \\u0441 \\u043e\\u0433\\u0440\\u0430\\u043d\\u0438\\u0447\\u0435\\u043d\\u043d\\u043e\\u0439 \\u043e\\u0442\\u0432\\u0435\\u0442\\u0441\\u0442\\u0432\\u0435\\u043d\\u043d\\u043e\\u0441\\u0442\\u044c\\u044e \\u043f\\u0440\\u043e\\u0438\\u0437\\u0432\\u043e\\u0434\\u0441\\u0442\\u0432\\u0435\\u043d\\u043d\\u043e-\\u043a\\u043e\\u043c\\u043c\\u0435\\u0440\\u0447\\u0435\\u0441\\u043a\\u0430\\u044f \\u0444\\u0438\\u0440\\u043c\\u0430 \\\"\\u0410\\u0433\\u0440\\u043e\\u0441\\u0435\\u0440\\u0432\\u0438\\u0441\\\"\",\"\\u041e\\u0431\\u0449\\u0435\\u0441\\u0442\\u0432\\u043e \\u0441 \\u043e\\u0433\\u0440\\u0430\\u043d\\u0438\\u0447\\u0435\\u043d\\u043d\\u043e\\u0439 \\u043e\\u0442\\u0432\\u0435\\u0442\\u0441\\u0442\\u0432\\u0435\\u043d\\u043d\\u043e\\u0441\\u0442\\u044c\\u044e \\\"\\u0421\\u041a \\u0418\\u041d\\u0416\\u0418\\u041d\\u0418\\u0420\\u0418\\u041d\\u0413\\\"\",\"\\u041e\\u0411\\u0429\\u0415\\u0421\\u0422\\u0412\\u041e \\u0421 \\u041e\\u0413\\u0420\\u0410\\u041d\\u0418\\u0427\\u0415\\u041d\\u041d\\u041e\\u0419 \\u041e\\u0422\\u0412\\u0415\\u0422\\u0421\\u0422\\u0412\\u0415\\u041d\\u041d\\u041e\\u0421\\u0422\\u042c\\u042e \\\"\\u041f\\u0415\\u0420\\u041b\\u0418\\u0422-\\u0421\\u0422\\u0420\\u041e\\u0419\\\" (\\u041e\\u041e\\u041e \\\"\\u041f\\u0415\\u0420\\u041b\\u0418\\u0422-\\u0421\\u0422\\u0420\\u041e\\u0419\\\")\",\"\\u0410\\u043a\\u0446\\u0438\\u043e\\u043d\\u0435\\u0440\\u043d\\u043e\\u0435 \\u043e\\u0431\\u0449\\u0435\\u0441\\u0442\\u0432\\u043e \\\"\\u041a\\u041e\\u0428\\u0415\\u041b\\u0415\\u0412-\\u041f\\u0420\\u041e\\u0415\\u041a\\u0422\\\"\",\"\\u041e\\u0431\\u0449\\u0435\\u0441\\u0442\\u0432\\u043e \\u0441 \\u043e\\u0433\\u0440\\u0430\\u043d\\u0438\\u0447\\u0435\\u043d\\u043d\\u043e\\u0439 \\u043e\\u0442\\u0432\\u0435\\u0442\\u0441\\u0442\\u0432\\u0435\\u043d\\u043d\\u043e\\u0441\\u0442\\u044c\\u044e \\\"\\u0410\\u0437\\u0431\\u0443\\u043a\\u0430 \\u0421\\u0442\\u0440\\u043e\\u0439\\\"\",\"\\u041e\\u0411\\u0429\\u0415\\u0421\\u0422\\u0412\\u041e \\u0421 \\u041e\\u0413\\u0420\\u0410\\u041d\\u0418\\u0427\\u0415\\u041d\\u041d\\u041e\\u0419 \\u041e\\u0422\\u0412\\u0415\\u0422\\u0421\\u0422\\u0412\\u0415\\u041d\\u041d\\u041e\\u0421\\u0422\\u042c\\u042e \\u0421\\u041f\\u0415\\u0426\\u0418\\u0410\\u041b\\u0418\\u0417\\u0418\\u0420\\u041e\\u0412\\u0410\\u041d\\u041d\\u042b\\u0419 \\u0417\\u0410\\u0421\\u0422\\u0420\\u041e\\u0419\\u0429\\u0418\\u041a \\\"\\u0421\\u0422\\u0420\\u041e\\u0418\\u0422\\u0415\\u041b\\u042c\\u041d\\u0410\\u042f \\u041a\\u041e\\u041c\\u041f\\u0410\\u041d\\u0418\\u042f \\\"\\u0421\\u041e\\u0417\\u0418\\u0414\\u0410\\u041d\\u0418\\u0415\\\"\",\"\\u041e\\u0431\\u0449\\u0435\\u0441\\u0442\\u0432\\u043e \\u0441 \\u043e\\u0433\\u0440\\u0430\\u043d\\u0438\\u0447\\u0435\\u043d\\u043d\\u043e\\u0439 \\u043e\\u0442\\u0432\\u0435\\u0442\\u0441\\u0442\\u0432\\u0435\\u043d\\u043d\\u043e\\u0441\\u0442\\u044c\\u044e \\\"\\u0413\\u0420\\u0410\\u0416\\u0414\\u0410\\u041d\\u0420\\u0415\\u041c\\u0421\\u0422\\u0420\\u041e\\u0419\\\"\",\"\\u041e\\u0411\\u0429\\u0415\\u0421\\u0422\\u0412\\u041e \\u0421 \\u041e\\u0413\\u0420\\u0410\\u041d\\u0418\\u0427\\u0415\\u041d\\u041d\\u041e\\u0419 \\u041e\\u0422\\u0412\\u0415\\u0422\\u0421\\u0422\\u0412\\u0415\\u041d\\u041d\\u041e\\u0421\\u0422\\u042c\\u042e \\\"\\u0410\\u041b\\u042c\\u0413\\u0415\\u0411\\u0410\\\"\",\"\\u041e\\u0411\\u0429\\u0415\\u0421\\u0422\\u0412\\u041e \\u0421 \\u041e\\u0413\\u0420\\u0410\\u041d\\u0418\\u0427\\u0415\\u041d\\u041d\\u041e\\u0419 \\u041e\\u0422\\u0412\\u0415\\u0422\\u0421\\u0422\\u0412\\u0415\\u041d\\u041d\\u041e\\u0421\\u0422\\u042c\\u042e \\\"\\u0421\\u041f\\u0415\\u0426\\u041c\\u041e\\u041d\\u0422\\u0410\\u0416\\u0421\\u0422\\u0420\\u041e\\u0419\\\"\",\"\\u041e\\u0431\\u0449\\u0435\\u0441\\u0442\\u0432\\u043e \\u0441 \\u043e\\u0433\\u0440\\u0430\\u043d\\u0438\\u0447\\u0435\\u043d\\u043d\\u043e\\u0439 \\u043e\\u0442\\u0432\\u0435\\u0442\\u0441\\u0442\\u0432\\u0435\\u043d\\u043d\\u043e\\u0441\\u0442\\u044c\\u044e \\\"\\u0421\\u0422\\u0420\\u041e\\u0419\\u0421\\u0415\\u0420\\u0412\\u0418\\u0421-\\u0426\\u0415\\u041d\\u0422\\u0420\\\"\",\"\\u041e\\u0431\\u0449\\u0435\\u0441\\u0442\\u0432\\u043e \\u0441 \\u043e\\u0433\\u0440\\u0430\\u043d\\u0438\\u0447\\u0435\\u043d\\u043d\\u043e\\u0439 \\u043e\\u0442\\u0432\\u0435\\u0442\\u0441\\u0442\\u0432\\u0435\\u043d\\u043d\\u043e\\u0441\\u0442\\u044c\\u044e \\u0421\\u0422\\u0420\\u041e\\u0418\\u0422\\u0415\\u041b\\u042c\\u041d\\u041e-\\u041c\\u041e\\u041d\\u0422\\u0410\\u0416\\u041d\\u0410\\u042f \\u041a\\u041e\\u041c\\u041f\\u0410\\u041d\\u0418\\u042f \\\"\\u042d\\u041d\\u0415\\u0420\\u0413\\u041e\\u0421\\u0418\\u041b\\u0410\\\"\",\"\\u041e\\u0411\\u0429\\u0415\\u0421\\u0422\\u0412\\u041e \\u0421 \\u041e\\u0413\\u0420\\u0410\\u041d\\u0418\\u0427\\u0415\\u041d\\u041d\\u041e\\u0419 \\u041e\\u0422\\u0412\\u0415\\u0422\\u0421\\u0422\\u0412\\u0415\\u041d\\u041d\\u041e\\u0421\\u0422\\u042c\\u042e \\\"\\u0421\\u0422\\u0410\\u041d\\u0414\\u0410\\u0420\\u0422\\\"\",\"\\u041e\\u0411\\u0429\\u0415\\u0421\\u0422\\u0412\\u041e \\u0421 \\u041e\\u0413\\u0420\\u0410\\u041d\\u0418\\u0427\\u0415\\u041d\\u041d\\u041e\\u0419 \\u041e\\u0422\\u0412\\u0415\\u0422\\u0421\\u0422\\u0412\\u0415\\u041d\\u041d\\u041e\\u0421\\u0422\\u042c\\u042e \\\"\\u0418\\u041d\\u0416\\u0418\\u041d\\u0418\\u0420\\u0418\\u041d\\u0413\\u041e\\u0412\\u0410\\u042f \\u041a\\u041e\\u041c\\u041f\\u0410\\u041d\\u0418\\u042f \\\"\\u0421\\u0410\\u041d\\u041b\\u0410\\u0419\\u041d\\\"\",\"\\u041e\\u041e\\u041e \\u041e\\u0421\\u0422\\u041e\\u0412\",\"\\u041e\\u0431\\u0449\\u0435\\u0441\\u0442\\u0432\\u043e \\u0441 \\u043e\\u0433\\u0440\\u0430\\u043d\\u0438\\u0447\\u0435\\u043d\\u043d\\u043e\\u0439 \\u043e\\u0442\\u0432\\u0435\\u0442\\u0441\\u0442\\u0432\\u0435\\u043d\\u043d\\u043e\\u0441\\u0442\\u044c\\u044e \\\"\\u041b\\u0410\\u041d\\u0414\\u0428\\u0410\\u0424\\u0422\\u041f\\u0420\\u041e\\u0415\\u041a\\u0422\\\"\",\"\\u041e\\u041e\\u041e \\\"\\u041b\\u0421\\u0422\\u041a \\u041a\\u0420\\u0410\\u0421\\u041d\\u041e\\u042f\\u0420\\u0421\\u041a\\\"\",\"\\u041e\\u0411\\u0429\\u0415\\u0421\\u0422\\u0412\\u041e \\u0421 \\u041e\\u0413\\u0420\\u0410\\u041d\\u0418\\u0427\\u0415\\u041d\\u041d\\u041e\\u0419 \\u041e\\u0422\\u0412\\u0415\\u0422\\u0421\\u0422\\u0412\\u0415\\u041d\\u041d\\u041e\\u0421\\u0422\\u042c\\u042e \\\"\\u041a\\u041e\\u041c\\u041f\\u0410\\u041d\\u0418\\u042f \\\"\\u041c\\u0410\\u0420\\u0421\\u0418\\u041d\\\"\",\"\\u041e\\u0431\\u0449\\u0435\\u0441\\u0442\\u0432\\u043e \\u0441 \\u043e\\u0433\\u0440\\u0430\\u043d\\u0438\\u0447\\u0435\\u043d\\u043d\\u043e\\u0439 \\u043e\\u0442\\u0432\\u0435\\u0442\\u0441\\u0442\\u0432\\u0435\\u043d\\u043d\\u043e\\u0441\\u0442\\u044c\\u044e \\\"\\u0421\\u0422\\u0420\\u041e\\u0419-\\u0421\\u0422\\u041a\\\"\",\"\\u041e\\u0431\\u0449\\u0435\\u0441\\u0442\\u0432\\u043e \\u0441 \\u043e\\u0433\\u0440\\u0430\\u043d\\u0438\\u0447\\u0435\\u043d\\u043d\\u043e\\u0439 \\u043e\\u0442\\u0432\\u0435\\u0442\\u0441\\u0442\\u0432\\u0435\\u043d\\u043d\\u043e\\u0441\\u0442\\u044c\\u044e \\\"\\u0424\\u0435\\u0440\\u0440\\u043e\\u0441\\u0442\\u0440\\u043e\\u0439\\u043c\\u043e\\u043d\\u0442\\u0430\\u0436\\\"\",\"\\u041e\\u0431\\u0449\\u0435\\u0441\\u0442\\u0432\\u043e \\u0441 \\u043e\\u0433\\u0440\\u0430\\u043d\\u0438\\u0447\\u0435\\u043d\\u043d\\u043e\\u0439 \\u043e\\u0442\\u0432\\u0435\\u0442\\u0441\\u0442\\u0432\\u0435\\u043d\\u043d\\u043e\\u0441\\u0442\\u044c\\u044e \\\"\\u041b\\u0418\\u0414\\u0415\\u0420-\\u0421\\u0422\\u0420\\u041e\\u0419\\\"\",\"\\u041e\\u0431\\u0449\\u0435\\u0441\\u0442\\u0432\\u043e \\u0441 \\u043e\\u0433\\u0440\\u0430\\u043d\\u0438\\u0447\\u0435\\u043d\\u043d\\u043e\\u0439 \\u043e\\u0442\\u0432\\u0435\\u0442\\u0441\\u0442\\u0432\\u0435\\u043d\\u043d\\u043e\\u0441\\u0442\\u044c\\u044e \\\"\\u0425\\u0418\\u041b\\u0422\\u0415\\u041a\\\"\",\"\\u041e\\u0431\\u0449\\u0435\\u0441\\u0442\\u0432\\u043e \\u0441 \\u043e\\u0433\\u0440\\u0430\\u043d\\u0438\\u0447\\u0435\\u043d\\u043d\\u043e\\u0439 \\u043e\\u0442\\u0432\\u0435\\u0442\\u0441\\u0442\\u0432\\u0435\\u043d\\u043d\\u043e\\u0441\\u0442\\u044c\\u044e \\\"\\u0421\\u0430\\u043d\\u043b\\u0430\\u0439\\u043d-\\u0421\\u0442\\u0440\\u043e\\u0439\\\"\",\"\\u041e\\u0431\\u0449\\u0435\\u0441\\u0442\\u0432\\u043e \\u0441 \\u043e\\u0433\\u0440\\u0430\\u043d\\u0438\\u0447\\u0435\\u043d\\u043d\\u043e\\u0439 \\u043e\\u0442\\u0432\\u0435\\u0442\\u0441\\u0442\\u0432\\u0435\\u043d\\u043d\\u043e\\u0441\\u0442\\u044c\\u044e \\\" \\u0411\\u0430\\u043b\\u0442\\u0422\\u0435\\u0445\\u0421\\u0442\\u0440\\u043e\\u0439\\\"\",\"\\u0410\\u041a\\u0426\\u0418\\u041e\\u041d\\u0415\\u0420\\u041d\\u041e\\u0415 \\u041e\\u0411\\u0429\\u0415\\u0421\\u0422\\u0412\\u041e \\\"\\u041f\\u0422\\u0421\\\"\",\"\\u041e\\u0411\\u0429\\u0415\\u0421\\u0422\\u0412\\u041e \\u0421 \\u041e\\u0413\\u0420\\u0410\\u041d\\u0418\\u0427\\u0415\\u041d\\u041d\\u041e\\u0419 \\u041e\\u0422\\u0412\\u0415\\u0422\\u0421\\u0422\\u0412\\u0415\\u041d\\u041d\\u041e\\u0421\\u0422\\u042c\\u042e \\\"\\u0426\\u0415\\u041d\\u0422\\u0420 \\u0418\\u041d\\u0424\\u0420\\u0410\\u0421\\u0422\\u0420\\u0423\\u041a\\u0422\\u0423\\u0420\\u041d\\u041e\\u0413\\u041e \\u0421\\u0422\\u0420\\u041e\\u0418\\u0422\\u0415\\u041b\\u042c\\u0421\\u0422\\u0412\\u0410\\\"\",\"\\u041e\\u041e\\u041e \\\"\\u0424\\u041e\\u0420\\u041c\\u0423\\u041b\\u0410 \\u041b\\u042c\\u0414\\u0410\\\"\",\"\\u041e\\u0431\\u0449\\u0435\\u0441\\u0442\\u0432\\u043e \\u0441 \\u043e\\u0433\\u0440\\u0430\\u043d\\u0438\\u0447\\u0435\\u043d\\u043d\\u043e\\u0439 \\u043e\\u0442\\u0432\\u0435\\u0442\\u0441\\u0442\\u0432\\u0435\\u043d\\u043d\\u043e\\u0441\\u0442\\u044c\\u044e \\\"\\u0410\\u041f\\u0418\\u0421 \\u0421\\u0422\\u0420\\u041e\\u0419\\\"\",\"\\u041e\\u0431\\u0449\\u0435\\u0441\\u0442\\u0432\\u043e \\u0441 \\u043e\\u0433\\u0440\\u0430\\u043d\\u0438\\u0447\\u0435\\u043d\\u043d\\u043e\\u0439 \\u043e\\u0442\\u0432\\u0435\\u0442\\u0441\\u0442\\u0432\\u0435\\u043d\\u043d\\u043e\\u0441\\u0442\\u044c\\u044e \\\"\\u0414\\u0418\\u0410\\u041a\\u041e\\u041d\\\"\",\"\\u0410\\u043a\\u0446\\u0438\\u043e\\u043d\\u0435\\u0440\\u043d\\u043e\\u0435 \\u043e\\u0431\\u0449\\u0435\\u0441\\u0442\\u0432\\u043e \\\"\\u0421\\u043f\\u0435\\u0446\\u0438\\u0430\\u043b\\u0438\\u0437\\u0438\\u0440\\u043e\\u0432\\u0430\\u043d\\u043d\\u044b\\u0439 \\u0437\\u0430\\u0441\\u0442\\u0440\\u043e\\u0439\\u0449\\u0438\\u043a \\\"\\u0418\\u043d\\u043a\\u043e\\u0441\\u0442\\\"\",\"\\u041e\\u0431\\u0449\\u0435\\u0441\\u0442\\u0432\\u043e \\u0441 \\u043e\\u0433\\u0440\\u0430\\u043d\\u0438\\u0447\\u0435\\u043d\\u043d\\u043e\\u0439 \\u043e\\u0442\\u0432\\u0435\\u0442\\u0441\\u0442\\u0432\\u0435\\u043d\\u043d\\u043e\\u0441\\u0442\\u044c\\u044e \\\"\\u041d\\u0415\\u0421\\u0422 \\u0422\\u0415\\u0425\\u041d\\u041e\\\"\",\"\\u041e\\u0431\\u0449\\u0435\\u0441\\u0442\\u0432\\u043e \\u0441 \\u043e\\u0433\\u0440\\u0430\\u043d\\u0438\\u0447\\u0435\\u043d\\u043d\\u043e\\u0439 \\u043e\\u0442\\u0432\\u0435\\u0442\\u0441\\u0442\\u0432\\u0435\\u043d\\u043d\\u043e\\u0441\\u0442\\u044c\\u044e \\\"\\u041c\\u043e\\u043d\\u043e\\u043b\\u0438\\u0442-\\u0421\\u0442\\u0440\\u043e\\u0439\\\"\",\"\\u041e\\u0431\\u0449\\u0435\\u0441\\u0442\\u0432\\u043e \\u0441 \\u043e\\u0433\\u0440\\u0430\\u043d\\u0438\\u0447\\u0435\\u043d\\u043d\\u043e\\u0439 \\u043e\\u0442\\u0432\\u0435\\u0442\\u0441\\u0442\\u0432\\u0435\\u043d\\u043d\\u043e\\u0441\\u0442\\u044c\\u044e \\u0421\\u041f\\u0415\\u0426\\u0418\\u0410\\u041b\\u0418\\u0417\\u0418\\u0420\\u041e\\u0412\\u0410\\u041d\\u041d\\u042b\\u0419 \\u0417\\u0410\\u0421\\u0422\\u0420\\u041e\\u0419\\u0429\\u0418\\u041a \\\"\\u041a\\u041e\\u0422\\u0415\\u041b\\u042c\\u041d\\u0418\\u041a\\u0418\\\"\",\"\\u041e\\u0411\\u0429\\u0415\\u0421\\u0422\\u0412\\u041e \\u0421 \\u041e\\u0413\\u0420\\u0410\\u041d\\u0418\\u0427\\u0415\\u041d\\u041d\\u041e\\u0419 \\u041e\\u0422\\u0412\\u0415\\u0422\\u0421\\u0422\\u0412\\u0415\\u041d\\u041d\\u041e\\u0421\\u0422\\u042c\\u042e \\\"\\u0410\\u041b\\u042c\\u042f\\u041d\\u0421\\u0421\\u0422\\u0420\\u041e\\u0419\\u041a\\u041e\\u041c\\\"\",\"\\u041e\\u0431\\u0449\\u0435\\u0441\\u0442\\u0432\\u043e \\u0441 \\u043e\\u0433\\u0440\\u0430\\u043d\\u0438\\u0447\\u0435\\u043d\\u043d\\u043e\\u0439 \\u043e\\u0442\\u0432\\u0435\\u0442\\u0441\\u0442\\u0432\\u0435\\u043d\\u043d\\u043e\\u0441\\u0442\\u044c\\u044e \\\"\\u042e\\u0436\\u043d\\u0430\\u044f \\u0441\\u0442\\u0440\\u043e\\u0438\\u0442\\u0435\\u043b\\u044c\\u043d\\u0430\\u044f \\u043a\\u043e\\u043c\\u043f\\u0430\\u043d\\u0438\\u044f\\\"\",\"\\u041e\\u0431\\u0449\\u0435\\u0441\\u0442\\u0432\\u043e \\u0441 \\u043e\\u0433\\u0440\\u0430\\u043d\\u0438\\u0447\\u0435\\u043d\\u043d\\u043e\\u0439 \\u043e\\u0442\\u0432\\u0435\\u0442\\u0441\\u0442\\u0432\\u0435\\u043d\\u043d\\u043e\\u0441\\u0442\\u044c\\u044e \\\"\\u0424\\u0435\\u043d\\u0438\\u043a\\u0441\\\"\",\"\\u041e\\u0411\\u0429\\u0415\\u0421\\u0422\\u0412\\u041e \\u0421 \\u041e\\u0413\\u0420\\u0410\\u041d\\u0418\\u0427\\u0415\\u041d\\u041d\\u041e\\u0419 \\u041e\\u0422\\u0412\\u0415\\u0422\\u0421\\u0422\\u0412\\u0415\\u041d\\u041d\\u041e\\u0421\\u0422\\u042c\\u042e \\\"\\u0412\\u041e\\u0417\\u0420\\u041e\\u0416\\u0414\\u0415\\u041d\\u0418\\u0415\\\"\",\"\\u041e\\u0431\\u0449\\u0435\\u0441\\u0442\\u0432\\u043e \\u0441 \\u043e\\u0433\\u0440\\u0430\\u043d\\u0438\\u0447\\u0435\\u043d\\u043d\\u043e\\u0439 \\u043e\\u0442\\u0432\\u0435\\u0442\\u0441\\u0442\\u0432\\u0435\\u043d\\u043d\\u043e\\u0441\\u0442\\u044c\\u044e \\\"\\u041d\\u0410\\u0413\\u0412\\u0410\\u041b\\u042c \\u0421\\u0422\\u0420\\u041e\\u0419\\u0422\\u0415\\u0425\\\"\",\"\\u041e\\u0431\\u0449\\u0435\\u0441\\u0442\\u0432\\u043e \\u0441 \\u043e\\u0433\\u0440\\u0430\\u043d\\u0438\\u0447\\u0435\\u043d\\u043d\\u043e\\u0439 \\u043e\\u0442\\u0432\\u0435\\u0442\\u0441\\u0442\\u0432\\u0435\\u043d\\u043d\\u043e\\u0441\\u0442\\u044c\\u044e \\\"\\u0413\\u041a \\u0410\\u0421\\u0422\\\"\",\"\\u041e\\u0431\\u0449\\u0435\\u0441\\u0442\\u0432\\u043e \\u0441 \\u043e\\u0433\\u0440\\u0430\\u043d\\u0438\\u0447\\u0435\\u043d\\u043d\\u043e\\u0439 \\u043e\\u0442\\u0432\\u0435\\u0442\\u0441\\u0442\\u0432\\u0435\\u043d\\u043d\\u043e\\u0441\\u0442\\u044c\\u044e \\\"\\u041f\\u0430\\u0440\\u043c\\u0430\\\"\",\"\\u041e\\u0431\\u0449\\u0435\\u0441\\u0442\\u0432\\u043e \\u0441 \\u043e\\u0433\\u0440\\u0430\\u043d\\u0438\\u0447\\u0435\\u043d\\u043d\\u043e\\u0439 \\u043e\\u0442\\u0432\\u0435\\u0442\\u0441\\u0442\\u0432\\u0435\\u043d\\u043d\\u043e\\u0441\\u0442\\u044c\\u044e \\\"\\u0413\\u043a\\u043c \\u0418\\u043d\\u0436\\u0438\\u043d\\u0438\\u0440\\u0438\\u043d\\u0433\\\"\",\"\\u041e\\u0411\\u0429\\u0415\\u0421\\u0422\\u0412\\u041e \\u0421 \\u041e\\u0413\\u0420\\u0410\\u041d\\u0418\\u0427\\u0415\\u041d\\u041d\\u041e\\u0419 \\u041e\\u0422\\u0412\\u0415\\u0422\\u0421\\u0422\\u0412\\u0415\\u041d\\u041d\\u041e\\u0421\\u0422\\u042c\\u042e \\\"\\u0421\\u0422\\u0420\\u041e\\u0418\\u0422\\u0415\\u041b\\u042c\\u041d\\u041e\\u0415 \\u0423\\u041f\\u0420\\u0410\\u0412\\u041b\\u0415\\u041d\\u0418\\u0415 \\u2116 7 \\u0424\\u0423\\u041d\\u0414\\u0410\\u041c\\u0415\\u041d\\u0422\\u0421\\u0422\\u0420\\u041e\\u0419\\\"\",\"\\u041e\\u0431\\u0449\\u0435\\u0441\\u0442\\u0432\\u043e \\u0441 \\u043e\\u0433\\u0440\\u0430\\u043d\\u0438\\u0447\\u0435\\u043d\\u043d\\u043e\\u0439 \\u043e\\u0442\\u0432\\u0435\\u0442\\u0441\\u0442\\u0432\\u0435\\u043d\\u043d\\u043e\\u0441\\u0442\\u044c\\u044e \\\"\\u0421\\u0422\\u0420\\u041e\\u0419 \\u0425\\u041e\\u041b\\u0414\\u0418\\u041d\\u0413\\\"\",\"\\u041e\\u0431\\u0449\\u0435\\u0441\\u0442\\u0432\\u043e \\u0441 \\u043e\\u0433\\u0440\\u0430\\u043d\\u0438\\u0447\\u0435\\u043d\\u043d\\u043e\\u0439 \\u043e\\u0442\\u0432\\u0435\\u0442\\u0441\\u0442\\u0432\\u0435\\u043d\\u043d\\u043e\\u0441\\u0442\\u044c\\u044e \\\"\\u042d\\u041b\\u042c\\u0411\\u0420\\u0423\\u0421\\\"\",\"\\u041e\\u041e\\u041e \\\"\\u0421\\u0422\\u0420\\u041e\\u0419\\u041a\\u0410\\u041f\\u0418\\u0422\\u0410\\u041b\\u0418\\u041d\\u0412\\u0415\\u0421\\u0422\\\"\",\"\\u041e\\u0411\\u0429\\u0415\\u0421\\u0422\\u0412\\u041e \\u0421 \\u041e\\u0413\\u0420\\u0410\\u041d\\u0418\\u0427\\u0415\\u041d\\u041d\\u041e\\u0419 \\u041e\\u0422\\u0412\\u0415\\u0422\\u0421\\u0422\\u0412\\u0415\\u041d\\u041d\\u041e\\u0421\\u0422\\u042c\\u042e \\\"\\u0410\\u0420\\u041a\\u0422\\u0418\\u041a\\u042d\\u041d\\u0415\\u0420\\u0413\\u041e\\u0421\\u0422\\u0420\\u041e\\u0419\\\"\",\"\\u041e\\u0431\\u0449\\u0435\\u0441\\u0442\\u0432\\u043e \\u0441 \\u043e\\u0433\\u0440\\u0430\\u043d\\u0438\\u0447\\u0435\\u043d\\u043d\\u043e\\u0439 \\u043e\\u0442\\u0432\\u0435\\u0442\\u0441\\u0442\\u0432\\u0435\\u043d\\u043d\\u043e\\u0441\\u0442\\u044c\\u044e \\\"\\u0421\\u0442\\u0440\\u043e\\u0438\\u0442\\u0435\\u043b\\u044c\\u043d\\u0430\\u044f \\u043a\\u043e\\u043c\\u043f\\u0430\\u043d\\u0438\\u044f \\\"\\u042d\\u0434\\u0435\\u043b\\u044c\\u0432\\u0435\\u0439\\u0441\\\"\",\"\\u041e\\u0431\\u0449\\u0435\\u0441\\u0442\\u0432\\u043e \\u0441 \\u043e\\u0433\\u0440\\u0430\\u043d\\u0438\\u0447\\u0435\\u043d\\u043d\\u043e\\u0439 \\u043e\\u0442\\u0432\\u0435\\u0442\\u0441\\u0442\\u0432\\u0435\\u043d\\u043d\\u043e\\u0441\\u0442\\u044c\\u044e \\\"\\u041c\\u0415\\u0416\\u0414\\u0423\\u041d\\u0410\\u0420\\u041e\\u0414\\u041d\\u0410\\u042f \\u0421\\u0422\\u0420\\u041e\\u0418\\u0422\\u0415\\u041b\\u042c\\u041d\\u0410\\u042f \\u041a\\u041e\\u041c\\u041f\\u0410\\u041d\\u0418\\u042f\\\"\",\"\\u041e\\u0431\\u0449\\u0435\\u0441\\u0442\\u0432\\u043e \\u0441 \\u043e\\u0433\\u0440\\u0430\\u043d\\u0438\\u0447\\u0435\\u043d\\u043d\\u043e\\u0439 \\u043e\\u0442\\u0432\\u0435\\u0442\\u0441\\u0442\\u0432\\u0435\\u043d\\u043d\\u043e\\u0441\\u0442\\u044c\\u044e \\\"\\u041c\\u0418\\u0413\\\"\",\"\\u041e\\u041e\\u041e \\\"\\u0414\\u0415\\u041a\\u041e\\u0420\\\"\",\"\\u041e\\u0411\\u0429\\u0415\\u0421\\u0422\\u0412\\u041e \\u0421 \\u041e\\u0413\\u0420\\u0410\\u041d\\u0418\\u0427\\u0415\\u041d\\u041d\\u041e\\u0419 \\u041e\\u0422\\u0412\\u0415\\u0422\\u0421\\u0422\\u0412\\u0415\\u041d\\u041d\\u041e\\u0421\\u0422\\u042c\\u042e \\\"\\u0421\\u0422\\u0420\\u041e\\u0419\\u041f\\u0420\\u041e\\u041c\\u0422\\u041e\\u0420\\u0413\\\"\",\"\\u0410\\u043a\\u0446\\u0438\\u043e\\u043d\\u0435\\u0440\\u043d\\u043e\\u0435 \\u043e\\u0431\\u0449\\u0435\\u0441\\u0442\\u0432\\u043e \\\"\\u0410\\u0433\\u0440\\u043e\\u0442\\u0435\\u0445\\u0438\\u043c\\u043f\\u043e\\u0440\\u0442\\\"\",\"\\u041e\\u0431\\u0449\\u0435\\u0441\\u0442\\u0432\\u043e \\u0441 \\u043e\\u0433\\u0440\\u0430\\u043d\\u0438\\u0447\\u0435\\u043d\\u043d\\u043e\\u0439 \\u043e\\u0442\\u0432\\u0435\\u0442\\u0441\\u0442\\u0432\\u0435\\u043d\\u043d\\u043e\\u0441\\u0442\\u044c\\u044e \\\"\\u0421\\u0422\\u0424-\\u0422\\u0415\\u0425\\u041d\\u041e\\u041b\\u041e\\u0414\\u0416\\u0418\\\"\",\"\\u041e\\u0431\\u0449\\u0435\\u0441\\u0442\\u0432\\u043e \\u0441 \\u043e\\u0433\\u0440\\u0430\\u043d\\u0438\\u0447\\u0435\\u043d\\u043d\\u043e\\u0439 \\u043e\\u0442\\u0432\\u0435\\u0442\\u0441\\u0442\\u0432\\u0435\\u043d\\u043d\\u043e\\u0441\\u0442\\u044c\\u044e \\\"\\u041f\\u0415\\u0422\\u0420\\u041e\\u041f\\u041e\\u041b\\u0418\\u0421\\\"\",\"\\u041e\\u0431\\u0449\\u0435\\u0441\\u0442\\u0432\\u043e \\u0441 \\u043e\\u0433\\u0440\\u0430\\u043d\\u0438\\u0447\\u0435\\u043d\\u043d\\u043e\\u0439 \\u043e\\u0442\\u0432\\u0435\\u0442\\u0441\\u0442\\u0432\\u0435\\u043d\\u043d\\u043e\\u0441\\u0442\\u044c\\u044e \\\"\\u0422\\u0435\\u0445\\u043d\\u043e\\u041b\\u0435\\u0433\\u0438\\u043e\\u043d\\\"\",\"\\u041e\\u0431\\u0449\\u0435\\u0441\\u0442\\u0432\\u043e \\u0441 \\u043e\\u0433\\u0440\\u0430\\u043d\\u0438\\u0447\\u0435\\u043d\\u043d\\u043e\\u0439 \\u043e\\u0442\\u0432\\u0435\\u0442\\u0441\\u0442\\u0432\\u0435\\u043d\\u043d\\u043e\\u0441\\u0442\\u044c\\u044e \\\"\\u041a\\u0440\\u043e\\u0432\\u043c\\u043e\\u043d\\u0442\\u0430\\u0436-\\u0420\\\"\",\"\\u041e\\u0431\\u0449\\u0435\\u0441\\u0442\\u0432\\u043e \\u0441 \\u043e\\u0433\\u0440\\u0430\\u043d\\u0438\\u0447\\u0435\\u043d\\u043d\\u043e\\u0439 \\u043e\\u0442\\u0432\\u0435\\u0442\\u0441\\u0442\\u0432\\u0435\\u043d\\u043d\\u043e\\u0441\\u0442\\u044c\\u044e \\\"\\u0412\\u0435\\u0434\\u0438\\u0447\\\"\",\"\\u041e\\u0411\\u0429\\u0415\\u0421\\u0422\\u0412\\u041e \\u0421 \\u041e\\u0413\\u0420\\u0410\\u041d\\u0418\\u0427\\u0415\\u041d\\u041d\\u041e\\u0419 \\u041e\\u0422\\u0412\\u0415\\u0422\\u0421\\u0422\\u0412\\u0415\\u041d\\u041d\\u041e\\u0421\\u0422\\u042c\\u042e \\\"\\u0410\\u041b\\u0418\\u0422\\u041a\\u041e\\u041c\\\"\",\"\\u041e\\u0431\\u0449\\u0435\\u0441\\u0442\\u0432\\u043e \\u0441 \\u043e\\u0433\\u0440\\u0430\\u043d\\u0438\\u0447\\u0435\\u043d\\u043d\\u043e\\u0439 \\u043e\\u0442\\u0432\\u0435\\u0442\\u0441\\u0442\\u0432\\u0435\\u043d\\u043d\\u043e\\u0441\\u0442\\u044c\\u044e \\\"\\u0421\\u043f\\u0435\\u0446\\u0441\\u0442\\u0440\\u043e\\u0439\\\"\",\"\\u041e\\u0431\\u0449\\u0435\\u0441\\u0442\\u0432\\u043e \\u0441 \\u043e\\u0433\\u0440\\u0430\\u043d\\u0438\\u0447\\u0435\\u043d\\u043d\\u043e\\u0439 \\u043e\\u0442\\u0432\\u0435\\u0442\\u0441\\u0442\\u0432\\u0435\\u043d\\u043d\\u043e\\u0441\\u0442\\u044c\\u044e \\\"\\u041a\\u041e\\u041c\\u041f\\u041b\\u0415\\u041a\\u0422\\u041c\\u041e\\u041d\\u0422\\u0410\\u0416\\u0421\\u0415\\u0420\\u0412\\u0418\\u0421\\\"\",\"\\u041e\\u0431\\u0449\\u0435\\u0441\\u0442\\u0432\\u043e \\u0441 \\u043e\\u0433\\u0440\\u0430\\u043d\\u0438\\u0447\\u0435\\u043d\\u043d\\u043e\\u0439 \\u043e\\u0442\\u0432\\u0435\\u0442\\u0441\\u0442\\u0432\\u0435\\u043d\\u043d\\u043e\\u0441\\u0442\\u044c\\u044e \\\"\\u042d\\u041a\\u041e\\u0421\\u0422\\u0420\\u041e\\u0419\\\"\",\"\\u041e\\u0431\\u0449\\u0435\\u0441\\u0442\\u0432\\u043e \\u0441 \\u043e\\u0433\\u0440\\u0430\\u043d\\u0438\\u0447\\u0435\\u043d\\u043d\\u043e\\u0439 \\u043e\\u0442\\u0432\\u0435\\u0442\\u0441\\u0442\\u0432\\u0435\\u043d\\u043d\\u043e\\u0441\\u0442\\u044c\\u044e \\\"\\u0422\\u0415\\u0425\\u041d\\u041e-\\u0421\\u0422\\u0410\\u0420\\\"\",\"\\u0417\\u0410\\u041e \\\"\\u041c\\u041d\\u041a-\\u0413\\u0420\\u0423\\u041f\\u041f\\\"\",\"\\u041e\\u0431\\u0449\\u0435\\u0441\\u0442\\u0432\\u043e \\u0441 \\u043e\\u0433\\u0440\\u0430\\u043d\\u0438\\u0447\\u0435\\u043d\\u043d\\u043e\\u0439 \\u043e\\u0442\\u0432\\u0435\\u0442\\u0441\\u0442\\u0432\\u0435\\u043d\\u043d\\u043e\\u0441\\u0442\\u044c\\u044e \\u0421\\u043f\\u0435\\u0446\\u0438\\u0430\\u043b\\u0438\\u0437\\u0438\\u0440\\u043e\\u0432\\u0430\\u043d\\u043d\\u044b\\u0439 \\u0437\\u0430\\u0441\\u0442\\u0440\\u043e\\u0439\\u0449\\u0438\\u043a \\\"\\u0411\\u0415\\u041b\\u041a\\u0412\\u0410\\u0420\\u0422\\u0410\\u041b\\\"\",\"\\u041e\\u0411\\u0429\\u0415\\u0421\\u0422\\u0412\\u041e \\u0421 \\u041e\\u0413\\u0420\\u0410\\u041d\\u0418\\u0427\\u0415\\u041d\\u041d\\u041e\\u0419 \\u041e\\u0422\\u0412\\u0415\\u0422\\u0421\\u0422\\u0412\\u0415\\u041d\\u041d\\u041e\\u0421\\u0422\\u042c\\u042e \\\"\\u0421\\u041a \\\"\\u042d\\u0424\\u0415\\u0421\\\"\\\"\",\"\\u041e\\u0431\\u0449\\u0435\\u0441\\u0442\\u0432\\u043e \\u0441 \\u043e\\u0433\\u0440\\u0430\\u043d\\u0438\\u0447\\u0435\\u043d\\u043d\\u043e\\u0439 \\u043e\\u0442\\u0432\\u0435\\u0442\\u0441\\u0442\\u0432\\u0435\\u043d\\u043d\\u043e\\u0441\\u0442\\u044c\\u044e \\\"\\u0421\\u0442\\u0440\\u043e\\u0438\\u0442\\u0435\\u043b\\u044c\\u043d\\u043e\\u0435 \\u0423\\u043f\\u0440\\u0430\\u0432\\u043b\\u0435\\u043d\\u0438\\u0435 \\u21161\\\"\",\"\\u041e\\u0431\\u0449\\u0435\\u0441\\u0442\\u0432\\u043e \\u0441 \\u043e\\u0433\\u0440\\u0430\\u043d\\u0438\\u0447\\u0435\\u043d\\u043d\\u043e\\u0439 \\u043e\\u0442\\u0432\\u0435\\u0442\\u0441\\u0442\\u0432\\u0435\\u043d\\u043d\\u043e\\u0441\\u0442\\u044c\\u044e \\u0421\\u041a \\\"\\u0421\\u041f\\u0415\\u0426\\u0421\\u0422\\u0420\\u041e\\u0419\\u041d\\u0415\\u0424\\u0422\\u042c\\\"\",\"\\u041e\\u0431\\u0449\\u0435\\u0441\\u0442\\u0432\\u043e \\u0441 \\u043e\\u0433\\u0440\\u0430\\u043d\\u0438\\u0447\\u0435\\u043d\\u043d\\u043e\\u0439 \\u043e\\u0442\\u0432\\u0435\\u0442\\u0441\\u0442\\u0432\\u0435\\u043d\\u043d\\u043e\\u0441\\u0442\\u044c\\u044e \\\"\\u041a\\u043e\\u043d\\u0441\\u043e\\u0440\\u0446\\u0438\\u0443\\u043c \\u0421\\u0442\\u0440\\u043e\\u0438\\u0442\\u0435\\u043b\\u044c\\u043d\\u044b\\u0445 \\u041a\\u043e\\u043c\\u043f\\u0430\\u043d\\u0438\\u0439\\\"\",\"\\u041e\\u0411\\u0429\\u0415\\u0421\\u0422\\u0412\\u041e \\u0421 \\u041e\\u0413\\u0420\\u0410\\u041d\\u0418\\u0427\\u0415\\u041d\\u041d\\u041e\\u0419 \\u041e\\u0422\\u0412\\u0415\\u0422\\u0421\\u0422\\u0412\\u0415\\u041d\\u041d\\u041e\\u0421\\u0422\\u042c\\u042e \\\"\\u041f\\u0420\\u041e\\u0415\\u041a\\u0422\\u041d\\u041e-\\u0421\\u0422\\u0420\\u041e\\u0418\\u0422\\u0415\\u041b\\u042c\\u041d\\u0410\\u042f \\u041a\\u041e\\u041c\\u041f\\u0410\\u041d\\u0418\\u042f \\\"\\u0412\\u042b\\u0421\\u041e\\u0422\\u0410\\\"\",\"\\u041e\\u0431\\u0449\\u0435\\u0441\\u0442\\u0432\\u043e \\u0441 \\u043e\\u0433\\u0440\\u0430\\u043d\\u0438\\u0447\\u0435\\u043d\\u043d\\u043e\\u0439 \\u043e\\u0442\\u0432\\u0435\\u0442\\u0441\\u0442\\u0432\\u0435\\u043d\\u043d\\u043e\\u0441\\u0442\\u044c\\u044e \\\"\\u0422\\u041e\\u0420\\u0413\\u041e\\u0412\\u0410\\u042f \\u041d\\u0415\\u0417\\u0410\\u0412\\u0418\\u0421\\u0418\\u041c\\u0410\\u042f \\u041a\\u041e\\u041c\\u041f\\u0410\\u041d\\u0418\\u042f\\\"\",\"\\u041e\\u0431\\u0449\\u0435\\u0441\\u0442\\u0432\\u043e \\u0441 \\u043e\\u0433\\u0440\\u0430\\u043d\\u0438\\u0447\\u0435\\u043d\\u043d\\u043e\\u0439 \\u043e\\u0442\\u0432\\u0435\\u0442\\u0441\\u0442\\u0432\\u0435\\u043d\\u043d\\u043e\\u0441\\u0442\\u044c\\u044e \\\"\\u0411\\u041e\\u0421\\u0422\\u0410\\u041d\\\"\",\"\\u041e\\u0431\\u0449\\u0435\\u0441\\u0442\\u0432\\u043e \\u0441 \\u043e\\u0433\\u0440\\u0430\\u043d\\u0438\\u0447\\u0435\\u043d\\u043d\\u043e\\u0439 \\u043e\\u0442\\u0432\\u0435\\u0442\\u0441\\u0442\\u0432\\u0435\\u043d\\u043d\\u043e\\u0441\\u0442\\u044c\\u044e \\\"\\u042d\\u041b\\u0418\\u041d\\u0410\\u0420\\u0421\\u0422\\u0420\\u041e\\u0419\\u0418\\u041d\\u0412\\u0415\\u0421\\u0422\\\"\",\"\\u041e\\u041e\\u041e \\\"\\u041a\\u041e\\u041d\\u0421\\u0422\\u0420\\u0423\\u041a\\u0422\\u0418\\u0412\\\"\",\"\\u041e\\u0431\\u0449\\u0435\\u0441\\u0442\\u0432\\u043e \\u0441 \\u043e\\u0433\\u0440\\u0430\\u043d\\u0438\\u0447\\u0435\\u043d\\u043d\\u043e\\u0439 \\u043e\\u0442\\u0432\\u0435\\u0442\\u0441\\u0442\\u0432\\u0435\\u043d\\u043d\\u043e\\u0441\\u0442\\u044c\\u044e \\\"\\u0422\\u0415\\u0425\\u0421\\u0422\\u0420\\u041e\\u0419\\\"\",\"\\u041e\\u0411\\u0429\\u0415\\u0421\\u0422\\u0412\\u041e \\u0421 \\u041e\\u0413\\u0420\\u0410\\u041d\\u0418\\u0427\\u0415\\u041d\\u041d\\u041e\\u0419 \\u041e\\u0422\\u0412\\u0415\\u0422\\u0421\\u0422\\u0412\\u0415\\u041d\\u041d\\u041e\\u0421\\u0422\\u042c\\u042e \\u0421\\u041f\\u0415\\u0426\\u0418\\u0410\\u041b\\u0418\\u0417\\u0418\\u0420\\u041e\\u0412\\u0410\\u041d\\u041d\\u042b\\u0419 \\u0417\\u0410\\u0421\\u0422\\u0420\\u041e\\u0419\\u0429\\u0418\\u041a  \\\"\\u0412\\u0418\\u0412\\u0410\\\"\",\"\\u041e\\u0431\\u0449\\u0435\\u0441\\u0442\\u0432\\u043e \\u0441 \\u043e\\u0433\\u0440\\u0430\\u043d\\u0438\\u0447\\u0435\\u043d\\u043d\\u043e\\u0439 \\u043e\\u0442\\u0432\\u0435\\u0442\\u0441\\u0442\\u0432\\u0435\\u043d\\u043d\\u043e\\u0441\\u0442\\u044c\\u044e \\\"\\u0421\\u041a\\u0421\\\"\",\"\\u041e\\u0411\\u0429\\u0415\\u0421\\u0422\\u0412\\u041e \\u0421 \\u041e\\u0413\\u0420\\u0410\\u041d\\u0418\\u0427\\u0415\\u041d\\u041d\\u041e\\u0419 \\u041e\\u0422\\u0412\\u0415\\u0422\\u0421\\u0422\\u0412\\u0415\\u041d\\u041d\\u041e\\u0421\\u0422\\u042c\\u042e \\\"\\u041b\\u041e\\u0413\\u041e \\u0413\\u0420\\u0423\\u041f\\\"\",\"\\u041e\\u0411\\u0429\\u0415\\u0421\\u0422\\u0412\\u041e \\u0421 \\u041e\\u0413\\u0420\\u0410\\u041d\\u0418\\u0427\\u0415\\u041d\\u041d\\u041e\\u0419 \\u041e\\u0422\\u0412\\u0415\\u0422\\u0421\\u0422\\u0412\\u0415\\u041d\\u041d\\u041e\\u0421\\u0422\\u042c\\u042e \\\"\\u0421\\u0415\\u041b\\u0424\\\"\",\"\\u041e\\u0431\\u0449\\u0435\\u0441\\u0442\\u0432\\u043e \\u0441 \\u043e\\u0433\\u0440\\u0430\\u043d\\u0438\\u0447\\u0435\\u043d\\u043d\\u043e\\u0439 \\u043e\\u0442\\u0432\\u0435\\u0442\\u0441\\u0442\\u0432\\u0435\\u043d\\u043d\\u043e\\u0441\\u0442\\u044c\\u044e \\\"\\u0420\\u0418\\u0422\\u0415\\u0419\\u041b\\u0421\\u0422\\u0420\\u041e\\u0419\\u0421\\u0415\\u0420\\u0412\\u0418\\u0421\\\"\",\"\\u041e\\u041e\\u041e \\\"\\u0421\\u043f\\u0435\\u0446\\u0438\\u0430\\u043b\\u0438\\u0437\\u0438\\u0440\\u043e\\u0432\\u0430\\u043d\\u043d\\u044b\\u0439 \\u0417\\u0430\\u0441\\u0442\\u0440\\u043e\\u0439\\u0449\\u0438\\u043a \\\"\\u0421\\u0442\\u0440\\u043e\\u0439\\u0420\\u0435\\u0433\\u0438\\u043e\\u043d\\u0421\\u0435\\u0440\\u0432\\u0438\\u0441\\\"\",\"\\u041e\\u0431\\u0449\\u0435\\u0441\\u0442\\u0432\\u043e \\u0441 \\u043e\\u0433\\u0440\\u0430\\u043d\\u0438\\u0447\\u0435\\u043d\\u043d\\u043e\\u0439 \\u043e\\u0442\\u0432\\u0435\\u0442\\u0441\\u0442\\u0432\\u0435\\u043d\\u043d\\u043e\\u0441\\u0442\\u044c\\u044e \\\"\\u041a\\u041e\\u041c\\u0422\\u0415\\u0425\\\"\",\"\\u041e\\u0431\\u0449\\u0435\\u0441\\u0442\\u0432\\u043e \\u0441 \\u043e\\u0433\\u0440\\u0430\\u043d\\u0438\\u0447\\u0435\\u043d\\u043d\\u043e\\u0439 \\u043e\\u0442\\u0432\\u0435\\u0442\\u0441\\u0442\\u0432\\u0435\\u043d\\u043d\\u043e\\u0441\\u0442\\u044c\\u044e \\u0421\\u0422\\u0420\\u041e\\u0418\\u0422\\u0415\\u041b\\u042c\\u041d\\u0410\\u042f \\u041a\\u041e\\u041c\\u041f\\u0410\\u041d\\u0418\\u042f \\\"\\u0421\\u0422\\u0420\\u041e\\u0419-\\u0418\\u041d\\u0412\\u0415\\u0421\\u0422\\\"\",\"\\u041e\\u0431\\u0449\\u0435\\u0441\\u0442\\u0432\\u043e \\u0441 \\u043e\\u0433\\u0440\\u0430\\u043d\\u0438\\u0447\\u0435\\u043d\\u043d\\u043e\\u0439 \\u043e\\u0442\\u0432\\u0435\\u0442\\u0441\\u0442\\u0432\\u0435\\u043d\\u043d\\u043e\\u0441\\u0442\\u044c\\u044e \\\"\\u041e\\u0431\\u044a\\u0435\\u0434\\u0438\\u043d\\u0435\\u043d\\u043d\\u0430\\u044f \\u0441\\u0442\\u0440\\u043e\\u0438\\u0442\\u0435\\u043b\\u044c\\u043d\\u0430\\u044f \\u043a\\u043e\\u043c\\u043f\\u0430\\u043d\\u0438\\u044f-1\\\"\",\"\\u041e\\u0411\\u0429\\u0415\\u0421\\u0422\\u0412\\u041e \\u0421 \\u041e\\u0413\\u0420\\u0410\\u041d\\u0418\\u0427\\u0415\\u041d\\u041d\\u041e\\u0419 \\u041e\\u0422\\u0412\\u0415\\u0422\\u0421\\u0422\\u0412\\u0415\\u041d\\u041d\\u041e\\u0421\\u0422\\u042c\\u042e \\\"\\u0420\\u0410\\u0419\\u0414\\u0415\\u041a\\u0421\\\"\",\"\\u041e\\u0431\\u0449\\u0435\\u0441\\u0442\\u0432\\u043e \\u0441 \\u043e\\u0433\\u0440\\u0430\\u043d\\u0438\\u0447\\u0435\\u043d\\u043d\\u043e\\u0439 \\u043e\\u0442\\u0432\\u0435\\u0442\\u0441\\u0442\\u0432\\u0435\\u043d\\u043d\\u043e\\u0441\\u0442\\u044c\\u044e \\\"\\u0410\\u0422\\u041e\\u041c\\u0421\\u0422\\u0420\\u041e\\u0419\\\"\",\"\\u041e\\u0431\\u0449\\u0435\\u0441\\u0442\\u0432\\u043e \\u0441 \\u043e\\u0433\\u0440\\u0430\\u043d\\u0438\\u0447\\u0435\\u043d\\u043d\\u043e\\u0439 \\u043e\\u0442\\u0432\\u0435\\u0442\\u0441\\u0442\\u0432\\u0435\\u043d\\u043d\\u043e\\u0441\\u0442\\u044c\\u044e \\\"\\u0420\\u0435\\u0433\\u0438\\u043e\\u043d\\u0441\\u043f\\u0435\\u0446\\u0441\\u0442\\u0440\\u043e\\u0439\\\"\",\"\\u041e\\u0411\\u0429\\u0415\\u0421\\u0422\\u0412\\u041e \\u0421 \\u041e\\u0413\\u0420\\u0410\\u041d\\u0418\\u0427\\u0415\\u041d\\u041d\\u041e\\u0419 \\u041e\\u0422\\u0412\\u0415\\u0422\\u0421\\u0422\\u0412\\u0415\\u041d\\u041d\\u041e\\u0421\\u0422\\u042c\\u042e \\\"\\u0426\\u0418\\u041e\\u041d \\u041f\\u041b\\u042e\\u0421\\\"\",\"\\u041e\\u0431\\u0449\\u0435\\u0441\\u0442\\u0432\\u043e \\u0441 \\u043e\\u0433\\u0440\\u0430\\u043d\\u0438\\u0447\\u0435\\u043d\\u043d\\u043e\\u0439 \\u043e\\u0442\\u0432\\u0435\\u0442\\u0441\\u0442\\u0432\\u0435\\u043d\\u043d\\u043e\\u0441\\u0442\\u044c\\u044e \\\"\\u0421\\u041a \\u0421\\u041f\\u0415\\u0426\\u0421\\u0422\\u0420\\u041e\\u0419\\u0410\\u0412\\u0422\\u041e\\\"\",\"\\u041e\\u0411\\u0429\\u0415\\u0421\\u0422\\u0412\\u041e \\u0421 \\u041e\\u0413\\u0420\\u0410\\u041d\\u0418\\u0427\\u0415\\u041d\\u041d\\u041e\\u0419 \\u041e\\u0422\\u0412\\u0415\\u0422\\u0421\\u0422\\u0412\\u0415\\u041d\\u041d\\u041e\\u0421\\u0422\\u042c\\u042e \\\"\\u0411\\u0421 \\u0413\\u0420\\u0423\\u041f\\\"\",\"\\u041e\\u0431\\u0449\\u0435\\u0441\\u0442\\u0432\\u043e \\u0441 \\u043e\\u0433\\u0440\\u0430\\u043d\\u0438\\u0447\\u0435\\u043d\\u043d\\u043e\\u0439 \\u043e\\u0442\\u0432\\u0435\\u0442\\u0441\\u0442\\u0432\\u0435\\u043d\\u043d\\u043e\\u0441\\u0442\\u044c\\u044e \\\"\\u0410\\u043d\\u0442\\u0435\\u0439\\\"\",\"\\u041e\\u0431\\u0449\\u0435\\u0441\\u0442\\u0432\\u043e \\u0441 \\u043e\\u0433\\u0440\\u0430\\u043d\\u0438\\u0447\\u0435\\u043d\\u043d\\u043e\\u0439 \\u043e\\u0442\\u0432\\u0435\\u0442\\u0441\\u0442\\u0432\\u0435\\u043d\\u043d\\u043e\\u0441\\u0442\\u044c\\u044e \\\"\\u0421\\u041a\\u0420-10\\\"\",\"\\u041e\\u0431\\u0449\\u0435\\u0441\\u0442\\u0432\\u043e \\u0441 \\u043e\\u0433\\u0440\\u0430\\u043d\\u0438\\u0447\\u0435\\u043d\\u043d\\u043e\\u0439 \\u043e\\u0442\\u0432\\u0435\\u0442\\u0441\\u0442\\u0432\\u0435\\u043d\\u043d\\u043e\\u0441\\u0442\\u044c\\u044e \\\"\\u0424\\u041e\\u0420\\u0422\\u0420\\u0415\\u0421\\u0421\\\"\",\"\\u041e\\u0431\\u0449\\u0435\\u0441\\u0442\\u0432\\u043e \\u0441 \\u043e\\u0433\\u0440\\u0430\\u043d\\u0438\\u0447\\u0435\\u043d\\u043d\\u043e\\u0439 \\u043e\\u0442\\u0432\\u0435\\u0442\\u0441\\u0442\\u0432\\u0435\\u043d\\u043d\\u043e\\u0441\\u0442\\u044c\\u044e \\\"\\u0421\\u0422\\u0420\\u041e\\u0418\\u0422\\u0415\\u041b\\u042c\\u041d\\u0410\\u042f \\u041a\\u041e\\u041c\\u041f\\u0410\\u041d\\u0418\\u042f \\\"\\u0410\\u041b\\u0410\\u0411\\u0423\\u0413\\u0410\\\"\",\"\\u041e\\u0411\\u0429\\u0415\\u0421\\u0422\\u0412\\u041e \\u0421 \\u041e\\u0413\\u0420\\u0410\\u041d\\u0418\\u0427\\u0415\\u041d\\u041d\\u041e\\u0419 \\u041e\\u0422\\u0412\\u0415\\u0422\\u0421\\u0422\\u0412\\u0415\\u041d\\u041d\\u041e\\u0421\\u0422\\u042c\\u042e \\\"\\u0421\\u0422\\u0420\\u041e\\u0419\\u0418\\u041d\\u0412\\u0415\\u0421\\u0422\\\"\",\"\\u041e\\u041e\\u041e \\u0421\\u0410\\u0412-\\u0421\\u0422\\u0420\\u041e\\u0419\",\"\\u041e\\u0431\\u0449\\u0435\\u0441\\u0442\\u0432\\u043e \\u0441 \\u043e\\u0433\\u0440\\u0430\\u043d\\u0438\\u0447\\u0435\\u043d\\u043d\\u043e\\u0439 \\u043e\\u0442\\u0432\\u0435\\u0442\\u0441\\u0442\\u0432\\u0435\\u043d\\u043d\\u043e\\u0441\\u0442\\u044c\\u044e \\\"\\u0414\\u0440\\u0443\\u0436\\u0431\\u0430 \\u041d\\\"\",\"\\u041e\\u0411\\u0429\\u0415\\u0421\\u0422\\u0412\\u041e \\u0421 \\u041e\\u0413\\u0420\\u0410\\u041d\\u0418\\u0427\\u0415\\u041d\\u041d\\u041e\\u0419 \\u041e\\u0422\\u0412\\u0415\\u0422\\u0421\\u0422\\u0412\\u0415\\u041d\\u041d\\u041e\\u0421\\u0422\\u042c\\u042e \\\"\\u0421\\u0422\\u0420\\u041e\\u0418\\u0422\\u0415\\u041b\\u042c\\u041d\\u041e\\u0415 \\u0423\\u041f\\u0420\\u0410\\u0412\\u041b\\u0415\\u041d\\u0418\\u0415 8\\\"\",\"\\u041e\\u0431\\u0449\\u0435\\u0441\\u0442\\u0432\\u043e \\u0441 \\u043e\\u0433\\u0440\\u0430\\u043d\\u0438\\u0447\\u0435\\u043d\\u043d\\u043e\\u0439 \\u043e\\u0442\\u0432\\u0435\\u0442\\u0441\\u0442\\u0432\\u0435\\u043d\\u043d\\u043e\\u0441\\u0442\\u044c\\u044e \\\"\\u0414\\u0415\\u041f\\u041e\\\"\",\"\\u041e\\u0431\\u0449\\u0435\\u0441\\u0442\\u0432\\u043e \\u0441 \\u043e\\u0433\\u0440\\u0430\\u043d\\u0438\\u0447\\u0435\\u043d\\u043d\\u043e\\u0439 \\u043e\\u0442\\u0432\\u0435\\u0442\\u0441\\u0442\\u0432\\u0435\\u043d\\u043d\\u043e\\u0441\\u0442\\u044c\\u044e \\\"\\u0412\\u041e\\u041b\\u0413\\u0422\\u0420\\u0410\\u041d\\u0421\\u0421\\u0422\\u0420\\u041e\\u0419\\\"\",\"\\u041e\\u0411\\u0429\\u0415\\u0421\\u0422\\u0412\\u041e \\u0421 \\u041e\\u0413\\u0420\\u0410\\u041d\\u0418\\u0427\\u0415\\u041d\\u041d\\u041e\\u0419 \\u041e\\u0422\\u0412\\u0415\\u0422\\u0421\\u0422\\u0412\\u0415\\u041d\\u041d\\u041e\\u0421\\u0422\\u042c\\u042e \\\"\\u041f\\u0420\\u041e\\u041c\\u0416\\u0418\\u041b\\u0421\\u0422\\u0420\\u041e\\u0419\\\"\",\"\\u041e\\u0431\\u0449\\u0435\\u0441\\u0442\\u0432\\u043e \\u0441 \\u043e\\u0433\\u0440\\u0430\\u043d\\u0438\\u0447\\u0435\\u043d\\u043d\\u043e\\u0439 \\u043e\\u0442\\u0432\\u0435\\u0442\\u0441\\u0442\\u0432\\u0435\\u043d\\u043d\\u043e\\u0441\\u0442\\u044c\\u044e \\\"\\u0421\\u041a \\\"\\u041c\\u0410\\u0421\\u0422\\u0415\\u0420-\\u0421\\u0422\\u0420\\u041e\\u0419\\\"\",\"\\u041e\\u0431\\u0449\\u0435\\u0441\\u0442\\u0432\\u043e \\u0441 \\u043e\\u0433\\u0440\\u0430\\u043d\\u0438\\u0447\\u0435\\u043d\\u043d\\u043e\\u0439 \\u043e\\u0442\\u0432\\u0435\\u0442\\u0441\\u0442\\u0432\\u0435\\u043d\\u043d\\u043e\\u0441\\u0442\\u044c\\u044e \\\"\\u0412\\u0415\\u041b\\u0415\\u0421-\\u0421\\u0422\\u0420\\u041e\\u0419\\\"\",\"\\u041e\\u0411\\u0429\\u0415\\u0421\\u0422\\u0412\\u041e \\u0421 \\u041e\\u0413\\u0420\\u0410\\u041d\\u0418\\u0427\\u0415\\u041d\\u041d\\u041e\\u0419 \\u041e\\u0422\\u0412\\u0415\\u0422\\u0421\\u0422\\u0412\\u0415\\u041d\\u041d\\u041e\\u0421\\u0422\\u042c\\u042e \\\"\\u0420\\u0423\\u0421\\u0420\\u0415\\u0413\\u0418\\u041e\\u041d\\u0421\\u0422\\u0420\\u041e\\u0419\\\"\",\"\\u041e\\u0431\\u0449\\u0435\\u0441\\u0442\\u0432\\u043e \\u0441 \\u043e\\u0433\\u0440\\u0430\\u043d\\u0438\\u0447\\u0435\\u043d\\u043d\\u043e\\u0439 \\u043e\\u0442\\u0432\\u0435\\u0442\\u0441\\u0442\\u0432\\u0435\\u043d\\u043d\\u043e\\u0441\\u0442\\u044c\\u044e \\\"\\u041c\\u043e\\u043d\\u0442\\u0430\\u0436\\\"\",\"\\u041e\\u0431\\u0449\\u0435\\u0441\\u0442\\u0432\\u043e \\u0441 \\u043e\\u0433\\u0440\\u0430\\u043d\\u0438\\u0447\\u0435\\u043d\\u043d\\u043e\\u0439 \\u043e\\u0442\\u0432\\u0435\\u0442\\u0441\\u0442\\u0432\\u0435\\u043d\\u043d\\u043e\\u0441\\u0442\\u044c\\u044e \\u0421\\u043f\\u0435\\u0446\\u0438\\u0430\\u043b\\u0438\\u0437\\u0438\\u0440\\u043e\\u0432\\u0430\\u043d\\u043d\\u044b\\u0439 \\u0437\\u0430\\u0441\\u0442\\u0440\\u043e\\u0439\\u0449\\u0438\\u043a \\\"\\u0422\\u0438\\u0442\\u0430\\u043d\\\"\",\"\\u041e\\u0431\\u0449\\u0435\\u0441\\u0442\\u0432\\u043e \\u0441 \\u043e\\u0433\\u0440\\u0430\\u043d\\u0438\\u0447\\u0435\\u043d\\u043d\\u043e\\u0439  \\u043e\\u0442\\u0432\\u0435\\u0442\\u0441\\u0442\\u0432\\u0435\\u043d\\u043d\\u043e\\u0441\\u0442\\u044c\\u044e \\\"\\u0413\\u0415\\u041e\\u0421\\u0422\\u0420\\u041e\\u0419\\\"\",\"\\u041e\\u0411\\u0429\\u0415\\u0421\\u0422\\u0412\\u041e \\u0421 \\u041e\\u0413\\u0420\\u0410\\u041d\\u0418\\u0427\\u0415\\u041d\\u041d\\u041e\\u0419 \\u041e\\u0422\\u0412\\u0415\\u0422\\u0421\\u0422\\u0412\\u0415\\u041d\\u041d\\u041e\\u0421\\u0422\\u042c\\u042e\\\" \\u0421\\u041f\\u0415\\u0426\\u041c\\u041e\\u041d\\u0422\\u0410\\u0416\\u0421\\u0422\\u0420\\u041e\\u0419\\\"\",\"\\u041e\\u0431\\u0449\\u0435\\u0441\\u0442\\u0432\\u043e \\u0441 \\u043e\\u0433\\u0440\\u0430\\u043d\\u0438\\u0447\\u0435\\u043d\\u043d\\u043e\\u0439 \\u043e\\u0442\\u0432\\u0435\\u0442\\u0441\\u0442\\u0432\\u0435\\u043d\\u043d\\u043e\\u0441\\u0442\\u044c\\u044e \\\"\\u0414\\u0415\\u041d\\u0414\\u0420\\u041e\\u0421\\u0422\\u0420\\u041e\\u0419\\\"\",\"\\u041e\\u0411\\u0429\\u0415\\u0421\\u0422\\u0412\\u041e \\u0421 \\u041e\\u0413\\u0420\\u0410\\u041d\\u0418\\u0427\\u0415\\u041d\\u041d\\u041e\\u0419 \\u041e\\u0422\\u0412\\u0415\\u0422\\u0421\\u0422\\u0412\\u0415\\u041d\\u041d\\u041e\\u0421\\u0422\\u042c\\u042e \\\"\\u0421\\u0422\\u0420\\u041e\\u0418\\u0422\\u0415\\u041b\\u042c\\u041d\\u0410\\u042f \\u041a\\u041e\\u041c\\u041f\\u0410\\u041d\\u0418\\u042f \\\"\\u042d\\u041d\\u0415\\u0420\\u0413\\u041e \\u0421\\u0422\\u0420\\u041e\\u0419\\\"\",\"\\u041e\\u0431\\u0449\\u0435\\u0441\\u0442\\u0432\\u043e \\u0441 \\u043e\\u0433\\u0440\\u0430\\u043d\\u0438\\u0447\\u0435\\u043d\\u043d\\u043e\\u0439 \\u043e\\u0442\\u0432\\u0435\\u0442\\u0441\\u0442\\u0432\\u0435\\u043d\\u043d\\u043e\\u0441\\u0442\\u044c\\u044e \\\"\\u0421\\u0442\\u0440\\u043e\\u0439 \\u0421\\u0438\\u0442\\u0438\\\"\",\"\\u041e\\u041e\\u041e \\\"\\u0421\\u0430\\u0440\\u0430\\u043d\\u0441\\u043a\\u0442\\u0435\\u0445\\u043f\\u0440\\u0438\\u0431\\u043e\\u0440\\\"\",\"\\u041e\\u0431\\u0449\\u0435\\u0441\\u0442\\u0432\\u043e \\u0441 \\u043e\\u0433\\u0440\\u0430\\u043d\\u0438\\u0447\\u0435\\u043d\\u043d\\u043e\\u0439 \\u043e\\u0442\\u0432\\u0435\\u0442\\u0441\\u0442\\u0432\\u0435\\u043d\\u043d\\u043e\\u0441\\u0442\\u044c\\u044e \\\"\\u0421\\u041f\\u0415\\u0426\\u0418\\u0410\\u041b\\u0418\\u0417\\u0418\\u0420\\u041e\\u0412\\u0410\\u041d\\u041d\\u042b\\u0419 \\u0417\\u0410\\u0421\\u0422\\u0420\\u041e\\u0419\\u0429\\u0418\\u041a \\\"\\u041d\\u0410\\u0414\\u0418\\u042f \\u0425\\u041e\\u041b\\u0414\\u0418\\u041d\\u0413\\\"\\\"\",\"\\u041e\\u0431\\u0449\\u0435\\u0441\\u0442\\u0432\\u043e \\u0441 \\u043e\\u0433\\u0440\\u0430\\u043d\\u0438\\u0447\\u0435\\u043d\\u043d\\u043e\\u0439 \\u043e\\u0442\\u0432\\u0435\\u0442\\u0441\\u0442\\u0432\\u0435\\u043d\\u043d\\u043e\\u0441\\u0442\\u044c\\u044e \\\"\\u0421\\u0415\\u0412\\u0415\\u0420\\u041e-\\u0412\\u041e\\u0421\\u0422\\u041e\\u0427\\u041d\\u0410\\u042f \\u0414\\u041e\\u0420\\u041e\\u0416\\u041d\\u041e-\\u0421\\u0422\\u0420\\u041e\\u0418\\u0422\\u0415\\u041b\\u042c\\u041d\\u0410\\u042f \\u041a\\u041e\\u041c\\u041f\\u0410\\u041d\\u0418\\u042f\\\"\",\"\\u041e\\u0431\\u0449\\u0435\\u0441\\u0442\\u0432\\u043e \\u0441 \\u043e\\u0433\\u0440\\u0430\\u043d\\u0438\\u0447\\u0435\\u043d\\u043d\\u043e\\u0439 \\u043e\\u0442\\u0432\\u0435\\u0442\\u0441\\u0442\\u0432\\u0435\\u043d\\u043d\\u043e\\u0441\\u0442\\u044c\\u044e \\\"\\u0421\\u0442\\u0440\\u043e\\u0439\\u0413\\u0440\\u0443\\u043f\\u043f\\\"\",\"\\u041e\\u0431\\u0449\\u0435\\u0441\\u0442\\u0432\\u043e \\u0441 \\u043e\\u0433\\u0440\\u0430\\u043d\\u0438\\u0447\\u0435\\u043d\\u043d\\u043e\\u0439 \\u043e\\u0442\\u0432\\u0435\\u0442\\u0441\\u0442\\u0432\\u0435\\u043d\\u043d\\u043e\\u0441\\u0442\\u044c\\u044e \\u0421\\u043f\\u0435\\u0446\\u0438\\u0430\\u043b\\u0438\\u0437\\u0438\\u0440\\u043e\\u0432\\u0430\\u043d\\u043d\\u044b\\u0439 \\u0437\\u0430\\u0441\\u0442\\u0440\\u043e\\u0439\\u0449\\u0438\\u043a \\\"\\u0412\\u042b\\u0411\\u041e\\u0420\\\" (\\u041e\\u041e\\u041e \\u0421\\u043f\\u0435\\u0446\\u0438\\u0430\\u043b\\u0438\\u0437\\u0438\\u0440\\u043e\\u0432\\u0430\\u043d\\u043d\\u044b\\u0439 \\u0437\\u0430\\u0441\\u0442\\u0440\\u043e\\u0439\\u0449\\u0438\\u043a \\\"\\u0412\\u042b\\u0411\\u041e\\u0420\\\")\",\"\\u041e\\u0411\\u0429\\u0415\\u0421\\u0422\\u0412\\u041e \\u0421 \\u041e\\u0413\\u0420\\u0410\\u041d\\u0418\\u0427\\u0415\\u041d\\u041d\\u041e\\u0419 \\u041e\\u0422\\u0412\\u0415\\u0422\\u0421\\u0422\\u0412\\u0415\\u041d\\u041d\\u041e\\u0421\\u0422\\u042c\\u042e \\\"\\u0410\\u041d\\u0413\\u0410\\u0420\\u0421\\u041a\\u0421\\u0422\\u0420\\u041e\\u0419\\u041c\\u0415\\u0425\\u0410\\u041d\\u0418\\u0417\\u0410\\u0426\\u0418\\u042f\\\"\",\"\\u0410\\u043a\\u0446\\u0438\\u043e\\u043d\\u0435\\u0440\\u043d\\u043e\\u0435 \\u043e\\u0431\\u0449\\u0435\\u0441\\u0442\\u0432\\u043e \\\"\\u0410\\u0440\\u0441\\u0435\\u043d\\u0430\\u043b-1\\\"\",\"\\u041e\\u0411\\u0429\\u0415\\u0421\\u0422\\u0412\\u041e \\u0421 \\u041e\\u0413\\u0420\\u0410\\u041d\\u0418\\u0427\\u0415\\u041d\\u041d\\u041e\\u0419 \\u041e\\u0422\\u0412\\u0415\\u0422\\u0421\\u0422\\u0412\\u0415\\u041d\\u041d\\u041e\\u0421\\u0422\\u042c\\u042e \\\"\\u0410\\u0412\\u0422-\\u0413\\u0420\\u0423\\u041f\\u041f\\\"\",\"\\u041e\\u041e\\u041e \\\"\\u0421\\u041c\\u041f \\u2116398\\\"\",\"\\u041e\\u0431\\u0449\\u0435\\u0441\\u0442\\u0432\\u043e \\u0441 \\u043e\\u0433\\u0440\\u0430\\u043d\\u0438\\u0447\\u0435\\u043d\\u043d\\u043e\\u0439 \\u043e\\u0442\\u0432\\u0435\\u0442\\u0441\\u0442\\u0432\\u0435\\u043d\\u043d\\u043e\\u0441\\u0442\\u044c\\u044e \\\"\\u0421\\u0442\\u0440\\u043e\\u0438\\u0442\\u0435\\u043b\\u044c\\u043d\\u0430\\u044f \\u043a\\u043e\\u043c\\u043f\\u0430\\u043d\\u0438\\u044f \\\"\\u0421\\u0442\\u0440\\u043e\\u0439\\u0442\\u0440\\u0435\\u0441\\u0442\\\"\",\"\\u041e\\u0431\\u0449\\u0435\\u0441\\u0442\\u0432\\u043e \\u0441 \\u043e\\u0433\\u0440\\u0430\\u043d\\u0438\\u0447\\u0435\\u043d\\u043d\\u043e\\u0439 \\u043e\\u0442\\u0432\\u0435\\u0442\\u0441\\u0442\\u0432\\u0435\\u043d\\u043d\\u043e\\u0441\\u0442\\u044c\\u044e \\\"\\u0410\\u0420\\u0422\\u0421\\u0422\\u0420\\u041e\\u0419\\\"\",\"\\u041e\\u0431\\u0449\\u0435\\u0441\\u0442\\u0432\\u043e \\u0441 \\u043e\\u0433\\u0440\\u0430\\u043d\\u0438\\u0447\\u0435\\u043d\\u043d\\u043e\\u0439 \\u043e\\u0442\\u0432\\u0435\\u0442\\u0441\\u0442\\u0432\\u0435\\u043d\\u043d\\u043e\\u0441\\u0442\\u044c\\u044e \\\"\\u041d\\u0415\\u0424\\u0422\\u0415\\u0413\\u0410\\u0417\\u0421\\u0422\\u0420\\u041e\\u0419\\\"\",\"\\u0410\\u043a\\u0446\\u0438\\u043e\\u043d\\u0435\\u0440\\u043d\\u043e\\u0435 \\u043e\\u0431\\u0449\\u0435\\u0441\\u0442\\u0432\\u043e \\\"\\u0421\\u0422\\u0420\\u041e\\u0418\\u0422\\u0415\\u041b\\u042c\\u041d\\u041e-\\u041c\\u041e\\u041d\\u0422\\u0410\\u0416\\u041d\\u0410\\u042f \\u041a\\u041e\\u041c\\u041f\\u0410\\u041d\\u0418\\u042f \\\"\\u0421\\u0422\\u041e\\u041b\\u0418\\u0426\\u0410\\\"\",\"\\u041e\\u041e\\u041e \\\"\\u0411\\u041b\\u041e\\u041a-\\u0411\\u041e\\u041a\\u0421\\\"\",\"\\u041e\\u0431\\u0449\\u0435\\u0441\\u0442\\u0432\\u043e \\u0441 \\u043e\\u0433\\u0440\\u0430\\u043d\\u0438\\u0447\\u0435\\u043d\\u043d\\u043e\\u0439 \\u043e\\u0442\\u0432\\u0435\\u0442\\u0441\\u0442\\u0432\\u0435\\u043d\\u043d\\u043e\\u0441\\u0442\\u044c\\u044e \\\"\\u0413\\u0440\\u0430\\u0434\\u0441\\u0442\\u0440\\u043e\\u0439\\\"\",\"\\u041e\\u0411\\u0429\\u0415\\u0421\\u0422\\u0412\\u041e \\u0421 \\u041e\\u0413\\u0420\\u0410\\u041d\\u0418\\u0427\\u0415\\u041d\\u041d\\u041e\\u0419 \\u041e\\u0422\\u0412\\u0415\\u0422\\u0421\\u0422\\u0412\\u0415\\u041d\\u041d\\u041e\\u0421\\u0422\\u042c\\u042e \\\"\\u041f\\u0413\\u041f-\\u0421\\u0422\\u0420\\u041e\\u0419\\\"\",\"\\u041e\\u0431\\u0449\\u0435\\u0441\\u0442\\u0432\\u043e \\u0441 \\u043e\\u0433\\u0440\\u0430\\u043d\\u0438\\u0447\\u0435\\u043d\\u043d\\u043e\\u0439 \\u043e\\u0442\\u0432\\u0435\\u0442\\u0441\\u0442\\u0432\\u0435\\u043d\\u043d\\u043e\\u0441\\u0442\\u044c\\u044e \\\"\\u0420\\u0415\\u0413\\u0418\\u041e\\u041d\\u0414\\u041e\\u0420\\u0421\\u0422\\u0420\\u041e\\u0419\\\"\",\"\\u041e\\u0431\\u0449\\u0435\\u0441\\u0442\\u0432\\u043e \\u0441 \\u043e\\u0433\\u0440\\u0430\\u043d\\u0438\\u0447\\u0435\\u043d\\u043d\\u043e\\u0439 \\u043e\\u0442\\u0432\\u0435\\u0442\\u0441\\u0442\\u0432\\u0435\\u043d\\u043d\\u043e\\u0441\\u0442\\u044c\\u044e \\\"\\u0421\\u043f\\u0435\\u0446\\u0438\\u0430\\u043b\\u0438\\u0437\\u0438\\u0440\\u043e\\u0432\\u0430\\u043d\\u043d\\u044b\\u0439 \\u0417\\u0430\\u0441\\u0442\\u0440\\u043e\\u0439\\u0449\\u0438\\u043a \\\"\\u0421\\u043e\\u044e\\u0437\\\"\",\"\\u041e\\u0431\\u0449\\u0435\\u0441\\u0442\\u0432\\u043e \\u0441 \\u043e\\u0433\\u0440\\u0430\\u043d\\u0438\\u0447\\u0435\\u043d\\u043d\\u043e\\u0439 \\u043e\\u0442\\u0432\\u0435\\u0442\\u0441\\u0442\\u0432\\u0435\\u043d\\u043d\\u043e\\u0441\\u0442\\u044c\\u044e \\\"\\u0421\\u0422\\u0420\\u041e\\u0419\\u0411\\u0418\\u0417\\u041d\\u0415\\u0421\\\"\",\"\\u041e\\u0411\\u0429\\u0415\\u0421\\u0422\\u0412\\u041e \\u0421 \\u041e\\u0413\\u0420\\u0410\\u041d\\u0418\\u0427\\u0415\\u041d\\u041d\\u041e\\u0419 \\u041e\\u0422\\u0412\\u0415\\u0422\\u0421\\u0422\\u0412\\u0415\\u041d\\u041d\\u041e\\u0421\\u0422\\u042c\\u042e \\\"\\u041a\\u0423\\u0411\\u0410\\u041d\\u042c\\u0411\\u0423\\u0420\\u0412\\u041e\\u0414\\\"\",\"\\u041e\\u0431\\u0449\\u0435\\u0441\\u0442\\u0432\\u043e \\u0441 \\u043e\\u0433\\u0440\\u0430\\u043d\\u0438\\u0447\\u0435\\u043d\\u043d\\u043e\\u0439 \\u043e\\u0442\\u0432\\u0435\\u0442\\u0441\\u0442\\u0432\\u0435\\u043d\\u043d\\u043e\\u0441\\u0442\\u044c\\u044e \\\"\\u0412\\u041e\\u041b\\u0413\\u041e\\u042d\\u041d\\u0415\\u0420\\u0413\\u041e\\u0421\\u0422\\u0420\\u041e\\u0419\\\"\",\"\\u041e\\u0431\\u0449\\u0435\\u0441\\u0442\\u0432\\u043e \\u0441 \\u043e\\u0433\\u0440\\u0430\\u043d\\u0438\\u0447\\u0435\\u043d\\u043d\\u043e\\u0439 \\u043e\\u0442\\u0432\\u0435\\u0442\\u0441\\u0442\\u0432\\u0435\\u043d\\u043d\\u043e\\u0441\\u0442\\u044c\\u044e \\\"\\u0420\\u0435\\u0433\\u0438\\u043e\\u043d\\u0421\\u0442\\u0440\\u043e\\u0439\\\"\",\"\\u041e\\u0431\\u0449\\u0435\\u0441\\u0442\\u0432\\u043e \\u0441 \\u043e\\u0433\\u0440\\u0430\\u043d\\u0438\\u0447\\u0435\\u043d\\u043d\\u043e\\u0439 \\u043e\\u0442\\u0432\\u0435\\u0442\\u0441\\u0442\\u0432\\u0435\\u043d\\u043d\\u043e\\u0441\\u0442\\u044c\\u044e \\\"\\u0412\\u0418\\u0414\\u0416\\u041e\\\"\",\"\\u041e\\u0431\\u0449\\u0435\\u0441\\u0442\\u0432\\u043e \\u0441 \\u043e\\u0433\\u0440\\u0430\\u043d\\u0438\\u0447\\u0435\\u043d\\u043d\\u043e\\u0439 \\u043e\\u0442\\u0432\\u0435\\u0442\\u0441\\u0442\\u0432\\u0435\\u043d\\u043d\\u043e\\u0441\\u0442\\u044c\\u044e \\\"\\u041a\\u041e\\u0421\\u041e\\u0423\\u0420\\\"\",\"\\u041e\\u0431\\u0449\\u0435\\u0441\\u0442\\u0432\\u043e \\u0441 \\u043e\\u0433\\u0440\\u0430\\u043d\\u0438\\u0447\\u0435\\u043d\\u043d\\u043e\\u0439 \\u043e\\u0442\\u0432\\u0435\\u0442\\u0441\\u0442\\u0432\\u0435\\u043d\\u043d\\u043e\\u0441\\u0442\\u044c\\u044e \\\"\\u0410\\u0437\\u043e\\u043d\\\"\",\"\\u041e\\u0431\\u0449\\u0435\\u0441\\u0442\\u0432\\u043e \\u0441 \\u043e\\u0433\\u0440\\u0430\\u043d\\u0438\\u0447\\u0435\\u043d\\u043d\\u043e\\u0439 \\u043e\\u0442\\u0432\\u0435\\u0442\\u0441\\u0442\\u0432\\u0435\\u043d\\u043d\\u043e\\u0441\\u0442\\u044c\\u044e \\\"\\u041e\\u0431\\u044a\\u0435\\u0434\\u0438\\u043d\\u0435\\u043d\\u043d\\u0430\\u044f \\u0421\\u0442\\u0440\\u043e\\u0438\\u0442\\u0435\\u043b\\u044c\\u043d\\u0430\\u044f \\u041a\\u043e\\u043c\\u043f\\u0430\\u043d\\u0438\\u044f\\\"\",\"\\u041e\\u0411\\u0429\\u0415\\u0421\\u0422\\u0412\\u041e \\u0421 \\u041e\\u0413\\u0420\\u0410\\u041d\\u0418\\u0427\\u0415\\u041d\\u041d\\u041e\\u0419 \\u041e\\u0422\\u0412\\u0415\\u0422\\u0421\\u0422\\u0412\\u0415\\u041d\\u041d\\u041e\\u0421\\u0422\\u042c\\u042e \\\"\\u0421\\u0422\\u0420\\u041e\\u0418\\u0422\\u0415\\u041b\\u042c\\u041d\\u0410\\u042f \\u041a\\u041e\\u041c\\u041f\\u0410\\u041d\\u0418\\u042f \\\"\\u0421\\u0422\\u0420\\u041e\\u0419\\u0411\\u0418\\u0417\\u041d\\u0415\\u0421-\\u0423\\u0420\\u0410\\u041b\\\"\",\"\\u041e\\u0431\\u0449\\u0435\\u0441\\u0442\\u0432\\u043e \\u0441 \\u043e\\u0433\\u0440\\u0430\\u043d\\u0438\\u0447\\u0435\\u043d\\u043d\\u043e\\u0439 \\u043e\\u0442\\u0432\\u0435\\u0442\\u0441\\u0442\\u0432\\u0435\\u043d\\u043d\\u043e\\u0441\\u0442\\u044c\\u044e \\\"\\u0413\\u0418\\u0414\\u0420\\u041e-\\u0422\\u0415\\u0420\\u041c\\\"\",\"\\u041e\\u0411\\u0429\\u0415\\u0421\\u0422\\u0412\\u041e \\u0421 \\u041e\\u0413\\u0420\\u0410\\u041d\\u0418\\u0427\\u0415\\u041d\\u041d\\u041e\\u0419 \\u041e\\u0422\\u0412\\u0415\\u0422\\u0421\\u0422\\u0412\\u0415\\u041d\\u041d\\u041e\\u0421\\u0422\\u042c\\u042e \\\"\\u0421\\u041f\\u0415\\u0426\\u0418\\u0410\\u041b\\u042c\\u041d\\u041e\\u0415 \\u0418 \\u0422\\u0420\\u0410\\u041d\\u0421\\u041f\\u041e\\u0420\\u0422\\u041d\\u041e\\u0415 \\u0421\\u0422\\u0420\\u041e\\u0418\\u0422\\u0415\\u041b\\u042c\\u0421\\u0422\\u0412\\u041e\\\"\",\"\\u041e\\u0431\\u0449\\u0435\\u0441\\u0442\\u0432\\u043e \\u0441 \\u043e\\u0433\\u0440\\u0430\\u043d\\u0438\\u0447\\u0435\\u043d\\u043d\\u043e\\u0439 \\u043e\\u0442\\u0432\\u0435\\u0442\\u0441\\u0442\\u0432\\u0435\\u043d\\u043d\\u043e\\u0441\\u0442\\u044c\\u044e \\\"\\u041f\\u0415\\u0420\\u0421\\u041f\\u0415\\u041a\\u0422\\u0418\\u0412\\u0410\\\"\",\"\\u041e\\u0431\\u0449\\u0435\\u0441\\u0442\\u0432\\u043e \\u0441 \\u043e\\u0433\\u0440\\u0430\\u043d\\u0438\\u0447\\u0435\\u043d\\u043d\\u043e\\u0439 \\u043e\\u0442\\u0432\\u0435\\u0442\\u0441\\u0442\\u0432\\u0435\\u043d\\u043d\\u043e\\u0441\\u0442\\u044c\\u044e \\\"\\u0412\\u0418\\u0420\\u041a\\u0420\\u0410\\u0424\\u0422 \\u0418\\u041d\\u0416\\u0418\\u041d\\u0418\\u0420\\u0418\\u041d\\u0413\\\"\"],\"lat\":{\"dtype\":\"f8\",\"bdata\":\"MhNWdDX4TUA8kRYdf1pIQKz1j8916ktAa2PshJfWS0A8kRYdf1pIQGMSiZ2E4EtAMhNWdDX4TUBZmM8DaRJMQKt+AK1Ua0xAGVzOAHLkS0BrY+yEl9ZLQN5oEZvZt0tAYxKJnYTgS0BrY+yEl9ZLQICyzp0FvkVAYxKJnYTgS0BjEomdhOBLQKt+AK1Ua0xAMhNWdDX4TUBjEomdhOBLQDBzcJ8L3ElAB5BGqpSTTEBrY+yEl9ZLQIpTUszmbUxAa2PshJfWS0BXtaSjHE5KQGtj7ISX1ktA7aWEuw7hS0BXtaSjHE5KQN5oEZvZt0tAwEzKk1oESkDfpGlQNCVJQKt+AK1Ua0xAidrs\\u002fmc\\u002fRkCrfgCtVGtMQGtj7ISX1ktAMhNWdDX4TUCJwngXObRNQGMSiZ2E4EtAwuM2dXmcR0CdLLXeb3BGQGMSiZ2E4EtAMhNWdDX4TUB4lzA\\u002fXDpQQMWmOomt5UtAxaY6ia3lS0AyE1Z0NfhNQEErMGR13EpAf\\u002f7WqU1\\u002fS0BrY+yEl9ZLQMWmOomt5UtAMhNWdDX4TUD1IiQcxEBLQGHjVTHwykVAPNo4Yi1kS0AyE1Z0NfhNQOJFFbR\\u002fTElAMhNWdDX4TUDiRRW0f0xJQGtj7ISX1ktAa2PshJfWS0BjEomdhOBLQFGFP8Obg0tAgvItYo5aS0AbAcsAhiJQQI3TEFX4nkpAnSy13m9wRkBRhT\\u002fDm4NLQDO9aZ8zAUxAMhNWdDX4TUA6B8+EJm1MQDITVnQ1+E1AMhNWdDX4TUDFpjqJreVLQGtj7ISX1ktAYxKJnYTgS0AyE1Z0NfhNQD4t9eJ6KUxAYxKJnYTgS0CmYmNeR6ZLQL\\u002f\\u002fRYYLrUVAM1zTclbGS0B0uoffqCRKQGtj7ISX1ktAGjIepRJeS0AyE1Z0NfhNQGMSiZ2E4EtAGjIepRJeS0AzvWmfMwFMQMJ7WLlheUZAa2PshJfWS0AkJk0o6Y5FQKz1j8916ktAYxKJnYTgS0Cvk\\u002fqytKhFQBXJVwIpjUtAEVxAw\\u002faYSkDFpjqJreVLQDITVnQ1+E1AtMnhk041RkBrY+yEl9ZLQFuxv+yexktAPJEWHX9aSEBjEomdhOBLQGtj7ISX1ktAa2PshJfWS0AkJk0o6Y5FQGTKh6BqJ0tAxaY6ia3lS0AKE0azsoVGQIwRiULLn01APMSaJVzbSkBRhT\\u002fDm4NLQKy5ktON9EtAZMqHoGonS0Cz0qQUdNRLQApYYekyUUxAj7wYb9DQS0AkJk0o6Y5FQGtj7ISX1ktAYJM16iGNTEDwdJ38zFlRQMWmOomt5UtAYxKJnYTgS0AyE1Z0NfhNQBFM2vkjhUZAMhNWdDX4TUCMEYlCy59NQDITVnQ1+E1At5ifG5oDT0D4h9KDJ9pNQGMSiZ2E4EtAYxKJnYTgS0BrY+yEl9ZLQGtj7ISX1ktARS44g7\\u002fxS0BjEomdhOBLQC1JVF7hZEpAYxKJnYTgS0BjEomdhOBLQGMSiZ2E4EtAYxKJnYTgS0CMUMe+v5JKQDO9aZ8zAUxAEUza+SOFRkDFpjqJreVLQK+T+rK0qEVAgvItYo5aS0BXtaSjHE5KQKz1j8916ktAgABjx5ByRkAkJk0o6Y5FQGMSiZ2E4EtAYxKJnYTgS0BjEomdhOBLQGMSiZ2E4EtAq34ArVRrTEBjEomdhOBLQGMSiZ2E4EtAB5BGqpSTTEAzvWmfMwFMQIpTUszmbUxAYxKJnYTgS0DCe1i5YXlGQDITVnQ1+E1AYxKJnYTgS0BjdIqfEN1LQJ0std5vcEZAOPrzyHpaSEBjEomdhOBLQGMSiZ2E4EtAq34ArVRrTEBK8reY+qVJQILyLWKOWktAMhNWdDX4TUBrY+yEl9ZLQMWmOomt5UtAq34ArVRrTEAkJk0o6Y5FQPgf9McPfktAV7WkoxxOSkAaMh6lEl5LQGtj7ISX1ktAYxKJnYTgS0BrY+yEl9ZLQGMSiZ2E4EtAB5BGqpSTTEBjEomdhOBLQKt+AK1Ua0xAV1gVhm10TEBjEomdhOBLQNuY6D3fcklAzHRU2ofMS0BjEomdhOBLQDITVnQ1+E1AfsCoSZUYS0BjEomdhOBLQICUffxK8E1AMhNWdDX4TUCdLLXeb3BGQFOc\\u002fkcBNEtAMhNWdDX4TUCZQSGnVBJMQDITVnQ1+E1AYxKJnYTgS0AzvWmfMwFMQKVjc3qDlEtAwxuIG6afTEDl8EknEndKQDITVnQ1+E1AYxKJnYTgS0D4H\\u002fTHD35LQDITVnQ1+E1AB8g8l06ATkCs9Y\\u002fPdepLQGMSiZ2E4EtAYxKJnYTgS0BjEomdhOBLQBFM2vkjhUZAYxKJnYTgS0DOnD+34bhLQI+8GG\\u002fQ0EtAEUza+SOFRkAzvWmfMwFMQDzaOGItZEtAYZXBB2XUSUBjEomdhOBLQKt+AK1Ua0xAV7WkoxxOSkC752W5EX5FQBgip6\\u002fn1ktAfsCoSZUYS0BjEomdhOBLQL\\u002f\\u002fRYYLrUVA4kUVtH9MSUBGe7yQDlBLQJuB2yRQAU1AlZo90Ao6SUBjEomdhOBLQDITVnQ1+E1AtzMC4I7PTEC5\\u002fl2fOXRMQBFcQMP2mEpAa2PshJfWS0DFpjqJreVLQBu9dVmn\\u002fEtAq34ArVRrTEA01M1qJttPQIpTUszmbUxAYxKJnYTgS0BFLjiDv\\u002fFLQGtj7ISX1ktAYxKJnYTgS0ARXEDD9phKQCQmTSjpjkVAMhNWdDX4TUCr0Qa7vEJNQKt+AK1Ua0xAdLqH36gkSkBjEomdhOBLQFGFP8Obg0tAEU6wpIGyS0ALkA1J0hlNQF0+SAUEDkxApWNzeoOUS0BjEomdhOBLQJ0std5vcEZAMhNWdDX4TUAyE1Z0NfhNQKy5ktON9EtAjBGJQsufTUBjEomdhOBLQDITVnQ1+E1APi314nopTECxjdNrDrJLQOUiY1pATU1A1gNB28V6R0BjEomdhOBLQHi6Tn7mnEVAh00JLZAETEBrY+yEl9ZLQGMSiZ2E4EtABzdj4qDCSkBXtaSjHE5KQD4t9eJ6KUxAMhNWdDX4TUCrfgCtVGtMQJSocjUNYUtAOgfPhCZtTEAyE1Z0NfhNQAoTRrOyhUZA+QfbmVMBTEBK8reY+qVJQDITVnQ1+E1AClhh6TJRTEBjEomdhOBLQKz1j8916ktAEUza+SOFRkCKU1LM5m1MQNYDQdvFekdAYxKJnYTgS0CMEYlCy59NQEqm+RnN5ElApMaEmEvESUDFpjqJreVLQKt+AK1Ua0xAYxKJnYTgS0DFpjqJreVLQGMSiZ2E4EtAYxKJnYTgS0CrfgCtVGtMQGMSiZ2E4EtAa2PshJfWS0BjEomdhOBLQGHjVTHwykVAMhNWdDX4TUARXEDD9phKQDwFr0yuC0xAwntYuWF5RkC3mJ8bmgNPQKVjc3qDlEtAxaY6ia3lS0DFpjqJreVLQDITVnQ1+E1Aa2PshJfWS0AyE1Z0NfhNQGtj7ISX1ktAidrs\\u002fmc\\u002fRkCrfgCtVGtMQOUiY1pATU1AYxKJnYTgS0CdLLXeb3BGQFmYzwNpEkxAYxKJnYTgS0BjEomdhOBLQKt+AK1Ua0xAYxKJnYTgS0BrY+yEl9ZLQIeNDTgmo1BAa2PshJfWS0AHkEaqlJNMQKy5ktON9EtAMhNWdDX4TUAfe2JCcZZKQGMSiZ2E4EtAqYAg5cyYRUARTNr5I4VGQLR4DOq2ZUhAMhNWdDX4TUBjEomdhOBLQGMSiZ2E4EtAGjIepRJeS0ClY3N6g5RLQO0t5Xyx\\u002fEtAEUza+SOFRkAaMh6lEl5LQDITVnQ1+E1AYxKJnYTgS0BjEomdhOBLQN4FpcOeEk9AUYU\\u002fw5uDS0C3MwLgjs9MQFGFP8Obg0tAEVxAw\\u002faYSkBjEomdhOBLQGuOvSiLrEpAPJ3QkJZdTUCdLLXeb3BGQDITVnQ1+E1AYxKJnYTgS0DWA0HbxXpHQGtj7ISX1ktAMhNWdDX4TUDWA0HbxXpHQGtj7ISX1ktAYxKJnYTgS0AyE1Z0NfhNQGMSiZ2E4EtAYxKJnYTgS0B4uk5+5pxFQGtj7ISX1ktAMhNWdDX4TUAyE1Z0NfhNQGtj7ISX1ktAYxKJnYTgS0AyE1Z0NfhNQBgip6\\u002fn1ktA9SIkHMRAS0BZmM8DaRJMQHEvergu70tAYxKJnYTgS0Cs9Y\\u002fPdepLQDyRFh1\\u002fWkhAqSORxx3CR0BrY+yEl9ZLQK+T+rK0qEVAYxKJnYTgS0A+LfXieilMQJuB2yRQAU1AicJ4Fzm0TUBMNh5ssRdMQGMSiZ2E4EtAMhNWdDX4TUBjEomdhOBLQIeNDTgmo1BAMhNWdDX4TUBrY+yEl9ZLQLR4DOq2ZUhAM71pnzMBTEBrY+yEl9ZLQBqhRPBkEExAYxKJnYTgS0AyE1Z0NfhNQMBNkCJ8O0hAYZXBB2XUSUC3MwLgjs9MQGtj7ISX1ktAYZXBB2XUSUBh41Ux8MpFQLGN02sOsktAwntYuWF5RkAyE1Z0NfhNQFzFh34SjEtARS44g7\\u002fxS0AaMh6lEl5LQBFcQMP2mEpAwntYuWF5RkBjEomdhOBLQGMSiZ2E4EtAwuM2dXmcR0DpuvCD86tLQILyLWKOWktA4kUVtH9MSUCa+i\\u002fGdmlFQFGFP8Obg0tAa2PshJfWS0Brjr0oi6xKQAeQRqqUk0xAlKhyNQ1hS0D\\u002fYaZIGXZLQIvl8Q+2BUZAJCZNKOmORUBrY+yEl9ZLQGMSiZ2E4EtAq34ArVRrTEBjEomdhOBLQDITVnQ1+E1AnSy13m9wRkBjEomdhOBLQKcUKu4uuEtAMhNWdDX4TUBChG7l2+BLQGtj7ISX1ktAa2PshJfWS0CzNAHQcq9OQGMSiZ2E4EtAMhNWdDX4TUA8kRYdf1pIQGMSiZ2E4EtAYxKJnYTgS0BrY+yEl9ZLQGMSiZ2E4EtAtxz5zQ5ORkCL5fEPtgVGQLPSpBR01EtAnSy13m9wRkBjEomdhOBLQGMSiZ2E4EtAYxKJnYTgS0BcYbDRKBdLQHQfJRu0lktAXlJrUOpjT0AaMh6lEl5LQGGVwQdl1ElAe6NWmL5FSkClarsJvgVOQGMSiZ2E4EtAk\\u002fZQ7LLqSUDC4zZ1eZxHQGMSiZ2E4EtAr5P6srSoRUBrY+yEl9ZLQDITVnQ1+E1A+Q24U1+FUECbgdskUAFNQHEvergu70tActwpHazlSkBjEomdhOBLQBFM2vkjhUZAEVxAw\\u002faYSkARXEDD9phKQGtj7ISX1ktAMhNWdDX4TUDFpjqJreVLQMWmOomt5UtAq34ArVRrTEBFLjiDv\\u002fFLQFGFP8Obg0tAidrs\\u002fmc\\u002fRkBjEomdhOBLQA==\"},\"legendgroup\":\"\",\"lon\":{\"dtype\":\"f8\",\"bdata\":\"F8s+2d5QPkAwtrUqLkJGQL8Uee0tqkJAKVyPwvXyQkAwtrUqLkJGQC+jWG5pz0JAF8s+2d5QPkBfNYWE3p9HQHFCfLuATU5AKPG5E+w4Q0ApXI\\u002fC9fJCQNo3nJ4c4kJAL6NYbmnPQkApXI\\u002fC9fJCQNI1k2+2zUVAL6NYbmnPQkAvo1huac9CQHFCfLuATU5AF8s+2d5QPkAvo1huac9CQBY2XhUDnFdAJ8qUxTNiUEApXI\\u002fC9fJCQL0Fbc2x9EFAKVyPwvXyQkCPReQFIsxDQClcj8L18kJAMLFDRlHuQkCPReQFIsxDQNo3nJ4c4kJA1edqK\\u002fZfXEAQIa6cveFfQHFCfLuATU5AFoielEkVQUBxQny7gE1OQClcj8L18kJAF8s+2d5QPkDRLSqY52ZMQC+jWG5pz0JAI6KYvAHcQ0Dv5NNjW5hDQC+jWG5pz0JAF8s+2d5QPkD9XlSctHBTQPoK0oxFjkhA+grSjEWOSEAXyz7Z3lA+QHPpqR9l3FZAKwma4GWsVEApXI\\u002fC9fJCQPoK0oxFjkhAF8s+2d5QPkCpL0s7NSBCQAT5I1aQ3ENAP47myMoFQEAXyz7Z3lA+QOEzyBP3SkJAF8s+2d5QPkDhM8gT90pCQClcj8L18kJAKVyPwvXyQkAvo1huac9CQMUPhBr0ulRA\\u002f\\u002fgB\\u002ft+BNEAHKdPDK0JEQMiCHVq\\u002fLkFA7+TTY1uYQ0DFD4Qa9LpUQF5eygqPNldAF8s+2d5QPkDZuFkXEptKQBfLPtneUD5AF8s+2d5QPkD6CtKMRY5IQClcj8L18kJAL6NYbmnPQkAXyz7Z3lA+QGqXgKmwAEZAL6NYbmnPQkA3B75YzgBKQGdD\\u002fplBDUdACS77Gu4iQ0ClXZbA9xFaQClcj8L18kJABEpUuZr6S0AXyz7Z3lA+QC+jWG5pz0JABEpUuZr6S0BeXsoKjzZXQPoqVJLQDEFAKVyPwvXyQkBJdraRPHxgQL8Uee0tqkJAL6NYbmnPQkCqC3iZYdlGQDfOXJZlYENAyZ+5mLANSUD6CtKMRY5IQBfLPtneUD5A\\u002fmrEgrEFQUApXI\\u002fC9fJCQGc+jLVk2kJAMLa1Ki5CRkAvo1huac9CQClcj8L18kJAKVyPwvXyQkBJdraRPHxgQFy5zQr7L0hA+grSjEWOSEDlub4PB\\u002fxEQE5ST9Xz6kNA59Ku+DwKR0DFD4Qa9LpUQFxTxflA3kJAXLnNCvsvSEBuVW2Seu5CQEYukzwy80dAVpaNc0DoSUBJdraRPHxgQClcj8L18kJAV3K60WzdRECYaDXJNIxVQPoK0oxFjkhAL6NYbmnPQkAXyz7Z3lA+QHVGSmnsfENAF8s+2d5QPkBOUk\\u002fV8+pDQBfLPtneUD5Aan3bXXE3YEDFgNvJlsk+QC+jWG5pz0JAL6NYbmnPQkApXI\\u002fC9fJCQClcj8L18kJAJBbnXha3QkAvo1huac9CQBeNazKZIUpAL6NYbmnPQkAvo1huac9CQC+jWG5pz0JAL6NYbmnPQkAPqO0VzAtDQF5eygqPNldAdUZKaex8Q0D6CtKMRY5IQKoLeJlh2UZA\\u002f\\u002fgB\\u002ft+BNECPReQFIsxDQL8Uee0tqkJAuuZEcX2oQkBJdraRPHxgQC+jWG5pz0JAL6NYbmnPQkAvo1huac9CQC+jWG5pz0JAcUJ8u4BNTkAvo1huac9CQC+jWG5pz0JAJ8qUxTNiUEBeXsoKjzZXQL0Fbc2x9EFAL6NYbmnPQkD6KlSS0AxBQBfLPtneUD5AL6NYbmnPQkDAT2bN2YxKQO\\u002fk02NbmENAMiw1MRNIRkAvo1huac9CQC+jWG5pz0JAcUJ8u4BNTkBLSFrg4epCQP\\u002f4Af7fgTRAF8s+2d5QPkApXI\\u002fC9fJCQPoK0oxFjkhAcUJ8u4BNTkBJdraRPHxgQASXIlSEV1JAj0XkBSLMQ0AESlS5mvpLQClcj8L18kJAL6NYbmnPQkApXI\\u002fC9fJCQC+jWG5pz0JAJ8qUxTNiUEAvo1huac9CQHFCfLuATU5AtNQwMrdoTkAvo1huac9CQGH\\u002f0CcNxWFAAfULGwqFQkAvo1huac9CQBfLPtneUD5A0bzS6MTOQkAvo1huac9CQKRjGMEQIT1AF8s+2d5QPkDv5NNjW5hDQHZSX5Z2n0pAF8s+2d5QPkAUNHc+TRVGQBfLPtneUD5AL6NYbmnPQkBeXsoKjzZXQKl9hKtNs05AzhTf9T4MTkBzPRsD\\u002fMxjQBfLPtneUD5AL6NYbmnPQkAElyJUhFdSQBfLPtneUD5AvijmxS5BUUC\\u002fFHntLapCQC+jWG5pz0JAL6NYbmnPQkAvo1huac9CQHVGSmnsfENAL6NYbmnPQkBw52ePPFRQQFaWjXNA6ElAdUZKaex8Q0BeXsoKjzZXQD+O5sjKBUBAr6oDxTSZQ0Avo1huac9CQHFCfLuATU5Aj0XkBSLMQ0CBmUqamsBHQN80fXbAoUJA0bzS6MTOQkAvo1huac9CQGdD\\u002fplBDUdA4TPIE\\u002fdKQkDb86GwMN5DQFbOg2D6HUxAG9ZUFoURREAvo1huac9CQBfLPtneUD5ANWMsLunyQ0AoRpbMsfhNQMmfuZiwDUlAKVyPwvXyQkD6CtKMRY5IQIld29stAkhAcUJ8u4BNTkAsx3WdV6tQQL0Fbc2x9EFAL6NYbmnPQkAkFudeFrdCQClcj8L18kJAL6NYbmnPQkDJn7mYsA1JQEl2tpE8fGBAF8s+2d5QPkBswgfAiUY\\u002fQHFCfLuATU5ApV2WwPcRWkAvo1huac9CQMUPhBr0ulRAAsLiy5\\u002frRUCYuWUsPxBRQHBS4oRTvUdAqX2Eq02zTkAvo1huac9CQO\\u002fk02NbmENAF8s+2d5QPkAXyz7Z3lA+QFxTxflA3kJATlJP1fPqQ0Avo1huac9CQBfLPtneUD5AapeAqbAARkDRapJp\\u002foJVQIoATL5+1UhAdCfYf53XYUAvo1huac9CQEffSbDdYUZAw2y4frD6QUApXI\\u002fC9fJCQC+jWG5pz0JARHxx89exSECPReQFIsxDQGqXgKmwAEZAF8s+2d5QPkBxQny7gE1OQGGMSBTaxlRA2bhZFxKbSkAXyz7Z3lA+QOW5vg8H\\u002fERA08\\u002flF2\\u002fsQkBLSFrg4epCQBfLPtneUD5ARi6TPDLzR0Avo1huac9CQL8Uee0tqkJAdUZKaex8Q0C9BW3NsfRBQHQn2H+d12FAL6NYbmnPQkBOUk\\u002fV8+pDQDAD334KjUtAXFSLiGIER0D6CtKMRY5IQHFCfLuATU5AL6NYbmnPQkD6CtKMRY5IQC+jWG5pz0JAL6NYbmnPQkBxQny7gE1OQC+jWG5pz0JAKVyPwvXyQkAvo1huac9CQAT5I1aQ3ENAF8s+2d5QPkDJn7mYsA1JQE6zQLtD8EhA+ipUktAMQUBqfdtdcTdgQKl9hKtNs05A+grSjEWOSED6CtKMRY5IQBfLPtneUD5AKVyPwvXyQkAXyz7Z3lA+QClcj8L18kJAFoielEkVQUBxQny7gE1OQIoATL5+1UhAL6NYbmnPQkDv5NNjW5hDQF81hYTen0dAL6NYbmnPQkAvo1huac9CQHFCfLuATU5AL6NYbmnPQkApXI\\u002fC9fJCQN3kXC\\u002fyplBAKVyPwvXyQkAnypTFM2JQQFxTxflA3kJAF8s+2d5QPkCsrdhfdoRGQC+jWG5pz0JAdWUG4FVERkB1Rkpp7HxDQHvRaLx+nWBAF8s+2d5QPkAvo1huac9CQC+jWG5pz0JABEpUuZr6S0CpfYSrTbNOQA0ViEPb9UJAdUZKaex8Q0AESlS5mvpLQBfLPtneUD5AL6NYbmnPQkAvo1huac9CQERWEjRBWVBAxQ+EGvS6VEA1Yywu6fJDQMUPhBr0ulRAyZ+5mLANSUAvo1huac9CQIlNGlno8VRArDGNy10VSUDv5NNjW5hDQBfLPtneUD5AL6NYbmnPQkB0J9h\\u002fnddhQClcj8L18kJAF8s+2d5QPkB0J9h\\u002fnddhQClcj8L18kJAL6NYbmnPQkAXyz7Z3lA+QC+jWG5pz0JAL6NYbmnPQkBH30mw3WFGQClcj8L18kJAF8s+2d5QPkAXyz7Z3lA+QClcj8L18kJAL6NYbmnPQkAXyz7Z3lA+QN80fXbAoUJAqS9LOzUgQkBfNYWE3p9HQH\\u002fv27UpO0NAL6NYbmnPQkC\\u002fFHntLapCQDC2tSouQkZASHWVSWgZRUApXI\\u002fC9fJCQKoLeJlh2UZAL6NYbmnPQkBql4CpsABGQFbOg2D6HUxA0S0qmOdmTEAkRzoDI31CQC+jWG5pz0JAF8s+2d5QPkAvo1huac9CQN3kXC\\u002fyplBAF8s+2d5QPkApXI\\u002fC9fJCQHvRaLx+nWBAXl7KCo82V0ApXI\\u002fC9fJCQHY6665HNERAL6NYbmnPQkAXyz7Z3lA+QAvHPafq4WBAr6oDxTSZQ0A1Yywu6fJDQClcj8L18kJAr6oDxTSZQ0AE+SNWkNxDQNFqkmn+glVA+ipUktAMQUAXyz7Z3lA+QFol\\u002fWJbTkJAJBbnXha3QkAESlS5mvpLQMmfuZiwDUlA+ipUktAMQUAvo1huac9CQC+jWG5pz0JAI6KYvAHcQ0AeiCzSxBdCQP\\u002f4Af7fgTRA4TPIE\\u002fdKQkCtLkxLkZxgQMUPhBr0ulRAKVyPwvXyQkCJTRpZ6PFUQCfKlMUzYlBAYYxIFNrGVEByFTAmorNCQKmVU0zvbUVASXa2kTx8YEApXI\\u002fC9fJCQC+jWG5pz0JAcUJ8u4BNTkAvo1huac9CQBfLPtneUD5A7+TTY1uYQ0Avo1huac9CQI4qeSsByUJAF8s+2d5QPkC+SXjn9QZKQClcj8L18kJAKVyPwvXyQkBmdWFaishPQC+jWG5pz0JAF8s+2d5QPkAwtrUqLkJGQC+jWG5pz0JAL6NYbmnPQkApXI\\u002fC9fJCQC+jWG5pz0JAdH9QcuIMRECplVNM721FQG5VbZJ67kJA7+TTY1uYQ0Avo1huac9CQC+jWG5pz0JAL6NYbmnPQkBiOfh415dGQMP4xJUOVEJASIVWzO2EYkAESlS5mvpLQK+qA8U0mUNAvoV14934WUCjgnl+B3U+QC+jWG5pz0JAAgbu5WPlWkAjopi8AdxDQC+jWG5pz0JAqgt4mWHZRkApXI\\u002fC9fJCQBfLPtneUD5Aosc5+5QrU0BWzoNg+h1MQH\\u002fv27UpO0NAeXdkrLbNVUAvo1huac9CQHVGSmnsfENAyZ+5mLANSUDJn7mYsA1JQClcj8L18kJAF8s+2d5QPkD6CtKMRY5IQPoK0oxFjkhAcUJ8u4BNTkAkFudeFrdCQMUPhBr0ulRAFoielEkVQUAvo1huac9CQA==\"},\"marker\":{\"color\":\"fuchsia\"},\"mode\":\"markers\",\"name\":\"\",\"showlegend\":false,\"subplot\":\"map\",\"type\":\"scattermap\"}],                        {\"template\":{\"data\":{\"histogram2dcontour\":[{\"type\":\"histogram2dcontour\",\"colorbar\":{\"outlinewidth\":0,\"ticks\":\"\"},\"colorscale\":[[0.0,\"#0d0887\"],[0.1111111111111111,\"#46039f\"],[0.2222222222222222,\"#7201a8\"],[0.3333333333333333,\"#9c179e\"],[0.4444444444444444,\"#bd3786\"],[0.5555555555555556,\"#d8576b\"],[0.6666666666666666,\"#ed7953\"],[0.7777777777777778,\"#fb9f3a\"],[0.8888888888888888,\"#fdca26\"],[1.0,\"#f0f921\"]]}],\"choropleth\":[{\"type\":\"choropleth\",\"colorbar\":{\"outlinewidth\":0,\"ticks\":\"\"}}],\"histogram2d\":[{\"type\":\"histogram2d\",\"colorbar\":{\"outlinewidth\":0,\"ticks\":\"\"},\"colorscale\":[[0.0,\"#0d0887\"],[0.1111111111111111,\"#46039f\"],[0.2222222222222222,\"#7201a8\"],[0.3333333333333333,\"#9c179e\"],[0.4444444444444444,\"#bd3786\"],[0.5555555555555556,\"#d8576b\"],[0.6666666666666666,\"#ed7953\"],[0.7777777777777778,\"#fb9f3a\"],[0.8888888888888888,\"#fdca26\"],[1.0,\"#f0f921\"]]}],\"heatmap\":[{\"type\":\"heatmap\",\"colorbar\":{\"outlinewidth\":0,\"ticks\":\"\"},\"colorscale\":[[0.0,\"#0d0887\"],[0.1111111111111111,\"#46039f\"],[0.2222222222222222,\"#7201a8\"],[0.3333333333333333,\"#9c179e\"],[0.4444444444444444,\"#bd3786\"],[0.5555555555555556,\"#d8576b\"],[0.6666666666666666,\"#ed7953\"],[0.7777777777777778,\"#fb9f3a\"],[0.8888888888888888,\"#fdca26\"],[1.0,\"#f0f921\"]]}],\"contourcarpet\":[{\"type\":\"contourcarpet\",\"colorbar\":{\"outlinewidth\":0,\"ticks\":\"\"}}],\"contour\":[{\"type\":\"contour\",\"colorbar\":{\"outlinewidth\":0,\"ticks\":\"\"},\"colorscale\":[[0.0,\"#0d0887\"],[0.1111111111111111,\"#46039f\"],[0.2222222222222222,\"#7201a8\"],[0.3333333333333333,\"#9c179e\"],[0.4444444444444444,\"#bd3786\"],[0.5555555555555556,\"#d8576b\"],[0.6666666666666666,\"#ed7953\"],[0.7777777777777778,\"#fb9f3a\"],[0.8888888888888888,\"#fdca26\"],[1.0,\"#f0f921\"]]}],\"surface\":[{\"type\":\"surface\",\"colorbar\":{\"outlinewidth\":0,\"ticks\":\"\"},\"colorscale\":[[0.0,\"#0d0887\"],[0.1111111111111111,\"#46039f\"],[0.2222222222222222,\"#7201a8\"],[0.3333333333333333,\"#9c179e\"],[0.4444444444444444,\"#bd3786\"],[0.5555555555555556,\"#d8576b\"],[0.6666666666666666,\"#ed7953\"],[0.7777777777777778,\"#fb9f3a\"],[0.8888888888888888,\"#fdca26\"],[1.0,\"#f0f921\"]]}],\"mesh3d\":[{\"type\":\"mesh3d\",\"colorbar\":{\"outlinewidth\":0,\"ticks\":\"\"}}],\"scatter\":[{\"fillpattern\":{\"fillmode\":\"overlay\",\"size\":10,\"solidity\":0.2},\"type\":\"scatter\"}],\"parcoords\":[{\"type\":\"parcoords\",\"line\":{\"colorbar\":{\"outlinewidth\":0,\"ticks\":\"\"}}}],\"scatterpolargl\":[{\"type\":\"scatterpolargl\",\"marker\":{\"colorbar\":{\"outlinewidth\":0,\"ticks\":\"\"}}}],\"bar\":[{\"error_x\":{\"color\":\"#2a3f5f\"},\"error_y\":{\"color\":\"#2a3f5f\"},\"marker\":{\"line\":{\"color\":\"#E5ECF6\",\"width\":0.5},\"pattern\":{\"fillmode\":\"overlay\",\"size\":10,\"solidity\":0.2}},\"type\":\"bar\"}],\"scattergeo\":[{\"type\":\"scattergeo\",\"marker\":{\"colorbar\":{\"outlinewidth\":0,\"ticks\":\"\"}}}],\"scatterpolar\":[{\"type\":\"scatterpolar\",\"marker\":{\"colorbar\":{\"outlinewidth\":0,\"ticks\":\"\"}}}],\"histogram\":[{\"marker\":{\"pattern\":{\"fillmode\":\"overlay\",\"size\":10,\"solidity\":0.2}},\"type\":\"histogram\"}],\"scattergl\":[{\"type\":\"scattergl\",\"marker\":{\"colorbar\":{\"outlinewidth\":0,\"ticks\":\"\"}}}],\"scatter3d\":[{\"type\":\"scatter3d\",\"line\":{\"colorbar\":{\"outlinewidth\":0,\"ticks\":\"\"}},\"marker\":{\"colorbar\":{\"outlinewidth\":0,\"ticks\":\"\"}}}],\"scattermap\":[{\"type\":\"scattermap\",\"marker\":{\"colorbar\":{\"outlinewidth\":0,\"ticks\":\"\"}}}],\"scattermapbox\":[{\"type\":\"scattermapbox\",\"marker\":{\"colorbar\":{\"outlinewidth\":0,\"ticks\":\"\"}}}],\"scatterternary\":[{\"type\":\"scatterternary\",\"marker\":{\"colorbar\":{\"outlinewidth\":0,\"ticks\":\"\"}}}],\"scattercarpet\":[{\"type\":\"scattercarpet\",\"marker\":{\"colorbar\":{\"outlinewidth\":0,\"ticks\":\"\"}}}],\"carpet\":[{\"aaxis\":{\"endlinecolor\":\"#2a3f5f\",\"gridcolor\":\"white\",\"linecolor\":\"white\",\"minorgridcolor\":\"white\",\"startlinecolor\":\"#2a3f5f\"},\"baxis\":{\"endlinecolor\":\"#2a3f5f\",\"gridcolor\":\"white\",\"linecolor\":\"white\",\"minorgridcolor\":\"white\",\"startlinecolor\":\"#2a3f5f\"},\"type\":\"carpet\"}],\"table\":[{\"cells\":{\"fill\":{\"color\":\"#EBF0F8\"},\"line\":{\"color\":\"white\"}},\"header\":{\"fill\":{\"color\":\"#C8D4E3\"},\"line\":{\"color\":\"white\"}},\"type\":\"table\"}],\"barpolar\":[{\"marker\":{\"line\":{\"color\":\"#E5ECF6\",\"width\":0.5},\"pattern\":{\"fillmode\":\"overlay\",\"size\":10,\"solidity\":0.2}},\"type\":\"barpolar\"}],\"pie\":[{\"automargin\":true,\"type\":\"pie\"}]},\"layout\":{\"autotypenumbers\":\"strict\",\"colorway\":[\"#636efa\",\"#EF553B\",\"#00cc96\",\"#ab63fa\",\"#FFA15A\",\"#19d3f3\",\"#FF6692\",\"#B6E880\",\"#FF97FF\",\"#FECB52\"],\"font\":{\"color\":\"#2a3f5f\"},\"hovermode\":\"closest\",\"hoverlabel\":{\"align\":\"left\"},\"paper_bgcolor\":\"white\",\"plot_bgcolor\":\"#E5ECF6\",\"polar\":{\"bgcolor\":\"#E5ECF6\",\"angularaxis\":{\"gridcolor\":\"white\",\"linecolor\":\"white\",\"ticks\":\"\"},\"radialaxis\":{\"gridcolor\":\"white\",\"linecolor\":\"white\",\"ticks\":\"\"}},\"ternary\":{\"bgcolor\":\"#E5ECF6\",\"aaxis\":{\"gridcolor\":\"white\",\"linecolor\":\"white\",\"ticks\":\"\"},\"baxis\":{\"gridcolor\":\"white\",\"linecolor\":\"white\",\"ticks\":\"\"},\"caxis\":{\"gridcolor\":\"white\",\"linecolor\":\"white\",\"ticks\":\"\"}},\"coloraxis\":{\"colorbar\":{\"outlinewidth\":0,\"ticks\":\"\"}},\"colorscale\":{\"sequential\":[[0.0,\"#0d0887\"],[0.1111111111111111,\"#46039f\"],[0.2222222222222222,\"#7201a8\"],[0.3333333333333333,\"#9c179e\"],[0.4444444444444444,\"#bd3786\"],[0.5555555555555556,\"#d8576b\"],[0.6666666666666666,\"#ed7953\"],[0.7777777777777778,\"#fb9f3a\"],[0.8888888888888888,\"#fdca26\"],[1.0,\"#f0f921\"]],\"sequentialminus\":[[0.0,\"#0d0887\"],[0.1111111111111111,\"#46039f\"],[0.2222222222222222,\"#7201a8\"],[0.3333333333333333,\"#9c179e\"],[0.4444444444444444,\"#bd3786\"],[0.5555555555555556,\"#d8576b\"],[0.6666666666666666,\"#ed7953\"],[0.7777777777777778,\"#fb9f3a\"],[0.8888888888888888,\"#fdca26\"],[1.0,\"#f0f921\"]],\"diverging\":[[0,\"#8e0152\"],[0.1,\"#c51b7d\"],[0.2,\"#de77ae\"],[0.3,\"#f1b6da\"],[0.4,\"#fde0ef\"],[0.5,\"#f7f7f7\"],[0.6,\"#e6f5d0\"],[0.7,\"#b8e186\"],[0.8,\"#7fbc41\"],[0.9,\"#4d9221\"],[1,\"#276419\"]]},\"xaxis\":{\"gridcolor\":\"white\",\"linecolor\":\"white\",\"ticks\":\"\",\"title\":{\"standoff\":15},\"zerolinecolor\":\"white\",\"automargin\":true,\"zerolinewidth\":2},\"yaxis\":{\"gridcolor\":\"white\",\"linecolor\":\"white\",\"ticks\":\"\",\"title\":{\"standoff\":15},\"zerolinecolor\":\"white\",\"automargin\":true,\"zerolinewidth\":2},\"scene\":{\"xaxis\":{\"backgroundcolor\":\"#E5ECF6\",\"gridcolor\":\"white\",\"linecolor\":\"white\",\"showbackground\":true,\"ticks\":\"\",\"zerolinecolor\":\"white\",\"gridwidth\":2},\"yaxis\":{\"backgroundcolor\":\"#E5ECF6\",\"gridcolor\":\"white\",\"linecolor\":\"white\",\"showbackground\":true,\"ticks\":\"\",\"zerolinecolor\":\"white\",\"gridwidth\":2},\"zaxis\":{\"backgroundcolor\":\"#E5ECF6\",\"gridcolor\":\"white\",\"linecolor\":\"white\",\"showbackground\":true,\"ticks\":\"\",\"zerolinecolor\":\"white\",\"gridwidth\":2}},\"shapedefaults\":{\"line\":{\"color\":\"#2a3f5f\"}},\"annotationdefaults\":{\"arrowcolor\":\"#2a3f5f\",\"arrowhead\":0,\"arrowwidth\":1},\"geo\":{\"bgcolor\":\"white\",\"landcolor\":\"#E5ECF6\",\"subunitcolor\":\"white\",\"showland\":true,\"showlakes\":true,\"lakecolor\":\"white\"},\"title\":{\"x\":0.05},\"mapbox\":{\"style\":\"light\"}}},\"map\":{\"domain\":{\"x\":[0.0,1.0],\"y\":[0.0,1.0]},\"center\":{\"lat\":54.72485830899999,\"lon\":48.361222495599996},\"zoom\":3,\"style\":\"open-street-map\",\"bounds\":{\"west\":20,\"east\":170,\"south\":20,\"north\":90}},\"legend\":{\"tracegroupgap\":0},\"margin\":{\"t\":0,\"r\":0,\"l\":0,\"b\":0},\"height\":300,\"mapbox\":{\"center\":{\"lat\":54.72485830899999,\"lon\":48.361222495599996},\"zoom\":3}},                        {\"responsive\": true}                    ).then(function(){\n                            \nvar gd = document.getElementById('73afb841-d2a9-461d-92aa-357578da1b0f');\nvar x = new MutationObserver(function (mutations, observer) {{\n        var display = window.getComputedStyle(gd).display;\n        if (!display || display === 'none') {{\n            console.log([gd, 'removed!']);\n            Plotly.purge(gd);\n            observer.disconnect();\n        }}\n}});\n\n// Listen for the removal of the full notebook cells\nvar notebookContainer = gd.closest('#notebook-container');\nif (notebookContainer) {{\n    x.observe(notebookContainer, {childList: true});\n}}\n\n// Listen for the clearing of the current output cell\nvar outputEl = gd.closest('.output');\nif (outputEl) {{\n    x.observe(outputEl, {childList: true});\n}}\n\n                        })                };            </script>        </div>"
     },
     "metadata": {},
     "output_type": "display_data"
    }
   ],
   "source": [
    "data_top500_fig = data_top500[['fullName', 'address', 'inn', 'correction.financialResult.current2400', 'lat', 'lng']]\n",
    "data_top500_fig = data_top500_fig.rename(columns={'correction.financialResult.current2400': 'revenue'})\n",
    "\n",
    "fig = px.scatter_map(\n",
    "    data_top500_fig,\n",
    "    lat=\"lat\",\n",
    "    lon=\"lng\",\n",
    "    hover_name=\"fullName\",\n",
    "    hover_data=[\"address\", \"inn\", 'revenue'],\n",
    "    color_discrete_sequence=[\"fuchsia\"],\n",
    "    zoom=3,\n",
    "    height=300,\n",
    ")\n",
    "fig.update_layout(map_style=\"open-street-map\")\n",
    "fig.update_layout(margin={\"r\": 0, \"t\": 0, \"l\": 0, \"b\": 0})\n",
    "fig.update_layout(map_bounds={\"west\": 20, \"east\": 170, \"south\": 20, \"north\": 90})\n",
    "fig.show()\n",
    "fig.write_html(\"test_plot_ru.html\")"
   ],
   "metadata": {
    "collapsed": false,
    "pycharm": {
     "name": "#%%\n"
    }
   }
  },
  {
   "cell_type": "code",
   "execution_count": null,
   "outputs": [],
   "source": [],
   "metadata": {
    "collapsed": false,
    "pycharm": {
     "name": "#%%\n"
    }
   }
  }
 ],
 "metadata": {
  "kernelspec": {
   "display_name": "Python 3",
   "language": "python",
   "name": "python3"
  },
  "language_info": {
   "codemirror_mode": {
    "name": "ipython",
    "version": 2
   },
   "file_extension": ".py",
   "mimetype": "text/x-python",
   "name": "python",
   "nbconvert_exporter": "python",
   "pygments_lexer": "ipython2",
   "version": "2.7.6"
  }
 },
 "nbformat": 4,
 "nbformat_minor": 0
}